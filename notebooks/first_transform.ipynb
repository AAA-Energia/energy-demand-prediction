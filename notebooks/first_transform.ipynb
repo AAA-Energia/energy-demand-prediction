{
 "cells": [
  {
   "cell_type": "markdown",
   "metadata": {},
   "source": [
    "# Preprocesamiento"
   ]
  },
  {
   "cell_type": "code",
   "execution_count": 1,
   "metadata": {},
   "outputs": [],
   "source": [
    "import pandas as pd"
   ]
  },
  {
   "cell_type": "code",
   "execution_count": 2,
   "metadata": {},
   "outputs": [],
   "source": [
    "dict_mes = {'ene':'01',\n",
    "            'feb':'02',\n",
    "            'mar':'03',\n",
    "            'abr':'04',\n",
    "            'may':'05',\n",
    "            'jun':'06',\n",
    "            'jul':'07',\n",
    "            'ago':'08',\n",
    "            'sep':'09',\n",
    "            'oct':'10',\n",
    "            'nov':'11',\n",
    "            'dic':'12'\n",
    "        }"
   ]
  },
  {
   "cell_type": "code",
   "execution_count": 3,
   "metadata": {},
   "outputs": [],
   "source": [
    "df = pd.read_csv('../data/raw/Dataset_GCRNO.csv')"
   ]
  },
  {
   "cell_type": "markdown",
   "metadata": {},
   "source": [
    "Utilizamos minúscula para los nombres de cada característica, cambiamos el formato de los meses y año, y convertimos a formato datetime."
   ]
  },
  {
   "cell_type": "code",
   "execution_count": 4,
   "metadata": {},
   "outputs": [],
   "source": [
    "df.columns = map(str.lower, df.columns)\n",
    "\n",
    "df['fecha'] = df['fecha'].replace(dict_mes, regex=True)\n",
    "df['fecha'] = df['fecha'].apply(lambda x: x[0:6] + '20' + x[6:])\n",
    "df['fecha']= pd.to_datetime(df['fecha'], format='%d-%m-%Y')"
   ]
  },
  {
   "cell_type": "markdown",
   "metadata": {},
   "source": [
    "Extraemos dia, mes y año."
   ]
  },
  {
   "cell_type": "code",
   "execution_count": 6,
   "metadata": {},
   "outputs": [],
   "source": [
    "df['dia'] = pd.DatetimeIndex(df['fecha']).day\n",
    "df['mes'] = pd.DatetimeIndex(df['fecha']).month\n",
    "df['anio'] = pd.DatetimeIndex(df['fecha']).year"
   ]
  },
  {
   "cell_type": "markdown",
   "metadata": {},
   "source": [
    "Obtenemos la columna demanda_energia."
   ]
  },
  {
   "cell_type": "code",
   "execution_count": 7,
   "metadata": {},
   "outputs": [
    {
     "name": "stderr",
     "output_type": "stream",
     "text": [
      "<>:6: SyntaxWarning: invalid escape sequence '\\d'\n",
      "<>:6: SyntaxWarning: invalid escape sequence '\\d'\n",
      "C:\\Users\\andre\\AppData\\Local\\Temp\\ipykernel_33088\\1431015579.py:6: SyntaxWarning: invalid escape sequence '\\d'\n",
      "  df_long['hora'] = df_long['hora'].str.extract('(\\d+)').astype(int)\n"
     ]
    }
   ],
   "source": [
    "columnas_horas = [f'dem_gcrno_h{i}' for i in range(24)]\n",
    "\n",
    "df_long = df.melt(id_vars='fecha', value_vars=columnas_horas,\n",
    "                  var_name='hora', value_name='demanda_energia')\n",
    "\n",
    "df_long['hora'] = df_long['hora'].str.extract('(\\d+)').astype(int)\n",
    "df_long = df_long.sort_values(by=['fecha', 'hora']).reset_index(drop=True)\n",
    "\n",
    "df_combined = df_long.merge(df, on=['fecha'])\n",
    "\n",
    "df_combined = df_combined.drop(columns=columnas_horas)"
   ]
  },
  {
   "cell_type": "markdown",
   "metadata": {},
   "source": [
    "Eliminamos la columna fecha y ordenamos las columnas."
   ]
  },
  {
   "cell_type": "code",
   "execution_count": 8,
   "metadata": {},
   "outputs": [
    {
     "data": {
      "text/html": [
       "<div>\n",
       "<style scoped>\n",
       "    .dataframe tbody tr th:only-of-type {\n",
       "        vertical-align: middle;\n",
       "    }\n",
       "\n",
       "    .dataframe tbody tr th {\n",
       "        vertical-align: top;\n",
       "    }\n",
       "\n",
       "    .dataframe thead th {\n",
       "        text-align: right;\n",
       "    }\n",
       "</style>\n",
       "<table border=\"1\" class=\"dataframe\">\n",
       "  <thead>\n",
       "    <tr style=\"text-align: right;\">\n",
       "      <th></th>\n",
       "      <th>hora</th>\n",
       "      <th>dia</th>\n",
       "      <th>mes</th>\n",
       "      <th>anio</th>\n",
       "      <th>tmax-cab</th>\n",
       "      <th>tmax-hmo</th>\n",
       "      <th>tmax-obr</th>\n",
       "      <th>tmax-lmo</th>\n",
       "      <th>tmax-cul</th>\n",
       "      <th>tmin-cab</th>\n",
       "      <th>...</th>\n",
       "      <th>martes_postfestivo</th>\n",
       "      <th>semana_santa</th>\n",
       "      <th>1_mayo</th>\n",
       "      <th>10_mayo</th>\n",
       "      <th>16_sep</th>\n",
       "      <th>2_nov.</th>\n",
       "      <th>pre-navidad_y_new_year</th>\n",
       "      <th>navidad_y_new_year</th>\n",
       "      <th>post-navidad_y_new_year</th>\n",
       "      <th>demanda_energia</th>\n",
       "    </tr>\n",
       "  </thead>\n",
       "  <tbody>\n",
       "    <tr>\n",
       "      <th>0</th>\n",
       "      <td>0</td>\n",
       "      <td>1</td>\n",
       "      <td>1</td>\n",
       "      <td>2007</td>\n",
       "      <td>21.0</td>\n",
       "      <td>22.0</td>\n",
       "      <td>25.0</td>\n",
       "      <td>30.0</td>\n",
       "      <td>29.0</td>\n",
       "      <td>2.0</td>\n",
       "      <td>...</td>\n",
       "      <td>0</td>\n",
       "      <td>0</td>\n",
       "      <td>0</td>\n",
       "      <td>0</td>\n",
       "      <td>0</td>\n",
       "      <td>0</td>\n",
       "      <td>0</td>\n",
       "      <td>1</td>\n",
       "      <td>0</td>\n",
       "      <td>1394</td>\n",
       "    </tr>\n",
       "    <tr>\n",
       "      <th>1</th>\n",
       "      <td>1</td>\n",
       "      <td>1</td>\n",
       "      <td>1</td>\n",
       "      <td>2007</td>\n",
       "      <td>21.0</td>\n",
       "      <td>22.0</td>\n",
       "      <td>25.0</td>\n",
       "      <td>30.0</td>\n",
       "      <td>29.0</td>\n",
       "      <td>2.0</td>\n",
       "      <td>...</td>\n",
       "      <td>0</td>\n",
       "      <td>0</td>\n",
       "      <td>0</td>\n",
       "      <td>0</td>\n",
       "      <td>0</td>\n",
       "      <td>0</td>\n",
       "      <td>0</td>\n",
       "      <td>1</td>\n",
       "      <td>0</td>\n",
       "      <td>1297</td>\n",
       "    </tr>\n",
       "    <tr>\n",
       "      <th>2</th>\n",
       "      <td>2</td>\n",
       "      <td>1</td>\n",
       "      <td>1</td>\n",
       "      <td>2007</td>\n",
       "      <td>21.0</td>\n",
       "      <td>22.0</td>\n",
       "      <td>25.0</td>\n",
       "      <td>30.0</td>\n",
       "      <td>29.0</td>\n",
       "      <td>2.0</td>\n",
       "      <td>...</td>\n",
       "      <td>0</td>\n",
       "      <td>0</td>\n",
       "      <td>0</td>\n",
       "      <td>0</td>\n",
       "      <td>0</td>\n",
       "      <td>0</td>\n",
       "      <td>0</td>\n",
       "      <td>1</td>\n",
       "      <td>0</td>\n",
       "      <td>1255</td>\n",
       "    </tr>\n",
       "    <tr>\n",
       "      <th>3</th>\n",
       "      <td>3</td>\n",
       "      <td>1</td>\n",
       "      <td>1</td>\n",
       "      <td>2007</td>\n",
       "      <td>21.0</td>\n",
       "      <td>22.0</td>\n",
       "      <td>25.0</td>\n",
       "      <td>30.0</td>\n",
       "      <td>29.0</td>\n",
       "      <td>2.0</td>\n",
       "      <td>...</td>\n",
       "      <td>0</td>\n",
       "      <td>0</td>\n",
       "      <td>0</td>\n",
       "      <td>0</td>\n",
       "      <td>0</td>\n",
       "      <td>0</td>\n",
       "      <td>0</td>\n",
       "      <td>1</td>\n",
       "      <td>0</td>\n",
       "      <td>1222</td>\n",
       "    </tr>\n",
       "    <tr>\n",
       "      <th>4</th>\n",
       "      <td>4</td>\n",
       "      <td>1</td>\n",
       "      <td>1</td>\n",
       "      <td>2007</td>\n",
       "      <td>21.0</td>\n",
       "      <td>22.0</td>\n",
       "      <td>25.0</td>\n",
       "      <td>30.0</td>\n",
       "      <td>29.0</td>\n",
       "      <td>2.0</td>\n",
       "      <td>...</td>\n",
       "      <td>0</td>\n",
       "      <td>0</td>\n",
       "      <td>0</td>\n",
       "      <td>0</td>\n",
       "      <td>0</td>\n",
       "      <td>0</td>\n",
       "      <td>0</td>\n",
       "      <td>1</td>\n",
       "      <td>0</td>\n",
       "      <td>1168</td>\n",
       "    </tr>\n",
       "  </tbody>\n",
       "</table>\n",
       "<p>5 rows × 29 columns</p>\n",
       "</div>"
      ],
      "text/plain": [
       "   hora  dia  mes  anio  tmax-cab  tmax-hmo  tmax-obr  tmax-lmo  tmax-cul  \\\n",
       "0     0    1    1  2007      21.0      22.0      25.0      30.0      29.0   \n",
       "1     1    1    1  2007      21.0      22.0      25.0      30.0      29.0   \n",
       "2     2    1    1  2007      21.0      22.0      25.0      30.0      29.0   \n",
       "3     3    1    1  2007      21.0      22.0      25.0      30.0      29.0   \n",
       "4     4    1    1  2007      21.0      22.0      25.0      30.0      29.0   \n",
       "\n",
       "   tmin-cab  ...  martes_postfestivo  semana_santa  1_mayo  10_mayo  16_sep  \\\n",
       "0       2.0  ...                   0             0       0        0       0   \n",
       "1       2.0  ...                   0             0       0        0       0   \n",
       "2       2.0  ...                   0             0       0        0       0   \n",
       "3       2.0  ...                   0             0       0        0       0   \n",
       "4       2.0  ...                   0             0       0        0       0   \n",
       "\n",
       "   2_nov.  pre-navidad_y_new_year  navidad_y_new_year  \\\n",
       "0       0                       0                   1   \n",
       "1       0                       0                   1   \n",
       "2       0                       0                   1   \n",
       "3       0                       0                   1   \n",
       "4       0                       0                   1   \n",
       "\n",
       "   post-navidad_y_new_year  demanda_energia  \n",
       "0                        0             1394  \n",
       "1                        0             1297  \n",
       "2                        0             1255  \n",
       "3                        0             1222  \n",
       "4                        0             1168  \n",
       "\n",
       "[5 rows x 29 columns]"
      ]
     },
     "execution_count": 8,
     "metadata": {},
     "output_type": "execute_result"
    }
   ],
   "source": [
    "df_combined.drop(columns=['fecha'], inplace = True)\n",
    "\n",
    "columns = df_combined.columns\n",
    "ordered_columns = list([columns[0]]) + list(columns[-3:]) + list(columns[2:26]) + list([columns[1]])\n",
    "df_final = df_combined[ordered_columns]\n",
    "\n",
    "df_final.head()"
   ]
  }
 ],
 "metadata": {
  "kernelspec": {
   "display_name": "Python 3",
   "language": "python",
   "name": "python3"
  },
  "language_info": {
   "codemirror_mode": {
    "name": "ipython",
    "version": 3
   },
   "file_extension": ".py",
   "mimetype": "text/x-python",
   "name": "python",
   "nbconvert_exporter": "python",
   "pygments_lexer": "ipython3",
   "version": "3.12.1"
  }
 },
 "nbformat": 4,
 "nbformat_minor": 2
}
