{
 "cells": [
  {
   "cell_type": "markdown",
   "metadata": {},
   "source": [
    "# Random Forest"
   ]
  },
  {
   "cell_type": "code",
   "execution_count": 2,
   "metadata": {},
   "outputs": [],
   "source": [
    "import pandas as pd \n",
    "import optuna \n",
    "import numpy as np\n",
    "import matplotlib.pyplot as plt\n",
    "\n",
    "import mlflow\n",
    "from sklearn.model_selection import train_test_split\n",
    "from sklearn.ensemble import RandomForestRegressor\n",
    "from sklearn.metrics import mean_absolute_percentage_error\n",
    "\n",
    "import os\n",
    "import nbimporter\n",
    "from dotenv import load_dotenv"
   ]
  },
  {
   "cell_type": "code",
   "execution_count": 3,
   "metadata": {},
   "outputs": [
    {
     "data": {
      "text/plain": [
       "True"
      ]
     },
     "execution_count": 3,
     "metadata": {},
     "output_type": "execute_result"
    }
   ],
   "source": [
    "load_dotenv()"
   ]
  },
  {
   "cell_type": "markdown",
   "metadata": {},
   "source": [
    "### Cremos primeramente un experimento con MLFLOW"
   ]
  },
  {
   "cell_type": "code",
   "execution_count": 4,
   "metadata": {},
   "outputs": [],
   "source": [
    "MLFLOW_TRACKING_URI = os.getenv('MLFLOW_TRACKING_URI')"
   ]
  },
  {
   "cell_type": "code",
   "execution_count": 5,
   "metadata": {},
   "outputs": [],
   "source": [
    "def get_or_create_experiment(experiment_name):\n",
    "    \"\"\"\n",
    "    Retrieve the ID of an existing MLflow experiment or create a new one if it doesn't exist.\n",
    "    \"\"\"\n",
    "\n",
    "    if experiment := mlflow.get_experiment_by_name(experiment_name):\n",
    "        return experiment.experiment_id\n",
    "    else:\n",
    "        return mlflow.create_experiment(experiment_name)"
   ]
  },
  {
   "cell_type": "code",
   "execution_count": 6,
   "metadata": {},
   "outputs": [],
   "source": [
    "experiment_id = get_or_create_experiment(\"random_forest_energy_demand_1\")"
   ]
  },
  {
   "cell_type": "markdown",
   "metadata": {},
   "source": [
    "Obtenemos los datos y tomamos una muestra para optimización de hiperparámetros"
   ]
  },
  {
   "cell_type": "code",
   "execution_count": 15,
   "metadata": {},
   "outputs": [],
   "source": [
    "df = pd.read_csv('../data/processed/supervised_data_energy.csv')"
   ]
  },
  {
   "cell_type": "markdown",
   "metadata": {},
   "source": [
    "Datos para optimización de hiperarámetros:"
   ]
  },
  {
   "cell_type": "code",
   "execution_count": 16,
   "metadata": {},
   "outputs": [],
   "source": [
    "df_sample = df.sample(frac = 0.2)"
   ]
  },
  {
   "cell_type": "code",
   "execution_count": 17,
   "metadata": {},
   "outputs": [],
   "source": [
    "X_study = df_sample[df_sample.columns[0:-1]]\n",
    "y_study = df_sample[df_sample.columns[-1]]\n",
    "\n",
    "X_train_s, X_test_s, y_train_s, y_test_s = train_test_split(X_study, y_study, test_size=0.2, random_state=12)"
   ]
  },
  {
   "cell_type": "markdown",
   "metadata": {},
   "source": [
    "Datos de entrenamiento y prueba:"
   ]
  },
  {
   "cell_type": "code",
   "execution_count": 18,
   "metadata": {},
   "outputs": [],
   "source": [
    "X = df[df.columns[0:-1]]\n",
    "y = df[df.columns[-1]]\n",
    "\n",
    "X_train, X_test, y_train, y_test = train_test_split(X, y, test_size=0.2, random_state=12)"
   ]
  },
  {
   "cell_type": "code",
   "execution_count": 19,
   "metadata": {},
   "outputs": [],
   "source": [
    "run_name = \"first_attempt\""
   ]
  },
  {
   "cell_type": "markdown",
   "metadata": {},
   "source": [
    "Utilizando Optuna, definimos un estudio, declarando el espacio de hiperparámetros a explorar."
   ]
  },
  {
   "cell_type": "code",
   "execution_count": 20,
   "metadata": {},
   "outputs": [],
   "source": [
    "def objective(trial):\n",
    "    # Suggest values for hyperparameters\n",
    "    n_estimators = trial.suggest_int(\"n_estimators\", 10, 50, step = 2)\n",
    "    max_depth = trial.suggest_int(\"max_depth\", 5, 70, step = 2)\n",
    "    min_samples_split = trial.suggest_int(\"min_samples_split\", 2, 20)\n",
    "    min_samples_leaf = trial.suggest_int(\"min_samples_leaf\", 1, 20)\n",
    "\n",
    "    # Create and fit random forest model\n",
    "    model = RandomForestRegressor(\n",
    "        n_estimators=n_estimators,\n",
    "        max_depth=max_depth,\n",
    "        min_samples_split=min_samples_split,\n",
    "        min_samples_leaf=min_samples_leaf,\n",
    "        random_state=42\n",
    "    )\n",
    "    model.fit(X_train_s, y_train_s)\n",
    "\n",
    "    # Make predictions and calculate MAPE\n",
    "    y_pred = model.predict(X_test_s)\n",
    "    mape = mean_absolute_percentage_error(y_test_s, y_pred)\n",
    "\n",
    "    # Return MAPE\n",
    "    return mape"
   ]
  },
  {
   "cell_type": "code",
   "execution_count": 21,
   "metadata": {},
   "outputs": [],
   "source": [
    "mlflow.set_tracking_uri(MLFLOW_TRACKING_URI)"
   ]
  },
  {
   "cell_type": "code",
   "execution_count": 22,
   "metadata": {},
   "outputs": [
    {
     "name": "stderr",
     "output_type": "stream",
     "text": [
      "[I 2024-05-24 11:07:29,730] A new study created in memory with name: no-name-82ff3c74-c08f-4fc5-a7c5-ea54eb4eb213\n"
     ]
    },
    {
     "data": {
      "application/vnd.jupyter.widget-view+json": {
       "model_id": "72c80101401540b6852d29809bedc475",
       "version_major": 2,
       "version_minor": 0
      },
      "text/plain": [
       "  0%|          | 0/150 [00:00<?, ?it/s]"
      ]
     },
     "metadata": {},
     "output_type": "display_data"
    },
    {
     "name": "stderr",
     "output_type": "stream",
     "text": [
      "c:\\Users\\andre\\AppData\\Local\\Programs\\Python\\Python312\\Lib\\site-packages\\optuna\\distributions.py:700: UserWarning: The distribution is specified by [5, 70] and step=2, but the range is not divisible by `step`. It will be replaced by [5, 69].\n",
      "  warnings.warn(\n"
     ]
    },
    {
     "name": "stdout",
     "output_type": "stream",
     "text": [
      "[I 2024-05-24 11:08:30,676] Trial 0 finished with value: 0.013308510079244582 and parameters: {'n_estimators': 16, 'max_depth': 23, 'min_samples_split': 4, 'min_samples_leaf': 12}. Best is trial 0 with value: 0.013308510079244582.\n"
     ]
    },
    {
     "name": "stderr",
     "output_type": "stream",
     "text": [
      "c:\\Users\\andre\\AppData\\Local\\Programs\\Python\\Python312\\Lib\\site-packages\\optuna\\distributions.py:700: UserWarning: The distribution is specified by [5, 70] and step=2, but the range is not divisible by `step`. It will be replaced by [5, 69].\n",
      "  warnings.warn(\n"
     ]
    },
    {
     "name": "stdout",
     "output_type": "stream",
     "text": [
      "[I 2024-05-24 11:09:39,198] Trial 1 finished with value: 0.012051077069445807 and parameters: {'n_estimators': 30, 'max_depth': 63, 'min_samples_split': 4, 'min_samples_leaf': 4}. Best is trial 1 with value: 0.012051077069445807.\n"
     ]
    },
    {
     "name": "stderr",
     "output_type": "stream",
     "text": [
      "c:\\Users\\andre\\AppData\\Local\\Programs\\Python\\Python312\\Lib\\site-packages\\optuna\\distributions.py:700: UserWarning: The distribution is specified by [5, 70] and step=2, but the range is not divisible by `step`. It will be replaced by [5, 69].\n",
      "  warnings.warn(\n"
     ]
    },
    {
     "name": "stdout",
     "output_type": "stream",
     "text": [
      "[I 2024-05-24 11:10:08,429] Trial 2 finished with value: 0.013740486850498343 and parameters: {'n_estimators': 32, 'max_depth': 35, 'min_samples_split': 9, 'min_samples_leaf': 17}. Best is trial 1 with value: 0.012051077069445807.\n"
     ]
    },
    {
     "name": "stderr",
     "output_type": "stream",
     "text": [
      "c:\\Users\\andre\\AppData\\Local\\Programs\\Python\\Python312\\Lib\\site-packages\\optuna\\distributions.py:700: UserWarning: The distribution is specified by [5, 70] and step=2, but the range is not divisible by `step`. It will be replaced by [5, 69].\n",
      "  warnings.warn(\n"
     ]
    },
    {
     "name": "stdout",
     "output_type": "stream",
     "text": [
      "[I 2024-05-24 11:10:26,718] Trial 3 finished with value: 0.013863657874566443 and parameters: {'n_estimators': 20, 'max_depth': 69, 'min_samples_split': 3, 'min_samples_leaf': 17}. Best is trial 1 with value: 0.012051077069445807.\n"
     ]
    },
    {
     "name": "stderr",
     "output_type": "stream",
     "text": [
      "c:\\Users\\andre\\AppData\\Local\\Programs\\Python\\Python312\\Lib\\site-packages\\optuna\\distributions.py:700: UserWarning: The distribution is specified by [5, 70] and step=2, but the range is not divisible by `step`. It will be replaced by [5, 69].\n",
      "  warnings.warn(\n"
     ]
    },
    {
     "name": "stdout",
     "output_type": "stream",
     "text": [
      "[I 2024-05-24 11:10:52,186] Trial 4 finished with value: 0.012251749895392213 and parameters: {'n_estimators': 20, 'max_depth': 67, 'min_samples_split': 5, 'min_samples_leaf': 4}. Best is trial 1 with value: 0.012051077069445807.\n"
     ]
    },
    {
     "name": "stderr",
     "output_type": "stream",
     "text": [
      "c:\\Users\\andre\\AppData\\Local\\Programs\\Python\\Python312\\Lib\\site-packages\\optuna\\distributions.py:700: UserWarning: The distribution is specified by [5, 70] and step=2, but the range is not divisible by `step`. It will be replaced by [5, 69].\n",
      "  warnings.warn(\n"
     ]
    },
    {
     "name": "stdout",
     "output_type": "stream",
     "text": [
      "[I 2024-05-24 11:11:50,832] Trial 5 finished with value: 0.012041141061827835 and parameters: {'n_estimators': 50, 'max_depth': 15, 'min_samples_split': 11, 'min_samples_leaf': 5}. Best is trial 5 with value: 0.012041141061827835.\n"
     ]
    },
    {
     "name": "stderr",
     "output_type": "stream",
     "text": [
      "c:\\Users\\andre\\AppData\\Local\\Programs\\Python\\Python312\\Lib\\site-packages\\optuna\\distributions.py:700: UserWarning: The distribution is specified by [5, 70] and step=2, but the range is not divisible by `step`. It will be replaced by [5, 69].\n",
      "  warnings.warn(\n"
     ]
    },
    {
     "name": "stdout",
     "output_type": "stream",
     "text": [
      "[I 2024-05-24 11:12:39,546] Trial 6 finished with value: 0.01196039382022583 and parameters: {'n_estimators': 36, 'max_depth': 51, 'min_samples_split': 9, 'min_samples_leaf': 2}. Best is trial 6 with value: 0.01196039382022583.\n"
     ]
    },
    {
     "name": "stderr",
     "output_type": "stream",
     "text": [
      "c:\\Users\\andre\\AppData\\Local\\Programs\\Python\\Python312\\Lib\\site-packages\\optuna\\distributions.py:700: UserWarning: The distribution is specified by [5, 70] and step=2, but the range is not divisible by `step`. It will be replaced by [5, 69].\n",
      "  warnings.warn(\n"
     ]
    },
    {
     "name": "stdout",
     "output_type": "stream",
     "text": [
      "[I 2024-05-24 11:13:08,698] Trial 7 finished with value: 0.0132480536942932 and parameters: {'n_estimators': 30, 'max_depth': 39, 'min_samples_split': 7, 'min_samples_leaf': 13}. Best is trial 6 with value: 0.01196039382022583.\n"
     ]
    },
    {
     "name": "stderr",
     "output_type": "stream",
     "text": [
      "c:\\Users\\andre\\AppData\\Local\\Programs\\Python\\Python312\\Lib\\site-packages\\optuna\\distributions.py:700: UserWarning: The distribution is specified by [5, 70] and step=2, but the range is not divisible by `step`. It will be replaced by [5, 69].\n",
      "  warnings.warn(\n"
     ]
    },
    {
     "name": "stdout",
     "output_type": "stream",
     "text": [
      "[I 2024-05-24 11:13:33,835] Trial 8 finished with value: 0.01258312014504803 and parameters: {'n_estimators': 22, 'max_depth': 63, 'min_samples_split': 16, 'min_samples_leaf': 8}. Best is trial 6 with value: 0.01196039382022583.\n"
     ]
    },
    {
     "name": "stderr",
     "output_type": "stream",
     "text": [
      "c:\\Users\\andre\\AppData\\Local\\Programs\\Python\\Python312\\Lib\\site-packages\\optuna\\distributions.py:700: UserWarning: The distribution is specified by [5, 70] and step=2, but the range is not divisible by `step`. It will be replaced by [5, 69].\n",
      "  warnings.warn(\n"
     ]
    },
    {
     "name": "stdout",
     "output_type": "stream",
     "text": [
      "[I 2024-05-24 11:13:58,900] Trial 9 finished with value: 0.012358103632653569 and parameters: {'n_estimators': 16, 'max_depth': 33, 'min_samples_split': 5, 'min_samples_leaf': 1}. Best is trial 6 with value: 0.01196039382022583.\n"
     ]
    },
    {
     "name": "stderr",
     "output_type": "stream",
     "text": [
      "c:\\Users\\andre\\AppData\\Local\\Programs\\Python\\Python312\\Lib\\site-packages\\optuna\\distributions.py:700: UserWarning: The distribution is specified by [5, 70] and step=2, but the range is not divisible by `step`. It will be replaced by [5, 69].\n",
      "  warnings.warn(\n"
     ]
    },
    {
     "name": "stdout",
     "output_type": "stream",
     "text": [
      "[I 2024-05-24 11:14:46,574] Trial 10 finished with value: 0.012592271958845352 and parameters: {'n_estimators': 46, 'max_depth': 49, 'min_samples_split': 16, 'min_samples_leaf': 9}. Best is trial 6 with value: 0.01196039382022583.\n"
     ]
    },
    {
     "name": "stderr",
     "output_type": "stream",
     "text": [
      "c:\\Users\\andre\\AppData\\Local\\Programs\\Python\\Python312\\Lib\\site-packages\\optuna\\distributions.py:700: UserWarning: The distribution is specified by [5, 70] and step=2, but the range is not divisible by `step`. It will be replaced by [5, 69].\n",
      "  warnings.warn(\n"
     ]
    },
    {
     "name": "stdout",
     "output_type": "stream",
     "text": [
      "[I 2024-05-24 11:15:18,087] Trial 11 finished with value: 0.017838834918358498 and parameters: {'n_estimators': 50, 'max_depth': 7, 'min_samples_split': 12, 'min_samples_leaf': 1}. Best is trial 6 with value: 0.01196039382022583.\n"
     ]
    },
    {
     "name": "stderr",
     "output_type": "stream",
     "text": [
      "c:\\Users\\andre\\AppData\\Local\\Programs\\Python\\Python312\\Lib\\site-packages\\optuna\\distributions.py:700: UserWarning: The distribution is specified by [5, 70] and step=2, but the range is not divisible by `step`. It will be replaced by [5, 69].\n",
      "  warnings.warn(\n"
     ]
    },
    {
     "name": "stdout",
     "output_type": "stream",
     "text": [
      "[I 2024-05-24 11:15:58,653] Trial 12 finished with value: 0.012588894399140746 and parameters: {'n_estimators': 40, 'max_depth': 11, 'min_samples_split': 12, 'min_samples_leaf': 5}. Best is trial 6 with value: 0.01196039382022583.\n"
     ]
    },
    {
     "name": "stderr",
     "output_type": "stream",
     "text": [
      "c:\\Users\\andre\\AppData\\Local\\Programs\\Python\\Python312\\Lib\\site-packages\\optuna\\distributions.py:700: UserWarning: The distribution is specified by [5, 70] and step=2, but the range is not divisible by `step`. It will be replaced by [5, 69].\n",
      "  warnings.warn(\n"
     ]
    },
    {
     "name": "stdout",
     "output_type": "stream",
     "text": [
      "[I 2024-05-24 11:16:42,393] Trial 13 finished with value: 0.012492538009290231 and parameters: {'n_estimators': 40, 'max_depth': 51, 'min_samples_split': 20, 'min_samples_leaf': 6}. Best is trial 6 with value: 0.01196039382022583.\n"
     ]
    },
    {
     "name": "stderr",
     "output_type": "stream",
     "text": [
      "c:\\Users\\andre\\AppData\\Local\\Programs\\Python\\Python312\\Lib\\site-packages\\optuna\\distributions.py:700: UserWarning: The distribution is specified by [5, 70] and step=2, but the range is not divisible by `step`. It will be replaced by [5, 69].\n",
      "  warnings.warn(\n"
     ]
    },
    {
     "name": "stdout",
     "output_type": "stream",
     "text": [
      "[I 2024-05-24 11:17:38,882] Trial 14 finished with value: 0.012039373924653048 and parameters: {'n_estimators': 40, 'max_depth': 21, 'min_samples_split': 9, 'min_samples_leaf': 1}. Best is trial 6 with value: 0.01196039382022583.\n"
     ]
    },
    {
     "name": "stderr",
     "output_type": "stream",
     "text": [
      "c:\\Users\\andre\\AppData\\Local\\Programs\\Python\\Python312\\Lib\\site-packages\\optuna\\distributions.py:700: UserWarning: The distribution is specified by [5, 70] and step=2, but the range is not divisible by `step`. It will be replaced by [5, 69].\n",
      "  warnings.warn(\n"
     ]
    },
    {
     "name": "stdout",
     "output_type": "stream",
     "text": [
      "[I 2024-05-24 11:18:32,151] Trial 15 finished with value: 0.01199846925447399 and parameters: {'n_estimators': 36, 'max_depth': 21, 'min_samples_split': 8, 'min_samples_leaf': 1}. Best is trial 6 with value: 0.01196039382022583.\n"
     ]
    },
    {
     "name": "stderr",
     "output_type": "stream",
     "text": [
      "c:\\Users\\andre\\AppData\\Local\\Programs\\Python\\Python312\\Lib\\site-packages\\optuna\\distributions.py:700: UserWarning: The distribution is specified by [5, 70] and step=2, but the range is not divisible by `step`. It will be replaced by [5, 69].\n",
      "  warnings.warn(\n"
     ]
    },
    {
     "name": "stdout",
     "output_type": "stream",
     "text": [
      "[I 2024-05-24 11:19:21,375] Trial 16 finished with value: 0.011976048854185177 and parameters: {'n_estimators': 34, 'max_depth': 49, 'min_samples_split': 8, 'min_samples_leaf': 3}. Best is trial 6 with value: 0.01196039382022583.\n"
     ]
    },
    {
     "name": "stderr",
     "output_type": "stream",
     "text": [
      "c:\\Users\\andre\\AppData\\Local\\Programs\\Python\\Python312\\Lib\\site-packages\\optuna\\distributions.py:700: UserWarning: The distribution is specified by [5, 70] and step=2, but the range is not divisible by `step`. It will be replaced by [5, 69].\n",
      "  warnings.warn(\n"
     ]
    },
    {
     "name": "stdout",
     "output_type": "stream",
     "text": [
      "[I 2024-05-24 11:19:55,013] Trial 17 finished with value: 0.01248190496917858 and parameters: {'n_estimators': 28, 'max_depth': 51, 'min_samples_split': 14, 'min_samples_leaf': 8}. Best is trial 6 with value: 0.01196039382022583.\n"
     ]
    },
    {
     "name": "stderr",
     "output_type": "stream",
     "text": [
      "c:\\Users\\andre\\AppData\\Local\\Programs\\Python\\Python312\\Lib\\site-packages\\optuna\\distributions.py:700: UserWarning: The distribution is specified by [5, 70] and step=2, but the range is not divisible by `step`. It will be replaced by [5, 69].\n",
      "  warnings.warn(\n"
     ]
    },
    {
     "name": "stdout",
     "output_type": "stream",
     "text": [
      "[I 2024-05-24 11:20:22,660] Trial 18 finished with value: 0.013396294696655842 and parameters: {'n_estimators': 26, 'max_depth': 43, 'min_samples_split': 7, 'min_samples_leaf': 14}. Best is trial 6 with value: 0.01196039382022583.\n"
     ]
    },
    {
     "name": "stderr",
     "output_type": "stream",
     "text": [
      "c:\\Users\\andre\\AppData\\Local\\Programs\\Python\\Python312\\Lib\\site-packages\\optuna\\distributions.py:700: UserWarning: The distribution is specified by [5, 70] and step=2, but the range is not divisible by `step`. It will be replaced by [5, 69].\n",
      "  warnings.warn(\n"
     ]
    },
    {
     "name": "stdout",
     "output_type": "stream",
     "text": [
      "[I 2024-05-24 11:20:37,810] Trial 19 finished with value: 0.012622667496808865 and parameters: {'n_estimators': 10, 'max_depth': 55, 'min_samples_split': 10, 'min_samples_leaf': 3}. Best is trial 6 with value: 0.01196039382022583.\n"
     ]
    },
    {
     "name": "stderr",
     "output_type": "stream",
     "text": [
      "c:\\Users\\andre\\AppData\\Local\\Programs\\Python\\Python312\\Lib\\site-packages\\optuna\\distributions.py:700: UserWarning: The distribution is specified by [5, 70] and step=2, but the range is not divisible by `step`. It will be replaced by [5, 69].\n",
      "  warnings.warn(\n"
     ]
    },
    {
     "name": "stdout",
     "output_type": "stream",
     "text": [
      "[I 2024-05-24 11:21:11,689] Trial 20 finished with value: 0.014053015880755134 and parameters: {'n_estimators': 36, 'max_depth': 57, 'min_samples_split': 2, 'min_samples_leaf': 20}. Best is trial 6 with value: 0.01196039382022583.\n"
     ]
    },
    {
     "name": "stderr",
     "output_type": "stream",
     "text": [
      "c:\\Users\\andre\\AppData\\Local\\Programs\\Python\\Python312\\Lib\\site-packages\\optuna\\distributions.py:700: UserWarning: The distribution is specified by [5, 70] and step=2, but the range is not divisible by `step`. It will be replaced by [5, 69].\n",
      "  warnings.warn(\n"
     ]
    },
    {
     "name": "stdout",
     "output_type": "stream",
     "text": [
      "[I 2024-05-24 11:22:03,738] Trial 21 finished with value: 0.011945155530266247 and parameters: {'n_estimators': 36, 'max_depth': 29, 'min_samples_split': 7, 'min_samples_leaf': 3}. Best is trial 21 with value: 0.011945155530266247.\n"
     ]
    },
    {
     "name": "stderr",
     "output_type": "stream",
     "text": [
      "c:\\Users\\andre\\AppData\\Local\\Programs\\Python\\Python312\\Lib\\site-packages\\optuna\\distributions.py:700: UserWarning: The distribution is specified by [5, 70] and step=2, but the range is not divisible by `step`. It will be replaced by [5, 69].\n",
      "  warnings.warn(\n"
     ]
    },
    {
     "name": "stdout",
     "output_type": "stream",
     "text": [
      "[I 2024-05-24 11:22:51,290] Trial 22 finished with value: 0.011963745418698156 and parameters: {'n_estimators': 34, 'max_depth': 31, 'min_samples_split': 7, 'min_samples_leaf': 3}. Best is trial 21 with value: 0.011945155530266247.\n"
     ]
    },
    {
     "name": "stderr",
     "output_type": "stream",
     "text": [
      "c:\\Users\\andre\\AppData\\Local\\Programs\\Python\\Python312\\Lib\\site-packages\\optuna\\distributions.py:700: UserWarning: The distribution is specified by [5, 70] and step=2, but the range is not divisible by `step`. It will be replaced by [5, 69].\n",
      "  warnings.warn(\n"
     ]
    },
    {
     "name": "stdout",
     "output_type": "stream",
     "text": [
      "[I 2024-05-24 11:23:40,361] Trial 23 finished with value: 0.012312696654604735 and parameters: {'n_estimators': 42, 'max_depth': 29, 'min_samples_split': 6, 'min_samples_leaf': 7}. Best is trial 21 with value: 0.011945155530266247.\n"
     ]
    },
    {
     "name": "stderr",
     "output_type": "stream",
     "text": [
      "c:\\Users\\andre\\AppData\\Local\\Programs\\Python\\Python312\\Lib\\site-packages\\optuna\\distributions.py:700: UserWarning: The distribution is specified by [5, 70] and step=2, but the range is not divisible by `step`. It will be replaced by [5, 69].\n",
      "  warnings.warn(\n"
     ]
    },
    {
     "name": "stdout",
     "output_type": "stream",
     "text": [
      "[I 2024-05-24 11:24:27,788] Trial 24 finished with value: 0.012746541647772428 and parameters: {'n_estimators': 44, 'max_depth': 29, 'min_samples_split': 6, 'min_samples_leaf': 10}. Best is trial 21 with value: 0.011945155530266247.\n"
     ]
    },
    {
     "name": "stderr",
     "output_type": "stream",
     "text": [
      "c:\\Users\\andre\\AppData\\Local\\Programs\\Python\\Python312\\Lib\\site-packages\\optuna\\distributions.py:700: UserWarning: The distribution is specified by [5, 70] and step=2, but the range is not divisible by `step`. It will be replaced by [5, 69].\n",
      "  warnings.warn(\n"
     ]
    },
    {
     "name": "stdout",
     "output_type": "stream",
     "text": [
      "[I 2024-05-24 11:25:17,347] Trial 25 finished with value: 0.012030199668706722 and parameters: {'n_estimators': 36, 'max_depth': 43, 'min_samples_split': 10, 'min_samples_leaf': 3}. Best is trial 21 with value: 0.011945155530266247.\n"
     ]
    },
    {
     "name": "stderr",
     "output_type": "stream",
     "text": [
      "c:\\Users\\andre\\AppData\\Local\\Programs\\Python\\Python312\\Lib\\site-packages\\optuna\\distributions.py:700: UserWarning: The distribution is specified by [5, 70] and step=2, but the range is not divisible by `step`. It will be replaced by [5, 69].\n",
      "  warnings.warn(\n"
     ]
    },
    {
     "name": "stdout",
     "output_type": "stream",
     "text": [
      "[I 2024-05-24 11:25:46,730] Trial 26 finished with value: 0.012340528317021562 and parameters: {'n_estimators': 24, 'max_depth': 29, 'min_samples_split': 13, 'min_samples_leaf': 6}. Best is trial 21 with value: 0.011945155530266247.\n"
     ]
    },
    {
     "name": "stderr",
     "output_type": "stream",
     "text": [
      "c:\\Users\\andre\\AppData\\Local\\Programs\\Python\\Python312\\Lib\\site-packages\\optuna\\distributions.py:700: UserWarning: The distribution is specified by [5, 70] and step=2, but the range is not divisible by `step`. It will be replaced by [5, 69].\n",
      "  warnings.warn(\n"
     ]
    },
    {
     "name": "stdout",
     "output_type": "stream",
     "text": [
      "[I 2024-05-24 11:26:34,527] Trial 27 finished with value: 0.011976048854185177 and parameters: {'n_estimators': 34, 'max_depth': 41, 'min_samples_split': 8, 'min_samples_leaf': 3}. Best is trial 21 with value: 0.011945155530266247.\n"
     ]
    },
    {
     "name": "stderr",
     "output_type": "stream",
     "text": [
      "c:\\Users\\andre\\AppData\\Local\\Programs\\Python\\Python312\\Lib\\site-packages\\optuna\\distributions.py:700: UserWarning: The distribution is specified by [5, 70] and step=2, but the range is not divisible by `step`. It will be replaced by [5, 69].\n",
      "  warnings.warn(\n"
     ]
    },
    {
     "name": "stdout",
     "output_type": "stream",
     "text": [
      "[I 2024-05-24 11:27:28,179] Trial 28 finished with value: 0.012008872824781209 and parameters: {'n_estimators': 38, 'max_depth': 35, 'min_samples_split': 10, 'min_samples_leaf': 2}. Best is trial 21 with value: 0.011945155530266247.\n"
     ]
    },
    {
     "name": "stderr",
     "output_type": "stream",
     "text": [
      "c:\\Users\\andre\\AppData\\Local\\Programs\\Python\\Python312\\Lib\\site-packages\\optuna\\distributions.py:700: UserWarning: The distribution is specified by [5, 70] and step=2, but the range is not divisible by `step`. It will be replaced by [5, 69].\n",
      "  warnings.warn(\n"
     ]
    },
    {
     "name": "stdout",
     "output_type": "stream",
     "text": [
      "[I 2024-05-24 11:28:14,196] Trial 29 finished with value: 0.013045021949960225 and parameters: {'n_estimators': 44, 'max_depth': 25, 'min_samples_split': 4, 'min_samples_leaf': 12}. Best is trial 21 with value: 0.011945155530266247.\n"
     ]
    },
    {
     "name": "stderr",
     "output_type": "stream",
     "text": [
      "c:\\Users\\andre\\AppData\\Local\\Programs\\Python\\Python312\\Lib\\site-packages\\optuna\\distributions.py:700: UserWarning: The distribution is specified by [5, 70] and step=2, but the range is not divisible by `step`. It will be replaced by [5, 69].\n",
      "  warnings.warn(\n"
     ]
    },
    {
     "name": "stdout",
     "output_type": "stream",
     "text": [
      "[I 2024-05-24 11:28:53,500] Trial 30 finished with value: 0.012235372900219713 and parameters: {'n_estimators': 32, 'max_depth': 17, 'min_samples_split': 6, 'min_samples_leaf': 6}. Best is trial 21 with value: 0.011945155530266247.\n"
     ]
    },
    {
     "name": "stderr",
     "output_type": "stream",
     "text": [
      "c:\\Users\\andre\\AppData\\Local\\Programs\\Python\\Python312\\Lib\\site-packages\\optuna\\distributions.py:700: UserWarning: The distribution is specified by [5, 70] and step=2, but the range is not divisible by `step`. It will be replaced by [5, 69].\n",
      "  warnings.warn(\n"
     ]
    },
    {
     "name": "stdout",
     "output_type": "stream",
     "text": [
      "[I 2024-05-24 11:29:39,074] Trial 31 finished with value: 0.011999677260968516 and parameters: {'n_estimators': 34, 'max_depth': 45, 'min_samples_split': 8, 'min_samples_leaf': 4}. Best is trial 21 with value: 0.011945155530266247.\n"
     ]
    },
    {
     "name": "stderr",
     "output_type": "stream",
     "text": [
      "c:\\Users\\andre\\AppData\\Local\\Programs\\Python\\Python312\\Lib\\site-packages\\optuna\\distributions.py:700: UserWarning: The distribution is specified by [5, 70] and step=2, but the range is not divisible by `step`. It will be replaced by [5, 69].\n",
      "  warnings.warn(\n"
     ]
    },
    {
     "name": "stdout",
     "output_type": "stream",
     "text": [
      "[I 2024-05-24 11:30:18,630] Trial 32 finished with value: 0.012008271607263402 and parameters: {'n_estimators': 28, 'max_depth': 57, 'min_samples_split': 7, 'min_samples_leaf': 3}. Best is trial 21 with value: 0.011945155530266247.\n"
     ]
    },
    {
     "name": "stderr",
     "output_type": "stream",
     "text": [
      "c:\\Users\\andre\\AppData\\Local\\Programs\\Python\\Python312\\Lib\\site-packages\\optuna\\distributions.py:700: UserWarning: The distribution is specified by [5, 70] and step=2, but the range is not divisible by `step`. It will be replaced by [5, 69].\n",
      "  warnings.warn(\n"
     ]
    },
    {
     "name": "stdout",
     "output_type": "stream",
     "text": [
      "[I 2024-05-24 11:31:05,407] Trial 33 finished with value: 0.011992558057914566 and parameters: {'n_estimators': 32, 'max_depth': 47, 'min_samples_split': 9, 'min_samples_leaf': 2}. Best is trial 21 with value: 0.011945155530266247.\n"
     ]
    },
    {
     "name": "stderr",
     "output_type": "stream",
     "text": [
      "c:\\Users\\andre\\AppData\\Local\\Programs\\Python\\Python312\\Lib\\site-packages\\optuna\\distributions.py:700: UserWarning: The distribution is specified by [5, 70] and step=2, but the range is not divisible by `step`. It will be replaced by [5, 69].\n",
      "  warnings.warn(\n"
     ]
    },
    {
     "name": "stdout",
     "output_type": "stream",
     "text": [
      "[I 2024-05-24 11:31:54,181] Trial 34 finished with value: 0.01205372291775378 and parameters: {'n_estimators': 38, 'max_depth': 33, 'min_samples_split': 5, 'min_samples_leaf': 5}. Best is trial 21 with value: 0.011945155530266247.\n"
     ]
    },
    {
     "name": "stderr",
     "output_type": "stream",
     "text": [
      "c:\\Users\\andre\\AppData\\Local\\Programs\\Python\\Python312\\Lib\\site-packages\\optuna\\distributions.py:700: UserWarning: The distribution is specified by [5, 70] and step=2, but the range is not divisible by `step`. It will be replaced by [5, 69].\n",
      "  warnings.warn(\n"
     ]
    },
    {
     "name": "stdout",
     "output_type": "stream",
     "text": [
      "[I 2024-05-24 11:32:41,307] Trial 35 finished with value: 0.01193921717127557 and parameters: {'n_estimators': 30, 'max_depth': 39, 'min_samples_split': 3, 'min_samples_leaf': 2}. Best is trial 35 with value: 0.01193921717127557.\n"
     ]
    },
    {
     "name": "stderr",
     "output_type": "stream",
     "text": [
      "c:\\Users\\andre\\AppData\\Local\\Programs\\Python\\Python312\\Lib\\site-packages\\optuna\\distributions.py:700: UserWarning: The distribution is specified by [5, 70] and step=2, but the range is not divisible by `step`. It will be replaced by [5, 69].\n",
      "  warnings.warn(\n"
     ]
    },
    {
     "name": "stdout",
     "output_type": "stream",
     "text": [
      "[I 2024-05-24 11:33:29,230] Trial 36 finished with value: 0.011940949659289804 and parameters: {'n_estimators': 30, 'max_depth': 25, 'min_samples_split': 2, 'min_samples_leaf': 2}. Best is trial 35 with value: 0.01193921717127557.\n"
     ]
    },
    {
     "name": "stderr",
     "output_type": "stream",
     "text": [
      "c:\\Users\\andre\\AppData\\Local\\Programs\\Python\\Python312\\Lib\\site-packages\\optuna\\distributions.py:700: UserWarning: The distribution is specified by [5, 70] and step=2, but the range is not divisible by `step`. It will be replaced by [5, 69].\n",
      "  warnings.warn(\n"
     ]
    },
    {
     "name": "stdout",
     "output_type": "stream",
     "text": [
      "[I 2024-05-24 11:34:13,351] Trial 37 finished with value: 0.01196609641794189 and parameters: {'n_estimators': 28, 'max_depth': 25, 'min_samples_split': 2, 'min_samples_leaf': 2}. Best is trial 35 with value: 0.01193921717127557.\n"
     ]
    },
    {
     "name": "stderr",
     "output_type": "stream",
     "text": [
      "c:\\Users\\andre\\AppData\\Local\\Programs\\Python\\Python312\\Lib\\site-packages\\optuna\\distributions.py:700: UserWarning: The distribution is specified by [5, 70] and step=2, but the range is not divisible by `step`. It will be replaced by [5, 69].\n",
      "  warnings.warn(\n"
     ]
    },
    {
     "name": "stdout",
     "output_type": "stream",
     "text": [
      "[I 2024-05-24 11:34:43,481] Trial 38 finished with value: 0.0134999250813532 and parameters: {'n_estimators': 30, 'max_depth': 37, 'min_samples_split': 3, 'min_samples_leaf': 15}. Best is trial 35 with value: 0.01193921717127557.\n"
     ]
    },
    {
     "name": "stderr",
     "output_type": "stream",
     "text": [
      "c:\\Users\\andre\\AppData\\Local\\Programs\\Python\\Python312\\Lib\\site-packages\\optuna\\distributions.py:700: UserWarning: The distribution is specified by [5, 70] and step=2, but the range is not divisible by `step`. It will be replaced by [5, 69].\n",
      "  warnings.warn(\n"
     ]
    },
    {
     "name": "stdout",
     "output_type": "stream",
     "text": [
      "[I 2024-05-24 11:35:17,697] Trial 39 finished with value: 0.012107004174181736 and parameters: {'n_estimators': 26, 'max_depth': 37, 'min_samples_split': 3, 'min_samples_leaf': 4}. Best is trial 35 with value: 0.01193921717127557.\n"
     ]
    },
    {
     "name": "stderr",
     "output_type": "stream",
     "text": [
      "c:\\Users\\andre\\AppData\\Local\\Programs\\Python\\Python312\\Lib\\site-packages\\optuna\\distributions.py:700: UserWarning: The distribution is specified by [5, 70] and step=2, but the range is not divisible by `step`. It will be replaced by [5, 69].\n",
      "  warnings.warn(\n"
     ]
    },
    {
     "name": "stdout",
     "output_type": "stream",
     "text": [
      "[I 2024-05-24 11:35:40,322] Trial 40 finished with value: 0.01231794076099381 and parameters: {'n_estimators': 18, 'max_depth': 17, 'min_samples_split': 4, 'min_samples_leaf': 5}. Best is trial 35 with value: 0.01193921717127557.\n"
     ]
    },
    {
     "name": "stderr",
     "output_type": "stream",
     "text": [
      "c:\\Users\\andre\\AppData\\Local\\Programs\\Python\\Python312\\Lib\\site-packages\\optuna\\distributions.py:700: UserWarning: The distribution is specified by [5, 70] and step=2, but the range is not divisible by `step`. It will be replaced by [5, 69].\n",
      "  warnings.warn(\n"
     ]
    },
    {
     "name": "stdout",
     "output_type": "stream",
     "text": [
      "[I 2024-05-24 11:36:30,118] Trial 41 finished with value: 0.011921961637169147 and parameters: {'n_estimators': 32, 'max_depth': 27, 'min_samples_split': 2, 'min_samples_leaf': 2}. Best is trial 41 with value: 0.011921961637169147.\n"
     ]
    },
    {
     "name": "stderr",
     "output_type": "stream",
     "text": [
      "c:\\Users\\andre\\AppData\\Local\\Programs\\Python\\Python312\\Lib\\site-packages\\optuna\\distributions.py:700: UserWarning: The distribution is specified by [5, 70] and step=2, but the range is not divisible by `step`. It will be replaced by [5, 69].\n",
      "  warnings.warn(\n"
     ]
    },
    {
     "name": "stdout",
     "output_type": "stream",
     "text": [
      "[I 2024-05-24 11:37:20,246] Trial 42 finished with value: 0.011927276488631509 and parameters: {'n_estimators': 32, 'max_depth': 25, 'min_samples_split': 2, 'min_samples_leaf': 2}. Best is trial 41 with value: 0.011921961637169147.\n"
     ]
    },
    {
     "name": "stderr",
     "output_type": "stream",
     "text": [
      "c:\\Users\\andre\\AppData\\Local\\Programs\\Python\\Python312\\Lib\\site-packages\\optuna\\distributions.py:700: UserWarning: The distribution is specified by [5, 70] and step=2, but the range is not divisible by `step`. It will be replaced by [5, 69].\n",
      "  warnings.warn(\n"
     ]
    },
    {
     "name": "stdout",
     "output_type": "stream",
     "text": [
      "[I 2024-05-24 11:38:19,663] Trial 43 finished with value: 0.011973533306744057 and parameters: {'n_estimators': 32, 'max_depth': 25, 'min_samples_split': 2, 'min_samples_leaf': 1}. Best is trial 41 with value: 0.011921961637169147.\n"
     ]
    },
    {
     "name": "stderr",
     "output_type": "stream",
     "text": [
      "c:\\Users\\andre\\AppData\\Local\\Programs\\Python\\Python312\\Lib\\site-packages\\optuna\\distributions.py:700: UserWarning: The distribution is specified by [5, 70] and step=2, but the range is not divisible by `step`. It will be replaced by [5, 69].\n",
      "  warnings.warn(\n"
     ]
    },
    {
     "name": "stdout",
     "output_type": "stream",
     "text": [
      "[I 2024-05-24 11:39:07,412] Trial 44 finished with value: 0.011961559640851513 and parameters: {'n_estimators': 30, 'max_depth': 21, 'min_samples_split': 3, 'min_samples_leaf': 2}. Best is trial 41 with value: 0.011921961637169147.\n"
     ]
    },
    {
     "name": "stderr",
     "output_type": "stream",
     "text": [
      "c:\\Users\\andre\\AppData\\Local\\Programs\\Python\\Python312\\Lib\\site-packages\\optuna\\distributions.py:700: UserWarning: The distribution is specified by [5, 70] and step=2, but the range is not divisible by `step`. It will be replaced by [5, 69].\n",
      "  warnings.warn(\n"
     ]
    },
    {
     "name": "stdout",
     "output_type": "stream",
     "text": [
      "[I 2024-05-24 11:39:35,281] Trial 45 finished with value: 0.012293285382729061 and parameters: {'n_estimators': 22, 'max_depth': 13, 'min_samples_split': 4, 'min_samples_leaf': 4}. Best is trial 41 with value: 0.011921961637169147.\n"
     ]
    },
    {
     "name": "stderr",
     "output_type": "stream",
     "text": [
      "c:\\Users\\andre\\AppData\\Local\\Programs\\Python\\Python312\\Lib\\site-packages\\optuna\\distributions.py:700: UserWarning: The distribution is specified by [5, 70] and step=2, but the range is not divisible by `step`. It will be replaced by [5, 69].\n",
      "  warnings.warn(\n"
     ]
    },
    {
     "name": "stdout",
     "output_type": "stream",
     "text": [
      "[I 2024-05-24 11:40:07,633] Trial 46 finished with value: 0.012140895276269756 and parameters: {'n_estimators': 24, 'max_depth': 25, 'min_samples_split': 2, 'min_samples_leaf': 4}. Best is trial 41 with value: 0.011921961637169147.\n"
     ]
    },
    {
     "name": "stderr",
     "output_type": "stream",
     "text": [
      "c:\\Users\\andre\\AppData\\Local\\Programs\\Python\\Python312\\Lib\\site-packages\\optuna\\distributions.py:700: UserWarning: The distribution is specified by [5, 70] and step=2, but the range is not divisible by `step`. It will be replaced by [5, 69].\n",
      "  warnings.warn(\n"
     ]
    },
    {
     "name": "stdout",
     "output_type": "stream",
     "text": [
      "[I 2024-05-24 11:40:58,717] Trial 47 finished with value: 0.012014551960420875 and parameters: {'n_estimators': 30, 'max_depth': 31, 'min_samples_split': 4, 'min_samples_leaf': 1}. Best is trial 41 with value: 0.011921961637169147.\n"
     ]
    },
    {
     "name": "stderr",
     "output_type": "stream",
     "text": [
      "c:\\Users\\andre\\AppData\\Local\\Programs\\Python\\Python312\\Lib\\site-packages\\optuna\\distributions.py:700: UserWarning: The distribution is specified by [5, 70] and step=2, but the range is not divisible by `step`. It will be replaced by [5, 69].\n",
      "  warnings.warn(\n"
     ]
    },
    {
     "name": "stdout",
     "output_type": "stream",
     "text": [
      "[I 2024-05-24 11:41:29,565] Trial 48 finished with value: 0.012438136662058575 and parameters: {'n_estimators': 26, 'max_depth': 19, 'min_samples_split': 5, 'min_samples_leaf': 7}. Best is trial 41 with value: 0.011921961637169147.\n"
     ]
    },
    {
     "name": "stderr",
     "output_type": "stream",
     "text": [
      "c:\\Users\\andre\\AppData\\Local\\Programs\\Python\\Python312\\Lib\\site-packages\\optuna\\distributions.py:700: UserWarning: The distribution is specified by [5, 70] and step=2, but the range is not divisible by `step`. It will be replaced by [5, 69].\n",
      "  warnings.warn(\n"
     ]
    },
    {
     "name": "stdout",
     "output_type": "stream",
     "text": [
      "[I 2024-05-24 11:41:47,053] Trial 49 finished with value: 0.027716165963650553 and parameters: {'n_estimators': 38, 'max_depth': 5, 'min_samples_split': 3, 'min_samples_leaf': 2}. Best is trial 41 with value: 0.011921961637169147.\n"
     ]
    },
    {
     "name": "stderr",
     "output_type": "stream",
     "text": [
      "c:\\Users\\andre\\AppData\\Local\\Programs\\Python\\Python312\\Lib\\site-packages\\optuna\\distributions.py:700: UserWarning: The distribution is specified by [5, 70] and step=2, but the range is not divisible by `step`. It will be replaced by [5, 69].\n",
      "  warnings.warn(\n"
     ]
    },
    {
     "name": "stdout",
     "output_type": "stream",
     "text": [
      "[I 2024-05-24 11:42:27,669] Trial 50 finished with value: 0.01210706974651345 and parameters: {'n_estimators': 32, 'max_depth': 27, 'min_samples_split': 2, 'min_samples_leaf': 5}. Best is trial 41 with value: 0.011921961637169147.\n"
     ]
    },
    {
     "name": "stderr",
     "output_type": "stream",
     "text": [
      "c:\\Users\\andre\\AppData\\Local\\Programs\\Python\\Python312\\Lib\\site-packages\\optuna\\distributions.py:700: UserWarning: The distribution is specified by [5, 70] and step=2, but the range is not divisible by `step`. It will be replaced by [5, 69].\n",
      "  warnings.warn(\n"
     ]
    },
    {
     "name": "stdout",
     "output_type": "stream",
     "text": [
      "[I 2024-05-24 11:43:24,487] Trial 51 finished with value: 0.011885291639963168 and parameters: {'n_estimators': 36, 'max_depth': 63, 'min_samples_split': 3, 'min_samples_leaf': 2}. Best is trial 51 with value: 0.011885291639963168.\n"
     ]
    },
    {
     "name": "stderr",
     "output_type": "stream",
     "text": [
      "c:\\Users\\andre\\AppData\\Local\\Programs\\Python\\Python312\\Lib\\site-packages\\optuna\\distributions.py:700: UserWarning: The distribution is specified by [5, 70] and step=2, but the range is not divisible by `step`. It will be replaced by [5, 69].\n",
      "  warnings.warn(\n"
     ]
    },
    {
     "name": "stdout",
     "output_type": "stream",
     "text": [
      "[I 2024-05-24 11:44:25,053] Trial 52 finished with value: 0.011949099182510218 and parameters: {'n_estimators': 34, 'max_depth': 69, 'min_samples_split': 3, 'min_samples_leaf': 1}. Best is trial 51 with value: 0.011885291639963168.\n"
     ]
    },
    {
     "name": "stderr",
     "output_type": "stream",
     "text": [
      "c:\\Users\\andre\\AppData\\Local\\Programs\\Python\\Python312\\Lib\\site-packages\\optuna\\distributions.py:700: UserWarning: The distribution is specified by [5, 70] and step=2, but the range is not divisible by `step`. It will be replaced by [5, 69].\n",
      "  warnings.warn(\n"
     ]
    },
    {
     "name": "stdout",
     "output_type": "stream",
     "text": [
      "[I 2024-05-24 11:45:13,719] Trial 53 finished with value: 0.011973480854256958 and parameters: {'n_estimators': 36, 'max_depth': 23, 'min_samples_split': 4, 'min_samples_leaf': 4}. Best is trial 51 with value: 0.011885291639963168.\n"
     ]
    },
    {
     "name": "stderr",
     "output_type": "stream",
     "text": [
      "c:\\Users\\andre\\AppData\\Local\\Programs\\Python\\Python312\\Lib\\site-packages\\optuna\\distributions.py:700: UserWarning: The distribution is specified by [5, 70] and step=2, but the range is not divisible by `step`. It will be replaced by [5, 69].\n",
      "  warnings.warn(\n"
     ]
    },
    {
     "name": "stdout",
     "output_type": "stream",
     "text": [
      "[I 2024-05-24 11:45:59,138] Trial 54 finished with value: 0.01196475553483938 and parameters: {'n_estimators': 28, 'max_depth': 63, 'min_samples_split': 2, 'min_samples_leaf': 2}. Best is trial 51 with value: 0.011885291639963168.\n"
     ]
    },
    {
     "name": "stderr",
     "output_type": "stream",
     "text": [
      "c:\\Users\\andre\\AppData\\Local\\Programs\\Python\\Python312\\Lib\\site-packages\\optuna\\distributions.py:700: UserWarning: The distribution is specified by [5, 70] and step=2, but the range is not divisible by `step`. It will be replaced by [5, 69].\n",
      "  warnings.warn(\n"
     ]
    },
    {
     "name": "stdout",
     "output_type": "stream",
     "text": [
      "[I 2024-05-24 11:46:45,060] Trial 55 finished with value: 0.011947478680214365 and parameters: {'n_estimators': 32, 'max_depth': 35, 'min_samples_split': 5, 'min_samples_leaf': 3}. Best is trial 51 with value: 0.011885291639963168.\n"
     ]
    },
    {
     "name": "stderr",
     "output_type": "stream",
     "text": [
      "c:\\Users\\andre\\AppData\\Local\\Programs\\Python\\Python312\\Lib\\site-packages\\optuna\\distributions.py:700: UserWarning: The distribution is specified by [5, 70] and step=2, but the range is not divisible by `step`. It will be replaced by [5, 69].\n",
      "  warnings.warn(\n"
     ]
    },
    {
     "name": "stdout",
     "output_type": "stream",
     "text": [
      "[I 2024-05-24 11:47:41,276] Trial 56 finished with value: 0.012153760912705923 and parameters: {'n_estimators': 40, 'max_depth': 13, 'min_samples_split': 3, 'min_samples_leaf': 1}. Best is trial 51 with value: 0.011885291639963168.\n"
     ]
    },
    {
     "name": "stderr",
     "output_type": "stream",
     "text": [
      "c:\\Users\\andre\\AppData\\Local\\Programs\\Python\\Python312\\Lib\\site-packages\\optuna\\distributions.py:700: UserWarning: The distribution is specified by [5, 70] and step=2, but the range is not divisible by `step`. It will be replaced by [5, 69].\n",
      "  warnings.warn(\n"
     ]
    },
    {
     "name": "stdout",
     "output_type": "stream",
     "text": [
      "[I 2024-05-24 11:48:35,501] Trial 57 finished with value: 0.011924689168290125 and parameters: {'n_estimators': 38, 'max_depth': 33, 'min_samples_split': 4, 'min_samples_leaf': 3}. Best is trial 51 with value: 0.011885291639963168.\n"
     ]
    },
    {
     "name": "stderr",
     "output_type": "stream",
     "text": [
      "c:\\Users\\andre\\AppData\\Local\\Programs\\Python\\Python312\\Lib\\site-packages\\optuna\\distributions.py:700: UserWarning: The distribution is specified by [5, 70] and step=2, but the range is not divisible by `step`. It will be replaced by [5, 69].\n",
      "  warnings.warn(\n"
     ]
    },
    {
     "name": "stdout",
     "output_type": "stream",
     "text": [
      "[I 2024-05-24 11:49:13,989] Trial 58 finished with value: 0.014044494609337283 and parameters: {'n_estimators': 42, 'max_depth': 39, 'min_samples_split': 2, 'min_samples_leaf': 20}. Best is trial 51 with value: 0.011885291639963168.\n"
     ]
    },
    {
     "name": "stderr",
     "output_type": "stream",
     "text": [
      "c:\\Users\\andre\\AppData\\Local\\Programs\\Python\\Python312\\Lib\\site-packages\\optuna\\distributions.py:700: UserWarning: The distribution is specified by [5, 70] and step=2, but the range is not divisible by `step`. It will be replaced by [5, 69].\n",
      "  warnings.warn(\n"
     ]
    },
    {
     "name": "stdout",
     "output_type": "stream",
     "text": [
      "[I 2024-05-24 11:50:16,161] Trial 59 finished with value: 0.012232673701616032 and parameters: {'n_estimators': 48, 'max_depth': 33, 'min_samples_split': 17, 'min_samples_leaf': 2}. Best is trial 51 with value: 0.011885291639963168.\n"
     ]
    },
    {
     "name": "stderr",
     "output_type": "stream",
     "text": [
      "c:\\Users\\andre\\AppData\\Local\\Programs\\Python\\Python312\\Lib\\site-packages\\optuna\\distributions.py:700: UserWarning: The distribution is specified by [5, 70] and step=2, but the range is not divisible by `step`. It will be replaced by [5, 69].\n",
      "  warnings.warn(\n"
     ]
    },
    {
     "name": "stdout",
     "output_type": "stream",
     "text": [
      "[I 2024-05-24 11:50:52,164] Trial 60 finished with value: 0.013870958915826915 and parameters: {'n_estimators': 38, 'max_depth': 63, 'min_samples_split': 5, 'min_samples_leaf': 18}. Best is trial 51 with value: 0.011885291639963168.\n"
     ]
    },
    {
     "name": "stderr",
     "output_type": "stream",
     "text": [
      "c:\\Users\\andre\\AppData\\Local\\Programs\\Python\\Python312\\Lib\\site-packages\\optuna\\distributions.py:700: UserWarning: The distribution is specified by [5, 70] and step=2, but the range is not divisible by `step`. It will be replaced by [5, 69].\n",
      "  warnings.warn(\n"
     ]
    },
    {
     "name": "stdout",
     "output_type": "stream",
     "text": [
      "[I 2024-05-24 11:51:43,590] Trial 61 finished with value: 0.011912793230805942 and parameters: {'n_estimators': 36, 'max_depth': 27, 'min_samples_split': 4, 'min_samples_leaf': 3}. Best is trial 51 with value: 0.011885291639963168.\n"
     ]
    },
    {
     "name": "stderr",
     "output_type": "stream",
     "text": [
      "c:\\Users\\andre\\AppData\\Local\\Programs\\Python\\Python312\\Lib\\site-packages\\optuna\\distributions.py:700: UserWarning: The distribution is specified by [5, 70] and step=2, but the range is not divisible by `step`. It will be replaced by [5, 69].\n",
      "  warnings.warn(\n"
     ]
    },
    {
     "name": "stdout",
     "output_type": "stream",
     "text": [
      "[I 2024-05-24 11:52:28,992] Trial 62 finished with value: 0.011999677260968516 and parameters: {'n_estimators': 34, 'max_depth': 23, 'min_samples_split': 4, 'min_samples_leaf': 4}. Best is trial 51 with value: 0.011885291639963168.\n"
     ]
    },
    {
     "name": "stderr",
     "output_type": "stream",
     "text": [
      "c:\\Users\\andre\\AppData\\Local\\Programs\\Python\\Python312\\Lib\\site-packages\\optuna\\distributions.py:700: UserWarning: The distribution is specified by [5, 70] and step=2, but the range is not divisible by `step`. It will be replaced by [5, 69].\n",
      "  warnings.warn(\n"
     ]
    },
    {
     "name": "stdout",
     "output_type": "stream",
     "text": [
      "[I 2024-05-24 11:53:11,797] Trial 63 finished with value: 0.011968162771543164 and parameters: {'n_estimators': 30, 'max_depth': 31, 'min_samples_split': 3, 'min_samples_leaf': 3}. Best is trial 51 with value: 0.011885291639963168.\n"
     ]
    },
    {
     "name": "stderr",
     "output_type": "stream",
     "text": [
      "c:\\Users\\andre\\AppData\\Local\\Programs\\Python\\Python312\\Lib\\site-packages\\optuna\\distributions.py:700: UserWarning: The distribution is specified by [5, 70] and step=2, but the range is not divisible by `step`. It will be replaced by [5, 69].\n",
      "  warnings.warn(\n"
     ]
    },
    {
     "name": "stdout",
     "output_type": "stream",
     "text": [
      "[I 2024-05-24 11:53:27,497] Trial 64 finished with value: 0.01260421463440778 and parameters: {'n_estimators': 10, 'max_depth': 27, 'min_samples_split': 2, 'min_samples_leaf': 2}. Best is trial 51 with value: 0.011885291639963168.\n"
     ]
    },
    {
     "name": "stderr",
     "output_type": "stream",
     "text": [
      "c:\\Users\\andre\\AppData\\Local\\Programs\\Python\\Python312\\Lib\\site-packages\\optuna\\distributions.py:700: UserWarning: The distribution is specified by [5, 70] and step=2, but the range is not divisible by `step`. It will be replaced by [5, 69].\n",
      "  warnings.warn(\n"
     ]
    },
    {
     "name": "stdout",
     "output_type": "stream",
     "text": [
      "[I 2024-05-24 11:54:25,898] Trial 65 finished with value: 0.011956452536038912 and parameters: {'n_estimators': 36, 'max_depth': 27, 'min_samples_split': 6, 'min_samples_leaf': 1}. Best is trial 51 with value: 0.011885291639963168.\n"
     ]
    },
    {
     "name": "stderr",
     "output_type": "stream",
     "text": [
      "c:\\Users\\andre\\AppData\\Local\\Programs\\Python\\Python312\\Lib\\site-packages\\optuna\\distributions.py:700: UserWarning: The distribution is specified by [5, 70] and step=2, but the range is not divisible by `step`. It will be replaced by [5, 69].\n",
      "  warnings.warn(\n"
     ]
    },
    {
     "name": "stdout",
     "output_type": "stream",
     "text": [
      "[I 2024-05-24 11:55:09,498] Trial 66 finished with value: 0.012747697788552479 and parameters: {'n_estimators': 40, 'max_depth': 19, 'min_samples_split': 3, 'min_samples_leaf': 10}. Best is trial 51 with value: 0.011885291639963168.\n"
     ]
    },
    {
     "name": "stderr",
     "output_type": "stream",
     "text": [
      "c:\\Users\\andre\\AppData\\Local\\Programs\\Python\\Python312\\Lib\\site-packages\\optuna\\distributions.py:700: UserWarning: The distribution is specified by [5, 70] and step=2, but the range is not divisible by `step`. It will be replaced by [5, 69].\n",
      "  warnings.warn(\n"
     ]
    },
    {
     "name": "stdout",
     "output_type": "stream",
     "text": [
      "[I 2024-05-24 11:55:59,522] Trial 67 finished with value: 0.012186835505593917 and parameters: {'n_estimators': 42, 'max_depth': 21, 'min_samples_split': 4, 'min_samples_leaf': 6}. Best is trial 51 with value: 0.011885291639963168.\n"
     ]
    },
    {
     "name": "stderr",
     "output_type": "stream",
     "text": [
      "c:\\Users\\andre\\AppData\\Local\\Programs\\Python\\Python312\\Lib\\site-packages\\optuna\\distributions.py:700: UserWarning: The distribution is specified by [5, 70] and step=2, but the range is not divisible by `step`. It will be replaced by [5, 69].\n",
      "  warnings.warn(\n"
     ]
    },
    {
     "name": "stdout",
     "output_type": "stream",
     "text": [
      "[I 2024-05-24 11:56:33,697] Trial 68 finished with value: 0.014046192743761034 and parameters: {'n_estimators': 38, 'max_depth': 9, 'min_samples_split': 5, 'min_samples_leaf': 5}. Best is trial 51 with value: 0.011885291639963168.\n"
     ]
    },
    {
     "name": "stderr",
     "output_type": "stream",
     "text": [
      "c:\\Users\\andre\\AppData\\Local\\Programs\\Python\\Python312\\Lib\\site-packages\\optuna\\distributions.py:700: UserWarning: The distribution is specified by [5, 70] and step=2, but the range is not divisible by `step`. It will be replaced by [5, 69].\n",
      "  warnings.warn(\n"
     ]
    },
    {
     "name": "stdout",
     "output_type": "stream",
     "text": [
      "[I 2024-05-24 11:57:22,489] Trial 69 finished with value: 0.011947478680214365 and parameters: {'n_estimators': 32, 'max_depth': 33, 'min_samples_split': 2, 'min_samples_leaf': 3}. Best is trial 51 with value: 0.011885291639963168.\n"
     ]
    },
    {
     "name": "stderr",
     "output_type": "stream",
     "text": [
      "c:\\Users\\andre\\AppData\\Local\\Programs\\Python\\Python312\\Lib\\site-packages\\optuna\\distributions.py:700: UserWarning: The distribution is specified by [5, 70] and step=2, but the range is not divisible by `step`. It will be replaced by [5, 69].\n",
      "  warnings.warn(\n"
     ]
    },
    {
     "name": "stdout",
     "output_type": "stream",
     "text": [
      "[I 2024-05-24 11:58:03,259] Trial 70 finished with value: 0.012421301340517606 and parameters: {'n_estimators': 34, 'max_depth': 59, 'min_samples_split': 20, 'min_samples_leaf': 2}. Best is trial 51 with value: 0.011885291639963168.\n"
     ]
    },
    {
     "name": "stderr",
     "output_type": "stream",
     "text": [
      "c:\\Users\\andre\\AppData\\Local\\Programs\\Python\\Python312\\Lib\\site-packages\\optuna\\distributions.py:700: UserWarning: The distribution is specified by [5, 70] and step=2, but the range is not divisible by `step`. It will be replaced by [5, 69].\n",
      "  warnings.warn(\n"
     ]
    },
    {
     "name": "stdout",
     "output_type": "stream",
     "text": [
      "[I 2024-05-24 11:58:50,983] Trial 71 finished with value: 0.011912793230805942 and parameters: {'n_estimators': 36, 'max_depth': 29, 'min_samples_split': 3, 'min_samples_leaf': 3}. Best is trial 51 with value: 0.011885291639963168.\n"
     ]
    },
    {
     "name": "stderr",
     "output_type": "stream",
     "text": [
      "c:\\Users\\andre\\AppData\\Local\\Programs\\Python\\Python312\\Lib\\site-packages\\optuna\\distributions.py:700: UserWarning: The distribution is specified by [5, 70] and step=2, but the range is not divisible by `step`. It will be replaced by [5, 69].\n",
      "  warnings.warn(\n"
     ]
    },
    {
     "name": "stdout",
     "output_type": "stream",
     "text": [
      "[I 2024-05-24 11:59:38,671] Trial 72 finished with value: 0.011912793230805942 and parameters: {'n_estimators': 36, 'max_depth': 29, 'min_samples_split': 3, 'min_samples_leaf': 3}. Best is trial 51 with value: 0.011885291639963168.\n"
     ]
    },
    {
     "name": "stderr",
     "output_type": "stream",
     "text": [
      "c:\\Users\\andre\\AppData\\Local\\Programs\\Python\\Python312\\Lib\\site-packages\\optuna\\distributions.py:700: UserWarning: The distribution is specified by [5, 70] and step=2, but the range is not divisible by `step`. It will be replaced by [5, 69].\n",
      "  warnings.warn(\n"
     ]
    },
    {
     "name": "stdout",
     "output_type": "stream",
     "text": [
      "[I 2024-05-24 12:00:29,197] Trial 73 finished with value: 0.011924689168290125 and parameters: {'n_estimators': 38, 'max_depth': 29, 'min_samples_split': 3, 'min_samples_leaf': 3}. Best is trial 51 with value: 0.011885291639963168.\n"
     ]
    },
    {
     "name": "stderr",
     "output_type": "stream",
     "text": [
      "c:\\Users\\andre\\AppData\\Local\\Programs\\Python\\Python312\\Lib\\site-packages\\optuna\\distributions.py:700: UserWarning: The distribution is specified by [5, 70] and step=2, but the range is not divisible by `step`. It will be replaced by [5, 69].\n",
      "  warnings.warn(\n"
     ]
    },
    {
     "name": "stdout",
     "output_type": "stream",
     "text": [
      "[I 2024-05-24 12:01:22,478] Trial 74 finished with value: 0.011892191941379379 and parameters: {'n_estimators': 40, 'max_depth': 29, 'min_samples_split': 4, 'min_samples_leaf': 3}. Best is trial 51 with value: 0.011885291639963168.\n"
     ]
    },
    {
     "name": "stderr",
     "output_type": "stream",
     "text": [
      "c:\\Users\\andre\\AppData\\Local\\Programs\\Python\\Python312\\Lib\\site-packages\\optuna\\distributions.py:700: UserWarning: The distribution is specified by [5, 70] and step=2, but the range is not divisible by `step`. It will be replaced by [5, 69].\n",
      "  warnings.warn(\n"
     ]
    },
    {
     "name": "stdout",
     "output_type": "stream",
     "text": [
      "[I 2024-05-24 12:02:17,818] Trial 75 finished with value: 0.011940804019543757 and parameters: {'n_estimators': 44, 'max_depth': 31, 'min_samples_split': 6, 'min_samples_leaf': 4}. Best is trial 51 with value: 0.011885291639963168.\n"
     ]
    },
    {
     "name": "stderr",
     "output_type": "stream",
     "text": [
      "c:\\Users\\andre\\AppData\\Local\\Programs\\Python\\Python312\\Lib\\site-packages\\optuna\\distributions.py:700: UserWarning: The distribution is specified by [5, 70] and step=2, but the range is not divisible by `step`. It will be replaced by [5, 69].\n",
      "  warnings.warn(\n"
     ]
    },
    {
     "name": "stdout",
     "output_type": "stream",
     "text": [
      "[I 2024-05-24 12:03:01,717] Trial 76 finished with value: 0.012309783023940864 and parameters: {'n_estimators': 40, 'max_depth': 35, 'min_samples_split': 4, 'min_samples_leaf': 7}. Best is trial 51 with value: 0.011885291639963168.\n"
     ]
    },
    {
     "name": "stderr",
     "output_type": "stream",
     "text": [
      "c:\\Users\\andre\\AppData\\Local\\Programs\\Python\\Python312\\Lib\\site-packages\\optuna\\distributions.py:700: UserWarning: The distribution is specified by [5, 70] and step=2, but the range is not divisible by `step`. It will be replaced by [5, 69].\n",
      "  warnings.warn(\n"
     ]
    },
    {
     "name": "stdout",
     "output_type": "stream",
     "text": [
      "[I 2024-05-24 12:03:51,598] Trial 77 finished with value: 0.012024532297635213 and parameters: {'n_estimators': 42, 'max_depth': 29, 'min_samples_split': 5, 'min_samples_leaf': 5}. Best is trial 51 with value: 0.011885291639963168.\n"
     ]
    },
    {
     "name": "stderr",
     "output_type": "stream",
     "text": [
      "c:\\Users\\andre\\AppData\\Local\\Programs\\Python\\Python312\\Lib\\site-packages\\optuna\\distributions.py:700: UserWarning: The distribution is specified by [5, 70] and step=2, but the range is not divisible by `step`. It will be replaced by [5, 69].\n",
      "  warnings.warn(\n"
     ]
    },
    {
     "name": "stdout",
     "output_type": "stream",
     "text": [
      "[I 2024-05-24 12:04:42,392] Trial 78 finished with value: 0.011924689168290125 and parameters: {'n_estimators': 38, 'max_depth': 29, 'min_samples_split': 3, 'min_samples_leaf': 3}. Best is trial 51 with value: 0.011885291639963168.\n"
     ]
    },
    {
     "name": "stderr",
     "output_type": "stream",
     "text": [
      "c:\\Users\\andre\\AppData\\Local\\Programs\\Python\\Python312\\Lib\\site-packages\\optuna\\distributions.py:700: UserWarning: The distribution is specified by [5, 70] and step=2, but the range is not divisible by `step`. It will be replaced by [5, 69].\n",
      "  warnings.warn(\n"
     ]
    },
    {
     "name": "stdout",
     "output_type": "stream",
     "text": [
      "[I 2024-05-24 12:05:17,157] Trial 79 finished with value: 0.013055757806120168 and parameters: {'n_estimators': 36, 'max_depth': 27, 'min_samples_split': 4, 'min_samples_leaf': 12}. Best is trial 51 with value: 0.011885291639963168.\n"
     ]
    },
    {
     "name": "stderr",
     "output_type": "stream",
     "text": [
      "c:\\Users\\andre\\AppData\\Local\\Programs\\Python\\Python312\\Lib\\site-packages\\optuna\\distributions.py:700: UserWarning: The distribution is specified by [5, 70] and step=2, but the range is not divisible by `step`. It will be replaced by [5, 69].\n",
      "  warnings.warn(\n"
     ]
    },
    {
     "name": "stdout",
     "output_type": "stream",
     "text": [
      "[I 2024-05-24 12:06:02,763] Trial 80 finished with value: 0.012184805468232912 and parameters: {'n_estimators': 40, 'max_depth': 41, 'min_samples_split': 3, 'min_samples_leaf': 6}. Best is trial 51 with value: 0.011885291639963168.\n"
     ]
    },
    {
     "name": "stderr",
     "output_type": "stream",
     "text": [
      "c:\\Users\\andre\\AppData\\Local\\Programs\\Python\\Python312\\Lib\\site-packages\\optuna\\distributions.py:700: UserWarning: The distribution is specified by [5, 70] and step=2, but the range is not divisible by `step`. It will be replaced by [5, 69].\n",
      "  warnings.warn(\n"
     ]
    },
    {
     "name": "stdout",
     "output_type": "stream",
     "text": [
      "[I 2024-05-24 12:06:53,257] Trial 81 finished with value: 0.011924689168290125 and parameters: {'n_estimators': 38, 'max_depth': 31, 'min_samples_split': 3, 'min_samples_leaf': 3}. Best is trial 51 with value: 0.011885291639963168.\n"
     ]
    },
    {
     "name": "stderr",
     "output_type": "stream",
     "text": [
      "c:\\Users\\andre\\AppData\\Local\\Programs\\Python\\Python312\\Lib\\site-packages\\optuna\\distributions.py:700: UserWarning: The distribution is specified by [5, 70] and step=2, but the range is not divisible by `step`. It will be replaced by [5, 69].\n",
      "  warnings.warn(\n"
     ]
    },
    {
     "name": "stdout",
     "output_type": "stream",
     "text": [
      "[I 2024-05-24 12:07:40,938] Trial 82 finished with value: 0.011981864325830618 and parameters: {'n_estimators': 38, 'max_depth': 29, 'min_samples_split': 5, 'min_samples_leaf': 4}. Best is trial 51 with value: 0.011885291639963168.\n"
     ]
    },
    {
     "name": "stderr",
     "output_type": "stream",
     "text": [
      "c:\\Users\\andre\\AppData\\Local\\Programs\\Python\\Python312\\Lib\\site-packages\\optuna\\distributions.py:700: UserWarning: The distribution is specified by [5, 70] and step=2, but the range is not divisible by `step`. It will be replaced by [5, 69].\n",
      "  warnings.warn(\n"
     ]
    },
    {
     "name": "stdout",
     "output_type": "stream",
     "text": [
      "[I 2024-05-24 12:08:30,386] Trial 83 finished with value: 0.011912793230805942 and parameters: {'n_estimators': 36, 'max_depth': 35, 'min_samples_split': 4, 'min_samples_leaf': 3}. Best is trial 51 with value: 0.011885291639963168.\n"
     ]
    },
    {
     "name": "stderr",
     "output_type": "stream",
     "text": [
      "c:\\Users\\andre\\AppData\\Local\\Programs\\Python\\Python312\\Lib\\site-packages\\optuna\\distributions.py:700: UserWarning: The distribution is specified by [5, 70] and step=2, but the range is not divisible by `step`. It will be replaced by [5, 69].\n",
      "  warnings.warn(\n"
     ]
    },
    {
     "name": "stdout",
     "output_type": "stream",
     "text": [
      "[I 2024-05-24 12:09:25,284] Trial 84 finished with value: 0.011912793230805942 and parameters: {'n_estimators': 36, 'max_depth': 35, 'min_samples_split': 6, 'min_samples_leaf': 3}. Best is trial 51 with value: 0.011885291639963168.\n"
     ]
    },
    {
     "name": "stderr",
     "output_type": "stream",
     "text": [
      "c:\\Users\\andre\\AppData\\Local\\Programs\\Python\\Python312\\Lib\\site-packages\\optuna\\distributions.py:700: UserWarning: The distribution is specified by [5, 70] and step=2, but the range is not divisible by `step`. It will be replaced by [5, 69].\n",
      "  warnings.warn(\n"
     ]
    },
    {
     "name": "stdout",
     "output_type": "stream",
     "text": [
      "[I 2024-05-24 12:10:14,670] Trial 85 finished with value: 0.011973480854256958 and parameters: {'n_estimators': 36, 'max_depth': 37, 'min_samples_split': 6, 'min_samples_leaf': 4}. Best is trial 51 with value: 0.011885291639963168.\n"
     ]
    },
    {
     "name": "stderr",
     "output_type": "stream",
     "text": [
      "c:\\Users\\andre\\AppData\\Local\\Programs\\Python\\Python312\\Lib\\site-packages\\optuna\\distributions.py:700: UserWarning: The distribution is specified by [5, 70] and step=2, but the range is not divisible by `step`. It will be replaced by [5, 69].\n",
      "  warnings.warn(\n"
     ]
    },
    {
     "name": "stdout",
     "output_type": "stream",
     "text": [
      "[I 2024-05-24 12:11:14,552] Trial 86 finished with value: 0.012011015765486664 and parameters: {'n_estimators': 34, 'max_depth': 35, 'min_samples_split': 5, 'min_samples_leaf': 1}. Best is trial 51 with value: 0.011885291639963168.\n"
     ]
    },
    {
     "name": "stderr",
     "output_type": "stream",
     "text": [
      "c:\\Users\\andre\\AppData\\Local\\Programs\\Python\\Python312\\Lib\\site-packages\\optuna\\distributions.py:700: UserWarning: The distribution is specified by [5, 70] and step=2, but the range is not divisible by `step`. It will be replaced by [5, 69].\n",
      "  warnings.warn(\n"
     ]
    },
    {
     "name": "stdout",
     "output_type": "stream",
     "text": [
      "[I 2024-05-24 12:12:10,493] Trial 87 finished with value: 0.011912793230805942 and parameters: {'n_estimators': 36, 'max_depth': 37, 'min_samples_split': 4, 'min_samples_leaf': 3}. Best is trial 51 with value: 0.011885291639963168.\n"
     ]
    },
    {
     "name": "stderr",
     "output_type": "stream",
     "text": [
      "c:\\Users\\andre\\AppData\\Local\\Programs\\Python\\Python312\\Lib\\site-packages\\optuna\\distributions.py:700: UserWarning: The distribution is specified by [5, 70] and step=2, but the range is not divisible by `step`. It will be replaced by [5, 69].\n",
      "  warnings.warn(\n"
     ]
    },
    {
     "name": "stdout",
     "output_type": "stream",
     "text": [
      "[I 2024-05-24 12:12:57,240] Trial 88 finished with value: 0.012079248083272908 and parameters: {'n_estimators': 34, 'max_depth': 41, 'min_samples_split': 7, 'min_samples_leaf': 5}. Best is trial 51 with value: 0.011885291639963168.\n"
     ]
    },
    {
     "name": "stderr",
     "output_type": "stream",
     "text": [
      "c:\\Users\\andre\\AppData\\Local\\Programs\\Python\\Python312\\Lib\\site-packages\\optuna\\distributions.py:700: UserWarning: The distribution is specified by [5, 70] and step=2, but the range is not divisible by `step`. It will be replaced by [5, 69].\n",
      "  warnings.warn(\n"
     ]
    },
    {
     "name": "stdout",
     "output_type": "stream",
     "text": [
      "[I 2024-05-24 12:13:45,952] Trial 89 finished with value: 0.011973480854256958 and parameters: {'n_estimators': 36, 'max_depth': 39, 'min_samples_split': 4, 'min_samples_leaf': 4}. Best is trial 51 with value: 0.011885291639963168.\n"
     ]
    },
    {
     "name": "stderr",
     "output_type": "stream",
     "text": [
      "c:\\Users\\andre\\AppData\\Local\\Programs\\Python\\Python312\\Lib\\site-packages\\optuna\\distributions.py:700: UserWarning: The distribution is specified by [5, 70] and step=2, but the range is not divisible by `step`. It will be replaced by [5, 69].\n",
      "  warnings.warn(\n"
     ]
    },
    {
     "name": "stdout",
     "output_type": "stream",
     "text": [
      "[I 2024-05-24 12:14:03,727] Trial 90 finished with value: 0.012461279269698717 and parameters: {'n_estimators': 12, 'max_depth': 37, 'min_samples_split': 6, 'min_samples_leaf': 3}. Best is trial 51 with value: 0.011885291639963168.\n"
     ]
    },
    {
     "name": "stderr",
     "output_type": "stream",
     "text": [
      "c:\\Users\\andre\\AppData\\Local\\Programs\\Python\\Python312\\Lib\\site-packages\\optuna\\distributions.py:700: UserWarning: The distribution is specified by [5, 70] and step=2, but the range is not divisible by `step`. It will be replaced by [5, 69].\n",
      "  warnings.warn(\n"
     ]
    },
    {
     "name": "stdout",
     "output_type": "stream",
     "text": [
      "[I 2024-05-24 12:15:01,601] Trial 91 finished with value: 0.011885291639963168 and parameters: {'n_estimators': 36, 'max_depth': 33, 'min_samples_split': 4, 'min_samples_leaf': 2}. Best is trial 51 with value: 0.011885291639963168.\n"
     ]
    },
    {
     "name": "stderr",
     "output_type": "stream",
     "text": [
      "c:\\Users\\andre\\AppData\\Local\\Programs\\Python\\Python312\\Lib\\site-packages\\optuna\\distributions.py:700: UserWarning: The distribution is specified by [5, 70] and step=2, but the range is not divisible by `step`. It will be replaced by [5, 69].\n",
      "  warnings.warn(\n"
     ]
    },
    {
     "name": "stdout",
     "output_type": "stream",
     "text": [
      "[I 2024-05-24 12:16:06,107] Trial 92 finished with value: 0.01196621986996285 and parameters: {'n_estimators': 36, 'max_depth': 33, 'min_samples_split': 4, 'min_samples_leaf': 1}. Best is trial 51 with value: 0.011885291639963168.\n"
     ]
    },
    {
     "name": "stderr",
     "output_type": "stream",
     "text": [
      "c:\\Users\\andre\\AppData\\Local\\Programs\\Python\\Python312\\Lib\\site-packages\\optuna\\distributions.py:700: UserWarning: The distribution is specified by [5, 70] and step=2, but the range is not divisible by `step`. It will be replaced by [5, 69].\n",
      "  warnings.warn(\n"
     ]
    },
    {
     "name": "stdout",
     "output_type": "stream",
     "text": [
      "[I 2024-05-24 12:17:03,755] Trial 93 finished with value: 0.011885291639963168 and parameters: {'n_estimators': 36, 'max_depth': 35, 'min_samples_split': 4, 'min_samples_leaf': 2}. Best is trial 51 with value: 0.011885291639963168.\n"
     ]
    },
    {
     "name": "stderr",
     "output_type": "stream",
     "text": [
      "c:\\Users\\andre\\AppData\\Local\\Programs\\Python\\Python312\\Lib\\site-packages\\optuna\\distributions.py:700: UserWarning: The distribution is specified by [5, 70] and step=2, but the range is not divisible by `step`. It will be replaced by [5, 69].\n",
      "  warnings.warn(\n"
     ]
    },
    {
     "name": "stdout",
     "output_type": "stream",
     "text": [
      "[I 2024-05-24 12:17:52,747] Trial 94 finished with value: 0.012071342973991237 and parameters: {'n_estimators': 36, 'max_depth': 35, 'min_samples_split': 11, 'min_samples_leaf': 3}. Best is trial 51 with value: 0.011885291639963168.\n"
     ]
    },
    {
     "name": "stderr",
     "output_type": "stream",
     "text": [
      "c:\\Users\\andre\\AppData\\Local\\Programs\\Python\\Python312\\Lib\\site-packages\\optuna\\distributions.py:700: UserWarning: The distribution is specified by [5, 70] and step=2, but the range is not divisible by `step`. It will be replaced by [5, 69].\n",
      "  warnings.warn(\n"
     ]
    },
    {
     "name": "stdout",
     "output_type": "stream",
     "text": [
      "[I 2024-05-24 12:18:56,907] Trial 95 finished with value: 0.011881060937487229 and parameters: {'n_estimators': 40, 'max_depth': 41, 'min_samples_split': 5, 'min_samples_leaf': 2}. Best is trial 95 with value: 0.011881060937487229.\n"
     ]
    },
    {
     "name": "stderr",
     "output_type": "stream",
     "text": [
      "c:\\Users\\andre\\AppData\\Local\\Programs\\Python\\Python312\\Lib\\site-packages\\optuna\\distributions.py:700: UserWarning: The distribution is specified by [5, 70] and step=2, but the range is not divisible by `step`. It will be replaced by [5, 69].\n",
      "  warnings.warn(\n"
     ]
    },
    {
     "name": "stdout",
     "output_type": "stream",
     "text": [
      "[I 2024-05-24 12:20:08,050] Trial 96 finished with value: 0.011960304053586288 and parameters: {'n_estimators': 44, 'max_depth': 31, 'min_samples_split': 5, 'min_samples_leaf': 1}. Best is trial 95 with value: 0.011881060937487229.\n"
     ]
    },
    {
     "name": "stderr",
     "output_type": "stream",
     "text": [
      "c:\\Users\\andre\\AppData\\Local\\Programs\\Python\\Python312\\Lib\\site-packages\\optuna\\distributions.py:700: UserWarning: The distribution is specified by [5, 70] and step=2, but the range is not divisible by `step`. It will be replaced by [5, 69].\n",
      "  warnings.warn(\n"
     ]
    },
    {
     "name": "stdout",
     "output_type": "stream",
     "text": [
      "[I 2024-05-24 12:21:23,734] Trial 97 finished with value: 0.011893401012469811 and parameters: {'n_estimators': 42, 'max_depth': 47, 'min_samples_split': 6, 'min_samples_leaf': 2}. Best is trial 95 with value: 0.011881060937487229.\n"
     ]
    },
    {
     "name": "stderr",
     "output_type": "stream",
     "text": [
      "c:\\Users\\andre\\AppData\\Local\\Programs\\Python\\Python312\\Lib\\site-packages\\optuna\\distributions.py:700: UserWarning: The distribution is specified by [5, 70] and step=2, but the range is not divisible by `step`. It will be replaced by [5, 69].\n",
      "  warnings.warn(\n"
     ]
    },
    {
     "name": "stdout",
     "output_type": "stream",
     "text": [
      "[I 2024-05-24 12:22:41,968] Trial 98 finished with value: 0.01185572575296864 and parameters: {'n_estimators': 46, 'max_depth': 53, 'min_samples_split': 5, 'min_samples_leaf': 2}. Best is trial 98 with value: 0.01185572575296864.\n"
     ]
    },
    {
     "name": "stderr",
     "output_type": "stream",
     "text": [
      "c:\\Users\\andre\\AppData\\Local\\Programs\\Python\\Python312\\Lib\\site-packages\\optuna\\distributions.py:700: UserWarning: The distribution is specified by [5, 70] and step=2, but the range is not divisible by `step`. It will be replaced by [5, 69].\n",
      "  warnings.warn(\n"
     ]
    },
    {
     "name": "stdout",
     "output_type": "stream",
     "text": [
      "[I 2024-05-24 12:23:49,187] Trial 99 finished with value: 0.01185572575296864 and parameters: {'n_estimators': 46, 'max_depth': 53, 'min_samples_split': 5, 'min_samples_leaf': 2}. Best is trial 98 with value: 0.01185572575296864.\n"
     ]
    },
    {
     "name": "stderr",
     "output_type": "stream",
     "text": [
      "c:\\Users\\andre\\AppData\\Local\\Programs\\Python\\Python312\\Lib\\site-packages\\optuna\\distributions.py:700: UserWarning: The distribution is specified by [5, 70] and step=2, but the range is not divisible by `step`. It will be replaced by [5, 69].\n",
      "  warnings.warn(\n"
     ]
    },
    {
     "name": "stdout",
     "output_type": "stream",
     "text": [
      "[I 2024-05-24 12:24:55,696] Trial 100 finished with value: 0.01187280027848753 and parameters: {'n_estimators': 46, 'max_depth': 53, 'min_samples_split': 6, 'min_samples_leaf': 2}. Best is trial 98 with value: 0.01185572575296864.\n"
     ]
    },
    {
     "name": "stderr",
     "output_type": "stream",
     "text": [
      "c:\\Users\\andre\\AppData\\Local\\Programs\\Python\\Python312\\Lib\\site-packages\\optuna\\distributions.py:700: UserWarning: The distribution is specified by [5, 70] and step=2, but the range is not divisible by `step`. It will be replaced by [5, 69].\n",
      "  warnings.warn(\n"
     ]
    },
    {
     "name": "stdout",
     "output_type": "stream",
     "text": [
      "[I 2024-05-24 12:26:02,515] Trial 101 finished with value: 0.01186248942300084 and parameters: {'n_estimators': 48, 'max_depth': 53, 'min_samples_split': 6, 'min_samples_leaf': 2}. Best is trial 98 with value: 0.01185572575296864.\n"
     ]
    },
    {
     "name": "stderr",
     "output_type": "stream",
     "text": [
      "c:\\Users\\andre\\AppData\\Local\\Programs\\Python\\Python312\\Lib\\site-packages\\optuna\\distributions.py:700: UserWarning: The distribution is specified by [5, 70] and step=2, but the range is not divisible by `step`. It will be replaced by [5, 69].\n",
      "  warnings.warn(\n"
     ]
    },
    {
     "name": "stdout",
     "output_type": "stream",
     "text": [
      "[I 2024-05-24 12:27:12,086] Trial 102 finished with value: 0.011887259861711253 and parameters: {'n_estimators': 48, 'max_depth': 53, 'min_samples_split': 7, 'min_samples_leaf': 2}. Best is trial 98 with value: 0.01185572575296864.\n"
     ]
    },
    {
     "name": "stderr",
     "output_type": "stream",
     "text": [
      "c:\\Users\\andre\\AppData\\Local\\Programs\\Python\\Python312\\Lib\\site-packages\\optuna\\distributions.py:700: UserWarning: The distribution is specified by [5, 70] and step=2, but the range is not divisible by `step`. It will be replaced by [5, 69].\n",
      "  warnings.warn(\n"
     ]
    },
    {
     "name": "stdout",
     "output_type": "stream",
     "text": [
      "[I 2024-05-24 12:28:28,051] Trial 103 finished with value: 0.011932313614960905 and parameters: {'n_estimators': 46, 'max_depth': 53, 'min_samples_split': 6, 'min_samples_leaf': 1}. Best is trial 98 with value: 0.01185572575296864.\n"
     ]
    },
    {
     "name": "stderr",
     "output_type": "stream",
     "text": [
      "c:\\Users\\andre\\AppData\\Local\\Programs\\Python\\Python312\\Lib\\site-packages\\optuna\\distributions.py:700: UserWarning: The distribution is specified by [5, 70] and step=2, but the range is not divisible by `step`. It will be replaced by [5, 69].\n",
      "  warnings.warn(\n"
     ]
    },
    {
     "name": "stdout",
     "output_type": "stream",
     "text": [
      "[I 2024-05-24 12:29:39,853] Trial 104 finished with value: 0.011887259861711253 and parameters: {'n_estimators': 48, 'max_depth': 49, 'min_samples_split': 7, 'min_samples_leaf': 2}. Best is trial 98 with value: 0.01185572575296864.\n"
     ]
    },
    {
     "name": "stderr",
     "output_type": "stream",
     "text": [
      "c:\\Users\\andre\\AppData\\Local\\Programs\\Python\\Python312\\Lib\\site-packages\\optuna\\distributions.py:700: UserWarning: The distribution is specified by [5, 70] and step=2, but the range is not divisible by `step`. It will be replaced by [5, 69].\n",
      "  warnings.warn(\n"
     ]
    },
    {
     "name": "stdout",
     "output_type": "stream",
     "text": [
      "[I 2024-05-24 12:30:51,622] Trial 105 finished with value: 0.011891147374955141 and parameters: {'n_estimators': 48, 'max_depth': 53, 'min_samples_split': 8, 'min_samples_leaf': 2}. Best is trial 98 with value: 0.01185572575296864.\n"
     ]
    },
    {
     "name": "stderr",
     "output_type": "stream",
     "text": [
      "c:\\Users\\andre\\AppData\\Local\\Programs\\Python\\Python312\\Lib\\site-packages\\optuna\\distributions.py:700: UserWarning: The distribution is specified by [5, 70] and step=2, but the range is not divisible by `step`. It will be replaced by [5, 69].\n",
      "  warnings.warn(\n"
     ]
    },
    {
     "name": "stdout",
     "output_type": "stream",
     "text": [
      "[I 2024-05-24 12:32:03,714] Trial 106 finished with value: 0.011891147374955141 and parameters: {'n_estimators': 48, 'max_depth': 53, 'min_samples_split': 8, 'min_samples_leaf': 2}. Best is trial 98 with value: 0.01185572575296864.\n"
     ]
    },
    {
     "name": "stderr",
     "output_type": "stream",
     "text": [
      "c:\\Users\\andre\\AppData\\Local\\Programs\\Python\\Python312\\Lib\\site-packages\\optuna\\distributions.py:700: UserWarning: The distribution is specified by [5, 70] and step=2, but the range is not divisible by `step`. It will be replaced by [5, 69].\n",
      "  warnings.warn(\n"
     ]
    },
    {
     "name": "stdout",
     "output_type": "stream",
     "text": [
      "[I 2024-05-24 12:33:20,937] Trial 107 finished with value: 0.011863850729239261 and parameters: {'n_estimators': 50, 'max_depth': 59, 'min_samples_split': 7, 'min_samples_leaf': 2}. Best is trial 98 with value: 0.01185572575296864.\n"
     ]
    },
    {
     "name": "stderr",
     "output_type": "stream",
     "text": [
      "c:\\Users\\andre\\AppData\\Local\\Programs\\Python\\Python312\\Lib\\site-packages\\optuna\\distributions.py:700: UserWarning: The distribution is specified by [5, 70] and step=2, but the range is not divisible by `step`. It will be replaced by [5, 69].\n",
      "  warnings.warn(\n"
     ]
    },
    {
     "name": "stdout",
     "output_type": "stream",
     "text": [
      "[I 2024-05-24 12:34:39,791] Trial 108 finished with value: 0.01194928689759694 and parameters: {'n_estimators': 50, 'max_depth': 59, 'min_samples_split': 7, 'min_samples_leaf': 1}. Best is trial 98 with value: 0.01185572575296864.\n"
     ]
    },
    {
     "name": "stderr",
     "output_type": "stream",
     "text": [
      "c:\\Users\\andre\\AppData\\Local\\Programs\\Python\\Python312\\Lib\\site-packages\\optuna\\distributions.py:700: UserWarning: The distribution is specified by [5, 70] and step=2, but the range is not divisible by `step`. It will be replaced by [5, 69].\n",
      "  warnings.warn(\n"
     ]
    },
    {
     "name": "stdout",
     "output_type": "stream",
     "text": [
      "[I 2024-05-24 12:35:54,040] Trial 109 finished with value: 0.011863850729239261 and parameters: {'n_estimators': 50, 'max_depth': 49, 'min_samples_split': 7, 'min_samples_leaf': 2}. Best is trial 98 with value: 0.01185572575296864.\n"
     ]
    },
    {
     "name": "stderr",
     "output_type": "stream",
     "text": [
      "c:\\Users\\andre\\AppData\\Local\\Programs\\Python\\Python312\\Lib\\site-packages\\optuna\\distributions.py:700: UserWarning: The distribution is specified by [5, 70] and step=2, but the range is not divisible by `step`. It will be replaced by [5, 69].\n",
      "  warnings.warn(\n"
     ]
    },
    {
     "name": "stdout",
     "output_type": "stream",
     "text": [
      "[I 2024-05-24 12:37:17,825] Trial 110 finished with value: 0.01194928689759694 and parameters: {'n_estimators': 50, 'max_depth': 57, 'min_samples_split': 7, 'min_samples_leaf': 1}. Best is trial 98 with value: 0.01185572575296864.\n"
     ]
    },
    {
     "name": "stderr",
     "output_type": "stream",
     "text": [
      "c:\\Users\\andre\\AppData\\Local\\Programs\\Python\\Python312\\Lib\\site-packages\\optuna\\distributions.py:700: UserWarning: The distribution is specified by [5, 70] and step=2, but the range is not divisible by `step`. It will be replaced by [5, 69].\n",
      "  warnings.warn(\n"
     ]
    },
    {
     "name": "stdout",
     "output_type": "stream",
     "text": [
      "[I 2024-05-24 12:38:26,272] Trial 111 finished with value: 0.01189977351285412 and parameters: {'n_estimators': 46, 'max_depth': 49, 'min_samples_split': 8, 'min_samples_leaf': 2}. Best is trial 98 with value: 0.01185572575296864.\n"
     ]
    },
    {
     "name": "stderr",
     "output_type": "stream",
     "text": [
      "c:\\Users\\andre\\AppData\\Local\\Programs\\Python\\Python312\\Lib\\site-packages\\optuna\\distributions.py:700: UserWarning: The distribution is specified by [5, 70] and step=2, but the range is not divisible by `step`. It will be replaced by [5, 69].\n",
      "  warnings.warn(\n"
     ]
    },
    {
     "name": "stdout",
     "output_type": "stream",
     "text": [
      "[I 2024-05-24 12:39:38,961] Trial 112 finished with value: 0.011927141946470826 and parameters: {'n_estimators': 48, 'max_depth': 51, 'min_samples_split': 9, 'min_samples_leaf': 2}. Best is trial 98 with value: 0.01185572575296864.\n"
     ]
    },
    {
     "name": "stderr",
     "output_type": "stream",
     "text": [
      "c:\\Users\\andre\\AppData\\Local\\Programs\\Python\\Python312\\Lib\\site-packages\\optuna\\distributions.py:700: UserWarning: The distribution is specified by [5, 70] and step=2, but the range is not divisible by `step`. It will be replaced by [5, 69].\n",
      "  warnings.warn(\n"
     ]
    },
    {
     "name": "stdout",
     "output_type": "stream",
     "text": [
      "[I 2024-05-24 12:40:49,263] Trial 113 finished with value: 0.011890898591078976 and parameters: {'n_estimators': 46, 'max_depth': 55, 'min_samples_split': 7, 'min_samples_leaf': 2}. Best is trial 98 with value: 0.01185572575296864.\n"
     ]
    },
    {
     "name": "stderr",
     "output_type": "stream",
     "text": [
      "c:\\Users\\andre\\AppData\\Local\\Programs\\Python\\Python312\\Lib\\site-packages\\optuna\\distributions.py:700: UserWarning: The distribution is specified by [5, 70] and step=2, but the range is not divisible by `step`. It will be replaced by [5, 69].\n",
      "  warnings.warn(\n"
     ]
    },
    {
     "name": "stdout",
     "output_type": "stream",
     "text": [
      "[I 2024-05-24 12:42:06,664] Trial 114 finished with value: 0.011887259861711253 and parameters: {'n_estimators': 48, 'max_depth': 61, 'min_samples_split': 7, 'min_samples_leaf': 2}. Best is trial 98 with value: 0.01185572575296864.\n"
     ]
    },
    {
     "name": "stderr",
     "output_type": "stream",
     "text": [
      "c:\\Users\\andre\\AppData\\Local\\Programs\\Python\\Python312\\Lib\\site-packages\\optuna\\distributions.py:700: UserWarning: The distribution is specified by [5, 70] and step=2, but the range is not divisible by `step`. It will be replaced by [5, 69].\n",
      "  warnings.warn(\n"
     ]
    },
    {
     "name": "stdout",
     "output_type": "stream",
     "text": [
      "[I 2024-05-24 12:43:37,104] Trial 115 finished with value: 0.011925068807522561 and parameters: {'n_estimators': 50, 'max_depth': 65, 'min_samples_split': 5, 'min_samples_leaf': 1}. Best is trial 98 with value: 0.01185572575296864.\n"
     ]
    },
    {
     "name": "stderr",
     "output_type": "stream",
     "text": [
      "c:\\Users\\andre\\AppData\\Local\\Programs\\Python\\Python312\\Lib\\site-packages\\optuna\\distributions.py:700: UserWarning: The distribution is specified by [5, 70] and step=2, but the range is not divisible by `step`. It will be replaced by [5, 69].\n",
      "  warnings.warn(\n"
     ]
    },
    {
     "name": "stdout",
     "output_type": "stream",
     "text": [
      "[I 2024-05-24 12:44:28,283] Trial 116 finished with value: 0.013192976757839732 and parameters: {'n_estimators': 46, 'max_depth': 47, 'min_samples_split': 6, 'min_samples_leaf': 13}. Best is trial 98 with value: 0.01185572575296864.\n"
     ]
    },
    {
     "name": "stderr",
     "output_type": "stream",
     "text": [
      "c:\\Users\\andre\\AppData\\Local\\Programs\\Python\\Python312\\Lib\\site-packages\\optuna\\distributions.py:700: UserWarning: The distribution is specified by [5, 70] and step=2, but the range is not divisible by `step`. It will be replaced by [5, 69].\n",
      "  warnings.warn(\n"
     ]
    },
    {
     "name": "stdout",
     "output_type": "stream",
     "text": [
      "[I 2024-05-24 12:45:49,198] Trial 117 finished with value: 0.011957112220496485 and parameters: {'n_estimators': 48, 'max_depth': 51, 'min_samples_split': 8, 'min_samples_leaf': 1}. Best is trial 98 with value: 0.01185572575296864.\n"
     ]
    },
    {
     "name": "stderr",
     "output_type": "stream",
     "text": [
      "c:\\Users\\andre\\AppData\\Local\\Programs\\Python\\Python312\\Lib\\site-packages\\optuna\\distributions.py:700: UserWarning: The distribution is specified by [5, 70] and step=2, but the range is not divisible by `step`. It will be replaced by [5, 69].\n",
      "  warnings.warn(\n"
     ]
    },
    {
     "name": "stdout",
     "output_type": "stream",
     "text": [
      "[I 2024-05-24 12:47:06,194] Trial 118 finished with value: 0.01191324622266565 and parameters: {'n_estimators': 50, 'max_depth': 55, 'min_samples_split': 9, 'min_samples_leaf': 2}. Best is trial 98 with value: 0.01185572575296864.\n"
     ]
    },
    {
     "name": "stderr",
     "output_type": "stream",
     "text": [
      "c:\\Users\\andre\\AppData\\Local\\Programs\\Python\\Python312\\Lib\\site-packages\\optuna\\distributions.py:700: UserWarning: The distribution is specified by [5, 70] and step=2, but the range is not divisible by `step`. It will be replaced by [5, 69].\n",
      "  warnings.warn(\n"
     ]
    },
    {
     "name": "stdout",
     "output_type": "stream",
     "text": [
      "[I 2024-05-24 12:48:17,831] Trial 119 finished with value: 0.011898209742827105 and parameters: {'n_estimators': 44, 'max_depth': 57, 'min_samples_split': 7, 'min_samples_leaf': 2}. Best is trial 98 with value: 0.01185572575296864.\n"
     ]
    },
    {
     "name": "stderr",
     "output_type": "stream",
     "text": [
      "c:\\Users\\andre\\AppData\\Local\\Programs\\Python\\Python312\\Lib\\site-packages\\optuna\\distributions.py:700: UserWarning: The distribution is specified by [5, 70] and step=2, but the range is not divisible by `step`. It will be replaced by [5, 69].\n",
      "  warnings.warn(\n"
     ]
    },
    {
     "name": "stdout",
     "output_type": "stream",
     "text": [
      "[I 2024-05-24 12:49:39,311] Trial 120 finished with value: 0.011932313614960905 and parameters: {'n_estimators': 46, 'max_depth': 45, 'min_samples_split': 6, 'min_samples_leaf': 1}. Best is trial 98 with value: 0.01185572575296864.\n"
     ]
    },
    {
     "name": "stderr",
     "output_type": "stream",
     "text": [
      "c:\\Users\\andre\\AppData\\Local\\Programs\\Python\\Python312\\Lib\\site-packages\\optuna\\distributions.py:700: UserWarning: The distribution is specified by [5, 70] and step=2, but the range is not divisible by `step`. It will be replaced by [5, 69].\n",
      "  warnings.warn(\n"
     ]
    },
    {
     "name": "stdout",
     "output_type": "stream",
     "text": [
      "[I 2024-05-24 12:50:53,382] Trial 121 finished with value: 0.011887259861711253 and parameters: {'n_estimators': 48, 'max_depth': 59, 'min_samples_split': 7, 'min_samples_leaf': 2}. Best is trial 98 with value: 0.01185572575296864.\n"
     ]
    },
    {
     "name": "stderr",
     "output_type": "stream",
     "text": [
      "c:\\Users\\andre\\AppData\\Local\\Programs\\Python\\Python312\\Lib\\site-packages\\optuna\\distributions.py:700: UserWarning: The distribution is specified by [5, 70] and step=2, but the range is not divisible by `step`. It will be replaced by [5, 69].\n",
      "  warnings.warn(\n"
     ]
    },
    {
     "name": "stdout",
     "output_type": "stream",
     "text": [
      "[I 2024-05-24 12:52:04,967] Trial 122 finished with value: 0.011887259861711253 and parameters: {'n_estimators': 48, 'max_depth': 61, 'min_samples_split': 7, 'min_samples_leaf': 2}. Best is trial 98 with value: 0.01185572575296864.\n"
     ]
    },
    {
     "name": "stderr",
     "output_type": "stream",
     "text": [
      "c:\\Users\\andre\\AppData\\Local\\Programs\\Python\\Python312\\Lib\\site-packages\\optuna\\distributions.py:700: UserWarning: The distribution is specified by [5, 70] and step=2, but the range is not divisible by `step`. It will be replaced by [5, 69].\n",
      "  warnings.warn(\n"
     ]
    },
    {
     "name": "stdout",
     "output_type": "stream",
     "text": [
      "[I 2024-05-24 12:53:19,927] Trial 123 finished with value: 0.011827228621846698 and parameters: {'n_estimators': 50, 'max_depth': 65, 'min_samples_split': 5, 'min_samples_leaf': 2}. Best is trial 123 with value: 0.011827228621846698.\n"
     ]
    },
    {
     "name": "stderr",
     "output_type": "stream",
     "text": [
      "c:\\Users\\andre\\AppData\\Local\\Programs\\Python\\Python312\\Lib\\site-packages\\optuna\\distributions.py:700: UserWarning: The distribution is specified by [5, 70] and step=2, but the range is not divisible by `step`. It will be replaced by [5, 69].\n",
      "  warnings.warn(\n"
     ]
    },
    {
     "name": "stdout",
     "output_type": "stream",
     "text": [
      "[I 2024-05-24 12:54:42,281] Trial 124 finished with value: 0.011925068807522561 and parameters: {'n_estimators': 50, 'max_depth': 49, 'min_samples_split': 5, 'min_samples_leaf': 1}. Best is trial 123 with value: 0.011827228621846698.\n"
     ]
    },
    {
     "name": "stderr",
     "output_type": "stream",
     "text": [
      "c:\\Users\\andre\\AppData\\Local\\Programs\\Python\\Python312\\Lib\\site-packages\\optuna\\distributions.py:700: UserWarning: The distribution is specified by [5, 70] and step=2, but the range is not divisible by `step`. It will be replaced by [5, 69].\n",
      "  warnings.warn(\n"
     ]
    },
    {
     "name": "stdout",
     "output_type": "stream",
     "text": [
      "[I 2024-05-24 12:56:04,874] Trial 125 finished with value: 0.011925068807522561 and parameters: {'n_estimators': 50, 'max_depth': 67, 'min_samples_split': 5, 'min_samples_leaf': 1}. Best is trial 123 with value: 0.011827228621846698.\n"
     ]
    },
    {
     "name": "stderr",
     "output_type": "stream",
     "text": [
      "c:\\Users\\andre\\AppData\\Local\\Programs\\Python\\Python312\\Lib\\site-packages\\optuna\\distributions.py:700: UserWarning: The distribution is specified by [5, 70] and step=2, but the range is not divisible by `step`. It will be replaced by [5, 69].\n",
      "  warnings.warn(\n"
     ]
    },
    {
     "name": "stdout",
     "output_type": "stream",
     "text": [
      "[I 2024-05-24 12:56:54,435] Trial 126 finished with value: 0.012592271958845352 and parameters: {'n_estimators': 46, 'max_depth': 65, 'min_samples_split': 6, 'min_samples_leaf': 9}. Best is trial 123 with value: 0.011827228621846698.\n"
     ]
    },
    {
     "name": "stderr",
     "output_type": "stream",
     "text": [
      "c:\\Users\\andre\\AppData\\Local\\Programs\\Python\\Python312\\Lib\\site-packages\\optuna\\distributions.py:700: UserWarning: The distribution is specified by [5, 70] and step=2, but the range is not divisible by `step`. It will be replaced by [5, 69].\n",
      "  warnings.warn(\n"
     ]
    },
    {
     "name": "stdout",
     "output_type": "stream",
     "text": [
      "[I 2024-05-24 12:57:59,560] Trial 127 finished with value: 0.01232339489152966 and parameters: {'n_estimators': 50, 'max_depth': 55, 'min_samples_split': 19, 'min_samples_leaf': 2}. Best is trial 123 with value: 0.011827228621846698.\n"
     ]
    },
    {
     "name": "stderr",
     "output_type": "stream",
     "text": [
      "c:\\Users\\andre\\AppData\\Local\\Programs\\Python\\Python312\\Lib\\site-packages\\optuna\\distributions.py:700: UserWarning: The distribution is specified by [5, 70] and step=2, but the range is not divisible by `step`. It will be replaced by [5, 69].\n",
      "  warnings.warn(\n"
     ]
    },
    {
     "name": "stdout",
     "output_type": "stream",
     "text": [
      "[I 2024-05-24 12:59:08,183] Trial 128 finished with value: 0.011861928415934028 and parameters: {'n_estimators': 44, 'max_depth': 51, 'min_samples_split': 5, 'min_samples_leaf': 2}. Best is trial 123 with value: 0.011827228621846698.\n"
     ]
    },
    {
     "name": "stderr",
     "output_type": "stream",
     "text": [
      "c:\\Users\\andre\\AppData\\Local\\Programs\\Python\\Python312\\Lib\\site-packages\\optuna\\distributions.py:700: UserWarning: The distribution is specified by [5, 70] and step=2, but the range is not divisible by `step`. It will be replaced by [5, 69].\n",
      "  warnings.warn(\n"
     ]
    },
    {
     "name": "stdout",
     "output_type": "stream",
     "text": [
      "[I 2024-05-24 13:00:09,343] Trial 129 finished with value: 0.012188729645826072 and parameters: {'n_estimators': 44, 'max_depth': 53, 'min_samples_split': 14, 'min_samples_leaf': 1}. Best is trial 123 with value: 0.011827228621846698.\n"
     ]
    },
    {
     "name": "stderr",
     "output_type": "stream",
     "text": [
      "c:\\Users\\andre\\AppData\\Local\\Programs\\Python\\Python312\\Lib\\site-packages\\optuna\\distributions.py:700: UserWarning: The distribution is specified by [5, 70] and step=2, but the range is not divisible by `step`. It will be replaced by [5, 69].\n",
      "  warnings.warn(\n"
     ]
    },
    {
     "name": "stdout",
     "output_type": "stream",
     "text": [
      "[I 2024-05-24 13:01:09,237] Trial 130 finished with value: 0.011940804019543757 and parameters: {'n_estimators': 44, 'max_depth': 51, 'min_samples_split': 5, 'min_samples_leaf': 4}. Best is trial 123 with value: 0.011827228621846698.\n"
     ]
    },
    {
     "name": "stderr",
     "output_type": "stream",
     "text": [
      "c:\\Users\\andre\\AppData\\Local\\Programs\\Python\\Python312\\Lib\\site-packages\\optuna\\distributions.py:700: UserWarning: The distribution is specified by [5, 70] and step=2, but the range is not divisible by `step`. It will be replaced by [5, 69].\n",
      "  warnings.warn(\n"
     ]
    },
    {
     "name": "stdout",
     "output_type": "stream",
     "text": [
      "[I 2024-05-24 13:02:18,081] Trial 131 finished with value: 0.01187280027848753 and parameters: {'n_estimators': 46, 'max_depth': 49, 'min_samples_split': 6, 'min_samples_leaf': 2}. Best is trial 123 with value: 0.011827228621846698.\n"
     ]
    },
    {
     "name": "stderr",
     "output_type": "stream",
     "text": [
      "c:\\Users\\andre\\AppData\\Local\\Programs\\Python\\Python312\\Lib\\site-packages\\optuna\\distributions.py:700: UserWarning: The distribution is specified by [5, 70] and step=2, but the range is not divisible by `step`. It will be replaced by [5, 69].\n",
      "  warnings.warn(\n"
     ]
    },
    {
     "name": "stdout",
     "output_type": "stream",
     "text": [
      "[I 2024-05-24 13:03:02,927] Trial 132 finished with value: 0.013597253586390814 and parameters: {'n_estimators': 46, 'max_depth': 45, 'min_samples_split': 6, 'min_samples_leaf': 16}. Best is trial 123 with value: 0.011827228621846698.\n"
     ]
    },
    {
     "name": "stderr",
     "output_type": "stream",
     "text": [
      "c:\\Users\\andre\\AppData\\Local\\Programs\\Python\\Python312\\Lib\\site-packages\\optuna\\distributions.py:700: UserWarning: The distribution is specified by [5, 70] and step=2, but the range is not divisible by `step`. It will be replaced by [5, 69].\n",
      "  warnings.warn(\n"
     ]
    },
    {
     "name": "stdout",
     "output_type": "stream",
     "text": [
      "[I 2024-05-24 13:04:10,672] Trial 133 finished with value: 0.011849135768655018 and parameters: {'n_estimators': 48, 'max_depth': 51, 'min_samples_split': 5, 'min_samples_leaf': 2}. Best is trial 123 with value: 0.011827228621846698.\n"
     ]
    },
    {
     "name": "stderr",
     "output_type": "stream",
     "text": [
      "c:\\Users\\andre\\AppData\\Local\\Programs\\Python\\Python312\\Lib\\site-packages\\optuna\\distributions.py:700: UserWarning: The distribution is specified by [5, 70] and step=2, but the range is not divisible by `step`. It will be replaced by [5, 69].\n",
      "  warnings.warn(\n"
     ]
    },
    {
     "name": "stdout",
     "output_type": "stream",
     "text": [
      "[I 2024-05-24 13:05:11,239] Trial 134 finished with value: 0.011866062163300602 and parameters: {'n_estimators': 46, 'max_depth': 47, 'min_samples_split': 5, 'min_samples_leaf': 3}. Best is trial 123 with value: 0.011827228621846698.\n"
     ]
    },
    {
     "name": "stderr",
     "output_type": "stream",
     "text": [
      "c:\\Users\\andre\\AppData\\Local\\Programs\\Python\\Python312\\Lib\\site-packages\\optuna\\distributions.py:700: UserWarning: The distribution is specified by [5, 70] and step=2, but the range is not divisible by `step`. It will be replaced by [5, 69].\n",
      "  warnings.warn(\n"
     ]
    },
    {
     "name": "stdout",
     "output_type": "stream",
     "text": [
      "[I 2024-05-24 13:06:11,899] Trial 135 finished with value: 0.011866062163300602 and parameters: {'n_estimators': 46, 'max_depth': 51, 'min_samples_split': 5, 'min_samples_leaf': 3}. Best is trial 123 with value: 0.011827228621846698.\n"
     ]
    },
    {
     "name": "stderr",
     "output_type": "stream",
     "text": [
      "c:\\Users\\andre\\AppData\\Local\\Programs\\Python\\Python312\\Lib\\site-packages\\optuna\\distributions.py:700: UserWarning: The distribution is specified by [5, 70] and step=2, but the range is not divisible by `step`. It will be replaced by [5, 69].\n",
      "  warnings.warn(\n"
     ]
    },
    {
     "name": "stdout",
     "output_type": "stream",
     "text": [
      "[I 2024-05-24 13:07:12,678] Trial 136 finished with value: 0.011866062163300602 and parameters: {'n_estimators': 46, 'max_depth': 47, 'min_samples_split': 5, 'min_samples_leaf': 3}. Best is trial 123 with value: 0.011827228621846698.\n"
     ]
    },
    {
     "name": "stderr",
     "output_type": "stream",
     "text": [
      "c:\\Users\\andre\\AppData\\Local\\Programs\\Python\\Python312\\Lib\\site-packages\\optuna\\distributions.py:700: UserWarning: The distribution is specified by [5, 70] and step=2, but the range is not divisible by `step`. It will be replaced by [5, 69].\n",
      "  warnings.warn(\n"
     ]
    },
    {
     "name": "stdout",
     "output_type": "stream",
     "text": [
      "[I 2024-05-24 13:08:13,078] Trial 137 finished with value: 0.011866062163300602 and parameters: {'n_estimators': 46, 'max_depth': 47, 'min_samples_split': 5, 'min_samples_leaf': 3}. Best is trial 123 with value: 0.011827228621846698.\n"
     ]
    },
    {
     "name": "stderr",
     "output_type": "stream",
     "text": [
      "c:\\Users\\andre\\AppData\\Local\\Programs\\Python\\Python312\\Lib\\site-packages\\optuna\\distributions.py:700: UserWarning: The distribution is specified by [5, 70] and step=2, but the range is not divisible by `step`. It will be replaced by [5, 69].\n",
      "  warnings.warn(\n"
     ]
    },
    {
     "name": "stdout",
     "output_type": "stream",
     "text": [
      "[I 2024-05-24 13:09:13,068] Trial 138 finished with value: 0.011866062163300602 and parameters: {'n_estimators': 46, 'max_depth': 47, 'min_samples_split': 5, 'min_samples_leaf': 3}. Best is trial 123 with value: 0.011827228621846698.\n"
     ]
    },
    {
     "name": "stderr",
     "output_type": "stream",
     "text": [
      "c:\\Users\\andre\\AppData\\Local\\Programs\\Python\\Python312\\Lib\\site-packages\\optuna\\distributions.py:700: UserWarning: The distribution is specified by [5, 70] and step=2, but the range is not divisible by `step`. It will be replaced by [5, 69].\n",
      "  warnings.warn(\n"
     ]
    },
    {
     "name": "stdout",
     "output_type": "stream",
     "text": [
      "[I 2024-05-24 13:10:08,557] Trial 139 finished with value: 0.01193220900192369 and parameters: {'n_estimators': 46, 'max_depth': 45, 'min_samples_split': 5, 'min_samples_leaf': 4}. Best is trial 123 with value: 0.011827228621846698.\n"
     ]
    },
    {
     "name": "stderr",
     "output_type": "stream",
     "text": [
      "c:\\Users\\andre\\AppData\\Local\\Programs\\Python\\Python312\\Lib\\site-packages\\optuna\\distributions.py:700: UserWarning: The distribution is specified by [5, 70] and step=2, but the range is not divisible by `step`. It will be replaced by [5, 69].\n",
      "  warnings.warn(\n"
     ]
    },
    {
     "name": "stdout",
     "output_type": "stream",
     "text": [
      "[I 2024-05-24 13:11:13,551] Trial 140 finished with value: 0.01188077524255552 and parameters: {'n_estimators': 44, 'max_depth': 47, 'min_samples_split': 5, 'min_samples_leaf': 3}. Best is trial 123 with value: 0.011827228621846698.\n"
     ]
    },
    {
     "name": "stderr",
     "output_type": "stream",
     "text": [
      "c:\\Users\\andre\\AppData\\Local\\Programs\\Python\\Python312\\Lib\\site-packages\\optuna\\distributions.py:700: UserWarning: The distribution is specified by [5, 70] and step=2, but the range is not divisible by `step`. It will be replaced by [5, 69].\n",
      "  warnings.warn(\n"
     ]
    },
    {
     "name": "stdout",
     "output_type": "stream",
     "text": [
      "[I 2024-05-24 13:12:25,145] Trial 141 finished with value: 0.011866062163300602 and parameters: {'n_estimators': 46, 'max_depth': 47, 'min_samples_split': 6, 'min_samples_leaf': 3}. Best is trial 123 with value: 0.011827228621846698.\n"
     ]
    },
    {
     "name": "stderr",
     "output_type": "stream",
     "text": [
      "c:\\Users\\andre\\AppData\\Local\\Programs\\Python\\Python312\\Lib\\site-packages\\optuna\\distributions.py:700: UserWarning: The distribution is specified by [5, 70] and step=2, but the range is not divisible by `step`. It will be replaced by [5, 69].\n",
      "  warnings.warn(\n"
     ]
    },
    {
     "name": "stdout",
     "output_type": "stream",
     "text": [
      "[I 2024-05-24 13:13:33,979] Trial 142 finished with value: 0.011866062163300602 and parameters: {'n_estimators': 46, 'max_depth': 47, 'min_samples_split': 5, 'min_samples_leaf': 3}. Best is trial 123 with value: 0.011827228621846698.\n"
     ]
    },
    {
     "name": "stderr",
     "output_type": "stream",
     "text": [
      "c:\\Users\\andre\\AppData\\Local\\Programs\\Python\\Python312\\Lib\\site-packages\\optuna\\distributions.py:700: UserWarning: The distribution is specified by [5, 70] and step=2, but the range is not divisible by `step`. It will be replaced by [5, 69].\n",
      "  warnings.warn(\n"
     ]
    },
    {
     "name": "stdout",
     "output_type": "stream",
     "text": [
      "[I 2024-05-24 13:14:50,536] Trial 143 finished with value: 0.011863466986254675 and parameters: {'n_estimators': 48, 'max_depth': 43, 'min_samples_split': 5, 'min_samples_leaf': 3}. Best is trial 123 with value: 0.011827228621846698.\n"
     ]
    },
    {
     "name": "stderr",
     "output_type": "stream",
     "text": [
      "c:\\Users\\andre\\AppData\\Local\\Programs\\Python\\Python312\\Lib\\site-packages\\optuna\\distributions.py:700: UserWarning: The distribution is specified by [5, 70] and step=2, but the range is not divisible by `step`. It will be replaced by [5, 69].\n",
      "  warnings.warn(\n"
     ]
    },
    {
     "name": "stdout",
     "output_type": "stream",
     "text": [
      "[I 2024-05-24 13:15:53,817] Trial 144 finished with value: 0.011928210464435984 and parameters: {'n_estimators': 48, 'max_depth': 43, 'min_samples_split': 5, 'min_samples_leaf': 4}. Best is trial 123 with value: 0.011827228621846698.\n"
     ]
    },
    {
     "name": "stderr",
     "output_type": "stream",
     "text": [
      "c:\\Users\\andre\\AppData\\Local\\Programs\\Python\\Python312\\Lib\\site-packages\\optuna\\distributions.py:700: UserWarning: The distribution is specified by [5, 70] and step=2, but the range is not divisible by `step`. It will be replaced by [5, 69].\n",
      "  warnings.warn(\n"
     ]
    },
    {
     "name": "stdout",
     "output_type": "stream",
     "text": [
      "[I 2024-05-24 13:17:02,800] Trial 145 finished with value: 0.011863466986254675 and parameters: {'n_estimators': 48, 'max_depth': 49, 'min_samples_split': 5, 'min_samples_leaf': 3}. Best is trial 123 with value: 0.011827228621846698.\n"
     ]
    },
    {
     "name": "stderr",
     "output_type": "stream",
     "text": [
      "c:\\Users\\andre\\AppData\\Local\\Programs\\Python\\Python312\\Lib\\site-packages\\optuna\\distributions.py:700: UserWarning: The distribution is specified by [5, 70] and step=2, but the range is not divisible by `step`. It will be replaced by [5, 69].\n",
      "  warnings.warn(\n"
     ]
    },
    {
     "name": "stdout",
     "output_type": "stream",
     "text": [
      "[I 2024-05-24 13:18:15,642] Trial 146 finished with value: 0.011844761442504853 and parameters: {'n_estimators': 50, 'max_depth': 49, 'min_samples_split': 5, 'min_samples_leaf': 3}. Best is trial 123 with value: 0.011827228621846698.\n"
     ]
    },
    {
     "name": "stderr",
     "output_type": "stream",
     "text": [
      "c:\\Users\\andre\\AppData\\Local\\Programs\\Python\\Python312\\Lib\\site-packages\\optuna\\distributions.py:700: UserWarning: The distribution is specified by [5, 70] and step=2, but the range is not divisible by `step`. It will be replaced by [5, 69].\n",
      "  warnings.warn(\n"
     ]
    },
    {
     "name": "stdout",
     "output_type": "stream",
     "text": [
      "[I 2024-05-24 13:19:20,294] Trial 147 finished with value: 0.011919982463777862 and parameters: {'n_estimators': 50, 'max_depth': 51, 'min_samples_split': 5, 'min_samples_leaf': 4}. Best is trial 123 with value: 0.011827228621846698.\n"
     ]
    },
    {
     "name": "stderr",
     "output_type": "stream",
     "text": [
      "c:\\Users\\andre\\AppData\\Local\\Programs\\Python\\Python312\\Lib\\site-packages\\optuna\\distributions.py:700: UserWarning: The distribution is specified by [5, 70] and step=2, but the range is not divisible by `step`. It will be replaced by [5, 69].\n",
      "  warnings.warn(\n"
     ]
    },
    {
     "name": "stdout",
     "output_type": "stream",
     "text": [
      "[I 2024-05-24 13:20:35,061] Trial 148 finished with value: 0.011844761442504853 and parameters: {'n_estimators': 50, 'max_depth': 49, 'min_samples_split': 6, 'min_samples_leaf': 3}. Best is trial 123 with value: 0.011827228621846698.\n"
     ]
    },
    {
     "name": "stderr",
     "output_type": "stream",
     "text": [
      "c:\\Users\\andre\\AppData\\Local\\Programs\\Python\\Python312\\Lib\\site-packages\\optuna\\distributions.py:700: UserWarning: The distribution is specified by [5, 70] and step=2, but the range is not divisible by `step`. It will be replaced by [5, 69].\n",
      "  warnings.warn(\n"
     ]
    },
    {
     "name": "stdout",
     "output_type": "stream",
     "text": [
      "[I 2024-05-24 13:21:50,665] Trial 149 finished with value: 0.011844761442504853 and parameters: {'n_estimators': 50, 'max_depth': 49, 'min_samples_split': 6, 'min_samples_leaf': 3}. Best is trial 123 with value: 0.011827228621846698.\n"
     ]
    }
   ],
   "source": [
    "with mlflow.start_run(experiment_id=experiment_id, run_name=run_name, nested=True):\n",
    "    # Initialize the Optuna study\n",
    "    # Create study object\n",
    "    study = optuna.create_study(direction=\"minimize\")\n",
    "\n",
    "    # Run optimization process\n",
    "    study.optimize(objective, n_trials=150, show_progress_bar=True)\n",
    "\n",
    "    mlflow.log_params(study.best_params)\n",
    "    mlflow.log_metric(\"best_mape\", study.best_value)\n",
    "\n",
    "    # Log tags\n",
    "    mlflow.set_tags(\n",
    "        tags={\n",
    "            \"project\": \"Energy Demand Prediction\",\n",
    "            \"optimizer_engine\": \"optuna\",\n",
    "            \"model_family\": \"random_forest\",\n",
    "            \"feature_set_version\": 1,\n",
    "        }\n",
    "    )"
   ]
  },
  {
   "cell_type": "code",
   "execution_count": null,
   "metadata": {},
   "outputs": [],
   "source": [
    "# Import optuna.visualization\n",
    "import optuna.visualization as vis\n",
    "\n",
    "# Plot optimization history\n",
    "vis.plot_optimization_history(study) "
   ]
  },
  {
   "cell_type": "code",
   "execution_count": 27,
   "metadata": {},
   "outputs": [
    {
     "data": {
      "application/vnd.plotly.v1+json": {
       "config": {
        "plotlyServerURL": "https://plot.ly"
       },
       "data": [
        {
         "type": "scatter",
         "xaxis": "x",
         "yaxis": "y"
        },
        {
         "colorbar": {
          "title": {
           "text": "Objective Value"
          }
         },
         "colorscale": [
          [
           0,
           "rgb(0, 147, 146)"
          ],
          [
           0.16666666666666666,
           "rgb(114, 170, 161)"
          ],
          [
           0.3333333333333333,
           "rgb(177, 199, 179)"
          ],
          [
           0.5,
           "rgb(241, 234, 200)"
          ],
          [
           0.6666666666666666,
           "rgb(229, 185, 173)"
          ],
          [
           0.8333333333333334,
           "rgb(217, 137, 148)"
          ],
          [
           1,
           "rgb(208, 88, 126)"
          ]
         ],
         "connectgaps": true,
         "contours": {
          "coloring": "heatmap"
         },
         "hoverinfo": "none",
         "line": {
          "smoothing": 1.3
         },
         "reversescale": false,
         "showscale": true,
         "type": "contour",
         "x": [
          1.7999999999999998,
          5,
          7,
          9,
          11,
          13,
          15,
          17,
          19,
          21,
          23,
          25,
          27,
          29,
          31,
          33,
          35,
          37,
          39,
          41,
          43,
          45,
          47,
          49,
          51,
          53,
          55,
          57,
          59,
          61,
          63,
          65,
          67,
          69,
          72.2
         ],
         "xaxis": "x4",
         "y": [
          0.04999999999999993,
          1,
          2,
          3,
          4,
          5,
          6,
          7,
          8,
          9,
          10,
          12,
          13,
          14,
          15,
          16,
          17,
          18,
          20,
          20.95
         ],
         "yaxis": "y4",
         "z": [
          [
           null,
           null,
           null,
           null,
           null,
           null,
           null,
           null,
           null,
           null,
           null,
           null,
           null,
           null,
           null,
           null,
           null,
           null,
           null,
           null,
           null,
           null,
           null,
           null,
           null,
           null,
           null,
           null,
           null,
           null,
           null,
           null,
           null,
           null,
           null
          ],
          [
           null,
           null,
           0.017838834918358498,
           null,
           null,
           0.012153760912705923,
           null,
           null,
           null,
           0.01199846925447399,
           null,
           0.011973533306744057,
           0.011956452536038912,
           null,
           0.011960304053586288,
           0.01196621986996285,
           0.012011015765486664,
           null,
           null,
           null,
           null,
           0.011932313614960905,
           null,
           0.011925068807522561,
           0.011957112220496485,
           0.011932313614960905,
           null,
           0.01194928689759694,
           0.01194928689759694,
           null,
           null,
           0.011925068807522561,
           0.011925068807522561,
           0.011949099182510218,
           null
          ],
          [
           null,
           0.027716165963650553,
           null,
           null,
           null,
           null,
           null,
           null,
           null,
           0.011961559640851513,
           null,
           0.011927276488631509,
           0.011921961637169147,
           null,
           null,
           0.011885291639963168,
           0.011885291639963168,
           null,
           0.01193921717127557,
           0.011881060937487229,
           null,
           null,
           0.011893401012469811,
           0.011863850729239261,
           0.011849135768655018,
           0.01185572575296864,
           0.011890898591078976,
           0.011898209742827105,
           0.011863850729239261,
           0.011887259861711253,
           0.011885291639963168,
           0.011827228621846698,
           null,
           null,
           null
          ],
          [
           null,
           null,
           null,
           null,
           null,
           null,
           null,
           null,
           null,
           null,
           null,
           null,
           0.011912793230805942,
           0.011892191941379379,
           0.011924689168290125,
           0.011924689168290125,
           0.011912793230805942,
           0.011912793230805942,
           null,
           0.011976048854185177,
           0.011863466986254675,
           null,
           0.011866062163300602,
           0.011844761442504853,
           0.011866062163300602,
           null,
           0.012622667496808865,
           0.012008271607263402,
           null,
           null,
           null,
           null,
           null,
           null,
           null
          ],
          [
           null,
           null,
           null,
           null,
           null,
           0.012293285382729061,
           null,
           null,
           null,
           null,
           0.011973480854256958,
           0.012140895276269756,
           null,
           0.011981864325830618,
           0.011940804019543757,
           null,
           null,
           0.011973480854256958,
           0.011973480854256958,
           null,
           0.011928210464435984,
           0.01193220900192369,
           null,
           null,
           0.011919982463777862,
           null,
           null,
           null,
           null,
           null,
           0.012051077069445807,
           null,
           0.012251749895392213,
           null,
           null
          ],
          [
           null,
           null,
           null,
           0.014046192743761034,
           0.012588894399140746,
           null,
           0.012041141061827835,
           0.01231794076099381,
           null,
           null,
           null,
           null,
           0.01210706974651345,
           0.012024532297635213,
           null,
           0.01205372291775378,
           null,
           null,
           null,
           0.012079248083272908,
           null,
           null,
           null,
           null,
           null,
           null,
           null,
           null,
           null,
           null,
           null,
           null,
           null,
           null,
           null
          ],
          [
           null,
           null,
           null,
           null,
           null,
           null,
           null,
           0.012235372900219713,
           null,
           0.012186835505593917,
           null,
           null,
           null,
           0.012340528317021562,
           null,
           null,
           null,
           null,
           null,
           0.012184805468232912,
           null,
           null,
           null,
           null,
           0.012492538009290231,
           null,
           null,
           null,
           null,
           null,
           null,
           null,
           null,
           null,
           null
          ],
          [
           null,
           null,
           null,
           null,
           null,
           null,
           null,
           null,
           0.012438136662058575,
           null,
           null,
           null,
           null,
           0.012312696654604735,
           null,
           null,
           0.012309783023940864,
           null,
           null,
           null,
           null,
           null,
           null,
           null,
           null,
           null,
           null,
           null,
           null,
           null,
           null,
           null,
           null,
           null,
           null
          ],
          [
           null,
           null,
           null,
           null,
           null,
           null,
           null,
           null,
           null,
           null,
           null,
           null,
           null,
           null,
           null,
           null,
           null,
           null,
           null,
           null,
           null,
           null,
           null,
           null,
           0.01248190496917858,
           null,
           null,
           null,
           null,
           null,
           0.01258312014504803,
           null,
           null,
           null,
           null
          ],
          [
           null,
           null,
           null,
           null,
           null,
           null,
           null,
           null,
           null,
           null,
           null,
           null,
           null,
           null,
           null,
           null,
           null,
           null,
           null,
           null,
           null,
           null,
           null,
           0.012592271958845352,
           null,
           null,
           null,
           null,
           null,
           null,
           null,
           0.012592271958845352,
           null,
           null,
           null
          ],
          [
           null,
           null,
           null,
           null,
           null,
           null,
           null,
           null,
           0.012747697788552479,
           null,
           null,
           null,
           null,
           0.012746541647772428,
           null,
           null,
           null,
           null,
           null,
           null,
           null,
           null,
           null,
           null,
           null,
           null,
           null,
           null,
           null,
           null,
           null,
           null,
           null,
           null,
           null
          ],
          [
           null,
           null,
           null,
           null,
           null,
           null,
           null,
           null,
           null,
           null,
           0.013308510079244582,
           0.013045021949960225,
           0.013055757806120168,
           null,
           null,
           null,
           null,
           null,
           null,
           null,
           null,
           null,
           null,
           null,
           null,
           null,
           null,
           null,
           null,
           null,
           null,
           null,
           null,
           null,
           null
          ],
          [
           null,
           null,
           null,
           null,
           null,
           null,
           null,
           null,
           null,
           null,
           null,
           null,
           null,
           null,
           null,
           null,
           null,
           null,
           0.0132480536942932,
           null,
           null,
           null,
           0.013192976757839732,
           null,
           null,
           null,
           null,
           null,
           null,
           null,
           null,
           null,
           null,
           null,
           null
          ],
          [
           null,
           null,
           null,
           null,
           null,
           null,
           null,
           null,
           null,
           null,
           null,
           null,
           null,
           null,
           null,
           null,
           null,
           null,
           null,
           null,
           0.013396294696655842,
           null,
           null,
           null,
           null,
           null,
           null,
           null,
           null,
           null,
           null,
           null,
           null,
           null,
           null
          ],
          [
           null,
           null,
           null,
           null,
           null,
           null,
           null,
           null,
           null,
           null,
           null,
           null,
           null,
           null,
           null,
           null,
           null,
           0.0134999250813532,
           null,
           null,
           null,
           null,
           null,
           null,
           null,
           null,
           null,
           null,
           null,
           null,
           null,
           null,
           null,
           null,
           null
          ],
          [
           null,
           null,
           null,
           null,
           null,
           null,
           null,
           null,
           null,
           null,
           null,
           null,
           null,
           null,
           null,
           null,
           null,
           null,
           null,
           null,
           null,
           0.013597253586390814,
           null,
           null,
           null,
           null,
           null,
           null,
           null,
           null,
           null,
           null,
           null,
           null,
           null
          ],
          [
           null,
           null,
           null,
           null,
           null,
           null,
           null,
           null,
           null,
           null,
           null,
           null,
           null,
           null,
           null,
           null,
           0.013740486850498343,
           null,
           null,
           null,
           null,
           null,
           null,
           null,
           null,
           null,
           null,
           null,
           null,
           null,
           null,
           null,
           null,
           0.013863657874566443,
           null
          ],
          [
           null,
           null,
           null,
           null,
           null,
           null,
           null,
           null,
           null,
           null,
           null,
           null,
           null,
           null,
           null,
           null,
           null,
           null,
           null,
           null,
           null,
           null,
           null,
           null,
           null,
           null,
           null,
           null,
           null,
           null,
           0.013870958915826915,
           null,
           null,
           null,
           null
          ],
          [
           null,
           null,
           null,
           null,
           null,
           null,
           null,
           null,
           null,
           null,
           null,
           null,
           null,
           null,
           null,
           null,
           null,
           null,
           0.014044494609337283,
           null,
           null,
           null,
           null,
           null,
           null,
           null,
           null,
           0.014053015880755134,
           null,
           null,
           null,
           null,
           null,
           null,
           null
          ],
          [
           null,
           null,
           null,
           null,
           null,
           null,
           null,
           null,
           null,
           null,
           null,
           null,
           null,
           null,
           null,
           null,
           null,
           null,
           null,
           null,
           null,
           null,
           null,
           null,
           null,
           null,
           null,
           null,
           null,
           null,
           null,
           null,
           null,
           null,
           null
          ]
         ]
        },
        {
         "marker": {
          "color": "black",
          "line": {
           "color": "Gray",
           "width": 2
          }
         },
         "mode": "markers",
         "name": "Feasible Trial",
         "showlegend": false,
         "type": "scatter",
         "x": [
          23,
          63,
          35,
          69,
          67,
          15,
          51,
          39,
          63,
          33,
          49,
          7,
          11,
          51,
          21,
          21,
          49,
          51,
          43,
          55,
          57,
          29,
          31,
          29,
          29,
          43,
          29,
          41,
          35,
          25,
          17,
          45,
          57,
          47,
          33,
          39,
          25,
          25,
          37,
          37,
          17,
          27,
          25,
          25,
          21,
          13,
          25,
          31,
          19,
          5,
          27,
          63,
          69,
          23,
          63,
          35,
          13,
          33,
          39,
          33,
          63,
          27,
          23,
          31,
          27,
          27,
          19,
          21,
          9,
          33,
          59,
          29,
          29,
          29,
          29,
          31,
          35,
          29,
          29,
          27,
          41,
          31,
          29,
          35,
          35,
          37,
          35,
          37,
          41,
          39,
          37,
          33,
          33,
          35,
          35,
          41,
          31,
          47,
          53,
          53,
          53,
          53,
          53,
          53,
          49,
          53,
          53,
          59,
          59,
          49,
          57,
          49,
          51,
          55,
          61,
          65,
          47,
          51,
          55,
          57,
          45,
          59,
          61,
          65,
          49,
          67,
          65,
          55,
          51,
          53,
          51,
          49,
          45,
          51,
          47,
          51,
          47,
          47,
          47,
          45,
          47,
          47,
          47,
          43,
          43,
          49,
          49,
          51,
          49,
          49
         ],
         "xaxis": "x4",
         "y": [
          12,
          4,
          17,
          17,
          4,
          5,
          2,
          13,
          8,
          1,
          9,
          1,
          5,
          6,
          1,
          1,
          3,
          8,
          14,
          3,
          20,
          3,
          3,
          7,
          10,
          3,
          6,
          3,
          2,
          12,
          6,
          4,
          3,
          2,
          5,
          2,
          2,
          2,
          15,
          4,
          5,
          2,
          2,
          1,
          2,
          4,
          4,
          1,
          7,
          2,
          5,
          2,
          1,
          4,
          2,
          3,
          1,
          3,
          20,
          2,
          18,
          3,
          4,
          3,
          2,
          1,
          10,
          6,
          5,
          3,
          2,
          3,
          3,
          3,
          3,
          4,
          7,
          5,
          3,
          12,
          6,
          3,
          4,
          3,
          3,
          4,
          1,
          3,
          5,
          4,
          3,
          2,
          1,
          2,
          3,
          2,
          1,
          2,
          2,
          2,
          2,
          2,
          2,
          1,
          2,
          2,
          2,
          2,
          1,
          2,
          1,
          2,
          2,
          2,
          2,
          1,
          13,
          1,
          2,
          2,
          1,
          2,
          2,
          2,
          1,
          1,
          9,
          2,
          2,
          1,
          4,
          2,
          16,
          2,
          3,
          3,
          3,
          3,
          3,
          4,
          3,
          3,
          3,
          3,
          4,
          3,
          3,
          4,
          3,
          3
         ],
         "yaxis": "y4"
        },
        {
         "colorbar": {
          "title": {
           "text": "Objective Value"
          }
         },
         "colorscale": [
          [
           0,
           "rgb(0, 147, 146)"
          ],
          [
           0.16666666666666666,
           "rgb(114, 170, 161)"
          ],
          [
           0.3333333333333333,
           "rgb(177, 199, 179)"
          ],
          [
           0.5,
           "rgb(241, 234, 200)"
          ],
          [
           0.6666666666666666,
           "rgb(229, 185, 173)"
          ],
          [
           0.8333333333333334,
           "rgb(217, 137, 148)"
          ],
          [
           1,
           "rgb(208, 88, 126)"
          ]
         ],
         "connectgaps": true,
         "contours": {
          "coloring": "heatmap"
         },
         "hoverinfo": "none",
         "line": {
          "smoothing": 1.3
         },
         "reversescale": false,
         "showscale": false,
         "type": "contour",
         "x": [
          1.7999999999999998,
          5,
          7,
          9,
          11,
          13,
          15,
          17,
          19,
          21,
          23,
          25,
          27,
          29,
          31,
          33,
          35,
          37,
          39,
          41,
          43,
          45,
          47,
          49,
          51,
          53,
          55,
          57,
          59,
          61,
          63,
          65,
          67,
          69,
          72.2
         ],
         "xaxis": "x7",
         "y": [
          8,
          10,
          12,
          16,
          18,
          20,
          22,
          24,
          26,
          28,
          30,
          32,
          34,
          36,
          38,
          40,
          42,
          44,
          46,
          48,
          50,
          52
         ],
         "yaxis": "y7",
         "z": [
          [
           null,
           null,
           null,
           null,
           null,
           null,
           null,
           null,
           null,
           null,
           null,
           null,
           null,
           null,
           null,
           null,
           null,
           null,
           null,
           null,
           null,
           null,
           null,
           null,
           null,
           null,
           null,
           null,
           null,
           null,
           null,
           null,
           null,
           null,
           null
          ],
          [
           null,
           null,
           null,
           null,
           null,
           null,
           null,
           null,
           null,
           null,
           null,
           null,
           0.01260421463440778,
           null,
           null,
           null,
           null,
           null,
           null,
           null,
           null,
           null,
           null,
           null,
           null,
           null,
           0.012622667496808865,
           null,
           null,
           null,
           null,
           null,
           null,
           null,
           null
          ],
          [
           null,
           null,
           null,
           null,
           null,
           null,
           null,
           null,
           null,
           null,
           null,
           null,
           null,
           null,
           null,
           null,
           null,
           0.012461279269698717,
           null,
           null,
           null,
           null,
           null,
           null,
           null,
           null,
           null,
           null,
           null,
           null,
           null,
           null,
           null,
           null,
           null
          ],
          [
           null,
           null,
           null,
           null,
           null,
           null,
           null,
           null,
           null,
           null,
           0.013308510079244582,
           null,
           null,
           null,
           null,
           0.012358103632653569,
           null,
           null,
           null,
           null,
           null,
           null,
           null,
           null,
           null,
           null,
           null,
           null,
           null,
           null,
           null,
           null,
           null,
           null,
           null
          ],
          [
           null,
           null,
           null,
           null,
           null,
           null,
           null,
           0.01231794076099381,
           null,
           null,
           null,
           null,
           null,
           null,
           null,
           null,
           null,
           null,
           null,
           null,
           null,
           null,
           null,
           null,
           null,
           null,
           null,
           null,
           null,
           null,
           null,
           null,
           null,
           null,
           null
          ],
          [
           null,
           null,
           null,
           null,
           null,
           null,
           null,
           null,
           null,
           null,
           null,
           null,
           null,
           null,
           null,
           null,
           null,
           null,
           null,
           null,
           null,
           null,
           null,
           null,
           null,
           null,
           null,
           null,
           null,
           null,
           null,
           null,
           0.012251749895392213,
           0.013863657874566443,
           null
          ],
          [
           null,
           null,
           null,
           null,
           null,
           0.012293285382729061,
           null,
           null,
           null,
           null,
           null,
           null,
           null,
           null,
           null,
           null,
           null,
           null,
           null,
           null,
           null,
           null,
           null,
           null,
           null,
           null,
           null,
           null,
           null,
           null,
           0.01258312014504803,
           null,
           null,
           null,
           null
          ],
          [
           null,
           null,
           null,
           null,
           null,
           null,
           null,
           null,
           null,
           null,
           null,
           0.012140895276269756,
           null,
           0.012340528317021562,
           null,
           null,
           null,
           null,
           null,
           null,
           null,
           null,
           null,
           null,
           null,
           null,
           null,
           null,
           null,
           null,
           null,
           null,
           null,
           null,
           null
          ],
          [
           null,
           null,
           null,
           null,
           null,
           null,
           null,
           null,
           0.012438136662058575,
           null,
           null,
           null,
           null,
           null,
           null,
           null,
           null,
           0.012107004174181736,
           null,
           null,
           0.013396294696655842,
           null,
           null,
           null,
           null,
           null,
           null,
           null,
           null,
           null,
           null,
           null,
           null,
           null,
           null
          ],
          [
           null,
           null,
           null,
           null,
           null,
           null,
           null,
           null,
           null,
           null,
           null,
           0.01196609641794189,
           null,
           null,
           null,
           null,
           null,
           null,
           null,
           null,
           null,
           null,
           null,
           null,
           0.01248190496917858,
           null,
           null,
           0.012008271607263402,
           null,
           null,
           0.01196475553483938,
           null,
           null,
           null,
           null
          ],
          [
           null,
           null,
           null,
           null,
           null,
           null,
           null,
           null,
           null,
           0.011961559640851513,
           null,
           0.011940949659289804,
           null,
           null,
           0.011968162771543164,
           null,
           null,
           0.0134999250813532,
           0.01193921717127557,
           null,
           null,
           null,
           null,
           null,
           null,
           null,
           null,
           null,
           null,
           null,
           0.012051077069445807,
           null,
           null,
           null,
           null
          ],
          [
           null,
           null,
           null,
           null,
           null,
           null,
           null,
           0.012235372900219713,
           null,
           null,
           null,
           0.011927276488631509,
           0.011921961637169147,
           null,
           null,
           0.011947478680214365,
           0.011947478680214365,
           null,
           null,
           null,
           null,
           null,
           0.011992558057914566,
           null,
           null,
           null,
           null,
           null,
           null,
           null,
           null,
           null,
           null,
           null,
           null
          ],
          [
           null,
           null,
           null,
           null,
           null,
           null,
           null,
           null,
           null,
           null,
           0.011999677260968516,
           null,
           null,
           null,
           0.011963745418698156,
           null,
           0.012011015765486664,
           null,
           null,
           0.011976048854185177,
           null,
           0.011999677260968516,
           null,
           0.011976048854185177,
           null,
           null,
           null,
           null,
           0.012421301340517606,
           null,
           null,
           null,
           null,
           0.011949099182510218,
           null
          ],
          [
           null,
           null,
           null,
           null,
           null,
           null,
           null,
           null,
           null,
           0.01199846925447399,
           0.011973480854256958,
           null,
           0.011912793230805942,
           0.011912793230805942,
           null,
           0.011885291639963168,
           0.011885291639963168,
           0.011912793230805942,
           0.011973480854256958,
           null,
           0.012030199668706722,
           null,
           null,
           null,
           0.01196039382022583,
           null,
           null,
           0.014053015880755134,
           null,
           null,
           0.011885291639963168,
           null,
           null,
           null,
           null
          ],
          [
           null,
           0.027716165963650553,
           null,
           0.014046192743761034,
           null,
           null,
           null,
           null,
           null,
           null,
           null,
           null,
           null,
           0.011924689168290125,
           0.011924689168290125,
           0.011924689168290125,
           0.012008872824781209,
           null,
           null,
           null,
           null,
           null,
           null,
           null,
           null,
           null,
           null,
           null,
           null,
           null,
           0.013870958915826915,
           null,
           null,
           null,
           null
          ],
          [
           null,
           null,
           null,
           null,
           0.012588894399140746,
           0.012153760912705923,
           null,
           null,
           0.012747697788552479,
           0.012039373924653048,
           null,
           null,
           null,
           0.011892191941379379,
           null,
           null,
           0.012309783023940864,
           null,
           null,
           0.011881060937487229,
           null,
           null,
           null,
           null,
           0.012492538009290231,
           null,
           null,
           null,
           null,
           null,
           null,
           null,
           null,
           null,
           null
          ],
          [
           null,
           null,
           null,
           null,
           null,
           null,
           null,
           null,
           null,
           0.012186835505593917,
           null,
           null,
           null,
           0.012024532297635213,
           null,
           null,
           null,
           null,
           0.014044494609337283,
           null,
           null,
           null,
           0.011893401012469811,
           null,
           null,
           null,
           null,
           null,
           null,
           null,
           null,
           null,
           null,
           null,
           null
          ],
          [
           null,
           null,
           null,
           null,
           null,
           null,
           null,
           null,
           null,
           null,
           null,
           0.013045021949960225,
           null,
           0.012746541647772428,
           0.011940804019543757,
           null,
           null,
           null,
           null,
           null,
           null,
           null,
           0.01188077524255552,
           null,
           0.011861928415934028,
           0.012188729645826072,
           null,
           0.011898209742827105,
           null,
           null,
           null,
           null,
           null,
           null,
           null
          ],
          [
           null,
           null,
           null,
           null,
           null,
           null,
           null,
           null,
           null,
           null,
           null,
           null,
           null,
           null,
           null,
           null,
           null,
           null,
           null,
           null,
           null,
           0.01193220900192369,
           0.011866062163300602,
           0.01187280027848753,
           0.011866062163300602,
           0.01185572575296864,
           0.011890898591078976,
           null,
           null,
           null,
           null,
           0.012592271958845352,
           null,
           null,
           null
          ],
          [
           null,
           null,
           null,
           null,
           null,
           null,
           null,
           null,
           null,
           null,
           null,
           null,
           null,
           null,
           null,
           0.012232673701616032,
           null,
           null,
           null,
           null,
           0.011863466986254675,
           null,
           null,
           0.011863466986254675,
           0.011849135768655018,
           0.01186248942300084,
           null,
           null,
           0.011887259861711253,
           0.011887259861711253,
           null,
           null,
           null,
           null,
           null
          ],
          [
           null,
           null,
           0.017838834918358498,
           null,
           null,
           null,
           0.012041141061827835,
           null,
           null,
           null,
           null,
           null,
           null,
           null,
           null,
           null,
           null,
           null,
           null,
           null,
           null,
           null,
           null,
           0.011844761442504853,
           0.011919982463777862,
           null,
           0.01191324622266565,
           0.01194928689759694,
           0.011863850729239261,
           null,
           null,
           0.011827228621846698,
           0.011925068807522561,
           null,
           null
          ],
          [
           null,
           null,
           null,
           null,
           null,
           null,
           null,
           null,
           null,
           null,
           null,
           null,
           null,
           null,
           null,
           null,
           null,
           null,
           null,
           null,
           null,
           null,
           null,
           null,
           null,
           null,
           null,
           null,
           null,
           null,
           null,
           null,
           null,
           null,
           null
          ]
         ]
        },
        {
         "marker": {
          "color": "black",
          "line": {
           "color": "Gray",
           "width": 2
          }
         },
         "mode": "markers",
         "name": "Feasible Trial",
         "showlegend": false,
         "type": "scatter",
         "x": [
          23,
          63,
          35,
          69,
          67,
          15,
          51,
          39,
          63,
          33,
          49,
          7,
          11,
          51,
          21,
          21,
          49,
          51,
          43,
          55,
          57,
          29,
          31,
          29,
          29,
          43,
          29,
          41,
          35,
          25,
          17,
          45,
          57,
          47,
          33,
          39,
          25,
          25,
          37,
          37,
          17,
          27,
          25,
          25,
          21,
          13,
          25,
          31,
          19,
          5,
          27,
          63,
          69,
          23,
          63,
          35,
          13,
          33,
          39,
          33,
          63,
          27,
          23,
          31,
          27,
          27,
          19,
          21,
          9,
          33,
          59,
          29,
          29,
          29,
          29,
          31,
          35,
          29,
          29,
          27,
          41,
          31,
          29,
          35,
          35,
          37,
          35,
          37,
          41,
          39,
          37,
          33,
          33,
          35,
          35,
          41,
          31,
          47,
          53,
          53,
          53,
          53,
          53,
          53,
          49,
          53,
          53,
          59,
          59,
          49,
          57,
          49,
          51,
          55,
          61,
          65,
          47,
          51,
          55,
          57,
          45,
          59,
          61,
          65,
          49,
          67,
          65,
          55,
          51,
          53,
          51,
          49,
          45,
          51,
          47,
          51,
          47,
          47,
          47,
          45,
          47,
          47,
          47,
          43,
          43,
          49,
          49,
          51,
          49,
          49
         ],
         "xaxis": "x7",
         "y": [
          16,
          30,
          32,
          20,
          20,
          50,
          36,
          30,
          22,
          16,
          46,
          50,
          40,
          40,
          40,
          36,
          34,
          28,
          26,
          10,
          36,
          36,
          34,
          42,
          44,
          36,
          24,
          34,
          38,
          44,
          32,
          34,
          28,
          32,
          38,
          30,
          30,
          28,
          30,
          26,
          18,
          32,
          32,
          32,
          30,
          22,
          24,
          30,
          26,
          38,
          32,
          36,
          34,
          36,
          28,
          32,
          40,
          38,
          42,
          48,
          38,
          36,
          34,
          30,
          10,
          36,
          40,
          42,
          38,
          32,
          34,
          36,
          36,
          38,
          40,
          44,
          40,
          42,
          38,
          36,
          40,
          38,
          38,
          36,
          36,
          36,
          34,
          36,
          34,
          36,
          12,
          36,
          36,
          36,
          36,
          40,
          44,
          42,
          46,
          46,
          46,
          48,
          48,
          46,
          48,
          48,
          48,
          50,
          50,
          50,
          50,
          46,
          48,
          46,
          48,
          50,
          46,
          48,
          50,
          44,
          46,
          48,
          48,
          50,
          50,
          50,
          46,
          50,
          44,
          44,
          44,
          46,
          46,
          48,
          46,
          46,
          46,
          46,
          46,
          46,
          44,
          46,
          46,
          48,
          48,
          48,
          50,
          50,
          50,
          50
         ],
         "yaxis": "y7"
        },
        {
         "colorbar": {
          "title": {
           "text": "Objective Value"
          }
         },
         "colorscale": [
          [
           0,
           "rgb(0, 147, 146)"
          ],
          [
           0.16666666666666666,
           "rgb(114, 170, 161)"
          ],
          [
           0.3333333333333333,
           "rgb(177, 199, 179)"
          ],
          [
           0.5,
           "rgb(241, 234, 200)"
          ],
          [
           0.6666666666666666,
           "rgb(229, 185, 173)"
          ],
          [
           0.8333333333333334,
           "rgb(217, 137, 148)"
          ],
          [
           1,
           "rgb(208, 88, 126)"
          ]
         ],
         "connectgaps": true,
         "contours": {
          "coloring": "heatmap"
         },
         "hoverinfo": "none",
         "line": {
          "smoothing": 1.3
         },
         "reversescale": false,
         "showscale": false,
         "type": "contour",
         "x": [
          0.04999999999999993,
          1,
          2,
          3,
          4,
          5,
          6,
          7,
          8,
          9,
          10,
          12,
          13,
          14,
          15,
          16,
          17,
          18,
          20,
          20.95
         ],
         "xaxis": "x2",
         "y": [
          1.7999999999999998,
          5,
          7,
          9,
          11,
          13,
          15,
          17,
          19,
          21,
          23,
          25,
          27,
          29,
          31,
          33,
          35,
          37,
          39,
          41,
          43,
          45,
          47,
          49,
          51,
          53,
          55,
          57,
          59,
          61,
          63,
          65,
          67,
          69,
          72.2
         ],
         "yaxis": "y2",
         "z": [
          [
           null,
           null,
           null,
           null,
           null,
           null,
           null,
           null,
           null,
           null,
           null,
           null,
           null,
           null,
           null,
           null,
           null,
           null,
           null,
           null
          ],
          [
           null,
           null,
           0.027716165963650553,
           null,
           null,
           null,
           null,
           null,
           null,
           null,
           null,
           null,
           null,
           null,
           null,
           null,
           null,
           null,
           null,
           null
          ],
          [
           null,
           0.017838834918358498,
           null,
           null,
           null,
           null,
           null,
           null,
           null,
           null,
           null,
           null,
           null,
           null,
           null,
           null,
           null,
           null,
           null,
           null
          ],
          [
           null,
           null,
           null,
           null,
           null,
           0.014046192743761034,
           null,
           null,
           null,
           null,
           null,
           null,
           null,
           null,
           null,
           null,
           null,
           null,
           null,
           null
          ],
          [
           null,
           null,
           null,
           null,
           null,
           0.012588894399140746,
           null,
           null,
           null,
           null,
           null,
           null,
           null,
           null,
           null,
           null,
           null,
           null,
           null,
           null
          ],
          [
           null,
           0.012153760912705923,
           null,
           null,
           0.012293285382729061,
           null,
           null,
           null,
           null,
           null,
           null,
           null,
           null,
           null,
           null,
           null,
           null,
           null,
           null,
           null
          ],
          [
           null,
           null,
           null,
           null,
           null,
           0.012041141061827835,
           null,
           null,
           null,
           null,
           null,
           null,
           null,
           null,
           null,
           null,
           null,
           null,
           null,
           null
          ],
          [
           null,
           null,
           null,
           null,
           null,
           0.01231794076099381,
           0.012235372900219713,
           null,
           null,
           null,
           null,
           null,
           null,
           null,
           null,
           null,
           null,
           null,
           null,
           null
          ],
          [
           null,
           null,
           null,
           null,
           null,
           null,
           null,
           0.012438136662058575,
           null,
           null,
           0.012747697788552479,
           null,
           null,
           null,
           null,
           null,
           null,
           null,
           null,
           null
          ],
          [
           null,
           0.01199846925447399,
           0.011961559640851513,
           null,
           null,
           null,
           0.012186835505593917,
           null,
           null,
           null,
           null,
           null,
           null,
           null,
           null,
           null,
           null,
           null,
           null,
           null
          ],
          [
           null,
           null,
           null,
           null,
           0.011973480854256958,
           null,
           null,
           null,
           null,
           null,
           null,
           0.013308510079244582,
           null,
           null,
           null,
           null,
           null,
           null,
           null,
           null
          ],
          [
           null,
           0.011973533306744057,
           0.011927276488631509,
           null,
           0.012140895276269756,
           null,
           null,
           null,
           null,
           null,
           null,
           0.013045021949960225,
           null,
           null,
           null,
           null,
           null,
           null,
           null,
           null
          ],
          [
           null,
           0.011956452536038912,
           0.011921961637169147,
           0.011912793230805942,
           null,
           0.01210706974651345,
           null,
           null,
           null,
           null,
           null,
           0.013055757806120168,
           null,
           null,
           null,
           null,
           null,
           null,
           null,
           null
          ],
          [
           null,
           null,
           null,
           0.011892191941379379,
           0.011981864325830618,
           0.012024532297635213,
           0.012340528317021562,
           0.012312696654604735,
           null,
           null,
           0.012746541647772428,
           null,
           null,
           null,
           null,
           null,
           null,
           null,
           null,
           null
          ],
          [
           null,
           0.011960304053586288,
           null,
           0.011924689168290125,
           0.011940804019543757,
           null,
           null,
           null,
           null,
           null,
           null,
           null,
           null,
           null,
           null,
           null,
           null,
           null,
           null,
           null
          ],
          [
           null,
           0.01196621986996285,
           0.011885291639963168,
           0.011924689168290125,
           null,
           0.01205372291775378,
           null,
           null,
           null,
           null,
           null,
           null,
           null,
           null,
           null,
           null,
           null,
           null,
           null,
           null
          ],
          [
           null,
           0.012011015765486664,
           0.011885291639963168,
           0.011912793230805942,
           null,
           null,
           null,
           0.012309783023940864,
           null,
           null,
           null,
           null,
           null,
           null,
           null,
           null,
           0.013740486850498343,
           null,
           null,
           null
          ],
          [
           null,
           null,
           null,
           0.011912793230805942,
           0.011973480854256958,
           null,
           null,
           null,
           null,
           null,
           null,
           null,
           null,
           null,
           0.0134999250813532,
           null,
           null,
           null,
           null,
           null
          ],
          [
           null,
           null,
           0.01193921717127557,
           null,
           0.011973480854256958,
           null,
           null,
           null,
           null,
           null,
           null,
           null,
           0.0132480536942932,
           null,
           null,
           null,
           null,
           null,
           0.014044494609337283,
           null
          ],
          [
           null,
           null,
           0.011881060937487229,
           0.011976048854185177,
           null,
           0.012079248083272908,
           0.012184805468232912,
           null,
           null,
           null,
           null,
           null,
           null,
           null,
           null,
           null,
           null,
           null,
           null,
           null
          ],
          [
           null,
           null,
           null,
           0.011863466986254675,
           0.011928210464435984,
           null,
           null,
           null,
           null,
           null,
           null,
           null,
           null,
           0.013396294696655842,
           null,
           null,
           null,
           null,
           null,
           null
          ],
          [
           null,
           0.011932313614960905,
           null,
           null,
           0.01193220900192369,
           null,
           null,
           null,
           null,
           null,
           null,
           null,
           null,
           null,
           null,
           0.013597253586390814,
           null,
           null,
           null,
           null
          ],
          [
           null,
           null,
           0.011893401012469811,
           0.011866062163300602,
           null,
           null,
           null,
           null,
           null,
           null,
           null,
           null,
           0.013192976757839732,
           null,
           null,
           null,
           null,
           null,
           null,
           null
          ],
          [
           null,
           0.011925068807522561,
           0.011863850729239261,
           0.011844761442504853,
           null,
           null,
           null,
           null,
           null,
           0.012592271958845352,
           null,
           null,
           null,
           null,
           null,
           null,
           null,
           null,
           null,
           null
          ],
          [
           null,
           0.011957112220496485,
           0.011849135768655018,
           0.011866062163300602,
           0.011919982463777862,
           null,
           0.012492538009290231,
           null,
           0.01248190496917858,
           null,
           null,
           null,
           null,
           null,
           null,
           null,
           null,
           null,
           null,
           null
          ],
          [
           null,
           0.011932313614960905,
           0.01185572575296864,
           null,
           null,
           null,
           null,
           null,
           null,
           null,
           null,
           null,
           null,
           null,
           null,
           null,
           null,
           null,
           null,
           null
          ],
          [
           null,
           null,
           0.011890898591078976,
           0.012622667496808865,
           null,
           null,
           null,
           null,
           null,
           null,
           null,
           null,
           null,
           null,
           null,
           null,
           null,
           null,
           null,
           null
          ],
          [
           null,
           0.01194928689759694,
           0.011898209742827105,
           0.012008271607263402,
           null,
           null,
           null,
           null,
           null,
           null,
           null,
           null,
           null,
           null,
           null,
           null,
           null,
           null,
           0.014053015880755134,
           null
          ],
          [
           null,
           0.01194928689759694,
           0.011863850729239261,
           null,
           null,
           null,
           null,
           null,
           null,
           null,
           null,
           null,
           null,
           null,
           null,
           null,
           null,
           null,
           null,
           null
          ],
          [
           null,
           null,
           0.011887259861711253,
           null,
           null,
           null,
           null,
           null,
           null,
           null,
           null,
           null,
           null,
           null,
           null,
           null,
           null,
           null,
           null,
           null
          ],
          [
           null,
           null,
           0.011885291639963168,
           null,
           0.012051077069445807,
           null,
           null,
           null,
           0.01258312014504803,
           null,
           null,
           null,
           null,
           null,
           null,
           null,
           null,
           0.013870958915826915,
           null,
           null
          ],
          [
           null,
           0.011925068807522561,
           0.011827228621846698,
           null,
           null,
           null,
           null,
           null,
           null,
           0.012592271958845352,
           null,
           null,
           null,
           null,
           null,
           null,
           null,
           null,
           null,
           null
          ],
          [
           null,
           0.011925068807522561,
           null,
           null,
           0.012251749895392213,
           null,
           null,
           null,
           null,
           null,
           null,
           null,
           null,
           null,
           null,
           null,
           null,
           null,
           null,
           null
          ],
          [
           null,
           0.011949099182510218,
           null,
           null,
           null,
           null,
           null,
           null,
           null,
           null,
           null,
           null,
           null,
           null,
           null,
           null,
           0.013863657874566443,
           null,
           null,
           null
          ],
          [
           null,
           null,
           null,
           null,
           null,
           null,
           null,
           null,
           null,
           null,
           null,
           null,
           null,
           null,
           null,
           null,
           null,
           null,
           null,
           null
          ]
         ]
        },
        {
         "marker": {
          "color": "black",
          "line": {
           "color": "Gray",
           "width": 2
          }
         },
         "mode": "markers",
         "name": "Feasible Trial",
         "showlegend": false,
         "type": "scatter",
         "x": [
          12,
          4,
          17,
          17,
          4,
          5,
          2,
          13,
          8,
          1,
          9,
          1,
          5,
          6,
          1,
          1,
          3,
          8,
          14,
          3,
          20,
          3,
          3,
          7,
          10,
          3,
          6,
          3,
          2,
          12,
          6,
          4,
          3,
          2,
          5,
          2,
          2,
          2,
          15,
          4,
          5,
          2,
          2,
          1,
          2,
          4,
          4,
          1,
          7,
          2,
          5,
          2,
          1,
          4,
          2,
          3,
          1,
          3,
          20,
          2,
          18,
          3,
          4,
          3,
          2,
          1,
          10,
          6,
          5,
          3,
          2,
          3,
          3,
          3,
          3,
          4,
          7,
          5,
          3,
          12,
          6,
          3,
          4,
          3,
          3,
          4,
          1,
          3,
          5,
          4,
          3,
          2,
          1,
          2,
          3,
          2,
          1,
          2,
          2,
          2,
          2,
          2,
          2,
          1,
          2,
          2,
          2,
          2,
          1,
          2,
          1,
          2,
          2,
          2,
          2,
          1,
          13,
          1,
          2,
          2,
          1,
          2,
          2,
          2,
          1,
          1,
          9,
          2,
          2,
          1,
          4,
          2,
          16,
          2,
          3,
          3,
          3,
          3,
          3,
          4,
          3,
          3,
          3,
          3,
          4,
          3,
          3,
          4,
          3,
          3
         ],
         "xaxis": "x2",
         "y": [
          23,
          63,
          35,
          69,
          67,
          15,
          51,
          39,
          63,
          33,
          49,
          7,
          11,
          51,
          21,
          21,
          49,
          51,
          43,
          55,
          57,
          29,
          31,
          29,
          29,
          43,
          29,
          41,
          35,
          25,
          17,
          45,
          57,
          47,
          33,
          39,
          25,
          25,
          37,
          37,
          17,
          27,
          25,
          25,
          21,
          13,
          25,
          31,
          19,
          5,
          27,
          63,
          69,
          23,
          63,
          35,
          13,
          33,
          39,
          33,
          63,
          27,
          23,
          31,
          27,
          27,
          19,
          21,
          9,
          33,
          59,
          29,
          29,
          29,
          29,
          31,
          35,
          29,
          29,
          27,
          41,
          31,
          29,
          35,
          35,
          37,
          35,
          37,
          41,
          39,
          37,
          33,
          33,
          35,
          35,
          41,
          31,
          47,
          53,
          53,
          53,
          53,
          53,
          53,
          49,
          53,
          53,
          59,
          59,
          49,
          57,
          49,
          51,
          55,
          61,
          65,
          47,
          51,
          55,
          57,
          45,
          59,
          61,
          65,
          49,
          67,
          65,
          55,
          51,
          53,
          51,
          49,
          45,
          51,
          47,
          51,
          47,
          47,
          47,
          45,
          47,
          47,
          47,
          43,
          43,
          49,
          49,
          51,
          49,
          49
         ],
         "yaxis": "y2"
        },
        {
         "type": "scatter",
         "xaxis": "x5",
         "yaxis": "y5"
        },
        {
         "colorbar": {
          "title": {
           "text": "Objective Value"
          }
         },
         "colorscale": [
          [
           0,
           "rgb(0, 147, 146)"
          ],
          [
           0.16666666666666666,
           "rgb(114, 170, 161)"
          ],
          [
           0.3333333333333333,
           "rgb(177, 199, 179)"
          ],
          [
           0.5,
           "rgb(241, 234, 200)"
          ],
          [
           0.6666666666666666,
           "rgb(229, 185, 173)"
          ],
          [
           0.8333333333333334,
           "rgb(217, 137, 148)"
          ],
          [
           1,
           "rgb(208, 88, 126)"
          ]
         ],
         "connectgaps": true,
         "contours": {
          "coloring": "heatmap"
         },
         "hoverinfo": "none",
         "line": {
          "smoothing": 1.3
         },
         "reversescale": false,
         "showscale": false,
         "type": "contour",
         "x": [
          0.04999999999999993,
          1,
          2,
          3,
          4,
          5,
          6,
          7,
          8,
          9,
          10,
          12,
          13,
          14,
          15,
          16,
          17,
          18,
          20,
          20.95
         ],
         "xaxis": "x8",
         "y": [
          8,
          10,
          12,
          16,
          18,
          20,
          22,
          24,
          26,
          28,
          30,
          32,
          34,
          36,
          38,
          40,
          42,
          44,
          46,
          48,
          50,
          52
         ],
         "yaxis": "y8",
         "z": [
          [
           null,
           null,
           null,
           null,
           null,
           null,
           null,
           null,
           null,
           null,
           null,
           null,
           null,
           null,
           null,
           null,
           null,
           null,
           null,
           null
          ],
          [
           null,
           null,
           0.01260421463440778,
           0.012622667496808865,
           null,
           null,
           null,
           null,
           null,
           null,
           null,
           null,
           null,
           null,
           null,
           null,
           null,
           null,
           null,
           null
          ],
          [
           null,
           null,
           null,
           0.012461279269698717,
           null,
           null,
           null,
           null,
           null,
           null,
           null,
           null,
           null,
           null,
           null,
           null,
           null,
           null,
           null,
           null
          ],
          [
           null,
           0.012358103632653569,
           null,
           null,
           null,
           null,
           null,
           null,
           null,
           null,
           null,
           0.013308510079244582,
           null,
           null,
           null,
           null,
           null,
           null,
           null,
           null
          ],
          [
           null,
           null,
           null,
           null,
           null,
           0.01231794076099381,
           null,
           null,
           null,
           null,
           null,
           null,
           null,
           null,
           null,
           null,
           null,
           null,
           null,
           null
          ],
          [
           null,
           null,
           null,
           null,
           0.012251749895392213,
           null,
           null,
           null,
           null,
           null,
           null,
           null,
           null,
           null,
           null,
           null,
           0.013863657874566443,
           null,
           null,
           null
          ],
          [
           null,
           null,
           null,
           null,
           0.012293285382729061,
           null,
           null,
           null,
           0.01258312014504803,
           null,
           null,
           null,
           null,
           null,
           null,
           null,
           null,
           null,
           null,
           null
          ],
          [
           null,
           null,
           null,
           null,
           0.012140895276269756,
           null,
           0.012340528317021562,
           null,
           null,
           null,
           null,
           null,
           null,
           null,
           null,
           null,
           null,
           null,
           null,
           null
          ],
          [
           null,
           null,
           null,
           null,
           0.012107004174181736,
           null,
           null,
           0.012438136662058575,
           null,
           null,
           null,
           null,
           null,
           0.013396294696655842,
           null,
           null,
           null,
           null,
           null,
           null
          ],
          [
           null,
           null,
           0.01196475553483938,
           0.012008271607263402,
           null,
           null,
           null,
           null,
           0.01248190496917858,
           null,
           null,
           null,
           null,
           null,
           null,
           null,
           null,
           null,
           null,
           null
          ],
          [
           null,
           0.012014551960420875,
           0.01193921717127557,
           0.011968162771543164,
           0.012051077069445807,
           null,
           null,
           null,
           null,
           null,
           null,
           null,
           0.0132480536942932,
           null,
           0.0134999250813532,
           null,
           null,
           null,
           null,
           null
          ],
          [
           null,
           0.011973533306744057,
           0.011921961637169147,
           0.011947478680214365,
           null,
           0.01210706974651345,
           0.012235372900219713,
           null,
           null,
           null,
           null,
           null,
           null,
           null,
           null,
           null,
           0.013740486850498343,
           null,
           null,
           null
          ],
          [
           null,
           0.011949099182510218,
           0.012421301340517606,
           0.011963745418698156,
           0.011999677260968516,
           0.012079248083272908,
           null,
           null,
           null,
           null,
           null,
           null,
           null,
           null,
           null,
           null,
           null,
           null,
           null,
           null
          ],
          [
           null,
           0.011956452536038912,
           0.011885291639963168,
           0.011912793230805942,
           0.011973480854256958,
           null,
           null,
           null,
           null,
           null,
           null,
           0.013055757806120168,
           null,
           null,
           null,
           null,
           null,
           null,
           0.014053015880755134,
           null
          ],
          [
           null,
           null,
           0.012008872824781209,
           0.011924689168290125,
           0.011981864325830618,
           0.01205372291775378,
           null,
           null,
           null,
           null,
           null,
           null,
           null,
           null,
           null,
           null,
           null,
           0.013870958915826915,
           null,
           null
          ],
          [
           null,
           0.012039373924653048,
           0.011881060937487229,
           0.011892191941379379,
           null,
           0.012588894399140746,
           0.012184805468232912,
           0.012309783023940864,
           null,
           null,
           0.012747697788552479,
           null,
           null,
           null,
           null,
           null,
           null,
           null,
           null,
           null
          ],
          [
           null,
           null,
           0.011893401012469811,
           null,
           null,
           0.012024532297635213,
           0.012186835505593917,
           0.012312696654604735,
           null,
           null,
           null,
           null,
           null,
           null,
           null,
           null,
           null,
           null,
           0.014044494609337283,
           null
          ],
          [
           null,
           0.011960304053586288,
           0.011861928415934028,
           0.01188077524255552,
           0.011940804019543757,
           null,
           null,
           null,
           null,
           null,
           0.012746541647772428,
           0.013045021949960225,
           null,
           null,
           null,
           null,
           null,
           null,
           null,
           null
          ],
          [
           null,
           0.011932313614960905,
           0.01185572575296864,
           0.011866062163300602,
           0.01193220900192369,
           null,
           null,
           null,
           null,
           0.012592271958845352,
           null,
           null,
           0.013192976757839732,
           null,
           null,
           0.013597253586390814,
           null,
           null,
           null,
           null
          ],
          [
           null,
           0.011957112220496485,
           0.011849135768655018,
           0.011863466986254675,
           0.011928210464435984,
           null,
           null,
           null,
           null,
           null,
           null,
           null,
           null,
           null,
           null,
           null,
           null,
           null,
           null,
           null
          ],
          [
           null,
           0.011925068807522561,
           0.011827228621846698,
           0.011844761442504853,
           0.011919982463777862,
           0.012041141061827835,
           null,
           null,
           null,
           null,
           null,
           null,
           null,
           null,
           null,
           null,
           null,
           null,
           null,
           null
          ],
          [
           null,
           null,
           null,
           null,
           null,
           null,
           null,
           null,
           null,
           null,
           null,
           null,
           null,
           null,
           null,
           null,
           null,
           null,
           null,
           null
          ]
         ]
        },
        {
         "marker": {
          "color": "black",
          "line": {
           "color": "Gray",
           "width": 2
          }
         },
         "mode": "markers",
         "name": "Feasible Trial",
         "showlegend": false,
         "type": "scatter",
         "x": [
          12,
          4,
          17,
          17,
          4,
          5,
          2,
          13,
          8,
          1,
          9,
          1,
          5,
          6,
          1,
          1,
          3,
          8,
          14,
          3,
          20,
          3,
          3,
          7,
          10,
          3,
          6,
          3,
          2,
          12,
          6,
          4,
          3,
          2,
          5,
          2,
          2,
          2,
          15,
          4,
          5,
          2,
          2,
          1,
          2,
          4,
          4,
          1,
          7,
          2,
          5,
          2,
          1,
          4,
          2,
          3,
          1,
          3,
          20,
          2,
          18,
          3,
          4,
          3,
          2,
          1,
          10,
          6,
          5,
          3,
          2,
          3,
          3,
          3,
          3,
          4,
          7,
          5,
          3,
          12,
          6,
          3,
          4,
          3,
          3,
          4,
          1,
          3,
          5,
          4,
          3,
          2,
          1,
          2,
          3,
          2,
          1,
          2,
          2,
          2,
          2,
          2,
          2,
          1,
          2,
          2,
          2,
          2,
          1,
          2,
          1,
          2,
          2,
          2,
          2,
          1,
          13,
          1,
          2,
          2,
          1,
          2,
          2,
          2,
          1,
          1,
          9,
          2,
          2,
          1,
          4,
          2,
          16,
          2,
          3,
          3,
          3,
          3,
          3,
          4,
          3,
          3,
          3,
          3,
          4,
          3,
          3,
          4,
          3,
          3
         ],
         "xaxis": "x8",
         "y": [
          16,
          30,
          32,
          20,
          20,
          50,
          36,
          30,
          22,
          16,
          46,
          50,
          40,
          40,
          40,
          36,
          34,
          28,
          26,
          10,
          36,
          36,
          34,
          42,
          44,
          36,
          24,
          34,
          38,
          44,
          32,
          34,
          28,
          32,
          38,
          30,
          30,
          28,
          30,
          26,
          18,
          32,
          32,
          32,
          30,
          22,
          24,
          30,
          26,
          38,
          32,
          36,
          34,
          36,
          28,
          32,
          40,
          38,
          42,
          48,
          38,
          36,
          34,
          30,
          10,
          36,
          40,
          42,
          38,
          32,
          34,
          36,
          36,
          38,
          40,
          44,
          40,
          42,
          38,
          36,
          40,
          38,
          38,
          36,
          36,
          36,
          34,
          36,
          34,
          36,
          12,
          36,
          36,
          36,
          36,
          40,
          44,
          42,
          46,
          46,
          46,
          48,
          48,
          46,
          48,
          48,
          48,
          50,
          50,
          50,
          50,
          46,
          48,
          46,
          48,
          50,
          46,
          48,
          50,
          44,
          46,
          48,
          48,
          50,
          50,
          50,
          46,
          50,
          44,
          44,
          44,
          46,
          46,
          48,
          46,
          46,
          46,
          46,
          46,
          46,
          44,
          46,
          46,
          48,
          48,
          48,
          50,
          50,
          50,
          50
         ],
         "yaxis": "y8"
        },
        {
         "colorbar": {
          "title": {
           "text": "Objective Value"
          }
         },
         "colorscale": [
          [
           0,
           "rgb(0, 147, 146)"
          ],
          [
           0.16666666666666666,
           "rgb(114, 170, 161)"
          ],
          [
           0.3333333333333333,
           "rgb(177, 199, 179)"
          ],
          [
           0.5,
           "rgb(241, 234, 200)"
          ],
          [
           0.6666666666666666,
           "rgb(229, 185, 173)"
          ],
          [
           0.8333333333333334,
           "rgb(217, 137, 148)"
          ],
          [
           1,
           "rgb(208, 88, 126)"
          ]
         ],
         "connectgaps": true,
         "contours": {
          "coloring": "heatmap"
         },
         "hoverinfo": "none",
         "line": {
          "smoothing": 1.3
         },
         "reversescale": false,
         "showscale": false,
         "type": "contour",
         "x": [
          8,
          10,
          12,
          16,
          18,
          20,
          22,
          24,
          26,
          28,
          30,
          32,
          34,
          36,
          38,
          40,
          42,
          44,
          46,
          48,
          50,
          52
         ],
         "xaxis": "x3",
         "y": [
          1.7999999999999998,
          5,
          7,
          9,
          11,
          13,
          15,
          17,
          19,
          21,
          23,
          25,
          27,
          29,
          31,
          33,
          35,
          37,
          39,
          41,
          43,
          45,
          47,
          49,
          51,
          53,
          55,
          57,
          59,
          61,
          63,
          65,
          67,
          69,
          72.2
         ],
         "yaxis": "y3",
         "z": [
          [
           null,
           null,
           null,
           null,
           null,
           null,
           null,
           null,
           null,
           null,
           null,
           null,
           null,
           null,
           null,
           null,
           null,
           null,
           null,
           null,
           null,
           null
          ],
          [
           null,
           null,
           null,
           null,
           null,
           null,
           null,
           null,
           null,
           null,
           null,
           null,
           null,
           null,
           0.027716165963650553,
           null,
           null,
           null,
           null,
           null,
           null,
           null
          ],
          [
           null,
           null,
           null,
           null,
           null,
           null,
           null,
           null,
           null,
           null,
           null,
           null,
           null,
           null,
           null,
           null,
           null,
           null,
           null,
           null,
           0.017838834918358498,
           null
          ],
          [
           null,
           null,
           null,
           null,
           null,
           null,
           null,
           null,
           null,
           null,
           null,
           null,
           null,
           null,
           0.014046192743761034,
           null,
           null,
           null,
           null,
           null,
           null,
           null
          ],
          [
           null,
           null,
           null,
           null,
           null,
           null,
           null,
           null,
           null,
           null,
           null,
           null,
           null,
           null,
           null,
           0.012588894399140746,
           null,
           null,
           null,
           null,
           null,
           null
          ],
          [
           null,
           null,
           null,
           null,
           null,
           null,
           0.012293285382729061,
           null,
           null,
           null,
           null,
           null,
           null,
           null,
           null,
           0.012153760912705923,
           null,
           null,
           null,
           null,
           null,
           null
          ],
          [
           null,
           null,
           null,
           null,
           null,
           null,
           null,
           null,
           null,
           null,
           null,
           null,
           null,
           null,
           null,
           null,
           null,
           null,
           null,
           null,
           0.012041141061827835,
           null
          ],
          [
           null,
           null,
           null,
           null,
           0.01231794076099381,
           null,
           null,
           null,
           null,
           null,
           null,
           0.012235372900219713,
           null,
           null,
           null,
           null,
           null,
           null,
           null,
           null,
           null,
           null
          ],
          [
           null,
           null,
           null,
           null,
           null,
           null,
           null,
           null,
           0.012438136662058575,
           null,
           null,
           null,
           null,
           null,
           null,
           0.012747697788552479,
           null,
           null,
           null,
           null,
           null,
           null
          ],
          [
           null,
           null,
           null,
           null,
           null,
           null,
           null,
           null,
           null,
           null,
           0.011961559640851513,
           null,
           null,
           0.01199846925447399,
           null,
           0.012039373924653048,
           0.012186835505593917,
           null,
           null,
           null,
           null,
           null
          ],
          [
           null,
           null,
           null,
           0.013308510079244582,
           null,
           null,
           null,
           null,
           null,
           null,
           null,
           null,
           0.011999677260968516,
           0.011973480854256958,
           null,
           null,
           null,
           null,
           null,
           null,
           null,
           null
          ],
          [
           null,
           null,
           null,
           null,
           null,
           null,
           null,
           0.012140895276269756,
           null,
           0.01196609641794189,
           0.011940949659289804,
           0.011927276488631509,
           null,
           null,
           null,
           null,
           null,
           0.013045021949960225,
           null,
           null,
           null,
           null
          ],
          [
           null,
           0.01260421463440778,
           null,
           null,
           null,
           null,
           null,
           null,
           null,
           null,
           null,
           0.011921961637169147,
           null,
           0.011912793230805942,
           null,
           null,
           null,
           null,
           null,
           null,
           null,
           null
          ],
          [
           null,
           null,
           null,
           null,
           null,
           null,
           null,
           0.012340528317021562,
           null,
           null,
           null,
           null,
           null,
           0.011912793230805942,
           0.011924689168290125,
           0.011892191941379379,
           0.012024532297635213,
           0.012746541647772428,
           null,
           null,
           null,
           null
          ],
          [
           null,
           null,
           null,
           null,
           null,
           null,
           null,
           null,
           null,
           null,
           0.011968162771543164,
           null,
           0.011963745418698156,
           null,
           0.011924689168290125,
           null,
           null,
           0.011940804019543757,
           null,
           null,
           null,
           null
          ],
          [
           null,
           null,
           null,
           0.012358103632653569,
           null,
           null,
           null,
           null,
           null,
           null,
           null,
           0.011947478680214365,
           null,
           0.011885291639963168,
           0.011924689168290125,
           null,
           null,
           null,
           null,
           0.012232673701616032,
           null,
           null
          ],
          [
           null,
           null,
           null,
           null,
           null,
           null,
           null,
           null,
           null,
           null,
           null,
           0.011947478680214365,
           0.012011015765486664,
           0.011885291639963168,
           0.012008872824781209,
           0.012309783023940864,
           null,
           null,
           null,
           null,
           null,
           null
          ],
          [
           null,
           null,
           0.012461279269698717,
           null,
           null,
           null,
           null,
           null,
           0.012107004174181736,
           null,
           0.0134999250813532,
           null,
           null,
           0.011912793230805942,
           null,
           null,
           null,
           null,
           null,
           null,
           null,
           null
          ],
          [
           null,
           null,
           null,
           null,
           null,
           null,
           null,
           null,
           null,
           null,
           0.01193921717127557,
           null,
           null,
           0.011973480854256958,
           null,
           null,
           0.014044494609337283,
           null,
           null,
           null,
           null,
           null
          ],
          [
           null,
           null,
           null,
           null,
           null,
           null,
           null,
           null,
           null,
           null,
           null,
           null,
           0.011976048854185177,
           null,
           null,
           0.011881060937487229,
           null,
           null,
           null,
           null,
           null,
           null
          ],
          [
           null,
           null,
           null,
           null,
           null,
           null,
           null,
           null,
           0.013396294696655842,
           null,
           null,
           null,
           null,
           0.012030199668706722,
           null,
           null,
           null,
           null,
           null,
           0.011863466986254675,
           null,
           null
          ],
          [
           null,
           null,
           null,
           null,
           null,
           null,
           null,
           null,
           null,
           null,
           null,
           null,
           0.011999677260968516,
           null,
           null,
           null,
           null,
           null,
           0.01193220900192369,
           null,
           null,
           null
          ],
          [
           null,
           null,
           null,
           null,
           null,
           null,
           null,
           null,
           null,
           null,
           null,
           0.011992558057914566,
           null,
           null,
           null,
           null,
           0.011893401012469811,
           0.01188077524255552,
           0.011866062163300602,
           null,
           null,
           null
          ],
          [
           null,
           null,
           null,
           null,
           null,
           null,
           null,
           null,
           null,
           null,
           null,
           null,
           0.011976048854185177,
           null,
           null,
           null,
           null,
           null,
           0.01187280027848753,
           0.011863466986254675,
           0.011844761442504853,
           null
          ],
          [
           null,
           null,
           null,
           null,
           null,
           null,
           null,
           null,
           null,
           0.01248190496917858,
           null,
           null,
           null,
           0.01196039382022583,
           null,
           0.012492538009290231,
           null,
           0.011861928415934028,
           0.011866062163300602,
           0.011849135768655018,
           0.011919982463777862,
           null
          ],
          [
           null,
           null,
           null,
           null,
           null,
           null,
           null,
           null,
           null,
           null,
           null,
           null,
           null,
           null,
           null,
           null,
           null,
           0.012188729645826072,
           0.01185572575296864,
           0.01186248942300084,
           null,
           null
          ],
          [
           null,
           0.012622667496808865,
           null,
           null,
           null,
           null,
           null,
           null,
           null,
           null,
           null,
           null,
           null,
           null,
           null,
           null,
           null,
           null,
           0.011890898591078976,
           null,
           0.01191324622266565,
           null
          ],
          [
           null,
           null,
           null,
           null,
           null,
           null,
           null,
           null,
           null,
           0.012008271607263402,
           null,
           null,
           null,
           0.014053015880755134,
           null,
           null,
           null,
           0.011898209742827105,
           null,
           null,
           0.01194928689759694,
           null
          ],
          [
           null,
           null,
           null,
           null,
           null,
           null,
           null,
           null,
           null,
           null,
           null,
           null,
           0.012421301340517606,
           null,
           null,
           null,
           null,
           null,
           null,
           0.011887259861711253,
           0.011863850729239261,
           null
          ],
          [
           null,
           null,
           null,
           null,
           null,
           null,
           null,
           null,
           null,
           null,
           null,
           null,
           null,
           null,
           null,
           null,
           null,
           null,
           null,
           0.011887259861711253,
           null,
           null
          ],
          [
           null,
           null,
           null,
           null,
           null,
           null,
           0.01258312014504803,
           null,
           null,
           0.01196475553483938,
           0.012051077069445807,
           null,
           null,
           0.011885291639963168,
           0.013870958915826915,
           null,
           null,
           null,
           null,
           null,
           null,
           null
          ],
          [
           null,
           null,
           null,
           null,
           null,
           null,
           null,
           null,
           null,
           null,
           null,
           null,
           null,
           null,
           null,
           null,
           null,
           null,
           0.012592271958845352,
           null,
           0.011827228621846698,
           null
          ],
          [
           null,
           null,
           null,
           null,
           null,
           0.012251749895392213,
           null,
           null,
           null,
           null,
           null,
           null,
           null,
           null,
           null,
           null,
           null,
           null,
           null,
           null,
           0.011925068807522561,
           null
          ],
          [
           null,
           null,
           null,
           null,
           null,
           0.013863657874566443,
           null,
           null,
           null,
           null,
           null,
           null,
           0.011949099182510218,
           null,
           null,
           null,
           null,
           null,
           null,
           null,
           null,
           null
          ],
          [
           null,
           null,
           null,
           null,
           null,
           null,
           null,
           null,
           null,
           null,
           null,
           null,
           null,
           null,
           null,
           null,
           null,
           null,
           null,
           null,
           null,
           null
          ]
         ]
        },
        {
         "marker": {
          "color": "black",
          "line": {
           "color": "Gray",
           "width": 2
          }
         },
         "mode": "markers",
         "name": "Feasible Trial",
         "showlegend": false,
         "type": "scatter",
         "x": [
          16,
          30,
          32,
          20,
          20,
          50,
          36,
          30,
          22,
          16,
          46,
          50,
          40,
          40,
          40,
          36,
          34,
          28,
          26,
          10,
          36,
          36,
          34,
          42,
          44,
          36,
          24,
          34,
          38,
          44,
          32,
          34,
          28,
          32,
          38,
          30,
          30,
          28,
          30,
          26,
          18,
          32,
          32,
          32,
          30,
          22,
          24,
          30,
          26,
          38,
          32,
          36,
          34,
          36,
          28,
          32,
          40,
          38,
          42,
          48,
          38,
          36,
          34,
          30,
          10,
          36,
          40,
          42,
          38,
          32,
          34,
          36,
          36,
          38,
          40,
          44,
          40,
          42,
          38,
          36,
          40,
          38,
          38,
          36,
          36,
          36,
          34,
          36,
          34,
          36,
          12,
          36,
          36,
          36,
          36,
          40,
          44,
          42,
          46,
          46,
          46,
          48,
          48,
          46,
          48,
          48,
          48,
          50,
          50,
          50,
          50,
          46,
          48,
          46,
          48,
          50,
          46,
          48,
          50,
          44,
          46,
          48,
          48,
          50,
          50,
          50,
          46,
          50,
          44,
          44,
          44,
          46,
          46,
          48,
          46,
          46,
          46,
          46,
          46,
          46,
          44,
          46,
          46,
          48,
          48,
          48,
          50,
          50,
          50,
          50
         ],
         "xaxis": "x3",
         "y": [
          23,
          63,
          35,
          69,
          67,
          15,
          51,
          39,
          63,
          33,
          49,
          7,
          11,
          51,
          21,
          21,
          49,
          51,
          43,
          55,
          57,
          29,
          31,
          29,
          29,
          43,
          29,
          41,
          35,
          25,
          17,
          45,
          57,
          47,
          33,
          39,
          25,
          25,
          37,
          37,
          17,
          27,
          25,
          25,
          21,
          13,
          25,
          31,
          19,
          5,
          27,
          63,
          69,
          23,
          63,
          35,
          13,
          33,
          39,
          33,
          63,
          27,
          23,
          31,
          27,
          27,
          19,
          21,
          9,
          33,
          59,
          29,
          29,
          29,
          29,
          31,
          35,
          29,
          29,
          27,
          41,
          31,
          29,
          35,
          35,
          37,
          35,
          37,
          41,
          39,
          37,
          33,
          33,
          35,
          35,
          41,
          31,
          47,
          53,
          53,
          53,
          53,
          53,
          53,
          49,
          53,
          53,
          59,
          59,
          49,
          57,
          49,
          51,
          55,
          61,
          65,
          47,
          51,
          55,
          57,
          45,
          59,
          61,
          65,
          49,
          67,
          65,
          55,
          51,
          53,
          51,
          49,
          45,
          51,
          47,
          51,
          47,
          47,
          47,
          45,
          47,
          47,
          47,
          43,
          43,
          49,
          49,
          51,
          49,
          49
         ],
         "yaxis": "y3"
        },
        {
         "colorbar": {
          "title": {
           "text": "Objective Value"
          }
         },
         "colorscale": [
          [
           0,
           "rgb(0, 147, 146)"
          ],
          [
           0.16666666666666666,
           "rgb(114, 170, 161)"
          ],
          [
           0.3333333333333333,
           "rgb(177, 199, 179)"
          ],
          [
           0.5,
           "rgb(241, 234, 200)"
          ],
          [
           0.6666666666666666,
           "rgb(229, 185, 173)"
          ],
          [
           0.8333333333333334,
           "rgb(217, 137, 148)"
          ],
          [
           1,
           "rgb(208, 88, 126)"
          ]
         ],
         "connectgaps": true,
         "contours": {
          "coloring": "heatmap"
         },
         "hoverinfo": "none",
         "line": {
          "smoothing": 1.3
         },
         "reversescale": false,
         "showscale": false,
         "type": "contour",
         "x": [
          8,
          10,
          12,
          16,
          18,
          20,
          22,
          24,
          26,
          28,
          30,
          32,
          34,
          36,
          38,
          40,
          42,
          44,
          46,
          48,
          50,
          52
         ],
         "xaxis": "x6",
         "y": [
          0.04999999999999993,
          1,
          2,
          3,
          4,
          5,
          6,
          7,
          8,
          9,
          10,
          12,
          13,
          14,
          15,
          16,
          17,
          18,
          20,
          20.95
         ],
         "yaxis": "y6",
         "z": [
          [
           null,
           null,
           null,
           null,
           null,
           null,
           null,
           null,
           null,
           null,
           null,
           null,
           null,
           null,
           null,
           null,
           null,
           null,
           null,
           null,
           null,
           null
          ],
          [
           null,
           null,
           null,
           0.012358103632653569,
           null,
           null,
           null,
           null,
           null,
           null,
           0.012014551960420875,
           0.011973533306744057,
           0.011949099182510218,
           0.011956452536038912,
           null,
           0.012039373924653048,
           null,
           0.011960304053586288,
           0.011932313614960905,
           0.011957112220496485,
           0.011925068807522561,
           null
          ],
          [
           null,
           0.01260421463440778,
           null,
           null,
           null,
           null,
           null,
           null,
           null,
           0.01196475553483938,
           0.01193921717127557,
           0.011921961637169147,
           0.012421301340517606,
           0.011885291639963168,
           0.012008872824781209,
           0.011881060937487229,
           0.011893401012469811,
           0.011861928415934028,
           0.01185572575296864,
           0.011849135768655018,
           0.011827228621846698,
           null
          ],
          [
           null,
           0.012622667496808865,
           0.012461279269698717,
           null,
           null,
           null,
           null,
           null,
           null,
           0.012008271607263402,
           0.011968162771543164,
           0.011947478680214365,
           0.011963745418698156,
           0.011912793230805942,
           0.011924689168290125,
           0.011892191941379379,
           null,
           0.01188077524255552,
           0.011866062163300602,
           0.011863466986254675,
           0.011844761442504853,
           null
          ],
          [
           null,
           null,
           null,
           null,
           null,
           0.012251749895392213,
           0.012293285382729061,
           0.012140895276269756,
           0.012107004174181736,
           null,
           0.012051077069445807,
           null,
           0.011999677260968516,
           0.011973480854256958,
           0.011981864325830618,
           null,
           null,
           0.011940804019543757,
           0.01193220900192369,
           0.011928210464435984,
           0.011919982463777862,
           null
          ],
          [
           null,
           null,
           null,
           null,
           0.01231794076099381,
           null,
           null,
           null,
           null,
           null,
           null,
           0.01210706974651345,
           0.012079248083272908,
           null,
           0.01205372291775378,
           0.012588894399140746,
           0.012024532297635213,
           null,
           null,
           null,
           0.012041141061827835,
           null
          ],
          [
           null,
           null,
           null,
           null,
           null,
           null,
           null,
           0.012340528317021562,
           null,
           null,
           null,
           0.012235372900219713,
           null,
           null,
           null,
           0.012184805468232912,
           0.012186835505593917,
           null,
           null,
           null,
           null,
           null
          ],
          [
           null,
           null,
           null,
           null,
           null,
           null,
           null,
           null,
           0.012438136662058575,
           null,
           null,
           null,
           null,
           null,
           null,
           0.012309783023940864,
           0.012312696654604735,
           null,
           null,
           null,
           null,
           null
          ],
          [
           null,
           null,
           null,
           null,
           null,
           null,
           0.01258312014504803,
           null,
           null,
           0.01248190496917858,
           null,
           null,
           null,
           null,
           null,
           null,
           null,
           null,
           null,
           null,
           null,
           null
          ],
          [
           null,
           null,
           null,
           null,
           null,
           null,
           null,
           null,
           null,
           null,
           null,
           null,
           null,
           null,
           null,
           null,
           null,
           null,
           0.012592271958845352,
           null,
           null,
           null
          ],
          [
           null,
           null,
           null,
           null,
           null,
           null,
           null,
           null,
           null,
           null,
           null,
           null,
           null,
           null,
           null,
           0.012747697788552479,
           null,
           0.012746541647772428,
           null,
           null,
           null,
           null
          ],
          [
           null,
           null,
           null,
           0.013308510079244582,
           null,
           null,
           null,
           null,
           null,
           null,
           null,
           null,
           null,
           0.013055757806120168,
           null,
           null,
           null,
           0.013045021949960225,
           null,
           null,
           null,
           null
          ],
          [
           null,
           null,
           null,
           null,
           null,
           null,
           null,
           null,
           null,
           null,
           0.0132480536942932,
           null,
           null,
           null,
           null,
           null,
           null,
           null,
           0.013192976757839732,
           null,
           null,
           null
          ],
          [
           null,
           null,
           null,
           null,
           null,
           null,
           null,
           null,
           0.013396294696655842,
           null,
           null,
           null,
           null,
           null,
           null,
           null,
           null,
           null,
           null,
           null,
           null,
           null
          ],
          [
           null,
           null,
           null,
           null,
           null,
           null,
           null,
           null,
           null,
           null,
           0.0134999250813532,
           null,
           null,
           null,
           null,
           null,
           null,
           null,
           null,
           null,
           null,
           null
          ],
          [
           null,
           null,
           null,
           null,
           null,
           null,
           null,
           null,
           null,
           null,
           null,
           null,
           null,
           null,
           null,
           null,
           null,
           null,
           0.013597253586390814,
           null,
           null,
           null
          ],
          [
           null,
           null,
           null,
           null,
           null,
           0.013863657874566443,
           null,
           null,
           null,
           null,
           null,
           0.013740486850498343,
           null,
           null,
           null,
           null,
           null,
           null,
           null,
           null,
           null,
           null
          ],
          [
           null,
           null,
           null,
           null,
           null,
           null,
           null,
           null,
           null,
           null,
           null,
           null,
           null,
           null,
           0.013870958915826915,
           null,
           null,
           null,
           null,
           null,
           null,
           null
          ],
          [
           null,
           null,
           null,
           null,
           null,
           null,
           null,
           null,
           null,
           null,
           null,
           null,
           null,
           0.014053015880755134,
           null,
           null,
           0.014044494609337283,
           null,
           null,
           null,
           null,
           null
          ],
          [
           null,
           null,
           null,
           null,
           null,
           null,
           null,
           null,
           null,
           null,
           null,
           null,
           null,
           null,
           null,
           null,
           null,
           null,
           null,
           null,
           null,
           null
          ]
         ]
        },
        {
         "marker": {
          "color": "black",
          "line": {
           "color": "Gray",
           "width": 2
          }
         },
         "mode": "markers",
         "name": "Feasible Trial",
         "showlegend": false,
         "type": "scatter",
         "x": [
          16,
          30,
          32,
          20,
          20,
          50,
          36,
          30,
          22,
          16,
          46,
          50,
          40,
          40,
          40,
          36,
          34,
          28,
          26,
          10,
          36,
          36,
          34,
          42,
          44,
          36,
          24,
          34,
          38,
          44,
          32,
          34,
          28,
          32,
          38,
          30,
          30,
          28,
          30,
          26,
          18,
          32,
          32,
          32,
          30,
          22,
          24,
          30,
          26,
          38,
          32,
          36,
          34,
          36,
          28,
          32,
          40,
          38,
          42,
          48,
          38,
          36,
          34,
          30,
          10,
          36,
          40,
          42,
          38,
          32,
          34,
          36,
          36,
          38,
          40,
          44,
          40,
          42,
          38,
          36,
          40,
          38,
          38,
          36,
          36,
          36,
          34,
          36,
          34,
          36,
          12,
          36,
          36,
          36,
          36,
          40,
          44,
          42,
          46,
          46,
          46,
          48,
          48,
          46,
          48,
          48,
          48,
          50,
          50,
          50,
          50,
          46,
          48,
          46,
          48,
          50,
          46,
          48,
          50,
          44,
          46,
          48,
          48,
          50,
          50,
          50,
          46,
          50,
          44,
          44,
          44,
          46,
          46,
          48,
          46,
          46,
          46,
          46,
          46,
          46,
          44,
          46,
          46,
          48,
          48,
          48,
          50,
          50,
          50,
          50
         ],
         "xaxis": "x6",
         "y": [
          12,
          4,
          17,
          17,
          4,
          5,
          2,
          13,
          8,
          1,
          9,
          1,
          5,
          6,
          1,
          1,
          3,
          8,
          14,
          3,
          20,
          3,
          3,
          7,
          10,
          3,
          6,
          3,
          2,
          12,
          6,
          4,
          3,
          2,
          5,
          2,
          2,
          2,
          15,
          4,
          5,
          2,
          2,
          1,
          2,
          4,
          4,
          1,
          7,
          2,
          5,
          2,
          1,
          4,
          2,
          3,
          1,
          3,
          20,
          2,
          18,
          3,
          4,
          3,
          2,
          1,
          10,
          6,
          5,
          3,
          2,
          3,
          3,
          3,
          3,
          4,
          7,
          5,
          3,
          12,
          6,
          3,
          4,
          3,
          3,
          4,
          1,
          3,
          5,
          4,
          3,
          2,
          1,
          2,
          3,
          2,
          1,
          2,
          2,
          2,
          2,
          2,
          2,
          1,
          2,
          2,
          2,
          2,
          1,
          2,
          1,
          2,
          2,
          2,
          2,
          1,
          13,
          1,
          2,
          2,
          1,
          2,
          2,
          2,
          1,
          1,
          9,
          2,
          2,
          1,
          4,
          2,
          16,
          2,
          3,
          3,
          3,
          3,
          3,
          4,
          3,
          3,
          3,
          3,
          4,
          3,
          3,
          4,
          3,
          3
         ],
         "yaxis": "y6"
        },
        {
         "type": "scatter",
         "xaxis": "x9",
         "yaxis": "y9"
        }
       ],
       "layout": {
        "height": 1200,
        "template": {
         "data": {
          "bar": [
           {
            "error_x": {
             "color": "#2a3f5f"
            },
            "error_y": {
             "color": "#2a3f5f"
            },
            "marker": {
             "line": {
              "color": "#E5ECF6",
              "width": 0.5
             },
             "pattern": {
              "fillmode": "overlay",
              "size": 10,
              "solidity": 0.2
             }
            },
            "type": "bar"
           }
          ],
          "barpolar": [
           {
            "marker": {
             "line": {
              "color": "#E5ECF6",
              "width": 0.5
             },
             "pattern": {
              "fillmode": "overlay",
              "size": 10,
              "solidity": 0.2
             }
            },
            "type": "barpolar"
           }
          ],
          "carpet": [
           {
            "aaxis": {
             "endlinecolor": "#2a3f5f",
             "gridcolor": "white",
             "linecolor": "white",
             "minorgridcolor": "white",
             "startlinecolor": "#2a3f5f"
            },
            "baxis": {
             "endlinecolor": "#2a3f5f",
             "gridcolor": "white",
             "linecolor": "white",
             "minorgridcolor": "white",
             "startlinecolor": "#2a3f5f"
            },
            "type": "carpet"
           }
          ],
          "choropleth": [
           {
            "colorbar": {
             "outlinewidth": 0,
             "ticks": ""
            },
            "type": "choropleth"
           }
          ],
          "contour": [
           {
            "colorbar": {
             "outlinewidth": 0,
             "ticks": ""
            },
            "colorscale": [
             [
              0,
              "#0d0887"
             ],
             [
              0.1111111111111111,
              "#46039f"
             ],
             [
              0.2222222222222222,
              "#7201a8"
             ],
             [
              0.3333333333333333,
              "#9c179e"
             ],
             [
              0.4444444444444444,
              "#bd3786"
             ],
             [
              0.5555555555555556,
              "#d8576b"
             ],
             [
              0.6666666666666666,
              "#ed7953"
             ],
             [
              0.7777777777777778,
              "#fb9f3a"
             ],
             [
              0.8888888888888888,
              "#fdca26"
             ],
             [
              1,
              "#f0f921"
             ]
            ],
            "type": "contour"
           }
          ],
          "contourcarpet": [
           {
            "colorbar": {
             "outlinewidth": 0,
             "ticks": ""
            },
            "type": "contourcarpet"
           }
          ],
          "heatmap": [
           {
            "colorbar": {
             "outlinewidth": 0,
             "ticks": ""
            },
            "colorscale": [
             [
              0,
              "#0d0887"
             ],
             [
              0.1111111111111111,
              "#46039f"
             ],
             [
              0.2222222222222222,
              "#7201a8"
             ],
             [
              0.3333333333333333,
              "#9c179e"
             ],
             [
              0.4444444444444444,
              "#bd3786"
             ],
             [
              0.5555555555555556,
              "#d8576b"
             ],
             [
              0.6666666666666666,
              "#ed7953"
             ],
             [
              0.7777777777777778,
              "#fb9f3a"
             ],
             [
              0.8888888888888888,
              "#fdca26"
             ],
             [
              1,
              "#f0f921"
             ]
            ],
            "type": "heatmap"
           }
          ],
          "heatmapgl": [
           {
            "colorbar": {
             "outlinewidth": 0,
             "ticks": ""
            },
            "colorscale": [
             [
              0,
              "#0d0887"
             ],
             [
              0.1111111111111111,
              "#46039f"
             ],
             [
              0.2222222222222222,
              "#7201a8"
             ],
             [
              0.3333333333333333,
              "#9c179e"
             ],
             [
              0.4444444444444444,
              "#bd3786"
             ],
             [
              0.5555555555555556,
              "#d8576b"
             ],
             [
              0.6666666666666666,
              "#ed7953"
             ],
             [
              0.7777777777777778,
              "#fb9f3a"
             ],
             [
              0.8888888888888888,
              "#fdca26"
             ],
             [
              1,
              "#f0f921"
             ]
            ],
            "type": "heatmapgl"
           }
          ],
          "histogram": [
           {
            "marker": {
             "pattern": {
              "fillmode": "overlay",
              "size": 10,
              "solidity": 0.2
             }
            },
            "type": "histogram"
           }
          ],
          "histogram2d": [
           {
            "colorbar": {
             "outlinewidth": 0,
             "ticks": ""
            },
            "colorscale": [
             [
              0,
              "#0d0887"
             ],
             [
              0.1111111111111111,
              "#46039f"
             ],
             [
              0.2222222222222222,
              "#7201a8"
             ],
             [
              0.3333333333333333,
              "#9c179e"
             ],
             [
              0.4444444444444444,
              "#bd3786"
             ],
             [
              0.5555555555555556,
              "#d8576b"
             ],
             [
              0.6666666666666666,
              "#ed7953"
             ],
             [
              0.7777777777777778,
              "#fb9f3a"
             ],
             [
              0.8888888888888888,
              "#fdca26"
             ],
             [
              1,
              "#f0f921"
             ]
            ],
            "type": "histogram2d"
           }
          ],
          "histogram2dcontour": [
           {
            "colorbar": {
             "outlinewidth": 0,
             "ticks": ""
            },
            "colorscale": [
             [
              0,
              "#0d0887"
             ],
             [
              0.1111111111111111,
              "#46039f"
             ],
             [
              0.2222222222222222,
              "#7201a8"
             ],
             [
              0.3333333333333333,
              "#9c179e"
             ],
             [
              0.4444444444444444,
              "#bd3786"
             ],
             [
              0.5555555555555556,
              "#d8576b"
             ],
             [
              0.6666666666666666,
              "#ed7953"
             ],
             [
              0.7777777777777778,
              "#fb9f3a"
             ],
             [
              0.8888888888888888,
              "#fdca26"
             ],
             [
              1,
              "#f0f921"
             ]
            ],
            "type": "histogram2dcontour"
           }
          ],
          "mesh3d": [
           {
            "colorbar": {
             "outlinewidth": 0,
             "ticks": ""
            },
            "type": "mesh3d"
           }
          ],
          "parcoords": [
           {
            "line": {
             "colorbar": {
              "outlinewidth": 0,
              "ticks": ""
             }
            },
            "type": "parcoords"
           }
          ],
          "pie": [
           {
            "automargin": true,
            "type": "pie"
           }
          ],
          "scatter": [
           {
            "fillpattern": {
             "fillmode": "overlay",
             "size": 10,
             "solidity": 0.2
            },
            "type": "scatter"
           }
          ],
          "scatter3d": [
           {
            "line": {
             "colorbar": {
              "outlinewidth": 0,
              "ticks": ""
             }
            },
            "marker": {
             "colorbar": {
              "outlinewidth": 0,
              "ticks": ""
             }
            },
            "type": "scatter3d"
           }
          ],
          "scattercarpet": [
           {
            "marker": {
             "colorbar": {
              "outlinewidth": 0,
              "ticks": ""
             }
            },
            "type": "scattercarpet"
           }
          ],
          "scattergeo": [
           {
            "marker": {
             "colorbar": {
              "outlinewidth": 0,
              "ticks": ""
             }
            },
            "type": "scattergeo"
           }
          ],
          "scattergl": [
           {
            "marker": {
             "colorbar": {
              "outlinewidth": 0,
              "ticks": ""
             }
            },
            "type": "scattergl"
           }
          ],
          "scattermapbox": [
           {
            "marker": {
             "colorbar": {
              "outlinewidth": 0,
              "ticks": ""
             }
            },
            "type": "scattermapbox"
           }
          ],
          "scatterpolar": [
           {
            "marker": {
             "colorbar": {
              "outlinewidth": 0,
              "ticks": ""
             }
            },
            "type": "scatterpolar"
           }
          ],
          "scatterpolargl": [
           {
            "marker": {
             "colorbar": {
              "outlinewidth": 0,
              "ticks": ""
             }
            },
            "type": "scatterpolargl"
           }
          ],
          "scatterternary": [
           {
            "marker": {
             "colorbar": {
              "outlinewidth": 0,
              "ticks": ""
             }
            },
            "type": "scatterternary"
           }
          ],
          "surface": [
           {
            "colorbar": {
             "outlinewidth": 0,
             "ticks": ""
            },
            "colorscale": [
             [
              0,
              "#0d0887"
             ],
             [
              0.1111111111111111,
              "#46039f"
             ],
             [
              0.2222222222222222,
              "#7201a8"
             ],
             [
              0.3333333333333333,
              "#9c179e"
             ],
             [
              0.4444444444444444,
              "#bd3786"
             ],
             [
              0.5555555555555556,
              "#d8576b"
             ],
             [
              0.6666666666666666,
              "#ed7953"
             ],
             [
              0.7777777777777778,
              "#fb9f3a"
             ],
             [
              0.8888888888888888,
              "#fdca26"
             ],
             [
              1,
              "#f0f921"
             ]
            ],
            "type": "surface"
           }
          ],
          "table": [
           {
            "cells": {
             "fill": {
              "color": "#EBF0F8"
             },
             "line": {
              "color": "white"
             }
            },
            "header": {
             "fill": {
              "color": "#C8D4E3"
             },
             "line": {
              "color": "white"
             }
            },
            "type": "table"
           }
          ]
         },
         "layout": {
          "annotationdefaults": {
           "arrowcolor": "#2a3f5f",
           "arrowhead": 0,
           "arrowwidth": 1
          },
          "autotypenumbers": "strict",
          "coloraxis": {
           "colorbar": {
            "outlinewidth": 0,
            "ticks": ""
           }
          },
          "colorscale": {
           "diverging": [
            [
             0,
             "#8e0152"
            ],
            [
             0.1,
             "#c51b7d"
            ],
            [
             0.2,
             "#de77ae"
            ],
            [
             0.3,
             "#f1b6da"
            ],
            [
             0.4,
             "#fde0ef"
            ],
            [
             0.5,
             "#f7f7f7"
            ],
            [
             0.6,
             "#e6f5d0"
            ],
            [
             0.7,
             "#b8e186"
            ],
            [
             0.8,
             "#7fbc41"
            ],
            [
             0.9,
             "#4d9221"
            ],
            [
             1,
             "#276419"
            ]
           ],
           "sequential": [
            [
             0,
             "#0d0887"
            ],
            [
             0.1111111111111111,
             "#46039f"
            ],
            [
             0.2222222222222222,
             "#7201a8"
            ],
            [
             0.3333333333333333,
             "#9c179e"
            ],
            [
             0.4444444444444444,
             "#bd3786"
            ],
            [
             0.5555555555555556,
             "#d8576b"
            ],
            [
             0.6666666666666666,
             "#ed7953"
            ],
            [
             0.7777777777777778,
             "#fb9f3a"
            ],
            [
             0.8888888888888888,
             "#fdca26"
            ],
            [
             1,
             "#f0f921"
            ]
           ],
           "sequentialminus": [
            [
             0,
             "#0d0887"
            ],
            [
             0.1111111111111111,
             "#46039f"
            ],
            [
             0.2222222222222222,
             "#7201a8"
            ],
            [
             0.3333333333333333,
             "#9c179e"
            ],
            [
             0.4444444444444444,
             "#bd3786"
            ],
            [
             0.5555555555555556,
             "#d8576b"
            ],
            [
             0.6666666666666666,
             "#ed7953"
            ],
            [
             0.7777777777777778,
             "#fb9f3a"
            ],
            [
             0.8888888888888888,
             "#fdca26"
            ],
            [
             1,
             "#f0f921"
            ]
           ]
          },
          "colorway": [
           "#636efa",
           "#EF553B",
           "#00cc96",
           "#ab63fa",
           "#FFA15A",
           "#19d3f3",
           "#FF6692",
           "#B6E880",
           "#FF97FF",
           "#FECB52"
          ],
          "font": {
           "color": "#2a3f5f"
          },
          "geo": {
           "bgcolor": "white",
           "lakecolor": "white",
           "landcolor": "#E5ECF6",
           "showlakes": true,
           "showland": true,
           "subunitcolor": "white"
          },
          "hoverlabel": {
           "align": "left"
          },
          "hovermode": "closest",
          "mapbox": {
           "style": "light"
          },
          "paper_bgcolor": "white",
          "plot_bgcolor": "#E5ECF6",
          "polar": {
           "angularaxis": {
            "gridcolor": "white",
            "linecolor": "white",
            "ticks": ""
           },
           "bgcolor": "#E5ECF6",
           "radialaxis": {
            "gridcolor": "white",
            "linecolor": "white",
            "ticks": ""
           }
          },
          "scene": {
           "xaxis": {
            "backgroundcolor": "#E5ECF6",
            "gridcolor": "white",
            "gridwidth": 2,
            "linecolor": "white",
            "showbackground": true,
            "ticks": "",
            "zerolinecolor": "white"
           },
           "yaxis": {
            "backgroundcolor": "#E5ECF6",
            "gridcolor": "white",
            "gridwidth": 2,
            "linecolor": "white",
            "showbackground": true,
            "ticks": "",
            "zerolinecolor": "white"
           },
           "zaxis": {
            "backgroundcolor": "#E5ECF6",
            "gridcolor": "white",
            "gridwidth": 2,
            "linecolor": "white",
            "showbackground": true,
            "ticks": "",
            "zerolinecolor": "white"
           }
          },
          "shapedefaults": {
           "line": {
            "color": "#2a3f5f"
           }
          },
          "ternary": {
           "aaxis": {
            "gridcolor": "white",
            "linecolor": "white",
            "ticks": ""
           },
           "baxis": {
            "gridcolor": "white",
            "linecolor": "white",
            "ticks": ""
           },
           "bgcolor": "#E5ECF6",
           "caxis": {
            "gridcolor": "white",
            "linecolor": "white",
            "ticks": ""
           }
          },
          "title": {
           "x": 0.05
          },
          "xaxis": {
           "automargin": true,
           "gridcolor": "white",
           "linecolor": "white",
           "ticks": "",
           "title": {
            "standoff": 15
           },
           "zerolinecolor": "white",
           "zerolinewidth": 2
          },
          "yaxis": {
           "automargin": true,
           "gridcolor": "white",
           "linecolor": "white",
           "ticks": "",
           "title": {
            "standoff": 15
           },
           "zerolinecolor": "white",
           "zerolinewidth": 2
          }
         }
        },
        "title": {
         "text": "Contour Plot"
        },
        "width": 1200,
        "xaxis": {
         "anchor": "y",
         "domain": [
          0,
          0.2888888888888889
         ],
         "matches": "x7",
         "range": [
          1.7999999999999998,
          72.2
         ],
         "showticklabels": false
        },
        "xaxis2": {
         "anchor": "y2",
         "domain": [
          0.35555555555555557,
          0.6444444444444445
         ],
         "matches": "x8",
         "range": [
          0.04999999999999993,
          20.95
         ],
         "showticklabels": false
        },
        "xaxis3": {
         "anchor": "y3",
         "domain": [
          0.7111111111111111,
          1
         ],
         "matches": "x9",
         "range": [
          8,
          52
         ],
         "showticklabels": false
        },
        "xaxis4": {
         "anchor": "y4",
         "domain": [
          0,
          0.2888888888888889
         ],
         "matches": "x7",
         "range": [
          1.7999999999999998,
          72.2
         ],
         "showticklabels": false
        },
        "xaxis5": {
         "anchor": "y5",
         "domain": [
          0.35555555555555557,
          0.6444444444444445
         ],
         "matches": "x8",
         "range": [
          0.04999999999999993,
          20.95
         ],
         "showticklabels": false
        },
        "xaxis6": {
         "anchor": "y6",
         "domain": [
          0.7111111111111111,
          1
         ],
         "matches": "x9",
         "range": [
          8,
          52
         ],
         "showticklabels": false
        },
        "xaxis7": {
         "anchor": "y7",
         "domain": [
          0,
          0.2888888888888889
         ],
         "range": [
          1.7999999999999998,
          72.2
         ],
         "title": {
          "text": "max_depth"
         }
        },
        "xaxis8": {
         "anchor": "y8",
         "domain": [
          0.35555555555555557,
          0.6444444444444445
         ],
         "range": [
          0.04999999999999993,
          20.95
         ],
         "title": {
          "text": "min_samples_leaf"
         }
        },
        "xaxis9": {
         "anchor": "y9",
         "domain": [
          0.7111111111111111,
          1
         ],
         "range": [
          8,
          52
         ],
         "title": {
          "text": "n_estimators"
         }
        },
        "yaxis": {
         "anchor": "x",
         "domain": [
          0.7333333333333333,
          1
         ],
         "range": [
          1.7999999999999998,
          72.2
         ],
         "title": {
          "text": "max_depth"
         }
        },
        "yaxis2": {
         "anchor": "x2",
         "domain": [
          0.7333333333333333,
          1
         ],
         "matches": "y",
         "range": [
          1.7999999999999998,
          72.2
         ],
         "showticklabels": false
        },
        "yaxis3": {
         "anchor": "x3",
         "domain": [
          0.7333333333333333,
          1
         ],
         "matches": "y",
         "range": [
          1.7999999999999998,
          72.2
         ],
         "showticklabels": false
        },
        "yaxis4": {
         "anchor": "x4",
         "domain": [
          0.36666666666666664,
          0.6333333333333333
         ],
         "range": [
          0.04999999999999993,
          20.95
         ],
         "title": {
          "text": "min_samples_leaf"
         }
        },
        "yaxis5": {
         "anchor": "x5",
         "domain": [
          0.36666666666666664,
          0.6333333333333333
         ],
         "matches": "y4",
         "range": [
          0.04999999999999993,
          20.95
         ],
         "showticklabels": false
        },
        "yaxis6": {
         "anchor": "x6",
         "domain": [
          0.36666666666666664,
          0.6333333333333333
         ],
         "matches": "y4",
         "range": [
          0.04999999999999993,
          20.95
         ],
         "showticklabels": false
        },
        "yaxis7": {
         "anchor": "x7",
         "domain": [
          0,
          0.26666666666666666
         ],
         "range": [
          8,
          52
         ],
         "title": {
          "text": "n_estimators"
         }
        },
        "yaxis8": {
         "anchor": "x8",
         "domain": [
          0,
          0.26666666666666666
         ],
         "matches": "y7",
         "range": [
          8,
          52
         ],
         "showticklabels": false
        },
        "yaxis9": {
         "anchor": "x9",
         "domain": [
          0,
          0.26666666666666666
         ],
         "matches": "y7",
         "range": [
          8,
          52
         ],
         "showticklabels": false
        }
       }
      }
     },
     "metadata": {},
     "output_type": "display_data"
    }
   ],
   "source": [
    "fig = vis.plot_contour(study, params=['max_depth', 'min_samples_leaf', 'n_estimators'])\n",
    "fig.update_layout({\"width\":1200, \"height\":1200})\n",
    "def update_colorscale(trace):\n",
    "    try:\n",
    "        trace[\"colorscale\"]= \"Tealrose\"\n",
    "        trace[\"reversescale\"]= False\n",
    "    except:\n",
    "        pass\n",
    "fig.for_each_trace(update_colorscale)"
   ]
  },
  {
   "cell_type": "code",
   "execution_count": 92,
   "metadata": {},
   "outputs": [
    {
     "data": {
      "image/png": "[encoded data removed]",
      "text/plain": [
       "<Figure size 640x480 with 1 Axes>"
      ]
     },
     "metadata": {},
     "output_type": "display_data"
    }
   ],
   "source": [
    "fig = mpimg.imread('Parallel_plot.png')\n",
    "imgplot = plt.imshow(fig)"
   ]
  },
  {
   "cell_type": "code",
   "execution_count": 28,
   "metadata": {},
   "outputs": [
    {
     "data": {
      "application/vnd.plotly.v1+json": {
       "config": {
        "plotlyServerURL": "https://plot.ly"
       },
       "data": [
        {
         "colorbar": {
          "title": {
           "text": "Objective Value"
          }
         },
         "colorscale": [
          [
           0,
           "rgb(247,251,255)"
          ],
          [
           0.125,
           "rgb(222,235,247)"
          ],
          [
           0.25,
           "rgb(198,219,239)"
          ],
          [
           0.375,
           "rgb(158,202,225)"
          ],
          [
           0.5,
           "rgb(107,174,214)"
          ],
          [
           0.625,
           "rgb(66,146,198)"
          ],
          [
           0.75,
           "rgb(33,113,181)"
          ],
          [
           0.875,
           "rgb(8,81,156)"
          ],
          [
           1,
           "rgb(8,48,107)"
          ]
         ],
         "connectgaps": true,
         "contours": {
          "coloring": "heatmap"
         },
         "hoverinfo": "none",
         "line": {
          "smoothing": 1.3
         },
         "reversescale": true,
         "type": "contour",
         "x": [
          1.7999999999999998,
          5,
          7,
          9,
          11,
          13,
          15,
          17,
          19,
          21,
          23,
          25,
          27,
          29,
          31,
          33,
          35,
          37,
          39,
          41,
          43,
          45,
          47,
          49,
          51,
          53,
          55,
          57,
          59,
          61,
          63,
          65,
          67,
          69,
          72.2
         ],
         "y": [
          0.04999999999999993,
          1,
          2,
          3,
          4,
          5,
          6,
          7,
          8,
          9,
          10,
          12,
          13,
          14,
          15,
          16,
          17,
          18,
          20,
          20.95
         ],
         "z": [
          [
           null,
           null,
           null,
           null,
           null,
           null,
           null,
           null,
           null,
           null,
           null,
           null,
           null,
           null,
           null,
           null,
           null,
           null,
           null,
           null,
           null,
           null,
           null,
           null,
           null,
           null,
           null,
           null,
           null,
           null,
           null,
           null,
           null,
           null,
           null
          ],
          [
           null,
           null,
           0.017838834918358498,
           null,
           null,
           0.012153760912705923,
           null,
           null,
           null,
           0.01199846925447399,
           null,
           0.011973533306744057,
           0.011956452536038912,
           null,
           0.011960304053586288,
           0.01196621986996285,
           0.012011015765486664,
           null,
           null,
           null,
           null,
           0.011932313614960905,
           null,
           0.011925068807522561,
           0.011957112220496485,
           0.011932313614960905,
           null,
           0.01194928689759694,
           0.01194928689759694,
           null,
           null,
           0.011925068807522561,
           0.011925068807522561,
           0.011949099182510218,
           null
          ],
          [
           null,
           0.027716165963650553,
           null,
           null,
           null,
           null,
           null,
           null,
           null,
           0.011961559640851513,
           null,
           0.011927276488631509,
           0.011921961637169147,
           null,
           null,
           0.011885291639963168,
           0.011885291639963168,
           null,
           0.01193921717127557,
           0.011881060937487229,
           null,
           null,
           0.011893401012469811,
           0.011863850729239261,
           0.011849135768655018,
           0.01185572575296864,
           0.011890898591078976,
           0.011898209742827105,
           0.011863850729239261,
           0.011887259861711253,
           0.011885291639963168,
           0.011827228621846698,
           null,
           null,
           null
          ],
          [
           null,
           null,
           null,
           null,
           null,
           null,
           null,
           null,
           null,
           null,
           null,
           null,
           0.011912793230805942,
           0.011892191941379379,
           0.011924689168290125,
           0.011924689168290125,
           0.011912793230805942,
           0.011912793230805942,
           null,
           0.011976048854185177,
           0.011863466986254675,
           null,
           0.011866062163300602,
           0.011844761442504853,
           0.011866062163300602,
           null,
           0.012622667496808865,
           0.012008271607263402,
           null,
           null,
           null,
           null,
           null,
           null,
           null
          ],
          [
           null,
           null,
           null,
           null,
           null,
           0.012293285382729061,
           null,
           null,
           null,
           null,
           0.011973480854256958,
           0.012140895276269756,
           null,
           0.011981864325830618,
           0.011940804019543757,
           null,
           null,
           0.011973480854256958,
           0.011973480854256958,
           null,
           0.011928210464435984,
           0.01193220900192369,
           null,
           null,
           0.011919982463777862,
           null,
           null,
           null,
           null,
           null,
           0.012051077069445807,
           null,
           0.012251749895392213,
           null,
           null
          ],
          [
           null,
           null,
           null,
           0.014046192743761034,
           0.012588894399140746,
           null,
           0.012041141061827835,
           0.01231794076099381,
           null,
           null,
           null,
           null,
           0.01210706974651345,
           0.012024532297635213,
           null,
           0.01205372291775378,
           null,
           null,
           null,
           0.012079248083272908,
           null,
           null,
           null,
           null,
           null,
           null,
           null,
           null,
           null,
           null,
           null,
           null,
           null,
           null,
           null
          ],
          [
           null,
           null,
           null,
           null,
           null,
           null,
           null,
           0.012235372900219713,
           null,
           0.012186835505593917,
           null,
           null,
           null,
           0.012340528317021562,
           null,
           null,
           null,
           null,
           null,
           0.012184805468232912,
           null,
           null,
           null,
           null,
           0.012492538009290231,
           null,
           null,
           null,
           null,
           null,
           null,
           null,
           null,
           null,
           null
          ],
          [
           null,
           null,
           null,
           null,
           null,
           null,
           null,
           null,
           0.012438136662058575,
           null,
           null,
           null,
           null,
           0.012312696654604735,
           null,
           null,
           0.012309783023940864,
           null,
           null,
           null,
           null,
           null,
           null,
           null,
           null,
           null,
           null,
           null,
           null,
           null,
           null,
           null,
           null,
           null,
           null
          ],
          [
           null,
           null,
           null,
           null,
           null,
           null,
           null,
           null,
           null,
           null,
           null,
           null,
           null,
           null,
           null,
           null,
           null,
           null,
           null,
           null,
           null,
           null,
           null,
           null,
           0.01248190496917858,
           null,
           null,
           null,
           null,
           null,
           0.01258312014504803,
           null,
           null,
           null,
           null
          ],
          [
           null,
           null,
           null,
           null,
           null,
           null,
           null,
           null,
           null,
           null,
           null,
           null,
           null,
           null,
           null,
           null,
           null,
           null,
           null,
           null,
           null,
           null,
           null,
           0.012592271958845352,
           null,
           null,
           null,
           null,
           null,
           null,
           null,
           0.012592271958845352,
           null,
           null,
           null
          ],
          [
           null,
           null,
           null,
           null,
           null,
           null,
           null,
           null,
           0.012747697788552479,
           null,
           null,
           null,
           null,
           0.012746541647772428,
           null,
           null,
           null,
           null,
           null,
           null,
           null,
           null,
           null,
           null,
           null,
           null,
           null,
           null,
           null,
           null,
           null,
           null,
           null,
           null,
           null
          ],
          [
           null,
           null,
           null,
           null,
           null,
           null,
           null,
           null,
           null,
           null,
           0.013308510079244582,
           0.013045021949960225,
           0.013055757806120168,
           null,
           null,
           null,
           null,
           null,
           null,
           null,
           null,
           null,
           null,
           null,
           null,
           null,
           null,
           null,
           null,
           null,
           null,
           null,
           null,
           null,
           null
          ],
          [
           null,
           null,
           null,
           null,
           null,
           null,
           null,
           null,
           null,
           null,
           null,
           null,
           null,
           null,
           null,
           null,
           null,
           null,
           0.0132480536942932,
           null,
           null,
           null,
           0.013192976757839732,
           null,
           null,
           null,
           null,
           null,
           null,
           null,
           null,
           null,
           null,
           null,
           null
          ],
          [
           null,
           null,
           null,
           null,
           null,
           null,
           null,
           null,
           null,
           null,
           null,
           null,
           null,
           null,
           null,
           null,
           null,
           null,
           null,
           null,
           0.013396294696655842,
           null,
           null,
           null,
           null,
           null,
           null,
           null,
           null,
           null,
           null,
           null,
           null,
           null,
           null
          ],
          [
           null,
           null,
           null,
           null,
           null,
           null,
           null,
           null,
           null,
           null,
           null,
           null,
           null,
           null,
           null,
           null,
           null,
           0.0134999250813532,
           null,
           null,
           null,
           null,
           null,
           null,
           null,
           null,
           null,
           null,
           null,
           null,
           null,
           null,
           null,
           null,
           null
          ],
          [
           null,
           null,
           null,
           null,
           null,
           null,
           null,
           null,
           null,
           null,
           null,
           null,
           null,
           null,
           null,
           null,
           null,
           null,
           null,
           null,
           null,
           0.013597253586390814,
           null,
           null,
           null,
           null,
           null,
           null,
           null,
           null,
           null,
           null,
           null,
           null,
           null
          ],
          [
           null,
           null,
           null,
           null,
           null,
           null,
           null,
           null,
           null,
           null,
           null,
           null,
           null,
           null,
           null,
           null,
           0.013740486850498343,
           null,
           null,
           null,
           null,
           null,
           null,
           null,
           null,
           null,
           null,
           null,
           null,
           null,
           null,
           null,
           null,
           0.013863657874566443,
           null
          ],
          [
           null,
           null,
           null,
           null,
           null,
           null,
           null,
           null,
           null,
           null,
           null,
           null,
           null,
           null,
           null,
           null,
           null,
           null,
           null,
           null,
           null,
           null,
           null,
           null,
           null,
           null,
           null,
           null,
           null,
           null,
           0.013870958915826915,
           null,
           null,
           null,
           null
          ],
          [
           null,
           null,
           null,
           null,
           null,
           null,
           null,
           null,
           null,
           null,
           null,
           null,
           null,
           null,
           null,
           null,
           null,
           null,
           0.014044494609337283,
           null,
           null,
           null,
           null,
           null,
           null,
           null,
           null,
           0.014053015880755134,
           null,
           null,
           null,
           null,
           null,
           null,
           null
          ],
          [
           null,
           null,
           null,
           null,
           null,
           null,
           null,
           null,
           null,
           null,
           null,
           null,
           null,
           null,
           null,
           null,
           null,
           null,
           null,
           null,
           null,
           null,
           null,
           null,
           null,
           null,
           null,
           null,
           null,
           null,
           null,
           null,
           null,
           null,
           null
          ]
         ]
        },
        {
         "marker": {
          "color": "black",
          "line": {
           "color": "Gray",
           "width": 2
          }
         },
         "mode": "markers",
         "name": "Feasible Trial",
         "showlegend": false,
         "type": "scatter",
         "x": [
          23,
          63,
          35,
          69,
          67,
          15,
          51,
          39,
          63,
          33,
          49,
          7,
          11,
          51,
          21,
          21,
          49,
          51,
          43,
          55,
          57,
          29,
          31,
          29,
          29,
          43,
          29,
          41,
          35,
          25,
          17,
          45,
          57,
          47,
          33,
          39,
          25,
          25,
          37,
          37,
          17,
          27,
          25,
          25,
          21,
          13,
          25,
          31,
          19,
          5,
          27,
          63,
          69,
          23,
          63,
          35,
          13,
          33,
          39,
          33,
          63,
          27,
          23,
          31,
          27,
          27,
          19,
          21,
          9,
          33,
          59,
          29,
          29,
          29,
          29,
          31,
          35,
          29,
          29,
          27,
          41,
          31,
          29,
          35,
          35,
          37,
          35,
          37,
          41,
          39,
          37,
          33,
          33,
          35,
          35,
          41,
          31,
          47,
          53,
          53,
          53,
          53,
          53,
          53,
          49,
          53,
          53,
          59,
          59,
          49,
          57,
          49,
          51,
          55,
          61,
          65,
          47,
          51,
          55,
          57,
          45,
          59,
          61,
          65,
          49,
          67,
          65,
          55,
          51,
          53,
          51,
          49,
          45,
          51,
          47,
          51,
          47,
          47,
          47,
          45,
          47,
          47,
          47,
          43,
          43,
          49,
          49,
          51,
          49,
          49
         ],
         "y": [
          12,
          4,
          17,
          17,
          4,
          5,
          2,
          13,
          8,
          1,
          9,
          1,
          5,
          6,
          1,
          1,
          3,
          8,
          14,
          3,
          20,
          3,
          3,
          7,
          10,
          3,
          6,
          3,
          2,
          12,
          6,
          4,
          3,
          2,
          5,
          2,
          2,
          2,
          15,
          4,
          5,
          2,
          2,
          1,
          2,
          4,
          4,
          1,
          7,
          2,
          5,
          2,
          1,
          4,
          2,
          3,
          1,
          3,
          20,
          2,
          18,
          3,
          4,
          3,
          2,
          1,
          10,
          6,
          5,
          3,
          2,
          3,
          3,
          3,
          3,
          4,
          7,
          5,
          3,
          12,
          6,
          3,
          4,
          3,
          3,
          4,
          1,
          3,
          5,
          4,
          3,
          2,
          1,
          2,
          3,
          2,
          1,
          2,
          2,
          2,
          2,
          2,
          2,
          1,
          2,
          2,
          2,
          2,
          1,
          2,
          1,
          2,
          2,
          2,
          2,
          1,
          13,
          1,
          2,
          2,
          1,
          2,
          2,
          2,
          1,
          1,
          9,
          2,
          2,
          1,
          4,
          2,
          16,
          2,
          3,
          3,
          3,
          3,
          3,
          4,
          3,
          3,
          3,
          3,
          4,
          3,
          3,
          4,
          3,
          3
         ]
        },
        {
         "marker": {
          "color": "#cccccc",
          "line": {
           "color": "Gray",
           "width": 2
          }
         },
         "mode": "markers",
         "name": "Infeasible Trial",
         "showlegend": false,
         "type": "scatter",
         "x": [],
         "y": []
        }
       ],
       "layout": {
        "template": {
         "data": {
          "bar": [
           {
            "error_x": {
             "color": "#2a3f5f"
            },
            "error_y": {
             "color": "#2a3f5f"
            },
            "marker": {
             "line": {
              "color": "#E5ECF6",
              "width": 0.5
             },
             "pattern": {
              "fillmode": "overlay",
              "size": 10,
              "solidity": 0.2
             }
            },
            "type": "bar"
           }
          ],
          "barpolar": [
           {
            "marker": {
             "line": {
              "color": "#E5ECF6",
              "width": 0.5
             },
             "pattern": {
              "fillmode": "overlay",
              "size": 10,
              "solidity": 0.2
             }
            },
            "type": "barpolar"
           }
          ],
          "carpet": [
           {
            "aaxis": {
             "endlinecolor": "#2a3f5f",
             "gridcolor": "white",
             "linecolor": "white",
             "minorgridcolor": "white",
             "startlinecolor": "#2a3f5f"
            },
            "baxis": {
             "endlinecolor": "#2a3f5f",
             "gridcolor": "white",
             "linecolor": "white",
             "minorgridcolor": "white",
             "startlinecolor": "#2a3f5f"
            },
            "type": "carpet"
           }
          ],
          "choropleth": [
           {
            "colorbar": {
             "outlinewidth": 0,
             "ticks": ""
            },
            "type": "choropleth"
           }
          ],
          "contour": [
           {
            "colorbar": {
             "outlinewidth": 0,
             "ticks": ""
            },
            "colorscale": [
             [
              0,
              "#0d0887"
             ],
             [
              0.1111111111111111,
              "#46039f"
             ],
             [
              0.2222222222222222,
              "#7201a8"
             ],
             [
              0.3333333333333333,
              "#9c179e"
             ],
             [
              0.4444444444444444,
              "#bd3786"
             ],
             [
              0.5555555555555556,
              "#d8576b"
             ],
             [
              0.6666666666666666,
              "#ed7953"
             ],
             [
              0.7777777777777778,
              "#fb9f3a"
             ],
             [
              0.8888888888888888,
              "#fdca26"
             ],
             [
              1,
              "#f0f921"
             ]
            ],
            "type": "contour"
           }
          ],
          "contourcarpet": [
           {
            "colorbar": {
             "outlinewidth": 0,
             "ticks": ""
            },
            "type": "contourcarpet"
           }
          ],
          "heatmap": [
           {
            "colorbar": {
             "outlinewidth": 0,
             "ticks": ""
            },
            "colorscale": [
             [
              0,
              "#0d0887"
             ],
             [
              0.1111111111111111,
              "#46039f"
             ],
             [
              0.2222222222222222,
              "#7201a8"
             ],
             [
              0.3333333333333333,
              "#9c179e"
             ],
             [
              0.4444444444444444,
              "#bd3786"
             ],
             [
              0.5555555555555556,
              "#d8576b"
             ],
             [
              0.6666666666666666,
              "#ed7953"
             ],
             [
              0.7777777777777778,
              "#fb9f3a"
             ],
             [
              0.8888888888888888,
              "#fdca26"
             ],
             [
              1,
              "#f0f921"
             ]
            ],
            "type": "heatmap"
           }
          ],
          "heatmapgl": [
           {
            "colorbar": {
             "outlinewidth": 0,
             "ticks": ""
            },
            "colorscale": [
             [
              0,
              "#0d0887"
             ],
             [
              0.1111111111111111,
              "#46039f"
             ],
             [
              0.2222222222222222,
              "#7201a8"
             ],
             [
              0.3333333333333333,
              "#9c179e"
             ],
             [
              0.4444444444444444,
              "#bd3786"
             ],
             [
              0.5555555555555556,
              "#d8576b"
             ],
             [
              0.6666666666666666,
              "#ed7953"
             ],
             [
              0.7777777777777778,
              "#fb9f3a"
             ],
             [
              0.8888888888888888,
              "#fdca26"
             ],
             [
              1,
              "#f0f921"
             ]
            ],
            "type": "heatmapgl"
           }
          ],
          "histogram": [
           {
            "marker": {
             "pattern": {
              "fillmode": "overlay",
              "size": 10,
              "solidity": 0.2
             }
            },
            "type": "histogram"
           }
          ],
          "histogram2d": [
           {
            "colorbar": {
             "outlinewidth": 0,
             "ticks": ""
            },
            "colorscale": [
             [
              0,
              "#0d0887"
             ],
             [
              0.1111111111111111,
              "#46039f"
             ],
             [
              0.2222222222222222,
              "#7201a8"
             ],
             [
              0.3333333333333333,
              "#9c179e"
             ],
             [
              0.4444444444444444,
              "#bd3786"
             ],
             [
              0.5555555555555556,
              "#d8576b"
             ],
             [
              0.6666666666666666,
              "#ed7953"
             ],
             [
              0.7777777777777778,
              "#fb9f3a"
             ],
             [
              0.8888888888888888,
              "#fdca26"
             ],
             [
              1,
              "#f0f921"
             ]
            ],
            "type": "histogram2d"
           }
          ],
          "histogram2dcontour": [
           {
            "colorbar": {
             "outlinewidth": 0,
             "ticks": ""
            },
            "colorscale": [
             [
              0,
              "#0d0887"
             ],
             [
              0.1111111111111111,
              "#46039f"
             ],
             [
              0.2222222222222222,
              "#7201a8"
             ],
             [
              0.3333333333333333,
              "#9c179e"
             ],
             [
              0.4444444444444444,
              "#bd3786"
             ],
             [
              0.5555555555555556,
              "#d8576b"
             ],
             [
              0.6666666666666666,
              "#ed7953"
             ],
             [
              0.7777777777777778,
              "#fb9f3a"
             ],
             [
              0.8888888888888888,
              "#fdca26"
             ],
             [
              1,
              "#f0f921"
             ]
            ],
            "type": "histogram2dcontour"
           }
          ],
          "mesh3d": [
           {
            "colorbar": {
             "outlinewidth": 0,
             "ticks": ""
            },
            "type": "mesh3d"
           }
          ],
          "parcoords": [
           {
            "line": {
             "colorbar": {
              "outlinewidth": 0,
              "ticks": ""
             }
            },
            "type": "parcoords"
           }
          ],
          "pie": [
           {
            "automargin": true,
            "type": "pie"
           }
          ],
          "scatter": [
           {
            "fillpattern": {
             "fillmode": "overlay",
             "size": 10,
             "solidity": 0.2
            },
            "type": "scatter"
           }
          ],
          "scatter3d": [
           {
            "line": {
             "colorbar": {
              "outlinewidth": 0,
              "ticks": ""
             }
            },
            "marker": {
             "colorbar": {
              "outlinewidth": 0,
              "ticks": ""
             }
            },
            "type": "scatter3d"
           }
          ],
          "scattercarpet": [
           {
            "marker": {
             "colorbar": {
              "outlinewidth": 0,
              "ticks": ""
             }
            },
            "type": "scattercarpet"
           }
          ],
          "scattergeo": [
           {
            "marker": {
             "colorbar": {
              "outlinewidth": 0,
              "ticks": ""
             }
            },
            "type": "scattergeo"
           }
          ],
          "scattergl": [
           {
            "marker": {
             "colorbar": {
              "outlinewidth": 0,
              "ticks": ""
             }
            },
            "type": "scattergl"
           }
          ],
          "scattermapbox": [
           {
            "marker": {
             "colorbar": {
              "outlinewidth": 0,
              "ticks": ""
             }
            },
            "type": "scattermapbox"
           }
          ],
          "scatterpolar": [
           {
            "marker": {
             "colorbar": {
              "outlinewidth": 0,
              "ticks": ""
             }
            },
            "type": "scatterpolar"
           }
          ],
          "scatterpolargl": [
           {
            "marker": {
             "colorbar": {
              "outlinewidth": 0,
              "ticks": ""
             }
            },
            "type": "scatterpolargl"
           }
          ],
          "scatterternary": [
           {
            "marker": {
             "colorbar": {
              "outlinewidth": 0,
              "ticks": ""
             }
            },
            "type": "scatterternary"
           }
          ],
          "surface": [
           {
            "colorbar": {
             "outlinewidth": 0,
             "ticks": ""
            },
            "colorscale": [
             [
              0,
              "#0d0887"
             ],
             [
              0.1111111111111111,
              "#46039f"
             ],
             [
              0.2222222222222222,
              "#7201a8"
             ],
             [
              0.3333333333333333,
              "#9c179e"
             ],
             [
              0.4444444444444444,
              "#bd3786"
             ],
             [
              0.5555555555555556,
              "#d8576b"
             ],
             [
              0.6666666666666666,
              "#ed7953"
             ],
             [
              0.7777777777777778,
              "#fb9f3a"
             ],
             [
              0.8888888888888888,
              "#fdca26"
             ],
             [
              1,
              "#f0f921"
             ]
            ],
            "type": "surface"
           }
          ],
          "table": [
           {
            "cells": {
             "fill": {
              "color": "#EBF0F8"
             },
             "line": {
              "color": "white"
             }
            },
            "header": {
             "fill": {
              "color": "#C8D4E3"
             },
             "line": {
              "color": "white"
             }
            },
            "type": "table"
           }
          ]
         },
         "layout": {
          "annotationdefaults": {
           "arrowcolor": "#2a3f5f",
           "arrowhead": 0,
           "arrowwidth": 1
          },
          "autotypenumbers": "strict",
          "coloraxis": {
           "colorbar": {
            "outlinewidth": 0,
            "ticks": ""
           }
          },
          "colorscale": {
           "diverging": [
            [
             0,
             "#8e0152"
            ],
            [
             0.1,
             "#c51b7d"
            ],
            [
             0.2,
             "#de77ae"
            ],
            [
             0.3,
             "#f1b6da"
            ],
            [
             0.4,
             "#fde0ef"
            ],
            [
             0.5,
             "#f7f7f7"
            ],
            [
             0.6,
             "#e6f5d0"
            ],
            [
             0.7,
             "#b8e186"
            ],
            [
             0.8,
             "#7fbc41"
            ],
            [
             0.9,
             "#4d9221"
            ],
            [
             1,
             "#276419"
            ]
           ],
           "sequential": [
            [
             0,
             "#0d0887"
            ],
            [
             0.1111111111111111,
             "#46039f"
            ],
            [
             0.2222222222222222,
             "#7201a8"
            ],
            [
             0.3333333333333333,
             "#9c179e"
            ],
            [
             0.4444444444444444,
             "#bd3786"
            ],
            [
             0.5555555555555556,
             "#d8576b"
            ],
            [
             0.6666666666666666,
             "#ed7953"
            ],
            [
             0.7777777777777778,
             "#fb9f3a"
            ],
            [
             0.8888888888888888,
             "#fdca26"
            ],
            [
             1,
             "#f0f921"
            ]
           ],
           "sequentialminus": [
            [
             0,
             "#0d0887"
            ],
            [
             0.1111111111111111,
             "#46039f"
            ],
            [
             0.2222222222222222,
             "#7201a8"
            ],
            [
             0.3333333333333333,
             "#9c179e"
            ],
            [
             0.4444444444444444,
             "#bd3786"
            ],
            [
             0.5555555555555556,
             "#d8576b"
            ],
            [
             0.6666666666666666,
             "#ed7953"
            ],
            [
             0.7777777777777778,
             "#fb9f3a"
            ],
            [
             0.8888888888888888,
             "#fdca26"
            ],
            [
             1,
             "#f0f921"
            ]
           ]
          },
          "colorway": [
           "#636efa",
           "#EF553B",
           "#00cc96",
           "#ab63fa",
           "#FFA15A",
           "#19d3f3",
           "#FF6692",
           "#B6E880",
           "#FF97FF",
           "#FECB52"
          ],
          "font": {
           "color": "#2a3f5f"
          },
          "geo": {
           "bgcolor": "white",
           "lakecolor": "white",
           "landcolor": "#E5ECF6",
           "showlakes": true,
           "showland": true,
           "subunitcolor": "white"
          },
          "hoverlabel": {
           "align": "left"
          },
          "hovermode": "closest",
          "mapbox": {
           "style": "light"
          },
          "paper_bgcolor": "white",
          "plot_bgcolor": "#E5ECF6",
          "polar": {
           "angularaxis": {
            "gridcolor": "white",
            "linecolor": "white",
            "ticks": ""
           },
           "bgcolor": "#E5ECF6",
           "radialaxis": {
            "gridcolor": "white",
            "linecolor": "white",
            "ticks": ""
           }
          },
          "scene": {
           "xaxis": {
            "backgroundcolor": "#E5ECF6",
            "gridcolor": "white",
            "gridwidth": 2,
            "linecolor": "white",
            "showbackground": true,
            "ticks": "",
            "zerolinecolor": "white"
           },
           "yaxis": {
            "backgroundcolor": "#E5ECF6",
            "gridcolor": "white",
            "gridwidth": 2,
            "linecolor": "white",
            "showbackground": true,
            "ticks": "",
            "zerolinecolor": "white"
           },
           "zaxis": {
            "backgroundcolor": "#E5ECF6",
            "gridcolor": "white",
            "gridwidth": 2,
            "linecolor": "white",
            "showbackground": true,
            "ticks": "",
            "zerolinecolor": "white"
           }
          },
          "shapedefaults": {
           "line": {
            "color": "#2a3f5f"
           }
          },
          "ternary": {
           "aaxis": {
            "gridcolor": "white",
            "linecolor": "white",
            "ticks": ""
           },
           "baxis": {
            "gridcolor": "white",
            "linecolor": "white",
            "ticks": ""
           },
           "bgcolor": "#E5ECF6",
           "caxis": {
            "gridcolor": "white",
            "linecolor": "white",
            "ticks": ""
           }
          },
          "title": {
           "x": 0.05
          },
          "xaxis": {
           "automargin": true,
           "gridcolor": "white",
           "linecolor": "white",
           "ticks": "",
           "title": {
            "standoff": 15
           },
           "zerolinecolor": "white",
           "zerolinewidth": 2
          },
          "yaxis": {
           "automargin": true,
           "gridcolor": "white",
           "linecolor": "white",
           "ticks": "",
           "title": {
            "standoff": 15
           },
           "zerolinecolor": "white",
           "zerolinewidth": 2
          }
         }
        },
        "title": {
         "text": "Contour Plot"
        },
        "xaxis": {
         "range": [
          1.7999999999999998,
          72.2
         ],
         "title": {
          "text": "max_depth"
         }
        },
        "yaxis": {
         "range": [
          0.04999999999999993,
          20.95
         ],
         "title": {
          "text": "min_samples_leaf"
         }
        }
       }
      }
     },
     "metadata": {},
     "output_type": "display_data"
    }
   ],
   "source": [
    "# Plot contour plot\n",
    "fig_contour = vis.plot_contour(study, params=[\"min_samples_leaf\", \"max_depth\"])\n",
    "fig_contour"
   ]
  },
  {
   "cell_type": "code",
   "execution_count": 11,
   "metadata": {},
   "outputs": [
    {
     "data": {
      "application/vnd.plotly.v1+json": {
       "config": {
        "plotlyServerURL": "https://plot.ly"
       },
       "data": [
        {
         "dimensions": [
          {
           "label": "Objective Value",
           "range": [
            0.011846501712847388,
            0.027976583845288838
           ],
           "values": [
            0.013812701799049308,
            0.01245589925942182,
            0.014154326754843499,
            0.027976583845288838,
            0.013438502669671913,
            0.013656377883971196,
            0.012900495442701148,
            0.01358307775812675,
            0.014295603518527553,
            0.01268058269046569,
            0.011911279792008235,
            0.011896878064463339,
            0.011951629230746573,
            0.011950316119590023,
            0.012011734671205589,
            0.013056566482933718,
            0.011925335402296101,
            0.011920922534527211,
            0.01259274512582199,
            0.012868734247349866,
            0.011896335712774656,
            0.011896335712774656,
            0.011982920156026472,
            0.012407768914291782,
            0.011892355020696696,
            0.013056594581342453,
            0.027928189044896544,
            0.012312824378144996,
            0.011878311448170243,
            0.014092893540851944,
            0.012666593735704763,
            0.011895074481571477,
            0.012118257545515905,
            0.011928661181873934,
            0.011958638191959128,
            0.012327849089990444,
            0.012095886208320685,
            0.011879791490205467,
            0.01197921423956094,
            0.013894927231565527,
            0.01242152559470282,
            0.011879860367431447,
            0.011859958500300333,
            0.011877907102497932,
            0.011913370062240088,
            0.01190790138943981,
            0.011854329411518202,
            0.012179509031955433,
            0.011981973165105056,
            0.012041094172099285,
            0.012434119981863655,
            0.011973069076374998,
            0.011858742370722809,
            0.011913370062240088,
            0.011865677338588128,
            0.012205743568386792,
            0.011902106888539956,
            0.012360703713228251,
            0.014101366820553058,
            0.012002973695518098,
            0.012329574800306121,
            0.011878543233809455,
            0.013191587522077315,
            0.011902602236591817,
            0.011961153254318943,
            0.012125443262470096,
            0.011923593206660777,
            0.01191516097518883,
            0.011873178282723568,
            0.01187243740504644,
            0.011940106900216636,
            0.011914093594114652,
            0.01189841129267093,
            0.011968653526442325,
            0.011869012473316646,
            0.011944701023292858,
            0.01187243740504644,
            0.011992545798834263,
            0.013464420591689891,
            0.01190790138943981,
            0.012936610374117348,
            0.01186000382654295,
            0.011909673503776572,
            0.01187416143831875,
            0.01186518309908766,
            0.011897092492079804,
            0.011926315412620833,
            0.013987630347385904,
            0.01187225287409988,
            0.011892629676306847,
            0.011934963694768793,
            0.0118621877723204,
            0.0118621877723204,
            0.012118257545515905,
            0.011898951625470765,
            0.01197921423956094,
            0.011886768016428967,
            0.011902106888539956,
            0.011992391244453561,
            0.011864866150875704,
            0.012652976220875465,
            0.011879791490205467,
            0.01187225287409988,
            0.011881182482959437,
            0.011846501712847388,
            0.011912913338880796,
            0.011878543233809455,
            0.012572595101748659,
            0.012084805935848443,
            0.01185334551470172,
            0.011950088216693158,
            0.011860400463422682,
            0.011866061670196939,
            0.012038723495549642,
            0.012211038269988539,
            0.011898708939772455,
            0.01191516097518883,
            0.011864444333526583,
            0.011972377214629747,
            0.011851723620785806,
            0.011886347611837371,
            0.011851723620785806,
            0.011879791490205467,
            0.011864444333526583,
            0.011866061670196939,
            0.011912604097945428,
            0.011871159203476167,
            0.011878311448170243,
            0.012488016543818092,
            0.013715691492329495,
            0.01198731747801089,
            0.011851723620785806,
            0.011851723620785806,
            0.01185532808292021,
            0.011897092492079804,
            0.01187204725536215,
            0.011867441387161712,
            0.011878543233809455,
            0.011906960621086534,
            0.01198916244630506,
            0.01186277515853942,
            0.01186277515853942,
            0.011867441387161712,
            0.011936592023219334,
            0.01186277515853942,
            0.011882459641669745,
            0.011986746259850902,
            0.011852978282711733,
            0.011922794955274317,
            0.01184766386597735
           ]
          },
          {
           "label": "max_depth",
           "range": [
            5,
            67
           ],
           "values": [
            67,
            13,
            47,
            5,
            57,
            19,
            11,
            45,
            9,
            59,
            27,
            29,
            27,
            31,
            25,
            37,
            37,
            19,
            45,
            33,
            21,
            21,
            21,
            15,
            23,
            21,
            5,
            15,
            23,
            35,
            39,
            25,
            23,
            31,
            15,
            41,
            17,
            25,
            25,
            11,
            67,
            25,
            29,
            29,
            29,
            33,
            29,
            41,
            29,
            53,
            33,
            29,
            27,
            35,
            19,
            19,
            31,
            27,
            9,
            17,
            27,
            23,
            23,
            21,
            17,
            31,
            27,
            19,
            23,
            35,
            35,
            39,
            29,
            33,
            31,
            39,
            31,
            45,
            37,
            31,
            35,
            25,
            27,
            25,
            33,
            31,
            37,
            33,
            29,
            41,
            27,
            29,
            35,
            33,
            29,
            25,
            21,
            29,
            31,
            25,
            27,
            25,
            29,
            33,
            23,
            19,
            23,
            27,
            21,
            19,
            15,
            21,
            17,
            13,
            23,
            21,
            19,
            21,
            23,
            25,
            25,
            25,
            25,
            21,
            17,
            21,
            19,
            23,
            21,
            27,
            49,
            25,
            25,
            25,
            27,
            25,
            27,
            23,
            25,
            23,
            29,
            29,
            27,
            25,
            63,
            29,
            23,
            31,
            31,
            27
           ]
          },
          {
           "label": "min_samples_leaf",
           "range": [
            1,
            20
           ],
           "values": [
            17,
            5,
            20,
            5,
            14,
            16,
            9,
            15,
            7,
            8,
            2,
            2,
            1,
            1,
            4,
            12,
            2,
            3,
            6,
            10,
            3,
            3,
            4,
            7,
            3,
            12,
            4,
            6,
            3,
            20,
            9,
            3,
            5,
            3,
            1,
            6,
            5,
            3,
            4,
            18,
            7,
            3,
            2,
            2,
            1,
            2,
            2,
            5,
            1,
            2,
            2,
            4,
            2,
            1,
            2,
            2,
            2,
            1,
            4,
            2,
            6,
            3,
            13,
            1,
            4,
            5,
            3,
            1,
            2,
            2,
            2,
            2,
            3,
            4,
            2,
            1,
            2,
            4,
            15,
            2,
            11,
            2,
            1,
            3,
            2,
            3,
            1,
            19,
            2,
            1,
            3,
            2,
            2,
            5,
            1,
            4,
            3,
            2,
            4,
            2,
            9,
            3,
            2,
            1,
            2,
            1,
            3,
            8,
            2,
            2,
            1,
            2,
            2,
            3,
            3,
            2,
            1,
            2,
            4,
            2,
            1,
            2,
            3,
            2,
            2,
            1,
            3,
            3,
            2,
            17,
            1,
            2,
            2,
            2,
            3,
            1,
            2,
            3,
            1,
            4,
            2,
            2,
            2,
            1,
            2,
            3,
            3,
            2,
            1,
            2
           ]
          },
          {
           "label": "min_samples_split",
           "range": [
            2,
            20
           ],
           "values": [
            20,
            13,
            10,
            7,
            11,
            9,
            14,
            17,
            17,
            18,
            2,
            2,
            2,
            2,
            5,
            5,
            4,
            7,
            2,
            7,
            4,
            4,
            4,
            4,
            6,
            8,
            6,
            11,
            5,
            6,
            9,
            4,
            5,
            3,
            6,
            13,
            8,
            3,
            3,
            10,
            3,
            5,
            6,
            7,
            7,
            8,
            5,
            12,
            9,
            3,
            20,
            5,
            5,
            7,
            5,
            15,
            6,
            5,
            7,
            10,
            6,
            3,
            4,
            2,
            5,
            4,
            8,
            6,
            7,
            7,
            9,
            8,
            7,
            6,
            5,
            5,
            7,
            9,
            6,
            8,
            4,
            6,
            7,
            5,
            6,
            6,
            5,
            4,
            5,
            4,
            6,
            5,
            5,
            5,
            4,
            5,
            3,
            6,
            5,
            6,
            6,
            5,
            5,
            4,
            6,
            6,
            6,
            6,
            3,
            4,
            4,
            5,
            3,
            4,
            15,
            7,
            6,
            2,
            2,
            2,
            2,
            2,
            2,
            2,
            2,
            3,
            2,
            2,
            3,
            3,
            2,
            2,
            3,
            3,
            3,
            4,
            3,
            4,
            3,
            4,
            4,
            4,
            3,
            5,
            4,
            5,
            2,
            4,
            5,
            3
           ]
          },
          {
           "label": "n_estimators",
           "range": [
            10,
            50
           ],
           "values": [
            20,
            20,
            24,
            48,
            24,
            26,
            50,
            20,
            16,
            28,
            38,
            40,
            38,
            38,
            38,
            44,
            34,
            44,
            10,
            32,
            44,
            44,
            44,
            46,
            42,
            50,
            42,
            34,
            48,
            48,
            48,
            42,
            42,
            40,
            46,
            36,
            50,
            46,
            46,
            42,
            30,
            48,
            48,
            48,
            48,
            50,
            48,
            46,
            50,
            22,
            46,
            48,
            48,
            48,
            50,
            50,
            40,
            14,
            50,
            44,
            26,
            46,
            46,
            50,
            48,
            44,
            48,
            46,
            50,
            50,
            50,
            48,
            48,
            50,
            44,
            44,
            50,
            50,
            46,
            50,
            44,
            48,
            48,
            50,
            46,
            44,
            46,
            40,
            42,
            42,
            36,
            46,
            46,
            42,
            44,
            46,
            48,
            40,
            44,
            46,
            46,
            46,
            42,
            48,
            48,
            48,
            46,
            48,
            18,
            46,
            46,
            44,
            48,
            46,
            48,
            44,
            46,
            48,
            48,
            46,
            44,
            46,
            46,
            48,
            48,
            48,
            50,
            48,
            10,
            44,
            30,
            46,
            46,
            44,
            44,
            44,
            46,
            46,
            42,
            42,
            44,
            44,
            46,
            46,
            44,
            46,
            24,
            48,
            48,
            50
           ]
          }
         ],
         "labelangle": 30,
         "labelside": "bottom",
         "line": {
          "color": [
           0.013812701799049308,
           0.01245589925942182,
           0.014154326754843499,
           0.027976583845288838,
           0.013438502669671913,
           0.013656377883971196,
           0.012900495442701148,
           0.01358307775812675,
           0.014295603518527553,
           0.01268058269046569,
           0.011911279792008235,
           0.011896878064463339,
           0.011951629230746573,
           0.011950316119590023,
           0.012011734671205589,
           0.013056566482933718,
           0.011925335402296101,
           0.011920922534527211,
           0.01259274512582199,
           0.012868734247349866,
           0.011896335712774656,
           0.011896335712774656,
           0.011982920156026472,
           0.012407768914291782,
           0.011892355020696696,
           0.013056594581342453,
           0.027928189044896544,
           0.012312824378144996,
           0.011878311448170243,
           0.014092893540851944,
           0.012666593735704763,
           0.011895074481571477,
           0.012118257545515905,
           0.011928661181873934,
           0.011958638191959128,
           0.012327849089990444,
           0.012095886208320685,
           0.011879791490205467,
           0.01197921423956094,
           0.013894927231565527,
           0.01242152559470282,
           0.011879860367431447,
           0.011859958500300333,
           0.011877907102497932,
           0.011913370062240088,
           0.01190790138943981,
           0.011854329411518202,
           0.012179509031955433,
           0.011981973165105056,
           0.012041094172099285,
           0.012434119981863655,
           0.011973069076374998,
           0.011858742370722809,
           0.011913370062240088,
           0.011865677338588128,
           0.012205743568386792,
           0.011902106888539956,
           0.012360703713228251,
           0.014101366820553058,
           0.012002973695518098,
           0.012329574800306121,
           0.011878543233809455,
           0.013191587522077315,
           0.011902602236591817,
           0.011961153254318943,
           0.012125443262470096,
           0.011923593206660777,
           0.01191516097518883,
           0.011873178282723568,
           0.01187243740504644,
           0.011940106900216636,
           0.011914093594114652,
           0.01189841129267093,
           0.011968653526442325,
           0.011869012473316646,
           0.011944701023292858,
           0.01187243740504644,
           0.011992545798834263,
           0.013464420591689891,
           0.01190790138943981,
           0.012936610374117348,
           0.01186000382654295,
           0.011909673503776572,
           0.01187416143831875,
           0.01186518309908766,
           0.011897092492079804,
           0.011926315412620833,
           0.013987630347385904,
           0.01187225287409988,
           0.011892629676306847,
           0.011934963694768793,
           0.0118621877723204,
           0.0118621877723204,
           0.012118257545515905,
           0.011898951625470765,
           0.01197921423956094,
           0.011886768016428967,
           0.011902106888539956,
           0.011992391244453561,
           0.011864866150875704,
           0.012652976220875465,
           0.011879791490205467,
           0.01187225287409988,
           0.011881182482959437,
           0.011846501712847388,
           0.011912913338880796,
           0.011878543233809455,
           0.012572595101748659,
           0.012084805935848443,
           0.01185334551470172,
           0.011950088216693158,
           0.011860400463422682,
           0.011866061670196939,
           0.012038723495549642,
           0.012211038269988539,
           0.011898708939772455,
           0.01191516097518883,
           0.011864444333526583,
           0.011972377214629747,
           0.011851723620785806,
           0.011886347611837371,
           0.011851723620785806,
           0.011879791490205467,
           0.011864444333526583,
           0.011866061670196939,
           0.011912604097945428,
           0.011871159203476167,
           0.011878311448170243,
           0.012488016543818092,
           0.013715691492329495,
           0.01198731747801089,
           0.011851723620785806,
           0.011851723620785806,
           0.01185532808292021,
           0.011897092492079804,
           0.01187204725536215,
           0.011867441387161712,
           0.011878543233809455,
           0.011906960621086534,
           0.01198916244630506,
           0.01186277515853942,
           0.01186277515853942,
           0.011867441387161712,
           0.011936592023219334,
           0.01186277515853942,
           0.011882459641669745,
           0.011986746259850902,
           0.011852978282711733,
           0.011922794955274317,
           0.01184766386597735
          ],
          "colorbar": {
           "title": {
            "text": "Objective Value"
           }
          },
          "colorscale": [
           [
            0,
            "rgb(247,251,255)"
           ],
           [
            0.125,
            "rgb(222,235,247)"
           ],
           [
            0.25,
            "rgb(198,219,239)"
           ],
           [
            0.375,
            "rgb(158,202,225)"
           ],
           [
            0.5,
            "rgb(107,174,214)"
           ],
           [
            0.625,
            "rgb(66,146,198)"
           ],
           [
            0.75,
            "rgb(33,113,181)"
           ],
           [
            0.875,
            "rgb(8,81,156)"
           ],
           [
            1,
            "rgb(8,48,107)"
           ]
          ],
          "reversescale": true,
          "showscale": true
         },
         "type": "parcoords"
        }
       ],
       "layout": {
        "template": {
         "data": {
          "bar": [
           {
            "error_x": {
             "color": "#2a3f5f"
            },
            "error_y": {
             "color": "#2a3f5f"
            },
            "marker": {
             "line": {
              "color": "#E5ECF6",
              "width": 0.5
             },
             "pattern": {
              "fillmode": "overlay",
              "size": 10,
              "solidity": 0.2
             }
            },
            "type": "bar"
           }
          ],
          "barpolar": [
           {
            "marker": {
             "line": {
              "color": "#E5ECF6",
              "width": 0.5
             },
             "pattern": {
              "fillmode": "overlay",
              "size": 10,
              "solidity": 0.2
             }
            },
            "type": "barpolar"
           }
          ],
          "carpet": [
           {
            "aaxis": {
             "endlinecolor": "#2a3f5f",
             "gridcolor": "white",
             "linecolor": "white",
             "minorgridcolor": "white",
             "startlinecolor": "#2a3f5f"
            },
            "baxis": {
             "endlinecolor": "#2a3f5f",
             "gridcolor": "white",
             "linecolor": "white",
             "minorgridcolor": "white",
             "startlinecolor": "#2a3f5f"
            },
            "type": "carpet"
           }
          ],
          "choropleth": [
           {
            "colorbar": {
             "outlinewidth": 0,
             "ticks": ""
            },
            "type": "choropleth"
           }
          ],
          "contour": [
           {
            "colorbar": {
             "outlinewidth": 0,
             "ticks": ""
            },
            "colorscale": [
             [
              0,
              "#0d0887"
             ],
             [
              0.1111111111111111,
              "#46039f"
             ],
             [
              0.2222222222222222,
              "#7201a8"
             ],
             [
              0.3333333333333333,
              "#9c179e"
             ],
             [
              0.4444444444444444,
              "#bd3786"
             ],
             [
              0.5555555555555556,
              "#d8576b"
             ],
             [
              0.6666666666666666,
              "#ed7953"
             ],
             [
              0.7777777777777778,
              "#fb9f3a"
             ],
             [
              0.8888888888888888,
              "#fdca26"
             ],
             [
              1,
              "#f0f921"
             ]
            ],
            "type": "contour"
           }
          ],
          "contourcarpet": [
           {
            "colorbar": {
             "outlinewidth": 0,
             "ticks": ""
            },
            "type": "contourcarpet"
           }
          ],
          "heatmap": [
           {
            "colorbar": {
             "outlinewidth": 0,
             "ticks": ""
            },
            "colorscale": [
             [
              0,
              "#0d0887"
             ],
             [
              0.1111111111111111,
              "#46039f"
             ],
             [
              0.2222222222222222,
              "#7201a8"
             ],
             [
              0.3333333333333333,
              "#9c179e"
             ],
             [
              0.4444444444444444,
              "#bd3786"
             ],
             [
              0.5555555555555556,
              "#d8576b"
             ],
             [
              0.6666666666666666,
              "#ed7953"
             ],
             [
              0.7777777777777778,
              "#fb9f3a"
             ],
             [
              0.8888888888888888,
              "#fdca26"
             ],
             [
              1,
              "#f0f921"
             ]
            ],
            "type": "heatmap"
           }
          ],
          "heatmapgl": [
           {
            "colorbar": {
             "outlinewidth": 0,
             "ticks": ""
            },
            "colorscale": [
             [
              0,
              "#0d0887"
             ],
             [
              0.1111111111111111,
              "#46039f"
             ],
             [
              0.2222222222222222,
              "#7201a8"
             ],
             [
              0.3333333333333333,
              "#9c179e"
             ],
             [
              0.4444444444444444,
              "#bd3786"
             ],
             [
              0.5555555555555556,
              "#d8576b"
             ],
             [
              0.6666666666666666,
              "#ed7953"
             ],
             [
              0.7777777777777778,
              "#fb9f3a"
             ],
             [
              0.8888888888888888,
              "#fdca26"
             ],
             [
              1,
              "#f0f921"
             ]
            ],
            "type": "heatmapgl"
           }
          ],
          "histogram": [
           {
            "marker": {
             "pattern": {
              "fillmode": "overlay",
              "size": 10,
              "solidity": 0.2
             }
            },
            "type": "histogram"
           }
          ],
          "histogram2d": [
           {
            "colorbar": {
             "outlinewidth": 0,
             "ticks": ""
            },
            "colorscale": [
             [
              0,
              "#0d0887"
             ],
             [
              0.1111111111111111,
              "#46039f"
             ],
             [
              0.2222222222222222,
              "#7201a8"
             ],
             [
              0.3333333333333333,
              "#9c179e"
             ],
             [
              0.4444444444444444,
              "#bd3786"
             ],
             [
              0.5555555555555556,
              "#d8576b"
             ],
             [
              0.6666666666666666,
              "#ed7953"
             ],
             [
              0.7777777777777778,
              "#fb9f3a"
             ],
             [
              0.8888888888888888,
              "#fdca26"
             ],
             [
              1,
              "#f0f921"
             ]
            ],
            "type": "histogram2d"
           }
          ],
          "histogram2dcontour": [
           {
            "colorbar": {
             "outlinewidth": 0,
             "ticks": ""
            },
            "colorscale": [
             [
              0,
              "#0d0887"
             ],
             [
              0.1111111111111111,
              "#46039f"
             ],
             [
              0.2222222222222222,
              "#7201a8"
             ],
             [
              0.3333333333333333,
              "#9c179e"
             ],
             [
              0.4444444444444444,
              "#bd3786"
             ],
             [
              0.5555555555555556,
              "#d8576b"
             ],
             [
              0.6666666666666666,
              "#ed7953"
             ],
             [
              0.7777777777777778,
              "#fb9f3a"
             ],
             [
              0.8888888888888888,
              "#fdca26"
             ],
             [
              1,
              "#f0f921"
             ]
            ],
            "type": "histogram2dcontour"
           }
          ],
          "mesh3d": [
           {
            "colorbar": {
             "outlinewidth": 0,
             "ticks": ""
            },
            "type": "mesh3d"
           }
          ],
          "parcoords": [
           {
            "line": {
             "colorbar": {
              "outlinewidth": 0,
              "ticks": ""
             }
            },
            "type": "parcoords"
           }
          ],
          "pie": [
           {
            "automargin": true,
            "type": "pie"
           }
          ],
          "scatter": [
           {
            "fillpattern": {
             "fillmode": "overlay",
             "size": 10,
             "solidity": 0.2
            },
            "type": "scatter"
           }
          ],
          "scatter3d": [
           {
            "line": {
             "colorbar": {
              "outlinewidth": 0,
              "ticks": ""
             }
            },
            "marker": {
             "colorbar": {
              "outlinewidth": 0,
              "ticks": ""
             }
            },
            "type": "scatter3d"
           }
          ],
          "scattercarpet": [
           {
            "marker": {
             "colorbar": {
              "outlinewidth": 0,
              "ticks": ""
             }
            },
            "type": "scattercarpet"
           }
          ],
          "scattergeo": [
           {
            "marker": {
             "colorbar": {
              "outlinewidth": 0,
              "ticks": ""
             }
            },
            "type": "scattergeo"
           }
          ],
          "scattergl": [
           {
            "marker": {
             "colorbar": {
              "outlinewidth": 0,
              "ticks": ""
             }
            },
            "type": "scattergl"
           }
          ],
          "scattermapbox": [
           {
            "marker": {
             "colorbar": {
              "outlinewidth": 0,
              "ticks": ""
             }
            },
            "type": "scattermapbox"
           }
          ],
          "scatterpolar": [
           {
            "marker": {
             "colorbar": {
              "outlinewidth": 0,
              "ticks": ""
             }
            },
            "type": "scatterpolar"
           }
          ],
          "scatterpolargl": [
           {
            "marker": {
             "colorbar": {
              "outlinewidth": 0,
              "ticks": ""
             }
            },
            "type": "scatterpolargl"
           }
          ],
          "scatterternary": [
           {
            "marker": {
             "colorbar": {
              "outlinewidth": 0,
              "ticks": ""
             }
            },
            "type": "scatterternary"
           }
          ],
          "surface": [
           {
            "colorbar": {
             "outlinewidth": 0,
             "ticks": ""
            },
            "colorscale": [
             [
              0,
              "#0d0887"
             ],
             [
              0.1111111111111111,
              "#46039f"
             ],
             [
              0.2222222222222222,
              "#7201a8"
             ],
             [
              0.3333333333333333,
              "#9c179e"
             ],
             [
              0.4444444444444444,
              "#bd3786"
             ],
             [
              0.5555555555555556,
              "#d8576b"
             ],
             [
              0.6666666666666666,
              "#ed7953"
             ],
             [
              0.7777777777777778,
              "#fb9f3a"
             ],
             [
              0.8888888888888888,
              "#fdca26"
             ],
             [
              1,
              "#f0f921"
             ]
            ],
            "type": "surface"
           }
          ],
          "table": [
           {
            "cells": {
             "fill": {
              "color": "#EBF0F8"
             },
             "line": {
              "color": "white"
             }
            },
            "header": {
             "fill": {
              "color": "#C8D4E3"
             },
             "line": {
              "color": "white"
             }
            },
            "type": "table"
           }
          ]
         },
         "layout": {
          "annotationdefaults": {
           "arrowcolor": "#2a3f5f",
           "arrowhead": 0,
           "arrowwidth": 1
          },
          "autotypenumbers": "strict",
          "coloraxis": {
           "colorbar": {
            "outlinewidth": 0,
            "ticks": ""
           }
          },
          "colorscale": {
           "diverging": [
            [
             0,
             "#8e0152"
            ],
            [
             0.1,
             "#c51b7d"
            ],
            [
             0.2,
             "#de77ae"
            ],
            [
             0.3,
             "#f1b6da"
            ],
            [
             0.4,
             "#fde0ef"
            ],
            [
             0.5,
             "#f7f7f7"
            ],
            [
             0.6,
             "#e6f5d0"
            ],
            [
             0.7,
             "#b8e186"
            ],
            [
             0.8,
             "#7fbc41"
            ],
            [
             0.9,
             "#4d9221"
            ],
            [
             1,
             "#276419"
            ]
           ],
           "sequential": [
            [
             0,
             "#0d0887"
            ],
            [
             0.1111111111111111,
             "#46039f"
            ],
            [
             0.2222222222222222,
             "#7201a8"
            ],
            [
             0.3333333333333333,
             "#9c179e"
            ],
            [
             0.4444444444444444,
             "#bd3786"
            ],
            [
             0.5555555555555556,
             "#d8576b"
            ],
            [
             0.6666666666666666,
             "#ed7953"
            ],
            [
             0.7777777777777778,
             "#fb9f3a"
            ],
            [
             0.8888888888888888,
             "#fdca26"
            ],
            [
             1,
             "#f0f921"
            ]
           ],
           "sequentialminus": [
            [
             0,
             "#0d0887"
            ],
            [
             0.1111111111111111,
             "#46039f"
            ],
            [
             0.2222222222222222,
             "#7201a8"
            ],
            [
             0.3333333333333333,
             "#9c179e"
            ],
            [
             0.4444444444444444,
             "#bd3786"
            ],
            [
             0.5555555555555556,
             "#d8576b"
            ],
            [
             0.6666666666666666,
             "#ed7953"
            ],
            [
             0.7777777777777778,
             "#fb9f3a"
            ],
            [
             0.8888888888888888,
             "#fdca26"
            ],
            [
             1,
             "#f0f921"
            ]
           ]
          },
          "colorway": [
           "#636efa",
           "#EF553B",
           "#00cc96",
           "#ab63fa",
           "#FFA15A",
           "#19d3f3",
           "#FF6692",
           "#B6E880",
           "#FF97FF",
           "#FECB52"
          ],
          "font": {
           "color": "#2a3f5f"
          },
          "geo": {
           "bgcolor": "white",
           "lakecolor": "white",
           "landcolor": "#E5ECF6",
           "showlakes": true,
           "showland": true,
           "subunitcolor": "white"
          },
          "hoverlabel": {
           "align": "left"
          },
          "hovermode": "closest",
          "mapbox": {
           "style": "light"
          },
          "paper_bgcolor": "white",
          "plot_bgcolor": "#E5ECF6",
          "polar": {
           "angularaxis": {
            "gridcolor": "white",
            "linecolor": "white",
            "ticks": ""
           },
           "bgcolor": "#E5ECF6",
           "radialaxis": {
            "gridcolor": "white",
            "linecolor": "white",
            "ticks": ""
           }
          },
          "scene": {
           "xaxis": {
            "backgroundcolor": "#E5ECF6",
            "gridcolor": "white",
            "gridwidth": 2,
            "linecolor": "white",
            "showbackground": true,
            "ticks": "",
            "zerolinecolor": "white"
           },
           "yaxis": {
            "backgroundcolor": "#E5ECF6",
            "gridcolor": "white",
            "gridwidth": 2,
            "linecolor": "white",
            "showbackground": true,
            "ticks": "",
            "zerolinecolor": "white"
           },
           "zaxis": {
            "backgroundcolor": "#E5ECF6",
            "gridcolor": "white",
            "gridwidth": 2,
            "linecolor": "white",
            "showbackground": true,
            "ticks": "",
            "zerolinecolor": "white"
           }
          },
          "shapedefaults": {
           "line": {
            "color": "#2a3f5f"
           }
          },
          "ternary": {
           "aaxis": {
            "gridcolor": "white",
            "linecolor": "white",
            "ticks": ""
           },
           "baxis": {
            "gridcolor": "white",
            "linecolor": "white",
            "ticks": ""
           },
           "bgcolor": "#E5ECF6",
           "caxis": {
            "gridcolor": "white",
            "linecolor": "white",
            "ticks": ""
           }
          },
          "title": {
           "x": 0.05
          },
          "xaxis": {
           "automargin": true,
           "gridcolor": "white",
           "linecolor": "white",
           "ticks": "",
           "title": {
            "standoff": 15
           },
           "zerolinecolor": "white",
           "zerolinewidth": 2
          },
          "yaxis": {
           "automargin": true,
           "gridcolor": "white",
           "linecolor": "white",
           "ticks": "",
           "title": {
            "standoff": 15
           },
           "zerolinecolor": "white",
           "zerolinewidth": 2
          }
         }
        },
        "title": {
         "text": "Parallel Coordinate Plot"
        }
       }
      }
     },
     "metadata": {},
     "output_type": "display_data"
    }
   ],
   "source": [
    "# Plot parallel_coordinate\n",
    "vis.plot_parallel_coordinate(study)"
   ]
  },
  {
   "cell_type": "code",
   "execution_count": 29,
   "metadata": {},
   "outputs": [
    {
     "data": {
      "text/plain": [
       "{'n_estimators': 50,\n",
       " 'max_depth': 65,\n",
       " 'min_samples_split': 5,\n",
       " 'min_samples_leaf': 2}"
      ]
     },
     "execution_count": 29,
     "metadata": {},
     "output_type": "execute_result"
    }
   ],
   "source": [
    "study.best_params"
   ]
  },
  {
   "cell_type": "code",
   "execution_count": 30,
   "metadata": {},
   "outputs": [],
   "source": [
    "best_model = RandomForestRegressor(n_estimators= 50,\n",
    " max_depth= 65,\n",
    " min_samples_split= 5,\n",
    " min_samples_leaf=2)"
   ]
  },
  {
   "cell_type": "code",
   "execution_count": 31,
   "metadata": {},
   "outputs": [
    {
     "data": {
      "text/html": [
       "<style>#sk-container-id-1 {\n",
       "  /* Definition of color scheme common for light and dark mode */\n",
       "  --sklearn-color-text: black;\n",
       "  --sklearn-color-line: gray;\n",
       "  /* Definition of color scheme for unfitted estimators */\n",
       "  --sklearn-color-unfitted-level-0: #fff5e6;\n",
       "  --sklearn-color-unfitted-level-1: #f6e4d2;\n",
       "  --sklearn-color-unfitted-level-2: #ffe0b3;\n",
       "  --sklearn-color-unfitted-level-3: chocolate;\n",
       "  /* Definition of color scheme for fitted estimators */\n",
       "  --sklearn-color-fitted-level-0: #f0f8ff;\n",
       "  --sklearn-color-fitted-level-1: #d4ebff;\n",
       "  --sklearn-color-fitted-level-2: #b3dbfd;\n",
       "  --sklearn-color-fitted-level-3: cornflowerblue;\n",
       "\n",
       "  /* Specific color for light theme */\n",
       "  --sklearn-color-text-on-default-background: var(--sg-text-color, var(--theme-code-foreground, var(--jp-content-font-color1, black)));\n",
       "  --sklearn-color-background: var(--sg-background-color, var(--theme-background, var(--jp-layout-color0, white)));\n",
       "  --sklearn-color-border-box: var(--sg-text-color, var(--theme-code-foreground, var(--jp-content-font-color1, black)));\n",
       "  --sklearn-color-icon: #696969;\n",
       "\n",
       "  @media (prefers-color-scheme: dark) {\n",
       "    /* Redefinition of color scheme for dark theme */\n",
       "    --sklearn-color-text-on-default-background: var(--sg-text-color, var(--theme-code-foreground, var(--jp-content-font-color1, white)));\n",
       "    --sklearn-color-background: var(--sg-background-color, var(--theme-background, var(--jp-layout-color0, #111)));\n",
       "    --sklearn-color-border-box: var(--sg-text-color, var(--theme-code-foreground, var(--jp-content-font-color1, white)));\n",
       "    --sklearn-color-icon: #878787;\n",
       "  }\n",
       "}\n",
       "\n",
       "#sk-container-id-1 {\n",
       "  color: var(--sklearn-color-text);\n",
       "}\n",
       "\n",
       "#sk-container-id-1 pre {\n",
       "  padding: 0;\n",
       "}\n",
       "\n",
       "#sk-container-id-1 input.sk-hidden--visually {\n",
       "  border: 0;\n",
       "  clip: rect(1px 1px 1px 1px);\n",
       "  clip: rect(1px, 1px, 1px, 1px);\n",
       "  height: 1px;\n",
       "  margin: -1px;\n",
       "  overflow: hidden;\n",
       "  padding: 0;\n",
       "  position: absolute;\n",
       "  width: 1px;\n",
       "}\n",
       "\n",
       "#sk-container-id-1 div.sk-dashed-wrapped {\n",
       "  border: 1px dashed var(--sklearn-color-line);\n",
       "  margin: 0 0.4em 0.5em 0.4em;\n",
       "  box-sizing: border-box;\n",
       "  padding-bottom: 0.4em;\n",
       "  background-color: var(--sklearn-color-background);\n",
       "}\n",
       "\n",
       "#sk-container-id-1 div.sk-container {\n",
       "  /* jupyter's `normalize.less` sets `[hidden] { display: none; }`\n",
       "     but bootstrap.min.css set `[hidden] { display: none !important; }`\n",
       "     so we also need the `!important` here to be able to override the\n",
       "     default hidden behavior on the sphinx rendered scikit-learn.org.\n",
       "     See: https://github.com/scikit-learn/scikit-learn/issues/21755 */\n",
       "  display: inline-block !important;\n",
       "  position: relative;\n",
       "}\n",
       "\n",
       "#sk-container-id-1 div.sk-text-repr-fallback {\n",
       "  display: none;\n",
       "}\n",
       "\n",
       "div.sk-parallel-item,\n",
       "div.sk-serial,\n",
       "div.sk-item {\n",
       "  /* draw centered vertical line to link estimators */\n",
       "  background-image: linear-gradient(var(--sklearn-color-text-on-default-background), var(--sklearn-color-text-on-default-background));\n",
       "  background-size: 2px 100%;\n",
       "  background-repeat: no-repeat;\n",
       "  background-position: center center;\n",
       "}\n",
       "\n",
       "/* Parallel-specific style estimator block */\n",
       "\n",
       "#sk-container-id-1 div.sk-parallel-item::after {\n",
       "  content: \"\";\n",
       "  width: 100%;\n",
       "  border-bottom: 2px solid var(--sklearn-color-text-on-default-background);\n",
       "  flex-grow: 1;\n",
       "}\n",
       "\n",
       "#sk-container-id-1 div.sk-parallel {\n",
       "  display: flex;\n",
       "  align-items: stretch;\n",
       "  justify-content: center;\n",
       "  background-color: var(--sklearn-color-background);\n",
       "  position: relative;\n",
       "}\n",
       "\n",
       "#sk-container-id-1 div.sk-parallel-item {\n",
       "  display: flex;\n",
       "  flex-direction: column;\n",
       "}\n",
       "\n",
       "#sk-container-id-1 div.sk-parallel-item:first-child::after {\n",
       "  align-self: flex-end;\n",
       "  width: 50%;\n",
       "}\n",
       "\n",
       "#sk-container-id-1 div.sk-parallel-item:last-child::after {\n",
       "  align-self: flex-start;\n",
       "  width: 50%;\n",
       "}\n",
       "\n",
       "#sk-container-id-1 div.sk-parallel-item:only-child::after {\n",
       "  width: 0;\n",
       "}\n",
       "\n",
       "/* Serial-specific style estimator block */\n",
       "\n",
       "#sk-container-id-1 div.sk-serial {\n",
       "  display: flex;\n",
       "  flex-direction: column;\n",
       "  align-items: center;\n",
       "  background-color: var(--sklearn-color-background);\n",
       "  padding-right: 1em;\n",
       "  padding-left: 1em;\n",
       "}\n",
       "\n",
       "\n",
       "/* Toggleable style: style used for estimator/Pipeline/ColumnTransformer box that is\n",
       "clickable and can be expanded/collapsed.\n",
       "- Pipeline and ColumnTransformer use this feature and define the default style\n",
       "- Estimators will overwrite some part of the style using the `sk-estimator` class\n",
       "*/\n",
       "\n",
       "/* Pipeline and ColumnTransformer style (default) */\n",
       "\n",
       "#sk-container-id-1 div.sk-toggleable {\n",
       "  /* Default theme specific background. It is overwritten whether we have a\n",
       "  specific estimator or a Pipeline/ColumnTransformer */\n",
       "  background-color: var(--sklearn-color-background);\n",
       "}\n",
       "\n",
       "/* Toggleable label */\n",
       "#sk-container-id-1 label.sk-toggleable__label {\n",
       "  cursor: pointer;\n",
       "  display: block;\n",
       "  width: 100%;\n",
       "  margin-bottom: 0;\n",
       "  padding: 0.5em;\n",
       "  box-sizing: border-box;\n",
       "  text-align: center;\n",
       "}\n",
       "\n",
       "#sk-container-id-1 label.sk-toggleable__label-arrow:before {\n",
       "  /* Arrow on the left of the label */\n",
       "  content: \"▸\";\n",
       "  float: left;\n",
       "  margin-right: 0.25em;\n",
       "  color: var(--sklearn-color-icon);\n",
       "}\n",
       "\n",
       "#sk-container-id-1 label.sk-toggleable__label-arrow:hover:before {\n",
       "  color: var(--sklearn-color-text);\n",
       "}\n",
       "\n",
       "/* Toggleable content - dropdown */\n",
       "\n",
       "#sk-container-id-1 div.sk-toggleable__content {\n",
       "  max-height: 0;\n",
       "  max-width: 0;\n",
       "  overflow: hidden;\n",
       "  text-align: left;\n",
       "  /* unfitted */\n",
       "  background-color: var(--sklearn-color-unfitted-level-0);\n",
       "}\n",
       "\n",
       "#sk-container-id-1 div.sk-toggleable__content.fitted {\n",
       "  /* fitted */\n",
       "  background-color: var(--sklearn-color-fitted-level-0);\n",
       "}\n",
       "\n",
       "#sk-container-id-1 div.sk-toggleable__content pre {\n",
       "  margin: 0.2em;\n",
       "  border-radius: 0.25em;\n",
       "  color: var(--sklearn-color-text);\n",
       "  /* unfitted */\n",
       "  background-color: var(--sklearn-color-unfitted-level-0);\n",
       "}\n",
       "\n",
       "#sk-container-id-1 div.sk-toggleable__content.fitted pre {\n",
       "  /* unfitted */\n",
       "  background-color: var(--sklearn-color-fitted-level-0);\n",
       "}\n",
       "\n",
       "#sk-container-id-1 input.sk-toggleable__control:checked~div.sk-toggleable__content {\n",
       "  /* Expand drop-down */\n",
       "  max-height: 200px;\n",
       "  max-width: 100%;\n",
       "  overflow: auto;\n",
       "}\n",
       "\n",
       "#sk-container-id-1 input.sk-toggleable__control:checked~label.sk-toggleable__label-arrow:before {\n",
       "  content: \"▾\";\n",
       "}\n",
       "\n",
       "/* Pipeline/ColumnTransformer-specific style */\n",
       "\n",
       "#sk-container-id-1 div.sk-label input.sk-toggleable__control:checked~label.sk-toggleable__label {\n",
       "  color: var(--sklearn-color-text);\n",
       "  background-color: var(--sklearn-color-unfitted-level-2);\n",
       "}\n",
       "\n",
       "#sk-container-id-1 div.sk-label.fitted input.sk-toggleable__control:checked~label.sk-toggleable__label {\n",
       "  background-color: var(--sklearn-color-fitted-level-2);\n",
       "}\n",
       "\n",
       "/* Estimator-specific style */\n",
       "\n",
       "/* Colorize estimator box */\n",
       "#sk-container-id-1 div.sk-estimator input.sk-toggleable__control:checked~label.sk-toggleable__label {\n",
       "  /* unfitted */\n",
       "  background-color: var(--sklearn-color-unfitted-level-2);\n",
       "}\n",
       "\n",
       "#sk-container-id-1 div.sk-estimator.fitted input.sk-toggleable__control:checked~label.sk-toggleable__label {\n",
       "  /* fitted */\n",
       "  background-color: var(--sklearn-color-fitted-level-2);\n",
       "}\n",
       "\n",
       "#sk-container-id-1 div.sk-label label.sk-toggleable__label,\n",
       "#sk-container-id-1 div.sk-label label {\n",
       "  /* The background is the default theme color */\n",
       "  color: var(--sklearn-color-text-on-default-background);\n",
       "}\n",
       "\n",
       "/* On hover, darken the color of the background */\n",
       "#sk-container-id-1 div.sk-label:hover label.sk-toggleable__label {\n",
       "  color: var(--sklearn-color-text);\n",
       "  background-color: var(--sklearn-color-unfitted-level-2);\n",
       "}\n",
       "\n",
       "/* Label box, darken color on hover, fitted */\n",
       "#sk-container-id-1 div.sk-label.fitted:hover label.sk-toggleable__label.fitted {\n",
       "  color: var(--sklearn-color-text);\n",
       "  background-color: var(--sklearn-color-fitted-level-2);\n",
       "}\n",
       "\n",
       "/* Estimator label */\n",
       "\n",
       "#sk-container-id-1 div.sk-label label {\n",
       "  font-family: monospace;\n",
       "  font-weight: bold;\n",
       "  display: inline-block;\n",
       "  line-height: 1.2em;\n",
       "}\n",
       "\n",
       "#sk-container-id-1 div.sk-label-container {\n",
       "  text-align: center;\n",
       "}\n",
       "\n",
       "/* Estimator-specific */\n",
       "#sk-container-id-1 div.sk-estimator {\n",
       "  font-family: monospace;\n",
       "  border: 1px dotted var(--sklearn-color-border-box);\n",
       "  border-radius: 0.25em;\n",
       "  box-sizing: border-box;\n",
       "  margin-bottom: 0.5em;\n",
       "  /* unfitted */\n",
       "  background-color: var(--sklearn-color-unfitted-level-0);\n",
       "}\n",
       "\n",
       "#sk-container-id-1 div.sk-estimator.fitted {\n",
       "  /* fitted */\n",
       "  background-color: var(--sklearn-color-fitted-level-0);\n",
       "}\n",
       "\n",
       "/* on hover */\n",
       "#sk-container-id-1 div.sk-estimator:hover {\n",
       "  /* unfitted */\n",
       "  background-color: var(--sklearn-color-unfitted-level-2);\n",
       "}\n",
       "\n",
       "#sk-container-id-1 div.sk-estimator.fitted:hover {\n",
       "  /* fitted */\n",
       "  background-color: var(--sklearn-color-fitted-level-2);\n",
       "}\n",
       "\n",
       "/* Specification for estimator info (e.g. \"i\" and \"?\") */\n",
       "\n",
       "/* Common style for \"i\" and \"?\" */\n",
       "\n",
       ".sk-estimator-doc-link,\n",
       "a:link.sk-estimator-doc-link,\n",
       "a:visited.sk-estimator-doc-link {\n",
       "  float: right;\n",
       "  font-size: smaller;\n",
       "  line-height: 1em;\n",
       "  font-family: monospace;\n",
       "  background-color: var(--sklearn-color-background);\n",
       "  border-radius: 1em;\n",
       "  height: 1em;\n",
       "  width: 1em;\n",
       "  text-decoration: none !important;\n",
       "  margin-left: 1ex;\n",
       "  /* unfitted */\n",
       "  border: var(--sklearn-color-unfitted-level-1) 1pt solid;\n",
       "  color: var(--sklearn-color-unfitted-level-1);\n",
       "}\n",
       "\n",
       ".sk-estimator-doc-link.fitted,\n",
       "a:link.sk-estimator-doc-link.fitted,\n",
       "a:visited.sk-estimator-doc-link.fitted {\n",
       "  /* fitted */\n",
       "  border: var(--sklearn-color-fitted-level-1) 1pt solid;\n",
       "  color: var(--sklearn-color-fitted-level-1);\n",
       "}\n",
       "\n",
       "/* On hover */\n",
       "div.sk-estimator:hover .sk-estimator-doc-link:hover,\n",
       ".sk-estimator-doc-link:hover,\n",
       "div.sk-label-container:hover .sk-estimator-doc-link:hover,\n",
       ".sk-estimator-doc-link:hover {\n",
       "  /* unfitted */\n",
       "  background-color: var(--sklearn-color-unfitted-level-3);\n",
       "  color: var(--sklearn-color-background);\n",
       "  text-decoration: none;\n",
       "}\n",
       "\n",
       "div.sk-estimator.fitted:hover .sk-estimator-doc-link.fitted:hover,\n",
       ".sk-estimator-doc-link.fitted:hover,\n",
       "div.sk-label-container:hover .sk-estimator-doc-link.fitted:hover,\n",
       ".sk-estimator-doc-link.fitted:hover {\n",
       "  /* fitted */\n",
       "  background-color: var(--sklearn-color-fitted-level-3);\n",
       "  color: var(--sklearn-color-background);\n",
       "  text-decoration: none;\n",
       "}\n",
       "\n",
       "/* Span, style for the box shown on hovering the info icon */\n",
       ".sk-estimator-doc-link span {\n",
       "  display: none;\n",
       "  z-index: 9999;\n",
       "  position: relative;\n",
       "  font-weight: normal;\n",
       "  right: .2ex;\n",
       "  padding: .5ex;\n",
       "  margin: .5ex;\n",
       "  width: min-content;\n",
       "  min-width: 20ex;\n",
       "  max-width: 50ex;\n",
       "  color: var(--sklearn-color-text);\n",
       "  box-shadow: 2pt 2pt 4pt #999;\n",
       "  /* unfitted */\n",
       "  background: var(--sklearn-color-unfitted-level-0);\n",
       "  border: .5pt solid var(--sklearn-color-unfitted-level-3);\n",
       "}\n",
       "\n",
       ".sk-estimator-doc-link.fitted span {\n",
       "  /* fitted */\n",
       "  background: var(--sklearn-color-fitted-level-0);\n",
       "  border: var(--sklearn-color-fitted-level-3);\n",
       "}\n",
       "\n",
       ".sk-estimator-doc-link:hover span {\n",
       "  display: block;\n",
       "}\n",
       "\n",
       "/* \"?\"-specific style due to the `<a>` HTML tag */\n",
       "\n",
       "#sk-container-id-1 a.estimator_doc_link {\n",
       "  float: right;\n",
       "  font-size: 1rem;\n",
       "  line-height: 1em;\n",
       "  font-family: monospace;\n",
       "  background-color: var(--sklearn-color-background);\n",
       "  border-radius: 1rem;\n",
       "  height: 1rem;\n",
       "  width: 1rem;\n",
       "  text-decoration: none;\n",
       "  /* unfitted */\n",
       "  color: var(--sklearn-color-unfitted-level-1);\n",
       "  border: var(--sklearn-color-unfitted-level-1) 1pt solid;\n",
       "}\n",
       "\n",
       "#sk-container-id-1 a.estimator_doc_link.fitted {\n",
       "  /* fitted */\n",
       "  border: var(--sklearn-color-fitted-level-1) 1pt solid;\n",
       "  color: var(--sklearn-color-fitted-level-1);\n",
       "}\n",
       "\n",
       "/* On hover */\n",
       "#sk-container-id-1 a.estimator_doc_link:hover {\n",
       "  /* unfitted */\n",
       "  background-color: var(--sklearn-color-unfitted-level-3);\n",
       "  color: var(--sklearn-color-background);\n",
       "  text-decoration: none;\n",
       "}\n",
       "\n",
       "#sk-container-id-1 a.estimator_doc_link.fitted:hover {\n",
       "  /* fitted */\n",
       "  background-color: var(--sklearn-color-fitted-level-3);\n",
       "}\n",
       "</style><div id=\"sk-container-id-1\" class=\"sk-top-container\"><div class=\"sk-text-repr-fallback\"><pre>RandomForestRegressor(max_depth=65, min_samples_leaf=2, min_samples_split=5,\n",
       "                      n_estimators=50)</pre><b>In a Jupyter environment, please rerun this cell to show the HTML representation or trust the notebook. <br />On GitHub, the HTML representation is unable to render, please try loading this page with nbviewer.org.</b></div><div class=\"sk-container\" hidden><div class=\"sk-item\"><div class=\"sk-estimator fitted sk-toggleable\"><input class=\"sk-toggleable__control sk-hidden--visually\" id=\"sk-estimator-id-1\" type=\"checkbox\" checked><label for=\"sk-estimator-id-1\" class=\"sk-toggleable__label fitted sk-toggleable__label-arrow fitted\">&nbsp;&nbsp;RandomForestRegressor<a class=\"sk-estimator-doc-link fitted\" rel=\"noreferrer\" target=\"_blank\" href=\"https://scikit-learn.org/1.4/modules/generated/sklearn.ensemble.RandomForestRegressor.html\">?<span>Documentation for RandomForestRegressor</span></a><span class=\"sk-estimator-doc-link fitted\">i<span>Fitted</span></span></label><div class=\"sk-toggleable__content fitted\"><pre>RandomForestRegressor(max_depth=65, min_samples_leaf=2, min_samples_split=5,\n",
       "                      n_estimators=50)</pre></div> </div></div></div></div>"
      ],
      "text/plain": [
       "RandomForestRegressor(max_depth=65, min_samples_leaf=2, min_samples_split=5,\n",
       "                      n_estimators=50)"
      ]
     },
     "execution_count": 31,
     "metadata": {},
     "output_type": "execute_result"
    }
   ],
   "source": [
    "best_model.fit(X_train, y_train)"
   ]
  },
  {
   "cell_type": "code",
   "execution_count": 32,
   "metadata": {},
   "outputs": [],
   "source": [
    "y_pred = best_model.predict(X_test)"
   ]
  },
  {
   "cell_type": "code",
   "execution_count": 42,
   "metadata": {},
   "outputs": [
    {
     "data": {
      "image/png": "[encoded data removed]",
      "text/plain": [
       "<Figure size 900x900 with 1 Axes>"
      ]
     },
     "metadata": {},
     "output_type": "display_data"
    }
   ],
   "source": [
    "fig_1,ax = plt.subplots(figsize=(9,9))\n",
    "ax.grid()\n",
    "ax.scatter(y_pred, y_test)\n",
    "ax.set_ylabel(r'$y_{test}$')\n",
    "ax.set_xlabel(r'$y_{pred}$')\n",
    "plt.title('y_test vs y_pred')\n",
    "plt.show()"
   ]
  },
  {
   "cell_type": "code",
   "execution_count": 66,
   "metadata": {},
   "outputs": [],
   "source": [
    "mlflow.log_figure(fig_1, artifact_file=\"y_pred_y_test.png\")"
   ]
  },
  {
   "cell_type": "code",
   "execution_count": 35,
   "metadata": {},
   "outputs": [],
   "source": [
    "error = np.abs(y_test - y_pred)"
   ]
  },
  {
   "cell_type": "code",
   "execution_count": 83,
   "metadata": {},
   "outputs": [
    {
     "data": {
      "image/png": "[encoded data removed]",
      "text/plain": [
       "<Figure size 900x900 with 1 Axes>"
      ]
     },
     "metadata": {},
     "output_type": "display_data"
    }
   ],
   "source": [
    "fig_2,ax = plt.subplots(figsize=(9,9))\n",
    "ax.grid()\n",
    "ax.boxplot(error)\n",
    "plt.title('Error boxplot')\n",
    "plt.show()"
   ]
  },
  {
   "cell_type": "code",
   "execution_count": 84,
   "metadata": {},
   "outputs": [],
   "source": [
    "mlflow.log_figure(fig_2, artifact_file=\"Error_boxplot.png\")"
   ]
  },
  {
   "cell_type": "code",
   "execution_count": 88,
   "metadata": {},
   "outputs": [
    {
     "data": {
      "image/png": "[encoded data removed]",
      "text/plain": [
       "<Figure size 900x900 with 1 Axes>"
      ]
     },
     "metadata": {},
     "output_type": "display_data"
    }
   ],
   "source": [
    "fig_3,ax = plt.subplots(figsize=(9,9))\n",
    "ax.grid()\n",
    "ax.violinplot(error)\n",
    "plt.title('Error violin plot')\n",
    "plt.show()"
   ]
  },
  {
   "cell_type": "code",
   "execution_count": 95,
   "metadata": {},
   "outputs": [],
   "source": [
    "mlflow.log_figure(fig_3, artifact_file=\"Error_violinplot.png\")"
   ]
  },
  {
   "cell_type": "code",
   "execution_count": 90,
   "metadata": {},
   "outputs": [
    {
     "name": "stdout",
     "output_type": "stream",
     "text": [
      "El error máximo fué 317.3618174603175\n",
      "El error mínimo fué 0.00023015873011900112\n",
      "El error promedio fué 22.548940072500784\n",
      "La desviación estándar del error fue 26.28278295733755\n"
     ]
    }
   ],
   "source": [
    "print(f'El error máximo fué {np.max(error)}')\n",
    "print(f'El error mínimo fué {np.min(error)}')\n",
    "print(f'El error promedio fué {np.mean(error)}')\n",
    "print(f'La desviación estándar del error fue {np.std(error)}')"
   ]
  },
  {
   "cell_type": "code",
   "execution_count": 91,
   "metadata": {},
   "outputs": [
    {
     "data": {
      "text/plain": [
       "0.00939989292825743"
      ]
     },
     "execution_count": 91,
     "metadata": {},
     "output_type": "execute_result"
    }
   ],
   "source": [
    "mean_absolute_percentage_error(y_pred, y_test)"
   ]
  },
  {
   "cell_type": "code",
   "execution_count": 94,
   "metadata": {},
   "outputs": [],
   "source": [
    "mlflow.end_run()"
   ]
  }
 ],
 "metadata": {
  "kernelspec": {
   "display_name": "Python 3",
   "language": "python",
   "name": "python3"
  },
  "language_info": {
   "codemirror_mode": {
    "name": "ipython",
    "version": 3
   },
   "file_extension": ".py",
   "mimetype": "text/x-python",
   "name": "python",
   "nbconvert_exporter": "python",
   "pygments_lexer": "ipython3",
   "version": "3.12.1"
  }
 },
 "nbformat": 4,
 "nbformat_minor": 2
}
