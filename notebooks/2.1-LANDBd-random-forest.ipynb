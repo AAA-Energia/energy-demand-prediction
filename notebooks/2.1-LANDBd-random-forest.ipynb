{
 "cells": [
  {
   "cell_type": "markdown",
   "metadata": {},
   "source": [
    "# Random Forest"
   ]
  },
  {
   "cell_type": "code",
   "execution_count": 14,
   "metadata": {},
   "outputs": [],
   "source": [
    "import pandas as pd \n",
    "import optuna \n",
    "import numpy as np\n",
    "import matplotlib.pyplot as plt\n",
    "\n",
    "import mlflow\n",
    "from sklearn.model_selection import train_test_split\n",
    "from sklearn.ensemble import RandomForestRegressor\n",
    "from sklearn.metrics import mean_absolute_percentage_error\n",
    "\n",
    "import os\n",
    "import nbimporter\n",
    "import joblib\n",
    "from dotenv import load_dotenv"
   ]
  },
  {
   "cell_type": "code",
   "execution_count": 2,
   "metadata": {},
   "outputs": [
    {
     "data": {
      "text/plain": [
       "True"
      ]
     },
     "execution_count": 2,
     "metadata": {},
     "output_type": "execute_result"
    }
   ],
   "source": [
    "load_dotenv()"
   ]
  },
  {
   "cell_type": "markdown",
   "metadata": {},
   "source": [
    "### Creamos primeramente un experimento con MLFLOW"
   ]
  },
  {
   "cell_type": "code",
   "execution_count": 3,
   "metadata": {},
   "outputs": [],
   "source": [
    "MLFLOW_TRACKING_URI = os.getenv('MLFLOW_TRACKING_URI')"
   ]
  },
  {
   "cell_type": "code",
   "execution_count": 4,
   "metadata": {},
   "outputs": [],
   "source": [
    "def get_or_create_experiment(experiment_name):\n",
    "    \"\"\"\n",
    "    Retrieve the ID of an existing MLflow experiment or create a new one if it doesn't exist.\n",
    "    \"\"\"\n",
    "\n",
    "    if experiment := mlflow.get_experiment_by_name(experiment_name):\n",
    "        return experiment.experiment_id\n",
    "    else:\n",
    "        return mlflow.create_experiment(experiment_name)"
   ]
  },
  {
   "cell_type": "code",
   "execution_count": 5,
   "metadata": {},
   "outputs": [],
   "source": [
    "experiment_id = get_or_create_experiment(\"random_forest_energy_demand_1\")"
   ]
  },
  {
   "cell_type": "markdown",
   "metadata": {},
   "source": [
    "Obtenemos los datos y tomamos una muestra para optimización de hiperparámetros"
   ]
  },
  {
   "cell_type": "code",
   "execution_count": 5,
   "metadata": {},
   "outputs": [],
   "source": [
    "df = pd.read_csv('../data/processed/supervised_data_energy.csv')"
   ]
  },
  {
   "cell_type": "markdown",
   "metadata": {},
   "source": [
    "Datos para optimización de hiperarámetros:"
   ]
  },
  {
   "cell_type": "code",
   "execution_count": 6,
   "metadata": {},
   "outputs": [],
   "source": [
    "df_sample = df.sample(frac = 0.2)"
   ]
  },
  {
   "cell_type": "code",
   "execution_count": 7,
   "metadata": {},
   "outputs": [],
   "source": [
    "X_study = df_sample[df_sample.columns[0:-1]]\n",
    "y_study = df_sample[df_sample.columns[-1]]\n",
    "\n",
    "X_train_s, X_test_s, y_train_s, y_test_s = train_test_split(X_study, y_study, test_size=0.2, random_state=12)"
   ]
  },
  {
   "cell_type": "markdown",
   "metadata": {},
   "source": [
    "Datos de entrenamiento y prueba:"
   ]
  },
  {
   "cell_type": "code",
   "execution_count": 8,
   "metadata": {},
   "outputs": [],
   "source": [
    "X = df[df.columns[0:-1]]\n",
    "y = df[df.columns[-1]]\n",
    "\n",
    "X_train, X_test, y_train, y_test = train_test_split(X, y, test_size=0.2, random_state=12)"
   ]
  },
  {
   "cell_type": "code",
   "execution_count": 12,
   "metadata": {},
   "outputs": [],
   "source": [
    "run_name = \"second_attempt\""
   ]
  },
  {
   "cell_type": "markdown",
   "metadata": {},
   "source": [
    "Utilizando Optuna, definimos un estudio, declarando el espacio de hiperparámetros a explorar."
   ]
  },
  {
   "cell_type": "code",
   "execution_count": 13,
   "metadata": {},
   "outputs": [],
   "source": [
    "def objective(trial):\n",
    "    # Suggest values for hyperparameters\n",
    "    n_estimators = trial.suggest_int(\"n_estimators\", 10, 50, step = 2)\n",
    "    max_depth = trial.suggest_int(\"max_depth\", 5, 70, step = 2)\n",
    "    min_samples_split = trial.suggest_int(\"min_samples_split\", 2, 20)\n",
    "    min_samples_leaf = trial.suggest_int(\"min_samples_leaf\", 1, 20)\n",
    "\n",
    "    # Create and fit random forest model\n",
    "    model = RandomForestRegressor(\n",
    "        n_estimators=n_estimators,\n",
    "        max_depth=max_depth,\n",
    "        min_samples_split=min_samples_split,\n",
    "        min_samples_leaf=min_samples_leaf,\n",
    "        random_state=42\n",
    "    )\n",
    "    model.fit(X_train_s, y_train_s)\n",
    "\n",
    "    # Make predictions and calculate MAPE\n",
    "    y_pred = model.predict(X_test_s)\n",
    "    mape = mean_absolute_percentage_error(y_test_s, y_pred)\n",
    "\n",
    "    # Return MAPE\n",
    "    return mape"
   ]
  },
  {
   "cell_type": "code",
   "execution_count": 14,
   "metadata": {},
   "outputs": [],
   "source": [
    "mlflow.set_tracking_uri(MLFLOW_TRACKING_URI)"
   ]
  },
  {
   "cell_type": "code",
   "execution_count": 15,
   "metadata": {},
   "outputs": [
    {
     "name": "stderr",
     "output_type": "stream",
     "text": [
      "[I 2024-05-27 08:36:16,652] A new study created in memory with name: no-name-30de4eb6-5bff-4b65-bea9-318f22d40423\n"
     ]
    },
    {
     "data": {
      "application/vnd.jupyter.widget-view+json": {
       "model_id": "00acaf81f6fc4422a0ad99cc815f1efa",
       "version_major": 2,
       "version_minor": 0
      },
      "text/plain": [
       "  0%|          | 0/180 [00:00<?, ?it/s]"
      ]
     },
     "metadata": {},
     "output_type": "display_data"
    },
    {
     "name": "stderr",
     "output_type": "stream",
     "text": [
      "c:\\Users\\andre\\AppData\\Local\\Programs\\Python\\Python312\\Lib\\site-packages\\optuna\\distributions.py:700: UserWarning: The distribution is specified by [5, 70] and step=2, but the range is not divisible by `step`. It will be replaced by [5, 69].\n",
      "  warnings.warn(\n"
     ]
    },
    {
     "name": "stdout",
     "output_type": "stream",
     "text": [
      "[I 2024-05-27 08:37:48,596] Trial 0 finished with value: 0.012943566321821242 and parameters: {'n_estimators': 34, 'max_depth': 51, 'min_samples_split': 10, 'min_samples_leaf': 10}. Best is trial 0 with value: 0.012943566321821242.\n"
     ]
    },
    {
     "name": "stderr",
     "output_type": "stream",
     "text": [
      "c:\\Users\\andre\\AppData\\Local\\Programs\\Python\\Python312\\Lib\\site-packages\\optuna\\distributions.py:700: UserWarning: The distribution is specified by [5, 70] and step=2, but the range is not divisible by `step`. It will be replaced by [5, 69].\n",
      "  warnings.warn(\n"
     ]
    },
    {
     "name": "stdout",
     "output_type": "stream",
     "text": [
      "[I 2024-05-27 08:38:35,222] Trial 1 finished with value: 0.012400308434027256 and parameters: {'n_estimators': 24, 'max_depth': 25, 'min_samples_split': 8, 'min_samples_leaf': 5}. Best is trial 1 with value: 0.012400308434027256.\n"
     ]
    },
    {
     "name": "stderr",
     "output_type": "stream",
     "text": [
      "c:\\Users\\andre\\AppData\\Local\\Programs\\Python\\Python312\\Lib\\site-packages\\optuna\\distributions.py:700: UserWarning: The distribution is specified by [5, 70] and step=2, but the range is not divisible by `step`. It will be replaced by [5, 69].\n",
      "  warnings.warn(\n"
     ]
    },
    {
     "name": "stdout",
     "output_type": "stream",
     "text": [
      "[I 2024-05-27 08:39:42,484] Trial 2 finished with value: 0.013578068955607998 and parameters: {'n_estimators': 48, 'max_depth': 35, 'min_samples_split': 15, 'min_samples_leaf': 15}. Best is trial 1 with value: 0.012400308434027256.\n"
     ]
    },
    {
     "name": "stderr",
     "output_type": "stream",
     "text": [
      "c:\\Users\\andre\\AppData\\Local\\Programs\\Python\\Python312\\Lib\\site-packages\\optuna\\distributions.py:700: UserWarning: The distribution is specified by [5, 70] and step=2, but the range is not divisible by `step`. It will be replaced by [5, 69].\n",
      "  warnings.warn(\n"
     ]
    },
    {
     "name": "stdout",
     "output_type": "stream",
     "text": [
      "[I 2024-05-27 08:40:39,231] Trial 3 finished with value: 0.012771835598957886 and parameters: {'n_estimators': 32, 'max_depth': 31, 'min_samples_split': 19, 'min_samples_leaf': 1}. Best is trial 1 with value: 0.012400308434027256.\n"
     ]
    },
    {
     "name": "stderr",
     "output_type": "stream",
     "text": [
      "c:\\Users\\andre\\AppData\\Local\\Programs\\Python\\Python312\\Lib\\site-packages\\optuna\\distributions.py:700: UserWarning: The distribution is specified by [5, 70] and step=2, but the range is not divisible by `step`. It will be replaced by [5, 69].\n",
      "  warnings.warn(\n"
     ]
    },
    {
     "name": "stdout",
     "output_type": "stream",
     "text": [
      "[I 2024-05-27 08:41:10,043] Trial 4 finished with value: 0.013862361711049638 and parameters: {'n_estimators': 24, 'max_depth': 57, 'min_samples_split': 9, 'min_samples_leaf': 17}. Best is trial 1 with value: 0.012400308434027256.\n"
     ]
    },
    {
     "name": "stderr",
     "output_type": "stream",
     "text": [
      "c:\\Users\\andre\\AppData\\Local\\Programs\\Python\\Python312\\Lib\\site-packages\\optuna\\distributions.py:700: UserWarning: The distribution is specified by [5, 70] and step=2, but the range is not divisible by `step`. It will be replaced by [5, 69].\n",
      "  warnings.warn(\n"
     ]
    },
    {
     "name": "stdout",
     "output_type": "stream",
     "text": [
      "[I 2024-05-27 08:41:46,815] Trial 5 finished with value: 0.01272481991565598 and parameters: {'n_estimators': 26, 'max_depth': 69, 'min_samples_split': 19, 'min_samples_leaf': 5}. Best is trial 1 with value: 0.012400308434027256.\n"
     ]
    },
    {
     "name": "stderr",
     "output_type": "stream",
     "text": [
      "c:\\Users\\andre\\AppData\\Local\\Programs\\Python\\Python312\\Lib\\site-packages\\optuna\\distributions.py:700: UserWarning: The distribution is specified by [5, 70] and step=2, but the range is not divisible by `step`. It will be replaced by [5, 69].\n",
      "  warnings.warn(\n"
     ]
    },
    {
     "name": "stdout",
     "output_type": "stream",
     "text": [
      "[I 2024-05-27 08:42:16,493] Trial 6 finished with value: 0.012450963790385045 and parameters: {'n_estimators': 20, 'max_depth': 13, 'min_samples_split': 11, 'min_samples_leaf': 4}. Best is trial 1 with value: 0.012400308434027256.\n"
     ]
    },
    {
     "name": "stderr",
     "output_type": "stream",
     "text": [
      "c:\\Users\\andre\\AppData\\Local\\Programs\\Python\\Python312\\Lib\\site-packages\\optuna\\distributions.py:700: UserWarning: The distribution is specified by [5, 70] and step=2, but the range is not divisible by `step`. It will be replaced by [5, 69].\n",
      "  warnings.warn(\n"
     ]
    },
    {
     "name": "stdout",
     "output_type": "stream",
     "text": [
      "[I 2024-05-27 08:42:41,275] Trial 7 finished with value: 0.012885458375372144 and parameters: {'n_estimators': 18, 'max_depth': 11, 'min_samples_split': 10, 'min_samples_leaf': 2}. Best is trial 1 with value: 0.012400308434027256.\n"
     ]
    },
    {
     "name": "stderr",
     "output_type": "stream",
     "text": [
      "c:\\Users\\andre\\AppData\\Local\\Programs\\Python\\Python312\\Lib\\site-packages\\optuna\\distributions.py:700: UserWarning: The distribution is specified by [5, 70] and step=2, but the range is not divisible by `step`. It will be replaced by [5, 69].\n",
      "  warnings.warn(\n"
     ]
    },
    {
     "name": "stdout",
     "output_type": "stream",
     "text": [
      "[I 2024-05-27 08:43:04,990] Trial 8 finished with value: 0.012506444939519096 and parameters: {'n_estimators': 14, 'max_depth': 33, 'min_samples_split': 10, 'min_samples_leaf': 2}. Best is trial 1 with value: 0.012400308434027256.\n"
     ]
    },
    {
     "name": "stderr",
     "output_type": "stream",
     "text": [
      "c:\\Users\\andre\\AppData\\Local\\Programs\\Python\\Python312\\Lib\\site-packages\\optuna\\distributions.py:700: UserWarning: The distribution is specified by [5, 70] and step=2, but the range is not divisible by `step`. It will be replaced by [5, 69].\n",
      "  warnings.warn(\n"
     ]
    },
    {
     "name": "stdout",
     "output_type": "stream",
     "text": [
      "[I 2024-05-27 08:43:37,014] Trial 9 finished with value: 0.014481001029221563 and parameters: {'n_estimators': 30, 'max_depth': 9, 'min_samples_split': 11, 'min_samples_leaf': 13}. Best is trial 1 with value: 0.012400308434027256.\n"
     ]
    },
    {
     "name": "stderr",
     "output_type": "stream",
     "text": [
      "c:\\Users\\andre\\AppData\\Local\\Programs\\Python\\Python312\\Lib\\site-packages\\optuna\\distributions.py:700: UserWarning: The distribution is specified by [5, 70] and step=2, but the range is not divisible by `step`. It will be replaced by [5, 69].\n",
      "  warnings.warn(\n"
     ]
    },
    {
     "name": "stdout",
     "output_type": "stream",
     "text": [
      "[I 2024-05-27 08:44:32,538] Trial 10 finished with value: 0.012791923279680074 and parameters: {'n_estimators': 42, 'max_depth': 25, 'min_samples_split': 2, 'min_samples_leaf': 9}. Best is trial 1 with value: 0.012400308434027256.\n"
     ]
    },
    {
     "name": "stderr",
     "output_type": "stream",
     "text": [
      "c:\\Users\\andre\\AppData\\Local\\Programs\\Python\\Python312\\Lib\\site-packages\\optuna\\distributions.py:700: UserWarning: The distribution is specified by [5, 70] and step=2, but the range is not divisible by `step`. It will be replaced by [5, 69].\n",
      "  warnings.warn(\n"
     ]
    },
    {
     "name": "stdout",
     "output_type": "stream",
     "text": [
      "[I 2024-05-27 08:44:47,440] Trial 11 finished with value: 0.012814255588096627 and parameters: {'n_estimators': 10, 'max_depth': 19, 'min_samples_split': 5, 'min_samples_leaf': 6}. Best is trial 1 with value: 0.012400308434027256.\n"
     ]
    },
    {
     "name": "stderr",
     "output_type": "stream",
     "text": [
      "c:\\Users\\andre\\AppData\\Local\\Programs\\Python\\Python312\\Lib\\site-packages\\optuna\\distributions.py:700: UserWarning: The distribution is specified by [5, 70] and step=2, but the range is not divisible by `step`. It will be replaced by [5, 69].\n",
      "  warnings.warn(\n"
     ]
    },
    {
     "name": "stdout",
     "output_type": "stream",
     "text": [
      "[I 2024-05-27 08:45:17,558] Trial 12 finished with value: 0.012605106968751757 and parameters: {'n_estimators': 20, 'max_depth': 19, 'min_samples_split': 6, 'min_samples_leaf': 7}. Best is trial 1 with value: 0.012400308434027256.\n"
     ]
    },
    {
     "name": "stderr",
     "output_type": "stream",
     "text": [
      "c:\\Users\\andre\\AppData\\Local\\Programs\\Python\\Python312\\Lib\\site-packages\\optuna\\distributions.py:700: UserWarning: The distribution is specified by [5, 70] and step=2, but the range is not divisible by `step`. It will be replaced by [5, 69].\n",
      "  warnings.warn(\n"
     ]
    },
    {
     "name": "stdout",
     "output_type": "stream",
     "text": [
      "[I 2024-05-27 08:45:34,440] Trial 13 finished with value: 0.018019503704704704 and parameters: {'n_estimators': 20, 'max_depth': 7, 'min_samples_split': 14, 'min_samples_leaf': 5}. Best is trial 1 with value: 0.012400308434027256.\n"
     ]
    },
    {
     "name": "stderr",
     "output_type": "stream",
     "text": [
      "c:\\Users\\andre\\AppData\\Local\\Programs\\Python\\Python312\\Lib\\site-packages\\optuna\\distributions.py:700: UserWarning: The distribution is specified by [5, 70] and step=2, but the range is not divisible by `step`. It will be replaced by [5, 69].\n",
      "  warnings.warn(\n"
     ]
    },
    {
     "name": "stdout",
     "output_type": "stream",
     "text": [
      "[I 2024-05-27 08:46:17,013] Trial 14 finished with value: 0.014157330972293204 and parameters: {'n_estimators': 38, 'max_depth': 47, 'min_samples_split': 15, 'min_samples_leaf': 20}. Best is trial 1 with value: 0.012400308434027256.\n"
     ]
    },
    {
     "name": "stderr",
     "output_type": "stream",
     "text": [
      "c:\\Users\\andre\\AppData\\Local\\Programs\\Python\\Python312\\Lib\\site-packages\\optuna\\distributions.py:700: UserWarning: The distribution is specified by [5, 70] and step=2, but the range is not divisible by `step`. It will be replaced by [5, 69].\n",
      "  warnings.warn(\n"
     ]
    },
    {
     "name": "stdout",
     "output_type": "stream",
     "text": [
      "[I 2024-05-27 08:46:58,247] Trial 15 finished with value: 0.012284982264887685 and parameters: {'n_estimators': 26, 'max_depth': 19, 'min_samples_split': 7, 'min_samples_leaf': 4}. Best is trial 15 with value: 0.012284982264887685.\n"
     ]
    },
    {
     "name": "stderr",
     "output_type": "stream",
     "text": [
      "c:\\Users\\andre\\AppData\\Local\\Programs\\Python\\Python312\\Lib\\site-packages\\optuna\\distributions.py:700: UserWarning: The distribution is specified by [5, 70] and step=2, but the range is not divisible by `step`. It will be replaced by [5, 69].\n",
      "  warnings.warn(\n"
     ]
    },
    {
     "name": "stdout",
     "output_type": "stream",
     "text": [
      "[I 2024-05-27 08:47:33,558] Trial 16 finished with value: 0.012715602673176512 and parameters: {'n_estimators': 26, 'max_depth': 23, 'min_samples_split': 7, 'min_samples_leaf': 8}. Best is trial 15 with value: 0.012284982264887685.\n"
     ]
    },
    {
     "name": "stderr",
     "output_type": "stream",
     "text": [
      "c:\\Users\\andre\\AppData\\Local\\Programs\\Python\\Python312\\Lib\\site-packages\\optuna\\distributions.py:700: UserWarning: The distribution is specified by [5, 70] and step=2, but the range is not divisible by `step`. It will be replaced by [5, 69].\n",
      "  warnings.warn(\n"
     ]
    },
    {
     "name": "stdout",
     "output_type": "stream",
     "text": [
      "[I 2024-05-27 08:48:20,940] Trial 17 finished with value: 0.013182496743972589 and parameters: {'n_estimators': 38, 'max_depth': 43, 'min_samples_split': 2, 'min_samples_leaf': 12}. Best is trial 15 with value: 0.012284982264887685.\n"
     ]
    },
    {
     "name": "stderr",
     "output_type": "stream",
     "text": [
      "c:\\Users\\andre\\AppData\\Local\\Programs\\Python\\Python312\\Lib\\site-packages\\optuna\\distributions.py:700: UserWarning: The distribution is specified by [5, 70] and step=2, but the range is not divisible by `step`. It will be replaced by [5, 69].\n",
      "  warnings.warn(\n"
     ]
    },
    {
     "name": "stdout",
     "output_type": "stream",
     "text": [
      "[I 2024-05-27 08:49:11,393] Trial 18 finished with value: 0.012210449080258713 and parameters: {'n_estimators': 30, 'max_depth': 27, 'min_samples_split': 4, 'min_samples_leaf': 3}. Best is trial 18 with value: 0.012210449080258713.\n"
     ]
    },
    {
     "name": "stderr",
     "output_type": "stream",
     "text": [
      "c:\\Users\\andre\\AppData\\Local\\Programs\\Python\\Python312\\Lib\\site-packages\\optuna\\distributions.py:700: UserWarning: The distribution is specified by [5, 70] and step=2, but the range is not divisible by `step`. It will be replaced by [5, 69].\n",
      "  warnings.warn(\n"
     ]
    },
    {
     "name": "stdout",
     "output_type": "stream",
     "text": [
      "[I 2024-05-27 08:50:35,968] Trial 19 finished with value: 0.012091687875892205 and parameters: {'n_estimators': 50, 'max_depth': 41, 'min_samples_split': 4, 'min_samples_leaf': 3}. Best is trial 19 with value: 0.012091687875892205.\n"
     ]
    },
    {
     "name": "stderr",
     "output_type": "stream",
     "text": [
      "c:\\Users\\andre\\AppData\\Local\\Programs\\Python\\Python312\\Lib\\site-packages\\optuna\\distributions.py:700: UserWarning: The distribution is specified by [5, 70] and step=2, but the range is not divisible by `step`. It will be replaced by [5, 69].\n",
      "  warnings.warn(\n"
     ]
    },
    {
     "name": "stdout",
     "output_type": "stream",
     "text": [
      "[I 2024-05-27 08:52:13,496] Trial 20 finished with value: 0.012178583111690388 and parameters: {'n_estimators': 50, 'max_depth': 41, 'min_samples_split': 4, 'min_samples_leaf': 1}. Best is trial 19 with value: 0.012091687875892205.\n"
     ]
    },
    {
     "name": "stderr",
     "output_type": "stream",
     "text": [
      "c:\\Users\\andre\\AppData\\Local\\Programs\\Python\\Python312\\Lib\\site-packages\\optuna\\distributions.py:700: UserWarning: The distribution is specified by [5, 70] and step=2, but the range is not divisible by `step`. It will be replaced by [5, 69].\n",
      "  warnings.warn(\n"
     ]
    },
    {
     "name": "stdout",
     "output_type": "stream",
     "text": [
      "[I 2024-05-27 08:53:51,610] Trial 21 finished with value: 0.012178583111690388 and parameters: {'n_estimators': 50, 'max_depth': 41, 'min_samples_split': 4, 'min_samples_leaf': 1}. Best is trial 19 with value: 0.012091687875892205.\n"
     ]
    },
    {
     "name": "stderr",
     "output_type": "stream",
     "text": [
      "c:\\Users\\andre\\AppData\\Local\\Programs\\Python\\Python312\\Lib\\site-packages\\optuna\\distributions.py:700: UserWarning: The distribution is specified by [5, 70] and step=2, but the range is not divisible by `step`. It will be replaced by [5, 69].\n",
      "  warnings.warn(\n"
     ]
    },
    {
     "name": "stdout",
     "output_type": "stream",
     "text": [
      "[I 2024-05-27 08:55:27,573] Trial 22 finished with value: 0.012178583111690388 and parameters: {'n_estimators': 50, 'max_depth': 41, 'min_samples_split': 4, 'min_samples_leaf': 1}. Best is trial 19 with value: 0.012091687875892205.\n"
     ]
    },
    {
     "name": "stderr",
     "output_type": "stream",
     "text": [
      "c:\\Users\\andre\\AppData\\Local\\Programs\\Python\\Python312\\Lib\\site-packages\\optuna\\distributions.py:700: UserWarning: The distribution is specified by [5, 70] and step=2, but the range is not divisible by `step`. It will be replaced by [5, 69].\n",
      "  warnings.warn(\n"
     ]
    },
    {
     "name": "stdout",
     "output_type": "stream",
     "text": [
      "[I 2024-05-27 08:56:59,689] Trial 23 finished with value: 0.01218005095916387 and parameters: {'n_estimators': 46, 'max_depth': 57, 'min_samples_split': 3, 'min_samples_leaf': 1}. Best is trial 19 with value: 0.012091687875892205.\n"
     ]
    },
    {
     "name": "stderr",
     "output_type": "stream",
     "text": [
      "c:\\Users\\andre\\AppData\\Local\\Programs\\Python\\Python312\\Lib\\site-packages\\optuna\\distributions.py:700: UserWarning: The distribution is specified by [5, 70] and step=2, but the range is not divisible by `step`. It will be replaced by [5, 69].\n",
      "  warnings.warn(\n"
     ]
    },
    {
     "name": "stdout",
     "output_type": "stream",
     "text": [
      "[I 2024-05-27 08:58:12,513] Trial 24 finished with value: 0.012103543562053577 and parameters: {'n_estimators': 44, 'max_depth': 51, 'min_samples_split': 5, 'min_samples_leaf': 3}. Best is trial 19 with value: 0.012091687875892205.\n"
     ]
    },
    {
     "name": "stderr",
     "output_type": "stream",
     "text": [
      "c:\\Users\\andre\\AppData\\Local\\Programs\\Python\\Python312\\Lib\\site-packages\\optuna\\distributions.py:700: UserWarning: The distribution is specified by [5, 70] and step=2, but the range is not divisible by `step`. It will be replaced by [5, 69].\n",
      "  warnings.warn(\n"
     ]
    },
    {
     "name": "stdout",
     "output_type": "stream",
     "text": [
      "[I 2024-05-27 08:59:26,581] Trial 25 finished with value: 0.012103543562053577 and parameters: {'n_estimators': 44, 'max_depth': 55, 'min_samples_split': 6, 'min_samples_leaf': 3}. Best is trial 19 with value: 0.012091687875892205.\n"
     ]
    },
    {
     "name": "stderr",
     "output_type": "stream",
     "text": [
      "c:\\Users\\andre\\AppData\\Local\\Programs\\Python\\Python312\\Lib\\site-packages\\optuna\\distributions.py:700: UserWarning: The distribution is specified by [5, 70] and step=2, but the range is not divisible by `step`. It will be replaced by [5, 69].\n",
      "  warnings.warn(\n"
     ]
    },
    {
     "name": "stdout",
     "output_type": "stream",
     "text": [
      "[I 2024-05-27 09:00:24,491] Trial 26 finished with value: 0.01250677582579764 and parameters: {'n_estimators': 42, 'max_depth': 63, 'min_samples_split': 6, 'min_samples_leaf': 7}. Best is trial 19 with value: 0.012091687875892205.\n"
     ]
    },
    {
     "name": "stderr",
     "output_type": "stream",
     "text": [
      "c:\\Users\\andre\\AppData\\Local\\Programs\\Python\\Python312\\Lib\\site-packages\\optuna\\distributions.py:700: UserWarning: The distribution is specified by [5, 70] and step=2, but the range is not divisible by `step`. It will be replaced by [5, 69].\n",
      "  warnings.warn(\n"
     ]
    },
    {
     "name": "stdout",
     "output_type": "stream",
     "text": [
      "[I 2024-05-27 09:01:32,600] Trial 27 finished with value: 0.012315886544905947 and parameters: {'n_estimators': 44, 'max_depth': 53, 'min_samples_split': 13, 'min_samples_leaf': 3}. Best is trial 19 with value: 0.012091687875892205.\n"
     ]
    },
    {
     "name": "stderr",
     "output_type": "stream",
     "text": [
      "c:\\Users\\andre\\AppData\\Local\\Programs\\Python\\Python312\\Lib\\site-packages\\optuna\\distributions.py:700: UserWarning: The distribution is specified by [5, 70] and step=2, but the range is not divisible by `step`. It will be replaced by [5, 69].\n",
      "  warnings.warn(\n"
     ]
    },
    {
     "name": "stdout",
     "output_type": "stream",
     "text": [
      "[I 2024-05-27 09:02:24,954] Trial 28 finished with value: 0.012505949563368014 and parameters: {'n_estimators': 38, 'max_depth': 63, 'min_samples_split': 6, 'min_samples_leaf': 7}. Best is trial 19 with value: 0.012091687875892205.\n"
     ]
    },
    {
     "name": "stderr",
     "output_type": "stream",
     "text": [
      "c:\\Users\\andre\\AppData\\Local\\Programs\\Python\\Python312\\Lib\\site-packages\\optuna\\distributions.py:700: UserWarning: The distribution is specified by [5, 70] and step=2, but the range is not divisible by `step`. It will be replaced by [5, 69].\n",
      "  warnings.warn(\n"
     ]
    },
    {
     "name": "stdout",
     "output_type": "stream",
     "text": [
      "[I 2024-05-27 09:03:23,262] Trial 29 finished with value: 0.012915816846904809 and parameters: {'n_estimators': 46, 'max_depth': 51, 'min_samples_split': 8, 'min_samples_leaf': 10}. Best is trial 19 with value: 0.012091687875892205.\n"
     ]
    },
    {
     "name": "stderr",
     "output_type": "stream",
     "text": [
      "c:\\Users\\andre\\AppData\\Local\\Programs\\Python\\Python312\\Lib\\site-packages\\optuna\\distributions.py:700: UserWarning: The distribution is specified by [5, 70] and step=2, but the range is not divisible by `step`. It will be replaced by [5, 69].\n",
      "  warnings.warn(\n"
     ]
    },
    {
     "name": "stdout",
     "output_type": "stream",
     "text": [
      "[I 2024-05-27 09:04:13,101] Trial 30 finished with value: 0.013204585663413022 and parameters: {'n_estimators': 40, 'max_depth': 49, 'min_samples_split': 2, 'min_samples_leaf': 12}. Best is trial 19 with value: 0.012091687875892205.\n"
     ]
    },
    {
     "name": "stderr",
     "output_type": "stream",
     "text": [
      "c:\\Users\\andre\\AppData\\Local\\Programs\\Python\\Python312\\Lib\\site-packages\\optuna\\distributions.py:700: UserWarning: The distribution is specified by [5, 70] and step=2, but the range is not divisible by `step`. It will be replaced by [5, 69].\n",
      "  warnings.warn(\n"
     ]
    },
    {
     "name": "stdout",
     "output_type": "stream",
     "text": [
      "[I 2024-05-27 09:05:30,383] Trial 31 finished with value: 0.012095484937240846 and parameters: {'n_estimators': 46, 'max_depth': 45, 'min_samples_split': 5, 'min_samples_leaf': 3}. Best is trial 19 with value: 0.012091687875892205.\n"
     ]
    },
    {
     "name": "stderr",
     "output_type": "stream",
     "text": [
      "c:\\Users\\andre\\AppData\\Local\\Programs\\Python\\Python312\\Lib\\site-packages\\optuna\\distributions.py:700: UserWarning: The distribution is specified by [5, 70] and step=2, but the range is not divisible by `step`. It will be replaced by [5, 69].\n",
      "  warnings.warn(\n"
     ]
    },
    {
     "name": "stdout",
     "output_type": "stream",
     "text": [
      "[I 2024-05-27 09:06:46,450] Trial 32 finished with value: 0.012095484937240846 and parameters: {'n_estimators': 46, 'max_depth': 45, 'min_samples_split': 5, 'min_samples_leaf': 3}. Best is trial 19 with value: 0.012091687875892205.\n"
     ]
    },
    {
     "name": "stderr",
     "output_type": "stream",
     "text": [
      "c:\\Users\\andre\\AppData\\Local\\Programs\\Python\\Python312\\Lib\\site-packages\\optuna\\distributions.py:700: UserWarning: The distribution is specified by [5, 70] and step=2, but the range is not divisible by `step`. It will be replaced by [5, 69].\n",
      "  warnings.warn(\n"
     ]
    },
    {
     "name": "stdout",
     "output_type": "stream",
     "text": [
      "[I 2024-05-27 09:08:02,018] Trial 33 finished with value: 0.01216274880160485 and parameters: {'n_estimators': 46, 'max_depth': 45, 'min_samples_split': 5, 'min_samples_leaf': 4}. Best is trial 19 with value: 0.012091687875892205.\n"
     ]
    },
    {
     "name": "stderr",
     "output_type": "stream",
     "text": [
      "c:\\Users\\andre\\AppData\\Local\\Programs\\Python\\Python312\\Lib\\site-packages\\optuna\\distributions.py:700: UserWarning: The distribution is specified by [5, 70] and step=2, but the range is not divisible by `step`. It will be replaced by [5, 69].\n",
      "  warnings.warn(\n"
     ]
    },
    {
     "name": "stdout",
     "output_type": "stream",
     "text": [
      "[I 2024-05-27 09:08:50,671] Trial 34 finished with value: 0.012413034359504919 and parameters: {'n_estimators': 34, 'max_depth': 39, 'min_samples_split': 3, 'min_samples_leaf': 6}. Best is trial 19 with value: 0.012091687875892205.\n"
     ]
    },
    {
     "name": "stderr",
     "output_type": "stream",
     "text": [
      "c:\\Users\\andre\\AppData\\Local\\Programs\\Python\\Python312\\Lib\\site-packages\\optuna\\distributions.py:700: UserWarning: The distribution is specified by [5, 70] and step=2, but the range is not divisible by `step`. It will be replaced by [5, 69].\n",
      "  warnings.warn(\n"
     ]
    },
    {
     "name": "stdout",
     "output_type": "stream",
     "text": [
      "[I 2024-05-27 09:10:08,338] Trial 35 finished with value: 0.01217944756496205 and parameters: {'n_estimators': 48, 'max_depth': 35, 'min_samples_split': 9, 'min_samples_leaf': 3}. Best is trial 19 with value: 0.012091687875892205.\n"
     ]
    },
    {
     "name": "stderr",
     "output_type": "stream",
     "text": [
      "c:\\Users\\andre\\AppData\\Local\\Programs\\Python\\Python312\\Lib\\site-packages\\optuna\\distributions.py:700: UserWarning: The distribution is specified by [5, 70] and step=2, but the range is not divisible by `step`. It will be replaced by [5, 69].\n",
      "  warnings.warn(\n"
     ]
    },
    {
     "name": "stdout",
     "output_type": "stream",
     "text": [
      "[I 2024-05-27 09:11:21,777] Trial 36 finished with value: 0.012284517952358466 and parameters: {'n_estimators': 48, 'max_depth': 37, 'min_samples_split': 8, 'min_samples_leaf': 5}. Best is trial 19 with value: 0.012091687875892205.\n"
     ]
    },
    {
     "name": "stderr",
     "output_type": "stream",
     "text": [
      "c:\\Users\\andre\\AppData\\Local\\Programs\\Python\\Python312\\Lib\\site-packages\\optuna\\distributions.py:700: UserWarning: The distribution is specified by [5, 70] and step=2, but the range is not divisible by `step`. It will be replaced by [5, 69].\n",
      "  warnings.warn(\n"
     ]
    },
    {
     "name": "stdout",
     "output_type": "stream",
     "text": [
      "[I 2024-05-27 09:12:10,459] Trial 37 finished with value: 0.013730707616831865 and parameters: {'n_estimators': 42, 'max_depth': 47, 'min_samples_split': 5, 'min_samples_leaf': 16}. Best is trial 19 with value: 0.012091687875892205.\n"
     ]
    },
    {
     "name": "stderr",
     "output_type": "stream",
     "text": [
      "c:\\Users\\andre\\AppData\\Local\\Programs\\Python\\Python312\\Lib\\site-packages\\optuna\\distributions.py:700: UserWarning: The distribution is specified by [5, 70] and step=2, but the range is not divisible by `step`. It will be replaced by [5, 69].\n",
      "  warnings.warn(\n"
     ]
    },
    {
     "name": "stdout",
     "output_type": "stream",
     "text": [
      "[I 2024-05-27 09:13:15,603] Trial 38 finished with value: 0.012123185878091717 and parameters: {'n_estimators': 36, 'max_depth': 61, 'min_samples_split': 3, 'min_samples_leaf': 2}. Best is trial 19 with value: 0.012091687875892205.\n"
     ]
    },
    {
     "name": "stderr",
     "output_type": "stream",
     "text": [
      "c:\\Users\\andre\\AppData\\Local\\Programs\\Python\\Python312\\Lib\\site-packages\\optuna\\distributions.py:700: UserWarning: The distribution is specified by [5, 70] and step=2, but the range is not divisible by `step`. It will be replaced by [5, 69].\n",
      "  warnings.warn(\n"
     ]
    },
    {
     "name": "stdout",
     "output_type": "stream",
     "text": [
      "[I 2024-05-27 09:14:18,311] Trial 39 finished with value: 0.012379386392510846 and parameters: {'n_estimators': 44, 'max_depth': 51, 'min_samples_split': 7, 'min_samples_leaf': 6}. Best is trial 19 with value: 0.012091687875892205.\n"
     ]
    },
    {
     "name": "stderr",
     "output_type": "stream",
     "text": [
      "c:\\Users\\andre\\AppData\\Local\\Programs\\Python\\Python312\\Lib\\site-packages\\optuna\\distributions.py:700: UserWarning: The distribution is specified by [5, 70] and step=2, but the range is not divisible by `step`. It will be replaced by [5, 69].\n",
      "  warnings.warn(\n"
     ]
    },
    {
     "name": "stdout",
     "output_type": "stream",
     "text": [
      "[I 2024-05-27 09:15:25,722] Trial 40 finished with value: 0.012609498113939613 and parameters: {'n_estimators': 48, 'max_depth': 31, 'min_samples_split': 20, 'min_samples_leaf': 4}. Best is trial 19 with value: 0.012091687875892205.\n"
     ]
    },
    {
     "name": "stderr",
     "output_type": "stream",
     "text": [
      "c:\\Users\\andre\\AppData\\Local\\Programs\\Python\\Python312\\Lib\\site-packages\\optuna\\distributions.py:700: UserWarning: The distribution is specified by [5, 70] and step=2, but the range is not divisible by `step`. It will be replaced by [5, 69].\n",
      "  warnings.warn(\n"
     ]
    },
    {
     "name": "stdout",
     "output_type": "stream",
     "text": [
      "[I 2024-05-27 09:16:39,258] Trial 41 finished with value: 0.012103543562053577 and parameters: {'n_estimators': 44, 'max_depth': 55, 'min_samples_split': 5, 'min_samples_leaf': 3}. Best is trial 19 with value: 0.012091687875892205.\n"
     ]
    },
    {
     "name": "stderr",
     "output_type": "stream",
     "text": [
      "c:\\Users\\andre\\AppData\\Local\\Programs\\Python\\Python312\\Lib\\site-packages\\optuna\\distributions.py:700: UserWarning: The distribution is specified by [5, 70] and step=2, but the range is not divisible by `step`. It will be replaced by [5, 69].\n",
      "  warnings.warn(\n"
     ]
    },
    {
     "name": "stdout",
     "output_type": "stream",
     "text": [
      "[I 2024-05-27 09:18:00,637] Trial 42 finished with value: 0.012132940270962273 and parameters: {'n_estimators': 46, 'max_depth': 59, 'min_samples_split': 6, 'min_samples_leaf': 2}. Best is trial 19 with value: 0.012091687875892205.\n"
     ]
    },
    {
     "name": "stderr",
     "output_type": "stream",
     "text": [
      "c:\\Users\\andre\\AppData\\Local\\Programs\\Python\\Python312\\Lib\\site-packages\\optuna\\distributions.py:700: UserWarning: The distribution is specified by [5, 70] and step=2, but the range is not divisible by `step`. It will be replaced by [5, 69].\n",
      "  warnings.warn(\n"
     ]
    },
    {
     "name": "stdout",
     "output_type": "stream",
     "text": [
      "[I 2024-05-27 09:18:59,705] Trial 43 finished with value: 0.012302471479805554 and parameters: {'n_estimators': 40, 'max_depth': 45, 'min_samples_split': 9, 'min_samples_leaf': 5}. Best is trial 19 with value: 0.012091687875892205.\n"
     ]
    },
    {
     "name": "stderr",
     "output_type": "stream",
     "text": [
      "c:\\Users\\andre\\AppData\\Local\\Programs\\Python\\Python312\\Lib\\site-packages\\optuna\\distributions.py:700: UserWarning: The distribution is specified by [5, 70] and step=2, but the range is not divisible by `step`. It will be replaced by [5, 69].\n",
      "  warnings.warn(\n"
     ]
    },
    {
     "name": "stdout",
     "output_type": "stream",
     "text": [
      "[I 2024-05-27 09:20:26,682] Trial 44 finished with value: 0.012094863628534866 and parameters: {'n_estimators': 48, 'max_depth': 69, 'min_samples_split': 3, 'min_samples_leaf': 2}. Best is trial 19 with value: 0.012091687875892205.\n"
     ]
    },
    {
     "name": "stderr",
     "output_type": "stream",
     "text": [
      "c:\\Users\\andre\\AppData\\Local\\Programs\\Python\\Python312\\Lib\\site-packages\\optuna\\distributions.py:700: UserWarning: The distribution is specified by [5, 70] and step=2, but the range is not divisible by `step`. It will be replaced by [5, 69].\n",
      "  warnings.warn(\n"
     ]
    },
    {
     "name": "stdout",
     "output_type": "stream",
     "text": [
      "[I 2024-05-27 09:21:57,165] Trial 45 finished with value: 0.012107475934130254 and parameters: {'n_estimators': 50, 'max_depth': 65, 'min_samples_split': 3, 'min_samples_leaf': 2}. Best is trial 19 with value: 0.012091687875892205.\n"
     ]
    },
    {
     "name": "stderr",
     "output_type": "stream",
     "text": [
      "c:\\Users\\andre\\AppData\\Local\\Programs\\Python\\Python312\\Lib\\site-packages\\optuna\\distributions.py:700: UserWarning: The distribution is specified by [5, 70] and step=2, but the range is not divisible by `step`. It will be replaced by [5, 69].\n",
      "  warnings.warn(\n"
     ]
    },
    {
     "name": "stdout",
     "output_type": "stream",
     "text": [
      "[I 2024-05-27 09:23:06,131] Trial 46 finished with value: 0.01252743648392719 and parameters: {'n_estimators': 48, 'max_depth': 69, 'min_samples_split': 18, 'min_samples_leaf': 4}. Best is trial 19 with value: 0.012091687875892205.\n"
     ]
    },
    {
     "name": "stderr",
     "output_type": "stream",
     "text": [
      "c:\\Users\\andre\\AppData\\Local\\Programs\\Python\\Python312\\Lib\\site-packages\\optuna\\distributions.py:700: UserWarning: The distribution is specified by [5, 70] and step=2, but the range is not divisible by `step`. It will be replaced by [5, 69].\n",
      "  warnings.warn(\n"
     ]
    },
    {
     "name": "stdout",
     "output_type": "stream",
     "text": [
      "[I 2024-05-27 09:23:58,468] Trial 47 finished with value: 0.012803628325183496 and parameters: {'n_estimators': 40, 'max_depth': 35, 'min_samples_split': 2, 'min_samples_leaf': 9}. Best is trial 19 with value: 0.012091687875892205.\n"
     ]
    },
    {
     "name": "stderr",
     "output_type": "stream",
     "text": [
      "c:\\Users\\andre\\AppData\\Local\\Programs\\Python\\Python312\\Lib\\site-packages\\optuna\\distributions.py:700: UserWarning: The distribution is specified by [5, 70] and step=2, but the range is not divisible by `step`. It will be replaced by [5, 69].\n",
      "  warnings.warn(\n"
     ]
    },
    {
     "name": "stdout",
     "output_type": "stream",
     "text": [
      "[I 2024-05-27 09:25:05,636] Trial 48 finished with value: 0.012330889395662407 and parameters: {'n_estimators': 42, 'max_depth': 49, 'min_samples_split': 12, 'min_samples_leaf': 2}. Best is trial 19 with value: 0.012091687875892205.\n"
     ]
    },
    {
     "name": "stderr",
     "output_type": "stream",
     "text": [
      "c:\\Users\\andre\\AppData\\Local\\Programs\\Python\\Python312\\Lib\\site-packages\\optuna\\distributions.py:700: UserWarning: The distribution is specified by [5, 70] and step=2, but the range is not divisible by `step`. It will be replaced by [5, 69].\n",
      "  warnings.warn(\n"
     ]
    },
    {
     "name": "stdout",
     "output_type": "stream",
     "text": [
      "[I 2024-05-27 09:25:55,725] Trial 49 finished with value: 0.014146756317157028 and parameters: {'n_estimators': 46, 'max_depth': 29, 'min_samples_split': 4, 'min_samples_leaf': 20}. Best is trial 19 with value: 0.012091687875892205.\n"
     ]
    },
    {
     "name": "stderr",
     "output_type": "stream",
     "text": [
      "c:\\Users\\andre\\AppData\\Local\\Programs\\Python\\Python312\\Lib\\site-packages\\optuna\\distributions.py:700: UserWarning: The distribution is specified by [5, 70] and step=2, but the range is not divisible by `step`. It will be replaced by [5, 69].\n",
      "  warnings.warn(\n"
     ]
    },
    {
     "name": "stdout",
     "output_type": "stream",
     "text": [
      "[I 2024-05-27 09:27:10,031] Trial 50 finished with value: 0.012294015552332262 and parameters: {'n_estimators': 50, 'max_depth': 69, 'min_samples_split': 8, 'min_samples_leaf': 5}. Best is trial 19 with value: 0.012091687875892205.\n"
     ]
    },
    {
     "name": "stderr",
     "output_type": "stream",
     "text": [
      "c:\\Users\\andre\\AppData\\Local\\Programs\\Python\\Python312\\Lib\\site-packages\\optuna\\distributions.py:700: UserWarning: The distribution is specified by [5, 70] and step=2, but the range is not divisible by `step`. It will be replaced by [5, 69].\n",
      "  warnings.warn(\n"
     ]
    },
    {
     "name": "stdout",
     "output_type": "stream",
     "text": [
      "[I 2024-05-27 09:28:22,324] Trial 51 finished with value: 0.012103543562053577 and parameters: {'n_estimators': 44, 'max_depth': 55, 'min_samples_split': 5, 'min_samples_leaf': 3}. Best is trial 19 with value: 0.012091687875892205.\n"
     ]
    },
    {
     "name": "stderr",
     "output_type": "stream",
     "text": [
      "c:\\Users\\andre\\AppData\\Local\\Programs\\Python\\Python312\\Lib\\site-packages\\optuna\\distributions.py:700: UserWarning: The distribution is specified by [5, 70] and step=2, but the range is not divisible by `step`. It will be replaced by [5, 69].\n",
      "  warnings.warn(\n"
     ]
    },
    {
     "name": "stdout",
     "output_type": "stream",
     "text": [
      "[I 2024-05-27 09:29:34,996] Trial 52 finished with value: 0.012121953946371174 and parameters: {'n_estimators': 44, 'max_depth': 45, 'min_samples_split': 7, 'min_samples_leaf': 3}. Best is trial 19 with value: 0.012091687875892205.\n"
     ]
    },
    {
     "name": "stderr",
     "output_type": "stream",
     "text": [
      "c:\\Users\\andre\\AppData\\Local\\Programs\\Python\\Python312\\Lib\\site-packages\\optuna\\distributions.py:700: UserWarning: The distribution is specified by [5, 70] and step=2, but the range is not divisible by `step`. It will be replaced by [5, 69].\n",
      "  warnings.warn(\n"
     ]
    },
    {
     "name": "stdout",
     "output_type": "stream",
     "text": [
      "[I 2024-05-27 09:30:49,744] Trial 53 finished with value: 0.012166081683821389 and parameters: {'n_estimators': 48, 'max_depth': 53, 'min_samples_split': 6, 'min_samples_leaf': 4}. Best is trial 19 with value: 0.012091687875892205.\n"
     ]
    },
    {
     "name": "stderr",
     "output_type": "stream",
     "text": [
      "c:\\Users\\andre\\AppData\\Local\\Programs\\Python\\Python312\\Lib\\site-packages\\optuna\\distributions.py:700: UserWarning: The distribution is specified by [5, 70] and step=2, but the range is not divisible by `step`. It will be replaced by [5, 69].\n",
      "  warnings.warn(\n"
     ]
    },
    {
     "name": "stdout",
     "output_type": "stream",
     "text": [
      "[I 2024-05-27 09:32:21,990] Trial 54 finished with value: 0.012107475934130254 and parameters: {'n_estimators': 50, 'max_depth': 39, 'min_samples_split': 3, 'min_samples_leaf': 2}. Best is trial 19 with value: 0.012091687875892205.\n"
     ]
    },
    {
     "name": "stderr",
     "output_type": "stream",
     "text": [
      "c:\\Users\\andre\\AppData\\Local\\Programs\\Python\\Python312\\Lib\\site-packages\\optuna\\distributions.py:700: UserWarning: The distribution is specified by [5, 70] and step=2, but the range is not divisible by `step`. It will be replaced by [5, 69].\n",
      "  warnings.warn(\n"
     ]
    },
    {
     "name": "stdout",
     "output_type": "stream",
     "text": [
      "[I 2024-05-27 09:33:27,315] Trial 55 finished with value: 0.012382899465440408 and parameters: {'n_estimators': 46, 'max_depth': 43, 'min_samples_split': 4, 'min_samples_leaf': 6}. Best is trial 19 with value: 0.012091687875892205.\n"
     ]
    },
    {
     "name": "stderr",
     "output_type": "stream",
     "text": [
      "c:\\Users\\andre\\AppData\\Local\\Programs\\Python\\Python312\\Lib\\site-packages\\optuna\\distributions.py:700: UserWarning: The distribution is specified by [5, 70] and step=2, but the range is not divisible by `step`. It will be replaced by [5, 69].\n",
      "  warnings.warn(\n"
     ]
    },
    {
     "name": "stdout",
     "output_type": "stream",
     "text": [
      "[I 2024-05-27 09:34:47,188] Trial 56 finished with value: 0.012267434643375163 and parameters: {'n_estimators': 42, 'max_depth': 49, 'min_samples_split': 5, 'min_samples_leaf': 1}. Best is trial 19 with value: 0.012091687875892205.\n"
     ]
    },
    {
     "name": "stderr",
     "output_type": "stream",
     "text": [
      "c:\\Users\\andre\\AppData\\Local\\Programs\\Python\\Python312\\Lib\\site-packages\\optuna\\distributions.py:700: UserWarning: The distribution is specified by [5, 70] and step=2, but the range is not divisible by `step`. It will be replaced by [5, 69].\n",
      "  warnings.warn(\n"
     ]
    },
    {
     "name": "stdout",
     "output_type": "stream",
     "text": [
      "[I 2024-05-27 09:36:01,830] Trial 57 finished with value: 0.012166081683821389 and parameters: {'n_estimators': 48, 'max_depth': 57, 'min_samples_split': 6, 'min_samples_leaf': 4}. Best is trial 19 with value: 0.012091687875892205.\n"
     ]
    },
    {
     "name": "stderr",
     "output_type": "stream",
     "text": [
      "c:\\Users\\andre\\AppData\\Local\\Programs\\Python\\Python312\\Lib\\site-packages\\optuna\\distributions.py:700: UserWarning: The distribution is specified by [5, 70] and step=2, but the range is not divisible by `step`. It will be replaced by [5, 69].\n",
      "  warnings.warn(\n"
     ]
    },
    {
     "name": "stdout",
     "output_type": "stream",
     "text": [
      "[I 2024-05-27 09:36:55,330] Trial 58 finished with value: 0.012308742307375107 and parameters: {'n_estimators': 36, 'max_depth': 65, 'min_samples_split': 4, 'min_samples_leaf': 5}. Best is trial 19 with value: 0.012091687875892205.\n"
     ]
    },
    {
     "name": "stderr",
     "output_type": "stream",
     "text": [
      "c:\\Users\\andre\\AppData\\Local\\Programs\\Python\\Python312\\Lib\\site-packages\\optuna\\distributions.py:700: UserWarning: The distribution is specified by [5, 70] and step=2, but the range is not divisible by `step`. It will be replaced by [5, 69].\n",
      "  warnings.warn(\n"
     ]
    },
    {
     "name": "stdout",
     "output_type": "stream",
     "text": [
      "[I 2024-05-27 09:37:16,897] Trial 59 finished with value: 0.012880124056656284 and parameters: {'n_estimators': 16, 'max_depth': 43, 'min_samples_split': 17, 'min_samples_leaf': 8}. Best is trial 19 with value: 0.012091687875892205.\n"
     ]
    },
    {
     "name": "stderr",
     "output_type": "stream",
     "text": [
      "c:\\Users\\andre\\AppData\\Local\\Programs\\Python\\Python312\\Lib\\site-packages\\optuna\\distributions.py:700: UserWarning: The distribution is specified by [5, 70] and step=2, but the range is not divisible by `step`. It will be replaced by [5, 69].\n",
      "  warnings.warn(\n"
     ]
    },
    {
     "name": "stdout",
     "output_type": "stream",
     "text": [
      "[I 2024-05-27 09:37:35,539] Trial 60 finished with value: 0.012938801963584953 and parameters: {'n_estimators': 10, 'max_depth': 47, 'min_samples_split': 7, 'min_samples_leaf': 1}. Best is trial 19 with value: 0.012091687875892205.\n"
     ]
    },
    {
     "name": "stderr",
     "output_type": "stream",
     "text": [
      "c:\\Users\\andre\\AppData\\Local\\Programs\\Python\\Python312\\Lib\\site-packages\\optuna\\distributions.py:700: UserWarning: The distribution is specified by [5, 70] and step=2, but the range is not divisible by `step`. It will be replaced by [5, 69].\n",
      "  warnings.warn(\n"
     ]
    },
    {
     "name": "stdout",
     "output_type": "stream",
     "text": [
      "[I 2024-05-27 09:38:51,844] Trial 61 finished with value: 0.012103543562053577 and parameters: {'n_estimators': 44, 'max_depth': 55, 'min_samples_split': 5, 'min_samples_leaf': 3}. Best is trial 19 with value: 0.012091687875892205.\n"
     ]
    },
    {
     "name": "stderr",
     "output_type": "stream",
     "text": [
      "c:\\Users\\andre\\AppData\\Local\\Programs\\Python\\Python312\\Lib\\site-packages\\optuna\\distributions.py:700: UserWarning: The distribution is specified by [5, 70] and step=2, but the range is not divisible by `step`. It will be replaced by [5, 69].\n",
      "  warnings.warn(\n"
     ]
    },
    {
     "name": "stdout",
     "output_type": "stream",
     "text": [
      "[I 2024-05-27 09:40:13,453] Trial 62 finished with value: 0.012111437548123152 and parameters: {'n_estimators': 44, 'max_depth': 53, 'min_samples_split': 2, 'min_samples_leaf': 2}. Best is trial 19 with value: 0.012091687875892205.\n"
     ]
    },
    {
     "name": "stderr",
     "output_type": "stream",
     "text": [
      "c:\\Users\\andre\\AppData\\Local\\Programs\\Python\\Python312\\Lib\\site-packages\\optuna\\distributions.py:700: UserWarning: The distribution is specified by [5, 70] and step=2, but the range is not divisible by `step`. It will be replaced by [5, 69].\n",
      "  warnings.warn(\n"
     ]
    },
    {
     "name": "stdout",
     "output_type": "stream",
     "text": [
      "[I 2024-05-27 09:41:29,969] Trial 63 finished with value: 0.012095484937240846 and parameters: {'n_estimators': 46, 'max_depth': 59, 'min_samples_split': 3, 'min_samples_leaf': 3}. Best is trial 19 with value: 0.012091687875892205.\n"
     ]
    },
    {
     "name": "stderr",
     "output_type": "stream",
     "text": [
      "c:\\Users\\andre\\AppData\\Local\\Programs\\Python\\Python312\\Lib\\site-packages\\optuna\\distributions.py:700: UserWarning: The distribution is specified by [5, 70] and step=2, but the range is not divisible by `step`. It will be replaced by [5, 69].\n",
      "  warnings.warn(\n"
     ]
    },
    {
     "name": "stdout",
     "output_type": "stream",
     "text": [
      "[I 2024-05-27 09:42:45,841] Trial 64 finished with value: 0.012095484937240846 and parameters: {'n_estimators': 46, 'max_depth': 59, 'min_samples_split': 3, 'min_samples_leaf': 3}. Best is trial 19 with value: 0.012091687875892205.\n"
     ]
    },
    {
     "name": "stderr",
     "output_type": "stream",
     "text": [
      "c:\\Users\\andre\\AppData\\Local\\Programs\\Python\\Python312\\Lib\\site-packages\\optuna\\distributions.py:700: UserWarning: The distribution is specified by [5, 70] and step=2, but the range is not divisible by `step`. It will be replaced by [5, 69].\n",
      "  warnings.warn(\n"
     ]
    },
    {
     "name": "stdout",
     "output_type": "stream",
     "text": [
      "[I 2024-05-27 09:44:00,847] Trial 65 finished with value: 0.012166081683821389 and parameters: {'n_estimators': 48, 'max_depth': 59, 'min_samples_split': 3, 'min_samples_leaf': 4}. Best is trial 19 with value: 0.012091687875892205.\n"
     ]
    },
    {
     "name": "stderr",
     "output_type": "stream",
     "text": [
      "c:\\Users\\andre\\AppData\\Local\\Programs\\Python\\Python312\\Lib\\site-packages\\optuna\\distributions.py:700: UserWarning: The distribution is specified by [5, 70] and step=2, but the range is not divisible by `step`. It will be replaced by [5, 69].\n",
      "  warnings.warn(\n"
     ]
    },
    {
     "name": "stdout",
     "output_type": "stream",
     "text": [
      "[I 2024-05-27 09:45:37,723] Trial 66 finished with value: 0.012154162970554098 and parameters: {'n_estimators': 46, 'max_depth': 65, 'min_samples_split': 2, 'min_samples_leaf': 1}. Best is trial 19 with value: 0.012091687875892205.\n"
     ]
    },
    {
     "name": "stderr",
     "output_type": "stream",
     "text": [
      "c:\\Users\\andre\\AppData\\Local\\Programs\\Python\\Python312\\Lib\\site-packages\\optuna\\distributions.py:700: UserWarning: The distribution is specified by [5, 70] and step=2, but the range is not divisible by `step`. It will be replaced by [5, 69].\n",
      "  warnings.warn(\n"
     ]
    },
    {
     "name": "stdout",
     "output_type": "stream",
     "text": [
      "[I 2024-05-27 09:47:01,561] Trial 67 finished with value: 0.012091687875892205 and parameters: {'n_estimators': 50, 'max_depth': 67, 'min_samples_split': 3, 'min_samples_leaf': 3}. Best is trial 19 with value: 0.012091687875892205.\n"
     ]
    },
    {
     "name": "stderr",
     "output_type": "stream",
     "text": [
      "c:\\Users\\andre\\AppData\\Local\\Programs\\Python\\Python312\\Lib\\site-packages\\optuna\\distributions.py:700: UserWarning: The distribution is specified by [5, 70] and step=2, but the range is not divisible by `step`. It will be replaced by [5, 69].\n",
      "  warnings.warn(\n"
     ]
    },
    {
     "name": "stdout",
     "output_type": "stream",
     "text": [
      "[I 2024-05-27 09:47:59,998] Trial 68 finished with value: 0.013450064473787429 and parameters: {'n_estimators': 50, 'max_depth': 67, 'min_samples_split': 3, 'min_samples_leaf': 14}. Best is trial 19 with value: 0.012091687875892205.\n"
     ]
    },
    {
     "name": "stderr",
     "output_type": "stream",
     "text": [
      "c:\\Users\\andre\\AppData\\Local\\Programs\\Python\\Python312\\Lib\\site-packages\\optuna\\distributions.py:700: UserWarning: The distribution is specified by [5, 70] and step=2, but the range is not divisible by `step`. It will be replaced by [5, 69].\n",
      "  warnings.warn(\n"
     ]
    },
    {
     "name": "stdout",
     "output_type": "stream",
     "text": [
      "[I 2024-05-27 09:49:31,020] Trial 69 finished with value: 0.012107475934130254 and parameters: {'n_estimators': 50, 'max_depth': 61, 'min_samples_split': 4, 'min_samples_leaf': 2}. Best is trial 19 with value: 0.012091687875892205.\n"
     ]
    },
    {
     "name": "stderr",
     "output_type": "stream",
     "text": [
      "c:\\Users\\andre\\AppData\\Local\\Programs\\Python\\Python312\\Lib\\site-packages\\optuna\\distributions.py:700: UserWarning: The distribution is specified by [5, 70] and step=2, but the range is not divisible by `step`. It will be replaced by [5, 69].\n",
      "  warnings.warn(\n"
     ]
    },
    {
     "name": "stdout",
     "output_type": "stream",
     "text": [
      "[I 2024-05-27 09:50:42,338] Trial 70 finished with value: 0.012284517952358466 and parameters: {'n_estimators': 48, 'max_depth': 67, 'min_samples_split': 2, 'min_samples_leaf': 5}. Best is trial 19 with value: 0.012091687875892205.\n"
     ]
    },
    {
     "name": "stderr",
     "output_type": "stream",
     "text": [
      "c:\\Users\\andre\\AppData\\Local\\Programs\\Python\\Python312\\Lib\\site-packages\\optuna\\distributions.py:700: UserWarning: The distribution is specified by [5, 70] and step=2, but the range is not divisible by `step`. It will be replaced by [5, 69].\n",
      "  warnings.warn(\n"
     ]
    },
    {
     "name": "stdout",
     "output_type": "stream",
     "text": [
      "[I 2024-05-27 09:51:33,610] Trial 71 finished with value: 0.013933913661561445 and parameters: {'n_estimators': 46, 'max_depth': 63, 'min_samples_split': 3, 'min_samples_leaf': 18}. Best is trial 19 with value: 0.012091687875892205.\n"
     ]
    },
    {
     "name": "stderr",
     "output_type": "stream",
     "text": [
      "c:\\Users\\andre\\AppData\\Local\\Programs\\Python\\Python312\\Lib\\site-packages\\optuna\\distributions.py:700: UserWarning: The distribution is specified by [5, 70] and step=2, but the range is not divisible by `step`. It will be replaced by [5, 69].\n",
      "  warnings.warn(\n"
     ]
    },
    {
     "name": "stdout",
     "output_type": "stream",
     "text": [
      "[I 2024-05-27 09:52:53,559] Trial 72 finished with value: 0.012089410260349839 and parameters: {'n_estimators': 48, 'max_depth': 61, 'min_samples_split': 4, 'min_samples_leaf': 3}. Best is trial 72 with value: 0.012089410260349839.\n"
     ]
    },
    {
     "name": "stderr",
     "output_type": "stream",
     "text": [
      "c:\\Users\\andre\\AppData\\Local\\Programs\\Python\\Python312\\Lib\\site-packages\\optuna\\distributions.py:700: UserWarning: The distribution is specified by [5, 70] and step=2, but the range is not divisible by `step`. It will be replaced by [5, 69].\n",
      "  warnings.warn(\n"
     ]
    },
    {
     "name": "stdout",
     "output_type": "stream",
     "text": [
      "[I 2024-05-27 09:53:31,032] Trial 73 finished with value: 0.012288126860134438 and parameters: {'n_estimators': 24, 'max_depth': 61, 'min_samples_split': 4, 'min_samples_leaf': 4}. Best is trial 72 with value: 0.012089410260349839.\n"
     ]
    },
    {
     "name": "stderr",
     "output_type": "stream",
     "text": [
      "c:\\Users\\andre\\AppData\\Local\\Programs\\Python\\Python312\\Lib\\site-packages\\optuna\\distributions.py:700: UserWarning: The distribution is specified by [5, 70] and step=2, but the range is not divisible by `step`. It will be replaced by [5, 69].\n",
      "  warnings.warn(\n"
     ]
    },
    {
     "name": "stdout",
     "output_type": "stream",
     "text": [
      "[I 2024-05-27 09:54:51,101] Trial 74 finished with value: 0.012089410260349839 and parameters: {'n_estimators': 48, 'max_depth': 67, 'min_samples_split': 3, 'min_samples_leaf': 3}. Best is trial 72 with value: 0.012089410260349839.\n"
     ]
    },
    {
     "name": "stderr",
     "output_type": "stream",
     "text": [
      "c:\\Users\\andre\\AppData\\Local\\Programs\\Python\\Python312\\Lib\\site-packages\\optuna\\distributions.py:700: UserWarning: The distribution is specified by [5, 70] and step=2, but the range is not divisible by `step`. It will be replaced by [5, 69].\n",
      "  warnings.warn(\n"
     ]
    },
    {
     "name": "stdout",
     "output_type": "stream",
     "text": [
      "[I 2024-05-27 09:56:21,152] Trial 75 finished with value: 0.012107475934130254 and parameters: {'n_estimators': 50, 'max_depth': 67, 'min_samples_split': 4, 'min_samples_leaf': 2}. Best is trial 72 with value: 0.012089410260349839.\n"
     ]
    },
    {
     "name": "stderr",
     "output_type": "stream",
     "text": [
      "c:\\Users\\andre\\AppData\\Local\\Programs\\Python\\Python312\\Lib\\site-packages\\optuna\\distributions.py:700: UserWarning: The distribution is specified by [5, 70] and step=2, but the range is not divisible by `step`. It will be replaced by [5, 69].\n",
      "  warnings.warn(\n"
     ]
    },
    {
     "name": "stdout",
     "output_type": "stream",
     "text": [
      "[I 2024-05-27 09:57:01,765] Trial 76 finished with value: 0.012468379303470207 and parameters: {'n_estimators': 28, 'max_depth': 69, 'min_samples_split': 2, 'min_samples_leaf': 6}. Best is trial 72 with value: 0.012089410260349839.\n"
     ]
    },
    {
     "name": "stderr",
     "output_type": "stream",
     "text": [
      "c:\\Users\\andre\\AppData\\Local\\Programs\\Python\\Python312\\Lib\\site-packages\\optuna\\distributions.py:700: UserWarning: The distribution is specified by [5, 70] and step=2, but the range is not divisible by `step`. It will be replaced by [5, 69].\n",
      "  warnings.warn(\n"
     ]
    },
    {
     "name": "stdout",
     "output_type": "stream",
     "text": [
      "[I 2024-05-27 09:58:17,931] Trial 77 finished with value: 0.012166081683821389 and parameters: {'n_estimators': 48, 'max_depth': 63, 'min_samples_split': 5, 'min_samples_leaf': 4}. Best is trial 72 with value: 0.012089410260349839.\n"
     ]
    },
    {
     "name": "stderr",
     "output_type": "stream",
     "text": [
      "c:\\Users\\andre\\AppData\\Local\\Programs\\Python\\Python312\\Lib\\site-packages\\optuna\\distributions.py:700: UserWarning: The distribution is specified by [5, 70] and step=2, but the range is not divisible by `step`. It will be replaced by [5, 69].\n",
      "  warnings.warn(\n"
     ]
    },
    {
     "name": "stdout",
     "output_type": "stream",
     "text": [
      "[I 2024-05-27 09:59:37,112] Trial 78 finished with value: 0.012089410260349839 and parameters: {'n_estimators': 48, 'max_depth': 67, 'min_samples_split': 2, 'min_samples_leaf': 3}. Best is trial 72 with value: 0.012089410260349839.\n"
     ]
    },
    {
     "name": "stderr",
     "output_type": "stream",
     "text": [
      "c:\\Users\\andre\\AppData\\Local\\Programs\\Python\\Python312\\Lib\\site-packages\\optuna\\distributions.py:700: UserWarning: The distribution is specified by [5, 70] and step=2, but the range is not divisible by `step`. It will be replaced by [5, 69].\n",
      "  warnings.warn(\n"
     ]
    },
    {
     "name": "stdout",
     "output_type": "stream",
     "text": [
      "[I 2024-05-27 10:01:21,708] Trial 79 finished with value: 0.012147743672829734 and parameters: {'n_estimators': 50, 'max_depth': 67, 'min_samples_split': 2, 'min_samples_leaf': 1}. Best is trial 72 with value: 0.012089410260349839.\n"
     ]
    },
    {
     "name": "stderr",
     "output_type": "stream",
     "text": [
      "c:\\Users\\andre\\AppData\\Local\\Programs\\Python\\Python312\\Lib\\site-packages\\optuna\\distributions.py:700: UserWarning: The distribution is specified by [5, 70] and step=2, but the range is not divisible by `step`. It will be replaced by [5, 69].\n",
      "  warnings.warn(\n"
     ]
    },
    {
     "name": "stdout",
     "output_type": "stream",
     "text": [
      "[I 2024-05-27 10:02:49,114] Trial 80 finished with value: 0.012094863628534866 and parameters: {'n_estimators': 48, 'max_depth': 69, 'min_samples_split': 4, 'min_samples_leaf': 2}. Best is trial 72 with value: 0.012089410260349839.\n"
     ]
    },
    {
     "name": "stderr",
     "output_type": "stream",
     "text": [
      "c:\\Users\\andre\\AppData\\Local\\Programs\\Python\\Python312\\Lib\\site-packages\\optuna\\distributions.py:700: UserWarning: The distribution is specified by [5, 70] and step=2, but the range is not divisible by `step`. It will be replaced by [5, 69].\n",
      "  warnings.warn(\n"
     ]
    },
    {
     "name": "stdout",
     "output_type": "stream",
     "text": [
      "[I 2024-05-27 10:04:18,023] Trial 81 finished with value: 0.012094863628534866 and parameters: {'n_estimators': 48, 'max_depth': 69, 'min_samples_split': 4, 'min_samples_leaf': 2}. Best is trial 72 with value: 0.012089410260349839.\n"
     ]
    },
    {
     "name": "stderr",
     "output_type": "stream",
     "text": [
      "c:\\Users\\andre\\AppData\\Local\\Programs\\Python\\Python312\\Lib\\site-packages\\optuna\\distributions.py:700: UserWarning: The distribution is specified by [5, 70] and step=2, but the range is not divisible by `step`. It will be replaced by [5, 69].\n",
      "  warnings.warn(\n"
     ]
    },
    {
     "name": "stdout",
     "output_type": "stream",
     "text": [
      "[I 2024-05-27 10:05:45,730] Trial 82 finished with value: 0.012094863628534866 and parameters: {'n_estimators': 48, 'max_depth': 69, 'min_samples_split': 4, 'min_samples_leaf': 2}. Best is trial 72 with value: 0.012089410260349839.\n"
     ]
    },
    {
     "name": "stderr",
     "output_type": "stream",
     "text": [
      "c:\\Users\\andre\\AppData\\Local\\Programs\\Python\\Python312\\Lib\\site-packages\\optuna\\distributions.py:700: UserWarning: The distribution is specified by [5, 70] and step=2, but the range is not divisible by `step`. It will be replaced by [5, 69].\n",
      "  warnings.warn(\n"
     ]
    },
    {
     "name": "stdout",
     "output_type": "stream",
     "text": [
      "[I 2024-05-27 10:07:21,166] Trial 83 finished with value: 0.012172607699863723 and parameters: {'n_estimators': 48, 'max_depth': 69, 'min_samples_split': 4, 'min_samples_leaf': 1}. Best is trial 72 with value: 0.012089410260349839.\n"
     ]
    },
    {
     "name": "stderr",
     "output_type": "stream",
     "text": [
      "c:\\Users\\andre\\AppData\\Local\\Programs\\Python\\Python312\\Lib\\site-packages\\optuna\\distributions.py:700: UserWarning: The distribution is specified by [5, 70] and step=2, but the range is not divisible by `step`. It will be replaced by [5, 69].\n",
      "  warnings.warn(\n"
     ]
    },
    {
     "name": "stdout",
     "output_type": "stream",
     "text": [
      "[I 2024-05-27 10:08:52,908] Trial 84 finished with value: 0.012107475934130254 and parameters: {'n_estimators': 50, 'max_depth': 65, 'min_samples_split': 3, 'min_samples_leaf': 2}. Best is trial 72 with value: 0.012089410260349839.\n"
     ]
    },
    {
     "name": "stderr",
     "output_type": "stream",
     "text": [
      "c:\\Users\\andre\\AppData\\Local\\Programs\\Python\\Python312\\Lib\\site-packages\\optuna\\distributions.py:700: UserWarning: The distribution is specified by [5, 70] and step=2, but the range is not divisible by `step`. It will be replaced by [5, 69].\n",
      "  warnings.warn(\n"
     ]
    },
    {
     "name": "stdout",
     "output_type": "stream",
     "text": [
      "[I 2024-05-27 10:10:19,515] Trial 85 finished with value: 0.012094863628534866 and parameters: {'n_estimators': 48, 'max_depth': 67, 'min_samples_split': 2, 'min_samples_leaf': 2}. Best is trial 72 with value: 0.012089410260349839.\n"
     ]
    },
    {
     "name": "stderr",
     "output_type": "stream",
     "text": [
      "c:\\Users\\andre\\AppData\\Local\\Programs\\Python\\Python312\\Lib\\site-packages\\optuna\\distributions.py:700: UserWarning: The distribution is specified by [5, 70] and step=2, but the range is not divisible by `step`. It will be replaced by [5, 69].\n",
      "  warnings.warn(\n"
     ]
    },
    {
     "name": "stdout",
     "output_type": "stream",
     "text": [
      "[I 2024-05-27 10:11:43,470] Trial 86 finished with value: 0.012091687875892205 and parameters: {'n_estimators': 50, 'max_depth': 69, 'min_samples_split': 4, 'min_samples_leaf': 3}. Best is trial 72 with value: 0.012089410260349839.\n"
     ]
    },
    {
     "name": "stderr",
     "output_type": "stream",
     "text": [
      "c:\\Users\\andre\\AppData\\Local\\Programs\\Python\\Python312\\Lib\\site-packages\\optuna\\distributions.py:700: UserWarning: The distribution is specified by [5, 70] and step=2, but the range is not divisible by `step`. It will be replaced by [5, 69].\n",
      "  warnings.warn(\n"
     ]
    },
    {
     "name": "stdout",
     "output_type": "stream",
     "text": [
      "[I 2024-05-27 10:13:06,384] Trial 87 finished with value: 0.012091687875892205 and parameters: {'n_estimators': 50, 'max_depth': 65, 'min_samples_split': 3, 'min_samples_leaf': 3}. Best is trial 72 with value: 0.012089410260349839.\n"
     ]
    },
    {
     "name": "stderr",
     "output_type": "stream",
     "text": [
      "c:\\Users\\andre\\AppData\\Local\\Programs\\Python\\Python312\\Lib\\site-packages\\optuna\\distributions.py:700: UserWarning: The distribution is specified by [5, 70] and step=2, but the range is not divisible by `step`. It will be replaced by [5, 69].\n",
      "  warnings.warn(\n"
     ]
    },
    {
     "name": "stdout",
     "output_type": "stream",
     "text": [
      "[I 2024-05-27 10:14:20,440] Trial 88 finished with value: 0.012294015552332262 and parameters: {'n_estimators': 50, 'max_depth': 65, 'min_samples_split': 3, 'min_samples_leaf': 5}. Best is trial 72 with value: 0.012089410260349839.\n"
     ]
    },
    {
     "name": "stderr",
     "output_type": "stream",
     "text": [
      "c:\\Users\\andre\\AppData\\Local\\Programs\\Python\\Python312\\Lib\\site-packages\\optuna\\distributions.py:700: UserWarning: The distribution is specified by [5, 70] and step=2, but the range is not divisible by `step`. It will be replaced by [5, 69].\n",
      "  warnings.warn(\n"
     ]
    },
    {
     "name": "stdout",
     "output_type": "stream",
     "text": [
      "[I 2024-05-27 10:15:22,940] Trial 89 finished with value: 0.013057379553302925 and parameters: {'n_estimators': 50, 'max_depth': 63, 'min_samples_split': 3, 'min_samples_leaf': 11}. Best is trial 72 with value: 0.012089410260349839.\n"
     ]
    },
    {
     "name": "stderr",
     "output_type": "stream",
     "text": [
      "c:\\Users\\andre\\AppData\\Local\\Programs\\Python\\Python312\\Lib\\site-packages\\optuna\\distributions.py:700: UserWarning: The distribution is specified by [5, 70] and step=2, but the range is not divisible by `step`. It will be replaced by [5, 69].\n",
      "  warnings.warn(\n"
     ]
    },
    {
     "name": "stdout",
     "output_type": "stream",
     "text": [
      "[I 2024-05-27 10:16:39,673] Trial 90 finished with value: 0.012190266808814952 and parameters: {'n_estimators': 50, 'max_depth': 15, 'min_samples_split': 2, 'min_samples_leaf': 4}. Best is trial 72 with value: 0.012089410260349839.\n"
     ]
    },
    {
     "name": "stderr",
     "output_type": "stream",
     "text": [
      "c:\\Users\\andre\\AppData\\Local\\Programs\\Python\\Python312\\Lib\\site-packages\\optuna\\distributions.py:700: UserWarning: The distribution is specified by [5, 70] and step=2, but the range is not divisible by `step`. It will be replaced by [5, 69].\n",
      "  warnings.warn(\n"
     ]
    },
    {
     "name": "stdout",
     "output_type": "stream",
     "text": [
      "[I 2024-05-27 10:17:59,244] Trial 91 finished with value: 0.012089410260349839 and parameters: {'n_estimators': 48, 'max_depth': 67, 'min_samples_split': 4, 'min_samples_leaf': 3}. Best is trial 72 with value: 0.012089410260349839.\n"
     ]
    },
    {
     "name": "stderr",
     "output_type": "stream",
     "text": [
      "c:\\Users\\andre\\AppData\\Local\\Programs\\Python\\Python312\\Lib\\site-packages\\optuna\\distributions.py:700: UserWarning: The distribution is specified by [5, 70] and step=2, but the range is not divisible by `step`. It will be replaced by [5, 69].\n",
      "  warnings.warn(\n"
     ]
    },
    {
     "name": "stdout",
     "output_type": "stream",
     "text": [
      "[I 2024-05-27 10:19:21,772] Trial 92 finished with value: 0.012091687875892205 and parameters: {'n_estimators': 50, 'max_depth': 67, 'min_samples_split': 3, 'min_samples_leaf': 3}. Best is trial 72 with value: 0.012089410260349839.\n"
     ]
    },
    {
     "name": "stderr",
     "output_type": "stream",
     "text": [
      "c:\\Users\\andre\\AppData\\Local\\Programs\\Python\\Python312\\Lib\\site-packages\\optuna\\distributions.py:700: UserWarning: The distribution is specified by [5, 70] and step=2, but the range is not divisible by `step`. It will be replaced by [5, 69].\n",
      "  warnings.warn(\n"
     ]
    },
    {
     "name": "stdout",
     "output_type": "stream",
     "text": [
      "[I 2024-05-27 10:20:45,032] Trial 93 finished with value: 0.012091687875892205 and parameters: {'n_estimators': 50, 'max_depth': 65, 'min_samples_split': 3, 'min_samples_leaf': 3}. Best is trial 72 with value: 0.012089410260349839.\n"
     ]
    },
    {
     "name": "stderr",
     "output_type": "stream",
     "text": [
      "c:\\Users\\andre\\AppData\\Local\\Programs\\Python\\Python312\\Lib\\site-packages\\optuna\\distributions.py:700: UserWarning: The distribution is specified by [5, 70] and step=2, but the range is not divisible by `step`. It will be replaced by [5, 69].\n",
      "  warnings.warn(\n"
     ]
    },
    {
     "name": "stdout",
     "output_type": "stream",
     "text": [
      "[I 2024-05-27 10:22:08,001] Trial 94 finished with value: 0.012091687875892205 and parameters: {'n_estimators': 50, 'max_depth': 61, 'min_samples_split': 2, 'min_samples_leaf': 3}. Best is trial 72 with value: 0.012089410260349839.\n"
     ]
    },
    {
     "name": "stderr",
     "output_type": "stream",
     "text": [
      "c:\\Users\\andre\\AppData\\Local\\Programs\\Python\\Python312\\Lib\\site-packages\\optuna\\distributions.py:700: UserWarning: The distribution is specified by [5, 70] and step=2, but the range is not divisible by `step`. It will be replaced by [5, 69].\n",
      "  warnings.warn(\n"
     ]
    },
    {
     "name": "stdout",
     "output_type": "stream",
     "text": [
      "[I 2024-05-27 10:23:31,400] Trial 95 finished with value: 0.012091687875892205 and parameters: {'n_estimators': 50, 'max_depth': 63, 'min_samples_split': 3, 'min_samples_leaf': 3}. Best is trial 72 with value: 0.012089410260349839.\n"
     ]
    },
    {
     "name": "stderr",
     "output_type": "stream",
     "text": [
      "c:\\Users\\andre\\AppData\\Local\\Programs\\Python\\Python312\\Lib\\site-packages\\optuna\\distributions.py:700: UserWarning: The distribution is specified by [5, 70] and step=2, but the range is not divisible by `step`. It will be replaced by [5, 69].\n",
      "  warnings.warn(\n"
     ]
    },
    {
     "name": "stdout",
     "output_type": "stream",
     "text": [
      "[I 2024-05-27 10:24:42,937] Trial 96 finished with value: 0.01216274880160485 and parameters: {'n_estimators': 46, 'max_depth': 65, 'min_samples_split': 2, 'min_samples_leaf': 4}. Best is trial 72 with value: 0.012089410260349839.\n"
     ]
    },
    {
     "name": "stderr",
     "output_type": "stream",
     "text": [
      "c:\\Users\\andre\\AppData\\Local\\Programs\\Python\\Python312\\Lib\\site-packages\\optuna\\distributions.py:700: UserWarning: The distribution is specified by [5, 70] and step=2, but the range is not divisible by `step`. It will be replaced by [5, 69].\n",
      "  warnings.warn(\n"
     ]
    },
    {
     "name": "stdout",
     "output_type": "stream",
     "text": [
      "[I 2024-05-27 10:25:57,250] Trial 97 finished with value: 0.012294015552332262 and parameters: {'n_estimators': 50, 'max_depth': 67, 'min_samples_split': 4, 'min_samples_leaf': 5}. Best is trial 72 with value: 0.012089410260349839.\n"
     ]
    },
    {
     "name": "stderr",
     "output_type": "stream",
     "text": [
      "c:\\Users\\andre\\AppData\\Local\\Programs\\Python\\Python312\\Lib\\site-packages\\optuna\\distributions.py:700: UserWarning: The distribution is specified by [5, 70] and step=2, but the range is not divisible by `step`. It will be replaced by [5, 69].\n",
      "  warnings.warn(\n"
     ]
    },
    {
     "name": "stdout",
     "output_type": "stream",
     "text": [
      "[I 2024-05-27 10:27:08,930] Trial 98 finished with value: 0.01216274880160485 and parameters: {'n_estimators': 46, 'max_depth': 65, 'min_samples_split': 5, 'min_samples_leaf': 4}. Best is trial 72 with value: 0.012089410260349839.\n"
     ]
    },
    {
     "name": "stderr",
     "output_type": "stream",
     "text": [
      "c:\\Users\\andre\\AppData\\Local\\Programs\\Python\\Python312\\Lib\\site-packages\\optuna\\distributions.py:700: UserWarning: The distribution is specified by [5, 70] and step=2, but the range is not divisible by `step`. It will be replaced by [5, 69].\n",
      "  warnings.warn(\n"
     ]
    },
    {
     "name": "stdout",
     "output_type": "stream",
     "text": [
      "[I 2024-05-27 10:28:22,059] Trial 99 finished with value: 0.012387403975115082 and parameters: {'n_estimators': 48, 'max_depth': 63, 'min_samples_split': 15, 'min_samples_leaf': 3}. Best is trial 72 with value: 0.012089410260349839.\n"
     ]
    },
    {
     "name": "stderr",
     "output_type": "stream",
     "text": [
      "c:\\Users\\andre\\AppData\\Local\\Programs\\Python\\Python312\\Lib\\site-packages\\optuna\\distributions.py:700: UserWarning: The distribution is specified by [5, 70] and step=2, but the range is not divisible by `step`. It will be replaced by [5, 69].\n",
      "  warnings.warn(\n"
     ]
    },
    {
     "name": "stdout",
     "output_type": "stream",
     "text": [
      "[I 2024-05-27 10:29:28,384] Trial 100 finished with value: 0.012502937367400114 and parameters: {'n_estimators': 48, 'max_depth': 67, 'min_samples_split': 10, 'min_samples_leaf': 7}. Best is trial 72 with value: 0.012089410260349839.\n"
     ]
    },
    {
     "name": "stderr",
     "output_type": "stream",
     "text": [
      "c:\\Users\\andre\\AppData\\Local\\Programs\\Python\\Python312\\Lib\\site-packages\\optuna\\distributions.py:700: UserWarning: The distribution is specified by [5, 70] and step=2, but the range is not divisible by `step`. It will be replaced by [5, 69].\n",
      "  warnings.warn(\n"
     ]
    },
    {
     "name": "stdout",
     "output_type": "stream",
     "text": [
      "[I 2024-05-27 10:30:52,186] Trial 101 finished with value: 0.012091687875892205 and parameters: {'n_estimators': 50, 'max_depth': 61, 'min_samples_split': 2, 'min_samples_leaf': 3}. Best is trial 72 with value: 0.012089410260349839.\n"
     ]
    },
    {
     "name": "stderr",
     "output_type": "stream",
     "text": [
      "c:\\Users\\andre\\AppData\\Local\\Programs\\Python\\Python312\\Lib\\site-packages\\optuna\\distributions.py:700: UserWarning: The distribution is specified by [5, 70] and step=2, but the range is not divisible by `step`. It will be replaced by [5, 69].\n",
      "  warnings.warn(\n"
     ]
    },
    {
     "name": "stdout",
     "output_type": "stream",
     "text": [
      "[I 2024-05-27 10:32:15,140] Trial 102 finished with value: 0.012091687875892205 and parameters: {'n_estimators': 50, 'max_depth': 61, 'min_samples_split': 3, 'min_samples_leaf': 3}. Best is trial 72 with value: 0.012089410260349839.\n"
     ]
    },
    {
     "name": "stderr",
     "output_type": "stream",
     "text": [
      "c:\\Users\\andre\\AppData\\Local\\Programs\\Python\\Python312\\Lib\\site-packages\\optuna\\distributions.py:700: UserWarning: The distribution is specified by [5, 70] and step=2, but the range is not divisible by `step`. It will be replaced by [5, 69].\n",
      "  warnings.warn(\n"
     ]
    },
    {
     "name": "stdout",
     "output_type": "stream",
     "text": [
      "[I 2024-05-27 10:33:32,847] Trial 103 finished with value: 0.012173779512340655 and parameters: {'n_estimators': 50, 'max_depth': 57, 'min_samples_split': 2, 'min_samples_leaf': 4}. Best is trial 72 with value: 0.012089410260349839.\n"
     ]
    },
    {
     "name": "stderr",
     "output_type": "stream",
     "text": [
      "c:\\Users\\andre\\AppData\\Local\\Programs\\Python\\Python312\\Lib\\site-packages\\optuna\\distributions.py:700: UserWarning: The distribution is specified by [5, 70] and step=2, but the range is not divisible by `step`. It will be replaced by [5, 69].\n",
      "  warnings.warn(\n"
     ]
    },
    {
     "name": "stdout",
     "output_type": "stream",
     "text": [
      "[I 2024-05-27 10:34:52,512] Trial 104 finished with value: 0.012087486864930844 and parameters: {'n_estimators': 48, 'max_depth': 23, 'min_samples_split': 3, 'min_samples_leaf': 3}. Best is trial 104 with value: 0.012087486864930844.\n"
     ]
    },
    {
     "name": "stderr",
     "output_type": "stream",
     "text": [
      "c:\\Users\\andre\\AppData\\Local\\Programs\\Python\\Python312\\Lib\\site-packages\\optuna\\distributions.py:700: UserWarning: The distribution is specified by [5, 70] and step=2, but the range is not divisible by `step`. It will be replaced by [5, 69].\n",
      "  warnings.warn(\n"
     ]
    },
    {
     "name": "stdout",
     "output_type": "stream",
     "text": [
      "[I 2024-05-27 10:36:04,155] Trial 105 finished with value: 0.012284517952358466 and parameters: {'n_estimators': 48, 'max_depth': 67, 'min_samples_split': 3, 'min_samples_leaf': 5}. Best is trial 104 with value: 0.012087486864930844.\n"
     ]
    },
    {
     "name": "stderr",
     "output_type": "stream",
     "text": [
      "c:\\Users\\andre\\AppData\\Local\\Programs\\Python\\Python312\\Lib\\site-packages\\optuna\\distributions.py:700: UserWarning: The distribution is specified by [5, 70] and step=2, but the range is not divisible by `step`. It will be replaced by [5, 69].\n",
      "  warnings.warn(\n"
     ]
    },
    {
     "name": "stdout",
     "output_type": "stream",
     "text": [
      "[I 2024-05-27 10:37:16,840] Trial 106 finished with value: 0.012161225788450853 and parameters: {'n_estimators': 46, 'max_depth': 21, 'min_samples_split': 4, 'min_samples_leaf': 4}. Best is trial 104 with value: 0.012087486864930844.\n"
     ]
    },
    {
     "name": "stderr",
     "output_type": "stream",
     "text": [
      "c:\\Users\\andre\\AppData\\Local\\Programs\\Python\\Python312\\Lib\\site-packages\\optuna\\distributions.py:700: UserWarning: The distribution is specified by [5, 70] and step=2, but the range is not divisible by `step`. It will be replaced by [5, 69].\n",
      "  warnings.warn(\n"
     ]
    },
    {
     "name": "stdout",
     "output_type": "stream",
     "text": [
      "[I 2024-05-27 10:38:29,956] Trial 107 finished with value: 0.012412748954856858 and parameters: {'n_estimators': 48, 'max_depth': 27, 'min_samples_split': 16, 'min_samples_leaf': 3}. Best is trial 104 with value: 0.012087486864930844.\n"
     ]
    },
    {
     "name": "stderr",
     "output_type": "stream",
     "text": [
      "c:\\Users\\andre\\AppData\\Local\\Programs\\Python\\Python312\\Lib\\site-packages\\optuna\\distributions.py:700: UserWarning: The distribution is specified by [5, 70] and step=2, but the range is not divisible by `step`. It will be replaced by [5, 69].\n",
      "  warnings.warn(\n"
     ]
    },
    {
     "name": "stdout",
     "output_type": "stream",
     "text": [
      "[I 2024-05-27 10:39:42,763] Trial 108 finished with value: 0.012376654438913542 and parameters: {'n_estimators': 44, 'max_depth': 13, 'min_samples_split': 4, 'min_samples_leaf': 1}. Best is trial 104 with value: 0.012087486864930844.\n"
     ]
    },
    {
     "name": "stderr",
     "output_type": "stream",
     "text": [
      "c:\\Users\\andre\\AppData\\Local\\Programs\\Python\\Python312\\Lib\\site-packages\\optuna\\distributions.py:700: UserWarning: The distribution is specified by [5, 70] and step=2, but the range is not divisible by `step`. It will be replaced by [5, 69].\n",
      "  warnings.warn(\n"
     ]
    },
    {
     "name": "stdout",
     "output_type": "stream",
     "text": [
      "[I 2024-05-27 10:40:58,478] Trial 109 finished with value: 0.012166081683821389 and parameters: {'n_estimators': 48, 'max_depth': 65, 'min_samples_split': 5, 'min_samples_leaf': 4}. Best is trial 104 with value: 0.012087486864930844.\n"
     ]
    },
    {
     "name": "stderr",
     "output_type": "stream",
     "text": [
      "c:\\Users\\andre\\AppData\\Local\\Programs\\Python\\Python312\\Lib\\site-packages\\optuna\\distributions.py:700: UserWarning: The distribution is specified by [5, 70] and step=2, but the range is not divisible by `step`. It will be replaced by [5, 69].\n",
      "  warnings.warn(\n"
     ]
    },
    {
     "name": "stdout",
     "output_type": "stream",
     "text": [
      "[I 2024-05-27 10:41:21,956] Trial 110 finished with value: 0.027547685448198 and parameters: {'n_estimators': 46, 'max_depth': 5, 'min_samples_split': 3, 'min_samples_leaf': 6}. Best is trial 104 with value: 0.012087486864930844.\n"
     ]
    },
    {
     "name": "stderr",
     "output_type": "stream",
     "text": [
      "c:\\Users\\andre\\AppData\\Local\\Programs\\Python\\Python312\\Lib\\site-packages\\optuna\\distributions.py:700: UserWarning: The distribution is specified by [5, 70] and step=2, but the range is not divisible by `step`. It will be replaced by [5, 69].\n",
      "  warnings.warn(\n"
     ]
    },
    {
     "name": "stdout",
     "output_type": "stream",
     "text": [
      "[I 2024-05-27 10:42:46,189] Trial 111 finished with value: 0.012091687875892205 and parameters: {'n_estimators': 50, 'max_depth': 67, 'min_samples_split': 2, 'min_samples_leaf': 3}. Best is trial 104 with value: 0.012087486864930844.\n"
     ]
    },
    {
     "name": "stderr",
     "output_type": "stream",
     "text": [
      "c:\\Users\\andre\\AppData\\Local\\Programs\\Python\\Python312\\Lib\\site-packages\\optuna\\distributions.py:700: UserWarning: The distribution is specified by [5, 70] and step=2, but the range is not divisible by `step`. It will be replaced by [5, 69].\n",
      "  warnings.warn(\n"
     ]
    },
    {
     "name": "stdout",
     "output_type": "stream",
     "text": [
      "[I 2024-05-27 10:44:09,454] Trial 112 finished with value: 0.012091687875892205 and parameters: {'n_estimators': 50, 'max_depth': 33, 'min_samples_split': 3, 'min_samples_leaf': 3}. Best is trial 104 with value: 0.012087486864930844.\n"
     ]
    },
    {
     "name": "stderr",
     "output_type": "stream",
     "text": [
      "c:\\Users\\andre\\AppData\\Local\\Programs\\Python\\Python312\\Lib\\site-packages\\optuna\\distributions.py:700: UserWarning: The distribution is specified by [5, 70] and step=2, but the range is not divisible by `step`. It will be replaced by [5, 69].\n",
      "  warnings.warn(\n"
     ]
    },
    {
     "name": "stdout",
     "output_type": "stream",
     "text": [
      "[I 2024-05-27 10:45:40,666] Trial 113 finished with value: 0.012107475934130254 and parameters: {'n_estimators': 50, 'max_depth': 63, 'min_samples_split': 2, 'min_samples_leaf': 2}. Best is trial 104 with value: 0.012087486864930844.\n"
     ]
    },
    {
     "name": "stderr",
     "output_type": "stream",
     "text": [
      "c:\\Users\\andre\\AppData\\Local\\Programs\\Python\\Python312\\Lib\\site-packages\\optuna\\distributions.py:700: UserWarning: The distribution is specified by [5, 70] and step=2, but the range is not divisible by `step`. It will be replaced by [5, 69].\n",
      "  warnings.warn(\n"
     ]
    },
    {
     "name": "stdout",
     "output_type": "stream",
     "text": [
      "[I 2024-05-27 10:46:59,699] Trial 114 finished with value: 0.012089410260349839 and parameters: {'n_estimators': 48, 'max_depth': 61, 'min_samples_split': 4, 'min_samples_leaf': 3}. Best is trial 104 with value: 0.012087486864930844.\n"
     ]
    },
    {
     "name": "stderr",
     "output_type": "stream",
     "text": [
      "c:\\Users\\andre\\AppData\\Local\\Programs\\Python\\Python312\\Lib\\site-packages\\optuna\\distributions.py:700: UserWarning: The distribution is specified by [5, 70] and step=2, but the range is not divisible by `step`. It will be replaced by [5, 69].\n",
      "  warnings.warn(\n"
     ]
    },
    {
     "name": "stdout",
     "output_type": "stream",
     "text": [
      "[I 2024-05-27 10:48:15,002] Trial 115 finished with value: 0.012166081683821389 and parameters: {'n_estimators': 48, 'max_depth': 65, 'min_samples_split': 4, 'min_samples_leaf': 4}. Best is trial 104 with value: 0.012087486864930844.\n"
     ]
    },
    {
     "name": "stderr",
     "output_type": "stream",
     "text": [
      "c:\\Users\\andre\\AppData\\Local\\Programs\\Python\\Python312\\Lib\\site-packages\\optuna\\distributions.py:700: UserWarning: The distribution is specified by [5, 70] and step=2, but the range is not divisible by `step`. It will be replaced by [5, 69].\n",
      "  warnings.warn(\n"
     ]
    },
    {
     "name": "stdout",
     "output_type": "stream",
     "text": [
      "[I 2024-05-27 10:49:36,672] Trial 116 finished with value: 0.012107290946756354 and parameters: {'n_estimators': 46, 'max_depth': 23, 'min_samples_split': 5, 'min_samples_leaf': 2}. Best is trial 104 with value: 0.012087486864930844.\n"
     ]
    },
    {
     "name": "stderr",
     "output_type": "stream",
     "text": [
      "c:\\Users\\andre\\AppData\\Local\\Programs\\Python\\Python312\\Lib\\site-packages\\optuna\\distributions.py:700: UserWarning: The distribution is specified by [5, 70] and step=2, but the range is not divisible by `step`. It will be replaced by [5, 69].\n",
      "  warnings.warn(\n"
     ]
    },
    {
     "name": "stdout",
     "output_type": "stream",
     "text": [
      "[I 2024-05-27 10:50:57,455] Trial 117 finished with value: 0.012089410260349839 and parameters: {'n_estimators': 48, 'max_depth': 59, 'min_samples_split': 6, 'min_samples_leaf': 3}. Best is trial 104 with value: 0.012087486864930844.\n"
     ]
    },
    {
     "name": "stderr",
     "output_type": "stream",
     "text": [
      "c:\\Users\\andre\\AppData\\Local\\Programs\\Python\\Python312\\Lib\\site-packages\\optuna\\distributions.py:700: UserWarning: The distribution is specified by [5, 70] and step=2, but the range is not divisible by `step`. It will be replaced by [5, 69].\n",
      "  warnings.warn(\n"
     ]
    },
    {
     "name": "stdout",
     "output_type": "stream",
     "text": [
      "[I 2024-05-27 10:52:05,958] Trial 118 finished with value: 0.01227682191439457 and parameters: {'n_estimators': 46, 'max_depth': 59, 'min_samples_split': 6, 'min_samples_leaf': 5}. Best is trial 104 with value: 0.012087486864930844.\n"
     ]
    },
    {
     "name": "stderr",
     "output_type": "stream",
     "text": [
      "c:\\Users\\andre\\AppData\\Local\\Programs\\Python\\Python312\\Lib\\site-packages\\optuna\\distributions.py:700: UserWarning: The distribution is specified by [5, 70] and step=2, but the range is not divisible by `step`. It will be replaced by [5, 69].\n",
      "  warnings.warn(\n"
     ]
    },
    {
     "name": "stdout",
     "output_type": "stream",
     "text": [
      "[I 2024-05-27 10:53:27,112] Trial 119 finished with value: 0.012089410260349839 and parameters: {'n_estimators': 48, 'max_depth': 69, 'min_samples_split': 4, 'min_samples_leaf': 3}. Best is trial 104 with value: 0.012087486864930844.\n"
     ]
    },
    {
     "name": "stderr",
     "output_type": "stream",
     "text": [
      "c:\\Users\\andre\\AppData\\Local\\Programs\\Python\\Python312\\Lib\\site-packages\\optuna\\distributions.py:700: UserWarning: The distribution is specified by [5, 70] and step=2, but the range is not divisible by `step`. It will be replaced by [5, 69].\n",
      "  warnings.warn(\n"
     ]
    },
    {
     "name": "stdout",
     "output_type": "stream",
     "text": [
      "[I 2024-05-27 10:54:45,320] Trial 120 finished with value: 0.01212458992928212 and parameters: {'n_estimators': 44, 'max_depth': 69, 'min_samples_split': 5, 'min_samples_leaf': 2}. Best is trial 104 with value: 0.012087486864930844.\n"
     ]
    },
    {
     "name": "stderr",
     "output_type": "stream",
     "text": [
      "c:\\Users\\andre\\AppData\\Local\\Programs\\Python\\Python312\\Lib\\site-packages\\optuna\\distributions.py:700: UserWarning: The distribution is specified by [5, 70] and step=2, but the range is not divisible by `step`. It will be replaced by [5, 69].\n",
      "  warnings.warn(\n"
     ]
    },
    {
     "name": "stdout",
     "output_type": "stream",
     "text": [
      "[I 2024-05-27 10:56:04,471] Trial 121 finished with value: 0.012089410260349839 and parameters: {'n_estimators': 48, 'max_depth': 67, 'min_samples_split': 4, 'min_samples_leaf': 3}. Best is trial 104 with value: 0.012087486864930844.\n"
     ]
    },
    {
     "name": "stderr",
     "output_type": "stream",
     "text": [
      "c:\\Users\\andre\\AppData\\Local\\Programs\\Python\\Python312\\Lib\\site-packages\\optuna\\distributions.py:700: UserWarning: The distribution is specified by [5, 70] and step=2, but the range is not divisible by `step`. It will be replaced by [5, 69].\n",
      "  warnings.warn(\n"
     ]
    },
    {
     "name": "stdout",
     "output_type": "stream",
     "text": [
      "[I 2024-05-27 10:57:23,600] Trial 122 finished with value: 0.012089410260349839 and parameters: {'n_estimators': 48, 'max_depth': 69, 'min_samples_split': 4, 'min_samples_leaf': 3}. Best is trial 104 with value: 0.012087486864930844.\n"
     ]
    },
    {
     "name": "stderr",
     "output_type": "stream",
     "text": [
      "c:\\Users\\andre\\AppData\\Local\\Programs\\Python\\Python312\\Lib\\site-packages\\optuna\\distributions.py:700: UserWarning: The distribution is specified by [5, 70] and step=2, but the range is not divisible by `step`. It will be replaced by [5, 69].\n",
      "  warnings.warn(\n"
     ]
    },
    {
     "name": "stdout",
     "output_type": "stream",
     "text": [
      "[I 2024-05-27 10:58:39,223] Trial 123 finished with value: 0.012166081683821389 and parameters: {'n_estimators': 48, 'max_depth': 69, 'min_samples_split': 4, 'min_samples_leaf': 4}. Best is trial 104 with value: 0.012087486864930844.\n"
     ]
    },
    {
     "name": "stderr",
     "output_type": "stream",
     "text": [
      "c:\\Users\\andre\\AppData\\Local\\Programs\\Python\\Python312\\Lib\\site-packages\\optuna\\distributions.py:700: UserWarning: The distribution is specified by [5, 70] and step=2, but the range is not divisible by `step`. It will be replaced by [5, 69].\n",
      "  warnings.warn(\n"
     ]
    },
    {
     "name": "stdout",
     "output_type": "stream",
     "text": [
      "[I 2024-05-27 11:00:02,956] Trial 124 finished with value: 0.012123123127391396 and parameters: {'n_estimators': 48, 'max_depth': 67, 'min_samples_split': 6, 'min_samples_leaf': 2}. Best is trial 104 with value: 0.012087486864930844.\n"
     ]
    },
    {
     "name": "stderr",
     "output_type": "stream",
     "text": [
      "c:\\Users\\andre\\AppData\\Local\\Programs\\Python\\Python312\\Lib\\site-packages\\optuna\\distributions.py:700: UserWarning: The distribution is specified by [5, 70] and step=2, but the range is not divisible by `step`. It will be replaced by [5, 69].\n",
      "  warnings.warn(\n"
     ]
    },
    {
     "name": "stdout",
     "output_type": "stream",
     "text": [
      "[I 2024-05-27 11:01:04,975] Trial 125 finished with value: 0.012311403461590674 and parameters: {'n_estimators': 32, 'max_depth': 69, 'min_samples_split': 4, 'min_samples_leaf': 1}. Best is trial 104 with value: 0.012087486864930844.\n"
     ]
    },
    {
     "name": "stderr",
     "output_type": "stream",
     "text": [
      "c:\\Users\\andre\\AppData\\Local\\Programs\\Python\\Python312\\Lib\\site-packages\\optuna\\distributions.py:700: UserWarning: The distribution is specified by [5, 70] and step=2, but the range is not divisible by `step`. It will be replaced by [5, 69].\n",
      "  warnings.warn(\n"
     ]
    },
    {
     "name": "stdout",
     "output_type": "stream",
     "text": [
      "[I 2024-05-27 11:02:18,318] Trial 126 finished with value: 0.01216274880160485 and parameters: {'n_estimators': 46, 'max_depth': 69, 'min_samples_split': 5, 'min_samples_leaf': 4}. Best is trial 104 with value: 0.012087486864930844.\n"
     ]
    },
    {
     "name": "stderr",
     "output_type": "stream",
     "text": [
      "c:\\Users\\andre\\AppData\\Local\\Programs\\Python\\Python312\\Lib\\site-packages\\optuna\\distributions.py:700: UserWarning: The distribution is specified by [5, 70] and step=2, but the range is not divisible by `step`. It will be replaced by [5, 69].\n",
      "  warnings.warn(\n"
     ]
    },
    {
     "name": "stdout",
     "output_type": "stream",
     "text": [
      "[I 2024-05-27 11:03:40,505] Trial 127 finished with value: 0.012089410260349839 and parameters: {'n_estimators': 48, 'max_depth': 63, 'min_samples_split': 4, 'min_samples_leaf': 3}. Best is trial 104 with value: 0.012087486864930844.\n"
     ]
    },
    {
     "name": "stderr",
     "output_type": "stream",
     "text": [
      "c:\\Users\\andre\\AppData\\Local\\Programs\\Python\\Python312\\Lib\\site-packages\\optuna\\distributions.py:700: UserWarning: The distribution is specified by [5, 70] and step=2, but the range is not divisible by `step`. It will be replaced by [5, 69].\n",
      "  warnings.warn(\n"
     ]
    },
    {
     "name": "stdout",
     "output_type": "stream",
     "text": [
      "[I 2024-05-27 11:04:58,117] Trial 128 finished with value: 0.01212458992928212 and parameters: {'n_estimators': 44, 'max_depth': 57, 'min_samples_split': 5, 'min_samples_leaf': 2}. Best is trial 104 with value: 0.012087486864930844.\n"
     ]
    },
    {
     "name": "stderr",
     "output_type": "stream",
     "text": [
      "c:\\Users\\andre\\AppData\\Local\\Programs\\Python\\Python312\\Lib\\site-packages\\optuna\\distributions.py:700: UserWarning: The distribution is specified by [5, 70] and step=2, but the range is not divisible by `step`. It will be replaced by [5, 69].\n",
      "  warnings.warn(\n"
     ]
    },
    {
     "name": "stdout",
     "output_type": "stream",
     "text": [
      "[I 2024-05-27 11:06:04,479] Trial 129 finished with value: 0.012248666404558463 and parameters: {'n_estimators': 42, 'max_depth': 63, 'min_samples_split': 11, 'min_samples_leaf': 3}. Best is trial 104 with value: 0.012087486864930844.\n"
     ]
    },
    {
     "name": "stderr",
     "output_type": "stream",
     "text": [
      "c:\\Users\\andre\\AppData\\Local\\Programs\\Python\\Python312\\Lib\\site-packages\\optuna\\distributions.py:700: UserWarning: The distribution is specified by [5, 70] and step=2, but the range is not divisible by `step`. It will be replaced by [5, 69].\n",
      "  warnings.warn(\n"
     ]
    },
    {
     "name": "stdout",
     "output_type": "stream",
     "text": [
      "[I 2024-05-27 11:07:17,166] Trial 130 finished with value: 0.01216962252355624 and parameters: {'n_estimators': 46, 'max_depth': 17, 'min_samples_split': 6, 'min_samples_leaf': 4}. Best is trial 104 with value: 0.012087486864930844.\n"
     ]
    },
    {
     "name": "stderr",
     "output_type": "stream",
     "text": [
      "c:\\Users\\andre\\AppData\\Local\\Programs\\Python\\Python312\\Lib\\site-packages\\optuna\\distributions.py:700: UserWarning: The distribution is specified by [5, 70] and step=2, but the range is not divisible by `step`. It will be replaced by [5, 69].\n",
      "  warnings.warn(\n"
     ]
    },
    {
     "name": "stdout",
     "output_type": "stream",
     "text": [
      "[I 2024-05-27 11:08:38,643] Trial 131 finished with value: 0.012089410260349839 and parameters: {'n_estimators': 48, 'max_depth': 67, 'min_samples_split': 4, 'min_samples_leaf': 3}. Best is trial 104 with value: 0.012087486864930844.\n"
     ]
    },
    {
     "name": "stderr",
     "output_type": "stream",
     "text": [
      "c:\\Users\\andre\\AppData\\Local\\Programs\\Python\\Python312\\Lib\\site-packages\\optuna\\distributions.py:700: UserWarning: The distribution is specified by [5, 70] and step=2, but the range is not divisible by `step`. It will be replaced by [5, 69].\n",
      "  warnings.warn(\n"
     ]
    },
    {
     "name": "stdout",
     "output_type": "stream",
     "text": [
      "[I 2024-05-27 11:09:59,682] Trial 132 finished with value: 0.012089410260349839 and parameters: {'n_estimators': 48, 'max_depth': 61, 'min_samples_split': 4, 'min_samples_leaf': 3}. Best is trial 104 with value: 0.012087486864930844.\n"
     ]
    },
    {
     "name": "stderr",
     "output_type": "stream",
     "text": [
      "c:\\Users\\andre\\AppData\\Local\\Programs\\Python\\Python312\\Lib\\site-packages\\optuna\\distributions.py:700: UserWarning: The distribution is specified by [5, 70] and step=2, but the range is not divisible by `step`. It will be replaced by [5, 69].\n",
      "  warnings.warn(\n"
     ]
    },
    {
     "name": "stdout",
     "output_type": "stream",
     "text": [
      "[I 2024-05-27 11:11:26,803] Trial 133 finished with value: 0.012094863628534866 and parameters: {'n_estimators': 48, 'max_depth': 61, 'min_samples_split': 4, 'min_samples_leaf': 2}. Best is trial 104 with value: 0.012087486864930844.\n"
     ]
    },
    {
     "name": "stderr",
     "output_type": "stream",
     "text": [
      "c:\\Users\\andre\\AppData\\Local\\Programs\\Python\\Python312\\Lib\\site-packages\\optuna\\distributions.py:700: UserWarning: The distribution is specified by [5, 70] and step=2, but the range is not divisible by `step`. It will be replaced by [5, 69].\n",
      "  warnings.warn(\n"
     ]
    },
    {
     "name": "stdout",
     "output_type": "stream",
     "text": [
      "[I 2024-05-27 11:12:46,135] Trial 134 finished with value: 0.012089410260349839 and parameters: {'n_estimators': 48, 'max_depth': 59, 'min_samples_split': 5, 'min_samples_leaf': 3}. Best is trial 104 with value: 0.012087486864930844.\n"
     ]
    },
    {
     "name": "stderr",
     "output_type": "stream",
     "text": [
      "c:\\Users\\andre\\AppData\\Local\\Programs\\Python\\Python312\\Lib\\site-packages\\optuna\\distributions.py:700: UserWarning: The distribution is specified by [5, 70] and step=2, but the range is not divisible by `step`. It will be replaced by [5, 69].\n",
      "  warnings.warn(\n"
     ]
    },
    {
     "name": "stdout",
     "output_type": "stream",
     "text": [
      "[I 2024-05-27 11:14:02,429] Trial 135 finished with value: 0.012095484937240846 and parameters: {'n_estimators': 46, 'max_depth': 59, 'min_samples_split': 5, 'min_samples_leaf': 3}. Best is trial 104 with value: 0.012087486864930844.\n"
     ]
    },
    {
     "name": "stderr",
     "output_type": "stream",
     "text": [
      "c:\\Users\\andre\\AppData\\Local\\Programs\\Python\\Python312\\Lib\\site-packages\\optuna\\distributions.py:700: UserWarning: The distribution is specified by [5, 70] and step=2, but the range is not divisible by `step`. It will be replaced by [5, 69].\n",
      "  warnings.warn(\n"
     ]
    },
    {
     "name": "stdout",
     "output_type": "stream",
     "text": [
      "[I 2024-05-27 11:15:18,526] Trial 136 finished with value: 0.012166081683821389 and parameters: {'n_estimators': 48, 'max_depth': 59, 'min_samples_split': 4, 'min_samples_leaf': 4}. Best is trial 104 with value: 0.012087486864930844.\n"
     ]
    },
    {
     "name": "stderr",
     "output_type": "stream",
     "text": [
      "c:\\Users\\andre\\AppData\\Local\\Programs\\Python\\Python312\\Lib\\site-packages\\optuna\\distributions.py:700: UserWarning: The distribution is specified by [5, 70] and step=2, but the range is not divisible by `step`. It will be replaced by [5, 69].\n",
      "  warnings.warn(\n"
     ]
    },
    {
     "name": "stdout",
     "output_type": "stream",
     "text": [
      "[I 2024-05-27 11:16:31,738] Trial 137 finished with value: 0.012352067758367799 and parameters: {'n_estimators': 48, 'max_depth': 57, 'min_samples_split': 14, 'min_samples_leaf': 3}. Best is trial 104 with value: 0.012087486864930844.\n"
     ]
    },
    {
     "name": "stderr",
     "output_type": "stream",
     "text": [
      "c:\\Users\\andre\\AppData\\Local\\Programs\\Python\\Python312\\Lib\\site-packages\\optuna\\distributions.py:700: UserWarning: The distribution is specified by [5, 70] and step=2, but the range is not divisible by `step`. It will be replaced by [5, 69].\n",
      "  warnings.warn(\n"
     ]
    },
    {
     "name": "stdout",
     "output_type": "stream",
     "text": [
      "[I 2024-05-27 11:17:57,059] Trial 138 finished with value: 0.01210385137934272 and parameters: {'n_estimators': 46, 'max_depth': 63, 'min_samples_split': 4, 'min_samples_leaf': 2}. Best is trial 104 with value: 0.012087486864930844.\n"
     ]
    },
    {
     "name": "stderr",
     "output_type": "stream",
     "text": [
      "c:\\Users\\andre\\AppData\\Local\\Programs\\Python\\Python312\\Lib\\site-packages\\optuna\\distributions.py:700: UserWarning: The distribution is specified by [5, 70] and step=2, but the range is not divisible by `step`. It will be replaced by [5, 69].\n",
      "  warnings.warn(\n"
     ]
    },
    {
     "name": "stdout",
     "output_type": "stream",
     "text": [
      "[I 2024-05-27 11:18:30,935] Trial 139 finished with value: 0.01242468520241407 and parameters: {'n_estimators': 22, 'max_depth': 63, 'min_samples_split': 5, 'min_samples_leaf': 5}. Best is trial 104 with value: 0.012087486864930844.\n"
     ]
    },
    {
     "name": "stderr",
     "output_type": "stream",
     "text": [
      "c:\\Users\\andre\\AppData\\Local\\Programs\\Python\\Python312\\Lib\\site-packages\\optuna\\distributions.py:700: UserWarning: The distribution is specified by [5, 70] and step=2, but the range is not divisible by `step`. It will be replaced by [5, 69].\n",
      "  warnings.warn(\n"
     ]
    },
    {
     "name": "stdout",
     "output_type": "stream",
     "text": [
      "[I 2024-05-27 11:18:51,282] Trial 140 finished with value: 0.012767244299693958 and parameters: {'n_estimators': 12, 'max_depth': 61, 'min_samples_split': 12, 'min_samples_leaf': 1}. Best is trial 104 with value: 0.012087486864930844.\n"
     ]
    },
    {
     "name": "stderr",
     "output_type": "stream",
     "text": [
      "c:\\Users\\andre\\AppData\\Local\\Programs\\Python\\Python312\\Lib\\site-packages\\optuna\\distributions.py:700: UserWarning: The distribution is specified by [5, 70] and step=2, but the range is not divisible by `step`. It will be replaced by [5, 69].\n",
      "  warnings.warn(\n"
     ]
    },
    {
     "name": "stdout",
     "output_type": "stream",
     "text": [
      "[I 2024-05-27 11:20:11,240] Trial 141 finished with value: 0.012089410260349839 and parameters: {'n_estimators': 48, 'max_depth': 65, 'min_samples_split': 4, 'min_samples_leaf': 3}. Best is trial 104 with value: 0.012087486864930844.\n"
     ]
    },
    {
     "name": "stderr",
     "output_type": "stream",
     "text": [
      "c:\\Users\\andre\\AppData\\Local\\Programs\\Python\\Python312\\Lib\\site-packages\\optuna\\distributions.py:700: UserWarning: The distribution is specified by [5, 70] and step=2, but the range is not divisible by `step`. It will be replaced by [5, 69].\n",
      "  warnings.warn(\n"
     ]
    },
    {
     "name": "stdout",
     "output_type": "stream",
     "text": [
      "[I 2024-05-27 11:21:30,762] Trial 142 finished with value: 0.012089410260349839 and parameters: {'n_estimators': 48, 'max_depth': 65, 'min_samples_split': 4, 'min_samples_leaf': 3}. Best is trial 104 with value: 0.012087486864930844.\n"
     ]
    },
    {
     "name": "stderr",
     "output_type": "stream",
     "text": [
      "c:\\Users\\andre\\AppData\\Local\\Programs\\Python\\Python312\\Lib\\site-packages\\optuna\\distributions.py:700: UserWarning: The distribution is specified by [5, 70] and step=2, but the range is not divisible by `step`. It will be replaced by [5, 69].\n",
      "  warnings.warn(\n"
     ]
    },
    {
     "name": "stdout",
     "output_type": "stream",
     "text": [
      "[I 2024-05-27 11:22:44,947] Trial 143 finished with value: 0.012166081683821389 and parameters: {'n_estimators': 48, 'max_depth': 61, 'min_samples_split': 4, 'min_samples_leaf': 4}. Best is trial 104 with value: 0.012087486864930844.\n"
     ]
    },
    {
     "name": "stderr",
     "output_type": "stream",
     "text": [
      "c:\\Users\\andre\\AppData\\Local\\Programs\\Python\\Python312\\Lib\\site-packages\\optuna\\distributions.py:700: UserWarning: The distribution is specified by [5, 70] and step=2, but the range is not divisible by `step`. It will be replaced by [5, 69].\n",
      "  warnings.warn(\n"
     ]
    },
    {
     "name": "stdout",
     "output_type": "stream",
     "text": [
      "[I 2024-05-27 11:24:02,327] Trial 144 finished with value: 0.012095484937240846 and parameters: {'n_estimators': 46, 'max_depth': 65, 'min_samples_split': 5, 'min_samples_leaf': 3}. Best is trial 104 with value: 0.012087486864930844.\n"
     ]
    },
    {
     "name": "stderr",
     "output_type": "stream",
     "text": [
      "c:\\Users\\andre\\AppData\\Local\\Programs\\Python\\Python312\\Lib\\site-packages\\optuna\\distributions.py:700: UserWarning: The distribution is specified by [5, 70] and step=2, but the range is not divisible by `step`. It will be replaced by [5, 69].\n",
      "  warnings.warn(\n"
     ]
    },
    {
     "name": "stdout",
     "output_type": "stream",
     "text": [
      "[I 2024-05-27 11:25:26,240] Trial 145 finished with value: 0.012123123127391396 and parameters: {'n_estimators': 48, 'max_depth': 67, 'min_samples_split': 6, 'min_samples_leaf': 2}. Best is trial 104 with value: 0.012087486864930844.\n"
     ]
    },
    {
     "name": "stderr",
     "output_type": "stream",
     "text": [
      "c:\\Users\\andre\\AppData\\Local\\Programs\\Python\\Python312\\Lib\\site-packages\\optuna\\distributions.py:700: UserWarning: The distribution is specified by [5, 70] and step=2, but the range is not divisible by `step`. It will be replaced by [5, 69].\n",
      "  warnings.warn(\n"
     ]
    },
    {
     "name": "stdout",
     "output_type": "stream",
     "text": [
      "[I 2024-05-27 11:26:43,380] Trial 146 finished with value: 0.012095484937240846 and parameters: {'n_estimators': 46, 'max_depth': 59, 'min_samples_split': 4, 'min_samples_leaf': 3}. Best is trial 104 with value: 0.012087486864930844.\n"
     ]
    },
    {
     "name": "stderr",
     "output_type": "stream",
     "text": [
      "c:\\Users\\andre\\AppData\\Local\\Programs\\Python\\Python312\\Lib\\site-packages\\optuna\\distributions.py:700: UserWarning: The distribution is specified by [5, 70] and step=2, but the range is not divisible by `step`. It will be replaced by [5, 69].\n",
      "  warnings.warn(\n"
     ]
    },
    {
     "name": "stdout",
     "output_type": "stream",
     "text": [
      "[I 2024-05-27 11:27:30,680] Trial 147 finished with value: 0.014156480203595214 and parameters: {'n_estimators': 44, 'max_depth': 9, 'min_samples_split': 3, 'min_samples_leaf': 4}. Best is trial 104 with value: 0.012087486864930844.\n"
     ]
    },
    {
     "name": "stderr",
     "output_type": "stream",
     "text": [
      "c:\\Users\\andre\\AppData\\Local\\Programs\\Python\\Python312\\Lib\\site-packages\\optuna\\distributions.py:700: UserWarning: The distribution is specified by [5, 70] and step=2, but the range is not divisible by `step`. It will be replaced by [5, 69].\n",
      "  warnings.warn(\n"
     ]
    },
    {
     "name": "stdout",
     "output_type": "stream",
     "text": [
      "[I 2024-05-27 11:28:56,198] Trial 148 finished with value: 0.012101897278073466 and parameters: {'n_estimators': 48, 'max_depth': 63, 'min_samples_split': 5, 'min_samples_leaf': 2}. Best is trial 104 with value: 0.012087486864930844.\n"
     ]
    },
    {
     "name": "stderr",
     "output_type": "stream",
     "text": [
      "c:\\Users\\andre\\AppData\\Local\\Programs\\Python\\Python312\\Lib\\site-packages\\optuna\\distributions.py:700: UserWarning: The distribution is specified by [5, 70] and step=2, but the range is not divisible by `step`. It will be replaced by [5, 69].\n",
      "  warnings.warn(\n"
     ]
    },
    {
     "name": "stdout",
     "output_type": "stream",
     "text": [
      "[I 2024-05-27 11:29:54,264] Trial 149 finished with value: 0.013322144082645272 and parameters: {'n_estimators': 48, 'max_depth': 67, 'min_samples_split': 3, 'min_samples_leaf': 13}. Best is trial 104 with value: 0.012087486864930844.\n"
     ]
    },
    {
     "name": "stderr",
     "output_type": "stream",
     "text": [
      "c:\\Users\\andre\\AppData\\Local\\Programs\\Python\\Python312\\Lib\\site-packages\\optuna\\distributions.py:700: UserWarning: The distribution is specified by [5, 70] and step=2, but the range is not divisible by `step`. It will be replaced by [5, 69].\n",
      "  warnings.warn(\n"
     ]
    },
    {
     "name": "stdout",
     "output_type": "stream",
     "text": [
      "[I 2024-05-27 11:31:11,044] Trial 150 finished with value: 0.012095484937240846 and parameters: {'n_estimators': 46, 'max_depth': 65, 'min_samples_split': 4, 'min_samples_leaf': 3}. Best is trial 104 with value: 0.012087486864930844.\n"
     ]
    },
    {
     "name": "stderr",
     "output_type": "stream",
     "text": [
      "c:\\Users\\andre\\AppData\\Local\\Programs\\Python\\Python312\\Lib\\site-packages\\optuna\\distributions.py:700: UserWarning: The distribution is specified by [5, 70] and step=2, but the range is not divisible by `step`. It will be replaced by [5, 69].\n",
      "  warnings.warn(\n"
     ]
    },
    {
     "name": "stdout",
     "output_type": "stream",
     "text": [
      "[I 2024-05-27 11:32:30,939] Trial 151 finished with value: 0.012089410260349839 and parameters: {'n_estimators': 48, 'max_depth': 65, 'min_samples_split': 4, 'min_samples_leaf': 3}. Best is trial 104 with value: 0.012087486864930844.\n"
     ]
    },
    {
     "name": "stderr",
     "output_type": "stream",
     "text": [
      "c:\\Users\\andre\\AppData\\Local\\Programs\\Python\\Python312\\Lib\\site-packages\\optuna\\distributions.py:700: UserWarning: The distribution is specified by [5, 70] and step=2, but the range is not divisible by `step`. It will be replaced by [5, 69].\n",
      "  warnings.warn(\n"
     ]
    },
    {
     "name": "stdout",
     "output_type": "stream",
     "text": [
      "[I 2024-05-27 11:33:46,767] Trial 152 finished with value: 0.012166081683821389 and parameters: {'n_estimators': 48, 'max_depth': 63, 'min_samples_split': 4, 'min_samples_leaf': 4}. Best is trial 104 with value: 0.012087486864930844.\n"
     ]
    },
    {
     "name": "stderr",
     "output_type": "stream",
     "text": [
      "c:\\Users\\andre\\AppData\\Local\\Programs\\Python\\Python312\\Lib\\site-packages\\optuna\\distributions.py:700: UserWarning: The distribution is specified by [5, 70] and step=2, but the range is not divisible by `step`. It will be replaced by [5, 69].\n",
      "  warnings.warn(\n"
     ]
    },
    {
     "name": "stdout",
     "output_type": "stream",
     "text": [
      "[I 2024-05-27 11:35:02,896] Trial 153 finished with value: 0.012095484937240846 and parameters: {'n_estimators': 46, 'max_depth': 65, 'min_samples_split': 5, 'min_samples_leaf': 3}. Best is trial 104 with value: 0.012087486864930844.\n"
     ]
    },
    {
     "name": "stderr",
     "output_type": "stream",
     "text": [
      "c:\\Users\\andre\\AppData\\Local\\Programs\\Python\\Python312\\Lib\\site-packages\\optuna\\distributions.py:700: UserWarning: The distribution is specified by [5, 70] and step=2, but the range is not divisible by `step`. It will be replaced by [5, 69].\n",
      "  warnings.warn(\n"
     ]
    },
    {
     "name": "stdout",
     "output_type": "stream",
     "text": [
      "[I 2024-05-27 11:36:22,717] Trial 154 finished with value: 0.012089410260349839 and parameters: {'n_estimators': 48, 'max_depth': 67, 'min_samples_split': 3, 'min_samples_leaf': 3}. Best is trial 104 with value: 0.012087486864930844.\n"
     ]
    },
    {
     "name": "stderr",
     "output_type": "stream",
     "text": [
      "c:\\Users\\andre\\AppData\\Local\\Programs\\Python\\Python312\\Lib\\site-packages\\optuna\\distributions.py:700: UserWarning: The distribution is specified by [5, 70] and step=2, but the range is not divisible by `step`. It will be replaced by [5, 69].\n",
      "  warnings.warn(\n"
     ]
    },
    {
     "name": "stdout",
     "output_type": "stream",
     "text": [
      "[I 2024-05-27 11:37:41,898] Trial 155 finished with value: 0.012089410260349839 and parameters: {'n_estimators': 48, 'max_depth': 61, 'min_samples_split': 4, 'min_samples_leaf': 3}. Best is trial 104 with value: 0.012087486864930844.\n"
     ]
    },
    {
     "name": "stderr",
     "output_type": "stream",
     "text": [
      "c:\\Users\\andre\\AppData\\Local\\Programs\\Python\\Python312\\Lib\\site-packages\\optuna\\distributions.py:700: UserWarning: The distribution is specified by [5, 70] and step=2, but the range is not divisible by `step`. It will be replaced by [5, 69].\n",
      "  warnings.warn(\n"
     ]
    },
    {
     "name": "stdout",
     "output_type": "stream",
     "text": [
      "[I 2024-05-27 11:38:55,967] Trial 156 finished with value: 0.01216274880160485 and parameters: {'n_estimators': 46, 'max_depth': 69, 'min_samples_split': 3, 'min_samples_leaf': 4}. Best is trial 104 with value: 0.012087486864930844.\n"
     ]
    },
    {
     "name": "stderr",
     "output_type": "stream",
     "text": [
      "c:\\Users\\andre\\AppData\\Local\\Programs\\Python\\Python312\\Lib\\site-packages\\optuna\\distributions.py:700: UserWarning: The distribution is specified by [5, 70] and step=2, but the range is not divisible by `step`. It will be replaced by [5, 69].\n",
      "  warnings.warn(\n"
     ]
    },
    {
     "name": "stdout",
     "output_type": "stream",
     "text": [
      "[I 2024-05-27 11:40:21,015] Trial 157 finished with value: 0.012101897278073466 and parameters: {'n_estimators': 48, 'max_depth': 67, 'min_samples_split': 5, 'min_samples_leaf': 2}. Best is trial 104 with value: 0.012087486864930844.\n"
     ]
    },
    {
     "name": "stderr",
     "output_type": "stream",
     "text": [
      "c:\\Users\\andre\\AppData\\Local\\Programs\\Python\\Python312\\Lib\\site-packages\\optuna\\distributions.py:700: UserWarning: The distribution is specified by [5, 70] and step=2, but the range is not divisible by `step`. It will be replaced by [5, 69].\n",
      "  warnings.warn(\n"
     ]
    },
    {
     "name": "stdout",
     "output_type": "stream",
     "text": [
      "[I 2024-05-27 11:41:53,612] Trial 158 finished with value: 0.012103543562053577 and parameters: {'n_estimators': 44, 'max_depth': 63, 'min_samples_split': 4, 'min_samples_leaf': 3}. Best is trial 104 with value: 0.012087486864930844.\n"
     ]
    },
    {
     "name": "stderr",
     "output_type": "stream",
     "text": [
      "c:\\Users\\andre\\AppData\\Local\\Programs\\Python\\Python312\\Lib\\site-packages\\optuna\\distributions.py:700: UserWarning: The distribution is specified by [5, 70] and step=2, but the range is not divisible by `step`. It will be replaced by [5, 69].\n",
      "  warnings.warn(\n"
     ]
    },
    {
     "name": "stdout",
     "output_type": "stream",
     "text": [
      "[I 2024-05-27 11:43:46,344] Trial 159 finished with value: 0.012107475934130254 and parameters: {'n_estimators': 50, 'max_depth': 55, 'min_samples_split': 3, 'min_samples_leaf': 2}. Best is trial 104 with value: 0.012087486864930844.\n"
     ]
    },
    {
     "name": "stderr",
     "output_type": "stream",
     "text": [
      "c:\\Users\\andre\\AppData\\Local\\Programs\\Python\\Python312\\Lib\\site-packages\\optuna\\distributions.py:700: UserWarning: The distribution is specified by [5, 70] and step=2, but the range is not divisible by `step`. It will be replaced by [5, 69].\n",
      "  warnings.warn(\n"
     ]
    },
    {
     "name": "stdout",
     "output_type": "stream",
     "text": [
      "[I 2024-05-27 11:45:17,190] Trial 160 finished with value: 0.012166081683821389 and parameters: {'n_estimators': 48, 'max_depth': 65, 'min_samples_split': 4, 'min_samples_leaf': 4}. Best is trial 104 with value: 0.012087486864930844.\n"
     ]
    },
    {
     "name": "stderr",
     "output_type": "stream",
     "text": [
      "c:\\Users\\andre\\AppData\\Local\\Programs\\Python\\Python312\\Lib\\site-packages\\optuna\\distributions.py:700: UserWarning: The distribution is specified by [5, 70] and step=2, but the range is not divisible by `step`. It will be replaced by [5, 69].\n",
      "  warnings.warn(\n"
     ]
    },
    {
     "name": "stdout",
     "output_type": "stream",
     "text": [
      "[I 2024-05-27 11:46:49,903] Trial 161 finished with value: 0.012089410260349839 and parameters: {'n_estimators': 48, 'max_depth': 65, 'min_samples_split': 4, 'min_samples_leaf': 3}. Best is trial 104 with value: 0.012087486864930844.\n"
     ]
    },
    {
     "name": "stderr",
     "output_type": "stream",
     "text": [
      "c:\\Users\\andre\\AppData\\Local\\Programs\\Python\\Python312\\Lib\\site-packages\\optuna\\distributions.py:700: UserWarning: The distribution is specified by [5, 70] and step=2, but the range is not divisible by `step`. It will be replaced by [5, 69].\n",
      "  warnings.warn(\n"
     ]
    },
    {
     "name": "stdout",
     "output_type": "stream",
     "text": [
      "[I 2024-05-27 11:48:18,996] Trial 162 finished with value: 0.012095484937240846 and parameters: {'n_estimators': 46, 'max_depth': 65, 'min_samples_split': 4, 'min_samples_leaf': 3}. Best is trial 104 with value: 0.012087486864930844.\n"
     ]
    },
    {
     "name": "stderr",
     "output_type": "stream",
     "text": [
      "c:\\Users\\andre\\AppData\\Local\\Programs\\Python\\Python312\\Lib\\site-packages\\optuna\\distributions.py:700: UserWarning: The distribution is specified by [5, 70] and step=2, but the range is not divisible by `step`. It will be replaced by [5, 69].\n",
      "  warnings.warn(\n"
     ]
    },
    {
     "name": "stdout",
     "output_type": "stream",
     "text": [
      "[I 2024-05-27 11:50:05,398] Trial 163 finished with value: 0.012101897278073466 and parameters: {'n_estimators': 48, 'max_depth': 67, 'min_samples_split': 5, 'min_samples_leaf': 2}. Best is trial 104 with value: 0.012087486864930844.\n"
     ]
    },
    {
     "name": "stderr",
     "output_type": "stream",
     "text": [
      "c:\\Users\\andre\\AppData\\Local\\Programs\\Python\\Python312\\Lib\\site-packages\\optuna\\distributions.py:700: UserWarning: The distribution is specified by [5, 70] and step=2, but the range is not divisible by `step`. It will be replaced by [5, 69].\n",
      "  warnings.warn(\n"
     ]
    },
    {
     "name": "stdout",
     "output_type": "stream",
     "text": [
      "[I 2024-05-27 11:51:45,907] Trial 164 finished with value: 0.012091687875892205 and parameters: {'n_estimators': 50, 'max_depth': 69, 'min_samples_split': 4, 'min_samples_leaf': 3}. Best is trial 104 with value: 0.012087486864930844.\n"
     ]
    },
    {
     "name": "stderr",
     "output_type": "stream",
     "text": [
      "c:\\Users\\andre\\AppData\\Local\\Programs\\Python\\Python312\\Lib\\site-packages\\optuna\\distributions.py:700: UserWarning: The distribution is specified by [5, 70] and step=2, but the range is not divisible by `step`. It will be replaced by [5, 69].\n",
      "  warnings.warn(\n"
     ]
    },
    {
     "name": "stdout",
     "output_type": "stream",
     "text": [
      "[I 2024-05-27 11:53:20,589] Trial 165 finished with value: 0.012089410260349839 and parameters: {'n_estimators': 48, 'max_depth': 61, 'min_samples_split': 3, 'min_samples_leaf': 3}. Best is trial 104 with value: 0.012087486864930844.\n"
     ]
    },
    {
     "name": "stderr",
     "output_type": "stream",
     "text": [
      "c:\\Users\\andre\\AppData\\Local\\Programs\\Python\\Python312\\Lib\\site-packages\\optuna\\distributions.py:700: UserWarning: The distribution is specified by [5, 70] and step=2, but the range is not divisible by `step`. It will be replaced by [5, 69].\n",
      "  warnings.warn(\n"
     ]
    },
    {
     "name": "stdout",
     "output_type": "stream",
     "text": [
      "[I 2024-05-27 11:54:52,093] Trial 166 finished with value: 0.012173779512340655 and parameters: {'n_estimators': 50, 'max_depth': 63, 'min_samples_split': 5, 'min_samples_leaf': 4}. Best is trial 104 with value: 0.012087486864930844.\n"
     ]
    },
    {
     "name": "stderr",
     "output_type": "stream",
     "text": [
      "c:\\Users\\andre\\AppData\\Local\\Programs\\Python\\Python312\\Lib\\site-packages\\optuna\\distributions.py:700: UserWarning: The distribution is specified by [5, 70] and step=2, but the range is not divisible by `step`. It will be replaced by [5, 69].\n",
      "  warnings.warn(\n"
     ]
    },
    {
     "name": "stdout",
     "output_type": "stream",
     "text": [
      "[I 2024-05-27 11:56:32,250] Trial 167 finished with value: 0.01210385137934272 and parameters: {'n_estimators': 46, 'max_depth': 67, 'min_samples_split': 4, 'min_samples_leaf': 2}. Best is trial 104 with value: 0.012087486864930844.\n"
     ]
    },
    {
     "name": "stderr",
     "output_type": "stream",
     "text": [
      "c:\\Users\\andre\\AppData\\Local\\Programs\\Python\\Python312\\Lib\\site-packages\\optuna\\distributions.py:700: UserWarning: The distribution is specified by [5, 70] and step=2, but the range is not divisible by `step`. It will be replaced by [5, 69].\n",
      "  warnings.warn(\n"
     ]
    },
    {
     "name": "stdout",
     "output_type": "stream",
     "text": [
      "[I 2024-05-27 11:57:58,270] Trial 168 finished with value: 0.012095484937240846 and parameters: {'n_estimators': 46, 'max_depth': 57, 'min_samples_split': 3, 'min_samples_leaf': 3}. Best is trial 104 with value: 0.012087486864930844.\n"
     ]
    },
    {
     "name": "stderr",
     "output_type": "stream",
     "text": [
      "c:\\Users\\andre\\AppData\\Local\\Programs\\Python\\Python312\\Lib\\site-packages\\optuna\\distributions.py:700: UserWarning: The distribution is specified by [5, 70] and step=2, but the range is not divisible by `step`. It will be replaced by [5, 69].\n",
      "  warnings.warn(\n"
     ]
    },
    {
     "name": "stdout",
     "output_type": "stream",
     "text": [
      "[I 2024-05-27 11:59:15,663] Trial 169 finished with value: 0.012166081683821389 and parameters: {'n_estimators': 48, 'max_depth': 69, 'min_samples_split': 5, 'min_samples_leaf': 4}. Best is trial 104 with value: 0.012087486864930844.\n"
     ]
    },
    {
     "name": "stderr",
     "output_type": "stream",
     "text": [
      "c:\\Users\\andre\\AppData\\Local\\Programs\\Python\\Python312\\Lib\\site-packages\\optuna\\distributions.py:700: UserWarning: The distribution is specified by [5, 70] and step=2, but the range is not divisible by `step`. It will be replaced by [5, 69].\n",
      "  warnings.warn(\n"
     ]
    },
    {
     "name": "stdout",
     "output_type": "stream",
     "text": [
      "[I 2024-05-27 12:00:37,792] Trial 170 finished with value: 0.012089410260349839 and parameters: {'n_estimators': 48, 'max_depth': 59, 'min_samples_split': 4, 'min_samples_leaf': 3}. Best is trial 104 with value: 0.012087486864930844.\n"
     ]
    },
    {
     "name": "stderr",
     "output_type": "stream",
     "text": [
      "c:\\Users\\andre\\AppData\\Local\\Programs\\Python\\Python312\\Lib\\site-packages\\optuna\\distributions.py:700: UserWarning: The distribution is specified by [5, 70] and step=2, but the range is not divisible by `step`. It will be replaced by [5, 69].\n",
      "  warnings.warn(\n"
     ]
    },
    {
     "name": "stdout",
     "output_type": "stream",
     "text": [
      "[I 2024-05-27 12:02:02,899] Trial 171 finished with value: 0.012089410260349839 and parameters: {'n_estimators': 48, 'max_depth': 67, 'min_samples_split': 3, 'min_samples_leaf': 3}. Best is trial 104 with value: 0.012087486864930844.\n"
     ]
    },
    {
     "name": "stderr",
     "output_type": "stream",
     "text": [
      "c:\\Users\\andre\\AppData\\Local\\Programs\\Python\\Python312\\Lib\\site-packages\\optuna\\distributions.py:700: UserWarning: The distribution is specified by [5, 70] and step=2, but the range is not divisible by `step`. It will be replaced by [5, 69].\n",
      "  warnings.warn(\n"
     ]
    },
    {
     "name": "stdout",
     "output_type": "stream",
     "text": [
      "[I 2024-05-27 12:03:34,398] Trial 172 finished with value: 0.012089410260349839 and parameters: {'n_estimators': 48, 'max_depth': 65, 'min_samples_split': 3, 'min_samples_leaf': 3}. Best is trial 104 with value: 0.012087486864930844.\n"
     ]
    },
    {
     "name": "stderr",
     "output_type": "stream",
     "text": [
      "c:\\Users\\andre\\AppData\\Local\\Programs\\Python\\Python312\\Lib\\site-packages\\optuna\\distributions.py:700: UserWarning: The distribution is specified by [5, 70] and step=2, but the range is not divisible by `step`. It will be replaced by [5, 69].\n",
      "  warnings.warn(\n"
     ]
    },
    {
     "name": "stdout",
     "output_type": "stream",
     "text": [
      "[I 2024-05-27 12:04:51,573] Trial 173 finished with value: 0.0126449309912058 and parameters: {'n_estimators': 50, 'max_depth': 67, 'min_samples_split': 3, 'min_samples_leaf': 8}. Best is trial 104 with value: 0.012087486864930844.\n"
     ]
    },
    {
     "name": "stderr",
     "output_type": "stream",
     "text": [
      "c:\\Users\\andre\\AppData\\Local\\Programs\\Python\\Python312\\Lib\\site-packages\\optuna\\distributions.py:700: UserWarning: The distribution is specified by [5, 70] and step=2, but the range is not divisible by `step`. It will be replaced by [5, 69].\n",
      "  warnings.warn(\n"
     ]
    },
    {
     "name": "stdout",
     "output_type": "stream",
     "text": [
      "[I 2024-05-27 12:06:06,241] Trial 174 finished with value: 0.012777591669065221 and parameters: {'n_estimators': 48, 'max_depth': 69, 'min_samples_split': 4, 'min_samples_leaf': 9}. Best is trial 104 with value: 0.012087486864930844.\n"
     ]
    },
    {
     "name": "stderr",
     "output_type": "stream",
     "text": [
      "c:\\Users\\andre\\AppData\\Local\\Programs\\Python\\Python312\\Lib\\site-packages\\optuna\\distributions.py:700: UserWarning: The distribution is specified by [5, 70] and step=2, but the range is not divisible by `step`. It will be replaced by [5, 69].\n",
      "  warnings.warn(\n"
     ]
    },
    {
     "name": "stdout",
     "output_type": "stream",
     "text": [
      "[I 2024-05-27 12:07:28,278] Trial 175 finished with value: 0.01216274880160485 and parameters: {'n_estimators': 46, 'max_depth': 63, 'min_samples_split': 2, 'min_samples_leaf': 4}. Best is trial 104 with value: 0.012087486864930844.\n"
     ]
    },
    {
     "name": "stderr",
     "output_type": "stream",
     "text": [
      "c:\\Users\\andre\\AppData\\Local\\Programs\\Python\\Python312\\Lib\\site-packages\\optuna\\distributions.py:700: UserWarning: The distribution is specified by [5, 70] and step=2, but the range is not divisible by `step`. It will be replaced by [5, 69].\n",
      "  warnings.warn(\n"
     ]
    },
    {
     "name": "stdout",
     "output_type": "stream",
     "text": [
      "[I 2024-05-27 12:09:15,535] Trial 176 finished with value: 0.012107475934130254 and parameters: {'n_estimators': 50, 'max_depth': 65, 'min_samples_split': 4, 'min_samples_leaf': 2}. Best is trial 104 with value: 0.012087486864930844.\n"
     ]
    },
    {
     "name": "stderr",
     "output_type": "stream",
     "text": [
      "c:\\Users\\andre\\AppData\\Local\\Programs\\Python\\Python312\\Lib\\site-packages\\optuna\\distributions.py:700: UserWarning: The distribution is specified by [5, 70] and step=2, but the range is not divisible by `step`. It will be replaced by [5, 69].\n",
      "  warnings.warn(\n"
     ]
    },
    {
     "name": "stdout",
     "output_type": "stream",
     "text": [
      "[I 2024-05-27 12:10:48,067] Trial 177 finished with value: 0.012089410260349839 and parameters: {'n_estimators': 48, 'max_depth': 61, 'min_samples_split': 3, 'min_samples_leaf': 3}. Best is trial 104 with value: 0.012087486864930844.\n"
     ]
    },
    {
     "name": "stderr",
     "output_type": "stream",
     "text": [
      "c:\\Users\\andre\\AppData\\Local\\Programs\\Python\\Python312\\Lib\\site-packages\\optuna\\distributions.py:700: UserWarning: The distribution is specified by [5, 70] and step=2, but the range is not divisible by `step`. It will be replaced by [5, 69].\n",
      "  warnings.warn(\n"
     ]
    },
    {
     "name": "stdout",
     "output_type": "stream",
     "text": [
      "[I 2024-05-27 12:12:18,628] Trial 178 finished with value: 0.012095484937240846 and parameters: {'n_estimators': 46, 'max_depth': 67, 'min_samples_split': 5, 'min_samples_leaf': 3}. Best is trial 104 with value: 0.012087486864930844.\n"
     ]
    },
    {
     "name": "stderr",
     "output_type": "stream",
     "text": [
      "c:\\Users\\andre\\AppData\\Local\\Programs\\Python\\Python312\\Lib\\site-packages\\optuna\\distributions.py:700: UserWarning: The distribution is specified by [5, 70] and step=2, but the range is not divisible by `step`. It will be replaced by [5, 69].\n",
      "  warnings.warn(\n"
     ]
    },
    {
     "name": "stdout",
     "output_type": "stream",
     "text": [
      "[I 2024-05-27 12:13:11,375] Trial 179 finished with value: 0.012217736162445796 and parameters: {'n_estimators': 28, 'max_depth': 63, 'min_samples_split': 3, 'min_samples_leaf': 3}. Best is trial 104 with value: 0.012087486864930844.\n"
     ]
    }
   ],
   "source": [
    "with mlflow.start_run(experiment_id=experiment_id, run_name=run_name, nested=True):\n",
    "    # Initialize the Optuna study\n",
    "    # Create study object\n",
    "    study = optuna.create_study(direction=\"minimize\")\n",
    "\n",
    "    # Run optimization process\n",
    "    study.optimize(objective, n_trials=180, show_progress_bar=True)\n",
    "\n",
    "    mlflow.log_params(study.best_params)\n",
    "    mlflow.log_metric(\"best_mape\", study.best_value)\n",
    "\n",
    "    # Log tags\n",
    "    mlflow.set_tags(\n",
    "        tags={\n",
    "            \"project\": \"Energy Demand Prediction\",\n",
    "            \"optimizer_engine\": \"optuna\",\n",
    "            \"model_family\": \"random_forest\",\n",
    "            \"feature_set_version\": 1,\n",
    "        }\n",
    "    )"
   ]
  },
  {
   "cell_type": "code",
   "execution_count": 19,
   "metadata": {},
   "outputs": [
    {
     "data": {
      "application/vnd.plotly.v1+json": {
       "config": {
        "plotlyServerURL": "https://plot.ly"
       },
       "data": [
        {
         "mode": "markers",
         "name": "Objective Value",
         "type": "scatter",
         "x": [
          0,
          1,
          2,
          3,
          4,
          5,
          6,
          7,
          8,
          9,
          10,
          11,
          12,
          13,
          14,
          15,
          16,
          17,
          18,
          19,
          20,
          21,
          22,
          23,
          24,
          25,
          26,
          27,
          28,
          29,
          30,
          31,
          32,
          33,
          34,
          35,
          36,
          37,
          38,
          39,
          40,
          41,
          42,
          43,
          44,
          45,
          46,
          47,
          48,
          49,
          50,
          51,
          52,
          53,
          54,
          55,
          56,
          57,
          58,
          59,
          60,
          61,
          62,
          63,
          64,
          65,
          66,
          67,
          68,
          69,
          70,
          71,
          72,
          73,
          74,
          75,
          76,
          77,
          78,
          79,
          80,
          81,
          82,
          83,
          84,
          85,
          86,
          87,
          88,
          89,
          90,
          91,
          92,
          93,
          94,
          95,
          96,
          97,
          98,
          99,
          100,
          101,
          102,
          103,
          104,
          105,
          106,
          107,
          108,
          109,
          110,
          111,
          112,
          113,
          114,
          115,
          116,
          117,
          118,
          119,
          120,
          121,
          122,
          123,
          124,
          125,
          126,
          127,
          128,
          129,
          130,
          131,
          132,
          133,
          134,
          135,
          136,
          137,
          138,
          139,
          140,
          141,
          142,
          143,
          144,
          145,
          146,
          147,
          148,
          149,
          150,
          151,
          152,
          153,
          154,
          155,
          156,
          157,
          158,
          159,
          160,
          161,
          162,
          163,
          164,
          165,
          166,
          167,
          168,
          169,
          170,
          171,
          172,
          173,
          174,
          175,
          176,
          177,
          178,
          179
         ],
         "y": [
          0.012943566321821242,
          0.012400308434027256,
          0.013578068955607998,
          0.012771835598957886,
          0.013862361711049638,
          0.01272481991565598,
          0.012450963790385045,
          0.012885458375372144,
          0.012506444939519096,
          0.014481001029221563,
          0.012791923279680074,
          0.012814255588096627,
          0.012605106968751757,
          0.018019503704704704,
          0.014157330972293204,
          0.012284982264887685,
          0.012715602673176512,
          0.013182496743972589,
          0.012210449080258713,
          0.012091687875892205,
          0.012178583111690388,
          0.012178583111690388,
          0.012178583111690388,
          0.01218005095916387,
          0.012103543562053577,
          0.012103543562053577,
          0.01250677582579764,
          0.012315886544905947,
          0.012505949563368014,
          0.012915816846904809,
          0.013204585663413022,
          0.012095484937240846,
          0.012095484937240846,
          0.01216274880160485,
          0.012413034359504919,
          0.01217944756496205,
          0.012284517952358466,
          0.013730707616831865,
          0.012123185878091717,
          0.012379386392510846,
          0.012609498113939613,
          0.012103543562053577,
          0.012132940270962273,
          0.012302471479805554,
          0.012094863628534866,
          0.012107475934130254,
          0.01252743648392719,
          0.012803628325183496,
          0.012330889395662407,
          0.014146756317157028,
          0.012294015552332262,
          0.012103543562053577,
          0.012121953946371174,
          0.012166081683821389,
          0.012107475934130254,
          0.012382899465440408,
          0.012267434643375163,
          0.012166081683821389,
          0.012308742307375107,
          0.012880124056656284,
          0.012938801963584953,
          0.012103543562053577,
          0.012111437548123152,
          0.012095484937240846,
          0.012095484937240846,
          0.012166081683821389,
          0.012154162970554098,
          0.012091687875892205,
          0.013450064473787429,
          0.012107475934130254,
          0.012284517952358466,
          0.013933913661561445,
          0.012089410260349839,
          0.012288126860134438,
          0.012089410260349839,
          0.012107475934130254,
          0.012468379303470207,
          0.012166081683821389,
          0.012089410260349839,
          0.012147743672829734,
          0.012094863628534866,
          0.012094863628534866,
          0.012094863628534866,
          0.012172607699863723,
          0.012107475934130254,
          0.012094863628534866,
          0.012091687875892205,
          0.012091687875892205,
          0.012294015552332262,
          0.013057379553302925,
          0.012190266808814952,
          0.012089410260349839,
          0.012091687875892205,
          0.012091687875892205,
          0.012091687875892205,
          0.012091687875892205,
          0.01216274880160485,
          0.012294015552332262,
          0.01216274880160485,
          0.012387403975115082,
          0.012502937367400114,
          0.012091687875892205,
          0.012091687875892205,
          0.012173779512340655,
          0.012087486864930844,
          0.012284517952358466,
          0.012161225788450853,
          0.012412748954856858,
          0.012376654438913542,
          0.012166081683821389,
          0.027547685448198,
          0.012091687875892205,
          0.012091687875892205,
          0.012107475934130254,
          0.012089410260349839,
          0.012166081683821389,
          0.012107290946756354,
          0.012089410260349839,
          0.01227682191439457,
          0.012089410260349839,
          0.01212458992928212,
          0.012089410260349839,
          0.012089410260349839,
          0.012166081683821389,
          0.012123123127391396,
          0.012311403461590674,
          0.01216274880160485,
          0.012089410260349839,
          0.01212458992928212,
          0.012248666404558463,
          0.01216962252355624,
          0.012089410260349839,
          0.012089410260349839,
          0.012094863628534866,
          0.012089410260349839,
          0.012095484937240846,
          0.012166081683821389,
          0.012352067758367799,
          0.01210385137934272,
          0.01242468520241407,
          0.012767244299693958,
          0.012089410260349839,
          0.012089410260349839,
          0.012166081683821389,
          0.012095484937240846,
          0.012123123127391396,
          0.012095484937240846,
          0.014156480203595214,
          0.012101897278073466,
          0.013322144082645272,
          0.012095484937240846,
          0.012089410260349839,
          0.012166081683821389,
          0.012095484937240846,
          0.012089410260349839,
          0.012089410260349839,
          0.01216274880160485,
          0.012101897278073466,
          0.012103543562053577,
          0.012107475934130254,
          0.012166081683821389,
          0.012089410260349839,
          0.012095484937240846,
          0.012101897278073466,
          0.012091687875892205,
          0.012089410260349839,
          0.012173779512340655,
          0.01210385137934272,
          0.012095484937240846,
          0.012166081683821389,
          0.012089410260349839,
          0.012089410260349839,
          0.012089410260349839,
          0.0126449309912058,
          0.012777591669065221,
          0.01216274880160485,
          0.012107475934130254,
          0.012089410260349839,
          0.012095484937240846,
          0.012217736162445796
         ]
        },
        {
         "mode": "lines",
         "name": "Best Value",
         "type": "scatter",
         "x": [
          0,
          1,
          2,
          3,
          4,
          5,
          6,
          7,
          8,
          9,
          10,
          11,
          12,
          13,
          14,
          15,
          16,
          17,
          18,
          19,
          20,
          21,
          22,
          23,
          24,
          25,
          26,
          27,
          28,
          29,
          30,
          31,
          32,
          33,
          34,
          35,
          36,
          37,
          38,
          39,
          40,
          41,
          42,
          43,
          44,
          45,
          46,
          47,
          48,
          49,
          50,
          51,
          52,
          53,
          54,
          55,
          56,
          57,
          58,
          59,
          60,
          61,
          62,
          63,
          64,
          65,
          66,
          67,
          68,
          69,
          70,
          71,
          72,
          73,
          74,
          75,
          76,
          77,
          78,
          79,
          80,
          81,
          82,
          83,
          84,
          85,
          86,
          87,
          88,
          89,
          90,
          91,
          92,
          93,
          94,
          95,
          96,
          97,
          98,
          99,
          100,
          101,
          102,
          103,
          104,
          105,
          106,
          107,
          108,
          109,
          110,
          111,
          112,
          113,
          114,
          115,
          116,
          117,
          118,
          119,
          120,
          121,
          122,
          123,
          124,
          125,
          126,
          127,
          128,
          129,
          130,
          131,
          132,
          133,
          134,
          135,
          136,
          137,
          138,
          139,
          140,
          141,
          142,
          143,
          144,
          145,
          146,
          147,
          148,
          149,
          150,
          151,
          152,
          153,
          154,
          155,
          156,
          157,
          158,
          159,
          160,
          161,
          162,
          163,
          164,
          165,
          166,
          167,
          168,
          169,
          170,
          171,
          172,
          173,
          174,
          175,
          176,
          177,
          178,
          179
         ],
         "y": [
          0.012943566321821242,
          0.012400308434027256,
          0.012400308434027256,
          0.012400308434027256,
          0.012400308434027256,
          0.012400308434027256,
          0.012400308434027256,
          0.012400308434027256,
          0.012400308434027256,
          0.012400308434027256,
          0.012400308434027256,
          0.012400308434027256,
          0.012400308434027256,
          0.012400308434027256,
          0.012400308434027256,
          0.012284982264887685,
          0.012284982264887685,
          0.012284982264887685,
          0.012210449080258713,
          0.012091687875892205,
          0.012091687875892205,
          0.012091687875892205,
          0.012091687875892205,
          0.012091687875892205,
          0.012091687875892205,
          0.012091687875892205,
          0.012091687875892205,
          0.012091687875892205,
          0.012091687875892205,
          0.012091687875892205,
          0.012091687875892205,
          0.012091687875892205,
          0.012091687875892205,
          0.012091687875892205,
          0.012091687875892205,
          0.012091687875892205,
          0.012091687875892205,
          0.012091687875892205,
          0.012091687875892205,
          0.012091687875892205,
          0.012091687875892205,
          0.012091687875892205,
          0.012091687875892205,
          0.012091687875892205,
          0.012091687875892205,
          0.012091687875892205,
          0.012091687875892205,
          0.012091687875892205,
          0.012091687875892205,
          0.012091687875892205,
          0.012091687875892205,
          0.012091687875892205,
          0.012091687875892205,
          0.012091687875892205,
          0.012091687875892205,
          0.012091687875892205,
          0.012091687875892205,
          0.012091687875892205,
          0.012091687875892205,
          0.012091687875892205,
          0.012091687875892205,
          0.012091687875892205,
          0.012091687875892205,
          0.012091687875892205,
          0.012091687875892205,
          0.012091687875892205,
          0.012091687875892205,
          0.012091687875892205,
          0.012091687875892205,
          0.012091687875892205,
          0.012091687875892205,
          0.012091687875892205,
          0.012089410260349839,
          0.012089410260349839,
          0.012089410260349839,
          0.012089410260349839,
          0.012089410260349839,
          0.012089410260349839,
          0.012089410260349839,
          0.012089410260349839,
          0.012089410260349839,
          0.012089410260349839,
          0.012089410260349839,
          0.012089410260349839,
          0.012089410260349839,
          0.012089410260349839,
          0.012089410260349839,
          0.012089410260349839,
          0.012089410260349839,
          0.012089410260349839,
          0.012089410260349839,
          0.012089410260349839,
          0.012089410260349839,
          0.012089410260349839,
          0.012089410260349839,
          0.012089410260349839,
          0.012089410260349839,
          0.012089410260349839,
          0.012089410260349839,
          0.012089410260349839,
          0.012089410260349839,
          0.012089410260349839,
          0.012089410260349839,
          0.012089410260349839,
          0.012087486864930844,
          0.012087486864930844,
          0.012087486864930844,
          0.012087486864930844,
          0.012087486864930844,
          0.012087486864930844,
          0.012087486864930844,
          0.012087486864930844,
          0.012087486864930844,
          0.012087486864930844,
          0.012087486864930844,
          0.012087486864930844,
          0.012087486864930844,
          0.012087486864930844,
          0.012087486864930844,
          0.012087486864930844,
          0.012087486864930844,
          0.012087486864930844,
          0.012087486864930844,
          0.012087486864930844,
          0.012087486864930844,
          0.012087486864930844,
          0.012087486864930844,
          0.012087486864930844,
          0.012087486864930844,
          0.012087486864930844,
          0.012087486864930844,
          0.012087486864930844,
          0.012087486864930844,
          0.012087486864930844,
          0.012087486864930844,
          0.012087486864930844,
          0.012087486864930844,
          0.012087486864930844,
          0.012087486864930844,
          0.012087486864930844,
          0.012087486864930844,
          0.012087486864930844,
          0.012087486864930844,
          0.012087486864930844,
          0.012087486864930844,
          0.012087486864930844,
          0.012087486864930844,
          0.012087486864930844,
          0.012087486864930844,
          0.012087486864930844,
          0.012087486864930844,
          0.012087486864930844,
          0.012087486864930844,
          0.012087486864930844,
          0.012087486864930844,
          0.012087486864930844,
          0.012087486864930844,
          0.012087486864930844,
          0.012087486864930844,
          0.012087486864930844,
          0.012087486864930844,
          0.012087486864930844,
          0.012087486864930844,
          0.012087486864930844,
          0.012087486864930844,
          0.012087486864930844,
          0.012087486864930844,
          0.012087486864930844,
          0.012087486864930844,
          0.012087486864930844,
          0.012087486864930844,
          0.012087486864930844,
          0.012087486864930844,
          0.012087486864930844,
          0.012087486864930844,
          0.012087486864930844,
          0.012087486864930844,
          0.012087486864930844,
          0.012087486864930844,
          0.012087486864930844
         ]
        },
        {
         "marker": {
          "color": "#cccccc"
         },
         "mode": "markers",
         "name": "Infeasible Trial",
         "showlegend": false,
         "type": "scatter",
         "x": [],
         "y": []
        }
       ],
       "layout": {
        "template": {
         "data": {
          "bar": [
           {
            "error_x": {
             "color": "#2a3f5f"
            },
            "error_y": {
             "color": "#2a3f5f"
            },
            "marker": {
             "line": {
              "color": "#E5ECF6",
              "width": 0.5
             },
             "pattern": {
              "fillmode": "overlay",
              "size": 10,
              "solidity": 0.2
             }
            },
            "type": "bar"
           }
          ],
          "barpolar": [
           {
            "marker": {
             "line": {
              "color": "#E5ECF6",
              "width": 0.5
             },
             "pattern": {
              "fillmode": "overlay",
              "size": 10,
              "solidity": 0.2
             }
            },
            "type": "barpolar"
           }
          ],
          "carpet": [
           {
            "aaxis": {
             "endlinecolor": "#2a3f5f",
             "gridcolor": "white",
             "linecolor": "white",
             "minorgridcolor": "white",
             "startlinecolor": "#2a3f5f"
            },
            "baxis": {
             "endlinecolor": "#2a3f5f",
             "gridcolor": "white",
             "linecolor": "white",
             "minorgridcolor": "white",
             "startlinecolor": "#2a3f5f"
            },
            "type": "carpet"
           }
          ],
          "choropleth": [
           {
            "colorbar": {
             "outlinewidth": 0,
             "ticks": ""
            },
            "type": "choropleth"
           }
          ],
          "contour": [
           {
            "colorbar": {
             "outlinewidth": 0,
             "ticks": ""
            },
            "colorscale": [
             [
              0,
              "#0d0887"
             ],
             [
              0.1111111111111111,
              "#46039f"
             ],
             [
              0.2222222222222222,
              "#7201a8"
             ],
             [
              0.3333333333333333,
              "#9c179e"
             ],
             [
              0.4444444444444444,
              "#bd3786"
             ],
             [
              0.5555555555555556,
              "#d8576b"
             ],
             [
              0.6666666666666666,
              "#ed7953"
             ],
             [
              0.7777777777777778,
              "#fb9f3a"
             ],
             [
              0.8888888888888888,
              "#fdca26"
             ],
             [
              1,
              "#f0f921"
             ]
            ],
            "type": "contour"
           }
          ],
          "contourcarpet": [
           {
            "colorbar": {
             "outlinewidth": 0,
             "ticks": ""
            },
            "type": "contourcarpet"
           }
          ],
          "heatmap": [
           {
            "colorbar": {
             "outlinewidth": 0,
             "ticks": ""
            },
            "colorscale": [
             [
              0,
              "#0d0887"
             ],
             [
              0.1111111111111111,
              "#46039f"
             ],
             [
              0.2222222222222222,
              "#7201a8"
             ],
             [
              0.3333333333333333,
              "#9c179e"
             ],
             [
              0.4444444444444444,
              "#bd3786"
             ],
             [
              0.5555555555555556,
              "#d8576b"
             ],
             [
              0.6666666666666666,
              "#ed7953"
             ],
             [
              0.7777777777777778,
              "#fb9f3a"
             ],
             [
              0.8888888888888888,
              "#fdca26"
             ],
             [
              1,
              "#f0f921"
             ]
            ],
            "type": "heatmap"
           }
          ],
          "heatmapgl": [
           {
            "colorbar": {
             "outlinewidth": 0,
             "ticks": ""
            },
            "colorscale": [
             [
              0,
              "#0d0887"
             ],
             [
              0.1111111111111111,
              "#46039f"
             ],
             [
              0.2222222222222222,
              "#7201a8"
             ],
             [
              0.3333333333333333,
              "#9c179e"
             ],
             [
              0.4444444444444444,
              "#bd3786"
             ],
             [
              0.5555555555555556,
              "#d8576b"
             ],
             [
              0.6666666666666666,
              "#ed7953"
             ],
             [
              0.7777777777777778,
              "#fb9f3a"
             ],
             [
              0.8888888888888888,
              "#fdca26"
             ],
             [
              1,
              "#f0f921"
             ]
            ],
            "type": "heatmapgl"
           }
          ],
          "histogram": [
           {
            "marker": {
             "pattern": {
              "fillmode": "overlay",
              "size": 10,
              "solidity": 0.2
             }
            },
            "type": "histogram"
           }
          ],
          "histogram2d": [
           {
            "colorbar": {
             "outlinewidth": 0,
             "ticks": ""
            },
            "colorscale": [
             [
              0,
              "#0d0887"
             ],
             [
              0.1111111111111111,
              "#46039f"
             ],
             [
              0.2222222222222222,
              "#7201a8"
             ],
             [
              0.3333333333333333,
              "#9c179e"
             ],
             [
              0.4444444444444444,
              "#bd3786"
             ],
             [
              0.5555555555555556,
              "#d8576b"
             ],
             [
              0.6666666666666666,
              "#ed7953"
             ],
             [
              0.7777777777777778,
              "#fb9f3a"
             ],
             [
              0.8888888888888888,
              "#fdca26"
             ],
             [
              1,
              "#f0f921"
             ]
            ],
            "type": "histogram2d"
           }
          ],
          "histogram2dcontour": [
           {
            "colorbar": {
             "outlinewidth": 0,
             "ticks": ""
            },
            "colorscale": [
             [
              0,
              "#0d0887"
             ],
             [
              0.1111111111111111,
              "#46039f"
             ],
             [
              0.2222222222222222,
              "#7201a8"
             ],
             [
              0.3333333333333333,
              "#9c179e"
             ],
             [
              0.4444444444444444,
              "#bd3786"
             ],
             [
              0.5555555555555556,
              "#d8576b"
             ],
             [
              0.6666666666666666,
              "#ed7953"
             ],
             [
              0.7777777777777778,
              "#fb9f3a"
             ],
             [
              0.8888888888888888,
              "#fdca26"
             ],
             [
              1,
              "#f0f921"
             ]
            ],
            "type": "histogram2dcontour"
           }
          ],
          "mesh3d": [
           {
            "colorbar": {
             "outlinewidth": 0,
             "ticks": ""
            },
            "type": "mesh3d"
           }
          ],
          "parcoords": [
           {
            "line": {
             "colorbar": {
              "outlinewidth": 0,
              "ticks": ""
             }
            },
            "type": "parcoords"
           }
          ],
          "pie": [
           {
            "automargin": true,
            "type": "pie"
           }
          ],
          "scatter": [
           {
            "fillpattern": {
             "fillmode": "overlay",
             "size": 10,
             "solidity": 0.2
            },
            "type": "scatter"
           }
          ],
          "scatter3d": [
           {
            "line": {
             "colorbar": {
              "outlinewidth": 0,
              "ticks": ""
             }
            },
            "marker": {
             "colorbar": {
              "outlinewidth": 0,
              "ticks": ""
             }
            },
            "type": "scatter3d"
           }
          ],
          "scattercarpet": [
           {
            "marker": {
             "colorbar": {
              "outlinewidth": 0,
              "ticks": ""
             }
            },
            "type": "scattercarpet"
           }
          ],
          "scattergeo": [
           {
            "marker": {
             "colorbar": {
              "outlinewidth": 0,
              "ticks": ""
             }
            },
            "type": "scattergeo"
           }
          ],
          "scattergl": [
           {
            "marker": {
             "colorbar": {
              "outlinewidth": 0,
              "ticks": ""
             }
            },
            "type": "scattergl"
           }
          ],
          "scattermapbox": [
           {
            "marker": {
             "colorbar": {
              "outlinewidth": 0,
              "ticks": ""
             }
            },
            "type": "scattermapbox"
           }
          ],
          "scatterpolar": [
           {
            "marker": {
             "colorbar": {
              "outlinewidth": 0,
              "ticks": ""
             }
            },
            "type": "scatterpolar"
           }
          ],
          "scatterpolargl": [
           {
            "marker": {
             "colorbar": {
              "outlinewidth": 0,
              "ticks": ""
             }
            },
            "type": "scatterpolargl"
           }
          ],
          "scatterternary": [
           {
            "marker": {
             "colorbar": {
              "outlinewidth": 0,
              "ticks": ""
             }
            },
            "type": "scatterternary"
           }
          ],
          "surface": [
           {
            "colorbar": {
             "outlinewidth": 0,
             "ticks": ""
            },
            "colorscale": [
             [
              0,
              "#0d0887"
             ],
             [
              0.1111111111111111,
              "#46039f"
             ],
             [
              0.2222222222222222,
              "#7201a8"
             ],
             [
              0.3333333333333333,
              "#9c179e"
             ],
             [
              0.4444444444444444,
              "#bd3786"
             ],
             [
              0.5555555555555556,
              "#d8576b"
             ],
             [
              0.6666666666666666,
              "#ed7953"
             ],
             [
              0.7777777777777778,
              "#fb9f3a"
             ],
             [
              0.8888888888888888,
              "#fdca26"
             ],
             [
              1,
              "#f0f921"
             ]
            ],
            "type": "surface"
           }
          ],
          "table": [
           {
            "cells": {
             "fill": {
              "color": "#EBF0F8"
             },
             "line": {
              "color": "white"
             }
            },
            "header": {
             "fill": {
              "color": "#C8D4E3"
             },
             "line": {
              "color": "white"
             }
            },
            "type": "table"
           }
          ]
         },
         "layout": {
          "annotationdefaults": {
           "arrowcolor": "#2a3f5f",
           "arrowhead": 0,
           "arrowwidth": 1
          },
          "autotypenumbers": "strict",
          "coloraxis": {
           "colorbar": {
            "outlinewidth": 0,
            "ticks": ""
           }
          },
          "colorscale": {
           "diverging": [
            [
             0,
             "#8e0152"
            ],
            [
             0.1,
             "#c51b7d"
            ],
            [
             0.2,
             "#de77ae"
            ],
            [
             0.3,
             "#f1b6da"
            ],
            [
             0.4,
             "#fde0ef"
            ],
            [
             0.5,
             "#f7f7f7"
            ],
            [
             0.6,
             "#e6f5d0"
            ],
            [
             0.7,
             "#b8e186"
            ],
            [
             0.8,
             "#7fbc41"
            ],
            [
             0.9,
             "#4d9221"
            ],
            [
             1,
             "#276419"
            ]
           ],
           "sequential": [
            [
             0,
             "#0d0887"
            ],
            [
             0.1111111111111111,
             "#46039f"
            ],
            [
             0.2222222222222222,
             "#7201a8"
            ],
            [
             0.3333333333333333,
             "#9c179e"
            ],
            [
             0.4444444444444444,
             "#bd3786"
            ],
            [
             0.5555555555555556,
             "#d8576b"
            ],
            [
             0.6666666666666666,
             "#ed7953"
            ],
            [
             0.7777777777777778,
             "#fb9f3a"
            ],
            [
             0.8888888888888888,
             "#fdca26"
            ],
            [
             1,
             "#f0f921"
            ]
           ],
           "sequentialminus": [
            [
             0,
             "#0d0887"
            ],
            [
             0.1111111111111111,
             "#46039f"
            ],
            [
             0.2222222222222222,
             "#7201a8"
            ],
            [
             0.3333333333333333,
             "#9c179e"
            ],
            [
             0.4444444444444444,
             "#bd3786"
            ],
            [
             0.5555555555555556,
             "#d8576b"
            ],
            [
             0.6666666666666666,
             "#ed7953"
            ],
            [
             0.7777777777777778,
             "#fb9f3a"
            ],
            [
             0.8888888888888888,
             "#fdca26"
            ],
            [
             1,
             "#f0f921"
            ]
           ]
          },
          "colorway": [
           "#636efa",
           "#EF553B",
           "#00cc96",
           "#ab63fa",
           "#FFA15A",
           "#19d3f3",
           "#FF6692",
           "#B6E880",
           "#FF97FF",
           "#FECB52"
          ],
          "font": {
           "color": "#2a3f5f"
          },
          "geo": {
           "bgcolor": "white",
           "lakecolor": "white",
           "landcolor": "#E5ECF6",
           "showlakes": true,
           "showland": true,
           "subunitcolor": "white"
          },
          "hoverlabel": {
           "align": "left"
          },
          "hovermode": "closest",
          "mapbox": {
           "style": "light"
          },
          "paper_bgcolor": "white",
          "plot_bgcolor": "#E5ECF6",
          "polar": {
           "angularaxis": {
            "gridcolor": "white",
            "linecolor": "white",
            "ticks": ""
           },
           "bgcolor": "#E5ECF6",
           "radialaxis": {
            "gridcolor": "white",
            "linecolor": "white",
            "ticks": ""
           }
          },
          "scene": {
           "xaxis": {
            "backgroundcolor": "#E5ECF6",
            "gridcolor": "white",
            "gridwidth": 2,
            "linecolor": "white",
            "showbackground": true,
            "ticks": "",
            "zerolinecolor": "white"
           },
           "yaxis": {
            "backgroundcolor": "#E5ECF6",
            "gridcolor": "white",
            "gridwidth": 2,
            "linecolor": "white",
            "showbackground": true,
            "ticks": "",
            "zerolinecolor": "white"
           },
           "zaxis": {
            "backgroundcolor": "#E5ECF6",
            "gridcolor": "white",
            "gridwidth": 2,
            "linecolor": "white",
            "showbackground": true,
            "ticks": "",
            "zerolinecolor": "white"
           }
          },
          "shapedefaults": {
           "line": {
            "color": "#2a3f5f"
           }
          },
          "ternary": {
           "aaxis": {
            "gridcolor": "white",
            "linecolor": "white",
            "ticks": ""
           },
           "baxis": {
            "gridcolor": "white",
            "linecolor": "white",
            "ticks": ""
           },
           "bgcolor": "#E5ECF6",
           "caxis": {
            "gridcolor": "white",
            "linecolor": "white",
            "ticks": ""
           }
          },
          "title": {
           "x": 0.05
          },
          "xaxis": {
           "automargin": true,
           "gridcolor": "white",
           "linecolor": "white",
           "ticks": "",
           "title": {
            "standoff": 15
           },
           "zerolinecolor": "white",
           "zerolinewidth": 2
          },
          "yaxis": {
           "automargin": true,
           "gridcolor": "white",
           "linecolor": "white",
           "ticks": "",
           "title": {
            "standoff": 15
           },
           "zerolinecolor": "white",
           "zerolinewidth": 2
          }
         }
        },
        "title": {
         "text": "Optimization History Plot"
        },
        "xaxis": {
         "title": {
          "text": "Trial"
         }
        },
        "yaxis": {
         "title": {
          "text": "Objective Value"
         }
        }
       }
      }
     },
     "metadata": {},
     "output_type": "display_data"
    }
   ],
   "source": [
    "# Import optuna.visualization\n",
    "import optuna.visualization as vis\n",
    "\n",
    "# Plot optimization history\n",
    "fig_1 = vis.plot_optimization_history(study) \n",
    "fig_1"
   ]
  },
  {
   "cell_type": "code",
   "execution_count": 17,
   "metadata": {},
   "outputs": [
    {
     "data": {
      "application/vnd.plotly.v1+json": {
       "config": {
        "plotlyServerURL": "https://plot.ly"
       },
       "data": [
        {
         "cliponaxis": false,
         "hovertemplate": [
          "min_samples_split (IntDistribution): 0.0038309762417415255<extra></extra>",
          "n_estimators (IntDistribution): 0.004205300727177036<extra></extra>",
          "min_samples_leaf (IntDistribution): 0.2056668010950543<extra></extra>",
          "max_depth (IntDistribution): 0.7862969219360272<extra></extra>"
         ],
         "name": "Objective Value",
         "orientation": "h",
         "text": [
          "<0.01",
          "<0.01",
          "0.21",
          "0.79"
         ],
         "textposition": "outside",
         "type": "bar",
         "x": [
          0.0038309762417415255,
          0.004205300727177036,
          0.2056668010950543,
          0.7862969219360272
         ],
         "y": [
          "min_samples_split",
          "n_estimators",
          "min_samples_leaf",
          "max_depth"
         ]
        }
       ],
       "layout": {
        "template": {
         "data": {
          "bar": [
           {
            "error_x": {
             "color": "#2a3f5f"
            },
            "error_y": {
             "color": "#2a3f5f"
            },
            "marker": {
             "line": {
              "color": "#E5ECF6",
              "width": 0.5
             },
             "pattern": {
              "fillmode": "overlay",
              "size": 10,
              "solidity": 0.2
             }
            },
            "type": "bar"
           }
          ],
          "barpolar": [
           {
            "marker": {
             "line": {
              "color": "#E5ECF6",
              "width": 0.5
             },
             "pattern": {
              "fillmode": "overlay",
              "size": 10,
              "solidity": 0.2
             }
            },
            "type": "barpolar"
           }
          ],
          "carpet": [
           {
            "aaxis": {
             "endlinecolor": "#2a3f5f",
             "gridcolor": "white",
             "linecolor": "white",
             "minorgridcolor": "white",
             "startlinecolor": "#2a3f5f"
            },
            "baxis": {
             "endlinecolor": "#2a3f5f",
             "gridcolor": "white",
             "linecolor": "white",
             "minorgridcolor": "white",
             "startlinecolor": "#2a3f5f"
            },
            "type": "carpet"
           }
          ],
          "choropleth": [
           {
            "colorbar": {
             "outlinewidth": 0,
             "ticks": ""
            },
            "type": "choropleth"
           }
          ],
          "contour": [
           {
            "colorbar": {
             "outlinewidth": 0,
             "ticks": ""
            },
            "colorscale": [
             [
              0,
              "#0d0887"
             ],
             [
              0.1111111111111111,
              "#46039f"
             ],
             [
              0.2222222222222222,
              "#7201a8"
             ],
             [
              0.3333333333333333,
              "#9c179e"
             ],
             [
              0.4444444444444444,
              "#bd3786"
             ],
             [
              0.5555555555555556,
              "#d8576b"
             ],
             [
              0.6666666666666666,
              "#ed7953"
             ],
             [
              0.7777777777777778,
              "#fb9f3a"
             ],
             [
              0.8888888888888888,
              "#fdca26"
             ],
             [
              1,
              "#f0f921"
             ]
            ],
            "type": "contour"
           }
          ],
          "contourcarpet": [
           {
            "colorbar": {
             "outlinewidth": 0,
             "ticks": ""
            },
            "type": "contourcarpet"
           }
          ],
          "heatmap": [
           {
            "colorbar": {
             "outlinewidth": 0,
             "ticks": ""
            },
            "colorscale": [
             [
              0,
              "#0d0887"
             ],
             [
              0.1111111111111111,
              "#46039f"
             ],
             [
              0.2222222222222222,
              "#7201a8"
             ],
             [
              0.3333333333333333,
              "#9c179e"
             ],
             [
              0.4444444444444444,
              "#bd3786"
             ],
             [
              0.5555555555555556,
              "#d8576b"
             ],
             [
              0.6666666666666666,
              "#ed7953"
             ],
             [
              0.7777777777777778,
              "#fb9f3a"
             ],
             [
              0.8888888888888888,
              "#fdca26"
             ],
             [
              1,
              "#f0f921"
             ]
            ],
            "type": "heatmap"
           }
          ],
          "heatmapgl": [
           {
            "colorbar": {
             "outlinewidth": 0,
             "ticks": ""
            },
            "colorscale": [
             [
              0,
              "#0d0887"
             ],
             [
              0.1111111111111111,
              "#46039f"
             ],
             [
              0.2222222222222222,
              "#7201a8"
             ],
             [
              0.3333333333333333,
              "#9c179e"
             ],
             [
              0.4444444444444444,
              "#bd3786"
             ],
             [
              0.5555555555555556,
              "#d8576b"
             ],
             [
              0.6666666666666666,
              "#ed7953"
             ],
             [
              0.7777777777777778,
              "#fb9f3a"
             ],
             [
              0.8888888888888888,
              "#fdca26"
             ],
             [
              1,
              "#f0f921"
             ]
            ],
            "type": "heatmapgl"
           }
          ],
          "histogram": [
           {
            "marker": {
             "pattern": {
              "fillmode": "overlay",
              "size": 10,
              "solidity": 0.2
             }
            },
            "type": "histogram"
           }
          ],
          "histogram2d": [
           {
            "colorbar": {
             "outlinewidth": 0,
             "ticks": ""
            },
            "colorscale": [
             [
              0,
              "#0d0887"
             ],
             [
              0.1111111111111111,
              "#46039f"
             ],
             [
              0.2222222222222222,
              "#7201a8"
             ],
             [
              0.3333333333333333,
              "#9c179e"
             ],
             [
              0.4444444444444444,
              "#bd3786"
             ],
             [
              0.5555555555555556,
              "#d8576b"
             ],
             [
              0.6666666666666666,
              "#ed7953"
             ],
             [
              0.7777777777777778,
              "#fb9f3a"
             ],
             [
              0.8888888888888888,
              "#fdca26"
             ],
             [
              1,
              "#f0f921"
             ]
            ],
            "type": "histogram2d"
           }
          ],
          "histogram2dcontour": [
           {
            "colorbar": {
             "outlinewidth": 0,
             "ticks": ""
            },
            "colorscale": [
             [
              0,
              "#0d0887"
             ],
             [
              0.1111111111111111,
              "#46039f"
             ],
             [
              0.2222222222222222,
              "#7201a8"
             ],
             [
              0.3333333333333333,
              "#9c179e"
             ],
             [
              0.4444444444444444,
              "#bd3786"
             ],
             [
              0.5555555555555556,
              "#d8576b"
             ],
             [
              0.6666666666666666,
              "#ed7953"
             ],
             [
              0.7777777777777778,
              "#fb9f3a"
             ],
             [
              0.8888888888888888,
              "#fdca26"
             ],
             [
              1,
              "#f0f921"
             ]
            ],
            "type": "histogram2dcontour"
           }
          ],
          "mesh3d": [
           {
            "colorbar": {
             "outlinewidth": 0,
             "ticks": ""
            },
            "type": "mesh3d"
           }
          ],
          "parcoords": [
           {
            "line": {
             "colorbar": {
              "outlinewidth": 0,
              "ticks": ""
             }
            },
            "type": "parcoords"
           }
          ],
          "pie": [
           {
            "automargin": true,
            "type": "pie"
           }
          ],
          "scatter": [
           {
            "fillpattern": {
             "fillmode": "overlay",
             "size": 10,
             "solidity": 0.2
            },
            "type": "scatter"
           }
          ],
          "scatter3d": [
           {
            "line": {
             "colorbar": {
              "outlinewidth": 0,
              "ticks": ""
             }
            },
            "marker": {
             "colorbar": {
              "outlinewidth": 0,
              "ticks": ""
             }
            },
            "type": "scatter3d"
           }
          ],
          "scattercarpet": [
           {
            "marker": {
             "colorbar": {
              "outlinewidth": 0,
              "ticks": ""
             }
            },
            "type": "scattercarpet"
           }
          ],
          "scattergeo": [
           {
            "marker": {
             "colorbar": {
              "outlinewidth": 0,
              "ticks": ""
             }
            },
            "type": "scattergeo"
           }
          ],
          "scattergl": [
           {
            "marker": {
             "colorbar": {
              "outlinewidth": 0,
              "ticks": ""
             }
            },
            "type": "scattergl"
           }
          ],
          "scattermapbox": [
           {
            "marker": {
             "colorbar": {
              "outlinewidth": 0,
              "ticks": ""
             }
            },
            "type": "scattermapbox"
           }
          ],
          "scatterpolar": [
           {
            "marker": {
             "colorbar": {
              "outlinewidth": 0,
              "ticks": ""
             }
            },
            "type": "scatterpolar"
           }
          ],
          "scatterpolargl": [
           {
            "marker": {
             "colorbar": {
              "outlinewidth": 0,
              "ticks": ""
             }
            },
            "type": "scatterpolargl"
           }
          ],
          "scatterternary": [
           {
            "marker": {
             "colorbar": {
              "outlinewidth": 0,
              "ticks": ""
             }
            },
            "type": "scatterternary"
           }
          ],
          "surface": [
           {
            "colorbar": {
             "outlinewidth": 0,
             "ticks": ""
            },
            "colorscale": [
             [
              0,
              "#0d0887"
             ],
             [
              0.1111111111111111,
              "#46039f"
             ],
             [
              0.2222222222222222,
              "#7201a8"
             ],
             [
              0.3333333333333333,
              "#9c179e"
             ],
             [
              0.4444444444444444,
              "#bd3786"
             ],
             [
              0.5555555555555556,
              "#d8576b"
             ],
             [
              0.6666666666666666,
              "#ed7953"
             ],
             [
              0.7777777777777778,
              "#fb9f3a"
             ],
             [
              0.8888888888888888,
              "#fdca26"
             ],
             [
              1,
              "#f0f921"
             ]
            ],
            "type": "surface"
           }
          ],
          "table": [
           {
            "cells": {
             "fill": {
              "color": "#EBF0F8"
             },
             "line": {
              "color": "white"
             }
            },
            "header": {
             "fill": {
              "color": "#C8D4E3"
             },
             "line": {
              "color": "white"
             }
            },
            "type": "table"
           }
          ]
         },
         "layout": {
          "annotationdefaults": {
           "arrowcolor": "#2a3f5f",
           "arrowhead": 0,
           "arrowwidth": 1
          },
          "autotypenumbers": "strict",
          "coloraxis": {
           "colorbar": {
            "outlinewidth": 0,
            "ticks": ""
           }
          },
          "colorscale": {
           "diverging": [
            [
             0,
             "#8e0152"
            ],
            [
             0.1,
             "#c51b7d"
            ],
            [
             0.2,
             "#de77ae"
            ],
            [
             0.3,
             "#f1b6da"
            ],
            [
             0.4,
             "#fde0ef"
            ],
            [
             0.5,
             "#f7f7f7"
            ],
            [
             0.6,
             "#e6f5d0"
            ],
            [
             0.7,
             "#b8e186"
            ],
            [
             0.8,
             "#7fbc41"
            ],
            [
             0.9,
             "#4d9221"
            ],
            [
             1,
             "#276419"
            ]
           ],
           "sequential": [
            [
             0,
             "#0d0887"
            ],
            [
             0.1111111111111111,
             "#46039f"
            ],
            [
             0.2222222222222222,
             "#7201a8"
            ],
            [
             0.3333333333333333,
             "#9c179e"
            ],
            [
             0.4444444444444444,
             "#bd3786"
            ],
            [
             0.5555555555555556,
             "#d8576b"
            ],
            [
             0.6666666666666666,
             "#ed7953"
            ],
            [
             0.7777777777777778,
             "#fb9f3a"
            ],
            [
             0.8888888888888888,
             "#fdca26"
            ],
            [
             1,
             "#f0f921"
            ]
           ],
           "sequentialminus": [
            [
             0,
             "#0d0887"
            ],
            [
             0.1111111111111111,
             "#46039f"
            ],
            [
             0.2222222222222222,
             "#7201a8"
            ],
            [
             0.3333333333333333,
             "#9c179e"
            ],
            [
             0.4444444444444444,
             "#bd3786"
            ],
            [
             0.5555555555555556,
             "#d8576b"
            ],
            [
             0.6666666666666666,
             "#ed7953"
            ],
            [
             0.7777777777777778,
             "#fb9f3a"
            ],
            [
             0.8888888888888888,
             "#fdca26"
            ],
            [
             1,
             "#f0f921"
            ]
           ]
          },
          "colorway": [
           "#636efa",
           "#EF553B",
           "#00cc96",
           "#ab63fa",
           "#FFA15A",
           "#19d3f3",
           "#FF6692",
           "#B6E880",
           "#FF97FF",
           "#FECB52"
          ],
          "font": {
           "color": "#2a3f5f"
          },
          "geo": {
           "bgcolor": "white",
           "lakecolor": "white",
           "landcolor": "#E5ECF6",
           "showlakes": true,
           "showland": true,
           "subunitcolor": "white"
          },
          "hoverlabel": {
           "align": "left"
          },
          "hovermode": "closest",
          "mapbox": {
           "style": "light"
          },
          "paper_bgcolor": "white",
          "plot_bgcolor": "#E5ECF6",
          "polar": {
           "angularaxis": {
            "gridcolor": "white",
            "linecolor": "white",
            "ticks": ""
           },
           "bgcolor": "#E5ECF6",
           "radialaxis": {
            "gridcolor": "white",
            "linecolor": "white",
            "ticks": ""
           }
          },
          "scene": {
           "xaxis": {
            "backgroundcolor": "#E5ECF6",
            "gridcolor": "white",
            "gridwidth": 2,
            "linecolor": "white",
            "showbackground": true,
            "ticks": "",
            "zerolinecolor": "white"
           },
           "yaxis": {
            "backgroundcolor": "#E5ECF6",
            "gridcolor": "white",
            "gridwidth": 2,
            "linecolor": "white",
            "showbackground": true,
            "ticks": "",
            "zerolinecolor": "white"
           },
           "zaxis": {
            "backgroundcolor": "#E5ECF6",
            "gridcolor": "white",
            "gridwidth": 2,
            "linecolor": "white",
            "showbackground": true,
            "ticks": "",
            "zerolinecolor": "white"
           }
          },
          "shapedefaults": {
           "line": {
            "color": "#2a3f5f"
           }
          },
          "ternary": {
           "aaxis": {
            "gridcolor": "white",
            "linecolor": "white",
            "ticks": ""
           },
           "baxis": {
            "gridcolor": "white",
            "linecolor": "white",
            "ticks": ""
           },
           "bgcolor": "#E5ECF6",
           "caxis": {
            "gridcolor": "white",
            "linecolor": "white",
            "ticks": ""
           }
          },
          "title": {
           "x": 0.05
          },
          "xaxis": {
           "automargin": true,
           "gridcolor": "white",
           "linecolor": "white",
           "ticks": "",
           "title": {
            "standoff": 15
           },
           "zerolinecolor": "white",
           "zerolinewidth": 2
          },
          "yaxis": {
           "automargin": true,
           "gridcolor": "white",
           "linecolor": "white",
           "ticks": "",
           "title": {
            "standoff": 15
           },
           "zerolinecolor": "white",
           "zerolinewidth": 2
          }
         }
        },
        "title": {
         "text": "Hyperparameter Importances"
        },
        "xaxis": {
         "title": {
          "text": "Hyperparameter Importance"
         }
        },
        "yaxis": {
         "title": {
          "text": "Hyperparameter"
         }
        }
       }
      }
     },
     "metadata": {},
     "output_type": "display_data"
    }
   ],
   "source": [
    "fig_2 = vis.plot_param_importances(study)\n",
    "fig_2"
   ]
  },
  {
   "cell_type": "code",
   "execution_count": 21,
   "metadata": {},
   "outputs": [
    {
     "data": {
      "application/vnd.plotly.v1+json": {
       "config": {
        "plotlyServerURL": "https://plot.ly"
       },
       "data": [
        {
         "type": "scatter",
         "xaxis": "x",
         "yaxis": "y"
        },
        {
         "colorbar": {
          "title": {
           "text": "Objective Value"
          }
         },
         "colorscale": [
          [
           0,
           "rgb(0, 147, 146)"
          ],
          [
           0.16666666666666666,
           "rgb(114, 170, 161)"
          ],
          [
           0.3333333333333333,
           "rgb(177, 199, 179)"
          ],
          [
           0.5,
           "rgb(241, 234, 200)"
          ],
          [
           0.6666666666666666,
           "rgb(229, 185, 173)"
          ],
          [
           0.8333333333333334,
           "rgb(217, 137, 148)"
          ],
          [
           1,
           "rgb(208, 88, 126)"
          ]
         ],
         "connectgaps": true,
         "contours": {
          "coloring": "heatmap"
         },
         "hoverinfo": "none",
         "line": {
          "smoothing": 1.3
         },
         "reversescale": false,
         "showscale": true,
         "type": "contour",
         "x": [
          1.7999999999999998,
          5,
          7,
          9,
          11,
          13,
          15,
          17,
          19,
          21,
          23,
          25,
          27,
          29,
          31,
          33,
          35,
          37,
          39,
          41,
          43,
          45,
          47,
          49,
          51,
          53,
          55,
          57,
          59,
          61,
          63,
          65,
          67,
          69,
          72.2
         ],
         "xaxis": "x5",
         "y": [
          0.04999999999999993,
          1,
          2,
          3,
          4,
          5,
          6,
          7,
          8,
          9,
          10,
          11,
          12,
          13,
          14,
          15,
          16,
          17,
          18,
          20,
          20.95
         ],
         "yaxis": "y5",
         "z": [
          [
           null,
           null,
           null,
           null,
           null,
           null,
           null,
           null,
           null,
           null,
           null,
           null,
           null,
           null,
           null,
           null,
           null,
           null,
           null,
           null,
           null,
           null,
           null,
           null,
           null,
           null,
           null,
           null,
           null,
           null,
           null,
           null,
           null,
           null,
           null
          ],
          [
           null,
           null,
           null,
           null,
           null,
           0.012376654438913542,
           null,
           null,
           null,
           null,
           null,
           null,
           null,
           null,
           0.012771835598957886,
           null,
           null,
           null,
           null,
           0.012178583111690388,
           null,
           null,
           0.012938801963584953,
           0.012267434643375163,
           null,
           null,
           null,
           0.01218005095916387,
           null,
           0.012767244299693958,
           null,
           0.012154162970554098,
           0.012147743672829734,
           0.012172607699863723,
           null
          ],
          [
           null,
           null,
           null,
           null,
           0.012885458375372144,
           null,
           null,
           null,
           null,
           null,
           0.012107290946756354,
           null,
           null,
           null,
           null,
           0.012506444939519096,
           null,
           null,
           0.012107475934130254,
           null,
           null,
           null,
           null,
           0.012330889395662407,
           null,
           0.012111437548123152,
           0.012107475934130254,
           0.01212458992928212,
           0.012132940270962273,
           0.012094863628534866,
           0.012101897278073466,
           0.012107475934130254,
           0.012094863628534866,
           0.012094863628534866,
           null
          ],
          [
           null,
           null,
           null,
           null,
           null,
           null,
           null,
           null,
           null,
           null,
           0.012087486864930844,
           null,
           0.012210449080258713,
           null,
           null,
           0.012091687875892205,
           0.01217944756496205,
           null,
           null,
           0.012091687875892205,
           null,
           0.012095484937240846,
           null,
           null,
           0.012103543562053577,
           0.012315886544905947,
           0.012103543562053577,
           0.012095484937240846,
           0.012089410260349839,
           0.012089410260349839,
           0.012089410260349839,
           0.012089410260349839,
           0.012089410260349839,
           0.012089410260349839,
           null
          ],
          [
           null,
           null,
           null,
           0.014156480203595214,
           null,
           0.012450963790385045,
           0.012190266808814952,
           0.01216962252355624,
           0.012284982264887685,
           0.012161225788450853,
           null,
           null,
           null,
           null,
           0.012609498113939613,
           null,
           null,
           null,
           null,
           null,
           null,
           0.01216274880160485,
           null,
           null,
           null,
           0.012166081683821389,
           null,
           0.012166081683821389,
           0.012166081683821389,
           0.012166081683821389,
           0.01216274880160485,
           0.01216274880160485,
           null,
           0.01216274880160485,
           null
          ],
          [
           null,
           null,
           0.018019503704704704,
           null,
           null,
           null,
           null,
           null,
           null,
           null,
           null,
           0.012400308434027256,
           null,
           null,
           null,
           null,
           null,
           0.012284517952358466,
           null,
           null,
           null,
           0.012302471479805554,
           null,
           null,
           null,
           null,
           null,
           null,
           0.01227682191439457,
           null,
           0.01242468520241407,
           0.012294015552332262,
           0.012284517952358466,
           0.012294015552332262,
           null
          ],
          [
           null,
           0.027547685448198,
           null,
           null,
           null,
           null,
           null,
           null,
           0.012814255588096627,
           null,
           null,
           null,
           null,
           null,
           null,
           null,
           null,
           null,
           0.012413034359504919,
           null,
           0.012382899465440408,
           null,
           null,
           null,
           0.012379386392510846,
           null,
           null,
           null,
           null,
           null,
           null,
           null,
           null,
           0.012468379303470207,
           null
          ],
          [
           null,
           null,
           null,
           null,
           null,
           null,
           null,
           null,
           0.012605106968751757,
           null,
           null,
           null,
           null,
           null,
           null,
           null,
           null,
           null,
           null,
           null,
           null,
           null,
           null,
           null,
           null,
           null,
           null,
           null,
           null,
           null,
           0.012505949563368014,
           null,
           0.012502937367400114,
           null,
           null
          ],
          [
           null,
           null,
           null,
           null,
           null,
           null,
           null,
           null,
           null,
           null,
           0.012715602673176512,
           null,
           null,
           null,
           null,
           null,
           null,
           null,
           null,
           null,
           0.012880124056656284,
           null,
           null,
           null,
           null,
           null,
           null,
           null,
           null,
           null,
           null,
           null,
           0.0126449309912058,
           null,
           null
          ],
          [
           null,
           null,
           null,
           null,
           null,
           null,
           null,
           null,
           null,
           null,
           null,
           0.012791923279680074,
           null,
           null,
           null,
           null,
           0.012803628325183496,
           null,
           null,
           null,
           null,
           null,
           null,
           null,
           null,
           null,
           null,
           null,
           null,
           null,
           null,
           null,
           null,
           0.012777591669065221,
           null
          ],
          [
           null,
           null,
           null,
           null,
           null,
           null,
           null,
           null,
           null,
           null,
           null,
           null,
           null,
           null,
           null,
           null,
           null,
           null,
           null,
           null,
           null,
           null,
           null,
           null,
           0.012915816846904809,
           null,
           null,
           null,
           null,
           null,
           null,
           null,
           null,
           null,
           null
          ],
          [
           null,
           null,
           null,
           null,
           null,
           null,
           null,
           null,
           null,
           null,
           null,
           null,
           null,
           null,
           null,
           null,
           null,
           null,
           null,
           null,
           null,
           null,
           null,
           null,
           null,
           null,
           null,
           null,
           null,
           null,
           0.013057379553302925,
           null,
           null,
           null,
           null
          ],
          [
           null,
           null,
           null,
           null,
           null,
           null,
           null,
           null,
           null,
           null,
           null,
           null,
           null,
           null,
           null,
           null,
           null,
           null,
           null,
           null,
           0.013182496743972589,
           null,
           null,
           0.013204585663413022,
           null,
           null,
           null,
           null,
           null,
           null,
           null,
           null,
           null,
           null,
           null
          ],
          [
           null,
           null,
           null,
           0.014481001029221563,
           null,
           null,
           null,
           null,
           null,
           null,
           null,
           null,
           null,
           null,
           null,
           null,
           null,
           null,
           null,
           null,
           null,
           null,
           null,
           null,
           null,
           null,
           null,
           null,
           null,
           null,
           null,
           null,
           0.013322144082645272,
           null,
           null
          ],
          [
           null,
           null,
           null,
           null,
           null,
           null,
           null,
           null,
           null,
           null,
           null,
           null,
           null,
           null,
           null,
           null,
           null,
           null,
           null,
           null,
           null,
           null,
           null,
           null,
           null,
           null,
           null,
           null,
           null,
           null,
           null,
           null,
           0.013450064473787429,
           null,
           null
          ],
          [
           null,
           null,
           null,
           null,
           null,
           null,
           null,
           null,
           null,
           null,
           null,
           null,
           null,
           null,
           null,
           null,
           0.013578068955607998,
           null,
           null,
           null,
           null,
           null,
           null,
           null,
           null,
           null,
           null,
           null,
           null,
           null,
           null,
           null,
           null,
           null,
           null
          ],
          [
           null,
           null,
           null,
           null,
           null,
           null,
           null,
           null,
           null,
           null,
           null,
           null,
           null,
           null,
           null,
           null,
           null,
           null,
           null,
           null,
           null,
           null,
           0.013730707616831865,
           null,
           null,
           null,
           null,
           null,
           null,
           null,
           null,
           null,
           null,
           null,
           null
          ],
          [
           null,
           null,
           null,
           null,
           null,
           null,
           null,
           null,
           null,
           null,
           null,
           null,
           null,
           null,
           null,
           null,
           null,
           null,
           null,
           null,
           null,
           null,
           null,
           null,
           null,
           null,
           null,
           0.013862361711049638,
           null,
           null,
           null,
           null,
           null,
           null,
           null
          ],
          [
           null,
           null,
           null,
           null,
           null,
           null,
           null,
           null,
           null,
           null,
           null,
           null,
           null,
           null,
           null,
           null,
           null,
           null,
           null,
           null,
           null,
           null,
           null,
           null,
           null,
           null,
           null,
           null,
           null,
           null,
           0.013933913661561445,
           null,
           null,
           null,
           null
          ],
          [
           null,
           null,
           null,
           null,
           null,
           null,
           null,
           null,
           null,
           null,
           null,
           null,
           null,
           0.014146756317157028,
           null,
           null,
           null,
           null,
           null,
           null,
           null,
           null,
           0.014157330972293204,
           null,
           null,
           null,
           null,
           null,
           null,
           null,
           null,
           null,
           null,
           null,
           null
          ],
          [
           null,
           null,
           null,
           null,
           null,
           null,
           null,
           null,
           null,
           null,
           null,
           null,
           null,
           null,
           null,
           null,
           null,
           null,
           null,
           null,
           null,
           null,
           null,
           null,
           null,
           null,
           null,
           null,
           null,
           null,
           null,
           null,
           null,
           null,
           null
          ]
         ]
        },
        {
         "marker": {
          "color": "black",
          "line": {
           "color": "Gray",
           "width": 2
          }
         },
         "mode": "markers",
         "name": "Feasible Trial",
         "showlegend": false,
         "type": "scatter",
         "x": [
          51,
          25,
          35,
          31,
          57,
          69,
          13,
          11,
          33,
          9,
          25,
          19,
          19,
          7,
          47,
          19,
          23,
          43,
          27,
          41,
          41,
          41,
          41,
          57,
          51,
          55,
          63,
          53,
          63,
          51,
          49,
          45,
          45,
          45,
          39,
          35,
          37,
          47,
          61,
          51,
          31,
          55,
          59,
          45,
          69,
          65,
          69,
          35,
          49,
          29,
          69,
          55,
          45,
          53,
          39,
          43,
          49,
          57,
          65,
          43,
          47,
          55,
          53,
          59,
          59,
          59,
          65,
          67,
          67,
          61,
          67,
          63,
          61,
          61,
          67,
          67,
          69,
          63,
          67,
          67,
          69,
          69,
          69,
          69,
          65,
          67,
          69,
          65,
          65,
          63,
          15,
          67,
          67,
          65,
          61,
          63,
          65,
          67,
          65,
          63,
          67,
          61,
          61,
          57,
          23,
          67,
          21,
          27,
          13,
          65,
          5,
          67,
          33,
          63,
          61,
          65,
          23,
          59,
          59,
          69,
          69,
          67,
          69,
          69,
          67,
          69,
          69,
          63,
          57,
          63,
          17,
          67,
          61,
          61,
          59,
          59,
          59,
          57,
          63,
          63,
          61,
          65,
          65,
          61,
          65,
          67,
          59,
          9,
          63,
          67,
          65,
          65,
          63,
          65,
          67,
          61,
          69,
          67,
          63,
          55,
          65,
          65,
          65,
          67,
          69,
          61,
          63,
          67,
          57,
          69,
          59,
          67,
          65,
          67,
          69,
          63,
          65,
          61,
          67,
          63
         ],
         "xaxis": "x5",
         "y": [
          10,
          5,
          15,
          1,
          17,
          5,
          4,
          2,
          2,
          13,
          9,
          6,
          7,
          5,
          20,
          4,
          8,
          12,
          3,
          3,
          1,
          1,
          1,
          1,
          3,
          3,
          7,
          3,
          7,
          10,
          12,
          3,
          3,
          4,
          6,
          3,
          5,
          16,
          2,
          6,
          4,
          3,
          2,
          5,
          2,
          2,
          4,
          9,
          2,
          20,
          5,
          3,
          3,
          4,
          2,
          6,
          1,
          4,
          5,
          8,
          1,
          3,
          2,
          3,
          3,
          4,
          1,
          3,
          14,
          2,
          5,
          18,
          3,
          4,
          3,
          2,
          6,
          4,
          3,
          1,
          2,
          2,
          2,
          1,
          2,
          2,
          3,
          3,
          5,
          11,
          4,
          3,
          3,
          3,
          3,
          3,
          4,
          5,
          4,
          3,
          7,
          3,
          3,
          4,
          3,
          5,
          4,
          3,
          1,
          4,
          6,
          3,
          3,
          2,
          3,
          4,
          2,
          3,
          5,
          3,
          2,
          3,
          3,
          4,
          2,
          1,
          4,
          3,
          2,
          3,
          4,
          3,
          3,
          2,
          3,
          3,
          4,
          3,
          2,
          5,
          1,
          3,
          3,
          4,
          3,
          2,
          3,
          4,
          2,
          13,
          3,
          3,
          4,
          3,
          3,
          3,
          4,
          2,
          3,
          2,
          4,
          3,
          3,
          2,
          3,
          3,
          4,
          2,
          3,
          4,
          3,
          3,
          3,
          8,
          9,
          4,
          2,
          3,
          3,
          3
         ],
         "yaxis": "y5"
        },
        {
         "colorbar": {
          "title": {
           "text": "Objective Value"
          }
         },
         "colorscale": [
          [
           0,
           "rgb(0, 147, 146)"
          ],
          [
           0.16666666666666666,
           "rgb(114, 170, 161)"
          ],
          [
           0.3333333333333333,
           "rgb(177, 199, 179)"
          ],
          [
           0.5,
           "rgb(241, 234, 200)"
          ],
          [
           0.6666666666666666,
           "rgb(229, 185, 173)"
          ],
          [
           0.8333333333333334,
           "rgb(217, 137, 148)"
          ],
          [
           1,
           "rgb(208, 88, 126)"
          ]
         ],
         "connectgaps": true,
         "contours": {
          "coloring": "heatmap"
         },
         "hoverinfo": "none",
         "line": {
          "smoothing": 1.3
         },
         "reversescale": false,
         "showscale": false,
         "type": "contour",
         "x": [
          1.7999999999999998,
          5,
          7,
          9,
          11,
          13,
          15,
          17,
          19,
          21,
          23,
          25,
          27,
          29,
          31,
          33,
          35,
          37,
          39,
          41,
          43,
          45,
          47,
          49,
          51,
          53,
          55,
          57,
          59,
          61,
          63,
          65,
          67,
          69,
          72.2
         ],
         "xaxis": "x9",
         "y": [
          1.1,
          2,
          3,
          4,
          5,
          6,
          7,
          8,
          9,
          10,
          11,
          12,
          13,
          14,
          15,
          16,
          17,
          18,
          19,
          20,
          20.9
         ],
         "yaxis": "y9",
         "z": [
          [
           null,
           null,
           null,
           null,
           null,
           null,
           null,
           null,
           null,
           null,
           null,
           null,
           null,
           null,
           null,
           null,
           null,
           null,
           null,
           null,
           null,
           null,
           null,
           null,
           null,
           null,
           null,
           null,
           null,
           null,
           null,
           null,
           null,
           null,
           null
          ],
          [
           null,
           null,
           null,
           null,
           null,
           null,
           0.012190266808814952,
           null,
           null,
           null,
           null,
           0.012791923279680074,
           null,
           null,
           null,
           null,
           0.012803628325183496,
           null,
           null,
           null,
           0.013182496743972589,
           null,
           null,
           0.013204585663413022,
           null,
           0.012111437548123152,
           null,
           0.012173779512340655,
           null,
           0.012091687875892205,
           0.012107475934130254,
           0.012154162970554098,
           0.012089410260349839,
           0.012468379303470207,
           null
          ],
          [
           null,
           0.027547685448198,
           null,
           0.014156480203595214,
           null,
           null,
           null,
           null,
           null,
           null,
           0.012087486864930844,
           null,
           null,
           null,
           null,
           0.012091687875892205,
           null,
           null,
           0.012107475934130254,
           null,
           null,
           null,
           null,
           null,
           null,
           null,
           0.012107475934130254,
           0.012095484937240846,
           0.012095484937240846,
           0.012089410260349839,
           0.012091687875892205,
           0.012089410260349839,
           0.012089410260349839,
           0.012094863628534866,
           null
          ],
          [
           null,
           null,
           null,
           null,
           null,
           0.012376654438913542,
           null,
           null,
           null,
           0.012161225788450853,
           null,
           null,
           0.012210449080258713,
           0.014146756317157028,
           null,
           null,
           null,
           null,
           null,
           0.012091687875892205,
           0.012382899465440408,
           null,
           null,
           null,
           null,
           null,
           null,
           null,
           0.012089410260349839,
           0.012089410260349839,
           0.012089410260349839,
           0.012089410260349839,
           0.012089410260349839,
           0.012089410260349839,
           null
          ],
          [
           null,
           null,
           null,
           null,
           null,
           null,
           null,
           null,
           0.012814255588096627,
           null,
           0.012107290946756354,
           null,
           null,
           null,
           null,
           null,
           null,
           null,
           null,
           null,
           null,
           0.012095484937240846,
           0.013730707616831865,
           0.012267434643375163,
           0.012103543562053577,
           null,
           0.012103543562053577,
           0.01212458992928212,
           0.012089410260349839,
           null,
           0.012101897278073466,
           0.012095484937240846,
           0.012095484937240846,
           0.01212458992928212,
           null
          ],
          [
           null,
           null,
           null,
           null,
           null,
           null,
           null,
           0.01216962252355624,
           0.012605106968751757,
           null,
           null,
           null,
           null,
           null,
           null,
           null,
           null,
           null,
           null,
           null,
           null,
           null,
           null,
           null,
           null,
           0.012166081683821389,
           0.012103543562053577,
           0.012166081683821389,
           0.012089410260349839,
           null,
           0.012505949563368014,
           null,
           0.012123123127391396,
           null,
           null
          ],
          [
           null,
           null,
           null,
           null,
           null,
           null,
           null,
           null,
           0.012284982264887685,
           null,
           0.012715602673176512,
           null,
           null,
           null,
           null,
           null,
           null,
           null,
           null,
           null,
           null,
           0.012121953946371174,
           0.012938801963584953,
           null,
           0.012379386392510846,
           null,
           null,
           null,
           null,
           null,
           null,
           null,
           null,
           null,
           null
          ],
          [
           null,
           null,
           null,
           null,
           null,
           null,
           null,
           null,
           null,
           null,
           null,
           0.012400308434027256,
           null,
           null,
           null,
           null,
           null,
           0.012284517952358466,
           null,
           null,
           null,
           null,
           null,
           null,
           0.012915816846904809,
           null,
           null,
           null,
           null,
           null,
           null,
           null,
           null,
           0.012294015552332262,
           null
          ],
          [
           null,
           null,
           null,
           null,
           null,
           null,
           null,
           null,
           null,
           null,
           null,
           null,
           null,
           null,
           null,
           null,
           0.01217944756496205,
           null,
           null,
           null,
           null,
           0.012302471479805554,
           null,
           null,
           null,
           null,
           null,
           0.013862361711049638,
           null,
           null,
           null,
           null,
           null,
           null,
           null
          ],
          [
           null,
           null,
           null,
           null,
           0.012885458375372144,
           null,
           null,
           null,
           null,
           null,
           null,
           null,
           null,
           null,
           null,
           0.012506444939519096,
           null,
           null,
           null,
           null,
           null,
           null,
           null,
           null,
           0.012943566321821242,
           null,
           null,
           null,
           null,
           null,
           null,
           null,
           0.012502937367400114,
           null,
           null
          ],
          [
           null,
           null,
           null,
           0.014481001029221563,
           null,
           0.012450963790385045,
           null,
           null,
           null,
           null,
           null,
           null,
           null,
           null,
           null,
           null,
           null,
           null,
           null,
           null,
           null,
           null,
           null,
           null,
           null,
           null,
           null,
           null,
           null,
           null,
           0.012248666404558463,
           null,
           null,
           null,
           null
          ],
          [
           null,
           null,
           null,
           null,
           null,
           null,
           null,
           null,
           null,
           null,
           null,
           null,
           null,
           null,
           null,
           null,
           null,
           null,
           null,
           null,
           null,
           null,
           null,
           0.012330889395662407,
           null,
           null,
           null,
           null,
           null,
           0.012767244299693958,
           null,
           null,
           null,
           null,
           null
          ],
          [
           null,
           null,
           null,
           null,
           null,
           null,
           null,
           null,
           null,
           null,
           null,
           null,
           null,
           null,
           null,
           null,
           null,
           null,
           null,
           null,
           null,
           null,
           null,
           null,
           null,
           0.012315886544905947,
           null,
           null,
           null,
           null,
           null,
           null,
           null,
           null,
           null
          ],
          [
           null,
           null,
           0.018019503704704704,
           null,
           null,
           null,
           null,
           null,
           null,
           null,
           null,
           null,
           null,
           null,
           null,
           null,
           null,
           null,
           null,
           null,
           null,
           null,
           null,
           null,
           null,
           null,
           null,
           0.012352067758367799,
           null,
           null,
           null,
           null,
           null,
           null,
           null
          ],
          [
           null,
           null,
           null,
           null,
           null,
           null,
           null,
           null,
           null,
           null,
           null,
           null,
           null,
           null,
           null,
           null,
           0.013578068955607998,
           null,
           null,
           null,
           null,
           null,
           0.014157330972293204,
           null,
           null,
           null,
           null,
           null,
           null,
           null,
           0.012387403975115082,
           null,
           null,
           null,
           null
          ],
          [
           null,
           null,
           null,
           null,
           null,
           null,
           null,
           null,
           null,
           null,
           null,
           null,
           0.012412748954856858,
           null,
           null,
           null,
           null,
           null,
           null,
           null,
           null,
           null,
           null,
           null,
           null,
           null,
           null,
           null,
           null,
           null,
           null,
           null,
           null,
           null,
           null
          ],
          [
           null,
           null,
           null,
           null,
           null,
           null,
           null,
           null,
           null,
           null,
           null,
           null,
           null,
           null,
           null,
           null,
           null,
           null,
           null,
           null,
           0.012880124056656284,
           null,
           null,
           null,
           null,
           null,
           null,
           null,
           null,
           null,
           null,
           null,
           null,
           null,
           null
          ],
          [
           null,
           null,
           null,
           null,
           null,
           null,
           null,
           null,
           null,
           null,
           null,
           null,
           null,
           null,
           null,
           null,
           null,
           null,
           null,
           null,
           null,
           null,
           null,
           null,
           null,
           null,
           null,
           null,
           null,
           null,
           null,
           null,
           null,
           0.01252743648392719,
           null
          ],
          [
           null,
           null,
           null,
           null,
           null,
           null,
           null,
           null,
           null,
           null,
           null,
           null,
           null,
           null,
           0.012771835598957886,
           null,
           null,
           null,
           null,
           null,
           null,
           null,
           null,
           null,
           null,
           null,
           null,
           null,
           null,
           null,
           null,
           null,
           null,
           0.01272481991565598,
           null
          ],
          [
           null,
           null,
           null,
           null,
           null,
           null,
           null,
           null,
           null,
           null,
           null,
           null,
           null,
           null,
           0.012609498113939613,
           null,
           null,
           null,
           null,
           null,
           null,
           null,
           null,
           null,
           null,
           null,
           null,
           null,
           null,
           null,
           null,
           null,
           null,
           null,
           null
          ],
          [
           null,
           null,
           null,
           null,
           null,
           null,
           null,
           null,
           null,
           null,
           null,
           null,
           null,
           null,
           null,
           null,
           null,
           null,
           null,
           null,
           null,
           null,
           null,
           null,
           null,
           null,
           null,
           null,
           null,
           null,
           null,
           null,
           null,
           null,
           null
          ]
         ]
        },
        {
         "marker": {
          "color": "black",
          "line": {
           "color": "Gray",
           "width": 2
          }
         },
         "mode": "markers",
         "name": "Feasible Trial",
         "showlegend": false,
         "type": "scatter",
         "x": [
          51,
          25,
          35,
          31,
          57,
          69,
          13,
          11,
          33,
          9,
          25,
          19,
          19,
          7,
          47,
          19,
          23,
          43,
          27,
          41,
          41,
          41,
          41,
          57,
          51,
          55,
          63,
          53,
          63,
          51,
          49,
          45,
          45,
          45,
          39,
          35,
          37,
          47,
          61,
          51,
          31,
          55,
          59,
          45,
          69,
          65,
          69,
          35,
          49,
          29,
          69,
          55,
          45,
          53,
          39,
          43,
          49,
          57,
          65,
          43,
          47,
          55,
          53,
          59,
          59,
          59,
          65,
          67,
          67,
          61,
          67,
          63,
          61,
          61,
          67,
          67,
          69,
          63,
          67,
          67,
          69,
          69,
          69,
          69,
          65,
          67,
          69,
          65,
          65,
          63,
          15,
          67,
          67,
          65,
          61,
          63,
          65,
          67,
          65,
          63,
          67,
          61,
          61,
          57,
          23,
          67,
          21,
          27,
          13,
          65,
          5,
          67,
          33,
          63,
          61,
          65,
          23,
          59,
          59,
          69,
          69,
          67,
          69,
          69,
          67,
          69,
          69,
          63,
          57,
          63,
          17,
          67,
          61,
          61,
          59,
          59,
          59,
          57,
          63,
          63,
          61,
          65,
          65,
          61,
          65,
          67,
          59,
          9,
          63,
          67,
          65,
          65,
          63,
          65,
          67,
          61,
          69,
          67,
          63,
          55,
          65,
          65,
          65,
          67,
          69,
          61,
          63,
          67,
          57,
          69,
          59,
          67,
          65,
          67,
          69,
          63,
          65,
          61,
          67,
          63
         ],
         "xaxis": "x9",
         "y": [
          10,
          8,
          15,
          19,
          9,
          19,
          11,
          10,
          10,
          11,
          2,
          5,
          6,
          14,
          15,
          7,
          7,
          2,
          4,
          4,
          4,
          4,
          4,
          3,
          5,
          6,
          6,
          13,
          6,
          8,
          2,
          5,
          5,
          5,
          3,
          9,
          8,
          5,
          3,
          7,
          20,
          5,
          6,
          9,
          3,
          3,
          18,
          2,
          12,
          4,
          8,
          5,
          7,
          6,
          3,
          4,
          5,
          6,
          4,
          17,
          7,
          5,
          2,
          3,
          3,
          3,
          2,
          3,
          3,
          4,
          2,
          3,
          4,
          4,
          3,
          4,
          2,
          5,
          2,
          2,
          4,
          4,
          4,
          4,
          3,
          2,
          4,
          3,
          3,
          3,
          2,
          4,
          3,
          3,
          2,
          3,
          2,
          4,
          5,
          15,
          10,
          2,
          3,
          2,
          3,
          3,
          4,
          16,
          4,
          5,
          3,
          2,
          3,
          2,
          4,
          4,
          5,
          6,
          6,
          4,
          5,
          4,
          4,
          4,
          6,
          4,
          5,
          4,
          5,
          11,
          6,
          4,
          4,
          4,
          5,
          5,
          4,
          14,
          4,
          5,
          12,
          4,
          4,
          4,
          5,
          6,
          4,
          3,
          5,
          3,
          4,
          4,
          4,
          5,
          3,
          4,
          3,
          5,
          4,
          3,
          4,
          4,
          4,
          5,
          4,
          3,
          5,
          4,
          3,
          5,
          4,
          3,
          3,
          3,
          4,
          2,
          4,
          3,
          5,
          3
         ],
         "yaxis": "y9"
        },
        {
         "colorbar": {
          "title": {
           "text": "Objective Value"
          }
         },
         "colorscale": [
          [
           0,
           "rgb(0, 147, 146)"
          ],
          [
           0.16666666666666666,
           "rgb(114, 170, 161)"
          ],
          [
           0.3333333333333333,
           "rgb(177, 199, 179)"
          ],
          [
           0.5,
           "rgb(241, 234, 200)"
          ],
          [
           0.6666666666666666,
           "rgb(229, 185, 173)"
          ],
          [
           0.8333333333333334,
           "rgb(217, 137, 148)"
          ],
          [
           1,
           "rgb(208, 88, 126)"
          ]
         ],
         "connectgaps": true,
         "contours": {
          "coloring": "heatmap"
         },
         "hoverinfo": "none",
         "line": {
          "smoothing": 1.3
         },
         "reversescale": false,
         "showscale": false,
         "type": "contour",
         "x": [
          1.7999999999999998,
          5,
          7,
          9,
          11,
          13,
          15,
          17,
          19,
          21,
          23,
          25,
          27,
          29,
          31,
          33,
          35,
          37,
          39,
          41,
          43,
          45,
          47,
          49,
          51,
          53,
          55,
          57,
          59,
          61,
          63,
          65,
          67,
          69,
          72.2
         ],
         "xaxis": "x13",
         "y": [
          8,
          10,
          12,
          14,
          16,
          18,
          20,
          22,
          24,
          26,
          28,
          30,
          32,
          34,
          36,
          38,
          40,
          42,
          44,
          46,
          48,
          50,
          52
         ],
         "yaxis": "y13",
         "z": [
          [
           null,
           null,
           null,
           null,
           null,
           null,
           null,
           null,
           null,
           null,
           null,
           null,
           null,
           null,
           null,
           null,
           null,
           null,
           null,
           null,
           null,
           null,
           null,
           null,
           null,
           null,
           null,
           null,
           null,
           null,
           null,
           null,
           null,
           null,
           null
          ],
          [
           null,
           null,
           null,
           null,
           null,
           null,
           null,
           null,
           0.012814255588096627,
           null,
           null,
           null,
           null,
           null,
           null,
           null,
           null,
           null,
           null,
           null,
           null,
           null,
           0.012938801963584953,
           null,
           null,
           null,
           null,
           null,
           null,
           null,
           null,
           null,
           null,
           null,
           null
          ],
          [
           null,
           null,
           null,
           null,
           null,
           null,
           null,
           null,
           null,
           null,
           null,
           null,
           null,
           null,
           null,
           null,
           null,
           null,
           null,
           null,
           null,
           null,
           null,
           null,
           null,
           null,
           null,
           null,
           null,
           0.012767244299693958,
           null,
           null,
           null,
           null,
           null
          ],
          [
           null,
           null,
           null,
           null,
           null,
           null,
           null,
           null,
           null,
           null,
           null,
           null,
           null,
           null,
           null,
           0.012506444939519096,
           null,
           null,
           null,
           null,
           null,
           null,
           null,
           null,
           null,
           null,
           null,
           null,
           null,
           null,
           null,
           null,
           null,
           null,
           null
          ],
          [
           null,
           null,
           null,
           null,
           null,
           null,
           null,
           null,
           null,
           null,
           null,
           null,
           null,
           null,
           null,
           null,
           null,
           null,
           null,
           null,
           0.012880124056656284,
           null,
           null,
           null,
           null,
           null,
           null,
           null,
           null,
           null,
           null,
           null,
           null,
           null,
           null
          ],
          [
           null,
           null,
           null,
           null,
           0.012885458375372144,
           null,
           null,
           null,
           null,
           null,
           null,
           null,
           null,
           null,
           null,
           null,
           null,
           null,
           null,
           null,
           null,
           null,
           null,
           null,
           null,
           null,
           null,
           null,
           null,
           null,
           null,
           null,
           null,
           null,
           null
          ],
          [
           null,
           null,
           0.018019503704704704,
           null,
           null,
           0.012450963790385045,
           null,
           null,
           0.012605106968751757,
           null,
           null,
           null,
           null,
           null,
           null,
           null,
           null,
           null,
           null,
           null,
           null,
           null,
           null,
           null,
           null,
           null,
           null,
           null,
           null,
           null,
           null,
           null,
           null,
           null,
           null
          ],
          [
           null,
           null,
           null,
           null,
           null,
           null,
           null,
           null,
           null,
           null,
           null,
           null,
           null,
           null,
           null,
           null,
           null,
           null,
           null,
           null,
           null,
           null,
           null,
           null,
           null,
           null,
           null,
           null,
           null,
           null,
           0.01242468520241407,
           null,
           null,
           null,
           null
          ],
          [
           null,
           null,
           null,
           null,
           null,
           null,
           null,
           null,
           null,
           null,
           null,
           0.012400308434027256,
           null,
           null,
           null,
           null,
           null,
           null,
           null,
           null,
           null,
           null,
           null,
           null,
           null,
           null,
           null,
           0.013862361711049638,
           null,
           0.012288126860134438,
           null,
           null,
           null,
           null,
           null
          ],
          [
           null,
           null,
           null,
           null,
           null,
           null,
           null,
           null,
           0.012284982264887685,
           null,
           0.012715602673176512,
           null,
           null,
           null,
           null,
           null,
           null,
           null,
           null,
           null,
           null,
           null,
           null,
           null,
           null,
           null,
           null,
           null,
           null,
           null,
           null,
           null,
           null,
           0.01272481991565598,
           null
          ],
          [
           null,
           null,
           null,
           null,
           null,
           null,
           null,
           null,
           null,
           null,
           null,
           null,
           null,
           null,
           null,
           null,
           null,
           null,
           null,
           null,
           null,
           null,
           null,
           null,
           null,
           null,
           null,
           null,
           null,
           null,
           0.012217736162445796,
           null,
           null,
           0.012468379303470207,
           null
          ],
          [
           null,
           null,
           null,
           0.014481001029221563,
           null,
           null,
           null,
           null,
           null,
           null,
           null,
           null,
           0.012210449080258713,
           null,
           null,
           null,
           null,
           null,
           null,
           null,
           null,
           null,
           null,
           null,
           null,
           null,
           null,
           null,
           null,
           null,
           null,
           null,
           null,
           null,
           null
          ],
          [
           null,
           null,
           null,
           null,
           null,
           null,
           null,
           null,
           null,
           null,
           null,
           null,
           null,
           null,
           0.012771835598957886,
           null,
           null,
           null,
           null,
           null,
           null,
           null,
           null,
           null,
           null,
           null,
           null,
           null,
           null,
           null,
           null,
           null,
           null,
           0.012311403461590674,
           null
          ],
          [
           null,
           null,
           null,
           null,
           null,
           null,
           null,
           null,
           null,
           null,
           null,
           null,
           null,
           null,
           null,
           null,
           null,
           null,
           0.012413034359504919,
           null,
           null,
           null,
           null,
           null,
           0.012943566321821242,
           null,
           null,
           null,
           null,
           null,
           null,
           null,
           null,
           null,
           null
          ],
          [
           null,
           null,
           null,
           null,
           null,
           null,
           null,
           null,
           null,
           null,
           null,
           null,
           null,
           null,
           null,
           null,
           null,
           null,
           null,
           null,
           null,
           null,
           null,
           null,
           null,
           null,
           null,
           null,
           null,
           0.012123185878091717,
           null,
           0.012308742307375107,
           null,
           null,
           null
          ],
          [
           null,
           null,
           null,
           null,
           null,
           null,
           null,
           null,
           null,
           null,
           null,
           null,
           null,
           null,
           null,
           null,
           null,
           null,
           null,
           null,
           0.013182496743972589,
           null,
           0.014157330972293204,
           null,
           null,
           null,
           null,
           null,
           null,
           null,
           0.012505949563368014,
           null,
           null,
           null,
           null
          ],
          [
           null,
           null,
           null,
           null,
           null,
           null,
           null,
           null,
           null,
           null,
           null,
           null,
           null,
           null,
           null,
           null,
           0.012803628325183496,
           null,
           null,
           null,
           null,
           0.012302471479805554,
           null,
           0.013204585663413022,
           null,
           null,
           null,
           null,
           null,
           null,
           null,
           null,
           null,
           null,
           null
          ],
          [
           null,
           null,
           null,
           null,
           null,
           null,
           null,
           null,
           null,
           null,
           null,
           0.012791923279680074,
           null,
           null,
           null,
           null,
           null,
           null,
           null,
           null,
           null,
           null,
           0.013730707616831865,
           0.012267434643375163,
           null,
           null,
           null,
           null,
           null,
           null,
           0.012248666404558463,
           null,
           null,
           null,
           null
          ],
          [
           null,
           null,
           null,
           0.014156480203595214,
           null,
           0.012376654438913542,
           null,
           null,
           null,
           null,
           null,
           null,
           null,
           null,
           null,
           null,
           null,
           null,
           null,
           null,
           null,
           0.012121953946371174,
           null,
           null,
           0.012103543562053577,
           0.012111437548123152,
           0.012103543562053577,
           0.01212458992928212,
           null,
           null,
           0.012103543562053577,
           null,
           null,
           0.01212458992928212,
           null
          ],
          [
           null,
           0.027547685448198,
           null,
           null,
           null,
           null,
           null,
           0.01216962252355624,
           null,
           0.012161225788450853,
           0.012107290946756354,
           null,
           null,
           0.014146756317157028,
           null,
           null,
           null,
           null,
           null,
           null,
           0.012382899465440408,
           0.012095484937240846,
           null,
           null,
           0.012915816846904809,
           null,
           null,
           0.012095484937240846,
           0.012095484937240846,
           null,
           0.01210385137934272,
           0.012095484937240846,
           0.012095484937240846,
           0.01216274880160485,
           null
          ],
          [
           null,
           null,
           null,
           null,
           null,
           null,
           null,
           null,
           null,
           null,
           0.012087486864930844,
           null,
           0.012412748954856858,
           null,
           0.012609498113939613,
           null,
           0.01217944756496205,
           0.012284517952358466,
           null,
           null,
           null,
           null,
           null,
           null,
           null,
           0.012166081683821389,
           null,
           0.012166081683821389,
           0.012089410260349839,
           0.012089410260349839,
           0.012089410260349839,
           0.012089410260349839,
           0.012089410260349839,
           0.012089410260349839,
           null
          ],
          [
           null,
           null,
           null,
           null,
           null,
           null,
           0.012190266808814952,
           null,
           null,
           null,
           null,
           null,
           null,
           null,
           null,
           0.012091687875892205,
           null,
           null,
           0.012107475934130254,
           0.012091687875892205,
           null,
           null,
           null,
           null,
           null,
           null,
           0.012107475934130254,
           0.012173779512340655,
           null,
           0.012091687875892205,
           0.012091687875892205,
           0.012091687875892205,
           0.012091687875892205,
           0.012091687875892205,
           null
          ],
          [
           null,
           null,
           null,
           null,
           null,
           null,
           null,
           null,
           null,
           null,
           null,
           null,
           null,
           null,
           null,
           null,
           null,
           null,
           null,
           null,
           null,
           null,
           null,
           null,
           null,
           null,
           null,
           null,
           null,
           null,
           null,
           null,
           null,
           null,
           null
          ]
         ]
        },
        {
         "marker": {
          "color": "black",
          "line": {
           "color": "Gray",
           "width": 2
          }
         },
         "mode": "markers",
         "name": "Feasible Trial",
         "showlegend": false,
         "type": "scatter",
         "x": [
          51,
          25,
          35,
          31,
          57,
          69,
          13,
          11,
          33,
          9,
          25,
          19,
          19,
          7,
          47,
          19,
          23,
          43,
          27,
          41,
          41,
          41,
          41,
          57,
          51,
          55,
          63,
          53,
          63,
          51,
          49,
          45,
          45,
          45,
          39,
          35,
          37,
          47,
          61,
          51,
          31,
          55,
          59,
          45,
          69,
          65,
          69,
          35,
          49,
          29,
          69,
          55,
          45,
          53,
          39,
          43,
          49,
          57,
          65,
          43,
          47,
          55,
          53,
          59,
          59,
          59,
          65,
          67,
          67,
          61,
          67,
          63,
          61,
          61,
          67,
          67,
          69,
          63,
          67,
          67,
          69,
          69,
          69,
          69,
          65,
          67,
          69,
          65,
          65,
          63,
          15,
          67,
          67,
          65,
          61,
          63,
          65,
          67,
          65,
          63,
          67,
          61,
          61,
          57,
          23,
          67,
          21,
          27,
          13,
          65,
          5,
          67,
          33,
          63,
          61,
          65,
          23,
          59,
          59,
          69,
          69,
          67,
          69,
          69,
          67,
          69,
          69,
          63,
          57,
          63,
          17,
          67,
          61,
          61,
          59,
          59,
          59,
          57,
          63,
          63,
          61,
          65,
          65,
          61,
          65,
          67,
          59,
          9,
          63,
          67,
          65,
          65,
          63,
          65,
          67,
          61,
          69,
          67,
          63,
          55,
          65,
          65,
          65,
          67,
          69,
          61,
          63,
          67,
          57,
          69,
          59,
          67,
          65,
          67,
          69,
          63,
          65,
          61,
          67,
          63
         ],
         "xaxis": "x13",
         "y": [
          34,
          24,
          48,
          32,
          24,
          26,
          20,
          18,
          14,
          30,
          42,
          10,
          20,
          20,
          38,
          26,
          26,
          38,
          30,
          50,
          50,
          50,
          50,
          46,
          44,
          44,
          42,
          44,
          38,
          46,
          40,
          46,
          46,
          46,
          34,
          48,
          48,
          42,
          36,
          44,
          48,
          44,
          46,
          40,
          48,
          50,
          48,
          40,
          42,
          46,
          50,
          44,
          44,
          48,
          50,
          46,
          42,
          48,
          36,
          16,
          10,
          44,
          44,
          46,
          46,
          48,
          46,
          50,
          50,
          50,
          48,
          46,
          48,
          24,
          48,
          50,
          28,
          48,
          48,
          50,
          48,
          48,
          48,
          48,
          50,
          48,
          50,
          50,
          50,
          50,
          50,
          48,
          50,
          50,
          50,
          50,
          46,
          50,
          46,
          48,
          48,
          50,
          50,
          50,
          48,
          48,
          46,
          48,
          44,
          48,
          46,
          50,
          50,
          50,
          48,
          48,
          46,
          48,
          46,
          48,
          44,
          48,
          48,
          48,
          48,
          32,
          46,
          48,
          44,
          42,
          46,
          48,
          48,
          48,
          48,
          46,
          48,
          48,
          46,
          22,
          12,
          48,
          48,
          48,
          46,
          48,
          46,
          44,
          48,
          48,
          46,
          48,
          48,
          46,
          48,
          48,
          46,
          48,
          44,
          50,
          48,
          48,
          46,
          48,
          50,
          48,
          50,
          46,
          46,
          48,
          48,
          48,
          48,
          50,
          48,
          46,
          50,
          48,
          46,
          28
         ],
         "yaxis": "y13"
        },
        {
         "colorbar": {
          "title": {
           "text": "Objective Value"
          }
         },
         "colorscale": [
          [
           0,
           "rgb(0, 147, 146)"
          ],
          [
           0.16666666666666666,
           "rgb(114, 170, 161)"
          ],
          [
           0.3333333333333333,
           "rgb(177, 199, 179)"
          ],
          [
           0.5,
           "rgb(241, 234, 200)"
          ],
          [
           0.6666666666666666,
           "rgb(229, 185, 173)"
          ],
          [
           0.8333333333333334,
           "rgb(217, 137, 148)"
          ],
          [
           1,
           "rgb(208, 88, 126)"
          ]
         ],
         "connectgaps": true,
         "contours": {
          "coloring": "heatmap"
         },
         "hoverinfo": "none",
         "line": {
          "smoothing": 1.3
         },
         "reversescale": false,
         "showscale": false,
         "type": "contour",
         "x": [
          0.04999999999999993,
          1,
          2,
          3,
          4,
          5,
          6,
          7,
          8,
          9,
          10,
          11,
          12,
          13,
          14,
          15,
          16,
          17,
          18,
          20,
          20.95
         ],
         "xaxis": "x2",
         "y": [
          1.7999999999999998,
          5,
          7,
          9,
          11,
          13,
          15,
          17,
          19,
          21,
          23,
          25,
          27,
          29,
          31,
          33,
          35,
          37,
          39,
          41,
          43,
          45,
          47,
          49,
          51,
          53,
          55,
          57,
          59,
          61,
          63,
          65,
          67,
          69,
          72.2
         ],
         "yaxis": "y2",
         "z": [
          [
           null,
           null,
           null,
           null,
           null,
           null,
           null,
           null,
           null,
           null,
           null,
           null,
           null,
           null,
           null,
           null,
           null,
           null,
           null,
           null,
           null
          ],
          [
           null,
           null,
           null,
           null,
           null,
           null,
           0.027547685448198,
           null,
           null,
           null,
           null,
           null,
           null,
           null,
           null,
           null,
           null,
           null,
           null,
           null,
           null
          ],
          [
           null,
           null,
           null,
           null,
           null,
           0.018019503704704704,
           null,
           null,
           null,
           null,
           null,
           null,
           null,
           null,
           null,
           null,
           null,
           null,
           null,
           null,
           null
          ],
          [
           null,
           null,
           null,
           null,
           0.014156480203595214,
           null,
           null,
           null,
           null,
           null,
           null,
           null,
           null,
           0.014481001029221563,
           null,
           null,
           null,
           null,
           null,
           null,
           null
          ],
          [
           null,
           null,
           0.012885458375372144,
           null,
           null,
           null,
           null,
           null,
           null,
           null,
           null,
           null,
           null,
           null,
           null,
           null,
           null,
           null,
           null,
           null,
           null
          ],
          [
           null,
           0.012376654438913542,
           null,
           null,
           0.012450963790385045,
           null,
           null,
           null,
           null,
           null,
           null,
           null,
           null,
           null,
           null,
           null,
           null,
           null,
           null,
           null,
           null
          ],
          [
           null,
           null,
           null,
           null,
           0.012190266808814952,
           null,
           null,
           null,
           null,
           null,
           null,
           null,
           null,
           null,
           null,
           null,
           null,
           null,
           null,
           null,
           null
          ],
          [
           null,
           null,
           null,
           null,
           0.01216962252355624,
           null,
           null,
           null,
           null,
           null,
           null,
           null,
           null,
           null,
           null,
           null,
           null,
           null,
           null,
           null,
           null
          ],
          [
           null,
           null,
           null,
           null,
           0.012284982264887685,
           null,
           0.012814255588096627,
           0.012605106968751757,
           null,
           null,
           null,
           null,
           null,
           null,
           null,
           null,
           null,
           null,
           null,
           null,
           null
          ],
          [
           null,
           null,
           null,
           null,
           0.012161225788450853,
           null,
           null,
           null,
           null,
           null,
           null,
           null,
           null,
           null,
           null,
           null,
           null,
           null,
           null,
           null,
           null
          ],
          [
           null,
           null,
           0.012107290946756354,
           0.012087486864930844,
           null,
           null,
           null,
           null,
           0.012715602673176512,
           null,
           null,
           null,
           null,
           null,
           null,
           null,
           null,
           null,
           null,
           null,
           null
          ],
          [
           null,
           null,
           null,
           null,
           null,
           0.012400308434027256,
           null,
           null,
           null,
           0.012791923279680074,
           null,
           null,
           null,
           null,
           null,
           null,
           null,
           null,
           null,
           null,
           null
          ],
          [
           null,
           null,
           null,
           0.012210449080258713,
           null,
           null,
           null,
           null,
           null,
           null,
           null,
           null,
           null,
           null,
           null,
           null,
           null,
           null,
           null,
           null,
           null
          ],
          [
           null,
           null,
           null,
           null,
           null,
           null,
           null,
           null,
           null,
           null,
           null,
           null,
           null,
           null,
           null,
           null,
           null,
           null,
           null,
           0.014146756317157028,
           null
          ],
          [
           null,
           0.012771835598957886,
           null,
           null,
           0.012609498113939613,
           null,
           null,
           null,
           null,
           null,
           null,
           null,
           null,
           null,
           null,
           null,
           null,
           null,
           null,
           null,
           null
          ],
          [
           null,
           null,
           0.012506444939519096,
           0.012091687875892205,
           null,
           null,
           null,
           null,
           null,
           null,
           null,
           null,
           null,
           null,
           null,
           null,
           null,
           null,
           null,
           null,
           null
          ],
          [
           null,
           null,
           null,
           0.01217944756496205,
           null,
           null,
           null,
           null,
           null,
           0.012803628325183496,
           null,
           null,
           null,
           null,
           null,
           0.013578068955607998,
           null,
           null,
           null,
           null,
           null
          ],
          [
           null,
           null,
           null,
           null,
           null,
           0.012284517952358466,
           null,
           null,
           null,
           null,
           null,
           null,
           null,
           null,
           null,
           null,
           null,
           null,
           null,
           null,
           null
          ],
          [
           null,
           null,
           0.012107475934130254,
           null,
           null,
           null,
           0.012413034359504919,
           null,
           null,
           null,
           null,
           null,
           null,
           null,
           null,
           null,
           null,
           null,
           null,
           null,
           null
          ],
          [
           null,
           0.012178583111690388,
           null,
           0.012091687875892205,
           null,
           null,
           null,
           null,
           null,
           null,
           null,
           null,
           null,
           null,
           null,
           null,
           null,
           null,
           null,
           null,
           null
          ],
          [
           null,
           null,
           null,
           null,
           null,
           null,
           0.012382899465440408,
           null,
           0.012880124056656284,
           null,
           null,
           null,
           0.013182496743972589,
           null,
           null,
           null,
           null,
           null,
           null,
           null,
           null
          ],
          [
           null,
           null,
           null,
           0.012095484937240846,
           0.01216274880160485,
           0.012302471479805554,
           null,
           null,
           null,
           null,
           null,
           null,
           null,
           null,
           null,
           null,
           null,
           null,
           null,
           null,
           null
          ],
          [
           null,
           0.012938801963584953,
           null,
           null,
           null,
           null,
           null,
           null,
           null,
           null,
           null,
           null,
           null,
           null,
           null,
           null,
           0.013730707616831865,
           null,
           null,
           0.014157330972293204,
           null
          ],
          [
           null,
           0.012267434643375163,
           0.012330889395662407,
           null,
           null,
           null,
           null,
           null,
           null,
           null,
           null,
           null,
           0.013204585663413022,
           null,
           null,
           null,
           null,
           null,
           null,
           null,
           null
          ],
          [
           null,
           null,
           null,
           0.012103543562053577,
           null,
           null,
           0.012379386392510846,
           null,
           null,
           null,
           0.012915816846904809,
           null,
           null,
           null,
           null,
           null,
           null,
           null,
           null,
           null,
           null
          ],
          [
           null,
           null,
           0.012111437548123152,
           0.012315886544905947,
           0.012166081683821389,
           null,
           null,
           null,
           null,
           null,
           null,
           null,
           null,
           null,
           null,
           null,
           null,
           null,
           null,
           null,
           null
          ],
          [
           null,
           null,
           0.012107475934130254,
           0.012103543562053577,
           null,
           null,
           null,
           null,
           null,
           null,
           null,
           null,
           null,
           null,
           null,
           null,
           null,
           null,
           null,
           null,
           null
          ],
          [
           null,
           0.01218005095916387,
           0.01212458992928212,
           0.012095484937240846,
           0.012166081683821389,
           null,
           null,
           null,
           null,
           null,
           null,
           null,
           null,
           null,
           null,
           null,
           null,
           0.013862361711049638,
           null,
           null,
           null
          ],
          [
           null,
           null,
           0.012132940270962273,
           0.012089410260349839,
           0.012166081683821389,
           0.01227682191439457,
           null,
           null,
           null,
           null,
           null,
           null,
           null,
           null,
           null,
           null,
           null,
           null,
           null,
           null,
           null
          ],
          [
           null,
           0.012767244299693958,
           0.012094863628534866,
           0.012089410260349839,
           0.012166081683821389,
           null,
           null,
           null,
           null,
           null,
           null,
           null,
           null,
           null,
           null,
           null,
           null,
           null,
           null,
           null,
           null
          ],
          [
           null,
           null,
           0.012101897278073466,
           0.012089410260349839,
           0.01216274880160485,
           0.01242468520241407,
           null,
           0.012505949563368014,
           null,
           null,
           null,
           0.013057379553302925,
           null,
           null,
           null,
           null,
           null,
           null,
           0.013933913661561445,
           null,
           null
          ],
          [
           null,
           0.012154162970554098,
           0.012107475934130254,
           0.012089410260349839,
           0.01216274880160485,
           0.012294015552332262,
           null,
           null,
           null,
           null,
           null,
           null,
           null,
           null,
           null,
           null,
           null,
           null,
           null,
           null,
           null
          ],
          [
           null,
           0.012147743672829734,
           0.012094863628534866,
           0.012089410260349839,
           null,
           0.012284517952358466,
           null,
           0.012502937367400114,
           0.0126449309912058,
           null,
           null,
           null,
           null,
           0.013322144082645272,
           0.013450064473787429,
           null,
           null,
           null,
           null,
           null,
           null
          ],
          [
           null,
           0.012172607699863723,
           0.012094863628534866,
           0.012089410260349839,
           0.01216274880160485,
           0.012294015552332262,
           0.012468379303470207,
           null,
           null,
           0.012777591669065221,
           null,
           null,
           null,
           null,
           null,
           null,
           null,
           null,
           null,
           null,
           null
          ],
          [
           null,
           null,
           null,
           null,
           null,
           null,
           null,
           null,
           null,
           null,
           null,
           null,
           null,
           null,
           null,
           null,
           null,
           null,
           null,
           null,
           null
          ]
         ]
        },
        {
         "marker": {
          "color": "black",
          "line": {
           "color": "Gray",
           "width": 2
          }
         },
         "mode": "markers",
         "name": "Feasible Trial",
         "showlegend": false,
         "type": "scatter",
         "x": [
          10,
          5,
          15,
          1,
          17,
          5,
          4,
          2,
          2,
          13,
          9,
          6,
          7,
          5,
          20,
          4,
          8,
          12,
          3,
          3,
          1,
          1,
          1,
          1,
          3,
          3,
          7,
          3,
          7,
          10,
          12,
          3,
          3,
          4,
          6,
          3,
          5,
          16,
          2,
          6,
          4,
          3,
          2,
          5,
          2,
          2,
          4,
          9,
          2,
          20,
          5,
          3,
          3,
          4,
          2,
          6,
          1,
          4,
          5,
          8,
          1,
          3,
          2,
          3,
          3,
          4,
          1,
          3,
          14,
          2,
          5,
          18,
          3,
          4,
          3,
          2,
          6,
          4,
          3,
          1,
          2,
          2,
          2,
          1,
          2,
          2,
          3,
          3,
          5,
          11,
          4,
          3,
          3,
          3,
          3,
          3,
          4,
          5,
          4,
          3,
          7,
          3,
          3,
          4,
          3,
          5,
          4,
          3,
          1,
          4,
          6,
          3,
          3,
          2,
          3,
          4,
          2,
          3,
          5,
          3,
          2,
          3,
          3,
          4,
          2,
          1,
          4,
          3,
          2,
          3,
          4,
          3,
          3,
          2,
          3,
          3,
          4,
          3,
          2,
          5,
          1,
          3,
          3,
          4,
          3,
          2,
          3,
          4,
          2,
          13,
          3,
          3,
          4,
          3,
          3,
          3,
          4,
          2,
          3,
          2,
          4,
          3,
          3,
          2,
          3,
          3,
          4,
          2,
          3,
          4,
          3,
          3,
          3,
          8,
          9,
          4,
          2,
          3,
          3,
          3
         ],
         "xaxis": "x2",
         "y": [
          51,
          25,
          35,
          31,
          57,
          69,
          13,
          11,
          33,
          9,
          25,
          19,
          19,
          7,
          47,
          19,
          23,
          43,
          27,
          41,
          41,
          41,
          41,
          57,
          51,
          55,
          63,
          53,
          63,
          51,
          49,
          45,
          45,
          45,
          39,
          35,
          37,
          47,
          61,
          51,
          31,
          55,
          59,
          45,
          69,
          65,
          69,
          35,
          49,
          29,
          69,
          55,
          45,
          53,
          39,
          43,
          49,
          57,
          65,
          43,
          47,
          55,
          53,
          59,
          59,
          59,
          65,
          67,
          67,
          61,
          67,
          63,
          61,
          61,
          67,
          67,
          69,
          63,
          67,
          67,
          69,
          69,
          69,
          69,
          65,
          67,
          69,
          65,
          65,
          63,
          15,
          67,
          67,
          65,
          61,
          63,
          65,
          67,
          65,
          63,
          67,
          61,
          61,
          57,
          23,
          67,
          21,
          27,
          13,
          65,
          5,
          67,
          33,
          63,
          61,
          65,
          23,
          59,
          59,
          69,
          69,
          67,
          69,
          69,
          67,
          69,
          69,
          63,
          57,
          63,
          17,
          67,
          61,
          61,
          59,
          59,
          59,
          57,
          63,
          63,
          61,
          65,
          65,
          61,
          65,
          67,
          59,
          9,
          63,
          67,
          65,
          65,
          63,
          65,
          67,
          61,
          69,
          67,
          63,
          55,
          65,
          65,
          65,
          67,
          69,
          61,
          63,
          67,
          57,
          69,
          59,
          67,
          65,
          67,
          69,
          63,
          65,
          61,
          67,
          63
         ],
         "yaxis": "y2"
        },
        {
         "type": "scatter",
         "xaxis": "x6",
         "yaxis": "y6"
        },
        {
         "colorbar": {
          "title": {
           "text": "Objective Value"
          }
         },
         "colorscale": [
          [
           0,
           "rgb(0, 147, 146)"
          ],
          [
           0.16666666666666666,
           "rgb(114, 170, 161)"
          ],
          [
           0.3333333333333333,
           "rgb(177, 199, 179)"
          ],
          [
           0.5,
           "rgb(241, 234, 200)"
          ],
          [
           0.6666666666666666,
           "rgb(229, 185, 173)"
          ],
          [
           0.8333333333333334,
           "rgb(217, 137, 148)"
          ],
          [
           1,
           "rgb(208, 88, 126)"
          ]
         ],
         "connectgaps": true,
         "contours": {
          "coloring": "heatmap"
         },
         "hoverinfo": "none",
         "line": {
          "smoothing": 1.3
         },
         "reversescale": false,
         "showscale": false,
         "type": "contour",
         "x": [
          0.04999999999999993,
          1,
          2,
          3,
          4,
          5,
          6,
          7,
          8,
          9,
          10,
          11,
          12,
          13,
          14,
          15,
          16,
          17,
          18,
          20,
          20.95
         ],
         "xaxis": "x10",
         "y": [
          1.1,
          2,
          3,
          4,
          5,
          6,
          7,
          8,
          9,
          10,
          11,
          12,
          13,
          14,
          15,
          16,
          17,
          18,
          19,
          20,
          20.9
         ],
         "yaxis": "y10",
         "z": [
          [
           null,
           null,
           null,
           null,
           null,
           null,
           null,
           null,
           null,
           null,
           null,
           null,
           null,
           null,
           null,
           null,
           null,
           null,
           null,
           null,
           null
          ],
          [
           null,
           0.012147743672829734,
           0.012094863628534866,
           0.012089410260349839,
           0.01216274880160485,
           0.012284517952358466,
           0.012468379303470207,
           null,
           null,
           0.012791923279680074,
           null,
           null,
           0.013182496743972589,
           null,
           null,
           null,
           null,
           null,
           null,
           null,
           null
          ],
          [
           null,
           0.01218005095916387,
           0.012094863628534866,
           0.012087486864930844,
           0.01216274880160485,
           0.012284517952358466,
           0.012413034359504919,
           null,
           0.0126449309912058,
           null,
           null,
           0.013057379553302925,
           null,
           0.013322144082645272,
           0.013450064473787429,
           null,
           null,
           null,
           0.013933913661561445,
           null,
           null
          ],
          [
           null,
           0.012172607699863723,
           0.012094863628534866,
           0.012089410260349839,
           0.012161225788450853,
           0.012294015552332262,
           0.012382899465440408,
           null,
           null,
           0.012777591669065221,
           null,
           null,
           null,
           null,
           null,
           null,
           null,
           null,
           null,
           0.014146756317157028,
           null
          ],
          [
           null,
           0.012267434643375163,
           0.012101897278073466,
           0.012089410260349839,
           0.01216274880160485,
           0.01242468520241407,
           0.012814255588096627,
           null,
           null,
           null,
           null,
           null,
           null,
           null,
           null,
           null,
           0.013730707616831865,
           null,
           null,
           null,
           null
          ],
          [
           null,
           null,
           0.012123123127391396,
           0.012089410260349839,
           0.012166081683821389,
           0.01227682191439457,
           null,
           0.012505949563368014,
           null,
           null,
           null,
           null,
           null,
           null,
           null,
           null,
           null,
           null,
           null,
           null,
           null
          ],
          [
           null,
           0.012938801963584953,
           null,
           0.012121953946371174,
           0.012284982264887685,
           null,
           0.012379386392510846,
           null,
           0.012715602673176512,
           null,
           null,
           null,
           null,
           null,
           null,
           null,
           null,
           null,
           null,
           null,
           null
          ],
          [
           null,
           null,
           null,
           null,
           null,
           0.012284517952358466,
           null,
           null,
           null,
           null,
           0.012915816846904809,
           null,
           null,
           null,
           null,
           null,
           null,
           null,
           null,
           null,
           null
          ],
          [
           null,
           null,
           null,
           0.01217944756496205,
           null,
           0.012302471479805554,
           null,
           null,
           null,
           null,
           null,
           null,
           null,
           null,
           null,
           null,
           null,
           0.013862361711049638,
           null,
           null,
           null
          ],
          [
           null,
           null,
           0.012506444939519096,
           null,
           null,
           null,
           null,
           0.012502937367400114,
           null,
           null,
           0.012943566321821242,
           null,
           null,
           null,
           null,
           null,
           null,
           null,
           null,
           null,
           null
          ],
          [
           null,
           null,
           null,
           0.012248666404558463,
           0.012450963790385045,
           null,
           null,
           null,
           null,
           null,
           null,
           null,
           null,
           0.014481001029221563,
           null,
           null,
           null,
           null,
           null,
           null,
           null
          ],
          [
           null,
           0.012767244299693958,
           0.012330889395662407,
           null,
           null,
           null,
           null,
           null,
           null,
           null,
           null,
           null,
           null,
           null,
           null,
           null,
           null,
           null,
           null,
           null,
           null
          ],
          [
           null,
           null,
           null,
           0.012315886544905947,
           null,
           null,
           null,
           null,
           null,
           null,
           null,
           null,
           null,
           null,
           null,
           null,
           null,
           null,
           null,
           null,
           null
          ],
          [
           null,
           null,
           null,
           0.012352067758367799,
           null,
           0.018019503704704704,
           null,
           null,
           null,
           null,
           null,
           null,
           null,
           null,
           null,
           null,
           null,
           null,
           null,
           null,
           null
          ],
          [
           null,
           null,
           null,
           0.012387403975115082,
           null,
           null,
           null,
           null,
           null,
           null,
           null,
           null,
           null,
           null,
           null,
           0.013578068955607998,
           null,
           null,
           null,
           0.014157330972293204,
           null
          ],
          [
           null,
           null,
           null,
           0.012412748954856858,
           null,
           null,
           null,
           null,
           null,
           null,
           null,
           null,
           null,
           null,
           null,
           null,
           null,
           null,
           null,
           null,
           null
          ],
          [
           null,
           null,
           null,
           null,
           null,
           null,
           null,
           null,
           0.012880124056656284,
           null,
           null,
           null,
           null,
           null,
           null,
           null,
           null,
           null,
           null,
           null,
           null
          ],
          [
           null,
           null,
           null,
           null,
           0.01252743648392719,
           null,
           null,
           null,
           null,
           null,
           null,
           null,
           null,
           null,
           null,
           null,
           null,
           null,
           null,
           null,
           null
          ],
          [
           null,
           0.012771835598957886,
           null,
           null,
           null,
           0.01272481991565598,
           null,
           null,
           null,
           null,
           null,
           null,
           null,
           null,
           null,
           null,
           null,
           null,
           null,
           null,
           null
          ],
          [
           null,
           null,
           null,
           null,
           0.012609498113939613,
           null,
           null,
           null,
           null,
           null,
           null,
           null,
           null,
           null,
           null,
           null,
           null,
           null,
           null,
           null,
           null
          ],
          [
           null,
           null,
           null,
           null,
           null,
           null,
           null,
           null,
           null,
           null,
           null,
           null,
           null,
           null,
           null,
           null,
           null,
           null,
           null,
           null,
           null
          ]
         ]
        },
        {
         "marker": {
          "color": "black",
          "line": {
           "color": "Gray",
           "width": 2
          }
         },
         "mode": "markers",
         "name": "Feasible Trial",
         "showlegend": false,
         "type": "scatter",
         "x": [
          10,
          5,
          15,
          1,
          17,
          5,
          4,
          2,
          2,
          13,
          9,
          6,
          7,
          5,
          20,
          4,
          8,
          12,
          3,
          3,
          1,
          1,
          1,
          1,
          3,
          3,
          7,
          3,
          7,
          10,
          12,
          3,
          3,
          4,
          6,
          3,
          5,
          16,
          2,
          6,
          4,
          3,
          2,
          5,
          2,
          2,
          4,
          9,
          2,
          20,
          5,
          3,
          3,
          4,
          2,
          6,
          1,
          4,
          5,
          8,
          1,
          3,
          2,
          3,
          3,
          4,
          1,
          3,
          14,
          2,
          5,
          18,
          3,
          4,
          3,
          2,
          6,
          4,
          3,
          1,
          2,
          2,
          2,
          1,
          2,
          2,
          3,
          3,
          5,
          11,
          4,
          3,
          3,
          3,
          3,
          3,
          4,
          5,
          4,
          3,
          7,
          3,
          3,
          4,
          3,
          5,
          4,
          3,
          1,
          4,
          6,
          3,
          3,
          2,
          3,
          4,
          2,
          3,
          5,
          3,
          2,
          3,
          3,
          4,
          2,
          1,
          4,
          3,
          2,
          3,
          4,
          3,
          3,
          2,
          3,
          3,
          4,
          3,
          2,
          5,
          1,
          3,
          3,
          4,
          3,
          2,
          3,
          4,
          2,
          13,
          3,
          3,
          4,
          3,
          3,
          3,
          4,
          2,
          3,
          2,
          4,
          3,
          3,
          2,
          3,
          3,
          4,
          2,
          3,
          4,
          3,
          3,
          3,
          8,
          9,
          4,
          2,
          3,
          3,
          3
         ],
         "xaxis": "x10",
         "y": [
          10,
          8,
          15,
          19,
          9,
          19,
          11,
          10,
          10,
          11,
          2,
          5,
          6,
          14,
          15,
          7,
          7,
          2,
          4,
          4,
          4,
          4,
          4,
          3,
          5,
          6,
          6,
          13,
          6,
          8,
          2,
          5,
          5,
          5,
          3,
          9,
          8,
          5,
          3,
          7,
          20,
          5,
          6,
          9,
          3,
          3,
          18,
          2,
          12,
          4,
          8,
          5,
          7,
          6,
          3,
          4,
          5,
          6,
          4,
          17,
          7,
          5,
          2,
          3,
          3,
          3,
          2,
          3,
          3,
          4,
          2,
          3,
          4,
          4,
          3,
          4,
          2,
          5,
          2,
          2,
          4,
          4,
          4,
          4,
          3,
          2,
          4,
          3,
          3,
          3,
          2,
          4,
          3,
          3,
          2,
          3,
          2,
          4,
          5,
          15,
          10,
          2,
          3,
          2,
          3,
          3,
          4,
          16,
          4,
          5,
          3,
          2,
          3,
          2,
          4,
          4,
          5,
          6,
          6,
          4,
          5,
          4,
          4,
          4,
          6,
          4,
          5,
          4,
          5,
          11,
          6,
          4,
          4,
          4,
          5,
          5,
          4,
          14,
          4,
          5,
          12,
          4,
          4,
          4,
          5,
          6,
          4,
          3,
          5,
          3,
          4,
          4,
          4,
          5,
          3,
          4,
          3,
          5,
          4,
          3,
          4,
          4,
          4,
          5,
          4,
          3,
          5,
          4,
          3,
          5,
          4,
          3,
          3,
          3,
          4,
          2,
          4,
          3,
          5,
          3
         ],
         "yaxis": "y10"
        },
        {
         "colorbar": {
          "title": {
           "text": "Objective Value"
          }
         },
         "colorscale": [
          [
           0,
           "rgb(0, 147, 146)"
          ],
          [
           0.16666666666666666,
           "rgb(114, 170, 161)"
          ],
          [
           0.3333333333333333,
           "rgb(177, 199, 179)"
          ],
          [
           0.5,
           "rgb(241, 234, 200)"
          ],
          [
           0.6666666666666666,
           "rgb(229, 185, 173)"
          ],
          [
           0.8333333333333334,
           "rgb(217, 137, 148)"
          ],
          [
           1,
           "rgb(208, 88, 126)"
          ]
         ],
         "connectgaps": true,
         "contours": {
          "coloring": "heatmap"
         },
         "hoverinfo": "none",
         "line": {
          "smoothing": 1.3
         },
         "reversescale": false,
         "showscale": false,
         "type": "contour",
         "x": [
          0.04999999999999993,
          1,
          2,
          3,
          4,
          5,
          6,
          7,
          8,
          9,
          10,
          11,
          12,
          13,
          14,
          15,
          16,
          17,
          18,
          20,
          20.95
         ],
         "xaxis": "x14",
         "y": [
          8,
          10,
          12,
          14,
          16,
          18,
          20,
          22,
          24,
          26,
          28,
          30,
          32,
          34,
          36,
          38,
          40,
          42,
          44,
          46,
          48,
          50,
          52
         ],
         "yaxis": "y14",
         "z": [
          [
           null,
           null,
           null,
           null,
           null,
           null,
           null,
           null,
           null,
           null,
           null,
           null,
           null,
           null,
           null,
           null,
           null,
           null,
           null,
           null,
           null
          ],
          [
           null,
           0.012938801963584953,
           null,
           null,
           null,
           null,
           0.012814255588096627,
           null,
           null,
           null,
           null,
           null,
           null,
           null,
           null,
           null,
           null,
           null,
           null,
           null,
           null
          ],
          [
           null,
           0.012767244299693958,
           null,
           null,
           null,
           null,
           null,
           null,
           null,
           null,
           null,
           null,
           null,
           null,
           null,
           null,
           null,
           null,
           null,
           null,
           null
          ],
          [
           null,
           null,
           0.012506444939519096,
           null,
           null,
           null,
           null,
           null,
           null,
           null,
           null,
           null,
           null,
           null,
           null,
           null,
           null,
           null,
           null,
           null,
           null
          ],
          [
           null,
           null,
           null,
           null,
           null,
           null,
           null,
           null,
           0.012880124056656284,
           null,
           null,
           null,
           null,
           null,
           null,
           null,
           null,
           null,
           null,
           null,
           null
          ],
          [
           null,
           null,
           0.012885458375372144,
           null,
           null,
           null,
           null,
           null,
           null,
           null,
           null,
           null,
           null,
           null,
           null,
           null,
           null,
           null,
           null,
           null,
           null
          ],
          [
           null,
           null,
           null,
           null,
           0.012450963790385045,
           0.018019503704704704,
           null,
           0.012605106968751757,
           null,
           null,
           null,
           null,
           null,
           null,
           null,
           null,
           null,
           null,
           null,
           null,
           null
          ],
          [
           null,
           null,
           null,
           null,
           null,
           0.01242468520241407,
           null,
           null,
           null,
           null,
           null,
           null,
           null,
           null,
           null,
           null,
           null,
           null,
           null,
           null,
           null
          ],
          [
           null,
           null,
           null,
           null,
           0.012288126860134438,
           0.012400308434027256,
           null,
           null,
           null,
           null,
           null,
           null,
           null,
           null,
           null,
           null,
           null,
           0.013862361711049638,
           null,
           null,
           null
          ],
          [
           null,
           null,
           null,
           null,
           0.012284982264887685,
           0.01272481991565598,
           null,
           null,
           0.012715602673176512,
           null,
           null,
           null,
           null,
           null,
           null,
           null,
           null,
           null,
           null,
           null,
           null
          ],
          [
           null,
           null,
           null,
           0.012217736162445796,
           null,
           null,
           0.012468379303470207,
           null,
           null,
           null,
           null,
           null,
           null,
           null,
           null,
           null,
           null,
           null,
           null,
           null,
           null
          ],
          [
           null,
           null,
           null,
           0.012210449080258713,
           null,
           null,
           null,
           null,
           null,
           null,
           null,
           null,
           null,
           0.014481001029221563,
           null,
           null,
           null,
           null,
           null,
           null,
           null
          ],
          [
           null,
           0.012311403461590674,
           null,
           null,
           null,
           null,
           null,
           null,
           null,
           null,
           null,
           null,
           null,
           null,
           null,
           null,
           null,
           null,
           null,
           null,
           null
          ],
          [
           null,
           null,
           null,
           null,
           null,
           null,
           0.012413034359504919,
           null,
           null,
           null,
           0.012943566321821242,
           null,
           null,
           null,
           null,
           null,
           null,
           null,
           null,
           null,
           null
          ],
          [
           null,
           null,
           0.012123185878091717,
           null,
           null,
           0.012308742307375107,
           null,
           null,
           null,
           null,
           null,
           null,
           null,
           null,
           null,
           null,
           null,
           null,
           null,
           null,
           null
          ],
          [
           null,
           null,
           null,
           null,
           null,
           null,
           null,
           0.012505949563368014,
           null,
           null,
           null,
           null,
           0.013182496743972589,
           null,
           null,
           null,
           null,
           null,
           null,
           0.014157330972293204,
           null
          ],
          [
           null,
           null,
           null,
           null,
           null,
           0.012302471479805554,
           null,
           null,
           null,
           0.012803628325183496,
           null,
           null,
           0.013204585663413022,
           null,
           null,
           null,
           null,
           null,
           null,
           null,
           null
          ],
          [
           null,
           0.012267434643375163,
           0.012330889395662407,
           0.012248666404558463,
           null,
           null,
           null,
           0.01250677582579764,
           null,
           0.012791923279680074,
           null,
           null,
           null,
           null,
           null,
           null,
           0.013730707616831865,
           null,
           null,
           null,
           null
          ],
          [
           null,
           0.012376654438913542,
           0.012111437548123152,
           0.012103543562053577,
           0.014156480203595214,
           null,
           0.012379386392510846,
           null,
           null,
           null,
           null,
           null,
           null,
           null,
           null,
           null,
           null,
           null,
           null,
           null,
           null
          ],
          [
           null,
           0.012154162970554098,
           0.01210385137934272,
           0.012095484937240846,
           0.012161225788450853,
           0.01227682191439457,
           0.012382899465440408,
           null,
           null,
           null,
           0.012915816846904809,
           null,
           null,
           null,
           null,
           null,
           null,
           null,
           0.013933913661561445,
           0.014146756317157028,
           null
          ],
          [
           null,
           0.012172607699863723,
           0.012094863628534866,
           0.012087486864930844,
           0.012166081683821389,
           0.012284517952358466,
           null,
           0.012502937367400114,
           null,
           0.012777591669065221,
           null,
           null,
           null,
           0.013322144082645272,
           null,
           0.013578068955607998,
           null,
           null,
           null,
           null,
           null
          ],
          [
           null,
           0.012147743672829734,
           0.012107475934130254,
           0.012091687875892205,
           0.012173779512340655,
           0.012294015552332262,
           null,
           null,
           0.0126449309912058,
           null,
           null,
           0.013057379553302925,
           null,
           null,
           0.013450064473787429,
           null,
           null,
           null,
           null,
           null,
           null
          ],
          [
           null,
           null,
           null,
           null,
           null,
           null,
           null,
           null,
           null,
           null,
           null,
           null,
           null,
           null,
           null,
           null,
           null,
           null,
           null,
           null,
           null
          ]
         ]
        },
        {
         "marker": {
          "color": "black",
          "line": {
           "color": "Gray",
           "width": 2
          }
         },
         "mode": "markers",
         "name": "Feasible Trial",
         "showlegend": false,
         "type": "scatter",
         "x": [
          10,
          5,
          15,
          1,
          17,
          5,
          4,
          2,
          2,
          13,
          9,
          6,
          7,
          5,
          20,
          4,
          8,
          12,
          3,
          3,
          1,
          1,
          1,
          1,
          3,
          3,
          7,
          3,
          7,
          10,
          12,
          3,
          3,
          4,
          6,
          3,
          5,
          16,
          2,
          6,
          4,
          3,
          2,
          5,
          2,
          2,
          4,
          9,
          2,
          20,
          5,
          3,
          3,
          4,
          2,
          6,
          1,
          4,
          5,
          8,
          1,
          3,
          2,
          3,
          3,
          4,
          1,
          3,
          14,
          2,
          5,
          18,
          3,
          4,
          3,
          2,
          6,
          4,
          3,
          1,
          2,
          2,
          2,
          1,
          2,
          2,
          3,
          3,
          5,
          11,
          4,
          3,
          3,
          3,
          3,
          3,
          4,
          5,
          4,
          3,
          7,
          3,
          3,
          4,
          3,
          5,
          4,
          3,
          1,
          4,
          6,
          3,
          3,
          2,
          3,
          4,
          2,
          3,
          5,
          3,
          2,
          3,
          3,
          4,
          2,
          1,
          4,
          3,
          2,
          3,
          4,
          3,
          3,
          2,
          3,
          3,
          4,
          3,
          2,
          5,
          1,
          3,
          3,
          4,
          3,
          2,
          3,
          4,
          2,
          13,
          3,
          3,
          4,
          3,
          3,
          3,
          4,
          2,
          3,
          2,
          4,
          3,
          3,
          2,
          3,
          3,
          4,
          2,
          3,
          4,
          3,
          3,
          3,
          8,
          9,
          4,
          2,
          3,
          3,
          3
         ],
         "xaxis": "x14",
         "y": [
          34,
          24,
          48,
          32,
          24,
          26,
          20,
          18,
          14,
          30,
          42,
          10,
          20,
          20,
          38,
          26,
          26,
          38,
          30,
          50,
          50,
          50,
          50,
          46,
          44,
          44,
          42,
          44,
          38,
          46,
          40,
          46,
          46,
          46,
          34,
          48,
          48,
          42,
          36,
          44,
          48,
          44,
          46,
          40,
          48,
          50,
          48,
          40,
          42,
          46,
          50,
          44,
          44,
          48,
          50,
          46,
          42,
          48,
          36,
          16,
          10,
          44,
          44,
          46,
          46,
          48,
          46,
          50,
          50,
          50,
          48,
          46,
          48,
          24,
          48,
          50,
          28,
          48,
          48,
          50,
          48,
          48,
          48,
          48,
          50,
          48,
          50,
          50,
          50,
          50,
          50,
          48,
          50,
          50,
          50,
          50,
          46,
          50,
          46,
          48,
          48,
          50,
          50,
          50,
          48,
          48,
          46,
          48,
          44,
          48,
          46,
          50,
          50,
          50,
          48,
          48,
          46,
          48,
          46,
          48,
          44,
          48,
          48,
          48,
          48,
          32,
          46,
          48,
          44,
          42,
          46,
          48,
          48,
          48,
          48,
          46,
          48,
          48,
          46,
          22,
          12,
          48,
          48,
          48,
          46,
          48,
          46,
          44,
          48,
          48,
          46,
          48,
          48,
          46,
          48,
          48,
          46,
          48,
          44,
          50,
          48,
          48,
          46,
          48,
          50,
          48,
          50,
          46,
          46,
          48,
          48,
          48,
          48,
          50,
          48,
          46,
          50,
          48,
          46,
          28
         ],
         "yaxis": "y14"
        },
        {
         "colorbar": {
          "title": {
           "text": "Objective Value"
          }
         },
         "colorscale": [
          [
           0,
           "rgb(0, 147, 146)"
          ],
          [
           0.16666666666666666,
           "rgb(114, 170, 161)"
          ],
          [
           0.3333333333333333,
           "rgb(177, 199, 179)"
          ],
          [
           0.5,
           "rgb(241, 234, 200)"
          ],
          [
           0.6666666666666666,
           "rgb(229, 185, 173)"
          ],
          [
           0.8333333333333334,
           "rgb(217, 137, 148)"
          ],
          [
           1,
           "rgb(208, 88, 126)"
          ]
         ],
         "connectgaps": true,
         "contours": {
          "coloring": "heatmap"
         },
         "hoverinfo": "none",
         "line": {
          "smoothing": 1.3
         },
         "reversescale": false,
         "showscale": false,
         "type": "contour",
         "x": [
          1.1,
          2,
          3,
          4,
          5,
          6,
          7,
          8,
          9,
          10,
          11,
          12,
          13,
          14,
          15,
          16,
          17,
          18,
          19,
          20,
          20.9
         ],
         "xaxis": "x3",
         "y": [
          1.7999999999999998,
          5,
          7,
          9,
          11,
          13,
          15,
          17,
          19,
          21,
          23,
          25,
          27,
          29,
          31,
          33,
          35,
          37,
          39,
          41,
          43,
          45,
          47,
          49,
          51,
          53,
          55,
          57,
          59,
          61,
          63,
          65,
          67,
          69,
          72.2
         ],
         "yaxis": "y3",
         "z": [
          [
           null,
           null,
           null,
           null,
           null,
           null,
           null,
           null,
           null,
           null,
           null,
           null,
           null,
           null,
           null,
           null,
           null,
           null,
           null,
           null,
           null
          ],
          [
           null,
           null,
           0.027547685448198,
           null,
           null,
           null,
           null,
           null,
           null,
           null,
           null,
           null,
           null,
           null,
           null,
           null,
           null,
           null,
           null,
           null,
           null
          ],
          [
           null,
           null,
           null,
           null,
           null,
           null,
           null,
           null,
           null,
           null,
           null,
           null,
           null,
           0.018019503704704704,
           null,
           null,
           null,
           null,
           null,
           null,
           null
          ],
          [
           null,
           null,
           0.014156480203595214,
           null,
           null,
           null,
           null,
           null,
           null,
           null,
           0.014481001029221563,
           null,
           null,
           null,
           null,
           null,
           null,
           null,
           null,
           null,
           null
          ],
          [
           null,
           null,
           null,
           null,
           null,
           null,
           null,
           null,
           null,
           0.012885458375372144,
           null,
           null,
           null,
           null,
           null,
           null,
           null,
           null,
           null,
           null,
           null
          ],
          [
           null,
           null,
           null,
           0.012376654438913542,
           null,
           null,
           null,
           null,
           null,
           null,
           0.012450963790385045,
           null,
           null,
           null,
           null,
           null,
           null,
           null,
           null,
           null,
           null
          ],
          [
           null,
           0.012190266808814952,
           null,
           null,
           null,
           null,
           null,
           null,
           null,
           null,
           null,
           null,
           null,
           null,
           null,
           null,
           null,
           null,
           null,
           null,
           null
          ],
          [
           null,
           null,
           null,
           null,
           null,
           0.01216962252355624,
           null,
           null,
           null,
           null,
           null,
           null,
           null,
           null,
           null,
           null,
           null,
           null,
           null,
           null,
           null
          ],
          [
           null,
           null,
           null,
           null,
           0.012814255588096627,
           0.012605106968751757,
           0.012284982264887685,
           null,
           null,
           null,
           null,
           null,
           null,
           null,
           null,
           null,
           null,
           null,
           null,
           null,
           null
          ],
          [
           null,
           null,
           null,
           0.012161225788450853,
           null,
           null,
           null,
           null,
           null,
           null,
           null,
           null,
           null,
           null,
           null,
           null,
           null,
           null,
           null,
           null,
           null
          ],
          [
           null,
           null,
           0.012087486864930844,
           null,
           0.012107290946756354,
           null,
           0.012715602673176512,
           null,
           null,
           null,
           null,
           null,
           null,
           null,
           null,
           null,
           null,
           null,
           null,
           null,
           null
          ],
          [
           null,
           0.012791923279680074,
           null,
           null,
           null,
           null,
           null,
           0.012400308434027256,
           null,
           null,
           null,
           null,
           null,
           null,
           null,
           null,
           null,
           null,
           null,
           null,
           null
          ],
          [
           null,
           null,
           null,
           0.012210449080258713,
           null,
           null,
           null,
           null,
           null,
           null,
           null,
           null,
           null,
           null,
           null,
           0.012412748954856858,
           null,
           null,
           null,
           null,
           null
          ],
          [
           null,
           null,
           null,
           0.014146756317157028,
           null,
           null,
           null,
           null,
           null,
           null,
           null,
           null,
           null,
           null,
           null,
           null,
           null,
           null,
           null,
           null,
           null
          ],
          [
           null,
           null,
           null,
           null,
           null,
           null,
           null,
           null,
           null,
           null,
           null,
           null,
           null,
           null,
           null,
           null,
           null,
           null,
           0.012771835598957886,
           0.012609498113939613,
           null
          ],
          [
           null,
           null,
           0.012091687875892205,
           null,
           null,
           null,
           null,
           null,
           null,
           0.012506444939519096,
           null,
           null,
           null,
           null,
           null,
           null,
           null,
           null,
           null,
           null,
           null
          ],
          [
           null,
           0.012803628325183496,
           null,
           null,
           null,
           null,
           null,
           null,
           0.01217944756496205,
           null,
           null,
           null,
           null,
           null,
           0.013578068955607998,
           null,
           null,
           null,
           null,
           null,
           null
          ],
          [
           null,
           null,
           null,
           null,
           null,
           null,
           null,
           0.012284517952358466,
           null,
           null,
           null,
           null,
           null,
           null,
           null,
           null,
           null,
           null,
           null,
           null,
           null
          ],
          [
           null,
           null,
           0.012107475934130254,
           null,
           null,
           null,
           null,
           null,
           null,
           null,
           null,
           null,
           null,
           null,
           null,
           null,
           null,
           null,
           null,
           null,
           null
          ],
          [
           null,
           null,
           null,
           0.012091687875892205,
           null,
           null,
           null,
           null,
           null,
           null,
           null,
           null,
           null,
           null,
           null,
           null,
           null,
           null,
           null,
           null,
           null
          ],
          [
           null,
           0.013182496743972589,
           null,
           0.012382899465440408,
           null,
           null,
           null,
           null,
           null,
           null,
           null,
           null,
           null,
           null,
           null,
           null,
           0.012880124056656284,
           null,
           null,
           null,
           null
          ],
          [
           null,
           null,
           null,
           null,
           0.012095484937240846,
           null,
           0.012121953946371174,
           null,
           0.012302471479805554,
           null,
           null,
           null,
           null,
           null,
           null,
           null,
           null,
           null,
           null,
           null,
           null
          ],
          [
           null,
           null,
           null,
           null,
           0.013730707616831865,
           null,
           0.012938801963584953,
           null,
           null,
           null,
           null,
           null,
           null,
           null,
           0.014157330972293204,
           null,
           null,
           null,
           null,
           null,
           null
          ],
          [
           null,
           0.013204585663413022,
           null,
           null,
           0.012267434643375163,
           null,
           null,
           null,
           null,
           null,
           null,
           0.012330889395662407,
           null,
           null,
           null,
           null,
           null,
           null,
           null,
           null,
           null
          ],
          [
           null,
           null,
           null,
           null,
           0.012103543562053577,
           null,
           0.012379386392510846,
           0.012915816846904809,
           null,
           0.012943566321821242,
           null,
           null,
           null,
           null,
           null,
           null,
           null,
           null,
           null,
           null,
           null
          ],
          [
           null,
           0.012111437548123152,
           null,
           null,
           null,
           0.012166081683821389,
           null,
           null,
           null,
           null,
           null,
           null,
           0.012315886544905947,
           null,
           null,
           null,
           null,
           null,
           null,
           null,
           null
          ],
          [
           null,
           null,
           0.012107475934130254,
           null,
           0.012103543562053577,
           0.012103543562053577,
           null,
           null,
           null,
           null,
           null,
           null,
           null,
           null,
           null,
           null,
           null,
           null,
           null,
           null,
           null
          ],
          [
           null,
           0.012173779512340655,
           0.012095484937240846,
           null,
           0.01212458992928212,
           0.012166081683821389,
           null,
           null,
           0.013862361711049638,
           null,
           null,
           null,
           null,
           0.012352067758367799,
           null,
           null,
           null,
           null,
           null,
           null,
           null
          ],
          [
           null,
           null,
           0.012095484937240846,
           0.012089410260349839,
           0.012089410260349839,
           0.012089410260349839,
           null,
           null,
           null,
           null,
           null,
           null,
           null,
           null,
           null,
           null,
           null,
           null,
           null,
           null,
           null
          ],
          [
           null,
           0.012091687875892205,
           0.012089410260349839,
           0.012089410260349839,
           null,
           null,
           null,
           null,
           null,
           null,
           null,
           0.012767244299693958,
           null,
           null,
           null,
           null,
           null,
           null,
           null,
           null,
           null
          ],
          [
           null,
           0.012107475934130254,
           0.012091687875892205,
           0.012089410260349839,
           0.012101897278073466,
           0.012505949563368014,
           null,
           null,
           null,
           null,
           0.012248666404558463,
           null,
           null,
           null,
           0.012387403975115082,
           null,
           null,
           null,
           null,
           null,
           null
          ],
          [
           null,
           0.012154162970554098,
           0.012089410260349839,
           0.012089410260349839,
           0.012095484937240846,
           null,
           null,
           null,
           null,
           null,
           null,
           null,
           null,
           null,
           null,
           null,
           null,
           null,
           null,
           null,
           null
          ],
          [
           null,
           0.012089410260349839,
           0.012089410260349839,
           0.012089410260349839,
           0.012095484937240846,
           0.012123123127391396,
           null,
           null,
           null,
           0.012502937367400114,
           null,
           null,
           null,
           null,
           null,
           null,
           null,
           null,
           null,
           null,
           null
          ],
          [
           null,
           0.012468379303470207,
           0.012094863628534866,
           0.012089410260349839,
           0.01212458992928212,
           null,
           null,
           0.012294015552332262,
           null,
           null,
           null,
           null,
           null,
           null,
           null,
           null,
           null,
           0.01252743648392719,
           0.01272481991565598,
           null,
           null
          ],
          [
           null,
           null,
           null,
           null,
           null,
           null,
           null,
           null,
           null,
           null,
           null,
           null,
           null,
           null,
           null,
           null,
           null,
           null,
           null,
           null,
           null
          ]
         ]
        },
        {
         "marker": {
          "color": "black",
          "line": {
           "color": "Gray",
           "width": 2
          }
         },
         "mode": "markers",
         "name": "Feasible Trial",
         "showlegend": false,
         "type": "scatter",
         "x": [
          10,
          8,
          15,
          19,
          9,
          19,
          11,
          10,
          10,
          11,
          2,
          5,
          6,
          14,
          15,
          7,
          7,
          2,
          4,
          4,
          4,
          4,
          4,
          3,
          5,
          6,
          6,
          13,
          6,
          8,
          2,
          5,
          5,
          5,
          3,
          9,
          8,
          5,
          3,
          7,
          20,
          5,
          6,
          9,
          3,
          3,
          18,
          2,
          12,
          4,
          8,
          5,
          7,
          6,
          3,
          4,
          5,
          6,
          4,
          17,
          7,
          5,
          2,
          3,
          3,
          3,
          2,
          3,
          3,
          4,
          2,
          3,
          4,
          4,
          3,
          4,
          2,
          5,
          2,
          2,
          4,
          4,
          4,
          4,
          3,
          2,
          4,
          3,
          3,
          3,
          2,
          4,
          3,
          3,
          2,
          3,
          2,
          4,
          5,
          15,
          10,
          2,
          3,
          2,
          3,
          3,
          4,
          16,
          4,
          5,
          3,
          2,
          3,
          2,
          4,
          4,
          5,
          6,
          6,
          4,
          5,
          4,
          4,
          4,
          6,
          4,
          5,
          4,
          5,
          11,
          6,
          4,
          4,
          4,
          5,
          5,
          4,
          14,
          4,
          5,
          12,
          4,
          4,
          4,
          5,
          6,
          4,
          3,
          5,
          3,
          4,
          4,
          4,
          5,
          3,
          4,
          3,
          5,
          4,
          3,
          4,
          4,
          4,
          5,
          4,
          3,
          5,
          4,
          3,
          5,
          4,
          3,
          3,
          3,
          4,
          2,
          4,
          3,
          5,
          3
         ],
         "xaxis": "x3",
         "y": [
          51,
          25,
          35,
          31,
          57,
          69,
          13,
          11,
          33,
          9,
          25,
          19,
          19,
          7,
          47,
          19,
          23,
          43,
          27,
          41,
          41,
          41,
          41,
          57,
          51,
          55,
          63,
          53,
          63,
          51,
          49,
          45,
          45,
          45,
          39,
          35,
          37,
          47,
          61,
          51,
          31,
          55,
          59,
          45,
          69,
          65,
          69,
          35,
          49,
          29,
          69,
          55,
          45,
          53,
          39,
          43,
          49,
          57,
          65,
          43,
          47,
          55,
          53,
          59,
          59,
          59,
          65,
          67,
          67,
          61,
          67,
          63,
          61,
          61,
          67,
          67,
          69,
          63,
          67,
          67,
          69,
          69,
          69,
          69,
          65,
          67,
          69,
          65,
          65,
          63,
          15,
          67,
          67,
          65,
          61,
          63,
          65,
          67,
          65,
          63,
          67,
          61,
          61,
          57,
          23,
          67,
          21,
          27,
          13,
          65,
          5,
          67,
          33,
          63,
          61,
          65,
          23,
          59,
          59,
          69,
          69,
          67,
          69,
          69,
          67,
          69,
          69,
          63,
          57,
          63,
          17,
          67,
          61,
          61,
          59,
          59,
          59,
          57,
          63,
          63,
          61,
          65,
          65,
          61,
          65,
          67,
          59,
          9,
          63,
          67,
          65,
          65,
          63,
          65,
          67,
          61,
          69,
          67,
          63,
          55,
          65,
          65,
          65,
          67,
          69,
          61,
          63,
          67,
          57,
          69,
          59,
          67,
          65,
          67,
          69,
          63,
          65,
          61,
          67,
          63
         ],
         "yaxis": "y3"
        },
        {
         "colorbar": {
          "title": {
           "text": "Objective Value"
          }
         },
         "colorscale": [
          [
           0,
           "rgb(0, 147, 146)"
          ],
          [
           0.16666666666666666,
           "rgb(114, 170, 161)"
          ],
          [
           0.3333333333333333,
           "rgb(177, 199, 179)"
          ],
          [
           0.5,
           "rgb(241, 234, 200)"
          ],
          [
           0.6666666666666666,
           "rgb(229, 185, 173)"
          ],
          [
           0.8333333333333334,
           "rgb(217, 137, 148)"
          ],
          [
           1,
           "rgb(208, 88, 126)"
          ]
         ],
         "connectgaps": true,
         "contours": {
          "coloring": "heatmap"
         },
         "hoverinfo": "none",
         "line": {
          "smoothing": 1.3
         },
         "reversescale": false,
         "showscale": false,
         "type": "contour",
         "x": [
          1.1,
          2,
          3,
          4,
          5,
          6,
          7,
          8,
          9,
          10,
          11,
          12,
          13,
          14,
          15,
          16,
          17,
          18,
          19,
          20,
          20.9
         ],
         "xaxis": "x7",
         "y": [
          0.04999999999999993,
          1,
          2,
          3,
          4,
          5,
          6,
          7,
          8,
          9,
          10,
          11,
          12,
          13,
          14,
          15,
          16,
          17,
          18,
          20,
          20.95
         ],
         "yaxis": "y7",
         "z": [
          [
           null,
           null,
           null,
           null,
           null,
           null,
           null,
           null,
           null,
           null,
           null,
           null,
           null,
           null,
           null,
           null,
           null,
           null,
           null,
           null,
           null
          ],
          [
           null,
           0.012147743672829734,
           0.01218005095916387,
           0.012172607699863723,
           0.012267434643375163,
           null,
           0.012938801963584953,
           null,
           null,
           null,
           null,
           0.012767244299693958,
           null,
           null,
           null,
           null,
           null,
           null,
           0.012771835598957886,
           null,
           null
          ],
          [
           null,
           0.012094863628534866,
           0.012094863628534866,
           0.012094863628534866,
           0.012101897278073466,
           0.012123123127391396,
           null,
           null,
           null,
           0.012506444939519096,
           null,
           0.012330889395662407,
           null,
           null,
           null,
           null,
           null,
           null,
           null,
           null,
           null
          ],
          [
           null,
           0.012089410260349839,
           0.012087486864930844,
           0.012089410260349839,
           0.012089410260349839,
           0.012089410260349839,
           0.012121953946371174,
           null,
           0.01217944756496205,
           null,
           0.012248666404558463,
           null,
           0.012315886544905947,
           0.012352067758367799,
           0.012387403975115082,
           0.012412748954856858,
           null,
           null,
           null,
           null,
           null
          ],
          [
           null,
           0.01216274880160485,
           0.01216274880160485,
           0.012161225788450853,
           0.01216274880160485,
           0.012166081683821389,
           0.012284982264887685,
           null,
           null,
           null,
           0.012450963790385045,
           null,
           null,
           null,
           null,
           null,
           null,
           0.01252743648392719,
           null,
           0.012609498113939613,
           null
          ],
          [
           null,
           0.012284517952358466,
           0.012284517952358466,
           0.012294015552332262,
           0.01242468520241407,
           0.01227682191439457,
           null,
           0.012284517952358466,
           0.012302471479805554,
           null,
           null,
           null,
           null,
           0.018019503704704704,
           null,
           null,
           null,
           null,
           0.01272481991565598,
           null,
           null
          ],
          [
           null,
           0.012468379303470207,
           0.012413034359504919,
           0.012382899465440408,
           0.012814255588096627,
           null,
           0.012379386392510846,
           null,
           null,
           null,
           null,
           null,
           null,
           null,
           null,
           null,
           null,
           null,
           null,
           null,
           null
          ],
          [
           null,
           null,
           null,
           null,
           null,
           0.012505949563368014,
           null,
           null,
           null,
           0.012502937367400114,
           null,
           null,
           null,
           null,
           null,
           null,
           null,
           null,
           null,
           null,
           null
          ],
          [
           null,
           null,
           0.0126449309912058,
           null,
           null,
           null,
           0.012715602673176512,
           null,
           null,
           null,
           null,
           null,
           null,
           null,
           null,
           null,
           0.012880124056656284,
           null,
           null,
           null,
           null
          ],
          [
           null,
           0.012791923279680074,
           null,
           0.012777591669065221,
           null,
           null,
           null,
           null,
           null,
           null,
           null,
           null,
           null,
           null,
           null,
           null,
           null,
           null,
           null,
           null,
           null
          ],
          [
           null,
           null,
           null,
           null,
           null,
           null,
           null,
           0.012915816846904809,
           null,
           0.012943566321821242,
           null,
           null,
           null,
           null,
           null,
           null,
           null,
           null,
           null,
           null,
           null
          ],
          [
           null,
           null,
           0.013057379553302925,
           null,
           null,
           null,
           null,
           null,
           null,
           null,
           null,
           null,
           null,
           null,
           null,
           null,
           null,
           null,
           null,
           null,
           null
          ],
          [
           null,
           0.013182496743972589,
           null,
           null,
           null,
           null,
           null,
           null,
           null,
           null,
           null,
           null,
           null,
           null,
           null,
           null,
           null,
           null,
           null,
           null,
           null
          ],
          [
           null,
           null,
           0.013322144082645272,
           null,
           null,
           null,
           null,
           null,
           null,
           null,
           0.014481001029221563,
           null,
           null,
           null,
           null,
           null,
           null,
           null,
           null,
           null,
           null
          ],
          [
           null,
           null,
           0.013450064473787429,
           null,
           null,
           null,
           null,
           null,
           null,
           null,
           null,
           null,
           null,
           null,
           null,
           null,
           null,
           null,
           null,
           null,
           null
          ],
          [
           null,
           null,
           null,
           null,
           null,
           null,
           null,
           null,
           null,
           null,
           null,
           null,
           null,
           null,
           0.013578068955607998,
           null,
           null,
           null,
           null,
           null,
           null
          ],
          [
           null,
           null,
           null,
           null,
           0.013730707616831865,
           null,
           null,
           null,
           null,
           null,
           null,
           null,
           null,
           null,
           null,
           null,
           null,
           null,
           null,
           null,
           null
          ],
          [
           null,
           null,
           null,
           null,
           null,
           null,
           null,
           null,
           0.013862361711049638,
           null,
           null,
           null,
           null,
           null,
           null,
           null,
           null,
           null,
           null,
           null,
           null
          ],
          [
           null,
           null,
           0.013933913661561445,
           null,
           null,
           null,
           null,
           null,
           null,
           null,
           null,
           null,
           null,
           null,
           null,
           null,
           null,
           null,
           null,
           null,
           null
          ],
          [
           null,
           null,
           null,
           0.014146756317157028,
           null,
           null,
           null,
           null,
           null,
           null,
           null,
           null,
           null,
           null,
           0.014157330972293204,
           null,
           null,
           null,
           null,
           null,
           null
          ],
          [
           null,
           null,
           null,
           null,
           null,
           null,
           null,
           null,
           null,
           null,
           null,
           null,
           null,
           null,
           null,
           null,
           null,
           null,
           null,
           null,
           null
          ]
         ]
        },
        {
         "marker": {
          "color": "black",
          "line": {
           "color": "Gray",
           "width": 2
          }
         },
         "mode": "markers",
         "name": "Feasible Trial",
         "showlegend": false,
         "type": "scatter",
         "x": [
          10,
          8,
          15,
          19,
          9,
          19,
          11,
          10,
          10,
          11,
          2,
          5,
          6,
          14,
          15,
          7,
          7,
          2,
          4,
          4,
          4,
          4,
          4,
          3,
          5,
          6,
          6,
          13,
          6,
          8,
          2,
          5,
          5,
          5,
          3,
          9,
          8,
          5,
          3,
          7,
          20,
          5,
          6,
          9,
          3,
          3,
          18,
          2,
          12,
          4,
          8,
          5,
          7,
          6,
          3,
          4,
          5,
          6,
          4,
          17,
          7,
          5,
          2,
          3,
          3,
          3,
          2,
          3,
          3,
          4,
          2,
          3,
          4,
          4,
          3,
          4,
          2,
          5,
          2,
          2,
          4,
          4,
          4,
          4,
          3,
          2,
          4,
          3,
          3,
          3,
          2,
          4,
          3,
          3,
          2,
          3,
          2,
          4,
          5,
          15,
          10,
          2,
          3,
          2,
          3,
          3,
          4,
          16,
          4,
          5,
          3,
          2,
          3,
          2,
          4,
          4,
          5,
          6,
          6,
          4,
          5,
          4,
          4,
          4,
          6,
          4,
          5,
          4,
          5,
          11,
          6,
          4,
          4,
          4,
          5,
          5,
          4,
          14,
          4,
          5,
          12,
          4,
          4,
          4,
          5,
          6,
          4,
          3,
          5,
          3,
          4,
          4,
          4,
          5,
          3,
          4,
          3,
          5,
          4,
          3,
          4,
          4,
          4,
          5,
          4,
          3,
          5,
          4,
          3,
          5,
          4,
          3,
          3,
          3,
          4,
          2,
          4,
          3,
          5,
          3
         ],
         "xaxis": "x7",
         "y": [
          10,
          5,
          15,
          1,
          17,
          5,
          4,
          2,
          2,
          13,
          9,
          6,
          7,
          5,
          20,
          4,
          8,
          12,
          3,
          3,
          1,
          1,
          1,
          1,
          3,
          3,
          7,
          3,
          7,
          10,
          12,
          3,
          3,
          4,
          6,
          3,
          5,
          16,
          2,
          6,
          4,
          3,
          2,
          5,
          2,
          2,
          4,
          9,
          2,
          20,
          5,
          3,
          3,
          4,
          2,
          6,
          1,
          4,
          5,
          8,
          1,
          3,
          2,
          3,
          3,
          4,
          1,
          3,
          14,
          2,
          5,
          18,
          3,
          4,
          3,
          2,
          6,
          4,
          3,
          1,
          2,
          2,
          2,
          1,
          2,
          2,
          3,
          3,
          5,
          11,
          4,
          3,
          3,
          3,
          3,
          3,
          4,
          5,
          4,
          3,
          7,
          3,
          3,
          4,
          3,
          5,
          4,
          3,
          1,
          4,
          6,
          3,
          3,
          2,
          3,
          4,
          2,
          3,
          5,
          3,
          2,
          3,
          3,
          4,
          2,
          1,
          4,
          3,
          2,
          3,
          4,
          3,
          3,
          2,
          3,
          3,
          4,
          3,
          2,
          5,
          1,
          3,
          3,
          4,
          3,
          2,
          3,
          4,
          2,
          13,
          3,
          3,
          4,
          3,
          3,
          3,
          4,
          2,
          3,
          2,
          4,
          3,
          3,
          2,
          3,
          3,
          4,
          2,
          3,
          4,
          3,
          3,
          3,
          8,
          9,
          4,
          2,
          3,
          3,
          3
         ],
         "yaxis": "y7"
        },
        {
         "type": "scatter",
         "xaxis": "x11",
         "yaxis": "y11"
        },
        {
         "colorbar": {
          "title": {
           "text": "Objective Value"
          }
         },
         "colorscale": [
          [
           0,
           "rgb(0, 147, 146)"
          ],
          [
           0.16666666666666666,
           "rgb(114, 170, 161)"
          ],
          [
           0.3333333333333333,
           "rgb(177, 199, 179)"
          ],
          [
           0.5,
           "rgb(241, 234, 200)"
          ],
          [
           0.6666666666666666,
           "rgb(229, 185, 173)"
          ],
          [
           0.8333333333333334,
           "rgb(217, 137, 148)"
          ],
          [
           1,
           "rgb(208, 88, 126)"
          ]
         ],
         "connectgaps": true,
         "contours": {
          "coloring": "heatmap"
         },
         "hoverinfo": "none",
         "line": {
          "smoothing": 1.3
         },
         "reversescale": false,
         "showscale": false,
         "type": "contour",
         "x": [
          1.1,
          2,
          3,
          4,
          5,
          6,
          7,
          8,
          9,
          10,
          11,
          12,
          13,
          14,
          15,
          16,
          17,
          18,
          19,
          20,
          20.9
         ],
         "xaxis": "x15",
         "y": [
          8,
          10,
          12,
          14,
          16,
          18,
          20,
          22,
          24,
          26,
          28,
          30,
          32,
          34,
          36,
          38,
          40,
          42,
          44,
          46,
          48,
          50,
          52
         ],
         "yaxis": "y15",
         "z": [
          [
           null,
           null,
           null,
           null,
           null,
           null,
           null,
           null,
           null,
           null,
           null,
           null,
           null,
           null,
           null,
           null,
           null,
           null,
           null,
           null,
           null
          ],
          [
           null,
           null,
           null,
           null,
           0.012814255588096627,
           null,
           0.012938801963584953,
           null,
           null,
           null,
           null,
           null,
           null,
           null,
           null,
           null,
           null,
           null,
           null,
           null,
           null
          ],
          [
           null,
           null,
           null,
           null,
           null,
           null,
           null,
           null,
           null,
           null,
           null,
           0.012767244299693958,
           null,
           null,
           null,
           null,
           null,
           null,
           null,
           null,
           null
          ],
          [
           null,
           null,
           null,
           null,
           null,
           null,
           null,
           null,
           null,
           0.012506444939519096,
           null,
           null,
           null,
           null,
           null,
           null,
           null,
           null,
           null,
           null,
           null
          ],
          [
           null,
           null,
           null,
           null,
           null,
           null,
           null,
           null,
           null,
           null,
           null,
           null,
           null,
           null,
           null,
           null,
           0.012880124056656284,
           null,
           null,
           null,
           null
          ],
          [
           null,
           null,
           null,
           null,
           null,
           null,
           null,
           null,
           null,
           0.012885458375372144,
           null,
           null,
           null,
           null,
           null,
           null,
           null,
           null,
           null,
           null,
           null
          ],
          [
           null,
           null,
           null,
           null,
           null,
           0.012605106968751757,
           null,
           null,
           null,
           null,
           0.012450963790385045,
           null,
           null,
           0.018019503704704704,
           null,
           null,
           null,
           null,
           null,
           null,
           null
          ],
          [
           null,
           null,
           null,
           null,
           0.01242468520241407,
           null,
           null,
           null,
           null,
           null,
           null,
           null,
           null,
           null,
           null,
           null,
           null,
           null,
           null,
           null,
           null
          ],
          [
           null,
           null,
           null,
           0.012288126860134438,
           null,
           null,
           null,
           0.012400308434027256,
           0.013862361711049638,
           null,
           null,
           null,
           null,
           null,
           null,
           null,
           null,
           null,
           null,
           null,
           null
          ],
          [
           null,
           null,
           null,
           null,
           null,
           null,
           0.012284982264887685,
           null,
           null,
           null,
           null,
           null,
           null,
           null,
           null,
           null,
           null,
           null,
           0.01272481991565598,
           null,
           null
          ],
          [
           null,
           0.012468379303470207,
           0.012217736162445796,
           null,
           null,
           null,
           null,
           null,
           null,
           null,
           null,
           null,
           null,
           null,
           null,
           null,
           null,
           null,
           null,
           null,
           null
          ],
          [
           null,
           null,
           null,
           0.012210449080258713,
           null,
           null,
           null,
           null,
           null,
           null,
           0.014481001029221563,
           null,
           null,
           null,
           null,
           null,
           null,
           null,
           null,
           null,
           null
          ],
          [
           null,
           null,
           null,
           0.012311403461590674,
           null,
           null,
           null,
           null,
           null,
           null,
           null,
           null,
           null,
           null,
           null,
           null,
           null,
           null,
           0.012771835598957886,
           null,
           null
          ],
          [
           null,
           null,
           0.012413034359504919,
           null,
           null,
           null,
           null,
           null,
           null,
           0.012943566321821242,
           null,
           null,
           null,
           null,
           null,
           null,
           null,
           null,
           null,
           null,
           null
          ],
          [
           null,
           null,
           0.012123185878091717,
           0.012308742307375107,
           null,
           null,
           null,
           null,
           null,
           null,
           null,
           null,
           null,
           null,
           null,
           null,
           null,
           null,
           null,
           null,
           null
          ],
          [
           null,
           0.013182496743972589,
           null,
           null,
           null,
           0.012505949563368014,
           null,
           null,
           null,
           null,
           null,
           null,
           null,
           null,
           0.014157330972293204,
           null,
           null,
           null,
           null,
           null,
           null
          ],
          [
           null,
           0.012803628325183496,
           null,
           null,
           null,
           null,
           null,
           null,
           0.012302471479805554,
           null,
           null,
           null,
           null,
           null,
           null,
           null,
           null,
           null,
           null,
           null,
           null
          ],
          [
           null,
           0.012791923279680074,
           null,
           null,
           0.012267434643375163,
           0.01250677582579764,
           null,
           null,
           null,
           null,
           0.012248666404558463,
           0.012330889395662407,
           null,
           null,
           null,
           null,
           null,
           null,
           null,
           null,
           null
          ],
          [
           null,
           0.012111437548123152,
           0.014156480203595214,
           0.012103543562053577,
           0.012103543562053577,
           0.012103543562053577,
           0.012121953946371174,
           null,
           null,
           null,
           null,
           null,
           0.012315886544905947,
           null,
           null,
           null,
           null,
           null,
           null,
           null,
           null
          ],
          [
           null,
           0.012154162970554098,
           0.012095484937240846,
           0.012095484937240846,
           0.012095484937240846,
           0.012132940270962273,
           null,
           0.012915816846904809,
           null,
           null,
           null,
           null,
           null,
           null,
           null,
           null,
           null,
           null,
           null,
           null,
           null
          ],
          [
           null,
           0.012089410260349839,
           0.012087486864930844,
           0.012089410260349839,
           0.012089410260349839,
           0.012089410260349839,
           null,
           0.012284517952358466,
           0.01217944756496205,
           0.012502937367400114,
           null,
           null,
           null,
           0.012352067758367799,
           0.012387403975115082,
           0.012412748954856858,
           null,
           0.01252743648392719,
           null,
           0.012609498113939613,
           null
          ],
          [
           null,
           0.012091687875892205,
           0.012091687875892205,
           0.012091687875892205,
           0.012173779512340655,
           null,
           null,
           0.012294015552332262,
           null,
           null,
           null,
           null,
           null,
           null,
           null,
           null,
           null,
           null,
           null,
           null,
           null
          ],
          [
           null,
           null,
           null,
           null,
           null,
           null,
           null,
           null,
           null,
           null,
           null,
           null,
           null,
           null,
           null,
           null,
           null,
           null,
           null,
           null,
           null
          ]
         ]
        },
        {
         "marker": {
          "color": "black",
          "line": {
           "color": "Gray",
           "width": 2
          }
         },
         "mode": "markers",
         "name": "Feasible Trial",
         "showlegend": false,
         "type": "scatter",
         "x": [
          10,
          8,
          15,
          19,
          9,
          19,
          11,
          10,
          10,
          11,
          2,
          5,
          6,
          14,
          15,
          7,
          7,
          2,
          4,
          4,
          4,
          4,
          4,
          3,
          5,
          6,
          6,
          13,
          6,
          8,
          2,
          5,
          5,
          5,
          3,
          9,
          8,
          5,
          3,
          7,
          20,
          5,
          6,
          9,
          3,
          3,
          18,
          2,
          12,
          4,
          8,
          5,
          7,
          6,
          3,
          4,
          5,
          6,
          4,
          17,
          7,
          5,
          2,
          3,
          3,
          3,
          2,
          3,
          3,
          4,
          2,
          3,
          4,
          4,
          3,
          4,
          2,
          5,
          2,
          2,
          4,
          4,
          4,
          4,
          3,
          2,
          4,
          3,
          3,
          3,
          2,
          4,
          3,
          3,
          2,
          3,
          2,
          4,
          5,
          15,
          10,
          2,
          3,
          2,
          3,
          3,
          4,
          16,
          4,
          5,
          3,
          2,
          3,
          2,
          4,
          4,
          5,
          6,
          6,
          4,
          5,
          4,
          4,
          4,
          6,
          4,
          5,
          4,
          5,
          11,
          6,
          4,
          4,
          4,
          5,
          5,
          4,
          14,
          4,
          5,
          12,
          4,
          4,
          4,
          5,
          6,
          4,
          3,
          5,
          3,
          4,
          4,
          4,
          5,
          3,
          4,
          3,
          5,
          4,
          3,
          4,
          4,
          4,
          5,
          4,
          3,
          5,
          4,
          3,
          5,
          4,
          3,
          3,
          3,
          4,
          2,
          4,
          3,
          5,
          3
         ],
         "xaxis": "x15",
         "y": [
          34,
          24,
          48,
          32,
          24,
          26,
          20,
          18,
          14,
          30,
          42,
          10,
          20,
          20,
          38,
          26,
          26,
          38,
          30,
          50,
          50,
          50,
          50,
          46,
          44,
          44,
          42,
          44,
          38,
          46,
          40,
          46,
          46,
          46,
          34,
          48,
          48,
          42,
          36,
          44,
          48,
          44,
          46,
          40,
          48,
          50,
          48,
          40,
          42,
          46,
          50,
          44,
          44,
          48,
          50,
          46,
          42,
          48,
          36,
          16,
          10,
          44,
          44,
          46,
          46,
          48,
          46,
          50,
          50,
          50,
          48,
          46,
          48,
          24,
          48,
          50,
          28,
          48,
          48,
          50,
          48,
          48,
          48,
          48,
          50,
          48,
          50,
          50,
          50,
          50,
          50,
          48,
          50,
          50,
          50,
          50,
          46,
          50,
          46,
          48,
          48,
          50,
          50,
          50,
          48,
          48,
          46,
          48,
          44,
          48,
          46,
          50,
          50,
          50,
          48,
          48,
          46,
          48,
          46,
          48,
          44,
          48,
          48,
          48,
          48,
          32,
          46,
          48,
          44,
          42,
          46,
          48,
          48,
          48,
          48,
          46,
          48,
          48,
          46,
          22,
          12,
          48,
          48,
          48,
          46,
          48,
          46,
          44,
          48,
          48,
          46,
          48,
          48,
          46,
          48,
          48,
          46,
          48,
          44,
          50,
          48,
          48,
          46,
          48,
          50,
          48,
          50,
          46,
          46,
          48,
          48,
          48,
          48,
          50,
          48,
          46,
          50,
          48,
          46,
          28
         ],
         "yaxis": "y15"
        },
        {
         "colorbar": {
          "title": {
           "text": "Objective Value"
          }
         },
         "colorscale": [
          [
           0,
           "rgb(0, 147, 146)"
          ],
          [
           0.16666666666666666,
           "rgb(114, 170, 161)"
          ],
          [
           0.3333333333333333,
           "rgb(177, 199, 179)"
          ],
          [
           0.5,
           "rgb(241, 234, 200)"
          ],
          [
           0.6666666666666666,
           "rgb(229, 185, 173)"
          ],
          [
           0.8333333333333334,
           "rgb(217, 137, 148)"
          ],
          [
           1,
           "rgb(208, 88, 126)"
          ]
         ],
         "connectgaps": true,
         "contours": {
          "coloring": "heatmap"
         },
         "hoverinfo": "none",
         "line": {
          "smoothing": 1.3
         },
         "reversescale": false,
         "showscale": false,
         "type": "contour",
         "x": [
          8,
          10,
          12,
          14,
          16,
          18,
          20,
          22,
          24,
          26,
          28,
          30,
          32,
          34,
          36,
          38,
          40,
          42,
          44,
          46,
          48,
          50,
          52
         ],
         "xaxis": "x4",
         "y": [
          1.7999999999999998,
          5,
          7,
          9,
          11,
          13,
          15,
          17,
          19,
          21,
          23,
          25,
          27,
          29,
          31,
          33,
          35,
          37,
          39,
          41,
          43,
          45,
          47,
          49,
          51,
          53,
          55,
          57,
          59,
          61,
          63,
          65,
          67,
          69,
          72.2
         ],
         "yaxis": "y4",
         "z": [
          [
           null,
           null,
           null,
           null,
           null,
           null,
           null,
           null,
           null,
           null,
           null,
           null,
           null,
           null,
           null,
           null,
           null,
           null,
           null,
           null,
           null,
           null,
           null
          ],
          [
           null,
           null,
           null,
           null,
           null,
           null,
           null,
           null,
           null,
           null,
           null,
           null,
           null,
           null,
           null,
           null,
           null,
           null,
           null,
           0.027547685448198,
           null,
           null,
           null
          ],
          [
           null,
           null,
           null,
           null,
           null,
           null,
           0.018019503704704704,
           null,
           null,
           null,
           null,
           null,
           null,
           null,
           null,
           null,
           null,
           null,
           null,
           null,
           null,
           null,
           null
          ],
          [
           null,
           null,
           null,
           null,
           null,
           null,
           null,
           null,
           null,
           null,
           null,
           0.014481001029221563,
           null,
           null,
           null,
           null,
           null,
           null,
           0.014156480203595214,
           null,
           null,
           null,
           null
          ],
          [
           null,
           null,
           null,
           null,
           null,
           0.012885458375372144,
           null,
           null,
           null,
           null,
           null,
           null,
           null,
           null,
           null,
           null,
           null,
           null,
           null,
           null,
           null,
           null,
           null
          ],
          [
           null,
           null,
           null,
           null,
           null,
           null,
           0.012450963790385045,
           null,
           null,
           null,
           null,
           null,
           null,
           null,
           null,
           null,
           null,
           null,
           0.012376654438913542,
           null,
           null,
           null,
           null
          ],
          [
           null,
           null,
           null,
           null,
           null,
           null,
           null,
           null,
           null,
           null,
           null,
           null,
           null,
           null,
           null,
           null,
           null,
           null,
           null,
           null,
           null,
           0.012190266808814952,
           null
          ],
          [
           null,
           null,
           null,
           null,
           null,
           null,
           null,
           null,
           null,
           null,
           null,
           null,
           null,
           null,
           null,
           null,
           null,
           null,
           null,
           0.01216962252355624,
           null,
           null,
           null
          ],
          [
           null,
           0.012814255588096627,
           null,
           null,
           null,
           null,
           0.012605106968751757,
           null,
           null,
           0.012284982264887685,
           null,
           null,
           null,
           null,
           null,
           null,
           null,
           null,
           null,
           null,
           null,
           null,
           null
          ],
          [
           null,
           null,
           null,
           null,
           null,
           null,
           null,
           null,
           null,
           null,
           null,
           null,
           null,
           null,
           null,
           null,
           null,
           null,
           null,
           0.012161225788450853,
           null,
           null,
           null
          ],
          [
           null,
           null,
           null,
           null,
           null,
           null,
           null,
           null,
           null,
           0.012715602673176512,
           null,
           null,
           null,
           null,
           null,
           null,
           null,
           null,
           null,
           0.012107290946756354,
           0.012087486864930844,
           null,
           null
          ],
          [
           null,
           null,
           null,
           null,
           null,
           null,
           null,
           null,
           0.012400308434027256,
           null,
           null,
           null,
           null,
           null,
           null,
           null,
           null,
           0.012791923279680074,
           null,
           null,
           null,
           null,
           null
          ],
          [
           null,
           null,
           null,
           null,
           null,
           null,
           null,
           null,
           null,
           null,
           null,
           0.012210449080258713,
           null,
           null,
           null,
           null,
           null,
           null,
           null,
           null,
           0.012412748954856858,
           null,
           null
          ],
          [
           null,
           null,
           null,
           null,
           null,
           null,
           null,
           null,
           null,
           null,
           null,
           null,
           null,
           null,
           null,
           null,
           null,
           null,
           null,
           0.014146756317157028,
           null,
           null,
           null
          ],
          [
           null,
           null,
           null,
           null,
           null,
           null,
           null,
           null,
           null,
           null,
           null,
           null,
           0.012771835598957886,
           null,
           null,
           null,
           null,
           null,
           null,
           null,
           0.012609498113939613,
           null,
           null
          ],
          [
           null,
           null,
           null,
           0.012506444939519096,
           null,
           null,
           null,
           null,
           null,
           null,
           null,
           null,
           null,
           null,
           null,
           null,
           null,
           null,
           null,
           null,
           null,
           0.012091687875892205,
           null
          ],
          [
           null,
           null,
           null,
           null,
           null,
           null,
           null,
           null,
           null,
           null,
           null,
           null,
           null,
           null,
           null,
           null,
           0.012803628325183496,
           null,
           null,
           null,
           0.01217944756496205,
           null,
           null
          ],
          [
           null,
           null,
           null,
           null,
           null,
           null,
           null,
           null,
           null,
           null,
           null,
           null,
           null,
           null,
           null,
           null,
           null,
           null,
           null,
           null,
           0.012284517952358466,
           null,
           null
          ],
          [
           null,
           null,
           null,
           null,
           null,
           null,
           null,
           null,
           null,
           null,
           null,
           null,
           null,
           0.012413034359504919,
           null,
           null,
           null,
           null,
           null,
           null,
           null,
           0.012107475934130254,
           null
          ],
          [
           null,
           null,
           null,
           null,
           null,
           null,
           null,
           null,
           null,
           null,
           null,
           null,
           null,
           null,
           null,
           null,
           null,
           null,
           null,
           null,
           null,
           0.012091687875892205,
           null
          ],
          [
           null,
           null,
           null,
           null,
           0.012880124056656284,
           null,
           null,
           null,
           null,
           null,
           null,
           null,
           null,
           null,
           null,
           0.013182496743972589,
           null,
           null,
           null,
           0.012382899465440408,
           null,
           null,
           null
          ],
          [
           null,
           null,
           null,
           null,
           null,
           null,
           null,
           null,
           null,
           null,
           null,
           null,
           null,
           null,
           null,
           null,
           0.012302471479805554,
           null,
           0.012121953946371174,
           0.012095484937240846,
           null,
           null,
           null
          ],
          [
           null,
           0.012938801963584953,
           null,
           null,
           null,
           null,
           null,
           null,
           null,
           null,
           null,
           null,
           null,
           null,
           null,
           0.014157330972293204,
           null,
           0.013730707616831865,
           null,
           null,
           null,
           null,
           null
          ],
          [
           null,
           null,
           null,
           null,
           null,
           null,
           null,
           null,
           null,
           null,
           null,
           null,
           null,
           null,
           null,
           null,
           0.013204585663413022,
           0.012267434643375163,
           null,
           null,
           null,
           null,
           null
          ],
          [
           null,
           null,
           null,
           null,
           null,
           null,
           null,
           null,
           null,
           null,
           null,
           null,
           null,
           0.012943566321821242,
           null,
           null,
           null,
           null,
           0.012103543562053577,
           0.012915816846904809,
           null,
           null,
           null
          ],
          [
           null,
           null,
           null,
           null,
           null,
           null,
           null,
           null,
           null,
           null,
           null,
           null,
           null,
           null,
           null,
           null,
           null,
           null,
           0.012111437548123152,
           null,
           0.012166081683821389,
           null,
           null
          ],
          [
           null,
           null,
           null,
           null,
           null,
           null,
           null,
           null,
           null,
           null,
           null,
           null,
           null,
           null,
           null,
           null,
           null,
           null,
           0.012103543562053577,
           null,
           null,
           0.012107475934130254,
           null
          ],
          [
           null,
           null,
           null,
           null,
           null,
           null,
           null,
           null,
           0.013862361711049638,
           null,
           null,
           null,
           null,
           null,
           null,
           null,
           null,
           null,
           0.01212458992928212,
           0.012095484937240846,
           0.012166081683821389,
           0.012173779512340655,
           null
          ],
          [
           null,
           null,
           null,
           null,
           null,
           null,
           null,
           null,
           null,
           null,
           null,
           null,
           null,
           null,
           null,
           null,
           null,
           null,
           null,
           0.012095484937240846,
           0.012089410260349839,
           null,
           null
          ],
          [
           null,
           null,
           0.012767244299693958,
           null,
           null,
           null,
           null,
           null,
           0.012288126860134438,
           null,
           null,
           null,
           null,
           null,
           0.012123185878091717,
           null,
           null,
           null,
           null,
           null,
           0.012089410260349839,
           0.012091687875892205,
           null
          ],
          [
           null,
           null,
           null,
           null,
           null,
           null,
           null,
           0.01242468520241407,
           null,
           null,
           0.012217736162445796,
           null,
           null,
           null,
           null,
           0.012505949563368014,
           null,
           0.012248666404558463,
           0.012103543562053577,
           0.01210385137934272,
           0.012089410260349839,
           0.012091687875892205,
           null
          ],
          [
           null,
           null,
           null,
           null,
           null,
           null,
           null,
           null,
           null,
           null,
           null,
           null,
           null,
           null,
           0.012308742307375107,
           null,
           null,
           null,
           null,
           0.012095484937240846,
           0.012089410260349839,
           0.012091687875892205,
           null
          ],
          [
           null,
           null,
           null,
           null,
           null,
           null,
           null,
           null,
           null,
           null,
           null,
           null,
           null,
           null,
           null,
           null,
           null,
           null,
           null,
           0.012095484937240846,
           0.012089410260349839,
           0.012091687875892205,
           null
          ],
          [
           null,
           null,
           null,
           null,
           null,
           null,
           null,
           null,
           null,
           0.01272481991565598,
           0.012468379303470207,
           null,
           0.012311403461590674,
           null,
           null,
           null,
           null,
           null,
           0.01212458992928212,
           0.01216274880160485,
           0.012089410260349839,
           0.012091687875892205,
           null
          ],
          [
           null,
           null,
           null,
           null,
           null,
           null,
           null,
           null,
           null,
           null,
           null,
           null,
           null,
           null,
           null,
           null,
           null,
           null,
           null,
           null,
           null,
           null,
           null
          ]
         ]
        },
        {
         "marker": {
          "color": "black",
          "line": {
           "color": "Gray",
           "width": 2
          }
         },
         "mode": "markers",
         "name": "Feasible Trial",
         "showlegend": false,
         "type": "scatter",
         "x": [
          34,
          24,
          48,
          32,
          24,
          26,
          20,
          18,
          14,
          30,
          42,
          10,
          20,
          20,
          38,
          26,
          26,
          38,
          30,
          50,
          50,
          50,
          50,
          46,
          44,
          44,
          42,
          44,
          38,
          46,
          40,
          46,
          46,
          46,
          34,
          48,
          48,
          42,
          36,
          44,
          48,
          44,
          46,
          40,
          48,
          50,
          48,
          40,
          42,
          46,
          50,
          44,
          44,
          48,
          50,
          46,
          42,
          48,
          36,
          16,
          10,
          44,
          44,
          46,
          46,
          48,
          46,
          50,
          50,
          50,
          48,
          46,
          48,
          24,
          48,
          50,
          28,
          48,
          48,
          50,
          48,
          48,
          48,
          48,
          50,
          48,
          50,
          50,
          50,
          50,
          50,
          48,
          50,
          50,
          50,
          50,
          46,
          50,
          46,
          48,
          48,
          50,
          50,
          50,
          48,
          48,
          46,
          48,
          44,
          48,
          46,
          50,
          50,
          50,
          48,
          48,
          46,
          48,
          46,
          48,
          44,
          48,
          48,
          48,
          48,
          32,
          46,
          48,
          44,
          42,
          46,
          48,
          48,
          48,
          48,
          46,
          48,
          48,
          46,
          22,
          12,
          48,
          48,
          48,
          46,
          48,
          46,
          44,
          48,
          48,
          46,
          48,
          48,
          46,
          48,
          48,
          46,
          48,
          44,
          50,
          48,
          48,
          46,
          48,
          50,
          48,
          50,
          46,
          46,
          48,
          48,
          48,
          48,
          50,
          48,
          46,
          50,
          48,
          46,
          28
         ],
         "xaxis": "x4",
         "y": [
          51,
          25,
          35,
          31,
          57,
          69,
          13,
          11,
          33,
          9,
          25,
          19,
          19,
          7,
          47,
          19,
          23,
          43,
          27,
          41,
          41,
          41,
          41,
          57,
          51,
          55,
          63,
          53,
          63,
          51,
          49,
          45,
          45,
          45,
          39,
          35,
          37,
          47,
          61,
          51,
          31,
          55,
          59,
          45,
          69,
          65,
          69,
          35,
          49,
          29,
          69,
          55,
          45,
          53,
          39,
          43,
          49,
          57,
          65,
          43,
          47,
          55,
          53,
          59,
          59,
          59,
          65,
          67,
          67,
          61,
          67,
          63,
          61,
          61,
          67,
          67,
          69,
          63,
          67,
          67,
          69,
          69,
          69,
          69,
          65,
          67,
          69,
          65,
          65,
          63,
          15,
          67,
          67,
          65,
          61,
          63,
          65,
          67,
          65,
          63,
          67,
          61,
          61,
          57,
          23,
          67,
          21,
          27,
          13,
          65,
          5,
          67,
          33,
          63,
          61,
          65,
          23,
          59,
          59,
          69,
          69,
          67,
          69,
          69,
          67,
          69,
          69,
          63,
          57,
          63,
          17,
          67,
          61,
          61,
          59,
          59,
          59,
          57,
          63,
          63,
          61,
          65,
          65,
          61,
          65,
          67,
          59,
          9,
          63,
          67,
          65,
          65,
          63,
          65,
          67,
          61,
          69,
          67,
          63,
          55,
          65,
          65,
          65,
          67,
          69,
          61,
          63,
          67,
          57,
          69,
          59,
          67,
          65,
          67,
          69,
          63,
          65,
          61,
          67,
          63
         ],
         "yaxis": "y4"
        },
        {
         "colorbar": {
          "title": {
           "text": "Objective Value"
          }
         },
         "colorscale": [
          [
           0,
           "rgb(0, 147, 146)"
          ],
          [
           0.16666666666666666,
           "rgb(114, 170, 161)"
          ],
          [
           0.3333333333333333,
           "rgb(177, 199, 179)"
          ],
          [
           0.5,
           "rgb(241, 234, 200)"
          ],
          [
           0.6666666666666666,
           "rgb(229, 185, 173)"
          ],
          [
           0.8333333333333334,
           "rgb(217, 137, 148)"
          ],
          [
           1,
           "rgb(208, 88, 126)"
          ]
         ],
         "connectgaps": true,
         "contours": {
          "coloring": "heatmap"
         },
         "hoverinfo": "none",
         "line": {
          "smoothing": 1.3
         },
         "reversescale": false,
         "showscale": false,
         "type": "contour",
         "x": [
          8,
          10,
          12,
          14,
          16,
          18,
          20,
          22,
          24,
          26,
          28,
          30,
          32,
          34,
          36,
          38,
          40,
          42,
          44,
          46,
          48,
          50,
          52
         ],
         "xaxis": "x8",
         "y": [
          0.04999999999999993,
          1,
          2,
          3,
          4,
          5,
          6,
          7,
          8,
          9,
          10,
          11,
          12,
          13,
          14,
          15,
          16,
          17,
          18,
          20,
          20.95
         ],
         "yaxis": "y8",
         "z": [
          [
           null,
           null,
           null,
           null,
           null,
           null,
           null,
           null,
           null,
           null,
           null,
           null,
           null,
           null,
           null,
           null,
           null,
           null,
           null,
           null,
           null,
           null,
           null
          ],
          [
           null,
           0.012938801963584953,
           0.012767244299693958,
           null,
           null,
           null,
           null,
           null,
           null,
           null,
           null,
           null,
           0.012311403461590674,
           null,
           null,
           null,
           null,
           0.012267434643375163,
           0.012376654438913542,
           0.012154162970554098,
           0.012172607699863723,
           0.012147743672829734,
           null
          ],
          [
           null,
           null,
           null,
           0.012506444939519096,
           null,
           0.012885458375372144,
           null,
           null,
           null,
           null,
           null,
           null,
           null,
           null,
           0.012123185878091717,
           null,
           null,
           0.012330889395662407,
           0.012111437548123152,
           0.01210385137934272,
           0.012094863628534866,
           0.012107475934130254,
           null
          ],
          [
           null,
           null,
           null,
           null,
           null,
           null,
           null,
           null,
           null,
           null,
           0.012217736162445796,
           0.012210449080258713,
           null,
           null,
           null,
           null,
           null,
           0.012248666404558463,
           0.012103543562053577,
           0.012095484937240846,
           0.012087486864930844,
           0.012091687875892205,
           null
          ],
          [
           null,
           null,
           null,
           null,
           null,
           null,
           0.012450963790385045,
           null,
           0.012288126860134438,
           0.012284982264887685,
           null,
           null,
           null,
           null,
           null,
           null,
           null,
           null,
           0.014156480203595214,
           0.012161225788450853,
           0.012166081683821389,
           0.012173779512340655,
           null
          ],
          [
           null,
           null,
           null,
           null,
           null,
           null,
           0.018019503704704704,
           0.01242468520241407,
           0.012400308434027256,
           0.01272481991565598,
           null,
           null,
           null,
           null,
           0.012308742307375107,
           null,
           0.012302471479805554,
           null,
           null,
           0.01227682191439457,
           0.012284517952358466,
           0.012294015552332262,
           null
          ],
          [
           null,
           0.012814255588096627,
           null,
           null,
           null,
           null,
           null,
           null,
           null,
           null,
           0.012468379303470207,
           null,
           null,
           0.012413034359504919,
           null,
           null,
           null,
           null,
           0.012379386392510846,
           0.012382899465440408,
           null,
           null,
           null
          ],
          [
           null,
           null,
           null,
           null,
           null,
           null,
           0.012605106968751757,
           null,
           null,
           null,
           null,
           null,
           null,
           null,
           null,
           0.012505949563368014,
           null,
           0.01250677582579764,
           null,
           null,
           0.012502937367400114,
           null,
           null
          ],
          [
           null,
           null,
           null,
           null,
           0.012880124056656284,
           null,
           null,
           null,
           null,
           0.012715602673176512,
           null,
           null,
           null,
           null,
           null,
           null,
           null,
           null,
           null,
           null,
           null,
           0.0126449309912058,
           null
          ],
          [
           null,
           null,
           null,
           null,
           null,
           null,
           null,
           null,
           null,
           null,
           null,
           null,
           null,
           null,
           null,
           null,
           0.012803628325183496,
           0.012791923279680074,
           null,
           null,
           0.012777591669065221,
           null,
           null
          ],
          [
           null,
           null,
           null,
           null,
           null,
           null,
           null,
           null,
           null,
           null,
           null,
           null,
           null,
           0.012943566321821242,
           null,
           null,
           null,
           null,
           null,
           0.012915816846904809,
           null,
           null,
           null
          ],
          [
           null,
           null,
           null,
           null,
           null,
           null,
           null,
           null,
           null,
           null,
           null,
           null,
           null,
           null,
           null,
           null,
           null,
           null,
           null,
           null,
           null,
           0.013057379553302925,
           null
          ],
          [
           null,
           null,
           null,
           null,
           null,
           null,
           null,
           null,
           null,
           null,
           null,
           null,
           null,
           null,
           null,
           0.013182496743972589,
           0.013204585663413022,
           null,
           null,
           null,
           null,
           null,
           null
          ],
          [
           null,
           null,
           null,
           null,
           null,
           null,
           null,
           null,
           null,
           null,
           null,
           0.014481001029221563,
           null,
           null,
           null,
           null,
           null,
           null,
           null,
           null,
           0.013322144082645272,
           null,
           null
          ],
          [
           null,
           null,
           null,
           null,
           null,
           null,
           null,
           null,
           null,
           null,
           null,
           null,
           null,
           null,
           null,
           null,
           null,
           null,
           null,
           null,
           null,
           0.013450064473787429,
           null
          ],
          [
           null,
           null,
           null,
           null,
           null,
           null,
           null,
           null,
           null,
           null,
           null,
           null,
           null,
           null,
           null,
           null,
           null,
           null,
           null,
           null,
           0.013578068955607998,
           null,
           null
          ],
          [
           null,
           null,
           null,
           null,
           null,
           null,
           null,
           null,
           null,
           null,
           null,
           null,
           null,
           null,
           null,
           null,
           null,
           0.013730707616831865,
           null,
           null,
           null,
           null,
           null
          ],
          [
           null,
           null,
           null,
           null,
           null,
           null,
           null,
           null,
           0.013862361711049638,
           null,
           null,
           null,
           null,
           null,
           null,
           null,
           null,
           null,
           null,
           null,
           null,
           null,
           null
          ],
          [
           null,
           null,
           null,
           null,
           null,
           null,
           null,
           null,
           null,
           null,
           null,
           null,
           null,
           null,
           null,
           null,
           null,
           null,
           null,
           0.013933913661561445,
           null,
           null,
           null
          ],
          [
           null,
           null,
           null,
           null,
           null,
           null,
           null,
           null,
           null,
           null,
           null,
           null,
           null,
           null,
           null,
           0.014157330972293204,
           null,
           null,
           null,
           0.014146756317157028,
           null,
           null,
           null
          ],
          [
           null,
           null,
           null,
           null,
           null,
           null,
           null,
           null,
           null,
           null,
           null,
           null,
           null,
           null,
           null,
           null,
           null,
           null,
           null,
           null,
           null,
           null,
           null
          ]
         ]
        },
        {
         "marker": {
          "color": "black",
          "line": {
           "color": "Gray",
           "width": 2
          }
         },
         "mode": "markers",
         "name": "Feasible Trial",
         "showlegend": false,
         "type": "scatter",
         "x": [
          34,
          24,
          48,
          32,
          24,
          26,
          20,
          18,
          14,
          30,
          42,
          10,
          20,
          20,
          38,
          26,
          26,
          38,
          30,
          50,
          50,
          50,
          50,
          46,
          44,
          44,
          42,
          44,
          38,
          46,
          40,
          46,
          46,
          46,
          34,
          48,
          48,
          42,
          36,
          44,
          48,
          44,
          46,
          40,
          48,
          50,
          48,
          40,
          42,
          46,
          50,
          44,
          44,
          48,
          50,
          46,
          42,
          48,
          36,
          16,
          10,
          44,
          44,
          46,
          46,
          48,
          46,
          50,
          50,
          50,
          48,
          46,
          48,
          24,
          48,
          50,
          28,
          48,
          48,
          50,
          48,
          48,
          48,
          48,
          50,
          48,
          50,
          50,
          50,
          50,
          50,
          48,
          50,
          50,
          50,
          50,
          46,
          50,
          46,
          48,
          48,
          50,
          50,
          50,
          48,
          48,
          46,
          48,
          44,
          48,
          46,
          50,
          50,
          50,
          48,
          48,
          46,
          48,
          46,
          48,
          44,
          48,
          48,
          48,
          48,
          32,
          46,
          48,
          44,
          42,
          46,
          48,
          48,
          48,
          48,
          46,
          48,
          48,
          46,
          22,
          12,
          48,
          48,
          48,
          46,
          48,
          46,
          44,
          48,
          48,
          46,
          48,
          48,
          46,
          48,
          48,
          46,
          48,
          44,
          50,
          48,
          48,
          46,
          48,
          50,
          48,
          50,
          46,
          46,
          48,
          48,
          48,
          48,
          50,
          48,
          46,
          50,
          48,
          46,
          28
         ],
         "xaxis": "x8",
         "y": [
          10,
          5,
          15,
          1,
          17,
          5,
          4,
          2,
          2,
          13,
          9,
          6,
          7,
          5,
          20,
          4,
          8,
          12,
          3,
          3,
          1,
          1,
          1,
          1,
          3,
          3,
          7,
          3,
          7,
          10,
          12,
          3,
          3,
          4,
          6,
          3,
          5,
          16,
          2,
          6,
          4,
          3,
          2,
          5,
          2,
          2,
          4,
          9,
          2,
          20,
          5,
          3,
          3,
          4,
          2,
          6,
          1,
          4,
          5,
          8,
          1,
          3,
          2,
          3,
          3,
          4,
          1,
          3,
          14,
          2,
          5,
          18,
          3,
          4,
          3,
          2,
          6,
          4,
          3,
          1,
          2,
          2,
          2,
          1,
          2,
          2,
          3,
          3,
          5,
          11,
          4,
          3,
          3,
          3,
          3,
          3,
          4,
          5,
          4,
          3,
          7,
          3,
          3,
          4,
          3,
          5,
          4,
          3,
          1,
          4,
          6,
          3,
          3,
          2,
          3,
          4,
          2,
          3,
          5,
          3,
          2,
          3,
          3,
          4,
          2,
          1,
          4,
          3,
          2,
          3,
          4,
          3,
          3,
          2,
          3,
          3,
          4,
          3,
          2,
          5,
          1,
          3,
          3,
          4,
          3,
          2,
          3,
          4,
          2,
          13,
          3,
          3,
          4,
          3,
          3,
          3,
          4,
          2,
          3,
          2,
          4,
          3,
          3,
          2,
          3,
          3,
          4,
          2,
          3,
          4,
          3,
          3,
          3,
          8,
          9,
          4,
          2,
          3,
          3,
          3
         ],
         "yaxis": "y8"
        },
        {
         "colorbar": {
          "title": {
           "text": "Objective Value"
          }
         },
         "colorscale": [
          [
           0,
           "rgb(0, 147, 146)"
          ],
          [
           0.16666666666666666,
           "rgb(114, 170, 161)"
          ],
          [
           0.3333333333333333,
           "rgb(177, 199, 179)"
          ],
          [
           0.5,
           "rgb(241, 234, 200)"
          ],
          [
           0.6666666666666666,
           "rgb(229, 185, 173)"
          ],
          [
           0.8333333333333334,
           "rgb(217, 137, 148)"
          ],
          [
           1,
           "rgb(208, 88, 126)"
          ]
         ],
         "connectgaps": true,
         "contours": {
          "coloring": "heatmap"
         },
         "hoverinfo": "none",
         "line": {
          "smoothing": 1.3
         },
         "reversescale": false,
         "showscale": false,
         "type": "contour",
         "x": [
          8,
          10,
          12,
          14,
          16,
          18,
          20,
          22,
          24,
          26,
          28,
          30,
          32,
          34,
          36,
          38,
          40,
          42,
          44,
          46,
          48,
          50,
          52
         ],
         "xaxis": "x12",
         "y": [
          1.1,
          2,
          3,
          4,
          5,
          6,
          7,
          8,
          9,
          10,
          11,
          12,
          13,
          14,
          15,
          16,
          17,
          18,
          19,
          20,
          20.9
         ],
         "yaxis": "y12",
         "z": [
          [
           null,
           null,
           null,
           null,
           null,
           null,
           null,
           null,
           null,
           null,
           null,
           null,
           null,
           null,
           null,
           null,
           null,
           null,
           null,
           null,
           null,
           null,
           null
          ],
          [
           null,
           null,
           null,
           null,
           null,
           null,
           null,
           null,
           null,
           null,
           0.012468379303470207,
           null,
           null,
           null,
           null,
           0.013182496743972589,
           0.012803628325183496,
           0.012791923279680074,
           0.012111437548123152,
           0.012154162970554098,
           0.012089410260349839,
           0.012091687875892205,
           null
          ],
          [
           null,
           null,
           null,
           null,
           null,
           null,
           null,
           null,
           null,
           null,
           0.012217736162445796,
           null,
           null,
           0.012413034359504919,
           0.012123185878091717,
           null,
           null,
           null,
           0.014156480203595214,
           0.012095484937240846,
           0.012087486864930844,
           0.012091687875892205,
           null
          ],
          [
           null,
           null,
           null,
           null,
           null,
           null,
           null,
           null,
           0.012288126860134438,
           null,
           null,
           0.012210449080258713,
           0.012311403461590674,
           null,
           0.012308742307375107,
           null,
           null,
           null,
           0.012103543562053577,
           0.012095484937240846,
           0.012089410260349839,
           0.012091687875892205,
           null
          ],
          [
           null,
           0.012814255588096627,
           null,
           null,
           null,
           null,
           null,
           0.01242468520241407,
           null,
           null,
           null,
           null,
           null,
           null,
           null,
           null,
           null,
           0.012267434643375163,
           0.012103543562053577,
           0.012095484937240846,
           0.012089410260349839,
           0.012173779512340655,
           null
          ],
          [
           null,
           null,
           null,
           null,
           null,
           null,
           0.012605106968751757,
           null,
           null,
           null,
           null,
           null,
           null,
           null,
           null,
           0.012505949563368014,
           null,
           0.01250677582579764,
           0.012103543562053577,
           0.012132940270962273,
           0.012089410260349839,
           null,
           null
          ],
          [
           null,
           0.012938801963584953,
           null,
           null,
           null,
           null,
           null,
           null,
           null,
           0.012284982264887685,
           null,
           null,
           null,
           null,
           null,
           null,
           null,
           null,
           0.012121953946371174,
           null,
           null,
           null,
           null
          ],
          [
           null,
           null,
           null,
           null,
           null,
           null,
           null,
           null,
           0.012400308434027256,
           null,
           null,
           null,
           null,
           null,
           null,
           null,
           null,
           null,
           null,
           0.012915816846904809,
           0.012284517952358466,
           0.012294015552332262,
           null
          ],
          [
           null,
           null,
           null,
           null,
           null,
           null,
           null,
           null,
           0.013862361711049638,
           null,
           null,
           null,
           null,
           null,
           null,
           null,
           0.012302471479805554,
           null,
           null,
           null,
           0.01217944756496205,
           null,
           null
          ],
          [
           null,
           null,
           null,
           0.012506444939519096,
           null,
           0.012885458375372144,
           null,
           null,
           null,
           null,
           null,
           null,
           null,
           0.012943566321821242,
           null,
           null,
           null,
           null,
           null,
           null,
           0.012502937367400114,
           null,
           null
          ],
          [
           null,
           null,
           null,
           null,
           null,
           null,
           0.012450963790385045,
           null,
           null,
           null,
           null,
           0.014481001029221563,
           null,
           null,
           null,
           null,
           null,
           0.012248666404558463,
           null,
           null,
           null,
           null,
           null
          ],
          [
           null,
           null,
           0.012767244299693958,
           null,
           null,
           null,
           null,
           null,
           null,
           null,
           null,
           null,
           null,
           null,
           null,
           null,
           null,
           0.012330889395662407,
           null,
           null,
           null,
           null,
           null
          ],
          [
           null,
           null,
           null,
           null,
           null,
           null,
           null,
           null,
           null,
           null,
           null,
           null,
           null,
           null,
           null,
           null,
           null,
           null,
           0.012315886544905947,
           null,
           null,
           null,
           null
          ],
          [
           null,
           null,
           null,
           null,
           null,
           null,
           0.018019503704704704,
           null,
           null,
           null,
           null,
           null,
           null,
           null,
           null,
           null,
           null,
           null,
           null,
           null,
           0.012352067758367799,
           null,
           null
          ],
          [
           null,
           null,
           null,
           null,
           null,
           null,
           null,
           null,
           null,
           null,
           null,
           null,
           null,
           null,
           null,
           0.014157330972293204,
           null,
           null,
           null,
           null,
           0.012387403975115082,
           null,
           null
          ],
          [
           null,
           null,
           null,
           null,
           null,
           null,
           null,
           null,
           null,
           null,
           null,
           null,
           null,
           null,
           null,
           null,
           null,
           null,
           null,
           null,
           0.012412748954856858,
           null,
           null
          ],
          [
           null,
           null,
           null,
           null,
           0.012880124056656284,
           null,
           null,
           null,
           null,
           null,
           null,
           null,
           null,
           null,
           null,
           null,
           null,
           null,
           null,
           null,
           null,
           null,
           null
          ],
          [
           null,
           null,
           null,
           null,
           null,
           null,
           null,
           null,
           null,
           null,
           null,
           null,
           null,
           null,
           null,
           null,
           null,
           null,
           null,
           null,
           0.01252743648392719,
           null,
           null
          ],
          [
           null,
           null,
           null,
           null,
           null,
           null,
           null,
           null,
           null,
           0.01272481991565598,
           null,
           null,
           0.012771835598957886,
           null,
           null,
           null,
           null,
           null,
           null,
           null,
           null,
           null,
           null
          ],
          [
           null,
           null,
           null,
           null,
           null,
           null,
           null,
           null,
           null,
           null,
           null,
           null,
           null,
           null,
           null,
           null,
           null,
           null,
           null,
           null,
           0.012609498113939613,
           null,
           null
          ],
          [
           null,
           null,
           null,
           null,
           null,
           null,
           null,
           null,
           null,
           null,
           null,
           null,
           null,
           null,
           null,
           null,
           null,
           null,
           null,
           null,
           null,
           null,
           null
          ]
         ]
        },
        {
         "marker": {
          "color": "black",
          "line": {
           "color": "Gray",
           "width": 2
          }
         },
         "mode": "markers",
         "name": "Feasible Trial",
         "showlegend": false,
         "type": "scatter",
         "x": [
          34,
          24,
          48,
          32,
          24,
          26,
          20,
          18,
          14,
          30,
          42,
          10,
          20,
          20,
          38,
          26,
          26,
          38,
          30,
          50,
          50,
          50,
          50,
          46,
          44,
          44,
          42,
          44,
          38,
          46,
          40,
          46,
          46,
          46,
          34,
          48,
          48,
          42,
          36,
          44,
          48,
          44,
          46,
          40,
          48,
          50,
          48,
          40,
          42,
          46,
          50,
          44,
          44,
          48,
          50,
          46,
          42,
          48,
          36,
          16,
          10,
          44,
          44,
          46,
          46,
          48,
          46,
          50,
          50,
          50,
          48,
          46,
          48,
          24,
          48,
          50,
          28,
          48,
          48,
          50,
          48,
          48,
          48,
          48,
          50,
          48,
          50,
          50,
          50,
          50,
          50,
          48,
          50,
          50,
          50,
          50,
          46,
          50,
          46,
          48,
          48,
          50,
          50,
          50,
          48,
          48,
          46,
          48,
          44,
          48,
          46,
          50,
          50,
          50,
          48,
          48,
          46,
          48,
          46,
          48,
          44,
          48,
          48,
          48,
          48,
          32,
          46,
          48,
          44,
          42,
          46,
          48,
          48,
          48,
          48,
          46,
          48,
          48,
          46,
          22,
          12,
          48,
          48,
          48,
          46,
          48,
          46,
          44,
          48,
          48,
          46,
          48,
          48,
          46,
          48,
          48,
          46,
          48,
          44,
          50,
          48,
          48,
          46,
          48,
          50,
          48,
          50,
          46,
          46,
          48,
          48,
          48,
          48,
          50,
          48,
          46,
          50,
          48,
          46,
          28
         ],
         "xaxis": "x12",
         "y": [
          10,
          8,
          15,
          19,
          9,
          19,
          11,
          10,
          10,
          11,
          2,
          5,
          6,
          14,
          15,
          7,
          7,
          2,
          4,
          4,
          4,
          4,
          4,
          3,
          5,
          6,
          6,
          13,
          6,
          8,
          2,
          5,
          5,
          5,
          3,
          9,
          8,
          5,
          3,
          7,
          20,
          5,
          6,
          9,
          3,
          3,
          18,
          2,
          12,
          4,
          8,
          5,
          7,
          6,
          3,
          4,
          5,
          6,
          4,
          17,
          7,
          5,
          2,
          3,
          3,
          3,
          2,
          3,
          3,
          4,
          2,
          3,
          4,
          4,
          3,
          4,
          2,
          5,
          2,
          2,
          4,
          4,
          4,
          4,
          3,
          2,
          4,
          3,
          3,
          3,
          2,
          4,
          3,
          3,
          2,
          3,
          2,
          4,
          5,
          15,
          10,
          2,
          3,
          2,
          3,
          3,
          4,
          16,
          4,
          5,
          3,
          2,
          3,
          2,
          4,
          4,
          5,
          6,
          6,
          4,
          5,
          4,
          4,
          4,
          6,
          4,
          5,
          4,
          5,
          11,
          6,
          4,
          4,
          4,
          5,
          5,
          4,
          14,
          4,
          5,
          12,
          4,
          4,
          4,
          5,
          6,
          4,
          3,
          5,
          3,
          4,
          4,
          4,
          5,
          3,
          4,
          3,
          5,
          4,
          3,
          4,
          4,
          4,
          5,
          4,
          3,
          5,
          4,
          3,
          5,
          4,
          3,
          3,
          3,
          4,
          2,
          4,
          3,
          5,
          3
         ],
         "yaxis": "y12"
        },
        {
         "type": "scatter",
         "xaxis": "x16",
         "yaxis": "y16"
        }
       ],
       "layout": {
        "height": 1200,
        "template": {
         "data": {
          "bar": [
           {
            "error_x": {
             "color": "#2a3f5f"
            },
            "error_y": {
             "color": "#2a3f5f"
            },
            "marker": {
             "line": {
              "color": "#E5ECF6",
              "width": 0.5
             },
             "pattern": {
              "fillmode": "overlay",
              "size": 10,
              "solidity": 0.2
             }
            },
            "type": "bar"
           }
          ],
          "barpolar": [
           {
            "marker": {
             "line": {
              "color": "#E5ECF6",
              "width": 0.5
             },
             "pattern": {
              "fillmode": "overlay",
              "size": 10,
              "solidity": 0.2
             }
            },
            "type": "barpolar"
           }
          ],
          "carpet": [
           {
            "aaxis": {
             "endlinecolor": "#2a3f5f",
             "gridcolor": "white",
             "linecolor": "white",
             "minorgridcolor": "white",
             "startlinecolor": "#2a3f5f"
            },
            "baxis": {
             "endlinecolor": "#2a3f5f",
             "gridcolor": "white",
             "linecolor": "white",
             "minorgridcolor": "white",
             "startlinecolor": "#2a3f5f"
            },
            "type": "carpet"
           }
          ],
          "choropleth": [
           {
            "colorbar": {
             "outlinewidth": 0,
             "ticks": ""
            },
            "type": "choropleth"
           }
          ],
          "contour": [
           {
            "colorbar": {
             "outlinewidth": 0,
             "ticks": ""
            },
            "colorscale": [
             [
              0,
              "#0d0887"
             ],
             [
              0.1111111111111111,
              "#46039f"
             ],
             [
              0.2222222222222222,
              "#7201a8"
             ],
             [
              0.3333333333333333,
              "#9c179e"
             ],
             [
              0.4444444444444444,
              "#bd3786"
             ],
             [
              0.5555555555555556,
              "#d8576b"
             ],
             [
              0.6666666666666666,
              "#ed7953"
             ],
             [
              0.7777777777777778,
              "#fb9f3a"
             ],
             [
              0.8888888888888888,
              "#fdca26"
             ],
             [
              1,
              "#f0f921"
             ]
            ],
            "type": "contour"
           }
          ],
          "contourcarpet": [
           {
            "colorbar": {
             "outlinewidth": 0,
             "ticks": ""
            },
            "type": "contourcarpet"
           }
          ],
          "heatmap": [
           {
            "colorbar": {
             "outlinewidth": 0,
             "ticks": ""
            },
            "colorscale": [
             [
              0,
              "#0d0887"
             ],
             [
              0.1111111111111111,
              "#46039f"
             ],
             [
              0.2222222222222222,
              "#7201a8"
             ],
             [
              0.3333333333333333,
              "#9c179e"
             ],
             [
              0.4444444444444444,
              "#bd3786"
             ],
             [
              0.5555555555555556,
              "#d8576b"
             ],
             [
              0.6666666666666666,
              "#ed7953"
             ],
             [
              0.7777777777777778,
              "#fb9f3a"
             ],
             [
              0.8888888888888888,
              "#fdca26"
             ],
             [
              1,
              "#f0f921"
             ]
            ],
            "type": "heatmap"
           }
          ],
          "heatmapgl": [
           {
            "colorbar": {
             "outlinewidth": 0,
             "ticks": ""
            },
            "colorscale": [
             [
              0,
              "#0d0887"
             ],
             [
              0.1111111111111111,
              "#46039f"
             ],
             [
              0.2222222222222222,
              "#7201a8"
             ],
             [
              0.3333333333333333,
              "#9c179e"
             ],
             [
              0.4444444444444444,
              "#bd3786"
             ],
             [
              0.5555555555555556,
              "#d8576b"
             ],
             [
              0.6666666666666666,
              "#ed7953"
             ],
             [
              0.7777777777777778,
              "#fb9f3a"
             ],
             [
              0.8888888888888888,
              "#fdca26"
             ],
             [
              1,
              "#f0f921"
             ]
            ],
            "type": "heatmapgl"
           }
          ],
          "histogram": [
           {
            "marker": {
             "pattern": {
              "fillmode": "overlay",
              "size": 10,
              "solidity": 0.2
             }
            },
            "type": "histogram"
           }
          ],
          "histogram2d": [
           {
            "colorbar": {
             "outlinewidth": 0,
             "ticks": ""
            },
            "colorscale": [
             [
              0,
              "#0d0887"
             ],
             [
              0.1111111111111111,
              "#46039f"
             ],
             [
              0.2222222222222222,
              "#7201a8"
             ],
             [
              0.3333333333333333,
              "#9c179e"
             ],
             [
              0.4444444444444444,
              "#bd3786"
             ],
             [
              0.5555555555555556,
              "#d8576b"
             ],
             [
              0.6666666666666666,
              "#ed7953"
             ],
             [
              0.7777777777777778,
              "#fb9f3a"
             ],
             [
              0.8888888888888888,
              "#fdca26"
             ],
             [
              1,
              "#f0f921"
             ]
            ],
            "type": "histogram2d"
           }
          ],
          "histogram2dcontour": [
           {
            "colorbar": {
             "outlinewidth": 0,
             "ticks": ""
            },
            "colorscale": [
             [
              0,
              "#0d0887"
             ],
             [
              0.1111111111111111,
              "#46039f"
             ],
             [
              0.2222222222222222,
              "#7201a8"
             ],
             [
              0.3333333333333333,
              "#9c179e"
             ],
             [
              0.4444444444444444,
              "#bd3786"
             ],
             [
              0.5555555555555556,
              "#d8576b"
             ],
             [
              0.6666666666666666,
              "#ed7953"
             ],
             [
              0.7777777777777778,
              "#fb9f3a"
             ],
             [
              0.8888888888888888,
              "#fdca26"
             ],
             [
              1,
              "#f0f921"
             ]
            ],
            "type": "histogram2dcontour"
           }
          ],
          "mesh3d": [
           {
            "colorbar": {
             "outlinewidth": 0,
             "ticks": ""
            },
            "type": "mesh3d"
           }
          ],
          "parcoords": [
           {
            "line": {
             "colorbar": {
              "outlinewidth": 0,
              "ticks": ""
             }
            },
            "type": "parcoords"
           }
          ],
          "pie": [
           {
            "automargin": true,
            "type": "pie"
           }
          ],
          "scatter": [
           {
            "fillpattern": {
             "fillmode": "overlay",
             "size": 10,
             "solidity": 0.2
            },
            "type": "scatter"
           }
          ],
          "scatter3d": [
           {
            "line": {
             "colorbar": {
              "outlinewidth": 0,
              "ticks": ""
             }
            },
            "marker": {
             "colorbar": {
              "outlinewidth": 0,
              "ticks": ""
             }
            },
            "type": "scatter3d"
           }
          ],
          "scattercarpet": [
           {
            "marker": {
             "colorbar": {
              "outlinewidth": 0,
              "ticks": ""
             }
            },
            "type": "scattercarpet"
           }
          ],
          "scattergeo": [
           {
            "marker": {
             "colorbar": {
              "outlinewidth": 0,
              "ticks": ""
             }
            },
            "type": "scattergeo"
           }
          ],
          "scattergl": [
           {
            "marker": {
             "colorbar": {
              "outlinewidth": 0,
              "ticks": ""
             }
            },
            "type": "scattergl"
           }
          ],
          "scattermapbox": [
           {
            "marker": {
             "colorbar": {
              "outlinewidth": 0,
              "ticks": ""
             }
            },
            "type": "scattermapbox"
           }
          ],
          "scatterpolar": [
           {
            "marker": {
             "colorbar": {
              "outlinewidth": 0,
              "ticks": ""
             }
            },
            "type": "scatterpolar"
           }
          ],
          "scatterpolargl": [
           {
            "marker": {
             "colorbar": {
              "outlinewidth": 0,
              "ticks": ""
             }
            },
            "type": "scatterpolargl"
           }
          ],
          "scatterternary": [
           {
            "marker": {
             "colorbar": {
              "outlinewidth": 0,
              "ticks": ""
             }
            },
            "type": "scatterternary"
           }
          ],
          "surface": [
           {
            "colorbar": {
             "outlinewidth": 0,
             "ticks": ""
            },
            "colorscale": [
             [
              0,
              "#0d0887"
             ],
             [
              0.1111111111111111,
              "#46039f"
             ],
             [
              0.2222222222222222,
              "#7201a8"
             ],
             [
              0.3333333333333333,
              "#9c179e"
             ],
             [
              0.4444444444444444,
              "#bd3786"
             ],
             [
              0.5555555555555556,
              "#d8576b"
             ],
             [
              0.6666666666666666,
              "#ed7953"
             ],
             [
              0.7777777777777778,
              "#fb9f3a"
             ],
             [
              0.8888888888888888,
              "#fdca26"
             ],
             [
              1,
              "#f0f921"
             ]
            ],
            "type": "surface"
           }
          ],
          "table": [
           {
            "cells": {
             "fill": {
              "color": "#EBF0F8"
             },
             "line": {
              "color": "white"
             }
            },
            "header": {
             "fill": {
              "color": "#C8D4E3"
             },
             "line": {
              "color": "white"
             }
            },
            "type": "table"
           }
          ]
         },
         "layout": {
          "annotationdefaults": {
           "arrowcolor": "#2a3f5f",
           "arrowhead": 0,
           "arrowwidth": 1
          },
          "autotypenumbers": "strict",
          "coloraxis": {
           "colorbar": {
            "outlinewidth": 0,
            "ticks": ""
           }
          },
          "colorscale": {
           "diverging": [
            [
             0,
             "#8e0152"
            ],
            [
             0.1,
             "#c51b7d"
            ],
            [
             0.2,
             "#de77ae"
            ],
            [
             0.3,
             "#f1b6da"
            ],
            [
             0.4,
             "#fde0ef"
            ],
            [
             0.5,
             "#f7f7f7"
            ],
            [
             0.6,
             "#e6f5d0"
            ],
            [
             0.7,
             "#b8e186"
            ],
            [
             0.8,
             "#7fbc41"
            ],
            [
             0.9,
             "#4d9221"
            ],
            [
             1,
             "#276419"
            ]
           ],
           "sequential": [
            [
             0,
             "#0d0887"
            ],
            [
             0.1111111111111111,
             "#46039f"
            ],
            [
             0.2222222222222222,
             "#7201a8"
            ],
            [
             0.3333333333333333,
             "#9c179e"
            ],
            [
             0.4444444444444444,
             "#bd3786"
            ],
            [
             0.5555555555555556,
             "#d8576b"
            ],
            [
             0.6666666666666666,
             "#ed7953"
            ],
            [
             0.7777777777777778,
             "#fb9f3a"
            ],
            [
             0.8888888888888888,
             "#fdca26"
            ],
            [
             1,
             "#f0f921"
            ]
           ],
           "sequentialminus": [
            [
             0,
             "#0d0887"
            ],
            [
             0.1111111111111111,
             "#46039f"
            ],
            [
             0.2222222222222222,
             "#7201a8"
            ],
            [
             0.3333333333333333,
             "#9c179e"
            ],
            [
             0.4444444444444444,
             "#bd3786"
            ],
            [
             0.5555555555555556,
             "#d8576b"
            ],
            [
             0.6666666666666666,
             "#ed7953"
            ],
            [
             0.7777777777777778,
             "#fb9f3a"
            ],
            [
             0.8888888888888888,
             "#fdca26"
            ],
            [
             1,
             "#f0f921"
            ]
           ]
          },
          "colorway": [
           "#636efa",
           "#EF553B",
           "#00cc96",
           "#ab63fa",
           "#FFA15A",
           "#19d3f3",
           "#FF6692",
           "#B6E880",
           "#FF97FF",
           "#FECB52"
          ],
          "font": {
           "color": "#2a3f5f"
          },
          "geo": {
           "bgcolor": "white",
           "lakecolor": "white",
           "landcolor": "#E5ECF6",
           "showlakes": true,
           "showland": true,
           "subunitcolor": "white"
          },
          "hoverlabel": {
           "align": "left"
          },
          "hovermode": "closest",
          "mapbox": {
           "style": "light"
          },
          "paper_bgcolor": "white",
          "plot_bgcolor": "#E5ECF6",
          "polar": {
           "angularaxis": {
            "gridcolor": "white",
            "linecolor": "white",
            "ticks": ""
           },
           "bgcolor": "#E5ECF6",
           "radialaxis": {
            "gridcolor": "white",
            "linecolor": "white",
            "ticks": ""
           }
          },
          "scene": {
           "xaxis": {
            "backgroundcolor": "#E5ECF6",
            "gridcolor": "white",
            "gridwidth": 2,
            "linecolor": "white",
            "showbackground": true,
            "ticks": "",
            "zerolinecolor": "white"
           },
           "yaxis": {
            "backgroundcolor": "#E5ECF6",
            "gridcolor": "white",
            "gridwidth": 2,
            "linecolor": "white",
            "showbackground": true,
            "ticks": "",
            "zerolinecolor": "white"
           },
           "zaxis": {
            "backgroundcolor": "#E5ECF6",
            "gridcolor": "white",
            "gridwidth": 2,
            "linecolor": "white",
            "showbackground": true,
            "ticks": "",
            "zerolinecolor": "white"
           }
          },
          "shapedefaults": {
           "line": {
            "color": "#2a3f5f"
           }
          },
          "ternary": {
           "aaxis": {
            "gridcolor": "white",
            "linecolor": "white",
            "ticks": ""
           },
           "baxis": {
            "gridcolor": "white",
            "linecolor": "white",
            "ticks": ""
           },
           "bgcolor": "#E5ECF6",
           "caxis": {
            "gridcolor": "white",
            "linecolor": "white",
            "ticks": ""
           }
          },
          "title": {
           "x": 0.05
          },
          "xaxis": {
           "automargin": true,
           "gridcolor": "white",
           "linecolor": "white",
           "ticks": "",
           "title": {
            "standoff": 15
           },
           "zerolinecolor": "white",
           "zerolinewidth": 2
          },
          "yaxis": {
           "automargin": true,
           "gridcolor": "white",
           "linecolor": "white",
           "ticks": "",
           "title": {
            "standoff": 15
           },
           "zerolinecolor": "white",
           "zerolinewidth": 2
          }
         }
        },
        "title": {
         "text": "Contour Plot"
        },
        "width": 1200,
        "xaxis": {
         "anchor": "y",
         "domain": [
          0,
          0.2125
         ],
         "matches": "x13",
         "range": [
          1.7999999999999998,
          72.2
         ],
         "showticklabels": false
        },
        "xaxis10": {
         "anchor": "y10",
         "domain": [
          0.2625,
          0.475
         ],
         "matches": "x14",
         "range": [
          0.04999999999999993,
          20.95
         ],
         "showticklabels": false
        },
        "xaxis11": {
         "anchor": "y11",
         "domain": [
          0.525,
          0.7375
         ],
         "matches": "x15",
         "range": [
          1.1,
          20.9
         ],
         "showticklabels": false
        },
        "xaxis12": {
         "anchor": "y12",
         "domain": [
          0.7875,
          1
         ],
         "matches": "x16",
         "range": [
          8,
          52
         ],
         "showticklabels": false
        },
        "xaxis13": {
         "anchor": "y13",
         "domain": [
          0,
          0.2125
         ],
         "range": [
          1.7999999999999998,
          72.2
         ],
         "title": {
          "text": "max_depth"
         }
        },
        "xaxis14": {
         "anchor": "y14",
         "domain": [
          0.2625,
          0.475
         ],
         "range": [
          0.04999999999999993,
          20.95
         ],
         "title": {
          "text": "min_samples_leaf"
         }
        },
        "xaxis15": {
         "anchor": "y15",
         "domain": [
          0.525,
          0.7375
         ],
         "range": [
          1.1,
          20.9
         ],
         "title": {
          "text": "min_samples_split"
         }
        },
        "xaxis16": {
         "anchor": "y16",
         "domain": [
          0.7875,
          1
         ],
         "range": [
          8,
          52
         ],
         "title": {
          "text": "n_estimators"
         }
        },
        "xaxis2": {
         "anchor": "y2",
         "domain": [
          0.2625,
          0.475
         ],
         "matches": "x14",
         "range": [
          0.04999999999999993,
          20.95
         ],
         "showticklabels": false
        },
        "xaxis3": {
         "anchor": "y3",
         "domain": [
          0.525,
          0.7375
         ],
         "matches": "x15",
         "range": [
          1.1,
          20.9
         ],
         "showticklabels": false
        },
        "xaxis4": {
         "anchor": "y4",
         "domain": [
          0.7875,
          1
         ],
         "matches": "x16",
         "range": [
          8,
          52
         ],
         "showticklabels": false
        },
        "xaxis5": {
         "anchor": "y5",
         "domain": [
          0,
          0.2125
         ],
         "matches": "x13",
         "range": [
          1.7999999999999998,
          72.2
         ],
         "showticklabels": false
        },
        "xaxis6": {
         "anchor": "y6",
         "domain": [
          0.2625,
          0.475
         ],
         "matches": "x14",
         "range": [
          0.04999999999999993,
          20.95
         ],
         "showticklabels": false
        },
        "xaxis7": {
         "anchor": "y7",
         "domain": [
          0.525,
          0.7375
         ],
         "matches": "x15",
         "range": [
          1.1,
          20.9
         ],
         "showticklabels": false
        },
        "xaxis8": {
         "anchor": "y8",
         "domain": [
          0.7875,
          1
         ],
         "matches": "x16",
         "range": [
          8,
          52
         ],
         "showticklabels": false
        },
        "xaxis9": {
         "anchor": "y9",
         "domain": [
          0,
          0.2125
         ],
         "matches": "x13",
         "range": [
          1.7999999999999998,
          72.2
         ],
         "showticklabels": false
        },
        "yaxis": {
         "anchor": "x",
         "domain": [
          0.80625,
          1
         ],
         "range": [
          1.7999999999999998,
          72.2
         ],
         "title": {
          "text": "max_depth"
         }
        },
        "yaxis10": {
         "anchor": "x10",
         "domain": [
          0.26875,
          0.4625
         ],
         "matches": "y9",
         "range": [
          1.1,
          20.9
         ],
         "showticklabels": false
        },
        "yaxis11": {
         "anchor": "x11",
         "domain": [
          0.26875,
          0.4625
         ],
         "matches": "y9",
         "range": [
          1.1,
          20.9
         ],
         "showticklabels": false
        },
        "yaxis12": {
         "anchor": "x12",
         "domain": [
          0.26875,
          0.4625
         ],
         "matches": "y9",
         "range": [
          1.1,
          20.9
         ],
         "showticklabels": false
        },
        "yaxis13": {
         "anchor": "x13",
         "domain": [
          0,
          0.19375
         ],
         "range": [
          8,
          52
         ],
         "title": {
          "text": "n_estimators"
         }
        },
        "yaxis14": {
         "anchor": "x14",
         "domain": [
          0,
          0.19375
         ],
         "matches": "y13",
         "range": [
          8,
          52
         ],
         "showticklabels": false
        },
        "yaxis15": {
         "anchor": "x15",
         "domain": [
          0,
          0.19375
         ],
         "matches": "y13",
         "range": [
          8,
          52
         ],
         "showticklabels": false
        },
        "yaxis16": {
         "anchor": "x16",
         "domain": [
          0,
          0.19375
         ],
         "matches": "y13",
         "range": [
          8,
          52
         ],
         "showticklabels": false
        },
        "yaxis2": {
         "anchor": "x2",
         "domain": [
          0.80625,
          1
         ],
         "matches": "y",
         "range": [
          1.7999999999999998,
          72.2
         ],
         "showticklabels": false
        },
        "yaxis3": {
         "anchor": "x3",
         "domain": [
          0.80625,
          1
         ],
         "matches": "y",
         "range": [
          1.7999999999999998,
          72.2
         ],
         "showticklabels": false
        },
        "yaxis4": {
         "anchor": "x4",
         "domain": [
          0.80625,
          1
         ],
         "matches": "y",
         "range": [
          1.7999999999999998,
          72.2
         ],
         "showticklabels": false
        },
        "yaxis5": {
         "anchor": "x5",
         "domain": [
          0.5375,
          0.73125
         ],
         "range": [
          0.04999999999999993,
          20.95
         ],
         "title": {
          "text": "min_samples_leaf"
         }
        },
        "yaxis6": {
         "anchor": "x6",
         "domain": [
          0.5375,
          0.73125
         ],
         "matches": "y5",
         "range": [
          0.04999999999999993,
          20.95
         ],
         "showticklabels": false
        },
        "yaxis7": {
         "anchor": "x7",
         "domain": [
          0.5375,
          0.73125
         ],
         "matches": "y5",
         "range": [
          0.04999999999999993,
          20.95
         ],
         "showticklabels": false
        },
        "yaxis8": {
         "anchor": "x8",
         "domain": [
          0.5375,
          0.73125
         ],
         "matches": "y5",
         "range": [
          0.04999999999999993,
          20.95
         ],
         "showticklabels": false
        },
        "yaxis9": {
         "anchor": "x9",
         "domain": [
          0.26875,
          0.4625
         ],
         "range": [
          1.1,
          20.9
         ],
         "title": {
          "text": "min_samples_split"
         }
        }
       }
      }
     },
     "metadata": {},
     "output_type": "display_data"
    }
   ],
   "source": [
    "fig_3 = vis.plot_contour(study, params=['max_depth', 'min_samples_leaf', 'n_estimators', 'min_samples_split'])\n",
    "fig_3.update_layout({\"width\":1200, \"height\":1200})\n",
    "def update_colorscale(trace):\n",
    "    try:\n",
    "        trace[\"colorscale\"]= \"Tealrose\"\n",
    "        trace[\"reversescale\"]= False\n",
    "    except:\n",
    "        pass\n",
    "fig_3.for_each_trace(update_colorscale)"
   ]
  },
  {
   "cell_type": "code",
   "execution_count": 23,
   "metadata": {},
   "outputs": [
    {
     "data": {
      "application/vnd.plotly.v1+json": {
       "config": {
        "plotlyServerURL": "https://plot.ly"
       },
       "data": [
        {
         "dimensions": [
          {
           "label": "Objective Value",
           "range": [
            0.012087486864930844,
            0.027547685448198
           ],
           "values": [
            0.012943566321821242,
            0.012400308434027256,
            0.013578068955607998,
            0.012771835598957886,
            0.013862361711049638,
            0.01272481991565598,
            0.012450963790385045,
            0.012885458375372144,
            0.012506444939519096,
            0.014481001029221563,
            0.012791923279680074,
            0.012814255588096627,
            0.012605106968751757,
            0.018019503704704704,
            0.014157330972293204,
            0.012284982264887685,
            0.012715602673176512,
            0.013182496743972589,
            0.012210449080258713,
            0.012091687875892205,
            0.012178583111690388,
            0.012178583111690388,
            0.012178583111690388,
            0.01218005095916387,
            0.012103543562053577,
            0.012103543562053577,
            0.01250677582579764,
            0.012315886544905947,
            0.012505949563368014,
            0.012915816846904809,
            0.013204585663413022,
            0.012095484937240846,
            0.012095484937240846,
            0.01216274880160485,
            0.012413034359504919,
            0.01217944756496205,
            0.012284517952358466,
            0.013730707616831865,
            0.012123185878091717,
            0.012379386392510846,
            0.012609498113939613,
            0.012103543562053577,
            0.012132940270962273,
            0.012302471479805554,
            0.012094863628534866,
            0.012107475934130254,
            0.01252743648392719,
            0.012803628325183496,
            0.012330889395662407,
            0.014146756317157028,
            0.012294015552332262,
            0.012103543562053577,
            0.012121953946371174,
            0.012166081683821389,
            0.012107475934130254,
            0.012382899465440408,
            0.012267434643375163,
            0.012166081683821389,
            0.012308742307375107,
            0.012880124056656284,
            0.012938801963584953,
            0.012103543562053577,
            0.012111437548123152,
            0.012095484937240846,
            0.012095484937240846,
            0.012166081683821389,
            0.012154162970554098,
            0.012091687875892205,
            0.013450064473787429,
            0.012107475934130254,
            0.012284517952358466,
            0.013933913661561445,
            0.012089410260349839,
            0.012288126860134438,
            0.012089410260349839,
            0.012107475934130254,
            0.012468379303470207,
            0.012166081683821389,
            0.012089410260349839,
            0.012147743672829734,
            0.012094863628534866,
            0.012094863628534866,
            0.012094863628534866,
            0.012172607699863723,
            0.012107475934130254,
            0.012094863628534866,
            0.012091687875892205,
            0.012091687875892205,
            0.012294015552332262,
            0.013057379553302925,
            0.012190266808814952,
            0.012089410260349839,
            0.012091687875892205,
            0.012091687875892205,
            0.012091687875892205,
            0.012091687875892205,
            0.01216274880160485,
            0.012294015552332262,
            0.01216274880160485,
            0.012387403975115082,
            0.012502937367400114,
            0.012091687875892205,
            0.012091687875892205,
            0.012173779512340655,
            0.012087486864930844,
            0.012284517952358466,
            0.012161225788450853,
            0.012412748954856858,
            0.012376654438913542,
            0.012166081683821389,
            0.027547685448198,
            0.012091687875892205,
            0.012091687875892205,
            0.012107475934130254,
            0.012089410260349839,
            0.012166081683821389,
            0.012107290946756354,
            0.012089410260349839,
            0.01227682191439457,
            0.012089410260349839,
            0.01212458992928212,
            0.012089410260349839,
            0.012089410260349839,
            0.012166081683821389,
            0.012123123127391396,
            0.012311403461590674,
            0.01216274880160485,
            0.012089410260349839,
            0.01212458992928212,
            0.012248666404558463,
            0.01216962252355624,
            0.012089410260349839,
            0.012089410260349839,
            0.012094863628534866,
            0.012089410260349839,
            0.012095484937240846,
            0.012166081683821389,
            0.012352067758367799,
            0.01210385137934272,
            0.01242468520241407,
            0.012767244299693958,
            0.012089410260349839,
            0.012089410260349839,
            0.012166081683821389,
            0.012095484937240846,
            0.012123123127391396,
            0.012095484937240846,
            0.014156480203595214,
            0.012101897278073466,
            0.013322144082645272,
            0.012095484937240846,
            0.012089410260349839,
            0.012166081683821389,
            0.012095484937240846,
            0.012089410260349839,
            0.012089410260349839,
            0.01216274880160485,
            0.012101897278073466,
            0.012103543562053577,
            0.012107475934130254,
            0.012166081683821389,
            0.012089410260349839,
            0.012095484937240846,
            0.012101897278073466,
            0.012091687875892205,
            0.012089410260349839,
            0.012173779512340655,
            0.01210385137934272,
            0.012095484937240846,
            0.012166081683821389,
            0.012089410260349839,
            0.012089410260349839,
            0.012089410260349839,
            0.0126449309912058,
            0.012777591669065221,
            0.01216274880160485,
            0.012107475934130254,
            0.012089410260349839,
            0.012095484937240846,
            0.012217736162445796
           ]
          },
          {
           "label": "max_depth",
           "range": [
            5,
            69
           ],
           "values": [
            51,
            25,
            35,
            31,
            57,
            69,
            13,
            11,
            33,
            9,
            25,
            19,
            19,
            7,
            47,
            19,
            23,
            43,
            27,
            41,
            41,
            41,
            41,
            57,
            51,
            55,
            63,
            53,
            63,
            51,
            49,
            45,
            45,
            45,
            39,
            35,
            37,
            47,
            61,
            51,
            31,
            55,
            59,
            45,
            69,
            65,
            69,
            35,
            49,
            29,
            69,
            55,
            45,
            53,
            39,
            43,
            49,
            57,
            65,
            43,
            47,
            55,
            53,
            59,
            59,
            59,
            65,
            67,
            67,
            61,
            67,
            63,
            61,
            61,
            67,
            67,
            69,
            63,
            67,
            67,
            69,
            69,
            69,
            69,
            65,
            67,
            69,
            65,
            65,
            63,
            15,
            67,
            67,
            65,
            61,
            63,
            65,
            67,
            65,
            63,
            67,
            61,
            61,
            57,
            23,
            67,
            21,
            27,
            13,
            65,
            5,
            67,
            33,
            63,
            61,
            65,
            23,
            59,
            59,
            69,
            69,
            67,
            69,
            69,
            67,
            69,
            69,
            63,
            57,
            63,
            17,
            67,
            61,
            61,
            59,
            59,
            59,
            57,
            63,
            63,
            61,
            65,
            65,
            61,
            65,
            67,
            59,
            9,
            63,
            67,
            65,
            65,
            63,
            65,
            67,
            61,
            69,
            67,
            63,
            55,
            65,
            65,
            65,
            67,
            69,
            61,
            63,
            67,
            57,
            69,
            59,
            67,
            65,
            67,
            69,
            63,
            65,
            61,
            67,
            63
           ]
          },
          {
           "label": "min_samples_leaf",
           "range": [
            1,
            20
           ],
           "values": [
            10,
            5,
            15,
            1,
            17,
            5,
            4,
            2,
            2,
            13,
            9,
            6,
            7,
            5,
            20,
            4,
            8,
            12,
            3,
            3,
            1,
            1,
            1,
            1,
            3,
            3,
            7,
            3,
            7,
            10,
            12,
            3,
            3,
            4,
            6,
            3,
            5,
            16,
            2,
            6,
            4,
            3,
            2,
            5,
            2,
            2,
            4,
            9,
            2,
            20,
            5,
            3,
            3,
            4,
            2,
            6,
            1,
            4,
            5,
            8,
            1,
            3,
            2,
            3,
            3,
            4,
            1,
            3,
            14,
            2,
            5,
            18,
            3,
            4,
            3,
            2,
            6,
            4,
            3,
            1,
            2,
            2,
            2,
            1,
            2,
            2,
            3,
            3,
            5,
            11,
            4,
            3,
            3,
            3,
            3,
            3,
            4,
            5,
            4,
            3,
            7,
            3,
            3,
            4,
            3,
            5,
            4,
            3,
            1,
            4,
            6,
            3,
            3,
            2,
            3,
            4,
            2,
            3,
            5,
            3,
            2,
            3,
            3,
            4,
            2,
            1,
            4,
            3,
            2,
            3,
            4,
            3,
            3,
            2,
            3,
            3,
            4,
            3,
            2,
            5,
            1,
            3,
            3,
            4,
            3,
            2,
            3,
            4,
            2,
            13,
            3,
            3,
            4,
            3,
            3,
            3,
            4,
            2,
            3,
            2,
            4,
            3,
            3,
            2,
            3,
            3,
            4,
            2,
            3,
            4,
            3,
            3,
            3,
            8,
            9,
            4,
            2,
            3,
            3,
            3
           ]
          },
          {
           "label": "min_samples_split",
           "range": [
            2,
            20
           ],
           "values": [
            10,
            8,
            15,
            19,
            9,
            19,
            11,
            10,
            10,
            11,
            2,
            5,
            6,
            14,
            15,
            7,
            7,
            2,
            4,
            4,
            4,
            4,
            4,
            3,
            5,
            6,
            6,
            13,
            6,
            8,
            2,
            5,
            5,
            5,
            3,
            9,
            8,
            5,
            3,
            7,
            20,
            5,
            6,
            9,
            3,
            3,
            18,
            2,
            12,
            4,
            8,
            5,
            7,
            6,
            3,
            4,
            5,
            6,
            4,
            17,
            7,
            5,
            2,
            3,
            3,
            3,
            2,
            3,
            3,
            4,
            2,
            3,
            4,
            4,
            3,
            4,
            2,
            5,
            2,
            2,
            4,
            4,
            4,
            4,
            3,
            2,
            4,
            3,
            3,
            3,
            2,
            4,
            3,
            3,
            2,
            3,
            2,
            4,
            5,
            15,
            10,
            2,
            3,
            2,
            3,
            3,
            4,
            16,
            4,
            5,
            3,
            2,
            3,
            2,
            4,
            4,
            5,
            6,
            6,
            4,
            5,
            4,
            4,
            4,
            6,
            4,
            5,
            4,
            5,
            11,
            6,
            4,
            4,
            4,
            5,
            5,
            4,
            14,
            4,
            5,
            12,
            4,
            4,
            4,
            5,
            6,
            4,
            3,
            5,
            3,
            4,
            4,
            4,
            5,
            3,
            4,
            3,
            5,
            4,
            3,
            4,
            4,
            4,
            5,
            4,
            3,
            5,
            4,
            3,
            5,
            4,
            3,
            3,
            3,
            4,
            2,
            4,
            3,
            5,
            3
           ]
          },
          {
           "label": "n_estimators",
           "range": [
            10,
            50
           ],
           "values": [
            34,
            24,
            48,
            32,
            24,
            26,
            20,
            18,
            14,
            30,
            42,
            10,
            20,
            20,
            38,
            26,
            26,
            38,
            30,
            50,
            50,
            50,
            50,
            46,
            44,
            44,
            42,
            44,
            38,
            46,
            40,
            46,
            46,
            46,
            34,
            48,
            48,
            42,
            36,
            44,
            48,
            44,
            46,
            40,
            48,
            50,
            48,
            40,
            42,
            46,
            50,
            44,
            44,
            48,
            50,
            46,
            42,
            48,
            36,
            16,
            10,
            44,
            44,
            46,
            46,
            48,
            46,
            50,
            50,
            50,
            48,
            46,
            48,
            24,
            48,
            50,
            28,
            48,
            48,
            50,
            48,
            48,
            48,
            48,
            50,
            48,
            50,
            50,
            50,
            50,
            50,
            48,
            50,
            50,
            50,
            50,
            46,
            50,
            46,
            48,
            48,
            50,
            50,
            50,
            48,
            48,
            46,
            48,
            44,
            48,
            46,
            50,
            50,
            50,
            48,
            48,
            46,
            48,
            46,
            48,
            44,
            48,
            48,
            48,
            48,
            32,
            46,
            48,
            44,
            42,
            46,
            48,
            48,
            48,
            48,
            46,
            48,
            48,
            46,
            22,
            12,
            48,
            48,
            48,
            46,
            48,
            46,
            44,
            48,
            48,
            46,
            48,
            48,
            46,
            48,
            48,
            46,
            48,
            44,
            50,
            48,
            48,
            46,
            48,
            50,
            48,
            50,
            46,
            46,
            48,
            48,
            48,
            48,
            50,
            48,
            46,
            50,
            48,
            46,
            28
           ]
          }
         ],
         "labelangle": 30,
         "labelside": "bottom",
         "line": {
          "color": [
           0.012943566321821242,
           0.012400308434027256,
           0.013578068955607998,
           0.012771835598957886,
           0.013862361711049638,
           0.01272481991565598,
           0.012450963790385045,
           0.012885458375372144,
           0.012506444939519096,
           0.014481001029221563,
           0.012791923279680074,
           0.012814255588096627,
           0.012605106968751757,
           0.018019503704704704,
           0.014157330972293204,
           0.012284982264887685,
           0.012715602673176512,
           0.013182496743972589,
           0.012210449080258713,
           0.012091687875892205,
           0.012178583111690388,
           0.012178583111690388,
           0.012178583111690388,
           0.01218005095916387,
           0.012103543562053577,
           0.012103543562053577,
           0.01250677582579764,
           0.012315886544905947,
           0.012505949563368014,
           0.012915816846904809,
           0.013204585663413022,
           0.012095484937240846,
           0.012095484937240846,
           0.01216274880160485,
           0.012413034359504919,
           0.01217944756496205,
           0.012284517952358466,
           0.013730707616831865,
           0.012123185878091717,
           0.012379386392510846,
           0.012609498113939613,
           0.012103543562053577,
           0.012132940270962273,
           0.012302471479805554,
           0.012094863628534866,
           0.012107475934130254,
           0.01252743648392719,
           0.012803628325183496,
           0.012330889395662407,
           0.014146756317157028,
           0.012294015552332262,
           0.012103543562053577,
           0.012121953946371174,
           0.012166081683821389,
           0.012107475934130254,
           0.012382899465440408,
           0.012267434643375163,
           0.012166081683821389,
           0.012308742307375107,
           0.012880124056656284,
           0.012938801963584953,
           0.012103543562053577,
           0.012111437548123152,
           0.012095484937240846,
           0.012095484937240846,
           0.012166081683821389,
           0.012154162970554098,
           0.012091687875892205,
           0.013450064473787429,
           0.012107475934130254,
           0.012284517952358466,
           0.013933913661561445,
           0.012089410260349839,
           0.012288126860134438,
           0.012089410260349839,
           0.012107475934130254,
           0.012468379303470207,
           0.012166081683821389,
           0.012089410260349839,
           0.012147743672829734,
           0.012094863628534866,
           0.012094863628534866,
           0.012094863628534866,
           0.012172607699863723,
           0.012107475934130254,
           0.012094863628534866,
           0.012091687875892205,
           0.012091687875892205,
           0.012294015552332262,
           0.013057379553302925,
           0.012190266808814952,
           0.012089410260349839,
           0.012091687875892205,
           0.012091687875892205,
           0.012091687875892205,
           0.012091687875892205,
           0.01216274880160485,
           0.012294015552332262,
           0.01216274880160485,
           0.012387403975115082,
           0.012502937367400114,
           0.012091687875892205,
           0.012091687875892205,
           0.012173779512340655,
           0.012087486864930844,
           0.012284517952358466,
           0.012161225788450853,
           0.012412748954856858,
           0.012376654438913542,
           0.012166081683821389,
           0.027547685448198,
           0.012091687875892205,
           0.012091687875892205,
           0.012107475934130254,
           0.012089410260349839,
           0.012166081683821389,
           0.012107290946756354,
           0.012089410260349839,
           0.01227682191439457,
           0.012089410260349839,
           0.01212458992928212,
           0.012089410260349839,
           0.012089410260349839,
           0.012166081683821389,
           0.012123123127391396,
           0.012311403461590674,
           0.01216274880160485,
           0.012089410260349839,
           0.01212458992928212,
           0.012248666404558463,
           0.01216962252355624,
           0.012089410260349839,
           0.012089410260349839,
           0.012094863628534866,
           0.012089410260349839,
           0.012095484937240846,
           0.012166081683821389,
           0.012352067758367799,
           0.01210385137934272,
           0.01242468520241407,
           0.012767244299693958,
           0.012089410260349839,
           0.012089410260349839,
           0.012166081683821389,
           0.012095484937240846,
           0.012123123127391396,
           0.012095484937240846,
           0.014156480203595214,
           0.012101897278073466,
           0.013322144082645272,
           0.012095484937240846,
           0.012089410260349839,
           0.012166081683821389,
           0.012095484937240846,
           0.012089410260349839,
           0.012089410260349839,
           0.01216274880160485,
           0.012101897278073466,
           0.012103543562053577,
           0.012107475934130254,
           0.012166081683821389,
           0.012089410260349839,
           0.012095484937240846,
           0.012101897278073466,
           0.012091687875892205,
           0.012089410260349839,
           0.012173779512340655,
           0.01210385137934272,
           0.012095484937240846,
           0.012166081683821389,
           0.012089410260349839,
           0.012089410260349839,
           0.012089410260349839,
           0.0126449309912058,
           0.012777591669065221,
           0.01216274880160485,
           0.012107475934130254,
           0.012089410260349839,
           0.012095484937240846,
           0.012217736162445796
          ],
          "colorbar": {
           "title": {
            "text": "Objective Value"
           }
          },
          "colorscale": [
           [
            0,
            "rgb(247,251,255)"
           ],
           [
            0.125,
            "rgb(222,235,247)"
           ],
           [
            0.25,
            "rgb(198,219,239)"
           ],
           [
            0.375,
            "rgb(158,202,225)"
           ],
           [
            0.5,
            "rgb(107,174,214)"
           ],
           [
            0.625,
            "rgb(66,146,198)"
           ],
           [
            0.75,
            "rgb(33,113,181)"
           ],
           [
            0.875,
            "rgb(8,81,156)"
           ],
           [
            1,
            "rgb(8,48,107)"
           ]
          ],
          "reversescale": true,
          "showscale": true
         },
         "type": "parcoords"
        }
       ],
       "layout": {
        "template": {
         "data": {
          "bar": [
           {
            "error_x": {
             "color": "#2a3f5f"
            },
            "error_y": {
             "color": "#2a3f5f"
            },
            "marker": {
             "line": {
              "color": "#E5ECF6",
              "width": 0.5
             },
             "pattern": {
              "fillmode": "overlay",
              "size": 10,
              "solidity": 0.2
             }
            },
            "type": "bar"
           }
          ],
          "barpolar": [
           {
            "marker": {
             "line": {
              "color": "#E5ECF6",
              "width": 0.5
             },
             "pattern": {
              "fillmode": "overlay",
              "size": 10,
              "solidity": 0.2
             }
            },
            "type": "barpolar"
           }
          ],
          "carpet": [
           {
            "aaxis": {
             "endlinecolor": "#2a3f5f",
             "gridcolor": "white",
             "linecolor": "white",
             "minorgridcolor": "white",
             "startlinecolor": "#2a3f5f"
            },
            "baxis": {
             "endlinecolor": "#2a3f5f",
             "gridcolor": "white",
             "linecolor": "white",
             "minorgridcolor": "white",
             "startlinecolor": "#2a3f5f"
            },
            "type": "carpet"
           }
          ],
          "choropleth": [
           {
            "colorbar": {
             "outlinewidth": 0,
             "ticks": ""
            },
            "type": "choropleth"
           }
          ],
          "contour": [
           {
            "colorbar": {
             "outlinewidth": 0,
             "ticks": ""
            },
            "colorscale": [
             [
              0,
              "#0d0887"
             ],
             [
              0.1111111111111111,
              "#46039f"
             ],
             [
              0.2222222222222222,
              "#7201a8"
             ],
             [
              0.3333333333333333,
              "#9c179e"
             ],
             [
              0.4444444444444444,
              "#bd3786"
             ],
             [
              0.5555555555555556,
              "#d8576b"
             ],
             [
              0.6666666666666666,
              "#ed7953"
             ],
             [
              0.7777777777777778,
              "#fb9f3a"
             ],
             [
              0.8888888888888888,
              "#fdca26"
             ],
             [
              1,
              "#f0f921"
             ]
            ],
            "type": "contour"
           }
          ],
          "contourcarpet": [
           {
            "colorbar": {
             "outlinewidth": 0,
             "ticks": ""
            },
            "type": "contourcarpet"
           }
          ],
          "heatmap": [
           {
            "colorbar": {
             "outlinewidth": 0,
             "ticks": ""
            },
            "colorscale": [
             [
              0,
              "#0d0887"
             ],
             [
              0.1111111111111111,
              "#46039f"
             ],
             [
              0.2222222222222222,
              "#7201a8"
             ],
             [
              0.3333333333333333,
              "#9c179e"
             ],
             [
              0.4444444444444444,
              "#bd3786"
             ],
             [
              0.5555555555555556,
              "#d8576b"
             ],
             [
              0.6666666666666666,
              "#ed7953"
             ],
             [
              0.7777777777777778,
              "#fb9f3a"
             ],
             [
              0.8888888888888888,
              "#fdca26"
             ],
             [
              1,
              "#f0f921"
             ]
            ],
            "type": "heatmap"
           }
          ],
          "heatmapgl": [
           {
            "colorbar": {
             "outlinewidth": 0,
             "ticks": ""
            },
            "colorscale": [
             [
              0,
              "#0d0887"
             ],
             [
              0.1111111111111111,
              "#46039f"
             ],
             [
              0.2222222222222222,
              "#7201a8"
             ],
             [
              0.3333333333333333,
              "#9c179e"
             ],
             [
              0.4444444444444444,
              "#bd3786"
             ],
             [
              0.5555555555555556,
              "#d8576b"
             ],
             [
              0.6666666666666666,
              "#ed7953"
             ],
             [
              0.7777777777777778,
              "#fb9f3a"
             ],
             [
              0.8888888888888888,
              "#fdca26"
             ],
             [
              1,
              "#f0f921"
             ]
            ],
            "type": "heatmapgl"
           }
          ],
          "histogram": [
           {
            "marker": {
             "pattern": {
              "fillmode": "overlay",
              "size": 10,
              "solidity": 0.2
             }
            },
            "type": "histogram"
           }
          ],
          "histogram2d": [
           {
            "colorbar": {
             "outlinewidth": 0,
             "ticks": ""
            },
            "colorscale": [
             [
              0,
              "#0d0887"
             ],
             [
              0.1111111111111111,
              "#46039f"
             ],
             [
              0.2222222222222222,
              "#7201a8"
             ],
             [
              0.3333333333333333,
              "#9c179e"
             ],
             [
              0.4444444444444444,
              "#bd3786"
             ],
             [
              0.5555555555555556,
              "#d8576b"
             ],
             [
              0.6666666666666666,
              "#ed7953"
             ],
             [
              0.7777777777777778,
              "#fb9f3a"
             ],
             [
              0.8888888888888888,
              "#fdca26"
             ],
             [
              1,
              "#f0f921"
             ]
            ],
            "type": "histogram2d"
           }
          ],
          "histogram2dcontour": [
           {
            "colorbar": {
             "outlinewidth": 0,
             "ticks": ""
            },
            "colorscale": [
             [
              0,
              "#0d0887"
             ],
             [
              0.1111111111111111,
              "#46039f"
             ],
             [
              0.2222222222222222,
              "#7201a8"
             ],
             [
              0.3333333333333333,
              "#9c179e"
             ],
             [
              0.4444444444444444,
              "#bd3786"
             ],
             [
              0.5555555555555556,
              "#d8576b"
             ],
             [
              0.6666666666666666,
              "#ed7953"
             ],
             [
              0.7777777777777778,
              "#fb9f3a"
             ],
             [
              0.8888888888888888,
              "#fdca26"
             ],
             [
              1,
              "#f0f921"
             ]
            ],
            "type": "histogram2dcontour"
           }
          ],
          "mesh3d": [
           {
            "colorbar": {
             "outlinewidth": 0,
             "ticks": ""
            },
            "type": "mesh3d"
           }
          ],
          "parcoords": [
           {
            "line": {
             "colorbar": {
              "outlinewidth": 0,
              "ticks": ""
             }
            },
            "type": "parcoords"
           }
          ],
          "pie": [
           {
            "automargin": true,
            "type": "pie"
           }
          ],
          "scatter": [
           {
            "fillpattern": {
             "fillmode": "overlay",
             "size": 10,
             "solidity": 0.2
            },
            "type": "scatter"
           }
          ],
          "scatter3d": [
           {
            "line": {
             "colorbar": {
              "outlinewidth": 0,
              "ticks": ""
             }
            },
            "marker": {
             "colorbar": {
              "outlinewidth": 0,
              "ticks": ""
             }
            },
            "type": "scatter3d"
           }
          ],
          "scattercarpet": [
           {
            "marker": {
             "colorbar": {
              "outlinewidth": 0,
              "ticks": ""
             }
            },
            "type": "scattercarpet"
           }
          ],
          "scattergeo": [
           {
            "marker": {
             "colorbar": {
              "outlinewidth": 0,
              "ticks": ""
             }
            },
            "type": "scattergeo"
           }
          ],
          "scattergl": [
           {
            "marker": {
             "colorbar": {
              "outlinewidth": 0,
              "ticks": ""
             }
            },
            "type": "scattergl"
           }
          ],
          "scattermapbox": [
           {
            "marker": {
             "colorbar": {
              "outlinewidth": 0,
              "ticks": ""
             }
            },
            "type": "scattermapbox"
           }
          ],
          "scatterpolar": [
           {
            "marker": {
             "colorbar": {
              "outlinewidth": 0,
              "ticks": ""
             }
            },
            "type": "scatterpolar"
           }
          ],
          "scatterpolargl": [
           {
            "marker": {
             "colorbar": {
              "outlinewidth": 0,
              "ticks": ""
             }
            },
            "type": "scatterpolargl"
           }
          ],
          "scatterternary": [
           {
            "marker": {
             "colorbar": {
              "outlinewidth": 0,
              "ticks": ""
             }
            },
            "type": "scatterternary"
           }
          ],
          "surface": [
           {
            "colorbar": {
             "outlinewidth": 0,
             "ticks": ""
            },
            "colorscale": [
             [
              0,
              "#0d0887"
             ],
             [
              0.1111111111111111,
              "#46039f"
             ],
             [
              0.2222222222222222,
              "#7201a8"
             ],
             [
              0.3333333333333333,
              "#9c179e"
             ],
             [
              0.4444444444444444,
              "#bd3786"
             ],
             [
              0.5555555555555556,
              "#d8576b"
             ],
             [
              0.6666666666666666,
              "#ed7953"
             ],
             [
              0.7777777777777778,
              "#fb9f3a"
             ],
             [
              0.8888888888888888,
              "#fdca26"
             ],
             [
              1,
              "#f0f921"
             ]
            ],
            "type": "surface"
           }
          ],
          "table": [
           {
            "cells": {
             "fill": {
              "color": "#EBF0F8"
             },
             "line": {
              "color": "white"
             }
            },
            "header": {
             "fill": {
              "color": "#C8D4E3"
             },
             "line": {
              "color": "white"
             }
            },
            "type": "table"
           }
          ]
         },
         "layout": {
          "annotationdefaults": {
           "arrowcolor": "#2a3f5f",
           "arrowhead": 0,
           "arrowwidth": 1
          },
          "autotypenumbers": "strict",
          "coloraxis": {
           "colorbar": {
            "outlinewidth": 0,
            "ticks": ""
           }
          },
          "colorscale": {
           "diverging": [
            [
             0,
             "#8e0152"
            ],
            [
             0.1,
             "#c51b7d"
            ],
            [
             0.2,
             "#de77ae"
            ],
            [
             0.3,
             "#f1b6da"
            ],
            [
             0.4,
             "#fde0ef"
            ],
            [
             0.5,
             "#f7f7f7"
            ],
            [
             0.6,
             "#e6f5d0"
            ],
            [
             0.7,
             "#b8e186"
            ],
            [
             0.8,
             "#7fbc41"
            ],
            [
             0.9,
             "#4d9221"
            ],
            [
             1,
             "#276419"
            ]
           ],
           "sequential": [
            [
             0,
             "#0d0887"
            ],
            [
             0.1111111111111111,
             "#46039f"
            ],
            [
             0.2222222222222222,
             "#7201a8"
            ],
            [
             0.3333333333333333,
             "#9c179e"
            ],
            [
             0.4444444444444444,
             "#bd3786"
            ],
            [
             0.5555555555555556,
             "#d8576b"
            ],
            [
             0.6666666666666666,
             "#ed7953"
            ],
            [
             0.7777777777777778,
             "#fb9f3a"
            ],
            [
             0.8888888888888888,
             "#fdca26"
            ],
            [
             1,
             "#f0f921"
            ]
           ],
           "sequentialminus": [
            [
             0,
             "#0d0887"
            ],
            [
             0.1111111111111111,
             "#46039f"
            ],
            [
             0.2222222222222222,
             "#7201a8"
            ],
            [
             0.3333333333333333,
             "#9c179e"
            ],
            [
             0.4444444444444444,
             "#bd3786"
            ],
            [
             0.5555555555555556,
             "#d8576b"
            ],
            [
             0.6666666666666666,
             "#ed7953"
            ],
            [
             0.7777777777777778,
             "#fb9f3a"
            ],
            [
             0.8888888888888888,
             "#fdca26"
            ],
            [
             1,
             "#f0f921"
            ]
           ]
          },
          "colorway": [
           "#636efa",
           "#EF553B",
           "#00cc96",
           "#ab63fa",
           "#FFA15A",
           "#19d3f3",
           "#FF6692",
           "#B6E880",
           "#FF97FF",
           "#FECB52"
          ],
          "font": {
           "color": "#2a3f5f"
          },
          "geo": {
           "bgcolor": "white",
           "lakecolor": "white",
           "landcolor": "#E5ECF6",
           "showlakes": true,
           "showland": true,
           "subunitcolor": "white"
          },
          "hoverlabel": {
           "align": "left"
          },
          "hovermode": "closest",
          "mapbox": {
           "style": "light"
          },
          "paper_bgcolor": "white",
          "plot_bgcolor": "#E5ECF6",
          "polar": {
           "angularaxis": {
            "gridcolor": "white",
            "linecolor": "white",
            "ticks": ""
           },
           "bgcolor": "#E5ECF6",
           "radialaxis": {
            "gridcolor": "white",
            "linecolor": "white",
            "ticks": ""
           }
          },
          "scene": {
           "xaxis": {
            "backgroundcolor": "#E5ECF6",
            "gridcolor": "white",
            "gridwidth": 2,
            "linecolor": "white",
            "showbackground": true,
            "ticks": "",
            "zerolinecolor": "white"
           },
           "yaxis": {
            "backgroundcolor": "#E5ECF6",
            "gridcolor": "white",
            "gridwidth": 2,
            "linecolor": "white",
            "showbackground": true,
            "ticks": "",
            "zerolinecolor": "white"
           },
           "zaxis": {
            "backgroundcolor": "#E5ECF6",
            "gridcolor": "white",
            "gridwidth": 2,
            "linecolor": "white",
            "showbackground": true,
            "ticks": "",
            "zerolinecolor": "white"
           }
          },
          "shapedefaults": {
           "line": {
            "color": "#2a3f5f"
           }
          },
          "ternary": {
           "aaxis": {
            "gridcolor": "white",
            "linecolor": "white",
            "ticks": ""
           },
           "baxis": {
            "gridcolor": "white",
            "linecolor": "white",
            "ticks": ""
           },
           "bgcolor": "#E5ECF6",
           "caxis": {
            "gridcolor": "white",
            "linecolor": "white",
            "ticks": ""
           }
          },
          "title": {
           "x": 0.05
          },
          "xaxis": {
           "automargin": true,
           "gridcolor": "white",
           "linecolor": "white",
           "ticks": "",
           "title": {
            "standoff": 15
           },
           "zerolinecolor": "white",
           "zerolinewidth": 2
          },
          "yaxis": {
           "automargin": true,
           "gridcolor": "white",
           "linecolor": "white",
           "ticks": "",
           "title": {
            "standoff": 15
           },
           "zerolinecolor": "white",
           "zerolinewidth": 2
          }
         }
        },
        "title": {
         "text": "Parallel Coordinate Plot"
        }
       }
      }
     },
     "metadata": {},
     "output_type": "display_data"
    }
   ],
   "source": [
    "vis.plot_parallel_coordinate(study)"
   ]
  },
  {
   "cell_type": "code",
   "execution_count": 24,
   "metadata": {},
   "outputs": [
    {
     "data": {
      "application/vnd.plotly.v1+json": {
       "config": {
        "plotlyServerURL": "https://plot.ly"
       },
       "data": [
        {
         "colorbar": {
          "title": {
           "text": "Objective Value"
          }
         },
         "colorscale": [
          [
           0,
           "rgb(247,251,255)"
          ],
          [
           0.125,
           "rgb(222,235,247)"
          ],
          [
           0.25,
           "rgb(198,219,239)"
          ],
          [
           0.375,
           "rgb(158,202,225)"
          ],
          [
           0.5,
           "rgb(107,174,214)"
          ],
          [
           0.625,
           "rgb(66,146,198)"
          ],
          [
           0.75,
           "rgb(33,113,181)"
          ],
          [
           0.875,
           "rgb(8,81,156)"
          ],
          [
           1,
           "rgb(8,48,107)"
          ]
         ],
         "connectgaps": true,
         "contours": {
          "coloring": "heatmap"
         },
         "hoverinfo": "none",
         "line": {
          "smoothing": 1.3
         },
         "reversescale": true,
         "type": "contour",
         "x": [
          1.7999999999999998,
          5,
          7,
          9,
          11,
          13,
          15,
          17,
          19,
          21,
          23,
          25,
          27,
          29,
          31,
          33,
          35,
          37,
          39,
          41,
          43,
          45,
          47,
          49,
          51,
          53,
          55,
          57,
          59,
          61,
          63,
          65,
          67,
          69,
          72.2
         ],
         "y": [
          0.04999999999999993,
          1,
          2,
          3,
          4,
          5,
          6,
          7,
          8,
          9,
          10,
          11,
          12,
          13,
          14,
          15,
          16,
          17,
          18,
          20,
          20.95
         ],
         "z": [
          [
           null,
           null,
           null,
           null,
           null,
           null,
           null,
           null,
           null,
           null,
           null,
           null,
           null,
           null,
           null,
           null,
           null,
           null,
           null,
           null,
           null,
           null,
           null,
           null,
           null,
           null,
           null,
           null,
           null,
           null,
           null,
           null,
           null,
           null,
           null
          ],
          [
           null,
           null,
           null,
           null,
           null,
           0.012376654438913542,
           null,
           null,
           null,
           null,
           null,
           null,
           null,
           null,
           0.012771835598957886,
           null,
           null,
           null,
           null,
           0.012178583111690388,
           null,
           null,
           0.012938801963584953,
           0.012267434643375163,
           null,
           null,
           null,
           0.01218005095916387,
           null,
           0.012767244299693958,
           null,
           0.012154162970554098,
           0.012147743672829734,
           0.012172607699863723,
           null
          ],
          [
           null,
           null,
           null,
           null,
           0.012885458375372144,
           null,
           null,
           null,
           null,
           null,
           0.012107290946756354,
           null,
           null,
           null,
           null,
           0.012506444939519096,
           null,
           null,
           0.012107475934130254,
           null,
           null,
           null,
           null,
           0.012330889395662407,
           null,
           0.012111437548123152,
           0.012107475934130254,
           0.01212458992928212,
           0.012132940270962273,
           0.012094863628534866,
           0.012101897278073466,
           0.012107475934130254,
           0.012094863628534866,
           0.012094863628534866,
           null
          ],
          [
           null,
           null,
           null,
           null,
           null,
           null,
           null,
           null,
           null,
           null,
           0.012087486864930844,
           null,
           0.012210449080258713,
           null,
           null,
           0.012091687875892205,
           0.01217944756496205,
           null,
           null,
           0.012091687875892205,
           null,
           0.012095484937240846,
           null,
           null,
           0.012103543562053577,
           0.012315886544905947,
           0.012103543562053577,
           0.012095484937240846,
           0.012089410260349839,
           0.012089410260349839,
           0.012089410260349839,
           0.012089410260349839,
           0.012089410260349839,
           0.012089410260349839,
           null
          ],
          [
           null,
           null,
           null,
           0.014156480203595214,
           null,
           0.012450963790385045,
           0.012190266808814952,
           0.01216962252355624,
           0.012284982264887685,
           0.012161225788450853,
           null,
           null,
           null,
           null,
           0.012609498113939613,
           null,
           null,
           null,
           null,
           null,
           null,
           0.01216274880160485,
           null,
           null,
           null,
           0.012166081683821389,
           null,
           0.012166081683821389,
           0.012166081683821389,
           0.012166081683821389,
           0.01216274880160485,
           0.01216274880160485,
           null,
           0.01216274880160485,
           null
          ],
          [
           null,
           null,
           0.018019503704704704,
           null,
           null,
           null,
           null,
           null,
           null,
           null,
           null,
           0.012400308434027256,
           null,
           null,
           null,
           null,
           null,
           0.012284517952358466,
           null,
           null,
           null,
           0.012302471479805554,
           null,
           null,
           null,
           null,
           null,
           null,
           0.01227682191439457,
           null,
           0.01242468520241407,
           0.012294015552332262,
           0.012284517952358466,
           0.012294015552332262,
           null
          ],
          [
           null,
           0.027547685448198,
           null,
           null,
           null,
           null,
           null,
           null,
           0.012814255588096627,
           null,
           null,
           null,
           null,
           null,
           null,
           null,
           null,
           null,
           0.012413034359504919,
           null,
           0.012382899465440408,
           null,
           null,
           null,
           0.012379386392510846,
           null,
           null,
           null,
           null,
           null,
           null,
           null,
           null,
           0.012468379303470207,
           null
          ],
          [
           null,
           null,
           null,
           null,
           null,
           null,
           null,
           null,
           0.012605106968751757,
           null,
           null,
           null,
           null,
           null,
           null,
           null,
           null,
           null,
           null,
           null,
           null,
           null,
           null,
           null,
           null,
           null,
           null,
           null,
           null,
           null,
           0.012505949563368014,
           null,
           0.012502937367400114,
           null,
           null
          ],
          [
           null,
           null,
           null,
           null,
           null,
           null,
           null,
           null,
           null,
           null,
           0.012715602673176512,
           null,
           null,
           null,
           null,
           null,
           null,
           null,
           null,
           null,
           0.012880124056656284,
           null,
           null,
           null,
           null,
           null,
           null,
           null,
           null,
           null,
           null,
           null,
           0.0126449309912058,
           null,
           null
          ],
          [
           null,
           null,
           null,
           null,
           null,
           null,
           null,
           null,
           null,
           null,
           null,
           0.012791923279680074,
           null,
           null,
           null,
           null,
           0.012803628325183496,
           null,
           null,
           null,
           null,
           null,
           null,
           null,
           null,
           null,
           null,
           null,
           null,
           null,
           null,
           null,
           null,
           0.012777591669065221,
           null
          ],
          [
           null,
           null,
           null,
           null,
           null,
           null,
           null,
           null,
           null,
           null,
           null,
           null,
           null,
           null,
           null,
           null,
           null,
           null,
           null,
           null,
           null,
           null,
           null,
           null,
           0.012915816846904809,
           null,
           null,
           null,
           null,
           null,
           null,
           null,
           null,
           null,
           null
          ],
          [
           null,
           null,
           null,
           null,
           null,
           null,
           null,
           null,
           null,
           null,
           null,
           null,
           null,
           null,
           null,
           null,
           null,
           null,
           null,
           null,
           null,
           null,
           null,
           null,
           null,
           null,
           null,
           null,
           null,
           null,
           0.013057379553302925,
           null,
           null,
           null,
           null
          ],
          [
           null,
           null,
           null,
           null,
           null,
           null,
           null,
           null,
           null,
           null,
           null,
           null,
           null,
           null,
           null,
           null,
           null,
           null,
           null,
           null,
           0.013182496743972589,
           null,
           null,
           0.013204585663413022,
           null,
           null,
           null,
           null,
           null,
           null,
           null,
           null,
           null,
           null,
           null
          ],
          [
           null,
           null,
           null,
           0.014481001029221563,
           null,
           null,
           null,
           null,
           null,
           null,
           null,
           null,
           null,
           null,
           null,
           null,
           null,
           null,
           null,
           null,
           null,
           null,
           null,
           null,
           null,
           null,
           null,
           null,
           null,
           null,
           null,
           null,
           0.013322144082645272,
           null,
           null
          ],
          [
           null,
           null,
           null,
           null,
           null,
           null,
           null,
           null,
           null,
           null,
           null,
           null,
           null,
           null,
           null,
           null,
           null,
           null,
           null,
           null,
           null,
           null,
           null,
           null,
           null,
           null,
           null,
           null,
           null,
           null,
           null,
           null,
           0.013450064473787429,
           null,
           null
          ],
          [
           null,
           null,
           null,
           null,
           null,
           null,
           null,
           null,
           null,
           null,
           null,
           null,
           null,
           null,
           null,
           null,
           0.013578068955607998,
           null,
           null,
           null,
           null,
           null,
           null,
           null,
           null,
           null,
           null,
           null,
           null,
           null,
           null,
           null,
           null,
           null,
           null
          ],
          [
           null,
           null,
           null,
           null,
           null,
           null,
           null,
           null,
           null,
           null,
           null,
           null,
           null,
           null,
           null,
           null,
           null,
           null,
           null,
           null,
           null,
           null,
           0.013730707616831865,
           null,
           null,
           null,
           null,
           null,
           null,
           null,
           null,
           null,
           null,
           null,
           null
          ],
          [
           null,
           null,
           null,
           null,
           null,
           null,
           null,
           null,
           null,
           null,
           null,
           null,
           null,
           null,
           null,
           null,
           null,
           null,
           null,
           null,
           null,
           null,
           null,
           null,
           null,
           null,
           null,
           0.013862361711049638,
           null,
           null,
           null,
           null,
           null,
           null,
           null
          ],
          [
           null,
           null,
           null,
           null,
           null,
           null,
           null,
           null,
           null,
           null,
           null,
           null,
           null,
           null,
           null,
           null,
           null,
           null,
           null,
           null,
           null,
           null,
           null,
           null,
           null,
           null,
           null,
           null,
           null,
           null,
           0.013933913661561445,
           null,
           null,
           null,
           null
          ],
          [
           null,
           null,
           null,
           null,
           null,
           null,
           null,
           null,
           null,
           null,
           null,
           null,
           null,
           0.014146756317157028,
           null,
           null,
           null,
           null,
           null,
           null,
           null,
           null,
           0.014157330972293204,
           null,
           null,
           null,
           null,
           null,
           null,
           null,
           null,
           null,
           null,
           null,
           null
          ],
          [
           null,
           null,
           null,
           null,
           null,
           null,
           null,
           null,
           null,
           null,
           null,
           null,
           null,
           null,
           null,
           null,
           null,
           null,
           null,
           null,
           null,
           null,
           null,
           null,
           null,
           null,
           null,
           null,
           null,
           null,
           null,
           null,
           null,
           null,
           null
          ]
         ]
        },
        {
         "marker": {
          "color": "black",
          "line": {
           "color": "Gray",
           "width": 2
          }
         },
         "mode": "markers",
         "name": "Feasible Trial",
         "showlegend": false,
         "type": "scatter",
         "x": [
          51,
          25,
          35,
          31,
          57,
          69,
          13,
          11,
          33,
          9,
          25,
          19,
          19,
          7,
          47,
          19,
          23,
          43,
          27,
          41,
          41,
          41,
          41,
          57,
          51,
          55,
          63,
          53,
          63,
          51,
          49,
          45,
          45,
          45,
          39,
          35,
          37,
          47,
          61,
          51,
          31,
          55,
          59,
          45,
          69,
          65,
          69,
          35,
          49,
          29,
          69,
          55,
          45,
          53,
          39,
          43,
          49,
          57,
          65,
          43,
          47,
          55,
          53,
          59,
          59,
          59,
          65,
          67,
          67,
          61,
          67,
          63,
          61,
          61,
          67,
          67,
          69,
          63,
          67,
          67,
          69,
          69,
          69,
          69,
          65,
          67,
          69,
          65,
          65,
          63,
          15,
          67,
          67,
          65,
          61,
          63,
          65,
          67,
          65,
          63,
          67,
          61,
          61,
          57,
          23,
          67,
          21,
          27,
          13,
          65,
          5,
          67,
          33,
          63,
          61,
          65,
          23,
          59,
          59,
          69,
          69,
          67,
          69,
          69,
          67,
          69,
          69,
          63,
          57,
          63,
          17,
          67,
          61,
          61,
          59,
          59,
          59,
          57,
          63,
          63,
          61,
          65,
          65,
          61,
          65,
          67,
          59,
          9,
          63,
          67,
          65,
          65,
          63,
          65,
          67,
          61,
          69,
          67,
          63,
          55,
          65,
          65,
          65,
          67,
          69,
          61,
          63,
          67,
          57,
          69,
          59,
          67,
          65,
          67,
          69,
          63,
          65,
          61,
          67,
          63
         ],
         "y": [
          10,
          5,
          15,
          1,
          17,
          5,
          4,
          2,
          2,
          13,
          9,
          6,
          7,
          5,
          20,
          4,
          8,
          12,
          3,
          3,
          1,
          1,
          1,
          1,
          3,
          3,
          7,
          3,
          7,
          10,
          12,
          3,
          3,
          4,
          6,
          3,
          5,
          16,
          2,
          6,
          4,
          3,
          2,
          5,
          2,
          2,
          4,
          9,
          2,
          20,
          5,
          3,
          3,
          4,
          2,
          6,
          1,
          4,
          5,
          8,
          1,
          3,
          2,
          3,
          3,
          4,
          1,
          3,
          14,
          2,
          5,
          18,
          3,
          4,
          3,
          2,
          6,
          4,
          3,
          1,
          2,
          2,
          2,
          1,
          2,
          2,
          3,
          3,
          5,
          11,
          4,
          3,
          3,
          3,
          3,
          3,
          4,
          5,
          4,
          3,
          7,
          3,
          3,
          4,
          3,
          5,
          4,
          3,
          1,
          4,
          6,
          3,
          3,
          2,
          3,
          4,
          2,
          3,
          5,
          3,
          2,
          3,
          3,
          4,
          2,
          1,
          4,
          3,
          2,
          3,
          4,
          3,
          3,
          2,
          3,
          3,
          4,
          3,
          2,
          5,
          1,
          3,
          3,
          4,
          3,
          2,
          3,
          4,
          2,
          13,
          3,
          3,
          4,
          3,
          3,
          3,
          4,
          2,
          3,
          2,
          4,
          3,
          3,
          2,
          3,
          3,
          4,
          2,
          3,
          4,
          3,
          3,
          3,
          8,
          9,
          4,
          2,
          3,
          3,
          3
         ]
        },
        {
         "marker": {
          "color": "#cccccc",
          "line": {
           "color": "Gray",
           "width": 2
          }
         },
         "mode": "markers",
         "name": "Infeasible Trial",
         "showlegend": false,
         "type": "scatter",
         "x": [],
         "y": []
        }
       ],
       "layout": {
        "template": {
         "data": {
          "bar": [
           {
            "error_x": {
             "color": "#2a3f5f"
            },
            "error_y": {
             "color": "#2a3f5f"
            },
            "marker": {
             "line": {
              "color": "#E5ECF6",
              "width": 0.5
             },
             "pattern": {
              "fillmode": "overlay",
              "size": 10,
              "solidity": 0.2
             }
            },
            "type": "bar"
           }
          ],
          "barpolar": [
           {
            "marker": {
             "line": {
              "color": "#E5ECF6",
              "width": 0.5
             },
             "pattern": {
              "fillmode": "overlay",
              "size": 10,
              "solidity": 0.2
             }
            },
            "type": "barpolar"
           }
          ],
          "carpet": [
           {
            "aaxis": {
             "endlinecolor": "#2a3f5f",
             "gridcolor": "white",
             "linecolor": "white",
             "minorgridcolor": "white",
             "startlinecolor": "#2a3f5f"
            },
            "baxis": {
             "endlinecolor": "#2a3f5f",
             "gridcolor": "white",
             "linecolor": "white",
             "minorgridcolor": "white",
             "startlinecolor": "#2a3f5f"
            },
            "type": "carpet"
           }
          ],
          "choropleth": [
           {
            "colorbar": {
             "outlinewidth": 0,
             "ticks": ""
            },
            "type": "choropleth"
           }
          ],
          "contour": [
           {
            "colorbar": {
             "outlinewidth": 0,
             "ticks": ""
            },
            "colorscale": [
             [
              0,
              "#0d0887"
             ],
             [
              0.1111111111111111,
              "#46039f"
             ],
             [
              0.2222222222222222,
              "#7201a8"
             ],
             [
              0.3333333333333333,
              "#9c179e"
             ],
             [
              0.4444444444444444,
              "#bd3786"
             ],
             [
              0.5555555555555556,
              "#d8576b"
             ],
             [
              0.6666666666666666,
              "#ed7953"
             ],
             [
              0.7777777777777778,
              "#fb9f3a"
             ],
             [
              0.8888888888888888,
              "#fdca26"
             ],
             [
              1,
              "#f0f921"
             ]
            ],
            "type": "contour"
           }
          ],
          "contourcarpet": [
           {
            "colorbar": {
             "outlinewidth": 0,
             "ticks": ""
            },
            "type": "contourcarpet"
           }
          ],
          "heatmap": [
           {
            "colorbar": {
             "outlinewidth": 0,
             "ticks": ""
            },
            "colorscale": [
             [
              0,
              "#0d0887"
             ],
             [
              0.1111111111111111,
              "#46039f"
             ],
             [
              0.2222222222222222,
              "#7201a8"
             ],
             [
              0.3333333333333333,
              "#9c179e"
             ],
             [
              0.4444444444444444,
              "#bd3786"
             ],
             [
              0.5555555555555556,
              "#d8576b"
             ],
             [
              0.6666666666666666,
              "#ed7953"
             ],
             [
              0.7777777777777778,
              "#fb9f3a"
             ],
             [
              0.8888888888888888,
              "#fdca26"
             ],
             [
              1,
              "#f0f921"
             ]
            ],
            "type": "heatmap"
           }
          ],
          "heatmapgl": [
           {
            "colorbar": {
             "outlinewidth": 0,
             "ticks": ""
            },
            "colorscale": [
             [
              0,
              "#0d0887"
             ],
             [
              0.1111111111111111,
              "#46039f"
             ],
             [
              0.2222222222222222,
              "#7201a8"
             ],
             [
              0.3333333333333333,
              "#9c179e"
             ],
             [
              0.4444444444444444,
              "#bd3786"
             ],
             [
              0.5555555555555556,
              "#d8576b"
             ],
             [
              0.6666666666666666,
              "#ed7953"
             ],
             [
              0.7777777777777778,
              "#fb9f3a"
             ],
             [
              0.8888888888888888,
              "#fdca26"
             ],
             [
              1,
              "#f0f921"
             ]
            ],
            "type": "heatmapgl"
           }
          ],
          "histogram": [
           {
            "marker": {
             "pattern": {
              "fillmode": "overlay",
              "size": 10,
              "solidity": 0.2
             }
            },
            "type": "histogram"
           }
          ],
          "histogram2d": [
           {
            "colorbar": {
             "outlinewidth": 0,
             "ticks": ""
            },
            "colorscale": [
             [
              0,
              "#0d0887"
             ],
             [
              0.1111111111111111,
              "#46039f"
             ],
             [
              0.2222222222222222,
              "#7201a8"
             ],
             [
              0.3333333333333333,
              "#9c179e"
             ],
             [
              0.4444444444444444,
              "#bd3786"
             ],
             [
              0.5555555555555556,
              "#d8576b"
             ],
             [
              0.6666666666666666,
              "#ed7953"
             ],
             [
              0.7777777777777778,
              "#fb9f3a"
             ],
             [
              0.8888888888888888,
              "#fdca26"
             ],
             [
              1,
              "#f0f921"
             ]
            ],
            "type": "histogram2d"
           }
          ],
          "histogram2dcontour": [
           {
            "colorbar": {
             "outlinewidth": 0,
             "ticks": ""
            },
            "colorscale": [
             [
              0,
              "#0d0887"
             ],
             [
              0.1111111111111111,
              "#46039f"
             ],
             [
              0.2222222222222222,
              "#7201a8"
             ],
             [
              0.3333333333333333,
              "#9c179e"
             ],
             [
              0.4444444444444444,
              "#bd3786"
             ],
             [
              0.5555555555555556,
              "#d8576b"
             ],
             [
              0.6666666666666666,
              "#ed7953"
             ],
             [
              0.7777777777777778,
              "#fb9f3a"
             ],
             [
              0.8888888888888888,
              "#fdca26"
             ],
             [
              1,
              "#f0f921"
             ]
            ],
            "type": "histogram2dcontour"
           }
          ],
          "mesh3d": [
           {
            "colorbar": {
             "outlinewidth": 0,
             "ticks": ""
            },
            "type": "mesh3d"
           }
          ],
          "parcoords": [
           {
            "line": {
             "colorbar": {
              "outlinewidth": 0,
              "ticks": ""
             }
            },
            "type": "parcoords"
           }
          ],
          "pie": [
           {
            "automargin": true,
            "type": "pie"
           }
          ],
          "scatter": [
           {
            "fillpattern": {
             "fillmode": "overlay",
             "size": 10,
             "solidity": 0.2
            },
            "type": "scatter"
           }
          ],
          "scatter3d": [
           {
            "line": {
             "colorbar": {
              "outlinewidth": 0,
              "ticks": ""
             }
            },
            "marker": {
             "colorbar": {
              "outlinewidth": 0,
              "ticks": ""
             }
            },
            "type": "scatter3d"
           }
          ],
          "scattercarpet": [
           {
            "marker": {
             "colorbar": {
              "outlinewidth": 0,
              "ticks": ""
             }
            },
            "type": "scattercarpet"
           }
          ],
          "scattergeo": [
           {
            "marker": {
             "colorbar": {
              "outlinewidth": 0,
              "ticks": ""
             }
            },
            "type": "scattergeo"
           }
          ],
          "scattergl": [
           {
            "marker": {
             "colorbar": {
              "outlinewidth": 0,
              "ticks": ""
             }
            },
            "type": "scattergl"
           }
          ],
          "scattermapbox": [
           {
            "marker": {
             "colorbar": {
              "outlinewidth": 0,
              "ticks": ""
             }
            },
            "type": "scattermapbox"
           }
          ],
          "scatterpolar": [
           {
            "marker": {
             "colorbar": {
              "outlinewidth": 0,
              "ticks": ""
             }
            },
            "type": "scatterpolar"
           }
          ],
          "scatterpolargl": [
           {
            "marker": {
             "colorbar": {
              "outlinewidth": 0,
              "ticks": ""
             }
            },
            "type": "scatterpolargl"
           }
          ],
          "scatterternary": [
           {
            "marker": {
             "colorbar": {
              "outlinewidth": 0,
              "ticks": ""
             }
            },
            "type": "scatterternary"
           }
          ],
          "surface": [
           {
            "colorbar": {
             "outlinewidth": 0,
             "ticks": ""
            },
            "colorscale": [
             [
              0,
              "#0d0887"
             ],
             [
              0.1111111111111111,
              "#46039f"
             ],
             [
              0.2222222222222222,
              "#7201a8"
             ],
             [
              0.3333333333333333,
              "#9c179e"
             ],
             [
              0.4444444444444444,
              "#bd3786"
             ],
             [
              0.5555555555555556,
              "#d8576b"
             ],
             [
              0.6666666666666666,
              "#ed7953"
             ],
             [
              0.7777777777777778,
              "#fb9f3a"
             ],
             [
              0.8888888888888888,
              "#fdca26"
             ],
             [
              1,
              "#f0f921"
             ]
            ],
            "type": "surface"
           }
          ],
          "table": [
           {
            "cells": {
             "fill": {
              "color": "#EBF0F8"
             },
             "line": {
              "color": "white"
             }
            },
            "header": {
             "fill": {
              "color": "#C8D4E3"
             },
             "line": {
              "color": "white"
             }
            },
            "type": "table"
           }
          ]
         },
         "layout": {
          "annotationdefaults": {
           "arrowcolor": "#2a3f5f",
           "arrowhead": 0,
           "arrowwidth": 1
          },
          "autotypenumbers": "strict",
          "coloraxis": {
           "colorbar": {
            "outlinewidth": 0,
            "ticks": ""
           }
          },
          "colorscale": {
           "diverging": [
            [
             0,
             "#8e0152"
            ],
            [
             0.1,
             "#c51b7d"
            ],
            [
             0.2,
             "#de77ae"
            ],
            [
             0.3,
             "#f1b6da"
            ],
            [
             0.4,
             "#fde0ef"
            ],
            [
             0.5,
             "#f7f7f7"
            ],
            [
             0.6,
             "#e6f5d0"
            ],
            [
             0.7,
             "#b8e186"
            ],
            [
             0.8,
             "#7fbc41"
            ],
            [
             0.9,
             "#4d9221"
            ],
            [
             1,
             "#276419"
            ]
           ],
           "sequential": [
            [
             0,
             "#0d0887"
            ],
            [
             0.1111111111111111,
             "#46039f"
            ],
            [
             0.2222222222222222,
             "#7201a8"
            ],
            [
             0.3333333333333333,
             "#9c179e"
            ],
            [
             0.4444444444444444,
             "#bd3786"
            ],
            [
             0.5555555555555556,
             "#d8576b"
            ],
            [
             0.6666666666666666,
             "#ed7953"
            ],
            [
             0.7777777777777778,
             "#fb9f3a"
            ],
            [
             0.8888888888888888,
             "#fdca26"
            ],
            [
             1,
             "#f0f921"
            ]
           ],
           "sequentialminus": [
            [
             0,
             "#0d0887"
            ],
            [
             0.1111111111111111,
             "#46039f"
            ],
            [
             0.2222222222222222,
             "#7201a8"
            ],
            [
             0.3333333333333333,
             "#9c179e"
            ],
            [
             0.4444444444444444,
             "#bd3786"
            ],
            [
             0.5555555555555556,
             "#d8576b"
            ],
            [
             0.6666666666666666,
             "#ed7953"
            ],
            [
             0.7777777777777778,
             "#fb9f3a"
            ],
            [
             0.8888888888888888,
             "#fdca26"
            ],
            [
             1,
             "#f0f921"
            ]
           ]
          },
          "colorway": [
           "#636efa",
           "#EF553B",
           "#00cc96",
           "#ab63fa",
           "#FFA15A",
           "#19d3f3",
           "#FF6692",
           "#B6E880",
           "#FF97FF",
           "#FECB52"
          ],
          "font": {
           "color": "#2a3f5f"
          },
          "geo": {
           "bgcolor": "white",
           "lakecolor": "white",
           "landcolor": "#E5ECF6",
           "showlakes": true,
           "showland": true,
           "subunitcolor": "white"
          },
          "hoverlabel": {
           "align": "left"
          },
          "hovermode": "closest",
          "mapbox": {
           "style": "light"
          },
          "paper_bgcolor": "white",
          "plot_bgcolor": "#E5ECF6",
          "polar": {
           "angularaxis": {
            "gridcolor": "white",
            "linecolor": "white",
            "ticks": ""
           },
           "bgcolor": "#E5ECF6",
           "radialaxis": {
            "gridcolor": "white",
            "linecolor": "white",
            "ticks": ""
           }
          },
          "scene": {
           "xaxis": {
            "backgroundcolor": "#E5ECF6",
            "gridcolor": "white",
            "gridwidth": 2,
            "linecolor": "white",
            "showbackground": true,
            "ticks": "",
            "zerolinecolor": "white"
           },
           "yaxis": {
            "backgroundcolor": "#E5ECF6",
            "gridcolor": "white",
            "gridwidth": 2,
            "linecolor": "white",
            "showbackground": true,
            "ticks": "",
            "zerolinecolor": "white"
           },
           "zaxis": {
            "backgroundcolor": "#E5ECF6",
            "gridcolor": "white",
            "gridwidth": 2,
            "linecolor": "white",
            "showbackground": true,
            "ticks": "",
            "zerolinecolor": "white"
           }
          },
          "shapedefaults": {
           "line": {
            "color": "#2a3f5f"
           }
          },
          "ternary": {
           "aaxis": {
            "gridcolor": "white",
            "linecolor": "white",
            "ticks": ""
           },
           "baxis": {
            "gridcolor": "white",
            "linecolor": "white",
            "ticks": ""
           },
           "bgcolor": "#E5ECF6",
           "caxis": {
            "gridcolor": "white",
            "linecolor": "white",
            "ticks": ""
           }
          },
          "title": {
           "x": 0.05
          },
          "xaxis": {
           "automargin": true,
           "gridcolor": "white",
           "linecolor": "white",
           "ticks": "",
           "title": {
            "standoff": 15
           },
           "zerolinecolor": "white",
           "zerolinewidth": 2
          },
          "yaxis": {
           "automargin": true,
           "gridcolor": "white",
           "linecolor": "white",
           "ticks": "",
           "title": {
            "standoff": 15
           },
           "zerolinecolor": "white",
           "zerolinewidth": 2
          }
         }
        },
        "title": {
         "text": "Contour Plot"
        },
        "xaxis": {
         "range": [
          1.7999999999999998,
          72.2
         ],
         "title": {
          "text": "max_depth"
         }
        },
        "yaxis": {
         "range": [
          0.04999999999999993,
          20.95
         ],
         "title": {
          "text": "min_samples_leaf"
         }
        }
       }
      }
     },
     "metadata": {},
     "output_type": "display_data"
    }
   ],
   "source": [
    "vis.plot_contour(study, params=['max_depth', 'min_samples_leaf'])"
   ]
  },
  {
   "cell_type": "code",
   "execution_count": 28,
   "metadata": {},
   "outputs": [],
   "source": [
    "study.trials_dataframe().to_csv('Trials.csv')"
   ]
  },
  {
   "cell_type": "code",
   "execution_count": 29,
   "metadata": {},
   "outputs": [],
   "source": [
    "with mlflow.start_run(run_id=\"38eac4d8cd544c548608bf7c98a24cad\") as run:\n",
    "    mlflow.log_artifact('Hyperparameter_importance.png')\n",
    "    mlflow.log_artifact('Optimization_history.png')\n",
    "    mlflow.log_artifact('Parallel_Coordinate_Plot.png')\n",
    "    mlflow.log_artifact('Plot_contour.png')\n",
    "    mlflow.log_artifact('Contour_plots.png')\n",
    "    mlflow.log_artifact('Trials.csv')"
   ]
  },
  {
   "cell_type": "code",
   "execution_count": 30,
   "metadata": {},
   "outputs": [
    {
     "data": {
      "text/plain": [
       "{'n_estimators': 48,\n",
       " 'max_depth': 23,\n",
       " 'min_samples_split': 3,\n",
       " 'min_samples_leaf': 3}"
      ]
     },
     "execution_count": 30,
     "metadata": {},
     "output_type": "execute_result"
    }
   ],
   "source": [
    "study.best_params"
   ]
  },
  {
   "cell_type": "code",
   "execution_count": 3,
   "metadata": {},
   "outputs": [],
   "source": [
    "best_model = RandomForestRegressor(n_estimators= 48,\n",
    " max_depth= 23,\n",
    " min_samples_split= 3,\n",
    " min_samples_leaf=3)"
   ]
  },
  {
   "cell_type": "code",
   "execution_count": 9,
   "metadata": {},
   "outputs": [
    {
     "data": {
      "text/html": [
       "<style>#sk-container-id-1 {\n",
       "  /* Definition of color scheme common for light and dark mode */\n",
       "  --sklearn-color-text: black;\n",
       "  --sklearn-color-line: gray;\n",
       "  /* Definition of color scheme for unfitted estimators */\n",
       "  --sklearn-color-unfitted-level-0: #fff5e6;\n",
       "  --sklearn-color-unfitted-level-1: #f6e4d2;\n",
       "  --sklearn-color-unfitted-level-2: #ffe0b3;\n",
       "  --sklearn-color-unfitted-level-3: chocolate;\n",
       "  /* Definition of color scheme for fitted estimators */\n",
       "  --sklearn-color-fitted-level-0: #f0f8ff;\n",
       "  --sklearn-color-fitted-level-1: #d4ebff;\n",
       "  --sklearn-color-fitted-level-2: #b3dbfd;\n",
       "  --sklearn-color-fitted-level-3: cornflowerblue;\n",
       "\n",
       "  /* Specific color for light theme */\n",
       "  --sklearn-color-text-on-default-background: var(--sg-text-color, var(--theme-code-foreground, var(--jp-content-font-color1, black)));\n",
       "  --sklearn-color-background: var(--sg-background-color, var(--theme-background, var(--jp-layout-color0, white)));\n",
       "  --sklearn-color-border-box: var(--sg-text-color, var(--theme-code-foreground, var(--jp-content-font-color1, black)));\n",
       "  --sklearn-color-icon: #696969;\n",
       "\n",
       "  @media (prefers-color-scheme: dark) {\n",
       "    /* Redefinition of color scheme for dark theme */\n",
       "    --sklearn-color-text-on-default-background: var(--sg-text-color, var(--theme-code-foreground, var(--jp-content-font-color1, white)));\n",
       "    --sklearn-color-background: var(--sg-background-color, var(--theme-background, var(--jp-layout-color0, #111)));\n",
       "    --sklearn-color-border-box: var(--sg-text-color, var(--theme-code-foreground, var(--jp-content-font-color1, white)));\n",
       "    --sklearn-color-icon: #878787;\n",
       "  }\n",
       "}\n",
       "\n",
       "#sk-container-id-1 {\n",
       "  color: var(--sklearn-color-text);\n",
       "}\n",
       "\n",
       "#sk-container-id-1 pre {\n",
       "  padding: 0;\n",
       "}\n",
       "\n",
       "#sk-container-id-1 input.sk-hidden--visually {\n",
       "  border: 0;\n",
       "  clip: rect(1px 1px 1px 1px);\n",
       "  clip: rect(1px, 1px, 1px, 1px);\n",
       "  height: 1px;\n",
       "  margin: -1px;\n",
       "  overflow: hidden;\n",
       "  padding: 0;\n",
       "  position: absolute;\n",
       "  width: 1px;\n",
       "}\n",
       "\n",
       "#sk-container-id-1 div.sk-dashed-wrapped {\n",
       "  border: 1px dashed var(--sklearn-color-line);\n",
       "  margin: 0 0.4em 0.5em 0.4em;\n",
       "  box-sizing: border-box;\n",
       "  padding-bottom: 0.4em;\n",
       "  background-color: var(--sklearn-color-background);\n",
       "}\n",
       "\n",
       "#sk-container-id-1 div.sk-container {\n",
       "  /* jupyter's `normalize.less` sets `[hidden] { display: none; }`\n",
       "     but bootstrap.min.css set `[hidden] { display: none !important; }`\n",
       "     so we also need the `!important` here to be able to override the\n",
       "     default hidden behavior on the sphinx rendered scikit-learn.org.\n",
       "     See: https://github.com/scikit-learn/scikit-learn/issues/21755 */\n",
       "  display: inline-block !important;\n",
       "  position: relative;\n",
       "}\n",
       "\n",
       "#sk-container-id-1 div.sk-text-repr-fallback {\n",
       "  display: none;\n",
       "}\n",
       "\n",
       "div.sk-parallel-item,\n",
       "div.sk-serial,\n",
       "div.sk-item {\n",
       "  /* draw centered vertical line to link estimators */\n",
       "  background-image: linear-gradient(var(--sklearn-color-text-on-default-background), var(--sklearn-color-text-on-default-background));\n",
       "  background-size: 2px 100%;\n",
       "  background-repeat: no-repeat;\n",
       "  background-position: center center;\n",
       "}\n",
       "\n",
       "/* Parallel-specific style estimator block */\n",
       "\n",
       "#sk-container-id-1 div.sk-parallel-item::after {\n",
       "  content: \"\";\n",
       "  width: 100%;\n",
       "  border-bottom: 2px solid var(--sklearn-color-text-on-default-background);\n",
       "  flex-grow: 1;\n",
       "}\n",
       "\n",
       "#sk-container-id-1 div.sk-parallel {\n",
       "  display: flex;\n",
       "  align-items: stretch;\n",
       "  justify-content: center;\n",
       "  background-color: var(--sklearn-color-background);\n",
       "  position: relative;\n",
       "}\n",
       "\n",
       "#sk-container-id-1 div.sk-parallel-item {\n",
       "  display: flex;\n",
       "  flex-direction: column;\n",
       "}\n",
       "\n",
       "#sk-container-id-1 div.sk-parallel-item:first-child::after {\n",
       "  align-self: flex-end;\n",
       "  width: 50%;\n",
       "}\n",
       "\n",
       "#sk-container-id-1 div.sk-parallel-item:last-child::after {\n",
       "  align-self: flex-start;\n",
       "  width: 50%;\n",
       "}\n",
       "\n",
       "#sk-container-id-1 div.sk-parallel-item:only-child::after {\n",
       "  width: 0;\n",
       "}\n",
       "\n",
       "/* Serial-specific style estimator block */\n",
       "\n",
       "#sk-container-id-1 div.sk-serial {\n",
       "  display: flex;\n",
       "  flex-direction: column;\n",
       "  align-items: center;\n",
       "  background-color: var(--sklearn-color-background);\n",
       "  padding-right: 1em;\n",
       "  padding-left: 1em;\n",
       "}\n",
       "\n",
       "\n",
       "/* Toggleable style: style used for estimator/Pipeline/ColumnTransformer box that is\n",
       "clickable and can be expanded/collapsed.\n",
       "- Pipeline and ColumnTransformer use this feature and define the default style\n",
       "- Estimators will overwrite some part of the style using the `sk-estimator` class\n",
       "*/\n",
       "\n",
       "/* Pipeline and ColumnTransformer style (default) */\n",
       "\n",
       "#sk-container-id-1 div.sk-toggleable {\n",
       "  /* Default theme specific background. It is overwritten whether we have a\n",
       "  specific estimator or a Pipeline/ColumnTransformer */\n",
       "  background-color: var(--sklearn-color-background);\n",
       "}\n",
       "\n",
       "/* Toggleable label */\n",
       "#sk-container-id-1 label.sk-toggleable__label {\n",
       "  cursor: pointer;\n",
       "  display: block;\n",
       "  width: 100%;\n",
       "  margin-bottom: 0;\n",
       "  padding: 0.5em;\n",
       "  box-sizing: border-box;\n",
       "  text-align: center;\n",
       "}\n",
       "\n",
       "#sk-container-id-1 label.sk-toggleable__label-arrow:before {\n",
       "  /* Arrow on the left of the label */\n",
       "  content: \"▸\";\n",
       "  float: left;\n",
       "  margin-right: 0.25em;\n",
       "  color: var(--sklearn-color-icon);\n",
       "}\n",
       "\n",
       "#sk-container-id-1 label.sk-toggleable__label-arrow:hover:before {\n",
       "  color: var(--sklearn-color-text);\n",
       "}\n",
       "\n",
       "/* Toggleable content - dropdown */\n",
       "\n",
       "#sk-container-id-1 div.sk-toggleable__content {\n",
       "  max-height: 0;\n",
       "  max-width: 0;\n",
       "  overflow: hidden;\n",
       "  text-align: left;\n",
       "  /* unfitted */\n",
       "  background-color: var(--sklearn-color-unfitted-level-0);\n",
       "}\n",
       "\n",
       "#sk-container-id-1 div.sk-toggleable__content.fitted {\n",
       "  /* fitted */\n",
       "  background-color: var(--sklearn-color-fitted-level-0);\n",
       "}\n",
       "\n",
       "#sk-container-id-1 div.sk-toggleable__content pre {\n",
       "  margin: 0.2em;\n",
       "  border-radius: 0.25em;\n",
       "  color: var(--sklearn-color-text);\n",
       "  /* unfitted */\n",
       "  background-color: var(--sklearn-color-unfitted-level-0);\n",
       "}\n",
       "\n",
       "#sk-container-id-1 div.sk-toggleable__content.fitted pre {\n",
       "  /* unfitted */\n",
       "  background-color: var(--sklearn-color-fitted-level-0);\n",
       "}\n",
       "\n",
       "#sk-container-id-1 input.sk-toggleable__control:checked~div.sk-toggleable__content {\n",
       "  /* Expand drop-down */\n",
       "  max-height: 200px;\n",
       "  max-width: 100%;\n",
       "  overflow: auto;\n",
       "}\n",
       "\n",
       "#sk-container-id-1 input.sk-toggleable__control:checked~label.sk-toggleable__label-arrow:before {\n",
       "  content: \"▾\";\n",
       "}\n",
       "\n",
       "/* Pipeline/ColumnTransformer-specific style */\n",
       "\n",
       "#sk-container-id-1 div.sk-label input.sk-toggleable__control:checked~label.sk-toggleable__label {\n",
       "  color: var(--sklearn-color-text);\n",
       "  background-color: var(--sklearn-color-unfitted-level-2);\n",
       "}\n",
       "\n",
       "#sk-container-id-1 div.sk-label.fitted input.sk-toggleable__control:checked~label.sk-toggleable__label {\n",
       "  background-color: var(--sklearn-color-fitted-level-2);\n",
       "}\n",
       "\n",
       "/* Estimator-specific style */\n",
       "\n",
       "/* Colorize estimator box */\n",
       "#sk-container-id-1 div.sk-estimator input.sk-toggleable__control:checked~label.sk-toggleable__label {\n",
       "  /* unfitted */\n",
       "  background-color: var(--sklearn-color-unfitted-level-2);\n",
       "}\n",
       "\n",
       "#sk-container-id-1 div.sk-estimator.fitted input.sk-toggleable__control:checked~label.sk-toggleable__label {\n",
       "  /* fitted */\n",
       "  background-color: var(--sklearn-color-fitted-level-2);\n",
       "}\n",
       "\n",
       "#sk-container-id-1 div.sk-label label.sk-toggleable__label,\n",
       "#sk-container-id-1 div.sk-label label {\n",
       "  /* The background is the default theme color */\n",
       "  color: var(--sklearn-color-text-on-default-background);\n",
       "}\n",
       "\n",
       "/* On hover, darken the color of the background */\n",
       "#sk-container-id-1 div.sk-label:hover label.sk-toggleable__label {\n",
       "  color: var(--sklearn-color-text);\n",
       "  background-color: var(--sklearn-color-unfitted-level-2);\n",
       "}\n",
       "\n",
       "/* Label box, darken color on hover, fitted */\n",
       "#sk-container-id-1 div.sk-label.fitted:hover label.sk-toggleable__label.fitted {\n",
       "  color: var(--sklearn-color-text);\n",
       "  background-color: var(--sklearn-color-fitted-level-2);\n",
       "}\n",
       "\n",
       "/* Estimator label */\n",
       "\n",
       "#sk-container-id-1 div.sk-label label {\n",
       "  font-family: monospace;\n",
       "  font-weight: bold;\n",
       "  display: inline-block;\n",
       "  line-height: 1.2em;\n",
       "}\n",
       "\n",
       "#sk-container-id-1 div.sk-label-container {\n",
       "  text-align: center;\n",
       "}\n",
       "\n",
       "/* Estimator-specific */\n",
       "#sk-container-id-1 div.sk-estimator {\n",
       "  font-family: monospace;\n",
       "  border: 1px dotted var(--sklearn-color-border-box);\n",
       "  border-radius: 0.25em;\n",
       "  box-sizing: border-box;\n",
       "  margin-bottom: 0.5em;\n",
       "  /* unfitted */\n",
       "  background-color: var(--sklearn-color-unfitted-level-0);\n",
       "}\n",
       "\n",
       "#sk-container-id-1 div.sk-estimator.fitted {\n",
       "  /* fitted */\n",
       "  background-color: var(--sklearn-color-fitted-level-0);\n",
       "}\n",
       "\n",
       "/* on hover */\n",
       "#sk-container-id-1 div.sk-estimator:hover {\n",
       "  /* unfitted */\n",
       "  background-color: var(--sklearn-color-unfitted-level-2);\n",
       "}\n",
       "\n",
       "#sk-container-id-1 div.sk-estimator.fitted:hover {\n",
       "  /* fitted */\n",
       "  background-color: var(--sklearn-color-fitted-level-2);\n",
       "}\n",
       "\n",
       "/* Specification for estimator info (e.g. \"i\" and \"?\") */\n",
       "\n",
       "/* Common style for \"i\" and \"?\" */\n",
       "\n",
       ".sk-estimator-doc-link,\n",
       "a:link.sk-estimator-doc-link,\n",
       "a:visited.sk-estimator-doc-link {\n",
       "  float: right;\n",
       "  font-size: smaller;\n",
       "  line-height: 1em;\n",
       "  font-family: monospace;\n",
       "  background-color: var(--sklearn-color-background);\n",
       "  border-radius: 1em;\n",
       "  height: 1em;\n",
       "  width: 1em;\n",
       "  text-decoration: none !important;\n",
       "  margin-left: 1ex;\n",
       "  /* unfitted */\n",
       "  border: var(--sklearn-color-unfitted-level-1) 1pt solid;\n",
       "  color: var(--sklearn-color-unfitted-level-1);\n",
       "}\n",
       "\n",
       ".sk-estimator-doc-link.fitted,\n",
       "a:link.sk-estimator-doc-link.fitted,\n",
       "a:visited.sk-estimator-doc-link.fitted {\n",
       "  /* fitted */\n",
       "  border: var(--sklearn-color-fitted-level-1) 1pt solid;\n",
       "  color: var(--sklearn-color-fitted-level-1);\n",
       "}\n",
       "\n",
       "/* On hover */\n",
       "div.sk-estimator:hover .sk-estimator-doc-link:hover,\n",
       ".sk-estimator-doc-link:hover,\n",
       "div.sk-label-container:hover .sk-estimator-doc-link:hover,\n",
       ".sk-estimator-doc-link:hover {\n",
       "  /* unfitted */\n",
       "  background-color: var(--sklearn-color-unfitted-level-3);\n",
       "  color: var(--sklearn-color-background);\n",
       "  text-decoration: none;\n",
       "}\n",
       "\n",
       "div.sk-estimator.fitted:hover .sk-estimator-doc-link.fitted:hover,\n",
       ".sk-estimator-doc-link.fitted:hover,\n",
       "div.sk-label-container:hover .sk-estimator-doc-link.fitted:hover,\n",
       ".sk-estimator-doc-link.fitted:hover {\n",
       "  /* fitted */\n",
       "  background-color: var(--sklearn-color-fitted-level-3);\n",
       "  color: var(--sklearn-color-background);\n",
       "  text-decoration: none;\n",
       "}\n",
       "\n",
       "/* Span, style for the box shown on hovering the info icon */\n",
       ".sk-estimator-doc-link span {\n",
       "  display: none;\n",
       "  z-index: 9999;\n",
       "  position: relative;\n",
       "  font-weight: normal;\n",
       "  right: .2ex;\n",
       "  padding: .5ex;\n",
       "  margin: .5ex;\n",
       "  width: min-content;\n",
       "  min-width: 20ex;\n",
       "  max-width: 50ex;\n",
       "  color: var(--sklearn-color-text);\n",
       "  box-shadow: 2pt 2pt 4pt #999;\n",
       "  /* unfitted */\n",
       "  background: var(--sklearn-color-unfitted-level-0);\n",
       "  border: .5pt solid var(--sklearn-color-unfitted-level-3);\n",
       "}\n",
       "\n",
       ".sk-estimator-doc-link.fitted span {\n",
       "  /* fitted */\n",
       "  background: var(--sklearn-color-fitted-level-0);\n",
       "  border: var(--sklearn-color-fitted-level-3);\n",
       "}\n",
       "\n",
       ".sk-estimator-doc-link:hover span {\n",
       "  display: block;\n",
       "}\n",
       "\n",
       "/* \"?\"-specific style due to the `<a>` HTML tag */\n",
       "\n",
       "#sk-container-id-1 a.estimator_doc_link {\n",
       "  float: right;\n",
       "  font-size: 1rem;\n",
       "  line-height: 1em;\n",
       "  font-family: monospace;\n",
       "  background-color: var(--sklearn-color-background);\n",
       "  border-radius: 1rem;\n",
       "  height: 1rem;\n",
       "  width: 1rem;\n",
       "  text-decoration: none;\n",
       "  /* unfitted */\n",
       "  color: var(--sklearn-color-unfitted-level-1);\n",
       "  border: var(--sklearn-color-unfitted-level-1) 1pt solid;\n",
       "}\n",
       "\n",
       "#sk-container-id-1 a.estimator_doc_link.fitted {\n",
       "  /* fitted */\n",
       "  border: var(--sklearn-color-fitted-level-1) 1pt solid;\n",
       "  color: var(--sklearn-color-fitted-level-1);\n",
       "}\n",
       "\n",
       "/* On hover */\n",
       "#sk-container-id-1 a.estimator_doc_link:hover {\n",
       "  /* unfitted */\n",
       "  background-color: var(--sklearn-color-unfitted-level-3);\n",
       "  color: var(--sklearn-color-background);\n",
       "  text-decoration: none;\n",
       "}\n",
       "\n",
       "#sk-container-id-1 a.estimator_doc_link.fitted:hover {\n",
       "  /* fitted */\n",
       "  background-color: var(--sklearn-color-fitted-level-3);\n",
       "}\n",
       "</style><div id=\"sk-container-id-1\" class=\"sk-top-container\"><div class=\"sk-text-repr-fallback\"><pre>RandomForestRegressor(max_depth=23, min_samples_leaf=3, min_samples_split=3,\n",
       "                      n_estimators=48)</pre><b>In a Jupyter environment, please rerun this cell to show the HTML representation or trust the notebook. <br />On GitHub, the HTML representation is unable to render, please try loading this page with nbviewer.org.</b></div><div class=\"sk-container\" hidden><div class=\"sk-item\"><div class=\"sk-estimator fitted sk-toggleable\"><input class=\"sk-toggleable__control sk-hidden--visually\" id=\"sk-estimator-id-1\" type=\"checkbox\" checked><label for=\"sk-estimator-id-1\" class=\"sk-toggleable__label fitted sk-toggleable__label-arrow fitted\">&nbsp;&nbsp;RandomForestRegressor<a class=\"sk-estimator-doc-link fitted\" rel=\"noreferrer\" target=\"_blank\" href=\"https://scikit-learn.org/1.4/modules/generated/sklearn.ensemble.RandomForestRegressor.html\">?<span>Documentation for RandomForestRegressor</span></a><span class=\"sk-estimator-doc-link fitted\">i<span>Fitted</span></span></label><div class=\"sk-toggleable__content fitted\"><pre>RandomForestRegressor(max_depth=23, min_samples_leaf=3, min_samples_split=3,\n",
       "                      n_estimators=48)</pre></div> </div></div></div></div>"
      ],
      "text/plain": [
       "RandomForestRegressor(max_depth=23, min_samples_leaf=3, min_samples_split=3,\n",
       "                      n_estimators=48)"
      ]
     },
     "execution_count": 9,
     "metadata": {},
     "output_type": "execute_result"
    }
   ],
   "source": [
    "best_model.fit(X_train, y_train)"
   ]
  },
  {
   "cell_type": "code",
   "execution_count": 16,
   "metadata": {},
   "outputs": [
    {
     "data": {
      "text/plain": [
       "['random_forest.pkl']"
      ]
     },
     "execution_count": 16,
     "metadata": {},
     "output_type": "execute_result"
    }
   ],
   "source": [
    "joblib.dump(best_model, \"random_forest.pkl\") "
   ]
  },
  {
   "cell_type": "code",
   "execution_count": null,
   "metadata": {},
   "outputs": [],
   "source": [
    "with mlflow.start_run(run_id=\"38eac4d8cd544c548608bf7c98a24cad\") as run:\n",
    "    mlflow.log_artifact('random_forest.pkl')"
   ]
  },
  {
   "cell_type": "code",
   "execution_count": 17,
   "metadata": {},
   "outputs": [
    {
     "name": "stderr",
     "output_type": "stream",
     "text": [
      "Successfully registered model 'random_forest_model'.\n",
      "2024/05/29 15:12:57 INFO mlflow.store.model_registry.abstract_store: Waiting up to 300 seconds for model version to finish creation. Model name: random_forest_model, version 1\n",
      "Created version '1' of model 'random_forest_model'.\n"
     ]
    }
   ],
   "source": [
    "with mlflow.start_run(run_id=\"38eac4d8cd544c548608bf7c98a24cad\") as run:\n",
    "    mlflow.sklearn.log_model(\n",
    "            sk_model=best_model,\n",
    "            artifact_path=\"random_forest.pkl\",\n",
    "            registered_model_name=\"random_forest_model\",\n",
    "        )"
   ]
  },
  {
   "cell_type": "code",
   "execution_count": 10,
   "metadata": {},
   "outputs": [],
   "source": [
    "y_pred = best_model.predict(X_test)"
   ]
  },
  {
   "cell_type": "code",
   "execution_count": 11,
   "metadata": {},
   "outputs": [
    {
     "data": {
      "image/png": "[encoded data removed]",
      "text/plain": [
       "<Figure size 900x900 with 1 Axes>"
      ]
     },
     "metadata": {},
     "output_type": "display_data"
    }
   ],
   "source": [
    "fig_1,ax = plt.subplots(figsize=(9,9))\n",
    "ax.grid()\n",
    "ax.scatter(y_pred, y_test)\n",
    "ax.set_ylabel(r'$y_{test}$')\n",
    "ax.set_xlabel(r'$y_{pred}$')\n",
    "plt.title('y_test vs y_pred')\n",
    "plt.show()"
   ]
  },
  {
   "cell_type": "code",
   "execution_count": 37,
   "metadata": {},
   "outputs": [],
   "source": [
    "error = np.abs(y_test - y_pred)"
   ]
  },
  {
   "cell_type": "code",
   "execution_count": 38,
   "metadata": {},
   "outputs": [
    {
     "data": {
      "image/png": "[encoded data removed]",
      "text/plain": [
       "<Figure size 900x900 with 1 Axes>"
      ]
     },
     "metadata": {},
     "output_type": "display_data"
    }
   ],
   "source": [
    "fig_2,ax = plt.subplots(figsize=(9,9))\n",
    "ax.grid()\n",
    "ax.boxplot(error)\n",
    "plt.title('Error boxplot')\n",
    "plt.show()"
   ]
  },
  {
   "cell_type": "code",
   "execution_count": 42,
   "metadata": {},
   "outputs": [
    {
     "data": {
      "image/png": "[encoded data removed]",
      "text/plain": [
       "<Figure size 900x1500 with 1 Axes>"
      ]
     },
     "metadata": {},
     "output_type": "display_data"
    }
   ],
   "source": [
    "fig_3,ax = plt.subplots(figsize=(9,15))\n",
    "ax.grid()\n",
    "ax.violinplot(error)\n",
    "plt.title('Error violin plot')\n",
    "plt.show()"
   ]
  },
  {
   "cell_type": "code",
   "execution_count": 95,
   "metadata": {},
   "outputs": [],
   "source": [
    "mlflow.log_figure(fig_3, artifact_file=\"Error_violinplot.png\")"
   ]
  },
  {
   "cell_type": "code",
   "execution_count": 43,
   "metadata": {},
   "outputs": [
    {
     "name": "stdout",
     "output_type": "stream",
     "text": [
      "El error máximo fué 295.5879638879637\n",
      "El error mínimo fué 0.0010651963780219376\n",
      "El error promedio fué 22.464187154089363\n",
      "La desviación estándar del error fue 26.220167853093884\n"
     ]
    }
   ],
   "source": [
    "print(f'El error máximo fué {np.max(error)}')\n",
    "print(f'El error mínimo fué {np.min(error)}')\n",
    "print(f'El error promedio fué {np.mean(error)}')\n",
    "print(f'La desviación estándar del error fue {np.std(error)}')"
   ]
  },
  {
   "cell_type": "code",
   "execution_count": 44,
   "metadata": {},
   "outputs": [
    {
     "data": {
      "text/plain": [
       "0.009365561601741904"
      ]
     },
     "execution_count": 44,
     "metadata": {},
     "output_type": "execute_result"
    }
   ],
   "source": [
    "mean_absolute_percentage_error(y_pred, y_test)"
   ]
  },
  {
   "cell_type": "code",
   "execution_count": 45,
   "metadata": {},
   "outputs": [],
   "source": [
    "with mlflow.start_run(run_id=\"38eac4d8cd544c548608bf7c98a24cad\") as run:\n",
    "    mlflow.log_artifact('y_test_y_pred.png')\n",
    "    mlflow.log_artifact('error_boxplot.png')\n",
    "    mlflow.log_artifact('violin_plot.png')\n",
    "    mlflow.log_metric(\"final_test_mape\", mean_absolute_percentage_error(y_pred, y_test))\n",
    "    mlflow.log_metric(\"final_mean_absolute_error\", np.mean(error))"
   ]
  },
  {
   "cell_type": "code",
   "execution_count": 46,
   "metadata": {},
   "outputs": [],
   "source": [
    "mlflow.end_run()"
   ]
  }
 ],
 "metadata": {
  "kernelspec": {
   "display_name": "Python 3",
   "language": "python",
   "name": "python3"
  },
  "language_info": {
   "codemirror_mode": {
    "name": "ipython",
    "version": 3
   },
   "file_extension": ".py",
   "mimetype": "text/x-python",
   "name": "python",
   "nbconvert_exporter": "python",
   "pygments_lexer": "ipython3",
   "version": "3.12.1"
  }
 },
 "nbformat": 4,
 "nbformat_minor": 2
}
