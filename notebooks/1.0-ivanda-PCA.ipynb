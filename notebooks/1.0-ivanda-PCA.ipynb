{
 "cells": [
  {
   "cell_type": "code",
   "execution_count": 35,
   "metadata": {},
   "outputs": [],
   "source": [
    "import pandas as pd \n",
    "import numpy as np\n",
    "import matplotlib.pyplot as plt\n",
    "\n",
    "from sklearn.decomposition import PCA\n",
    "from sklearn.preprocessing import StandardScaler\n",
    "from sklearn.pipeline import Pipeline"
   ]
  },
  {
   "cell_type": "markdown",
   "metadata": {},
   "source": [
    "Leemos los datos ya procesados de processed_data_energy.csv."
   ]
  },
  {
   "cell_type": "code",
   "execution_count": 23,
   "metadata": {},
   "outputs": [
    {
     "data": {
      "text/html": [
       "<div>\n",
       "<style scoped>\n",
       "    .dataframe tbody tr th:only-of-type {\n",
       "        vertical-align: middle;\n",
       "    }\n",
       "\n",
       "    .dataframe tbody tr th {\n",
       "        vertical-align: top;\n",
       "    }\n",
       "\n",
       "    .dataframe thead th {\n",
       "        text-align: right;\n",
       "    }\n",
       "</style>\n",
       "<table border=\"1\" class=\"dataframe\">\n",
       "  <thead>\n",
       "    <tr style=\"text-align: right;\">\n",
       "      <th></th>\n",
       "      <th>hora</th>\n",
       "      <th>dia</th>\n",
       "      <th>mes</th>\n",
       "      <th>anio</th>\n",
       "      <th>tmax-cab</th>\n",
       "      <th>tmax-hmo</th>\n",
       "      <th>tmax-obr</th>\n",
       "      <th>tmax-lmo</th>\n",
       "      <th>tmax-cul</th>\n",
       "      <th>tmin-cab</th>\n",
       "      <th>...</th>\n",
       "      <th>martes_postfestivo</th>\n",
       "      <th>semana_santa</th>\n",
       "      <th>1_mayo</th>\n",
       "      <th>10_mayo</th>\n",
       "      <th>16_sep</th>\n",
       "      <th>2_nov.</th>\n",
       "      <th>pre-navidad_y_new_year</th>\n",
       "      <th>navidad_y_new_year</th>\n",
       "      <th>post-navidad_y_new_year</th>\n",
       "      <th>demanda_energia</th>\n",
       "    </tr>\n",
       "  </thead>\n",
       "  <tbody>\n",
       "    <tr>\n",
       "      <th>0</th>\n",
       "      <td>0</td>\n",
       "      <td>1</td>\n",
       "      <td>1</td>\n",
       "      <td>2007</td>\n",
       "      <td>21.0</td>\n",
       "      <td>22.0</td>\n",
       "      <td>25.0</td>\n",
       "      <td>30.0</td>\n",
       "      <td>29.0</td>\n",
       "      <td>2.0</td>\n",
       "      <td>...</td>\n",
       "      <td>0</td>\n",
       "      <td>0</td>\n",
       "      <td>0</td>\n",
       "      <td>0</td>\n",
       "      <td>0</td>\n",
       "      <td>0</td>\n",
       "      <td>0</td>\n",
       "      <td>1</td>\n",
       "      <td>0</td>\n",
       "      <td>1394</td>\n",
       "    </tr>\n",
       "    <tr>\n",
       "      <th>1</th>\n",
       "      <td>1</td>\n",
       "      <td>1</td>\n",
       "      <td>1</td>\n",
       "      <td>2007</td>\n",
       "      <td>21.0</td>\n",
       "      <td>22.0</td>\n",
       "      <td>25.0</td>\n",
       "      <td>30.0</td>\n",
       "      <td>29.0</td>\n",
       "      <td>2.0</td>\n",
       "      <td>...</td>\n",
       "      <td>0</td>\n",
       "      <td>0</td>\n",
       "      <td>0</td>\n",
       "      <td>0</td>\n",
       "      <td>0</td>\n",
       "      <td>0</td>\n",
       "      <td>0</td>\n",
       "      <td>1</td>\n",
       "      <td>0</td>\n",
       "      <td>1297</td>\n",
       "    </tr>\n",
       "    <tr>\n",
       "      <th>2</th>\n",
       "      <td>2</td>\n",
       "      <td>1</td>\n",
       "      <td>1</td>\n",
       "      <td>2007</td>\n",
       "      <td>21.0</td>\n",
       "      <td>22.0</td>\n",
       "      <td>25.0</td>\n",
       "      <td>30.0</td>\n",
       "      <td>29.0</td>\n",
       "      <td>2.0</td>\n",
       "      <td>...</td>\n",
       "      <td>0</td>\n",
       "      <td>0</td>\n",
       "      <td>0</td>\n",
       "      <td>0</td>\n",
       "      <td>0</td>\n",
       "      <td>0</td>\n",
       "      <td>0</td>\n",
       "      <td>1</td>\n",
       "      <td>0</td>\n",
       "      <td>1255</td>\n",
       "    </tr>\n",
       "    <tr>\n",
       "      <th>3</th>\n",
       "      <td>3</td>\n",
       "      <td>1</td>\n",
       "      <td>1</td>\n",
       "      <td>2007</td>\n",
       "      <td>21.0</td>\n",
       "      <td>22.0</td>\n",
       "      <td>25.0</td>\n",
       "      <td>30.0</td>\n",
       "      <td>29.0</td>\n",
       "      <td>2.0</td>\n",
       "      <td>...</td>\n",
       "      <td>0</td>\n",
       "      <td>0</td>\n",
       "      <td>0</td>\n",
       "      <td>0</td>\n",
       "      <td>0</td>\n",
       "      <td>0</td>\n",
       "      <td>0</td>\n",
       "      <td>1</td>\n",
       "      <td>0</td>\n",
       "      <td>1222</td>\n",
       "    </tr>\n",
       "    <tr>\n",
       "      <th>4</th>\n",
       "      <td>4</td>\n",
       "      <td>1</td>\n",
       "      <td>1</td>\n",
       "      <td>2007</td>\n",
       "      <td>21.0</td>\n",
       "      <td>22.0</td>\n",
       "      <td>25.0</td>\n",
       "      <td>30.0</td>\n",
       "      <td>29.0</td>\n",
       "      <td>2.0</td>\n",
       "      <td>...</td>\n",
       "      <td>0</td>\n",
       "      <td>0</td>\n",
       "      <td>0</td>\n",
       "      <td>0</td>\n",
       "      <td>0</td>\n",
       "      <td>0</td>\n",
       "      <td>0</td>\n",
       "      <td>1</td>\n",
       "      <td>0</td>\n",
       "      <td>1168</td>\n",
       "    </tr>\n",
       "  </tbody>\n",
       "</table>\n",
       "<p>5 rows × 29 columns</p>\n",
       "</div>"
      ],
      "text/plain": [
       "   hora  dia  mes  anio  tmax-cab  tmax-hmo  tmax-obr  tmax-lmo  tmax-cul  \\\n",
       "0     0    1    1  2007      21.0      22.0      25.0      30.0      29.0   \n",
       "1     1    1    1  2007      21.0      22.0      25.0      30.0      29.0   \n",
       "2     2    1    1  2007      21.0      22.0      25.0      30.0      29.0   \n",
       "3     3    1    1  2007      21.0      22.0      25.0      30.0      29.0   \n",
       "4     4    1    1  2007      21.0      22.0      25.0      30.0      29.0   \n",
       "\n",
       "   tmin-cab  ...  martes_postfestivo  semana_santa  1_mayo  10_mayo  16_sep  \\\n",
       "0       2.0  ...                   0             0       0        0       0   \n",
       "1       2.0  ...                   0             0       0        0       0   \n",
       "2       2.0  ...                   0             0       0        0       0   \n",
       "3       2.0  ...                   0             0       0        0       0   \n",
       "4       2.0  ...                   0             0       0        0       0   \n",
       "\n",
       "   2_nov.  pre-navidad_y_new_year  navidad_y_new_year  \\\n",
       "0       0                       0                   1   \n",
       "1       0                       0                   1   \n",
       "2       0                       0                   1   \n",
       "3       0                       0                   1   \n",
       "4       0                       0                   1   \n",
       "\n",
       "   post-navidad_y_new_year  demanda_energia  \n",
       "0                        0             1394  \n",
       "1                        0             1297  \n",
       "2                        0             1255  \n",
       "3                        0             1222  \n",
       "4                        0             1168  \n",
       "\n",
       "[5 rows x 29 columns]"
      ]
     },
     "execution_count": 23,
     "metadata": {},
     "output_type": "execute_result"
    }
   ],
   "source": [
    "processed_path = '../data/processed/processed_data_energy.csv'\n",
    "\n",
    "# Leemos el csv\n",
    "df = pd.read_csv(processed_path)\n",
    "df.head()"
   ]
  },
  {
   "cell_type": "code",
   "execution_count": 24,
   "metadata": {},
   "outputs": [
    {
     "data": {
      "text/plain": [
       "Index(['hora', 'dia', 'mes', 'anio', 'tmax-cab', 'tmax-hmo', 'tmax-obr',\n",
       "       'tmax-lmo', 'tmax-cul', 'tmin-cab', 'tmin-hmo', 'tmin-obr', 'tmin-lmo',\n",
       "       'tmin-cul', 'prec_hmo_mm', 'prec_obr_mm', 'prec_lmo_mm', 'prec_cul_mm',\n",
       "       'lunes_festivo', 'martes_postfestivo', 'semana_santa', '1_mayo',\n",
       "       '10_mayo', '16_sep', '2_nov.', 'pre-navidad_y_new_year',\n",
       "       'navidad_y_new_year', 'post-navidad_y_new_year', 'demanda_energia'],\n",
       "      dtype='object')"
      ]
     },
     "execution_count": 24,
     "metadata": {},
     "output_type": "execute_result"
    }
   ],
   "source": [
    "df.columns"
   ]
  },
  {
   "cell_type": "markdown",
   "metadata": {},
   "source": [
    "Embebemos las columnas provenientes de la fecha en un mismo dato datetime. Cambiamos los nombres de anio, mes, dia y hora a year, month, day, hour; esto nos facilita el trabajo de embeber estos datos a una variable datetime, con la función de pandas to_datetime(), ya que esta función toma estos nombres para incoporarlos. Posteriormente, eliminamos estas columnas."
   ]
  },
  {
   "cell_type": "code",
   "execution_count": 25,
   "metadata": {},
   "outputs": [],
   "source": [
    "df.rename(columns={\"anio\": \"year\", \"mes\": \"month\", \"dia\": \"day\", \"hora\": \"hour\"}, inplace=True)\n",
    "df[\"datetime\"] = pd.to_datetime(df[[\"year\", \"month\", \"day\", \"hour\"]])\n",
    "\n",
    "#borramos los valores que ya fueron embebidos en datetime\n",
    "df.drop([\"year\", \"month\", \"day\", \"hour\"], axis=1, inplace=True)"
   ]
  },
  {
   "cell_type": "markdown",
   "metadata": {},
   "source": [
    "Como estamos manejando series de tiempo, usamos esta variable como indice de nuestra tabla."
   ]
  },
  {
   "cell_type": "code",
   "execution_count": 30,
   "metadata": {},
   "outputs": [],
   "source": [
    "df.set_index(\"datetime\", inplace=True)"
   ]
  },
  {
   "cell_type": "markdown",
   "metadata": {},
   "source": [
    "La variables de clima se dan por razon de dia, asi por lo que se repiten a lo largo del transucrso de las horas; vamos a eliminar los dator repetidos y quedarnos con un dato por dia; hacemos esto haciend un remuestreo de los datos por dia tomando el promedio de los datos de todo un dia; como los datos son los mismos por dia el promedio sera igual a los valores."
   ]
  },
  {
   "cell_type": "code",
   "execution_count": 31,
   "metadata": {},
   "outputs": [],
   "source": [
    "df_mean = df.resample(\"1D\").mean()"
   ]
  },
  {
   "cell_type": "code",
   "execution_count": 32,
   "metadata": {},
   "outputs": [
    {
     "data": {
      "text/html": [
       "<div>\n",
       "<style scoped>\n",
       "    .dataframe tbody tr th:only-of-type {\n",
       "        vertical-align: middle;\n",
       "    }\n",
       "\n",
       "    .dataframe tbody tr th {\n",
       "        vertical-align: top;\n",
       "    }\n",
       "\n",
       "    .dataframe thead th {\n",
       "        text-align: right;\n",
       "    }\n",
       "</style>\n",
       "<table border=\"1\" class=\"dataframe\">\n",
       "  <thead>\n",
       "    <tr style=\"text-align: right;\">\n",
       "      <th></th>\n",
       "      <th>tmax-cab</th>\n",
       "      <th>tmax-hmo</th>\n",
       "      <th>tmax-obr</th>\n",
       "      <th>tmax-lmo</th>\n",
       "      <th>tmax-cul</th>\n",
       "      <th>tmin-cab</th>\n",
       "      <th>tmin-hmo</th>\n",
       "      <th>tmin-obr</th>\n",
       "      <th>tmin-lmo</th>\n",
       "      <th>tmin-cul</th>\n",
       "      <th>...</th>\n",
       "      <th>martes_postfestivo</th>\n",
       "      <th>semana_santa</th>\n",
       "      <th>1_mayo</th>\n",
       "      <th>10_mayo</th>\n",
       "      <th>16_sep</th>\n",
       "      <th>2_nov.</th>\n",
       "      <th>pre-navidad_y_new_year</th>\n",
       "      <th>navidad_y_new_year</th>\n",
       "      <th>post-navidad_y_new_year</th>\n",
       "      <th>demanda_energia</th>\n",
       "    </tr>\n",
       "    <tr>\n",
       "      <th>datetime</th>\n",
       "      <th></th>\n",
       "      <th></th>\n",
       "      <th></th>\n",
       "      <th></th>\n",
       "      <th></th>\n",
       "      <th></th>\n",
       "      <th></th>\n",
       "      <th></th>\n",
       "      <th></th>\n",
       "      <th></th>\n",
       "      <th></th>\n",
       "      <th></th>\n",
       "      <th></th>\n",
       "      <th></th>\n",
       "      <th></th>\n",
       "      <th></th>\n",
       "      <th></th>\n",
       "      <th></th>\n",
       "      <th></th>\n",
       "      <th></th>\n",
       "      <th></th>\n",
       "    </tr>\n",
       "  </thead>\n",
       "  <tbody>\n",
       "    <tr>\n",
       "      <th>2007-01-01</th>\n",
       "      <td>21.0</td>\n",
       "      <td>22.0</td>\n",
       "      <td>25.0</td>\n",
       "      <td>30.0</td>\n",
       "      <td>29.0</td>\n",
       "      <td>2.0</td>\n",
       "      <td>9.0</td>\n",
       "      <td>8.0</td>\n",
       "      <td>10.0</td>\n",
       "      <td>9.0</td>\n",
       "      <td>...</td>\n",
       "      <td>0.0</td>\n",
       "      <td>0.0</td>\n",
       "      <td>0.0</td>\n",
       "      <td>0.0</td>\n",
       "      <td>0.0</td>\n",
       "      <td>0.0</td>\n",
       "      <td>0.0</td>\n",
       "      <td>1.0</td>\n",
       "      <td>0.0</td>\n",
       "      <td>1165.250000</td>\n",
       "    </tr>\n",
       "    <tr>\n",
       "      <th>2007-01-02</th>\n",
       "      <td>21.0</td>\n",
       "      <td>22.0</td>\n",
       "      <td>22.0</td>\n",
       "      <td>22.0</td>\n",
       "      <td>27.0</td>\n",
       "      <td>2.0</td>\n",
       "      <td>7.0</td>\n",
       "      <td>7.0</td>\n",
       "      <td>11.0</td>\n",
       "      <td>14.0</td>\n",
       "      <td>...</td>\n",
       "      <td>0.0</td>\n",
       "      <td>0.0</td>\n",
       "      <td>0.0</td>\n",
       "      <td>0.0</td>\n",
       "      <td>0.0</td>\n",
       "      <td>0.0</td>\n",
       "      <td>0.0</td>\n",
       "      <td>0.0</td>\n",
       "      <td>1.0</td>\n",
       "      <td>1335.416667</td>\n",
       "    </tr>\n",
       "    <tr>\n",
       "      <th>2007-01-03</th>\n",
       "      <td>22.0</td>\n",
       "      <td>22.0</td>\n",
       "      <td>23.0</td>\n",
       "      <td>25.0</td>\n",
       "      <td>27.0</td>\n",
       "      <td>6.0</td>\n",
       "      <td>6.0</td>\n",
       "      <td>10.0</td>\n",
       "      <td>11.0</td>\n",
       "      <td>15.0</td>\n",
       "      <td>...</td>\n",
       "      <td>0.0</td>\n",
       "      <td>0.0</td>\n",
       "      <td>0.0</td>\n",
       "      <td>0.0</td>\n",
       "      <td>0.0</td>\n",
       "      <td>0.0</td>\n",
       "      <td>0.0</td>\n",
       "      <td>0.0</td>\n",
       "      <td>0.0</td>\n",
       "      <td>1452.125000</td>\n",
       "    </tr>\n",
       "    <tr>\n",
       "      <th>2007-01-04</th>\n",
       "      <td>22.0</td>\n",
       "      <td>24.0</td>\n",
       "      <td>26.0</td>\n",
       "      <td>26.0</td>\n",
       "      <td>28.0</td>\n",
       "      <td>5.0</td>\n",
       "      <td>11.0</td>\n",
       "      <td>9.0</td>\n",
       "      <td>11.0</td>\n",
       "      <td>10.0</td>\n",
       "      <td>...</td>\n",
       "      <td>0.0</td>\n",
       "      <td>0.0</td>\n",
       "      <td>0.0</td>\n",
       "      <td>0.0</td>\n",
       "      <td>0.0</td>\n",
       "      <td>0.0</td>\n",
       "      <td>0.0</td>\n",
       "      <td>0.0</td>\n",
       "      <td>0.0</td>\n",
       "      <td>1457.750000</td>\n",
       "    </tr>\n",
       "    <tr>\n",
       "      <th>2007-01-05</th>\n",
       "      <td>24.0</td>\n",
       "      <td>21.0</td>\n",
       "      <td>25.0</td>\n",
       "      <td>28.0</td>\n",
       "      <td>29.0</td>\n",
       "      <td>6.0</td>\n",
       "      <td>10.0</td>\n",
       "      <td>9.0</td>\n",
       "      <td>10.0</td>\n",
       "      <td>10.0</td>\n",
       "      <td>...</td>\n",
       "      <td>0.0</td>\n",
       "      <td>0.0</td>\n",
       "      <td>0.0</td>\n",
       "      <td>0.0</td>\n",
       "      <td>0.0</td>\n",
       "      <td>0.0</td>\n",
       "      <td>0.0</td>\n",
       "      <td>0.0</td>\n",
       "      <td>0.0</td>\n",
       "      <td>1458.208333</td>\n",
       "    </tr>\n",
       "  </tbody>\n",
       "</table>\n",
       "<p>5 rows × 25 columns</p>\n",
       "</div>"
      ],
      "text/plain": [
       "            tmax-cab  tmax-hmo  tmax-obr  tmax-lmo  tmax-cul  tmin-cab  \\\n",
       "datetime                                                                 \n",
       "2007-01-01      21.0      22.0      25.0      30.0      29.0       2.0   \n",
       "2007-01-02      21.0      22.0      22.0      22.0      27.0       2.0   \n",
       "2007-01-03      22.0      22.0      23.0      25.0      27.0       6.0   \n",
       "2007-01-04      22.0      24.0      26.0      26.0      28.0       5.0   \n",
       "2007-01-05      24.0      21.0      25.0      28.0      29.0       6.0   \n",
       "\n",
       "            tmin-hmo  tmin-obr  tmin-lmo  tmin-cul  ...  martes_postfestivo  \\\n",
       "datetime                                            ...                       \n",
       "2007-01-01       9.0       8.0      10.0       9.0  ...                 0.0   \n",
       "2007-01-02       7.0       7.0      11.0      14.0  ...                 0.0   \n",
       "2007-01-03       6.0      10.0      11.0      15.0  ...                 0.0   \n",
       "2007-01-04      11.0       9.0      11.0      10.0  ...                 0.0   \n",
       "2007-01-05      10.0       9.0      10.0      10.0  ...                 0.0   \n",
       "\n",
       "            semana_santa  1_mayo  10_mayo  16_sep  2_nov.  \\\n",
       "datetime                                                    \n",
       "2007-01-01           0.0     0.0      0.0     0.0     0.0   \n",
       "2007-01-02           0.0     0.0      0.0     0.0     0.0   \n",
       "2007-01-03           0.0     0.0      0.0     0.0     0.0   \n",
       "2007-01-04           0.0     0.0      0.0     0.0     0.0   \n",
       "2007-01-05           0.0     0.0      0.0     0.0     0.0   \n",
       "\n",
       "            pre-navidad_y_new_year  navidad_y_new_year  \\\n",
       "datetime                                                 \n",
       "2007-01-01                     0.0                 1.0   \n",
       "2007-01-02                     0.0                 0.0   \n",
       "2007-01-03                     0.0                 0.0   \n",
       "2007-01-04                     0.0                 0.0   \n",
       "2007-01-05                     0.0                 0.0   \n",
       "\n",
       "            post-navidad_y_new_year  demanda_energia  \n",
       "datetime                                              \n",
       "2007-01-01                      0.0      1165.250000  \n",
       "2007-01-02                      1.0      1335.416667  \n",
       "2007-01-03                      0.0      1452.125000  \n",
       "2007-01-04                      0.0      1457.750000  \n",
       "2007-01-05                      0.0      1458.208333  \n",
       "\n",
       "[5 rows x 25 columns]"
      ]
     },
     "execution_count": 32,
     "metadata": {},
     "output_type": "execute_result"
    }
   ],
   "source": [
    "df_mean.head()"
   ]
  },
  {
   "cell_type": "markdown",
   "metadata": {},
   "source": [
    "Tomamos los valores que pertenescan al clima."
   ]
  },
  {
   "cell_type": "code",
   "execution_count": 33,
   "metadata": {},
   "outputs": [],
   "source": [
    "resumen_clima = ['tmax-cab', 'tmax-hmo', 'tmax-obr',\n",
    "       'tmax-lmo', 'tmax-cul', 'tmin-cab', 'tmin-hmo', 'tmin-obr', 'tmin-lmo',\n",
    "       'tmin-cul', 'prec_hmo_mm', 'prec_obr_mm', 'prec_lmo_mm', 'prec_cul_mm']\n",
    "\n",
    "df_clima = df[resumen_clima]"
   ]
  },
  {
   "cell_type": "markdown",
   "metadata": {},
   "source": [
    "Sacamos los 10 componentes principales de los valores df_clima"
   ]
  },
  {
   "cell_type": "code",
   "execution_count": 40,
   "metadata": {},
   "outputs": [
    {
     "data": {
      "text/html": [
       "<div>\n",
       "<style scoped>\n",
       "    .dataframe tbody tr th:only-of-type {\n",
       "        vertical-align: middle;\n",
       "    }\n",
       "\n",
       "    .dataframe tbody tr th {\n",
       "        vertical-align: top;\n",
       "    }\n",
       "\n",
       "    .dataframe thead th {\n",
       "        text-align: right;\n",
       "    }\n",
       "</style>\n",
       "<table border=\"1\" class=\"dataframe\">\n",
       "  <thead>\n",
       "    <tr style=\"text-align: right;\">\n",
       "      <th></th>\n",
       "      <th>PC 1</th>\n",
       "      <th>PC 2</th>\n",
       "      <th>PC 3</th>\n",
       "      <th>PC 4</th>\n",
       "      <th>PC 5</th>\n",
       "      <th>PC 6</th>\n",
       "      <th>PC 7</th>\n",
       "      <th>PC 8</th>\n",
       "      <th>PC 9</th>\n",
       "      <th>PC 10</th>\n",
       "    </tr>\n",
       "  </thead>\n",
       "  <tbody>\n",
       "    <tr>\n",
       "      <th>tmax-cab</th>\n",
       "      <td>-0.321841</td>\n",
       "      <td>-0.046594</td>\n",
       "      <td>0.006603</td>\n",
       "      <td>0.045792</td>\n",
       "      <td>0.016737</td>\n",
       "      <td>0.200631</td>\n",
       "      <td>-0.437810</td>\n",
       "      <td>-0.137434</td>\n",
       "      <td>-0.094097</td>\n",
       "      <td>-0.185862</td>\n",
       "    </tr>\n",
       "    <tr>\n",
       "      <th>tmax-hmo</th>\n",
       "      <td>-0.316232</td>\n",
       "      <td>-0.101055</td>\n",
       "      <td>0.017197</td>\n",
       "      <td>0.066787</td>\n",
       "      <td>0.029020</td>\n",
       "      <td>0.311966</td>\n",
       "      <td>-0.388686</td>\n",
       "      <td>-0.125074</td>\n",
       "      <td>0.251413</td>\n",
       "      <td>0.132946</td>\n",
       "    </tr>\n",
       "    <tr>\n",
       "      <th>tmax-obr</th>\n",
       "      <td>-0.316850</td>\n",
       "      <td>-0.123220</td>\n",
       "      <td>0.018398</td>\n",
       "      <td>0.038945</td>\n",
       "      <td>0.043874</td>\n",
       "      <td>0.292611</td>\n",
       "      <td>-0.065332</td>\n",
       "      <td>-0.232685</td>\n",
       "      <td>0.343085</td>\n",
       "      <td>-0.004761</td>\n",
       "    </tr>\n",
       "    <tr>\n",
       "      <th>tmax-lmo</th>\n",
       "      <td>-0.299939</td>\n",
       "      <td>-0.115873</td>\n",
       "      <td>-0.020361</td>\n",
       "      <td>0.019542</td>\n",
       "      <td>0.017605</td>\n",
       "      <td>0.326914</td>\n",
       "      <td>0.255679</td>\n",
       "      <td>0.764762</td>\n",
       "      <td>0.021471</td>\n",
       "      <td>-0.347949</td>\n",
       "    </tr>\n",
       "    <tr>\n",
       "      <th>tmax-cul</th>\n",
       "      <td>-0.291360</td>\n",
       "      <td>-0.162668</td>\n",
       "      <td>-0.094003</td>\n",
       "      <td>0.062216</td>\n",
       "      <td>0.032496</td>\n",
       "      <td>0.323904</td>\n",
       "      <td>0.636059</td>\n",
       "      <td>-0.326044</td>\n",
       "      <td>-0.328759</td>\n",
       "      <td>0.340538</td>\n",
       "    </tr>\n",
       "    <tr>\n",
       "      <th>tmin-cab</th>\n",
       "      <td>-0.319997</td>\n",
       "      <td>0.063115</td>\n",
       "      <td>-0.002421</td>\n",
       "      <td>-0.034962</td>\n",
       "      <td>-0.013788</td>\n",
       "      <td>-0.203996</td>\n",
       "      <td>-0.173196</td>\n",
       "      <td>-0.048118</td>\n",
       "      <td>-0.655119</td>\n",
       "      <td>-0.276863</td>\n",
       "    </tr>\n",
       "    <tr>\n",
       "      <th>tmin-hmo</th>\n",
       "      <td>-0.324657</td>\n",
       "      <td>0.032336</td>\n",
       "      <td>0.013136</td>\n",
       "      <td>-0.005087</td>\n",
       "      <td>-0.019756</td>\n",
       "      <td>-0.203018</td>\n",
       "      <td>-0.202347</td>\n",
       "      <td>0.266936</td>\n",
       "      <td>-0.216444</td>\n",
       "      <td>0.426344</td>\n",
       "    </tr>\n",
       "    <tr>\n",
       "      <th>tmin-obr</th>\n",
       "      <td>-0.324175</td>\n",
       "      <td>0.049822</td>\n",
       "      <td>0.007922</td>\n",
       "      <td>-0.043330</td>\n",
       "      <td>-0.008311</td>\n",
       "      <td>-0.356177</td>\n",
       "      <td>0.012053</td>\n",
       "      <td>-0.036640</td>\n",
       "      <td>0.010212</td>\n",
       "      <td>0.157784</td>\n",
       "    </tr>\n",
       "    <tr>\n",
       "      <th>tmin-lmo</th>\n",
       "      <td>-0.314163</td>\n",
       "      <td>0.063873</td>\n",
       "      <td>0.000890</td>\n",
       "      <td>-0.052479</td>\n",
       "      <td>-0.035180</td>\n",
       "      <td>-0.376339</td>\n",
       "      <td>0.129777</td>\n",
       "      <td>0.210534</td>\n",
       "      <td>0.395066</td>\n",
       "      <td>0.321482</td>\n",
       "    </tr>\n",
       "    <tr>\n",
       "      <th>tmin-cul</th>\n",
       "      <td>-0.312980</td>\n",
       "      <td>0.019248</td>\n",
       "      <td>-0.028922</td>\n",
       "      <td>-0.018333</td>\n",
       "      <td>0.000480</td>\n",
       "      <td>-0.362353</td>\n",
       "      <td>0.286795</td>\n",
       "      <td>-0.313174</td>\n",
       "      <td>0.259522</td>\n",
       "      <td>-0.569034</td>\n",
       "    </tr>\n",
       "    <tr>\n",
       "      <th>prec_hmo_mm</th>\n",
       "      <td>-0.051183</td>\n",
       "      <td>0.467246</td>\n",
       "      <td>-0.395262</td>\n",
       "      <td>-0.689333</td>\n",
       "      <td>0.336975</td>\n",
       "      <td>0.178789</td>\n",
       "      <td>-0.006529</td>\n",
       "      <td>-0.019351</td>\n",
       "      <td>0.027730</td>\n",
       "      <td>0.013171</td>\n",
       "    </tr>\n",
       "    <tr>\n",
       "      <th>prec_obr_mm</th>\n",
       "      <td>-0.048170</td>\n",
       "      <td>0.515795</td>\n",
       "      <td>-0.440673</td>\n",
       "      <td>0.327220</td>\n",
       "      <td>-0.641246</td>\n",
       "      <td>0.128118</td>\n",
       "      <td>0.006992</td>\n",
       "      <td>-0.010472</td>\n",
       "      <td>0.036007</td>\n",
       "      <td>-0.007367</td>\n",
       "    </tr>\n",
       "    <tr>\n",
       "      <th>prec_lmo_mm</th>\n",
       "      <td>-0.031307</td>\n",
       "      <td>0.528719</td>\n",
       "      <td>0.168937</td>\n",
       "      <td>0.565625</td>\n",
       "      <td>0.605799</td>\n",
       "      <td>0.026121</td>\n",
       "      <td>0.054134</td>\n",
       "      <td>0.017217</td>\n",
       "      <td>0.002446</td>\n",
       "      <td>0.005235</td>\n",
       "    </tr>\n",
       "    <tr>\n",
       "      <th>prec_cul_mm</th>\n",
       "      <td>-0.075524</td>\n",
       "      <td>0.395825</td>\n",
       "      <td>0.781043</td>\n",
       "      <td>-0.281552</td>\n",
       "      <td>-0.319309</td>\n",
       "      <td>0.182569</td>\n",
       "      <td>0.099165</td>\n",
       "      <td>-0.045437</td>\n",
       "      <td>-0.007344</td>\n",
       "      <td>0.000981</td>\n",
       "    </tr>\n",
       "  </tbody>\n",
       "</table>\n",
       "</div>"
      ],
      "text/plain": [
       "                 PC 1      PC 2      PC 3      PC 4      PC 5      PC 6  \\\n",
       "tmax-cab    -0.321841 -0.046594  0.006603  0.045792  0.016737  0.200631   \n",
       "tmax-hmo    -0.316232 -0.101055  0.017197  0.066787  0.029020  0.311966   \n",
       "tmax-obr    -0.316850 -0.123220  0.018398  0.038945  0.043874  0.292611   \n",
       "tmax-lmo    -0.299939 -0.115873 -0.020361  0.019542  0.017605  0.326914   \n",
       "tmax-cul    -0.291360 -0.162668 -0.094003  0.062216  0.032496  0.323904   \n",
       "tmin-cab    -0.319997  0.063115 -0.002421 -0.034962 -0.013788 -0.203996   \n",
       "tmin-hmo    -0.324657  0.032336  0.013136 -0.005087 -0.019756 -0.203018   \n",
       "tmin-obr    -0.324175  0.049822  0.007922 -0.043330 -0.008311 -0.356177   \n",
       "tmin-lmo    -0.314163  0.063873  0.000890 -0.052479 -0.035180 -0.376339   \n",
       "tmin-cul    -0.312980  0.019248 -0.028922 -0.018333  0.000480 -0.362353   \n",
       "prec_hmo_mm -0.051183  0.467246 -0.395262 -0.689333  0.336975  0.178789   \n",
       "prec_obr_mm -0.048170  0.515795 -0.440673  0.327220 -0.641246  0.128118   \n",
       "prec_lmo_mm -0.031307  0.528719  0.168937  0.565625  0.605799  0.026121   \n",
       "prec_cul_mm -0.075524  0.395825  0.781043 -0.281552 -0.319309  0.182569   \n",
       "\n",
       "                 PC 7      PC 8      PC 9     PC 10  \n",
       "tmax-cab    -0.437810 -0.137434 -0.094097 -0.185862  \n",
       "tmax-hmo    -0.388686 -0.125074  0.251413  0.132946  \n",
       "tmax-obr    -0.065332 -0.232685  0.343085 -0.004761  \n",
       "tmax-lmo     0.255679  0.764762  0.021471 -0.347949  \n",
       "tmax-cul     0.636059 -0.326044 -0.328759  0.340538  \n",
       "tmin-cab    -0.173196 -0.048118 -0.655119 -0.276863  \n",
       "tmin-hmo    -0.202347  0.266936 -0.216444  0.426344  \n",
       "tmin-obr     0.012053 -0.036640  0.010212  0.157784  \n",
       "tmin-lmo     0.129777  0.210534  0.395066  0.321482  \n",
       "tmin-cul     0.286795 -0.313174  0.259522 -0.569034  \n",
       "prec_hmo_mm -0.006529 -0.019351  0.027730  0.013171  \n",
       "prec_obr_mm  0.006992 -0.010472  0.036007 -0.007367  \n",
       "prec_lmo_mm  0.054134  0.017217  0.002446  0.005235  \n",
       "prec_cul_mm  0.099165 -0.045437 -0.007344  0.000981  "
      ]
     },
     "execution_count": 40,
     "metadata": {},
     "output_type": "execute_result"
    }
   ],
   "source": [
    "datos_clima = df_clima.values\n",
    "\n",
    "n_components = 10\n",
    "pipe = Pipeline(\n",
    "    [('scaler', StandardScaler()), \n",
    "     ('pca', PCA(n_components=n_components))]\n",
    ")\n",
    "\n",
    "pipe.fit(datos_clima)\n",
    "\n",
    "pca = pipe.get_params()['pca']\n",
    "\n",
    "pd.DataFrame(\n",
    "    pca.components_.T, \n",
    "    columns=[f'PC {x}' for x in range(1,n_components+1)],\n",
    "    index = df_clima.columns\n",
    ")"
   ]
  },
  {
   "cell_type": "code",
   "execution_count": 43,
   "metadata": {},
   "outputs": [
    {
     "name": "stdout",
     "output_type": "stream",
     "text": [
      "Varianza por componente:  [8.46210975 1.75037496 0.8720356  0.78443136 0.61389572 0.52296502\n",
      " 0.28332862 0.21712031 0.15694906 0.09993889]\n",
      "Porcentaje de varianza explicada por componente:  [0.60443192 0.12502585 0.06228779 0.0560304  0.04384937 0.03735437\n",
      " 0.02023761 0.01550848 0.01121056 0.00713844]\n"
     ]
    },
    {
     "data": {
      "text/html": [
       "<div>\n",
       "<style scoped>\n",
       "    .dataframe tbody tr th:only-of-type {\n",
       "        vertical-align: middle;\n",
       "    }\n",
       "\n",
       "    .dataframe tbody tr th {\n",
       "        vertical-align: top;\n",
       "    }\n",
       "\n",
       "    .dataframe thead th {\n",
       "        text-align: right;\n",
       "    }\n",
       "</style>\n",
       "<table border=\"1\" class=\"dataframe\">\n",
       "  <thead>\n",
       "    <tr style=\"text-align: right;\">\n",
       "      <th></th>\n",
       "      <th>Varianza explicada</th>\n",
       "      <th>Componente</th>\n",
       "    </tr>\n",
       "  </thead>\n",
       "  <tbody>\n",
       "    <tr>\n",
       "      <th>0</th>\n",
       "      <td>0.604432</td>\n",
       "      <td>PC 1</td>\n",
       "    </tr>\n",
       "    <tr>\n",
       "      <th>1</th>\n",
       "      <td>0.729458</td>\n",
       "      <td>PC 2</td>\n",
       "    </tr>\n",
       "    <tr>\n",
       "      <th>2</th>\n",
       "      <td>0.791746</td>\n",
       "      <td>PC 3</td>\n",
       "    </tr>\n",
       "    <tr>\n",
       "      <th>3</th>\n",
       "      <td>0.847776</td>\n",
       "      <td>PC 4</td>\n",
       "    </tr>\n",
       "    <tr>\n",
       "      <th>4</th>\n",
       "      <td>0.891625</td>\n",
       "      <td>PC 5</td>\n",
       "    </tr>\n",
       "    <tr>\n",
       "      <th>5</th>\n",
       "      <td>0.928980</td>\n",
       "      <td>PC 6</td>\n",
       "    </tr>\n",
       "    <tr>\n",
       "      <th>6</th>\n",
       "      <td>0.949217</td>\n",
       "      <td>PC 7</td>\n",
       "    </tr>\n",
       "    <tr>\n",
       "      <th>7</th>\n",
       "      <td>0.964726</td>\n",
       "      <td>PC 8</td>\n",
       "    </tr>\n",
       "    <tr>\n",
       "      <th>8</th>\n",
       "      <td>0.975936</td>\n",
       "      <td>PC 9</td>\n",
       "    </tr>\n",
       "    <tr>\n",
       "      <th>9</th>\n",
       "      <td>0.983075</td>\n",
       "      <td>PC 10</td>\n",
       "    </tr>\n",
       "  </tbody>\n",
       "</table>\n",
       "</div>"
      ],
      "text/plain": [
       "   Varianza explicada Componente\n",
       "0            0.604432       PC 1\n",
       "1            0.729458       PC 2\n",
       "2            0.791746       PC 3\n",
       "3            0.847776       PC 4\n",
       "4            0.891625       PC 5\n",
       "5            0.928980       PC 6\n",
       "6            0.949217       PC 7\n",
       "7            0.964726       PC 8\n",
       "8            0.975936       PC 9\n",
       "9            0.983075      PC 10"
      ]
     },
     "execution_count": 43,
     "metadata": {},
     "output_type": "execute_result"
    }
   ],
   "source": [
    "import numpy as np\n",
    "import plotly.express as px\n",
    "\n",
    "print(\"Varianza por componente: \", pca.explained_variance_)\n",
    "print(\"Porcentaje de varianza explicada por componente: \", \n",
    "      pca.explained_variance_ratio_)\n",
    "\n",
    "df_ev = pd.DataFrame({\n",
    "    \"Varianza explicada\": np.cumsum(pca.explained_variance_ratio_),\n",
    "    \"Componente\": [f'PC {x}' for x in range(1,n_components+1)]\n",
    "})\n",
    "df_ev"
   ]
  },
  {
   "cell_type": "code",
   "execution_count": 44,
   "metadata": {},
   "outputs": [
    {
     "data": {
      "application/vnd.plotly.v1+json": {
       "config": {
        "plotlyServerURL": "https://plot.ly"
       },
       "data": [
        {
         "hovertemplate": "Componente=%{x}<br>Varianza explicada=%{y}<extra></extra>",
         "legendgroup": "",
         "line": {
          "color": "#636efa",
          "dash": "solid"
         },
         "marker": {
          "symbol": "circle"
         },
         "mode": "lines+markers",
         "name": "",
         "orientation": "v",
         "showlegend": false,
         "type": "scatter",
         "x": [
          "PC 1",
          "PC 2",
          "PC 3",
          "PC 4",
          "PC 5",
          "PC 6",
          "PC 7",
          "PC 8",
          "PC 9",
          "PC 10"
         ],
         "xaxis": "x",
         "y": [
          0.6044319224615662,
          0.7294577769922032,
          0.7917455717468468,
          0.8477759670915529,
          0.8916253355478104,
          0.9289797022093171,
          0.9492173105763335,
          0.9647257892948169,
          0.975936353098281,
          0.9830747925579899
         ],
         "yaxis": "y"
        }
       ],
       "layout": {
        "legend": {
         "tracegroupgap": 0
        },
        "template": {
         "data": {
          "bar": [
           {
            "error_x": {
             "color": "#2a3f5f"
            },
            "error_y": {
             "color": "#2a3f5f"
            },
            "marker": {
             "line": {
              "color": "#E5ECF6",
              "width": 0.5
             },
             "pattern": {
              "fillmode": "overlay",
              "size": 10,
              "solidity": 0.2
             }
            },
            "type": "bar"
           }
          ],
          "barpolar": [
           {
            "marker": {
             "line": {
              "color": "#E5ECF6",
              "width": 0.5
             },
             "pattern": {
              "fillmode": "overlay",
              "size": 10,
              "solidity": 0.2
             }
            },
            "type": "barpolar"
           }
          ],
          "carpet": [
           {
            "aaxis": {
             "endlinecolor": "#2a3f5f",
             "gridcolor": "white",
             "linecolor": "white",
             "minorgridcolor": "white",
             "startlinecolor": "#2a3f5f"
            },
            "baxis": {
             "endlinecolor": "#2a3f5f",
             "gridcolor": "white",
             "linecolor": "white",
             "minorgridcolor": "white",
             "startlinecolor": "#2a3f5f"
            },
            "type": "carpet"
           }
          ],
          "choropleth": [
           {
            "colorbar": {
             "outlinewidth": 0,
             "ticks": ""
            },
            "type": "choropleth"
           }
          ],
          "contour": [
           {
            "colorbar": {
             "outlinewidth": 0,
             "ticks": ""
            },
            "colorscale": [
             [
              0,
              "#0d0887"
             ],
             [
              0.1111111111111111,
              "#46039f"
             ],
             [
              0.2222222222222222,
              "#7201a8"
             ],
             [
              0.3333333333333333,
              "#9c179e"
             ],
             [
              0.4444444444444444,
              "#bd3786"
             ],
             [
              0.5555555555555556,
              "#d8576b"
             ],
             [
              0.6666666666666666,
              "#ed7953"
             ],
             [
              0.7777777777777778,
              "#fb9f3a"
             ],
             [
              0.8888888888888888,
              "#fdca26"
             ],
             [
              1,
              "#f0f921"
             ]
            ],
            "type": "contour"
           }
          ],
          "contourcarpet": [
           {
            "colorbar": {
             "outlinewidth": 0,
             "ticks": ""
            },
            "type": "contourcarpet"
           }
          ],
          "heatmap": [
           {
            "colorbar": {
             "outlinewidth": 0,
             "ticks": ""
            },
            "colorscale": [
             [
              0,
              "#0d0887"
             ],
             [
              0.1111111111111111,
              "#46039f"
             ],
             [
              0.2222222222222222,
              "#7201a8"
             ],
             [
              0.3333333333333333,
              "#9c179e"
             ],
             [
              0.4444444444444444,
              "#bd3786"
             ],
             [
              0.5555555555555556,
              "#d8576b"
             ],
             [
              0.6666666666666666,
              "#ed7953"
             ],
             [
              0.7777777777777778,
              "#fb9f3a"
             ],
             [
              0.8888888888888888,
              "#fdca26"
             ],
             [
              1,
              "#f0f921"
             ]
            ],
            "type": "heatmap"
           }
          ],
          "heatmapgl": [
           {
            "colorbar": {
             "outlinewidth": 0,
             "ticks": ""
            },
            "colorscale": [
             [
              0,
              "#0d0887"
             ],
             [
              0.1111111111111111,
              "#46039f"
             ],
             [
              0.2222222222222222,
              "#7201a8"
             ],
             [
              0.3333333333333333,
              "#9c179e"
             ],
             [
              0.4444444444444444,
              "#bd3786"
             ],
             [
              0.5555555555555556,
              "#d8576b"
             ],
             [
              0.6666666666666666,
              "#ed7953"
             ],
             [
              0.7777777777777778,
              "#fb9f3a"
             ],
             [
              0.8888888888888888,
              "#fdca26"
             ],
             [
              1,
              "#f0f921"
             ]
            ],
            "type": "heatmapgl"
           }
          ],
          "histogram": [
           {
            "marker": {
             "pattern": {
              "fillmode": "overlay",
              "size": 10,
              "solidity": 0.2
             }
            },
            "type": "histogram"
           }
          ],
          "histogram2d": [
           {
            "colorbar": {
             "outlinewidth": 0,
             "ticks": ""
            },
            "colorscale": [
             [
              0,
              "#0d0887"
             ],
             [
              0.1111111111111111,
              "#46039f"
             ],
             [
              0.2222222222222222,
              "#7201a8"
             ],
             [
              0.3333333333333333,
              "#9c179e"
             ],
             [
              0.4444444444444444,
              "#bd3786"
             ],
             [
              0.5555555555555556,
              "#d8576b"
             ],
             [
              0.6666666666666666,
              "#ed7953"
             ],
             [
              0.7777777777777778,
              "#fb9f3a"
             ],
             [
              0.8888888888888888,
              "#fdca26"
             ],
             [
              1,
              "#f0f921"
             ]
            ],
            "type": "histogram2d"
           }
          ],
          "histogram2dcontour": [
           {
            "colorbar": {
             "outlinewidth": 0,
             "ticks": ""
            },
            "colorscale": [
             [
              0,
              "#0d0887"
             ],
             [
              0.1111111111111111,
              "#46039f"
             ],
             [
              0.2222222222222222,
              "#7201a8"
             ],
             [
              0.3333333333333333,
              "#9c179e"
             ],
             [
              0.4444444444444444,
              "#bd3786"
             ],
             [
              0.5555555555555556,
              "#d8576b"
             ],
             [
              0.6666666666666666,
              "#ed7953"
             ],
             [
              0.7777777777777778,
              "#fb9f3a"
             ],
             [
              0.8888888888888888,
              "#fdca26"
             ],
             [
              1,
              "#f0f921"
             ]
            ],
            "type": "histogram2dcontour"
           }
          ],
          "mesh3d": [
           {
            "colorbar": {
             "outlinewidth": 0,
             "ticks": ""
            },
            "type": "mesh3d"
           }
          ],
          "parcoords": [
           {
            "line": {
             "colorbar": {
              "outlinewidth": 0,
              "ticks": ""
             }
            },
            "type": "parcoords"
           }
          ],
          "pie": [
           {
            "automargin": true,
            "type": "pie"
           }
          ],
          "scatter": [
           {
            "fillpattern": {
             "fillmode": "overlay",
             "size": 10,
             "solidity": 0.2
            },
            "type": "scatter"
           }
          ],
          "scatter3d": [
           {
            "line": {
             "colorbar": {
              "outlinewidth": 0,
              "ticks": ""
             }
            },
            "marker": {
             "colorbar": {
              "outlinewidth": 0,
              "ticks": ""
             }
            },
            "type": "scatter3d"
           }
          ],
          "scattercarpet": [
           {
            "marker": {
             "colorbar": {
              "outlinewidth": 0,
              "ticks": ""
             }
            },
            "type": "scattercarpet"
           }
          ],
          "scattergeo": [
           {
            "marker": {
             "colorbar": {
              "outlinewidth": 0,
              "ticks": ""
             }
            },
            "type": "scattergeo"
           }
          ],
          "scattergl": [
           {
            "marker": {
             "colorbar": {
              "outlinewidth": 0,
              "ticks": ""
             }
            },
            "type": "scattergl"
           }
          ],
          "scattermapbox": [
           {
            "marker": {
             "colorbar": {
              "outlinewidth": 0,
              "ticks": ""
             }
            },
            "type": "scattermapbox"
           }
          ],
          "scatterpolar": [
           {
            "marker": {
             "colorbar": {
              "outlinewidth": 0,
              "ticks": ""
             }
            },
            "type": "scatterpolar"
           }
          ],
          "scatterpolargl": [
           {
            "marker": {
             "colorbar": {
              "outlinewidth": 0,
              "ticks": ""
             }
            },
            "type": "scatterpolargl"
           }
          ],
          "scatterternary": [
           {
            "marker": {
             "colorbar": {
              "outlinewidth": 0,
              "ticks": ""
             }
            },
            "type": "scatterternary"
           }
          ],
          "surface": [
           {
            "colorbar": {
             "outlinewidth": 0,
             "ticks": ""
            },
            "colorscale": [
             [
              0,
              "#0d0887"
             ],
             [
              0.1111111111111111,
              "#46039f"
             ],
             [
              0.2222222222222222,
              "#7201a8"
             ],
             [
              0.3333333333333333,
              "#9c179e"
             ],
             [
              0.4444444444444444,
              "#bd3786"
             ],
             [
              0.5555555555555556,
              "#d8576b"
             ],
             [
              0.6666666666666666,
              "#ed7953"
             ],
             [
              0.7777777777777778,
              "#fb9f3a"
             ],
             [
              0.8888888888888888,
              "#fdca26"
             ],
             [
              1,
              "#f0f921"
             ]
            ],
            "type": "surface"
           }
          ],
          "table": [
           {
            "cells": {
             "fill": {
              "color": "#EBF0F8"
             },
             "line": {
              "color": "white"
             }
            },
            "header": {
             "fill": {
              "color": "#C8D4E3"
             },
             "line": {
              "color": "white"
             }
            },
            "type": "table"
           }
          ]
         },
         "layout": {
          "annotationdefaults": {
           "arrowcolor": "#2a3f5f",
           "arrowhead": 0,
           "arrowwidth": 1
          },
          "autotypenumbers": "strict",
          "coloraxis": {
           "colorbar": {
            "outlinewidth": 0,
            "ticks": ""
           }
          },
          "colorscale": {
           "diverging": [
            [
             0,
             "#8e0152"
            ],
            [
             0.1,
             "#c51b7d"
            ],
            [
             0.2,
             "#de77ae"
            ],
            [
             0.3,
             "#f1b6da"
            ],
            [
             0.4,
             "#fde0ef"
            ],
            [
             0.5,
             "#f7f7f7"
            ],
            [
             0.6,
             "#e6f5d0"
            ],
            [
             0.7,
             "#b8e186"
            ],
            [
             0.8,
             "#7fbc41"
            ],
            [
             0.9,
             "#4d9221"
            ],
            [
             1,
             "#276419"
            ]
           ],
           "sequential": [
            [
             0,
             "#0d0887"
            ],
            [
             0.1111111111111111,
             "#46039f"
            ],
            [
             0.2222222222222222,
             "#7201a8"
            ],
            [
             0.3333333333333333,
             "#9c179e"
            ],
            [
             0.4444444444444444,
             "#bd3786"
            ],
            [
             0.5555555555555556,
             "#d8576b"
            ],
            [
             0.6666666666666666,
             "#ed7953"
            ],
            [
             0.7777777777777778,
             "#fb9f3a"
            ],
            [
             0.8888888888888888,
             "#fdca26"
            ],
            [
             1,
             "#f0f921"
            ]
           ],
           "sequentialminus": [
            [
             0,
             "#0d0887"
            ],
            [
             0.1111111111111111,
             "#46039f"
            ],
            [
             0.2222222222222222,
             "#7201a8"
            ],
            [
             0.3333333333333333,
             "#9c179e"
            ],
            [
             0.4444444444444444,
             "#bd3786"
            ],
            [
             0.5555555555555556,
             "#d8576b"
            ],
            [
             0.6666666666666666,
             "#ed7953"
            ],
            [
             0.7777777777777778,
             "#fb9f3a"
            ],
            [
             0.8888888888888888,
             "#fdca26"
            ],
            [
             1,
             "#f0f921"
            ]
           ]
          },
          "colorway": [
           "#636efa",
           "#EF553B",
           "#00cc96",
           "#ab63fa",
           "#FFA15A",
           "#19d3f3",
           "#FF6692",
           "#B6E880",
           "#FF97FF",
           "#FECB52"
          ],
          "font": {
           "color": "#2a3f5f"
          },
          "geo": {
           "bgcolor": "white",
           "lakecolor": "white",
           "landcolor": "#E5ECF6",
           "showlakes": true,
           "showland": true,
           "subunitcolor": "white"
          },
          "hoverlabel": {
           "align": "left"
          },
          "hovermode": "closest",
          "mapbox": {
           "style": "light"
          },
          "paper_bgcolor": "white",
          "plot_bgcolor": "#E5ECF6",
          "polar": {
           "angularaxis": {
            "gridcolor": "white",
            "linecolor": "white",
            "ticks": ""
           },
           "bgcolor": "#E5ECF6",
           "radialaxis": {
            "gridcolor": "white",
            "linecolor": "white",
            "ticks": ""
           }
          },
          "scene": {
           "xaxis": {
            "backgroundcolor": "#E5ECF6",
            "gridcolor": "white",
            "gridwidth": 2,
            "linecolor": "white",
            "showbackground": true,
            "ticks": "",
            "zerolinecolor": "white"
           },
           "yaxis": {
            "backgroundcolor": "#E5ECF6",
            "gridcolor": "white",
            "gridwidth": 2,
            "linecolor": "white",
            "showbackground": true,
            "ticks": "",
            "zerolinecolor": "white"
           },
           "zaxis": {
            "backgroundcolor": "#E5ECF6",
            "gridcolor": "white",
            "gridwidth": 2,
            "linecolor": "white",
            "showbackground": true,
            "ticks": "",
            "zerolinecolor": "white"
           }
          },
          "shapedefaults": {
           "line": {
            "color": "#2a3f5f"
           }
          },
          "ternary": {
           "aaxis": {
            "gridcolor": "white",
            "linecolor": "white",
            "ticks": ""
           },
           "baxis": {
            "gridcolor": "white",
            "linecolor": "white",
            "ticks": ""
           },
           "bgcolor": "#E5ECF6",
           "caxis": {
            "gridcolor": "white",
            "linecolor": "white",
            "ticks": ""
           }
          },
          "title": {
           "x": 0.05
          },
          "xaxis": {
           "automargin": true,
           "gridcolor": "white",
           "linecolor": "white",
           "ticks": "",
           "title": {
            "standoff": 15
           },
           "zerolinecolor": "white",
           "zerolinewidth": 2
          },
          "yaxis": {
           "automargin": true,
           "gridcolor": "white",
           "linecolor": "white",
           "ticks": "",
           "title": {
            "standoff": 15
           },
           "zerolinecolor": "white",
           "zerolinewidth": 2
          }
         }
        },
        "title": {
         "text": "Varianza explicada por componente"
        },
        "xaxis": {
         "anchor": "y",
         "domain": [
          0,
          1
         ],
         "title": {
          "text": "Componente"
         }
        },
        "yaxis": {
         "anchor": "x",
         "domain": [
          0,
          1
         ],
         "title": {
          "text": "Varianza explicada"
         }
        }
       }
      }
     },
     "metadata": {},
     "output_type": "display_data"
    }
   ],
   "source": [
    "fig = px.line(df_ev, x='Componente', y='Varianza explicada', markers=True,\n",
    "              title=\"Varianza explicada por componente\")\n",
    "fig.show()"
   ]
  },
  {
   "cell_type": "markdown",
   "metadata": {},
   "source": [
    "Podemos visualizar que los primeros dos coponentes pueden explicar mas del 70% de la varianza, y los 10 componentes principales de los datos de clima pueden expicar alrededordel 98% de la varianza."
   ]
  }
 ],
 "metadata": {
  "kernelspec": {
   "display_name": "machin",
   "language": "python",
   "name": "python3"
  },
  "language_info": {
   "codemirror_mode": {
    "name": "ipython",
    "version": 3
   },
   "file_extension": ".py",
   "mimetype": "text/x-python",
   "name": "python",
   "nbconvert_exporter": "python",
   "pygments_lexer": "ipython3",
   "version": "3.9.19"
  }
 },
 "nbformat": 4,
 "nbformat_minor": 2
}
